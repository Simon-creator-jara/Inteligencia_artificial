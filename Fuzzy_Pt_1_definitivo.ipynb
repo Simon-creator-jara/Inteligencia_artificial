{
  "nbformat": 4,
  "nbformat_minor": 0,
  "metadata": {
    "colab": {
      "name": "Fuzzy_Pt_1_definitivo.ipynb",
      "provenance": [],
      "collapsed_sections": [
        "ihscNfXppk5A",
        "Omhs6miTphGg",
        "JzWcG8V99Vff",
        "oLtLGFZ69pYJ",
        "CyaVAxwptzsB"
      ],
      "include_colab_link": true
    },
    "kernelspec": {
      "name": "python3",
      "display_name": "Python 3"
    },
    "language_info": {
      "name": "python"
    }
  },
  "cells": [
    {
      "cell_type": "markdown",
      "metadata": {
        "id": "view-in-github",
        "colab_type": "text"
      },
      "source": [
        "<a href=\"https://colab.research.google.com/github/Simon-creator-jara/Inteligencia_artificial/blob/main/Fuzzy_Pt_1_definitivo.ipynb\" target=\"_parent\"><img src=\"https://colab.research.google.com/assets/colab-badge.svg\" alt=\"Open In Colab\"/></a>"
      ]
    },
    {
      "cell_type": "markdown",
      "source": [
        "# Ejercicio Fuzzy Potabilidad del agua"
      ],
      "metadata": {
        "id": "i6BPmwGDoN7q"
      }
    },
    {
      "cell_type": "markdown",
      "source": [
        "En este ejercicio de la clase de Razonamiento Aproximado, construiremos un modelo que a través de ciertas reglas lingüísticas de lógica difusa, pueda predecir el pH del agua según ciertas condiciones o datos existentes en una tabla de apoyo."
      ],
      "metadata": {
        "id": "8ScuYbxrofKv"
      }
    },
    {
      "cell_type": "markdown",
      "source": [
        "## 1. Librerías y descarga de la base."
      ],
      "metadata": {
        "id": "ihscNfXppk5A"
      }
    },
    {
      "cell_type": "code",
      "source": [
        "!pip install scikit-fuzzy"
      ],
      "metadata": {
        "id": "Ehl1Tnf27oGk",
        "colab": {
          "base_uri": "https://localhost:8080/"
        },
        "outputId": "1283160e-f24d-4793-da83-bc50e3cc6ad8"
      },
      "execution_count": null,
      "outputs": [
        {
          "output_type": "stream",
          "name": "stdout",
          "text": [
            "Looking in indexes: https://pypi.org/simple, https://us-python.pkg.dev/colab-wheels/public/simple/\n",
            "Collecting scikit-fuzzy\n",
            "  Downloading scikit-fuzzy-0.4.2.tar.gz (993 kB)\n",
            "\u001b[K     |████████████████████████████████| 993 kB 13.4 MB/s \n",
            "\u001b[?25hRequirement already satisfied: numpy>=1.6.0 in /usr/local/lib/python3.7/dist-packages (from scikit-fuzzy) (1.21.6)\n",
            "Requirement already satisfied: scipy>=0.9.0 in /usr/local/lib/python3.7/dist-packages (from scikit-fuzzy) (1.7.3)\n",
            "Requirement already satisfied: networkx>=1.9.0 in /usr/local/lib/python3.7/dist-packages (from scikit-fuzzy) (2.6.3)\n",
            "Building wheels for collected packages: scikit-fuzzy\n",
            "  Building wheel for scikit-fuzzy (setup.py) ... \u001b[?25l\u001b[?25hdone\n",
            "  Created wheel for scikit-fuzzy: filename=scikit_fuzzy-0.4.2-py3-none-any.whl size=894089 sha256=f98cdec6e5619702a56d13f22fc74fc6c5330f1b4e30ec3945f04eeb97052f8e\n",
            "  Stored in directory: /root/.cache/pip/wheels/d5/74/fc/38588a3d2e3f34f74588e6daa3aa5b0a322bd6f9420a707131\n",
            "Successfully built scikit-fuzzy\n",
            "Installing collected packages: scikit-fuzzy\n",
            "Successfully installed scikit-fuzzy-0.4.2\n"
          ]
        }
      ]
    },
    {
      "cell_type": "code",
      "execution_count": null,
      "metadata": {
        "id": "8AIb3gP3bw6c"
      },
      "outputs": [],
      "source": [
        "#Importamos las librerías\n",
        "import pandas as pd\n",
        "import matplotlib.pyplot as plt\n",
        "import seaborn as sns\n",
        "from scipy import stats\n",
        "import numpy as np\n",
        "import skfuzzy as fuzz\n",
        "import pandas as pd\n",
        "from random import seed\n",
        "from random import random\n",
        "plt.rcParams['figure.figsize']=(16,9)\n",
        "plt.style.use('ggplot')"
      ]
    },
    {
      "cell_type": "code",
      "source": [
        "df=pd.read_csv('water_potability.csv')"
      ],
      "metadata": {
        "id": "qDfLqMErb_JU"
      },
      "execution_count": null,
      "outputs": []
    },
    {
      "cell_type": "markdown",
      "source": [
        "## 2. Revisión de los datos."
      ],
      "metadata": {
        "id": "Omhs6miTphGg"
      }
    },
    {
      "cell_type": "markdown",
      "source": [
        "En primer lugar, es necesario entender el problema que se tiene, y por ello es necesario revisar la información que se tiene, y el fin al que se pretende llegar."
      ],
      "metadata": {
        "id": "vYEbZpa-qj44"
      }
    },
    {
      "cell_type": "code",
      "source": [
        "df.sort_values(by='ph')"
      ],
      "metadata": {
        "colab": {
          "base_uri": "https://localhost:8080/"
        },
        "id": "Sne7b7ZiFhNj",
        "outputId": "a4720d95-0521-49b4-ded8-c2a540e1df6e"
      },
      "execution_count": null,
      "outputs": [
        {
          "output_type": "execute_result",
          "data": {
            "text/plain": [
              "            ph    Hardness        Solids  Chloramines     Sulfate  \\\n",
              "3014  0.000000  214.846144  49456.587108     7.897539         NaN   \n",
              "726   0.227499  152.530111  39028.599340     3.462492  283.693782   \n",
              "2928  0.975578  221.204114  31145.110739     7.615583  333.677843   \n",
              "810   0.989912  133.216942  16922.853899     9.293289  444.375731   \n",
              "2899  1.431782  228.130383  12937.246891     6.214773  319.734136   \n",
              "...        ...         ...           ...          ...         ...   \n",
              "3224       NaN  198.218700  31081.735264     7.419106         NaN   \n",
              "3229       NaN  203.204659  10643.186771     6.828936         NaN   \n",
              "3231       NaN  225.754109  28194.452646     5.892830  366.201583   \n",
              "3245       NaN  188.536608  24711.414927     7.129520         NaN   \n",
              "3260       NaN  134.736856   9000.025591     9.026293         NaN   \n",
              "\n",
              "      Conductivity  Organic_carbon  Trihalomethanes  Turbidity  Potability  \n",
              "3014    583.448849        7.702328        77.712891   4.928840           0  \n",
              "726     443.029232       13.201943        62.322711   3.545741           1  \n",
              "2928    439.112765       21.145954              NaN   2.533996           0  \n",
              "810     322.291191       10.430076        43.578466   5.160604           1  \n",
              "2899    495.379883       12.033344        61.141119   4.948443           0  \n",
              "...            ...             ...              ...        ...         ...  \n",
              "3224    517.925946       11.711419        85.428785   3.345543           1  \n",
              "3229    384.597711       16.011328        72.911573   3.065910           1  \n",
              "3231    418.272901       17.306832       103.912548   3.855895           1  \n",
              "3245    555.548534       16.959269        56.038702   4.331691           1  \n",
              "3260    428.213987        8.668672        74.773392   3.699558           1  \n",
              "\n",
              "[3276 rows x 10 columns]"
            ],
            "text/html": [
              "\n",
              "  <div id=\"df-82aae2b8-eaa1-45d3-96c3-80f5d6e9320f\">\n",
              "    <div class=\"colab-df-container\">\n",
              "      <div>\n",
              "<style scoped>\n",
              "    .dataframe tbody tr th:only-of-type {\n",
              "        vertical-align: middle;\n",
              "    }\n",
              "\n",
              "    .dataframe tbody tr th {\n",
              "        vertical-align: top;\n",
              "    }\n",
              "\n",
              "    .dataframe thead th {\n",
              "        text-align: right;\n",
              "    }\n",
              "</style>\n",
              "<table border=\"1\" class=\"dataframe\">\n",
              "  <thead>\n",
              "    <tr style=\"text-align: right;\">\n",
              "      <th></th>\n",
              "      <th>ph</th>\n",
              "      <th>Hardness</th>\n",
              "      <th>Solids</th>\n",
              "      <th>Chloramines</th>\n",
              "      <th>Sulfate</th>\n",
              "      <th>Conductivity</th>\n",
              "      <th>Organic_carbon</th>\n",
              "      <th>Trihalomethanes</th>\n",
              "      <th>Turbidity</th>\n",
              "      <th>Potability</th>\n",
              "    </tr>\n",
              "  </thead>\n",
              "  <tbody>\n",
              "    <tr>\n",
              "      <th>3014</th>\n",
              "      <td>0.000000</td>\n",
              "      <td>214.846144</td>\n",
              "      <td>49456.587108</td>\n",
              "      <td>7.897539</td>\n",
              "      <td>NaN</td>\n",
              "      <td>583.448849</td>\n",
              "      <td>7.702328</td>\n",
              "      <td>77.712891</td>\n",
              "      <td>4.928840</td>\n",
              "      <td>0</td>\n",
              "    </tr>\n",
              "    <tr>\n",
              "      <th>726</th>\n",
              "      <td>0.227499</td>\n",
              "      <td>152.530111</td>\n",
              "      <td>39028.599340</td>\n",
              "      <td>3.462492</td>\n",
              "      <td>283.693782</td>\n",
              "      <td>443.029232</td>\n",
              "      <td>13.201943</td>\n",
              "      <td>62.322711</td>\n",
              "      <td>3.545741</td>\n",
              "      <td>1</td>\n",
              "    </tr>\n",
              "    <tr>\n",
              "      <th>2928</th>\n",
              "      <td>0.975578</td>\n",
              "      <td>221.204114</td>\n",
              "      <td>31145.110739</td>\n",
              "      <td>7.615583</td>\n",
              "      <td>333.677843</td>\n",
              "      <td>439.112765</td>\n",
              "      <td>21.145954</td>\n",
              "      <td>NaN</td>\n",
              "      <td>2.533996</td>\n",
              "      <td>0</td>\n",
              "    </tr>\n",
              "    <tr>\n",
              "      <th>810</th>\n",
              "      <td>0.989912</td>\n",
              "      <td>133.216942</td>\n",
              "      <td>16922.853899</td>\n",
              "      <td>9.293289</td>\n",
              "      <td>444.375731</td>\n",
              "      <td>322.291191</td>\n",
              "      <td>10.430076</td>\n",
              "      <td>43.578466</td>\n",
              "      <td>5.160604</td>\n",
              "      <td>1</td>\n",
              "    </tr>\n",
              "    <tr>\n",
              "      <th>2899</th>\n",
              "      <td>1.431782</td>\n",
              "      <td>228.130383</td>\n",
              "      <td>12937.246891</td>\n",
              "      <td>6.214773</td>\n",
              "      <td>319.734136</td>\n",
              "      <td>495.379883</td>\n",
              "      <td>12.033344</td>\n",
              "      <td>61.141119</td>\n",
              "      <td>4.948443</td>\n",
              "      <td>0</td>\n",
              "    </tr>\n",
              "    <tr>\n",
              "      <th>...</th>\n",
              "      <td>...</td>\n",
              "      <td>...</td>\n",
              "      <td>...</td>\n",
              "      <td>...</td>\n",
              "      <td>...</td>\n",
              "      <td>...</td>\n",
              "      <td>...</td>\n",
              "      <td>...</td>\n",
              "      <td>...</td>\n",
              "      <td>...</td>\n",
              "    </tr>\n",
              "    <tr>\n",
              "      <th>3224</th>\n",
              "      <td>NaN</td>\n",
              "      <td>198.218700</td>\n",
              "      <td>31081.735264</td>\n",
              "      <td>7.419106</td>\n",
              "      <td>NaN</td>\n",
              "      <td>517.925946</td>\n",
              "      <td>11.711419</td>\n",
              "      <td>85.428785</td>\n",
              "      <td>3.345543</td>\n",
              "      <td>1</td>\n",
              "    </tr>\n",
              "    <tr>\n",
              "      <th>3229</th>\n",
              "      <td>NaN</td>\n",
              "      <td>203.204659</td>\n",
              "      <td>10643.186771</td>\n",
              "      <td>6.828936</td>\n",
              "      <td>NaN</td>\n",
              "      <td>384.597711</td>\n",
              "      <td>16.011328</td>\n",
              "      <td>72.911573</td>\n",
              "      <td>3.065910</td>\n",
              "      <td>1</td>\n",
              "    </tr>\n",
              "    <tr>\n",
              "      <th>3231</th>\n",
              "      <td>NaN</td>\n",
              "      <td>225.754109</td>\n",
              "      <td>28194.452646</td>\n",
              "      <td>5.892830</td>\n",
              "      <td>366.201583</td>\n",
              "      <td>418.272901</td>\n",
              "      <td>17.306832</td>\n",
              "      <td>103.912548</td>\n",
              "      <td>3.855895</td>\n",
              "      <td>1</td>\n",
              "    </tr>\n",
              "    <tr>\n",
              "      <th>3245</th>\n",
              "      <td>NaN</td>\n",
              "      <td>188.536608</td>\n",
              "      <td>24711.414927</td>\n",
              "      <td>7.129520</td>\n",
              "      <td>NaN</td>\n",
              "      <td>555.548534</td>\n",
              "      <td>16.959269</td>\n",
              "      <td>56.038702</td>\n",
              "      <td>4.331691</td>\n",
              "      <td>1</td>\n",
              "    </tr>\n",
              "    <tr>\n",
              "      <th>3260</th>\n",
              "      <td>NaN</td>\n",
              "      <td>134.736856</td>\n",
              "      <td>9000.025591</td>\n",
              "      <td>9.026293</td>\n",
              "      <td>NaN</td>\n",
              "      <td>428.213987</td>\n",
              "      <td>8.668672</td>\n",
              "      <td>74.773392</td>\n",
              "      <td>3.699558</td>\n",
              "      <td>1</td>\n",
              "    </tr>\n",
              "  </tbody>\n",
              "</table>\n",
              "<p>3276 rows × 10 columns</p>\n",
              "</div>\n",
              "      <button class=\"colab-df-convert\" onclick=\"convertToInteractive('df-82aae2b8-eaa1-45d3-96c3-80f5d6e9320f')\"\n",
              "              title=\"Convert this dataframe to an interactive table.\"\n",
              "              style=\"display:none;\">\n",
              "        \n",
              "  <svg xmlns=\"http://www.w3.org/2000/svg\" height=\"24px\"viewBox=\"0 0 24 24\"\n",
              "       width=\"24px\">\n",
              "    <path d=\"M0 0h24v24H0V0z\" fill=\"none\"/>\n",
              "    <path d=\"M18.56 5.44l.94 2.06.94-2.06 2.06-.94-2.06-.94-.94-2.06-.94 2.06-2.06.94zm-11 1L8.5 8.5l.94-2.06 2.06-.94-2.06-.94L8.5 2.5l-.94 2.06-2.06.94zm10 10l.94 2.06.94-2.06 2.06-.94-2.06-.94-.94-2.06-.94 2.06-2.06.94z\"/><path d=\"M17.41 7.96l-1.37-1.37c-.4-.4-.92-.59-1.43-.59-.52 0-1.04.2-1.43.59L10.3 9.45l-7.72 7.72c-.78.78-.78 2.05 0 2.83L4 21.41c.39.39.9.59 1.41.59.51 0 1.02-.2 1.41-.59l7.78-7.78 2.81-2.81c.8-.78.8-2.07 0-2.86zM5.41 20L4 18.59l7.72-7.72 1.47 1.35L5.41 20z\"/>\n",
              "  </svg>\n",
              "      </button>\n",
              "      \n",
              "  <style>\n",
              "    .colab-df-container {\n",
              "      display:flex;\n",
              "      flex-wrap:wrap;\n",
              "      gap: 12px;\n",
              "    }\n",
              "\n",
              "    .colab-df-convert {\n",
              "      background-color: #E8F0FE;\n",
              "      border: none;\n",
              "      border-radius: 50%;\n",
              "      cursor: pointer;\n",
              "      display: none;\n",
              "      fill: #1967D2;\n",
              "      height: 32px;\n",
              "      padding: 0 0 0 0;\n",
              "      width: 32px;\n",
              "    }\n",
              "\n",
              "    .colab-df-convert:hover {\n",
              "      background-color: #E2EBFA;\n",
              "      box-shadow: 0px 1px 2px rgba(60, 64, 67, 0.3), 0px 1px 3px 1px rgba(60, 64, 67, 0.15);\n",
              "      fill: #174EA6;\n",
              "    }\n",
              "\n",
              "    [theme=dark] .colab-df-convert {\n",
              "      background-color: #3B4455;\n",
              "      fill: #D2E3FC;\n",
              "    }\n",
              "\n",
              "    [theme=dark] .colab-df-convert:hover {\n",
              "      background-color: #434B5C;\n",
              "      box-shadow: 0px 1px 3px 1px rgba(0, 0, 0, 0.15);\n",
              "      filter: drop-shadow(0px 1px 2px rgba(0, 0, 0, 0.3));\n",
              "      fill: #FFFFFF;\n",
              "    }\n",
              "  </style>\n",
              "\n",
              "      <script>\n",
              "        const buttonEl =\n",
              "          document.querySelector('#df-82aae2b8-eaa1-45d3-96c3-80f5d6e9320f button.colab-df-convert');\n",
              "        buttonEl.style.display =\n",
              "          google.colab.kernel.accessAllowed ? 'block' : 'none';\n",
              "\n",
              "        async function convertToInteractive(key) {\n",
              "          const element = document.querySelector('#df-82aae2b8-eaa1-45d3-96c3-80f5d6e9320f');\n",
              "          const dataTable =\n",
              "            await google.colab.kernel.invokeFunction('convertToInteractive',\n",
              "                                                     [key], {});\n",
              "          if (!dataTable) return;\n",
              "\n",
              "          const docLinkHtml = 'Like what you see? Visit the ' +\n",
              "            '<a target=\"_blank\" href=https://colab.research.google.com/notebooks/data_table.ipynb>data table notebook</a>'\n",
              "            + ' to learn more about interactive tables.';\n",
              "          element.innerHTML = '';\n",
              "          dataTable['output_type'] = 'display_data';\n",
              "          await google.colab.output.renderOutput(dataTable, element);\n",
              "          const docLink = document.createElement('div');\n",
              "          docLink.innerHTML = docLinkHtml;\n",
              "          element.appendChild(docLink);\n",
              "        }\n",
              "      </script>\n",
              "    </div>\n",
              "  </div>\n",
              "  "
            ]
          },
          "metadata": {},
          "execution_count": 5
        }
      ]
    },
    {
      "cell_type": "code",
      "source": [
        "df.info()"
      ],
      "metadata": {
        "colab": {
          "base_uri": "https://localhost:8080/"
        },
        "id": "hIQAL0IDwMkw",
        "outputId": "03ceb735-27f7-4827-f452-15b4c12c0aa0"
      },
      "execution_count": null,
      "outputs": [
        {
          "output_type": "stream",
          "name": "stdout",
          "text": [
            "<class 'pandas.core.frame.DataFrame'>\n",
            "RangeIndex: 3276 entries, 0 to 3275\n",
            "Data columns (total 10 columns):\n",
            " #   Column           Non-Null Count  Dtype  \n",
            "---  ------           --------------  -----  \n",
            " 0   ph               2785 non-null   float64\n",
            " 1   Hardness         3276 non-null   float64\n",
            " 2   Solids           3276 non-null   float64\n",
            " 3   Chloramines      3276 non-null   float64\n",
            " 4   Sulfate          2495 non-null   float64\n",
            " 5   Conductivity     3276 non-null   float64\n",
            " 6   Organic_carbon   3276 non-null   float64\n",
            " 7   Trihalomethanes  3114 non-null   float64\n",
            " 8   Turbidity        3276 non-null   float64\n",
            " 9   Potability       3276 non-null   int64  \n",
            "dtypes: float64(9), int64(1)\n",
            "memory usage: 256.1 KB\n"
          ]
        }
      ]
    },
    {
      "cell_type": "markdown",
      "source": [
        "Tenemos en este caso, un DataFrame con 3276 datos tomados en fuentes hídricas diferentes; el DF en general tiene información referente a la dureza, la cantidad de sólidos, las cloraminas, sulfatos o carbon orgánico suspendido, pero además se encuentran otras propiedades tales como la turbidez del agua, la potabilidad o la conductividad eléctrica.\n",
        "\n",
        "De todas estas columnas, la salida que queremos emular es la del pH, también conocido como potencial de hidrógeno, propiedad que habla de la acidez o la alcalinidad de un fluído, y se mide entre el 0 y el 14, siendo el número bajo una alta acidez, y el 14 la máxima alcalinidad posible...Teniendo todos estos datos en cuenta, lo que pretendemos hacer es poder predecir el pH del agua teniendo en cuenta las relaciones entre sus distintas propiedades (o al menos, las que sean realmente significativas)."
      ],
      "metadata": {
        "id": "je7UcMYfwR9y"
      }
    },
    {
      "cell_type": "code",
      "source": [
        "#Revisamos cuántos vacíos hay en este DataFrame; estos son datos que no nos sirven, o es mejor dejar de lado.\n",
        "df.isna().sum()"
      ],
      "metadata": {
        "colab": {
          "base_uri": "https://localhost:8080/"
        },
        "id": "h6Mb_To7cRyq",
        "outputId": "cb4e2384-a0cb-4577-924e-99bcfd33b940"
      },
      "execution_count": null,
      "outputs": [
        {
          "output_type": "execute_result",
          "data": {
            "text/plain": [
              "ph                 491\n",
              "Hardness             0\n",
              "Solids               0\n",
              "Chloramines          0\n",
              "Sulfate            781\n",
              "Conductivity         0\n",
              "Organic_carbon       0\n",
              "Trihalomethanes    162\n",
              "Turbidity            0\n",
              "Potability           0\n",
              "dtype: int64"
            ]
          },
          "metadata": {},
          "execution_count": 7
        }
      ]
    },
    {
      "cell_type": "code",
      "source": [
        "#Borramos datos vacíos o datos NaN, para dejar la base lo más limpia que se pueda.\n",
        "df=df.dropna()"
      ],
      "metadata": {
        "id": "Dwwib6vpcZbr"
      },
      "execution_count": null,
      "outputs": []
    },
    {
      "cell_type": "markdown",
      "source": [
        "Para garantizar la integridad y completitud de los datos, es sumamente importante hacer una limpieza de elementos vacíos, para dejar únicamente filas que tengan absolutamente todos sus entradas llenas; de otro modo lo que puede ocurrir es que el modelo tenga problemas al encontrar cecldas vacías que pueden ser un input importante para pdoer desarrollar el problema a nivel interno."
      ],
      "metadata": {
        "id": "QhwUNwjxx-ev"
      }
    },
    {
      "cell_type": "code",
      "source": [
        "df.describe()"
      ],
      "metadata": {
        "colab": {
          "base_uri": "https://localhost:8080/"
        },
        "id": "6cjFN5_dcpk5",
        "outputId": "69208d21-2f0c-46df-d025-76f1a6286cbd"
      },
      "execution_count": null,
      "outputs": [
        {
          "output_type": "execute_result",
          "data": {
            "text/plain": [
              "                ph     Hardness        Solids  Chloramines      Sulfate  \\\n",
              "count  2011.000000  2011.000000   2011.000000  2011.000000  2011.000000   \n",
              "mean      7.085990   195.968072  21917.441374     7.134338   333.224672   \n",
              "std       1.573337    32.635085   8642.239815     1.584820    41.205172   \n",
              "min       0.227499    73.492234    320.942611     1.390871   129.000000   \n",
              "25%       6.089723   176.744938  15615.665390     6.138895   307.632511   \n",
              "50%       7.027297   197.191839  20933.512750     7.143907   332.232177   \n",
              "75%       8.052969   216.441070  27182.587067     8.109726   359.330555   \n",
              "max      14.000000   317.338124  56488.672413    13.127000   481.030642   \n",
              "\n",
              "       Conductivity  Organic_carbon  Trihalomethanes    Turbidity   Potability  \n",
              "count   2011.000000     2011.000000      2011.000000  2011.000000  2011.000000  \n",
              "mean     426.526409       14.357709        66.400859     3.969729     0.403282  \n",
              "std       80.712572        3.324959        16.077109     0.780346     0.490678  \n",
              "min      201.619737        2.200000         8.577013     1.450000     0.000000  \n",
              "25%      366.680307       12.124105        55.952664     3.442915     0.000000  \n",
              "50%      423.455906       14.322019        66.542198     3.968177     0.000000  \n",
              "75%      482.373169       16.683049        77.291925     4.514175     1.000000  \n",
              "max      753.342620       27.006707       124.000000     6.494749     1.000000  "
            ],
            "text/html": [
              "\n",
              "  <div id=\"df-d069624b-d2fc-4819-8a63-7b24aadf84ba\">\n",
              "    <div class=\"colab-df-container\">\n",
              "      <div>\n",
              "<style scoped>\n",
              "    .dataframe tbody tr th:only-of-type {\n",
              "        vertical-align: middle;\n",
              "    }\n",
              "\n",
              "    .dataframe tbody tr th {\n",
              "        vertical-align: top;\n",
              "    }\n",
              "\n",
              "    .dataframe thead th {\n",
              "        text-align: right;\n",
              "    }\n",
              "</style>\n",
              "<table border=\"1\" class=\"dataframe\">\n",
              "  <thead>\n",
              "    <tr style=\"text-align: right;\">\n",
              "      <th></th>\n",
              "      <th>ph</th>\n",
              "      <th>Hardness</th>\n",
              "      <th>Solids</th>\n",
              "      <th>Chloramines</th>\n",
              "      <th>Sulfate</th>\n",
              "      <th>Conductivity</th>\n",
              "      <th>Organic_carbon</th>\n",
              "      <th>Trihalomethanes</th>\n",
              "      <th>Turbidity</th>\n",
              "      <th>Potability</th>\n",
              "    </tr>\n",
              "  </thead>\n",
              "  <tbody>\n",
              "    <tr>\n",
              "      <th>count</th>\n",
              "      <td>2011.000000</td>\n",
              "      <td>2011.000000</td>\n",
              "      <td>2011.000000</td>\n",
              "      <td>2011.000000</td>\n",
              "      <td>2011.000000</td>\n",
              "      <td>2011.000000</td>\n",
              "      <td>2011.000000</td>\n",
              "      <td>2011.000000</td>\n",
              "      <td>2011.000000</td>\n",
              "      <td>2011.000000</td>\n",
              "    </tr>\n",
              "    <tr>\n",
              "      <th>mean</th>\n",
              "      <td>7.085990</td>\n",
              "      <td>195.968072</td>\n",
              "      <td>21917.441374</td>\n",
              "      <td>7.134338</td>\n",
              "      <td>333.224672</td>\n",
              "      <td>426.526409</td>\n",
              "      <td>14.357709</td>\n",
              "      <td>66.400859</td>\n",
              "      <td>3.969729</td>\n",
              "      <td>0.403282</td>\n",
              "    </tr>\n",
              "    <tr>\n",
              "      <th>std</th>\n",
              "      <td>1.573337</td>\n",
              "      <td>32.635085</td>\n",
              "      <td>8642.239815</td>\n",
              "      <td>1.584820</td>\n",
              "      <td>41.205172</td>\n",
              "      <td>80.712572</td>\n",
              "      <td>3.324959</td>\n",
              "      <td>16.077109</td>\n",
              "      <td>0.780346</td>\n",
              "      <td>0.490678</td>\n",
              "    </tr>\n",
              "    <tr>\n",
              "      <th>min</th>\n",
              "      <td>0.227499</td>\n",
              "      <td>73.492234</td>\n",
              "      <td>320.942611</td>\n",
              "      <td>1.390871</td>\n",
              "      <td>129.000000</td>\n",
              "      <td>201.619737</td>\n",
              "      <td>2.200000</td>\n",
              "      <td>8.577013</td>\n",
              "      <td>1.450000</td>\n",
              "      <td>0.000000</td>\n",
              "    </tr>\n",
              "    <tr>\n",
              "      <th>25%</th>\n",
              "      <td>6.089723</td>\n",
              "      <td>176.744938</td>\n",
              "      <td>15615.665390</td>\n",
              "      <td>6.138895</td>\n",
              "      <td>307.632511</td>\n",
              "      <td>366.680307</td>\n",
              "      <td>12.124105</td>\n",
              "      <td>55.952664</td>\n",
              "      <td>3.442915</td>\n",
              "      <td>0.000000</td>\n",
              "    </tr>\n",
              "    <tr>\n",
              "      <th>50%</th>\n",
              "      <td>7.027297</td>\n",
              "      <td>197.191839</td>\n",
              "      <td>20933.512750</td>\n",
              "      <td>7.143907</td>\n",
              "      <td>332.232177</td>\n",
              "      <td>423.455906</td>\n",
              "      <td>14.322019</td>\n",
              "      <td>66.542198</td>\n",
              "      <td>3.968177</td>\n",
              "      <td>0.000000</td>\n",
              "    </tr>\n",
              "    <tr>\n",
              "      <th>75%</th>\n",
              "      <td>8.052969</td>\n",
              "      <td>216.441070</td>\n",
              "      <td>27182.587067</td>\n",
              "      <td>8.109726</td>\n",
              "      <td>359.330555</td>\n",
              "      <td>482.373169</td>\n",
              "      <td>16.683049</td>\n",
              "      <td>77.291925</td>\n",
              "      <td>4.514175</td>\n",
              "      <td>1.000000</td>\n",
              "    </tr>\n",
              "    <tr>\n",
              "      <th>max</th>\n",
              "      <td>14.000000</td>\n",
              "      <td>317.338124</td>\n",
              "      <td>56488.672413</td>\n",
              "      <td>13.127000</td>\n",
              "      <td>481.030642</td>\n",
              "      <td>753.342620</td>\n",
              "      <td>27.006707</td>\n",
              "      <td>124.000000</td>\n",
              "      <td>6.494749</td>\n",
              "      <td>1.000000</td>\n",
              "    </tr>\n",
              "  </tbody>\n",
              "</table>\n",
              "</div>\n",
              "      <button class=\"colab-df-convert\" onclick=\"convertToInteractive('df-d069624b-d2fc-4819-8a63-7b24aadf84ba')\"\n",
              "              title=\"Convert this dataframe to an interactive table.\"\n",
              "              style=\"display:none;\">\n",
              "        \n",
              "  <svg xmlns=\"http://www.w3.org/2000/svg\" height=\"24px\"viewBox=\"0 0 24 24\"\n",
              "       width=\"24px\">\n",
              "    <path d=\"M0 0h24v24H0V0z\" fill=\"none\"/>\n",
              "    <path d=\"M18.56 5.44l.94 2.06.94-2.06 2.06-.94-2.06-.94-.94-2.06-.94 2.06-2.06.94zm-11 1L8.5 8.5l.94-2.06 2.06-.94-2.06-.94L8.5 2.5l-.94 2.06-2.06.94zm10 10l.94 2.06.94-2.06 2.06-.94-2.06-.94-.94-2.06-.94 2.06-2.06.94z\"/><path d=\"M17.41 7.96l-1.37-1.37c-.4-.4-.92-.59-1.43-.59-.52 0-1.04.2-1.43.59L10.3 9.45l-7.72 7.72c-.78.78-.78 2.05 0 2.83L4 21.41c.39.39.9.59 1.41.59.51 0 1.02-.2 1.41-.59l7.78-7.78 2.81-2.81c.8-.78.8-2.07 0-2.86zM5.41 20L4 18.59l7.72-7.72 1.47 1.35L5.41 20z\"/>\n",
              "  </svg>\n",
              "      </button>\n",
              "      \n",
              "  <style>\n",
              "    .colab-df-container {\n",
              "      display:flex;\n",
              "      flex-wrap:wrap;\n",
              "      gap: 12px;\n",
              "    }\n",
              "\n",
              "    .colab-df-convert {\n",
              "      background-color: #E8F0FE;\n",
              "      border: none;\n",
              "      border-radius: 50%;\n",
              "      cursor: pointer;\n",
              "      display: none;\n",
              "      fill: #1967D2;\n",
              "      height: 32px;\n",
              "      padding: 0 0 0 0;\n",
              "      width: 32px;\n",
              "    }\n",
              "\n",
              "    .colab-df-convert:hover {\n",
              "      background-color: #E2EBFA;\n",
              "      box-shadow: 0px 1px 2px rgba(60, 64, 67, 0.3), 0px 1px 3px 1px rgba(60, 64, 67, 0.15);\n",
              "      fill: #174EA6;\n",
              "    }\n",
              "\n",
              "    [theme=dark] .colab-df-convert {\n",
              "      background-color: #3B4455;\n",
              "      fill: #D2E3FC;\n",
              "    }\n",
              "\n",
              "    [theme=dark] .colab-df-convert:hover {\n",
              "      background-color: #434B5C;\n",
              "      box-shadow: 0px 1px 3px 1px rgba(0, 0, 0, 0.15);\n",
              "      filter: drop-shadow(0px 1px 2px rgba(0, 0, 0, 0.3));\n",
              "      fill: #FFFFFF;\n",
              "    }\n",
              "  </style>\n",
              "\n",
              "      <script>\n",
              "        const buttonEl =\n",
              "          document.querySelector('#df-d069624b-d2fc-4819-8a63-7b24aadf84ba button.colab-df-convert');\n",
              "        buttonEl.style.display =\n",
              "          google.colab.kernel.accessAllowed ? 'block' : 'none';\n",
              "\n",
              "        async function convertToInteractive(key) {\n",
              "          const element = document.querySelector('#df-d069624b-d2fc-4819-8a63-7b24aadf84ba');\n",
              "          const dataTable =\n",
              "            await google.colab.kernel.invokeFunction('convertToInteractive',\n",
              "                                                     [key], {});\n",
              "          if (!dataTable) return;\n",
              "\n",
              "          const docLinkHtml = 'Like what you see? Visit the ' +\n",
              "            '<a target=\"_blank\" href=https://colab.research.google.com/notebooks/data_table.ipynb>data table notebook</a>'\n",
              "            + ' to learn more about interactive tables.';\n",
              "          element.innerHTML = '';\n",
              "          dataTable['output_type'] = 'display_data';\n",
              "          await google.colab.output.renderOutput(dataTable, element);\n",
              "          const docLink = document.createElement('div');\n",
              "          docLink.innerHTML = docLinkHtml;\n",
              "          element.appendChild(docLink);\n",
              "        }\n",
              "      </script>\n",
              "    </div>\n",
              "  </div>\n",
              "  "
            ]
          },
          "metadata": {},
          "execution_count": 9
        }
      ]
    },
    {
      "cell_type": "markdown",
      "source": [
        "## 3. Identificación de variables relevantes."
      ],
      "metadata": {
        "id": "dv7TE6AdzgQ1"
      }
    },
    {
      "cell_type": "markdown",
      "source": [
        "Ahora bien; como pudimos observar en clase, los modelos difusos tienden a complicarse sobre manera cuando los mismos tienen demasiadas variables lingüísticas fuzzyficadas...Por esto, es necesario hacer una limpieza general del DataFrame y encontrar aquellas variables cuya correlación sea más fuerte con nuestra salida, que será justamente el pH."
      ],
      "metadata": {
        "id": "57_npjPiz2Io"
      }
    },
    {
      "cell_type": "code",
      "source": [
        "corr_df = df.corr(method='pearson')\n",
        "plt.figure(figsize=(8, 6))\n",
        "sns.heatmap(corr_df, annot=True)\n",
        "plt.show()"
      ],
      "metadata": {
        "colab": {
          "base_uri": "https://localhost:8080/",
          "height": 451
        },
        "id": "Bgtn88oPeAFG",
        "outputId": "84c7cde3-2151-4ee5-8bcb-52c1da9b5a30"
      },
      "execution_count": null,
      "outputs": [
        {
          "output_type": "display_data",
          "data": {
            "text/plain": [
              "<Figure size 576x432 with 2 Axes>"
            ],
            "image/png": "[encoded data removed]"
          },
          "metadata": {}
        }
      ]
    },
    {
      "cell_type": "markdown",
      "source": [
        "Estos resultados en general, muestran que al menos para este set de datos, no existe una correlación fuerte entre el pH y alguna de las variables (por fuerte, nos referimos a mayor que 0.6) asociadas; sin embargo, es interesante observar hasta qué punto se puede llegar utilizando las variables con las que contamos, por lo que procedemos a escoger las 2 que más se relacionan con el resultado, siendo estas la dureza del agua y la cantidad de sólidos disueltos."
      ],
      "metadata": {
        "id": "KDHogzVR0kkX"
      }
    },
    {
      "cell_type": "code",
      "source": [
        "dfc = df.loc[:,['ph','Hardness','Solids']]"
      ],
      "metadata": {
        "id": "uD5szIFl1IhP"
      },
      "execution_count": null,
      "outputs": []
    },
    {
      "cell_type": "code",
      "source": [
        "dfc.describe()"
      ],
      "metadata": {
        "colab": {
          "base_uri": "https://localhost:8080/",
          "height": 300
        },
        "id": "trgawyaV6bHQ",
        "outputId": "1bacae12-9d44-4fad-cd55-c667e53f304b"
      },
      "execution_count": null,
      "outputs": [
        {
          "output_type": "execute_result",
          "data": {
            "text/plain": [
              "                ph     Hardness        Solids\n",
              "count  2011.000000  2011.000000   2011.000000\n",
              "mean      7.085990   195.968072  21917.441374\n",
              "std       1.573337    32.635085   8642.239815\n",
              "min       0.227499    73.492234    320.942611\n",
              "25%       6.089723   176.744938  15615.665390\n",
              "50%       7.027297   197.191839  20933.512750\n",
              "75%       8.052969   216.441070  27182.587067\n",
              "max      14.000000   317.338124  56488.672413"
            ],
            "text/html": [
              "\n",
              "  <div id=\"df-e2942e66-95ce-46e6-a8b0-24a9511408ee\">\n",
              "    <div class=\"colab-df-container\">\n",
              "      <div>\n",
              "<style scoped>\n",
              "    .dataframe tbody tr th:only-of-type {\n",
              "        vertical-align: middle;\n",
              "    }\n",
              "\n",
              "    .dataframe tbody tr th {\n",
              "        vertical-align: top;\n",
              "    }\n",
              "\n",
              "    .dataframe thead th {\n",
              "        text-align: right;\n",
              "    }\n",
              "</style>\n",
              "<table border=\"1\" class=\"dataframe\">\n",
              "  <thead>\n",
              "    <tr style=\"text-align: right;\">\n",
              "      <th></th>\n",
              "      <th>ph</th>\n",
              "      <th>Hardness</th>\n",
              "      <th>Solids</th>\n",
              "    </tr>\n",
              "  </thead>\n",
              "  <tbody>\n",
              "    <tr>\n",
              "      <th>count</th>\n",
              "      <td>2011.000000</td>\n",
              "      <td>2011.000000</td>\n",
              "      <td>2011.000000</td>\n",
              "    </tr>\n",
              "    <tr>\n",
              "      <th>mean</th>\n",
              "      <td>7.085990</td>\n",
              "      <td>195.968072</td>\n",
              "      <td>21917.441374</td>\n",
              "    </tr>\n",
              "    <tr>\n",
              "      <th>std</th>\n",
              "      <td>1.573337</td>\n",
              "      <td>32.635085</td>\n",
              "      <td>8642.239815</td>\n",
              "    </tr>\n",
              "    <tr>\n",
              "      <th>min</th>\n",
              "      <td>0.227499</td>\n",
              "      <td>73.492234</td>\n",
              "      <td>320.942611</td>\n",
              "    </tr>\n",
              "    <tr>\n",
              "      <th>25%</th>\n",
              "      <td>6.089723</td>\n",
              "      <td>176.744938</td>\n",
              "      <td>15615.665390</td>\n",
              "    </tr>\n",
              "    <tr>\n",
              "      <th>50%</th>\n",
              "      <td>7.027297</td>\n",
              "      <td>197.191839</td>\n",
              "      <td>20933.512750</td>\n",
              "    </tr>\n",
              "    <tr>\n",
              "      <th>75%</th>\n",
              "      <td>8.052969</td>\n",
              "      <td>216.441070</td>\n",
              "      <td>27182.587067</td>\n",
              "    </tr>\n",
              "    <tr>\n",
              "      <th>max</th>\n",
              "      <td>14.000000</td>\n",
              "      <td>317.338124</td>\n",
              "      <td>56488.672413</td>\n",
              "    </tr>\n",
              "  </tbody>\n",
              "</table>\n",
              "</div>\n",
              "      <button class=\"colab-df-convert\" onclick=\"convertToInteractive('df-e2942e66-95ce-46e6-a8b0-24a9511408ee')\"\n",
              "              title=\"Convert this dataframe to an interactive table.\"\n",
              "              style=\"display:none;\">\n",
              "        \n",
              "  <svg xmlns=\"http://www.w3.org/2000/svg\" height=\"24px\"viewBox=\"0 0 24 24\"\n",
              "       width=\"24px\">\n",
              "    <path d=\"M0 0h24v24H0V0z\" fill=\"none\"/>\n",
              "    <path d=\"M18.56 5.44l.94 2.06.94-2.06 2.06-.94-2.06-.94-.94-2.06-.94 2.06-2.06.94zm-11 1L8.5 8.5l.94-2.06 2.06-.94-2.06-.94L8.5 2.5l-.94 2.06-2.06.94zm10 10l.94 2.06.94-2.06 2.06-.94-2.06-.94-.94-2.06-.94 2.06-2.06.94z\"/><path d=\"M17.41 7.96l-1.37-1.37c-.4-.4-.92-.59-1.43-.59-.52 0-1.04.2-1.43.59L10.3 9.45l-7.72 7.72c-.78.78-.78 2.05 0 2.83L4 21.41c.39.39.9.59 1.41.59.51 0 1.02-.2 1.41-.59l7.78-7.78 2.81-2.81c.8-.78.8-2.07 0-2.86zM5.41 20L4 18.59l7.72-7.72 1.47 1.35L5.41 20z\"/>\n",
              "  </svg>\n",
              "      </button>\n",
              "      \n",
              "  <style>\n",
              "    .colab-df-container {\n",
              "      display:flex;\n",
              "      flex-wrap:wrap;\n",
              "      gap: 12px;\n",
              "    }\n",
              "\n",
              "    .colab-df-convert {\n",
              "      background-color: #E8F0FE;\n",
              "      border: none;\n",
              "      border-radius: 50%;\n",
              "      cursor: pointer;\n",
              "      display: none;\n",
              "      fill: #1967D2;\n",
              "      height: 32px;\n",
              "      padding: 0 0 0 0;\n",
              "      width: 32px;\n",
              "    }\n",
              "\n",
              "    .colab-df-convert:hover {\n",
              "      background-color: #E2EBFA;\n",
              "      box-shadow: 0px 1px 2px rgba(60, 64, 67, 0.3), 0px 1px 3px 1px rgba(60, 64, 67, 0.15);\n",
              "      fill: #174EA6;\n",
              "    }\n",
              "\n",
              "    [theme=dark] .colab-df-convert {\n",
              "      background-color: #3B4455;\n",
              "      fill: #D2E3FC;\n",
              "    }\n",
              "\n",
              "    [theme=dark] .colab-df-convert:hover {\n",
              "      background-color: #434B5C;\n",
              "      box-shadow: 0px 1px 3px 1px rgba(0, 0, 0, 0.15);\n",
              "      filter: drop-shadow(0px 1px 2px rgba(0, 0, 0, 0.3));\n",
              "      fill: #FFFFFF;\n",
              "    }\n",
              "  </style>\n",
              "\n",
              "      <script>\n",
              "        const buttonEl =\n",
              "          document.querySelector('#df-e2942e66-95ce-46e6-a8b0-24a9511408ee button.colab-df-convert');\n",
              "        buttonEl.style.display =\n",
              "          google.colab.kernel.accessAllowed ? 'block' : 'none';\n",
              "\n",
              "        async function convertToInteractive(key) {\n",
              "          const element = document.querySelector('#df-e2942e66-95ce-46e6-a8b0-24a9511408ee');\n",
              "          const dataTable =\n",
              "            await google.colab.kernel.invokeFunction('convertToInteractive',\n",
              "                                                     [key], {});\n",
              "          if (!dataTable) return;\n",
              "\n",
              "          const docLinkHtml = 'Like what you see? Visit the ' +\n",
              "            '<a target=\"_blank\" href=https://colab.research.google.com/notebooks/data_table.ipynb>data table notebook</a>'\n",
              "            + ' to learn more about interactive tables.';\n",
              "          element.innerHTML = '';\n",
              "          dataTable['output_type'] = 'display_data';\n",
              "          await google.colab.output.renderOutput(dataTable, element);\n",
              "          const docLink = document.createElement('div');\n",
              "          docLink.innerHTML = docLinkHtml;\n",
              "          element.appendChild(docLink);\n",
              "        }\n",
              "      </script>\n",
              "    </div>\n",
              "  </div>\n",
              "  "
            ]
          },
          "metadata": {},
          "execution_count": 12
        }
      ]
    },
    {
      "cell_type": "markdown",
      "source": [
        "### Percentiles de dureza"
      ],
      "metadata": {
        "id": "JzWcG8V99Vff"
      }
    },
    {
      "cell_type": "markdown",
      "source": [
        "Una de las variables que queremos revisar es la dureza; según la literatura, podemos definirla o enmarcarla en ciertos rangos que terminarían siendo los que se muestran a continuación."
      ],
      "metadata": {
        "id": "Yd6no2LpL_s_"
      }
    },
    {
      "cell_type": "markdown",
      "source": [
        "![Blanda.jpg](data:image/jpeg;base64,/9j/4AAQSkZJRgABAQAAAQABAAD/2wBDAAYEBQYFBAYGBQYHBwYIChAKCgkJChQODwwQFxQYGBcUFhYaHSUfGhsjHBYWICwgIyYnKSopGR8tMC0oMCUoKSj/2wBDAQcHBwoIChMKChMoGhYaKCgoKCgoKCgoKCgoKCgoKCgoKCgoKCgoKCgoKCgoKCgoKCgoKCgoKCgoKCgoKCgoKCj/wAARCAB/ARMDASIAAhEBAxEB/8QAHAAAAgMBAQEBAAAAAAAAAAAAAAUEBgcIAwEC/8QARxAAAQMDAQQGBwYDBgYBBQAAAQIDBAAFERIGEyFVFRYxk5TRBxQXIkHS0yMyUVNUlWFxdDM1NpGytCQlNEKzw4FDUqGxwf/EABoBAQEBAQEBAQAAAAAAAAAAAAABAgMEBQb/xAAsEQACAQMEAgEDAwUBAAAAAAAAARECA1ESFCFhBBUxIkHwEzNxBSNSsdHh/9oADAMBAAIRAxEAPwDoLa3ayDsuYontSHPWdejcpScacZzkj/7hVf8AaxZf0ly7tHz0r9O/37J/J/8A9dULY61Rr1fG4c5x1uOW1rWpogKGlJPxB/D8K+jZ8S3VZV2vs+fe8i4ruik1H2s2T9Jcu7R89HtZsn6S5d2j56qjOxLcSYyh1oylLuKo7bbjpbaeZ3WtKtSUkg/xHDhikS9kp+VOoXFMcxnJQWlalJAQrSpHZnUDgY//ADSmxYf3Mu/eRpHtZsv6S5d2j56++1my/pLl3aPnqkQ9hZ0WbAXdG2lxVSWmn2klaSnXjhkgA/gSgnjSY2RUu+XeNDU0xGhKdcW48VaW20Kx8ASfh8CTVXj+O/hh37q+TUPazZf0ly7tHz189rNk/SXLu0fPVNvexanJzbVmS2lhqCw6+6C44lS1kjICQpRzgngMAD4VX2tnJy9oV2Y7lEpsq1rUr3EgDVqJA7Mcez41aPH8epTJKr96lwal7WbJ+kuXdo+ej2s2T9Jcu7R89Ui8bKM9E2122LjKWIDs2Q8Fr0vBCk/dBHA+92YH8aXjZCaG3nXZkFllqM1KW4ta8BDmcdiSc8Oz/LNKfH8dqZK791ODSPazY/0ly7tHz0e1myfpLl3aPnrN+ptzTahcHSy2zuUvqSsLylsn7xITpPDjpBKsfDPCvPqrJ9Zisty4rqpMf1pvctvLOjIwSkN6uOcjh2Ctbbxv8jO4vGme1myfpLl3aPno9rFk/SXLu0fPWQ3m2P2i6PwJZbL7ONRQSQcgKGMgHsIqDXWn+n2alKZh+XdThm2e1my/pLl3aPnr77WbL+kuXdo+esSorXrrWSb24bZ7WbJ+kuXdo+ej2sWT9Jcu7R89YnRT1trI3tw232s2X9Jcu7R89HtZsv6S5d2j56xKip661kb24bb7WbL+kuXdo+ej2s2X9Jcu7R89YlRT11rI3tw2z2s2T9Jcu7R89HtZsn6S5d2j56xOinrrWRvLhtntZsn6S5d2j56PaxZP0ly7tHz1idFX1trI3tw232sWT9Jcu7R89fPaxZP0ly7tHz1idFT1trI3tw2z2sWT9Jcu7R89HtYsn6S5d2j56xOinrbWRvbhtntYsn6S5d2j56PaxZP0ly7tHz1idFPW2sje3Da/axZM/wDSXLu0fPU6w+kK13u7MW6LHmoee1aVOoQE8ElRzhRPYPwrBqtXos/x5a/5u/8AiXXK74FFNFVS+yOlry7lVaTOiKKKK+SfUMj9O33rJ/J//wBdZvZ7k9apvrTCWluaVow4CRhSSk9hHwNaT6d/vWX+T/8A66yivv8AhJVeOk+/9nxvKbV5tFliba3SPEtkfRGdTbnNbKnEKJPulIBwRkAK/h8Kjnaq4mxv2r7IR3XS7rCSFpyoKKQc9mRn8f40iorrtrfzBx/VryPZG0z710auS4UPpFtaHTIAcyspAHvJ16eOBnAFR4V9kxblcJYaYd9fS4iQy4FaFJWckcCCOPYc5pfCjqlzGI6CAp5xKAT8CTirZctkvWrpcjbHIsWHHlIhpS8twkrIA+AUeKv8s/hXKumzb+lm1rq5RBl7WzJankyokFcZ6O2wuMELSghtWUEYUFAjJ7DjB7KXWy7vWy7ifCZYbI1Dce8pspIwUnJyRg/E0zc2NuIfZaafhPqclKhrLThw04lOpQVlI7Bk8M9n48KImzKhfrRDflxn2ZyQ/qZKxhniSTqSMcEq/wAuOKyq7CTS+CtXG+T8na6ZpZbEOCmM1FchhkJXpU0sjIJ16vgOOc0XDa2dOYlsrjxG25TDUZQbQoaUNqJTp97h21Y4FjsU/oZ1qCEsT5clkfauZCADuzxV2jAP+dZ482pl5bS/vIUUnH4irZptXHwvj/v/AIK/1KVy/n/gzfvipbMVM6DDkOxmkMoeXvAsoScgEBYSeHDOM4/zqbI2tkvz5UpyDB1ymCw+n7XS4jhgffynGnhpxVcortt7eDn+rUTr1c3bvc3p8lDSHnQkFLQISNKQkYBJ+AFQaKK7U0qlQjDbblhRRRVAUUUUAU/RbIEKx2+4XMy3TOdWltEZaU7tCDhSjqSdRyeCeH86QU3h3x5i3Mwn4sSZHYcLrIkpUd2o9uNKhkHtIOR/CuF+mtpaTdtr7ji5bNtSBaG7WndLetyZDpKHXStROCdKErI/ywP8sr5uyk+DEnyZbjDSITxYX99WtWkKGNKTgEEYKtPEgHFftO1s7cIjvRoT0ZMZEVTS0K0qShWpJOFA5z+BA/hX7XthPVJnyPVoaZE1KkuOJSsEAoCSMasEYTkagcEnHbXmVPkLg7N2mPJmzcCJDvEuTHhMuR40dTTCn33EJKzgrJAByeIA7Ae3hxpTtDsuti5TVJEG3RGnkR20LkLWkuFsL0pUU57OOVaQM4zUO47Uzp0eay81GSiW0y0soSoEBo5Tjj2/j/8Ayv3P2smXBcozY0J9L7yJIQpCtLbiUaApI1ceAGQrUOHZUpt36XM/nAqqtvg+I2TuLlpRcGC262stAI0OIJLhATgqSEq4kA6ScV7RdnQw/dWXlwZzkaG+tQbfcRuFtlOTjT7xGeA+6ePHhX5d2yuLkYtBqIh1SGEqfShW8O5VqQeKint/hxrwd2okKkz32oUFhc5l1p8toX728xqVxUePDh8Bx4cTWnuH8k/tL4JsnZZ5qCqMhEQ3CO60ZZ3zhW0HcBCcaQjAJ4kFRzjsFQb5szLs0Z195+I8lp8RnQypRLaynUM5SOGPiM16v7XT3t4vcxUSH1MqkvoSrU/u/uhWVYA4AnSBnFeN22kmXONMYkNR0plSRKcKEqBCgnTgZJ4Yq0U30+fz85FTtxwI6KKK9x5wooooAq1+ir/Htr/m7/4l1VKtfoq/x7a/5u/+JdcvJ/aq/hnSz+5T/KOh6KKK/Mn3jKvTPClz3rM1AivyVhL6illsrIH2YzgfDiKzfq7e+TXPwi/Kug5QztVbc/opP+tim+K9drza7VCpS/JPHX4quVups5l6uXvk1z8Ivyo6u3vk1z8IvyrpzTRprr7O5gzsacnNEaxX6PIafatFyDjawtJ9UXwIOR8Ks10l31U6Yq12C4CLIlNzSH4TmsOJwccDjGR/P+VbfVc2lvcqBMt0G1QmZ1wnKc3bb8gx2kIQnKlKWELPxSAAk5Kh2DJrlX5lVbl0lXiKlQqjNbFOv8a5Jcn2KeqMqc7PXuYbmsOLQU8M8NIz2cD/ABr3mOSgmZIj2K/Kub0MxUvusOlPvKOo4Utak4TgD3jkk8B8dI2YvIv+z0e5CKuO4vWh2MVBRbdQtSFoCuAOFpUAeGeB4VAse0F1vNquzkWzsR7lCmGKiHLm6UqACFZW4hC9KtK+ISFjUMBRHvVzd+XOk6bbiNRnOzj18gG3NTbHclRbct15sNQ1la1qSQASeGMn4D4VWXLBfXHFLXZ7mVKJJJiL4n/Kty2MvU69N3M3C3xIioktURK4ktUht5SANZClNoI0rKkEEfeQqrPXWnzaqG2qTm/ETUOo5l6uXvk1z8Ivyo6uXvk1z8IvyrpzTRprfsrmCbGnJzH1cvfJrn4RflR1cvfJrn4RflXTmmjTT2VzA2NOTmPq5e+TXPwi/Kjq5e+TXPwi/Kttu+1jdu2wt9l9ULjT+gSZYdwIy3de4SU4461NLT2jBKeB1cPV7bSyM31FoW7LVMU8Y4LcB9bRdCNZRvUoLeQkEkauGDnGKvsrmBsacmG9XL3ya5+EX5UdXL3ya5+EX5VvTG1FokRIUqPJddbmW9VyjpbjOrW7HAQSsICdRP2iPdxqOeA7a97HfbffG5C7et8Kjubp5qRGdjutq0hQCm3EpUMpUkjI4g8KeyuYGxpyc/dXL3ya5+EX5UdXL3ya5+EX5Vq1p9IMa47MvOhSU3pEB+WltUZ1DDpaHvBC1DS5pJSFBKiQcg4p63tVb237dEn+tomTENaV+oPiOVrTkJD2jdgk8ACrOcDtp7K5gbGnJhnVy98mufhF+VHVy98mufhF+VbrbdsbLcroqBElrU+lTyNS4zqGlKaUUuJDikhBUkg5SCTgZ7ONKYW3kG5XwR7cX37cm2uT1rECRvHAFthCmklOXUKClYKAoKxwNPZXMDY05Mg6uXvk1z8Ivyo6uXvk1z8IvyroCw3yDfW3129b+Y7u5eafjOR3Wl6QrCm3EpUnKVJIyOIIIp5pp7K5gbGnJzH1cvfJrn4RflR1cvfJrn4RflXTmmjTU9lcwNjTk5j6uXvk1z8Ivyo6uXvk1z8IvyrpzTRpq+zuYGxpycx9XL3ya5+EX5UdXL3ya5+EX5V05po01PZXMDY05OY+rl75Nc/CL8qOrl75Nc/CL8q6c00aaeyuYGxpycx9Xb3ya5+EX5VYvR3ablA22tbsy3y47ZU4kLeYUgE7pZxkjt4Gt3P8qT3n+9LB+Priv9u9Uq8+u5S6WvlMLw6aGqp+6HlFFFeE9xWb1Oi2/aW2OzZTEZow5KQt5wIBOtg4yfjwNTustj5zbPFo86/Mv/Fdt/opP+tinOKriEYUy4E/Wax85tvikedHWax85tvikedOMUYpKLDyJ+s1j5zbfFI86re0kiBcbjbbladqLPBuFvLgQqQUSGnG3EgKSpAcQe1KSCFDBT8QSKvmKrsbaNiRtLMsjcScJMZgSC44zobcGrThBUQVcfjjTx4E4OEoQ8ldsEDY60MwHlTLDLvEVKwm5vbnfa1qUtZCs5SCpxZ0g9iiK8NnHTaW76X9stnX3rk6uU2tmMGgw+pCU6iFSF6kjSk6eB7eP4P7LtU5Pv4s8uwXa1yfVjL1SlRlo0BQTxLTyyCSTjIGdKvwNe9z2jTDvCbXCts+6zg0l95ETdARm1KKUqWpxaBxKV4AJUdKuFJQ5yRtnJ2ztiscG2R75AcRGaCC6uU3qdV2qWrj95SiVE/iTTbrNY+cW3xSPOk722kNq9CGu33H1T10W43MIb9XEgjg39/edpCdQRp1HGe2rhmkoc5E/Wax85tvikedHWax85tvikedOMUYpKEPIn6zWPnNt8Ujzo6zWPnNt8UjzpxijFJQh5MlvOzWzN3cvcuRtalF0nvpfYfaua0NRlNhG4ywl0NuaFISr3hxOezhhFaXH4npMfnPLtjtvenPOKkOzUFlttTZTvGwJeEuEAJ/6YHBUCsjKzqVx2pgW7am32J9MgyZwJS4hILbRwspCznIK925p4HJQRw4Z95G1Fgj3gWl+92tq6kgCEuW2l4kjIGgnVxBz2UlD6smcx9nISbU3bpW3NsWxFsrtkhlhCGlNtK3WlazvTrUA0ArGkKB4BPHLzYGNY9k0XMG+7PKM6QJBatzTUJhrCEowlsOK7dOSSSSSauK73am4yJS7lCEZcYzEPKfQEKYGCXQrOCgBSfe7PeHHjXpaLxbb1F9bs1xh3CJqKN9EfS6jUO0akkjPEcKShzkzWFZYCYbESftpaZMOHEkxoQQhDa0KeTpKnFb0hYSCQkAJ4HiVHjXjM2ZssjamFd17TWBz1Z2I6lT7DbkhvcBI3bTxd+zbVpKikJ+8pRyc4q8Wfa2JOtjE2alqA0qEZrrjshvQygKIOSSFYGM6ikJ/jnhUhvbLZhy2vXJG0VnXb2lhtyUmc0WkLPYkr1YBP4ZpKHOSsNwLAI1uju7S25xuLMnSlgPISXBJL+U/f4ad928c6ewZ4KBZIr9tXFuG3VrdKLSuzx1stoa0oJbIWv7U61Hd4UAUhQOAEcc6Q7tBZ2XobTt1t6HZ2kxUKkoCpGr7ugZ97ODjGc4ryt+02z90jyH7Ze7XMYj6Q85HmNuJa1fd1FJIGccM9tJQ+rJVvR9HseykW5Ni97O5nS/Wi1b2m4TDX2aEaUNhxWOCAScnJJq39ZrHzi2+KR51Fg7W7Oz3YrUHaC0yXZSlIjoamtrLyk8VBICveIyMgdlSm79aHbu/a27rAXc46Nb0RMhBeaTgHUpGcgYUniR8R+NJQ5yHWax84tvikedHWax84tvikedKrnt1s5BsV4u6Lzb5kW1M7+UmJKbcWnIOhGNWApZGEgkajwFTHdqtnkNW93py0pRcVFMJZmNgSSCAQ2c++ckDhniRSUOcknrNY+cW3xSPOjrNY+cW3xSPOva7Xe3WaGZV5nxLfGBCS9KeS0gE9g1KIGaW7NbRw7zBbkBbDDrhfUhnfhRU206Wy4OzKeCTnGBqAzSUOckzrNY+cW3xSPOjrNY+cW3xSPOvJ7aWxsSI7Lt5tiHX2g+02uWgKcbKSoLSM8U4So5HDAJ+Fe1jvlpvzDj9kukG5MNq3a3IchDyUKxnBKSQDgjhSUOcnzrNY+c23xSPOjrNY+c23xSPOnGKMUlCHkUdZbHzm2eLR50tm3a3T7xYm4FwhyXEy1LKGX0rIHq7wzgHs4irTik96H/ADKw/wBar/bvUUSSrVA5oooqGxLL/wAV23+ik/62Kc5qtXmFFn7SWxqbGYktCHJUEPNhYB1sDOD8eJqd1asfJrZ4RHlVcQjCmXA3zRmk/Vmx8mtvhUeVHVmx8mtvhUeVSFksvA4zVMRA2g9oq7qqFaRaDEELX685v9IWVhe73OnOTjTr/jn4VLu9r2ZtVtkzbhbrXHispCluKio4fADGMkk4AA4kkAcaUvy9jmLfGmO2YITIdLDLC7E8JDigCo6WN1vCAATkJxgHjTjI5wMLfs2447fpN5dV63dZABXDkuMqbjN8GW0uI0rGBqWcEe84sZIqp7X+jR653N9Vvj2+Q3Jgswm59zfcdmWxSFrJfYWpK1LXhwHitB1Np97HZbrTbdmbta2LlAt1pdhPI3jboioAKf45GQR8QcEEEGoEB/YqfZpV0hRLbJhRHCy461b9WpQAICAEZc1ak6SgEL1DTnIqwhzgi9VL0bkqEro42I3oXn1nfL9YyFh3dbrRp/tB9/X93/tzWi5qheubD9EJuJt8bcqkmGlrolfrJeGSW9xu97qwCrGnOkauzjTKy2zZm9W1i4W622x+I9nQv1NKSCCUqBSpIKVAggggEEEEZFSFkfVgteaM0n6s2Pk1t8Kjyo6s2Pk1t8KjypCyJeBxmjNJ+rNj5NbfCo8qOrNj5NbfCo8qQsiXgpG0Owt4uUy+3Rm/OxrjIkMvwIyUtGOPV9KmA4otF0DWFKVoUBhahg8cpLQ1dR6Tnm5lsua4arnIeaSA4hiOVsqQXwr1XQrKcjBkH7+dAV7ovU5jZOFfINpkwbW3cJ6VqjM+pJO80AqVxCcA4BIBIJ0qxnBw46s2Lk9t8Kjyq8DnBn9t2N2rjWqFE9btcJ62bPvWWFJjPuKWtZ3Gh1WWxoyGeIGopPEFXwsPo52en2A3ty5NtNLnykyENIuL84oSlpDeFPPALUfcz2YAIA7Kf9WbFye2+FR5UdWbFye2+FR5U4HODNtp9lLtbtj/ALJIlPsQGIhTEC1rChLQ4VpAQokJTx4IWeH3F/dMS0bPXjaCzxJZiTG58O5PvO+uXOVb1XAOtAFwOtx2XGyk4SE7kJIQe3OqtU6s2Lk1t8Kjyo6s2Lk9t8KjypwOcFf2c2VXa7kxLaYjQw3axBShEhyWtpZdUtWHHEhS05IOTgkjiOFVS3ej6+vQ7oi+PRXX51uYhOLeuMiZ6wtDhW44oOoAaSrJ+yQNI49oPC63y3bPWqGiVKscFSHJUeKA3EbJ1PPIZSeIHAKcBP8ADPb2U26s2Lk9t8KjypwOcFZuOxzz8+8SoyITb067WyclzBCt1GXHKkqIT26W3AkcR73aMmllj2EmW6+vuSGGpTCZUyXGmrvcvLany4f+jKSyD9qpJUFceKsZOKvPVmxcntvhUeVLL7bdnbNaJFxlWOCtmOnUtLcRsqxnHDIH404HOCvyNg5a9mhaWXIbClbLuWJSkZ0h1SAkKxgZQDqP48ezjUbajY28Xu6quU6DDlevW5ECdb0bQTIbKAlbp4Kab+2SpLpBStAxjhnJq+dWbFye2+FR5UdWbFye2+FR5U4HOBZtZablKn2O5WZuFIlWt9xYjzXlNIcStpTZIcShZSoau3ScjUOGc1V4Gxm0FpZtS7d0O5IZiT4T6FuOMtNpkSEupW2AhROkJxoOM5xqGM1e+rNj5PbfCo8qOrNi5PbfCo8qQhzgq9k2UudrizFMyosee5YIdqjyW0lwsvspeBXgpGU6nEED44OQK/Xo82Zulin3eTc9ylU1uOhKRc5FwXqbCwoqdfSFcdQIAGBx4fEubdadmrlDTKh2q2usKUpIV6mkZKVFJ4FOe0EVN6s2Lk9t8KjypwOcDjNGaqcOBs7MuNxgtWOCHoKkJdzEb0krQFDHD8D8cU06s2Lk9t8Kjypxkc4HGaT3o/8AMrD/AFqv9u9X3q1Y+TWzwiPKls60W6BeLE5At8OM4qWpBWywlBI9XeOMgdnAUUSSrVBaqKKKhsSy/wDFdt/opP8ArYpzmq1dYbcraW2NOqfSkRJKssvraOdbHxQQccezsqd1fifnXP8AcpHz1XEIwplwN80ZpP1fifn3L9ykfPR1fifn3L9ykfPSEWXgT+ky0Sb3syY8Fl2Q81LjSSw09uHHUtvIWpKHNSdC9KTpVkYVjiO0Ve02zaS2zIF3VbLpNisS5SWbY/cG35seO420E6nHXShZ3jS1Y3pwl0YPu6auL9vtMadGhv3GW1LlBZYYXdXw48EAFWlJcyrAIzjsyK8mW9n5F4etLF6cduzCNbsJF6eLzaeHFSA5qA95PEj4j8aQh9WCBsTs5crTbIDsq5TY60KffetTAjqYK3XXHdJUW9eRvAMpWB7o+GcwLBL2jtsHayUjZC4mdImKmwor8uKgP6kNoCCtLqgkjSSc8MdmTwp3ahs9d5MmLa72ubJiK0yGo16dcWyckYWEukpOQRx/A1Jk260xZMWNIuMtqRKUUx2nLs+lbxAyQkFzKiBxOPhSEJeCnwLZeYrVpu6bDdHrhGub0u4MPOxW3panWFNlxsJfU2EpyhIQpYISntJGVWzYG2zLZYXOkWNxLlzZU5bAUFbnfPrcCCRkFQCgCQSM5wSONeR6uC+izG9qF3I1CD027vyMas7ve6uzj2dnGiCNnbhcJVvt96clTohIkRmL08t1kg4OtIdynjw4/GkIS8FvzRmk/V+J+fcv3KR89HV+J+fcv3KR89IQl4HGaM0n6vxPz7l+5SPno6vxPz7l+5SPnpCEvBn+1GzG1lwu17vdvXAbdZkx3bfFdjlT7yIvvJSl7fBDe8Ut9PvIPuucSPhVYDlsuPpkcRcosZy4C6P+rn1eM5LQsMFCd4ov7/dJAKgAyEg6CFlICjrj0C0MzY8F24y25shKlMsKuz4ccCcailO8yQMjOOzNTur0P8+5fuUj56Qhzgy222DafoG3wVbPIaetey79mHrjrDzUt/8A4YDCAsgoUGlY14/BQA7bJ6I9n5mzsW9NSIEqDDkTQ7FYkiKlYTukJUSiKA0jKkngkceBPEmrd1eh/nXL9ykfPR1eh/nXL9ykfPSEJeDNbP6MYZcsZuVgiuDo+Wm5b1SV759S2izvOJ3mkbzTnIRgY04TUe57JXmVaord12fVeLs5ZYsSJNXJazapaUEOOFSlhSDrKV7xkLUdHZ7qc6JIgWpm4xoTku5plSEOONI6Qk+8lGnUc68DGtPb+NTur0P8+5fuUj56Qhzgze+bI3F/ad992w9ITFXi2zI97U60ncRGVxy41gq1jBbdVoA0nVqzq4V+dn9jLhF20nXG4xby5OW/NWLg2YAjSGnNe7QtYAlKASpACFEpSpCce6lONK6vQ/zrl+5SPno6vQ/zrl+5SPnpCEvBku0fo+fTsXs5aYGzLDu7hrVPEaPBcfEwtNpSpS5IUnSSF61pyv3UY4V7bQbH3ic26mbs+btcXrfCbiz1yGgYC20/bI1KXrSVHJygKC9WlRAGa1Tq9D/OuX7lI+ejq9D/ADrl+5SPnpCEvBnDOy13V6Xo18NqcZZROeU9MYRCbZdjGKtCAVJ/4lxe8KMhZ0gjIHAEQrP6LIot1kZuOz0RahYHWZ6XFIXrnfYhsr4nWpIL4SriEDgCOFap1eh/nXL9ykfPR1eh/nXL9ykfPSEJeDLrlshd5+0lunXqNe5hRFhhmRBVb1LiOoH2upcgbxBKgFamVe8CfiBl3E2M3d9auotTfSCr7IefkqKC4Ya23U6Sc53ZKknd9mTq05yau3V6H+dcv3KR89HV6H+dcv3KR89IQl4MmkbCyxsxDtcbZx2LEi3N9c2NBbt5M9B17p1KXtTSwMo4OhKgOIGUjNul2Cb7KVWa3sT1PpaSkRZrzKX3Ww4FLjlTR3Q1ICmxghIBA4AVa+r0P865fuUj56Or0P8AOuX7lI+ekIS8GbxtmJ8NuVOtOyi7dGbvESfHs7L0dKy2hGhzSkL3SFZKl6QsA9udRIqZD2RlXmZbnNpLG16oLlPmuxJLjbyUpc/staQSlR+OPeAUM/AGr51eh/nXL9ykfPR1eh/nXL9ykfPSEJeDONmdl7xE9Kbl8ftHqaXHJqZMlhuG0w82teWcbsb9wkJSpZdPBfYMcRo96P8AzKw/1qv9u9X3q/E/Puf7lI+els21sQrxYlsuTFKMtScPS3XRj1d74LURnh29tFEkq1QWqiiiobE0v/FVt/opX+tinFVm8RnZO0dtQzLfiLEOSdbIQSRrY4e+lQx/8Z4VP6KmY/v6593H+lRpQuTCbl8DeilHRU3n1y7uP9Kjoqbz65d3H+lSOyy8FR2seixPSFs1JRbJ65CHF+tSo1rfeG7LLiGwt1DZBAUs8Cfd1EnAOajyJaLxtumNHt9ztwtSpKIjirXIQiVKcQQp3fBvdpaAUrBKsrUScAJSV3boqbz65d3H+lR0VN59cu7j/SpHZdTwZxsnEuEuVssizwH7RLs1hdt8p64211DSHVKjgNhOUB4ZZcOULKRwOfeGWG2TphbQbGvzoMmddYs0PzZtts0haAz6vKbHFCXMALdHuFZI1Z7Dmrv0VN59cu7j/So6Km8+uXdx/pVY7Gp4MuXFuKvSXlEa5+q9NiQbau2rMUjchPrgmAadWn3tBVj/ALNOrjUnYSJJdk7FQn7XPjTbBCkMXJ9+GtpvelKEKCHFAJdC1grygqBCcnGRnSOipvPrl3cf6VHRU3n1y7uP9KpHY1PA3opR0VN59cu7j/So6Km8+uXdx/pUjskvA3opR0VN59cu7j/So6Km8+uXdx/pUjsS8GZbXQ9p5O0102igWRp9mzSGPUVLfcRJU0ykl/cshohe8DzzY98atKeBwMxYdwkXP0nLMq4XSNFTdHmmHBJnpYkFLRQiOUJQIycLBUTrKiUaVJySBq/RU3n1y7uP9KkiNhre3elXlDui7qJJnJhQw+SRpP2m51dnDt7Ksdl1PBSbfdNoXrDb2lW7aF+ZA2XfZmokIksb+cn1ccHBhS18HCFoJJydKic4sfoh6UREvTdxfuMiMmYPVHJ0aUwpSN0jVpTKWt3Tr1feV25wACKt3RU3n1y7uP8ASo6Km8+uXdx/pUjsangyK0QL3MfZeS3tL1g6HuDM96WX0sNzlhGn1dTnupSVBWktYRpCfiBTaTcL3fYVwNva2khp6LgNJcXGejuB/fq3xQlYB1BJGVYwR8SK0foqbz65d3H+lR0VN59cu7j/AEqkdjU8GY7ZRbxA2qt0Wx9PNsxVQtytK7jMEpJkEva3N9uUaUZzvkrUoHh2JrZaUdFTefXLu4/0qhzIbsKK9Kl7RzmIzKC4664IyUNpAyVKJawAAMkmrp7JqeCx0Uo6Km8+uXdx/pUdFTefXLu4/wBKpHYl4G9FKOipvPrl3cf6VHRU3n1y7uP9KkdiXgb0Uo6Km8+uXdx/pUdFTefXLu4/0qR2JeBvRSjoqbz65d3H+lR0VN59cu7j/SpHYl4G9FKOipvPrl3cf6VHRU3n1y7uP9KkdiXgbmlF6/vKw/1qv9u9XzomZz6593H+lS2dCksXaxqduUyUky1DQ8loAH1d7j7iEnP/AM441UlPySpuPgtdFFFQ2JZP+K7d/RSf9cenP/6pRcrWZ0piS3MkxH2m1thTAbOUrKSQQtKh2oFfOipnPrl3cf6VXhoxym+BxRSfoqZz65d3H+lX3ouXz65d3H+lUjsup4G9UvbLprpFnqn670zuR/bf3bpyrTv9XHt1f2P2n3dXu4p70XL59cu7j/So6Ll8+uXdx/pUjsangodzuNmg+mHZwTLpb2b07AksSGlTRkOLMbdtpQpWU6jqKUgDVxOCc1Q7Y8RtBdJNhXbnry9HvAZbgjF2ac95SRP+KkhSQlIOnSrdD3s5G79FTOfXLu4/0qOipnPrl3cf6VWOxqeDP/RmNn1bVhzYn1M2s2VsTvUMboyN57m8x/8AW07zOr38EavhWsUo6Ll8+uXdx/pUdFy+fXLu4/0qkdjU8DeilHRcvn1y7uP9KjouXz65d3H+lSOxqeBvRSjouXz65d3H+lR0XL59cu7j/SpHY1PBlO2d2mjbSbtJHtFxkwNmnmmUzGlMhhtrSTOKgXAtXuOjsQoamB+BIlRNqrnc/Sg7amNoiw21NdT6jv4AbdZSzlCUNqBklZXhRJwnSFFJxitL6Kmc+uXdx/pVWo3o8hN3hFzRdr5v9+qUlsykmOHVZy4GCndhR1E505ySe3jVhZGp4KlbvSI/L2ft7oujkqWxsu/MuiYaGg8zNR6uFZ1IKW1pK3MpIwM5KcYqyeiO/wBwvkS9puN0jXVMSaGmJcaQiQhaC0hRAdbZaSvCioZCBjiMnGat3RUzn1y7uP8ASo6Kmc+uXdx/pUjsangzazytqriuxBza2W0Lpb5ct3dwY32JZW0EBvLZxkOe9q1ZwdOjIxGuPpEmRLDcJc65MQZcvZaHcrY0UIyuUtL5eLQIJXjDRKTkJGCQASa1LoqZz65d3H+lR0VM59cu7j/SpHY1PBU0X28K2/VsuZB1pldJF4tJ420t8Efdxnf+5nt0jOc1XPTXepCI21Vrk302qOLAtyFEDTajc3FpeS6jKklR0hKBhspKdepWRir4xs0oXVy5t3m5mY+whhTpDBy2gqKUgFrCeK1E4AzwznAw06Ll8+uXdx/pUhZGp4KHfNsn7ffb1anLo01cOnbWxBilKN4qG6qIl0hOMlJK306z2E4BB01Eut9vEPZe73eVtBIZLl5ft8YkxY0eGhEtbaVOOrYc0jCcFSgr/tAAJKq0boqZz65d3H+lR0VM59cu7j/SpHY1PAk9Fl4m37YqHPuElqVJL0lovtEFLqW5DjaVAhKAcpQk5CUg5zpTnAudKOi5fPrl3cf6VHRcvn1y7uP9KpHY1PA3opR0XL59cu7j/So6Ll8+uXdx/pUjsangb0Uo6Ll8+uXdx/pUdFy+fXLu4/0qR2NTwN6KUdFy+fXLu4/0qOi5fPrl3cf6VI7Gp4HFJ71/eNh/rVf7d6vnRcvn1y7uP9KvNNmc9ciSJF1nSTHWXG23UshOooUjJ0tg9ij8aqUEcv7D2iiiobP/2Q==)"
      ],
      "metadata": {
        "id": "YOgm8fLXMtUz"
      }
    },
    {
      "cell_type": "code",
      "source": [
        "percentile_dureza_1=stats.scoreatpercentile(dfc['Hardness'], 33)\n",
        "percentile_dureza_2=stats.scoreatpercentile(dfc['Hardness'], 66)\n",
        "print(f\"Percentil 33: {percentile_dureza_1}\")\n",
        "print(f\"Percentil 66: {percentile_dureza_2}\")"
      ],
      "metadata": {
        "colab": {
          "base_uri": "https://localhost:8080/"
        },
        "id": "9QShEVQg66D4",
        "outputId": "78f44454-0f6e-4eda-a2f9-de616362a497"
      },
      "execution_count": null,
      "outputs": [
        {
          "output_type": "stream",
          "name": "stdout",
          "text": [
            "Percentil 33: 183.90811894139398\n",
            "Percentil 66: 208.3569464761424\n"
          ]
        }
      ]
    },
    {
      "cell_type": "markdown",
      "source": [
        "Aunque bien podemos organizar la dureza en:\n",
        "\n",
        "*   Agua Blanda: 0 -120\n",
        "*   Agua Dura: 120 - 180\n",
        "*   Agua Muy Dura: >180"
      ],
      "metadata": {
        "id": "3dg5nx0JNXRN"
      }
    },
    {
      "cell_type": "markdown",
      "source": [
        "Ya observamos que el percentil no va a coincidir con la totalidad de los datos, pues más del 60% de los mismos están solo en la parte de \"muy duros\", pero esta fuzzyficación únicamente sirve para tener una guía, y la distribución de la información no tiene nada qué ver."
      ],
      "metadata": {
        "id": "gKFq8t9gOC70"
      }
    },
    {
      "cell_type": "markdown",
      "source": [
        "### Percentiles de Sólidos"
      ],
      "metadata": {
        "id": "oLtLGFZ69pYJ"
      }
    },
    {
      "cell_type": "code",
      "source": [
        "percentile_solidos_1=stats.scoreatpercentile(dfc['Solids'], 33)\n",
        "percentile_solidos_2=stats.scoreatpercentile(dfc['Solids'], 66)\n",
        "print(f\"Percentil 33: {percentile_solidos_1}\")\n",
        "print(f\"Percentil 66: {percentile_solidos_2}\")"
      ],
      "metadata": {
        "colab": {
          "base_uri": "https://localhost:8080/"
        },
        "id": "4NLfH9Qz9sIN",
        "outputId": "feb0c29a-4e4f-4d57-edeb-7be02fe6a378"
      },
      "execution_count": null,
      "outputs": [
        {
          "output_type": "stream",
          "name": "stdout",
          "text": [
            "Percentil 33: 17251.4673298651\n",
            "Percentil 66: 24754.405137305846\n"
          ]
        }
      ]
    },
    {
      "cell_type": "code",
      "source": [
        "dfc.head()"
      ],
      "metadata": {
        "colab": {
          "base_uri": "https://localhost:8080/"
        },
        "id": "3H8PPTuw_YUD",
        "outputId": "c2a15225-6f99-4086-d10e-9289ce7e6f3a"
      },
      "execution_count": null,
      "outputs": [
        {
          "output_type": "execute_result",
          "data": {
            "text/plain": [
              "          ph    Hardness        Solids\n",
              "3   8.316766  214.373394  22018.417441\n",
              "4   9.092223  181.101509  17978.986339\n",
              "5   5.584087  188.313324  28748.687739\n",
              "6  10.223862  248.071735  28749.716544\n",
              "7   8.635849  203.361523  13672.091764"
            ],
            "text/html": [
              "\n",
              "  <div id=\"df-59463821-49b8-4026-b048-f0680658be43\">\n",
              "    <div class=\"colab-df-container\">\n",
              "      <div>\n",
              "<style scoped>\n",
              "    .dataframe tbody tr th:only-of-type {\n",
              "        vertical-align: middle;\n",
              "    }\n",
              "\n",
              "    .dataframe tbody tr th {\n",
              "        vertical-align: top;\n",
              "    }\n",
              "\n",
              "    .dataframe thead th {\n",
              "        text-align: right;\n",
              "    }\n",
              "</style>\n",
              "<table border=\"1\" class=\"dataframe\">\n",
              "  <thead>\n",
              "    <tr style=\"text-align: right;\">\n",
              "      <th></th>\n",
              "      <th>ph</th>\n",
              "      <th>Hardness</th>\n",
              "      <th>Solids</th>\n",
              "    </tr>\n",
              "  </thead>\n",
              "  <tbody>\n",
              "    <tr>\n",
              "      <th>3</th>\n",
              "      <td>8.316766</td>\n",
              "      <td>214.373394</td>\n",
              "      <td>22018.417441</td>\n",
              "    </tr>\n",
              "    <tr>\n",
              "      <th>4</th>\n",
              "      <td>9.092223</td>\n",
              "      <td>181.101509</td>\n",
              "      <td>17978.986339</td>\n",
              "    </tr>\n",
              "    <tr>\n",
              "      <th>5</th>\n",
              "      <td>5.584087</td>\n",
              "      <td>188.313324</td>\n",
              "      <td>28748.687739</td>\n",
              "    </tr>\n",
              "    <tr>\n",
              "      <th>6</th>\n",
              "      <td>10.223862</td>\n",
              "      <td>248.071735</td>\n",
              "      <td>28749.716544</td>\n",
              "    </tr>\n",
              "    <tr>\n",
              "      <th>7</th>\n",
              "      <td>8.635849</td>\n",
              "      <td>203.361523</td>\n",
              "      <td>13672.091764</td>\n",
              "    </tr>\n",
              "  </tbody>\n",
              "</table>\n",
              "</div>\n",
              "      <button class=\"colab-df-convert\" onclick=\"convertToInteractive('df-59463821-49b8-4026-b048-f0680658be43')\"\n",
              "              title=\"Convert this dataframe to an interactive table.\"\n",
              "              style=\"display:none;\">\n",
              "        \n",
              "  <svg xmlns=\"http://www.w3.org/2000/svg\" height=\"24px\"viewBox=\"0 0 24 24\"\n",
              "       width=\"24px\">\n",
              "    <path d=\"M0 0h24v24H0V0z\" fill=\"none\"/>\n",
              "    <path d=\"M18.56 5.44l.94 2.06.94-2.06 2.06-.94-2.06-.94-.94-2.06-.94 2.06-2.06.94zm-11 1L8.5 8.5l.94-2.06 2.06-.94-2.06-.94L8.5 2.5l-.94 2.06-2.06.94zm10 10l.94 2.06.94-2.06 2.06-.94-2.06-.94-.94-2.06-.94 2.06-2.06.94z\"/><path d=\"M17.41 7.96l-1.37-1.37c-.4-.4-.92-.59-1.43-.59-.52 0-1.04.2-1.43.59L10.3 9.45l-7.72 7.72c-.78.78-.78 2.05 0 2.83L4 21.41c.39.39.9.59 1.41.59.51 0 1.02-.2 1.41-.59l7.78-7.78 2.81-2.81c.8-.78.8-2.07 0-2.86zM5.41 20L4 18.59l7.72-7.72 1.47 1.35L5.41 20z\"/>\n",
              "  </svg>\n",
              "      </button>\n",
              "      \n",
              "  <style>\n",
              "    .colab-df-container {\n",
              "      display:flex;\n",
              "      flex-wrap:wrap;\n",
              "      gap: 12px;\n",
              "    }\n",
              "\n",
              "    .colab-df-convert {\n",
              "      background-color: #E8F0FE;\n",
              "      border: none;\n",
              "      border-radius: 50%;\n",
              "      cursor: pointer;\n",
              "      display: none;\n",
              "      fill: #1967D2;\n",
              "      height: 32px;\n",
              "      padding: 0 0 0 0;\n",
              "      width: 32px;\n",
              "    }\n",
              "\n",
              "    .colab-df-convert:hover {\n",
              "      background-color: #E2EBFA;\n",
              "      box-shadow: 0px 1px 2px rgba(60, 64, 67, 0.3), 0px 1px 3px 1px rgba(60, 64, 67, 0.15);\n",
              "      fill: #174EA6;\n",
              "    }\n",
              "\n",
              "    [theme=dark] .colab-df-convert {\n",
              "      background-color: #3B4455;\n",
              "      fill: #D2E3FC;\n",
              "    }\n",
              "\n",
              "    [theme=dark] .colab-df-convert:hover {\n",
              "      background-color: #434B5C;\n",
              "      box-shadow: 0px 1px 3px 1px rgba(0, 0, 0, 0.15);\n",
              "      filter: drop-shadow(0px 1px 2px rgba(0, 0, 0, 0.3));\n",
              "      fill: #FFFFFF;\n",
              "    }\n",
              "  </style>\n",
              "\n",
              "      <script>\n",
              "        const buttonEl =\n",
              "          document.querySelector('#df-59463821-49b8-4026-b048-f0680658be43 button.colab-df-convert');\n",
              "        buttonEl.style.display =\n",
              "          google.colab.kernel.accessAllowed ? 'block' : 'none';\n",
              "\n",
              "        async function convertToInteractive(key) {\n",
              "          const element = document.querySelector('#df-59463821-49b8-4026-b048-f0680658be43');\n",
              "          const dataTable =\n",
              "            await google.colab.kernel.invokeFunction('convertToInteractive',\n",
              "                                                     [key], {});\n",
              "          if (!dataTable) return;\n",
              "\n",
              "          const docLinkHtml = 'Like what you see? Visit the ' +\n",
              "            '<a target=\"_blank\" href=https://colab.research.google.com/notebooks/data_table.ipynb>data table notebook</a>'\n",
              "            + ' to learn more about interactive tables.';\n",
              "          element.innerHTML = '';\n",
              "          dataTable['output_type'] = 'display_data';\n",
              "          await google.colab.output.renderOutput(dataTable, element);\n",
              "          const docLink = document.createElement('div');\n",
              "          docLink.innerHTML = docLinkHtml;\n",
              "          element.appendChild(docLink);\n",
              "        }\n",
              "      </script>\n",
              "    </div>\n",
              "  </div>\n",
              "  "
            ]
          },
          "metadata": {},
          "execution_count": 15
        }
      ]
    },
    {
      "cell_type": "code",
      "source": [
        "dfc.hist()"
      ],
      "metadata": {
        "colab": {
          "base_uri": "https://localhost:8080/"
        },
        "id": "7BW17YR21iOg",
        "outputId": "a83f40bf-08bb-4535-db97-92690bde89cc"
      },
      "execution_count": null,
      "outputs": [
        {
          "output_type": "execute_result",
          "data": {
            "text/plain": [
              "array([[<matplotlib.axes._subplots.AxesSubplot object at 0x7fe7ed93a150>,\n",
              "        <matplotlib.axes._subplots.AxesSubplot object at 0x7fe7ed8ed6d0>],\n",
              "       [<matplotlib.axes._subplots.AxesSubplot object at 0x7fe7ed8a3cd0>,\n",
              "        <matplotlib.axes._subplots.AxesSubplot object at 0x7fe7ed868310>]],\n",
              "      dtype=object)"
            ]
          },
          "metadata": {},
          "execution_count": 16
        },
        {
          "output_type": "display_data",
          "data": {
            "text/plain": [
              "<Figure size 1152x648 with 4 Axes>"
            ],
            "image/png": "[encoded data removed]"
          },
          "metadata": {}
        }
      ]
    },
    {
      "cell_type": "markdown",
      "source": [
        "Ahora, tras haber realizado el análisis de correlación, tenemos dos variables de entrada para fuzzyficar (la dureza y los sólidos) y una de salida con la que podemos contrastar la salida del modelo difuso, que es el pH o nivel de acidez del agua.\n",
        "\n",
        "A partir de este punto pasamos a construír el problema desde los conceptos de vagueza, incertidumbre y error."
      ],
      "metadata": {
        "id": "8apfBqi_12lX"
      }
    },
    {
      "cell_type": "markdown",
      "source": [
        "## 4. Fuzzyficación de las variables."
      ],
      "metadata": {
        "id": "gt4r4AZf2Xd_"
      }
    },
    {
      "cell_type": "markdown",
      "source": [
        "Ahora, vale la pena revisar el rango que utilizaremos para la variable de salida, que será el pH...Nuevamente se puede observar que el rango puede catalogarse en poco ácido, ácido, neutro, alcali y muy alcali; sin embargo, para normalizar y no aumentar exponencialmente la cantidad de salidas, solo se utilizarán 3 rangos, tal como se colocará a continuación.\n",
        "\n",
        "Rango común del pH: \n",
        "- Ácido: 0 - 6\n",
        "- Neutro = 6 - 8\n",
        "- Base: 8 - 14 \n"
      ],
      "metadata": {
        "id": "_AzzYd_pfJD-"
      }
    },
    {
      "cell_type": "markdown",
      "source": [
        "Lo que haremos a continuacion será obtener los datos de mínimos y máximos para revisar si realmente existe una correlación entre la dureza y los sólidos suspendidos, y el grado de acidez del agua, pues de acá realmente saldrán las diferentes reglas del modelo."
      ],
      "metadata": {
        "id": "LvNzBK26P3K-"
      }
    },
    {
      "cell_type": "code",
      "source": [
        "dfc.query(\"ph>=0 and ph<=6\").describe()"
      ],
      "metadata": {
        "id": "faQXqrhufmg2",
        "colab": {
          "base_uri": "https://localhost:8080/",
          "height": 300
        },
        "outputId": "a56ee62e-1d06-47a3-a77e-48398ada9b2e"
      },
      "execution_count": null,
      "outputs": [
        {
          "output_type": "execute_result",
          "data": {
            "text/plain": [
              "               ph    Hardness        Solids\n",
              "count  470.000000  470.000000    470.000000\n",
              "mean     5.070414  190.219755  23126.844152\n",
              "std      0.841578   34.536789   9078.348240\n",
              "min      0.227499  100.806520   1351.906979\n",
              "25%      4.739676  166.742257  16468.849443\n",
              "50%      5.290336  189.457158  22082.227311\n",
              "75%      5.671247  210.807423  28306.275652\n",
              "max      5.999125  287.975540  55334.702799"
            ],
            "text/html": [
              "\n",
              "  <div id=\"df-bfb32357-f1d6-4813-a4c6-fcb53da7dc94\">\n",
              "    <div class=\"colab-df-container\">\n",
              "      <div>\n",
              "<style scoped>\n",
              "    .dataframe tbody tr th:only-of-type {\n",
              "        vertical-align: middle;\n",
              "    }\n",
              "\n",
              "    .dataframe tbody tr th {\n",
              "        vertical-align: top;\n",
              "    }\n",
              "\n",
              "    .dataframe thead th {\n",
              "        text-align: right;\n",
              "    }\n",
              "</style>\n",
              "<table border=\"1\" class=\"dataframe\">\n",
              "  <thead>\n",
              "    <tr style=\"text-align: right;\">\n",
              "      <th></th>\n",
              "      <th>ph</th>\n",
              "      <th>Hardness</th>\n",
              "      <th>Solids</th>\n",
              "    </tr>\n",
              "  </thead>\n",
              "  <tbody>\n",
              "    <tr>\n",
              "      <th>count</th>\n",
              "      <td>470.000000</td>\n",
              "      <td>470.000000</td>\n",
              "      <td>470.000000</td>\n",
              "    </tr>\n",
              "    <tr>\n",
              "      <th>mean</th>\n",
              "      <td>5.070414</td>\n",
              "      <td>190.219755</td>\n",
              "      <td>23126.844152</td>\n",
              "    </tr>\n",
              "    <tr>\n",
              "      <th>std</th>\n",
              "      <td>0.841578</td>\n",
              "      <td>34.536789</td>\n",
              "      <td>9078.348240</td>\n",
              "    </tr>\n",
              "    <tr>\n",
              "      <th>min</th>\n",
              "      <td>0.227499</td>\n",
              "      <td>100.806520</td>\n",
              "      <td>1351.906979</td>\n",
              "    </tr>\n",
              "    <tr>\n",
              "      <th>25%</th>\n",
              "      <td>4.739676</td>\n",
              "      <td>166.742257</td>\n",
              "      <td>16468.849443</td>\n",
              "    </tr>\n",
              "    <tr>\n",
              "      <th>50%</th>\n",
              "      <td>5.290336</td>\n",
              "      <td>189.457158</td>\n",
              "      <td>22082.227311</td>\n",
              "    </tr>\n",
              "    <tr>\n",
              "      <th>75%</th>\n",
              "      <td>5.671247</td>\n",
              "      <td>210.807423</td>\n",
              "      <td>28306.275652</td>\n",
              "    </tr>\n",
              "    <tr>\n",
              "      <th>max</th>\n",
              "      <td>5.999125</td>\n",
              "      <td>287.975540</td>\n",
              "      <td>55334.702799</td>\n",
              "    </tr>\n",
              "  </tbody>\n",
              "</table>\n",
              "</div>\n",
              "      <button class=\"colab-df-convert\" onclick=\"convertToInteractive('df-bfb32357-f1d6-4813-a4c6-fcb53da7dc94')\"\n",
              "              title=\"Convert this dataframe to an interactive table.\"\n",
              "              style=\"display:none;\">\n",
              "        \n",
              "  <svg xmlns=\"http://www.w3.org/2000/svg\" height=\"24px\"viewBox=\"0 0 24 24\"\n",
              "       width=\"24px\">\n",
              "    <path d=\"M0 0h24v24H0V0z\" fill=\"none\"/>\n",
              "    <path d=\"M18.56 5.44l.94 2.06.94-2.06 2.06-.94-2.06-.94-.94-2.06-.94 2.06-2.06.94zm-11 1L8.5 8.5l.94-2.06 2.06-.94-2.06-.94L8.5 2.5l-.94 2.06-2.06.94zm10 10l.94 2.06.94-2.06 2.06-.94-2.06-.94-.94-2.06-.94 2.06-2.06.94z\"/><path d=\"M17.41 7.96l-1.37-1.37c-.4-.4-.92-.59-1.43-.59-.52 0-1.04.2-1.43.59L10.3 9.45l-7.72 7.72c-.78.78-.78 2.05 0 2.83L4 21.41c.39.39.9.59 1.41.59.51 0 1.02-.2 1.41-.59l7.78-7.78 2.81-2.81c.8-.78.8-2.07 0-2.86zM5.41 20L4 18.59l7.72-7.72 1.47 1.35L5.41 20z\"/>\n",
              "  </svg>\n",
              "      </button>\n",
              "      \n",
              "  <style>\n",
              "    .colab-df-container {\n",
              "      display:flex;\n",
              "      flex-wrap:wrap;\n",
              "      gap: 12px;\n",
              "    }\n",
              "\n",
              "    .colab-df-convert {\n",
              "      background-color: #E8F0FE;\n",
              "      border: none;\n",
              "      border-radius: 50%;\n",
              "      cursor: pointer;\n",
              "      display: none;\n",
              "      fill: #1967D2;\n",
              "      height: 32px;\n",
              "      padding: 0 0 0 0;\n",
              "      width: 32px;\n",
              "    }\n",
              "\n",
              "    .colab-df-convert:hover {\n",
              "      background-color: #E2EBFA;\n",
              "      box-shadow: 0px 1px 2px rgba(60, 64, 67, 0.3), 0px 1px 3px 1px rgba(60, 64, 67, 0.15);\n",
              "      fill: #174EA6;\n",
              "    }\n",
              "\n",
              "    [theme=dark] .colab-df-convert {\n",
              "      background-color: #3B4455;\n",
              "      fill: #D2E3FC;\n",
              "    }\n",
              "\n",
              "    [theme=dark] .colab-df-convert:hover {\n",
              "      background-color: #434B5C;\n",
              "      box-shadow: 0px 1px 3px 1px rgba(0, 0, 0, 0.15);\n",
              "      filter: drop-shadow(0px 1px 2px rgba(0, 0, 0, 0.3));\n",
              "      fill: #FFFFFF;\n",
              "    }\n",
              "  </style>\n",
              "\n",
              "      <script>\n",
              "        const buttonEl =\n",
              "          document.querySelector('#df-bfb32357-f1d6-4813-a4c6-fcb53da7dc94 button.colab-df-convert');\n",
              "        buttonEl.style.display =\n",
              "          google.colab.kernel.accessAllowed ? 'block' : 'none';\n",
              "\n",
              "        async function convertToInteractive(key) {\n",
              "          const element = document.querySelector('#df-bfb32357-f1d6-4813-a4c6-fcb53da7dc94');\n",
              "          const dataTable =\n",
              "            await google.colab.kernel.invokeFunction('convertToInteractive',\n",
              "                                                     [key], {});\n",
              "          if (!dataTable) return;\n",
              "\n",
              "          const docLinkHtml = 'Like what you see? Visit the ' +\n",
              "            '<a target=\"_blank\" href=https://colab.research.google.com/notebooks/data_table.ipynb>data table notebook</a>'\n",
              "            + ' to learn more about interactive tables.';\n",
              "          element.innerHTML = '';\n",
              "          dataTable['output_type'] = 'display_data';\n",
              "          await google.colab.output.renderOutput(dataTable, element);\n",
              "          const docLink = document.createElement('div');\n",
              "          docLink.innerHTML = docLinkHtml;\n",
              "          element.appendChild(docLink);\n",
              "        }\n",
              "      </script>\n",
              "    </div>\n",
              "  </div>\n",
              "  "
            ]
          },
          "metadata": {},
          "execution_count": 17
        }
      ]
    },
    {
      "cell_type": "code",
      "source": [
        "dfc.query(\"ph>6 and ph<=8\").describe()"
      ],
      "metadata": {
        "id": "-iB9kgERigwX",
        "colab": {
          "base_uri": "https://localhost:8080/",
          "height": 300
        },
        "outputId": "68f9ef0d-3597-4b85-f402-e61aef1b79e6"
      },
      "execution_count": null,
      "outputs": [
        {
          "output_type": "execute_result",
          "data": {
            "text/plain": [
              "                ph     Hardness        Solids\n",
              "count  1018.000000  1018.000000   1018.000000\n",
              "mean      7.008552   196.900268  21846.893497\n",
              "std       0.553595    29.024048   8192.801221\n",
              "min       6.000723    97.280909    320.942611\n",
              "25%       6.569565   179.088313  15938.858147\n",
              "50%       6.978478   197.509503  21072.275412\n",
              "75%       7.460332   214.957177  26734.723009\n",
              "max       7.998090   306.627481  48175.852093"
            ],
            "text/html": [
              "\n",
              "  <div id=\"df-8f0cbfdb-6728-4c41-ae30-306de9046de2\">\n",
              "    <div class=\"colab-df-container\">\n",
              "      <div>\n",
              "<style scoped>\n",
              "    .dataframe tbody tr th:only-of-type {\n",
              "        vertical-align: middle;\n",
              "    }\n",
              "\n",
              "    .dataframe tbody tr th {\n",
              "        vertical-align: top;\n",
              "    }\n",
              "\n",
              "    .dataframe thead th {\n",
              "        text-align: right;\n",
              "    }\n",
              "</style>\n",
              "<table border=\"1\" class=\"dataframe\">\n",
              "  <thead>\n",
              "    <tr style=\"text-align: right;\">\n",
              "      <th></th>\n",
              "      <th>ph</th>\n",
              "      <th>Hardness</th>\n",
              "      <th>Solids</th>\n",
              "    </tr>\n",
              "  </thead>\n",
              "  <tbody>\n",
              "    <tr>\n",
              "      <th>count</th>\n",
              "      <td>1018.000000</td>\n",
              "      <td>1018.000000</td>\n",
              "      <td>1018.000000</td>\n",
              "    </tr>\n",
              "    <tr>\n",
              "      <th>mean</th>\n",
              "      <td>7.008552</td>\n",
              "      <td>196.900268</td>\n",
              "      <td>21846.893497</td>\n",
              "    </tr>\n",
              "    <tr>\n",
              "      <th>std</th>\n",
              "      <td>0.553595</td>\n",
              "      <td>29.024048</td>\n",
              "      <td>8192.801221</td>\n",
              "    </tr>\n",
              "    <tr>\n",
              "      <th>min</th>\n",
              "      <td>6.000723</td>\n",
              "      <td>97.280909</td>\n",
              "      <td>320.942611</td>\n",
              "    </tr>\n",
              "    <tr>\n",
              "      <th>25%</th>\n",
              "      <td>6.569565</td>\n",
              "      <td>179.088313</td>\n",
              "      <td>15938.858147</td>\n",
              "    </tr>\n",
              "    <tr>\n",
              "      <th>50%</th>\n",
              "      <td>6.978478</td>\n",
              "      <td>197.509503</td>\n",
              "      <td>21072.275412</td>\n",
              "    </tr>\n",
              "    <tr>\n",
              "      <th>75%</th>\n",
              "      <td>7.460332</td>\n",
              "      <td>214.957177</td>\n",
              "      <td>26734.723009</td>\n",
              "    </tr>\n",
              "    <tr>\n",
              "      <th>max</th>\n",
              "      <td>7.998090</td>\n",
              "      <td>306.627481</td>\n",
              "      <td>48175.852093</td>\n",
              "    </tr>\n",
              "  </tbody>\n",
              "</table>\n",
              "</div>\n",
              "      <button class=\"colab-df-convert\" onclick=\"convertToInteractive('df-8f0cbfdb-6728-4c41-ae30-306de9046de2')\"\n",
              "              title=\"Convert this dataframe to an interactive table.\"\n",
              "              style=\"display:none;\">\n",
              "        \n",
              "  <svg xmlns=\"http://www.w3.org/2000/svg\" height=\"24px\"viewBox=\"0 0 24 24\"\n",
              "       width=\"24px\">\n",
              "    <path d=\"M0 0h24v24H0V0z\" fill=\"none\"/>\n",
              "    <path d=\"M18.56 5.44l.94 2.06.94-2.06 2.06-.94-2.06-.94-.94-2.06-.94 2.06-2.06.94zm-11 1L8.5 8.5l.94-2.06 2.06-.94-2.06-.94L8.5 2.5l-.94 2.06-2.06.94zm10 10l.94 2.06.94-2.06 2.06-.94-2.06-.94-.94-2.06-.94 2.06-2.06.94z\"/><path d=\"M17.41 7.96l-1.37-1.37c-.4-.4-.92-.59-1.43-.59-.52 0-1.04.2-1.43.59L10.3 9.45l-7.72 7.72c-.78.78-.78 2.05 0 2.83L4 21.41c.39.39.9.59 1.41.59.51 0 1.02-.2 1.41-.59l7.78-7.78 2.81-2.81c.8-.78.8-2.07 0-2.86zM5.41 20L4 18.59l7.72-7.72 1.47 1.35L5.41 20z\"/>\n",
              "  </svg>\n",
              "      </button>\n",
              "      \n",
              "  <style>\n",
              "    .colab-df-container {\n",
              "      display:flex;\n",
              "      flex-wrap:wrap;\n",
              "      gap: 12px;\n",
              "    }\n",
              "\n",
              "    .colab-df-convert {\n",
              "      background-color: #E8F0FE;\n",
              "      border: none;\n",
              "      border-radius: 50%;\n",
              "      cursor: pointer;\n",
              "      display: none;\n",
              "      fill: #1967D2;\n",
              "      height: 32px;\n",
              "      padding: 0 0 0 0;\n",
              "      width: 32px;\n",
              "    }\n",
              "\n",
              "    .colab-df-convert:hover {\n",
              "      background-color: #E2EBFA;\n",
              "      box-shadow: 0px 1px 2px rgba(60, 64, 67, 0.3), 0px 1px 3px 1px rgba(60, 64, 67, 0.15);\n",
              "      fill: #174EA6;\n",
              "    }\n",
              "\n",
              "    [theme=dark] .colab-df-convert {\n",
              "      background-color: #3B4455;\n",
              "      fill: #D2E3FC;\n",
              "    }\n",
              "\n",
              "    [theme=dark] .colab-df-convert:hover {\n",
              "      background-color: #434B5C;\n",
              "      box-shadow: 0px 1px 3px 1px rgba(0, 0, 0, 0.15);\n",
              "      filter: drop-shadow(0px 1px 2px rgba(0, 0, 0, 0.3));\n",
              "      fill: #FFFFFF;\n",
              "    }\n",
              "  </style>\n",
              "\n",
              "      <script>\n",
              "        const buttonEl =\n",
              "          document.querySelector('#df-8f0cbfdb-6728-4c41-ae30-306de9046de2 button.colab-df-convert');\n",
              "        buttonEl.style.display =\n",
              "          google.colab.kernel.accessAllowed ? 'block' : 'none';\n",
              "\n",
              "        async function convertToInteractive(key) {\n",
              "          const element = document.querySelector('#df-8f0cbfdb-6728-4c41-ae30-306de9046de2');\n",
              "          const dataTable =\n",
              "            await google.colab.kernel.invokeFunction('convertToInteractive',\n",
              "                                                     [key], {});\n",
              "          if (!dataTable) return;\n",
              "\n",
              "          const docLinkHtml = 'Like what you see? Visit the ' +\n",
              "            '<a target=\"_blank\" href=https://colab.research.google.com/notebooks/data_table.ipynb>data table notebook</a>'\n",
              "            + ' to learn more about interactive tables.';\n",
              "          element.innerHTML = '';\n",
              "          dataTable['output_type'] = 'display_data';\n",
              "          await google.colab.output.renderOutput(dataTable, element);\n",
              "          const docLink = document.createElement('div');\n",
              "          docLink.innerHTML = docLinkHtml;\n",
              "          element.appendChild(docLink);\n",
              "        }\n",
              "      </script>\n",
              "    </div>\n",
              "  </div>\n",
              "  "
            ]
          },
          "metadata": {},
          "execution_count": 18
        }
      ]
    },
    {
      "cell_type": "code",
      "source": [
        "dfc.query(\"ph>8 and ph<=14\").describe()"
      ],
      "metadata": {
        "id": "2VZ1ZpXfk068",
        "colab": {
          "base_uri": "https://localhost:8080/",
          "height": 300
        },
        "outputId": "d7de7c6b-8278-4109-8dbc-edd7e8afdce9"
      },
      "execution_count": null,
      "outputs": [
        {
          "output_type": "execute_result",
          "data": {
            "text/plain": [
              "               ph    Hardness        Solids\n",
              "count  523.000000  523.000000    523.000000\n",
              "mean     9.048041  199.319377  20967.916392\n",
              "std      0.878453   36.680369   8974.537266\n",
              "min      8.000776   73.492234   2552.962804\n",
              "25%      8.353982  179.003150  14151.571604\n",
              "50%      8.846282  201.651667  19946.264665\n",
              "75%      9.528769  220.834041  26530.988090\n",
              "max     14.000000  317.338124  56488.672413"
            ],
            "text/html": [
              "\n",
              "  <div id=\"df-ae5c394e-0f33-4668-8459-8382d32bd342\">\n",
              "    <div class=\"colab-df-container\">\n",
              "      <div>\n",
              "<style scoped>\n",
              "    .dataframe tbody tr th:only-of-type {\n",
              "        vertical-align: middle;\n",
              "    }\n",
              "\n",
              "    .dataframe tbody tr th {\n",
              "        vertical-align: top;\n",
              "    }\n",
              "\n",
              "    .dataframe thead th {\n",
              "        text-align: right;\n",
              "    }\n",
              "</style>\n",
              "<table border=\"1\" class=\"dataframe\">\n",
              "  <thead>\n",
              "    <tr style=\"text-align: right;\">\n",
              "      <th></th>\n",
              "      <th>ph</th>\n",
              "      <th>Hardness</th>\n",
              "      <th>Solids</th>\n",
              "    </tr>\n",
              "  </thead>\n",
              "  <tbody>\n",
              "    <tr>\n",
              "      <th>count</th>\n",
              "      <td>523.000000</td>\n",
              "      <td>523.000000</td>\n",
              "      <td>523.000000</td>\n",
              "    </tr>\n",
              "    <tr>\n",
              "      <th>mean</th>\n",
              "      <td>9.048041</td>\n",
              "      <td>199.319377</td>\n",
              "      <td>20967.916392</td>\n",
              "    </tr>\n",
              "    <tr>\n",
              "      <th>std</th>\n",
              "      <td>0.878453</td>\n",
              "      <td>36.680369</td>\n",
              "      <td>8974.537266</td>\n",
              "    </tr>\n",
              "    <tr>\n",
              "      <th>min</th>\n",
              "      <td>8.000776</td>\n",
              "      <td>73.492234</td>\n",
              "      <td>2552.962804</td>\n",
              "    </tr>\n",
              "    <tr>\n",
              "      <th>25%</th>\n",
              "      <td>8.353982</td>\n",
              "      <td>179.003150</td>\n",
              "      <td>14151.571604</td>\n",
              "    </tr>\n",
              "    <tr>\n",
              "      <th>50%</th>\n",
              "      <td>8.846282</td>\n",
              "      <td>201.651667</td>\n",
              "      <td>19946.264665</td>\n",
              "    </tr>\n",
              "    <tr>\n",
              "      <th>75%</th>\n",
              "      <td>9.528769</td>\n",
              "      <td>220.834041</td>\n",
              "      <td>26530.988090</td>\n",
              "    </tr>\n",
              "    <tr>\n",
              "      <th>max</th>\n",
              "      <td>14.000000</td>\n",
              "      <td>317.338124</td>\n",
              "      <td>56488.672413</td>\n",
              "    </tr>\n",
              "  </tbody>\n",
              "</table>\n",
              "</div>\n",
              "      <button class=\"colab-df-convert\" onclick=\"convertToInteractive('df-ae5c394e-0f33-4668-8459-8382d32bd342')\"\n",
              "              title=\"Convert this dataframe to an interactive table.\"\n",
              "              style=\"display:none;\">\n",
              "        \n",
              "  <svg xmlns=\"http://www.w3.org/2000/svg\" height=\"24px\"viewBox=\"0 0 24 24\"\n",
              "       width=\"24px\">\n",
              "    <path d=\"M0 0h24v24H0V0z\" fill=\"none\"/>\n",
              "    <path d=\"M18.56 5.44l.94 2.06.94-2.06 2.06-.94-2.06-.94-.94-2.06-.94 2.06-2.06.94zm-11 1L8.5 8.5l.94-2.06 2.06-.94-2.06-.94L8.5 2.5l-.94 2.06-2.06.94zm10 10l.94 2.06.94-2.06 2.06-.94-2.06-.94-.94-2.06-.94 2.06-2.06.94z\"/><path d=\"M17.41 7.96l-1.37-1.37c-.4-.4-.92-.59-1.43-.59-.52 0-1.04.2-1.43.59L10.3 9.45l-7.72 7.72c-.78.78-.78 2.05 0 2.83L4 21.41c.39.39.9.59 1.41.59.51 0 1.02-.2 1.41-.59l7.78-7.78 2.81-2.81c.8-.78.8-2.07 0-2.86zM5.41 20L4 18.59l7.72-7.72 1.47 1.35L5.41 20z\"/>\n",
              "  </svg>\n",
              "      </button>\n",
              "      \n",
              "  <style>\n",
              "    .colab-df-container {\n",
              "      display:flex;\n",
              "      flex-wrap:wrap;\n",
              "      gap: 12px;\n",
              "    }\n",
              "\n",
              "    .colab-df-convert {\n",
              "      background-color: #E8F0FE;\n",
              "      border: none;\n",
              "      border-radius: 50%;\n",
              "      cursor: pointer;\n",
              "      display: none;\n",
              "      fill: #1967D2;\n",
              "      height: 32px;\n",
              "      padding: 0 0 0 0;\n",
              "      width: 32px;\n",
              "    }\n",
              "\n",
              "    .colab-df-convert:hover {\n",
              "      background-color: #E2EBFA;\n",
              "      box-shadow: 0px 1px 2px rgba(60, 64, 67, 0.3), 0px 1px 3px 1px rgba(60, 64, 67, 0.15);\n",
              "      fill: #174EA6;\n",
              "    }\n",
              "\n",
              "    [theme=dark] .colab-df-convert {\n",
              "      background-color: #3B4455;\n",
              "      fill: #D2E3FC;\n",
              "    }\n",
              "\n",
              "    [theme=dark] .colab-df-convert:hover {\n",
              "      background-color: #434B5C;\n",
              "      box-shadow: 0px 1px 3px 1px rgba(0, 0, 0, 0.15);\n",
              "      filter: drop-shadow(0px 1px 2px rgba(0, 0, 0, 0.3));\n",
              "      fill: #FFFFFF;\n",
              "    }\n",
              "  </style>\n",
              "\n",
              "      <script>\n",
              "        const buttonEl =\n",
              "          document.querySelector('#df-ae5c394e-0f33-4668-8459-8382d32bd342 button.colab-df-convert');\n",
              "        buttonEl.style.display =\n",
              "          google.colab.kernel.accessAllowed ? 'block' : 'none';\n",
              "\n",
              "        async function convertToInteractive(key) {\n",
              "          const element = document.querySelector('#df-ae5c394e-0f33-4668-8459-8382d32bd342');\n",
              "          const dataTable =\n",
              "            await google.colab.kernel.invokeFunction('convertToInteractive',\n",
              "                                                     [key], {});\n",
              "          if (!dataTable) return;\n",
              "\n",
              "          const docLinkHtml = 'Like what you see? Visit the ' +\n",
              "            '<a target=\"_blank\" href=https://colab.research.google.com/notebooks/data_table.ipynb>data table notebook</a>'\n",
              "            + ' to learn more about interactive tables.';\n",
              "          element.innerHTML = '';\n",
              "          dataTable['output_type'] = 'display_data';\n",
              "          await google.colab.output.renderOutput(dataTable, element);\n",
              "          const docLink = document.createElement('div');\n",
              "          docLink.innerHTML = docLinkHtml;\n",
              "          element.appendChild(docLink);\n",
              "        }\n",
              "      </script>\n",
              "    </div>\n",
              "  </div>\n",
              "  "
            ]
          },
          "metadata": {},
          "execution_count": 19
        }
      ]
    },
    {
      "cell_type": "markdown",
      "source": [
        "En este punto realmente nos damos cuenta de que no existe una relación directa entre las variables y la salida, o de manera práctica, no necesariamente una dureza alta implica que el pH será alto (se puede observar además que lso rangos se incluyen mutuamente, significando entonces que en general, un pH puede tener cualquier cantidad de sólidos sumergidos, y puede ser lo dura o no que pueda, sin necesidad de que esto afecte trascendentalmente su pH...Las medias además son sumamente similares, y la única que parece tener una variación ligeramente considerable es la de cantidad de sólidos.\n",
        "\n",
        "Este dato incluso pudimos haberlo deducido de la matriz de correlación, pues el tener una pearson menor de 15%, básicamente estamos afirmando que a relación entre la salida y esta entrada que revisamos, es básicamente tan débil que será complicado encontrar patrones particulares."
      ],
      "metadata": {
        "id": "YFnQqNXHQrqM"
      }
    },
    {
      "cell_type": "markdown",
      "source": [
        "Ahora realizamos la graficación y fuzzyficación de la dureza y los sólidos...Para esta segunda variable en particular no existe un rango, por lo que utilizaremos los percentiles para establecer los dos rangos que se usarán en este caso, siendo ambos alto y bajo contenido de sólidos."
      ],
      "metadata": {
        "id": "_zBNZ4CQqw66"
      }
    },
    {
      "cell_type": "code",
      "source": [
        "#Dureza fuzzyficada\n",
        "mf_qual = np.arange(0, 400, 1)\n",
        "d_baja = fuzz.trapmf(mf_qual, [0, 10, 110,130])\n",
        "d_media = fuzz.trapmf(mf_qual, [110, 120,180, 190])\n",
        "d_alta = fuzz.trapmf(mf_qual, [170, 190, 385,395])\n",
        "\n",
        "#Solidos fuzzyficados\n",
        "mf_solid = np.arange(0, 60000, 1)\n",
        "s_baja = fuzz.trapmf(mf_solid, [0, 100, 12000,18000])\n",
        "s_alta = fuzz.trapmf(mf_solid, [16000, 20000, 45000,59000])\n",
        "\n",
        "#pH Fuzzyficado\n",
        "mf_ph = np.arange(0, 15, 1)\n",
        "ph_acid = fuzz.trapmf(mf_ph, [0, 1, 5, 7])\n",
        "ph_neutral = fuzz.trimf(mf_ph, [6, 7, 8])\n",
        "ph_basic = fuzz.trapmf(mf_ph, [7, 9, 13, 14])"
      ],
      "metadata": {
        "id": "b-4TdU_O72JI"
      },
      "execution_count": null,
      "outputs": []
    },
    {
      "cell_type": "code",
      "source": [
        "# To see how these look with plot\n",
        "plt.plot(mf_qual, d_baja, 'g', linewidth=1.5, label='Baja')\n",
        "plt.plot(mf_qual, d_media, 'b', linewidth=1.5, label='Media')\n",
        "plt.plot(mf_qual, d_alta, 'r', linewidth=3, label='Alta')\n",
        "\n",
        "plt.title('Dureza')\n",
        "plt.legend()\n",
        "plt.show()\n",
        "\n",
        "# To see how these look with plot\n",
        "plt.plot(mf_solid, s_baja, 'g', linewidth=1.5, label='Baja')\n",
        "plt.plot(mf_solid, s_alta, 'r', linewidth=3, label='Alta')\n",
        "\n",
        "plt.title('Solidos')\n",
        "plt.legend()\n",
        "plt.show()\n",
        "\n",
        "# To see how these look with plot\n",
        "plt.plot(mf_ph, ph_acid, 'g', linewidth=1.5, label='Acido')\n",
        "plt.plot(mf_ph, ph_neutral, 'b', linewidth=1.5, label='Neutro')\n",
        "plt.plot(mf_ph, ph_basic, 'r', linewidth=3, label='Básico')\n",
        "\n",
        "plt.title('pH')\n",
        "plt.legend()\n",
        "plt.show()"
      ],
      "metadata": {
        "colab": {
          "base_uri": "https://localhost:8080/",
          "height": 1000
        },
        "id": "UY9y9zbG84jG",
        "outputId": "62dd330a-9768-4dba-d167-5b2aed3d4191"
      },
      "execution_count": null,
      "outputs": [
        {
          "output_type": "display_data",
          "data": {
            "text/plain": [
              "<Figure size 1152x648 with 1 Axes>"
            ],
            "image/png": "[encoded data removed]"
          },
          "metadata": {}
        },
        {
          "output_type": "display_data",
          "data": {
            "text/plain": [
              "<Figure size 1152x648 with 1 Axes>"
            ],
            "image/png": "[encoded data removed]"
          },
          "metadata": {}
        },
        {
          "output_type": "display_data",
          "data": {
            "text/plain": [
              "<Figure size 1152x648 with 1 Axes>"
            ],
            "image/png": "[encoded data removed]"
          },
          "metadata": {}
        }
      ]
    },
    {
      "cell_type": "markdown",
      "source": [
        "Fuzzyficamos y vectorizamos las variables de dureza (en 3 trozos) y la de sólidos (en 2)."
      ],
      "metadata": {
        "id": "j7oK4l1lsuXS"
      }
    },
    {
      "cell_type": "code",
      "source": [
        "def Fuzzfydureza(qualVal):\n",
        "  fzz_qual = np.zeros(3)\n",
        "  fzz_qual[0] = fuzz.interp_membership(mf_qual, d_baja, qualVal)\n",
        "  fzz_qual[1] = fuzz.interp_membership(mf_qual, d_media, qualVal)\n",
        "  fzz_qual[2] = fuzz.interp_membership(mf_qual, d_alta, qualVal)\n",
        "  return fzz_qual\n",
        "\n",
        "#----------------------------------\n",
        "def FuzzfySolids(svcVal):\n",
        "  fzz_svc = np.zeros(3)\n",
        "  fzz_svc[0] = fuzz.interp_membership(mf_solid, s_baja, svcVal)\n",
        "  fzz_svc[1] = fuzz.interp_membership(mf_solid, s_alta, svcVal)\n",
        "  return fzz_svc"
      ],
      "metadata": {
        "id": "0IK2QyrlBEh_"
      },
      "execution_count": null,
      "outputs": []
    },
    {
      "cell_type": "markdown",
      "source": [
        "## 5. Evaluación de reglas."
      ],
      "metadata": {
        "id": "CyaVAxwptzsB"
      }
    },
    {
      "cell_type": "code",
      "source": [
        "def evalRules(fuzzedQal, fuzzedSvc):\n",
        "  outVarS = np.zeros(3)\n",
        "  outVarS[0] = max(outVarS[0], max(min(fuzzedQal[0], fuzzedSvc[1]),min(fuzzedQal[2], fuzzedSvc[1]))) # rule1 si dureza alta y solidos bajos es acido\n",
        "  outVarS[1] = max(outVarS[1], max(min(fuzzedQal[1], fuzzedSvc[0]),min(fuzzedQal[1], fuzzedSvc[1]))) # rule2 si ambas medias eso es neutro\n",
        "  outVarS[2] = max(outVarS[2], max(min(fuzzedQal[2], fuzzedSvc[0]),min(fuzzedQal[0], fuzzedSvc[0]))) # rule3 si dureza baja y solidos altos es base\n",
        "  return outVarS\n",
        "\n",
        "def setOutMFs(outRuleVars):\n",
        "\n",
        "  t_low_max = np.full(np.shape(mf_ph),outRuleVars[0])\n",
        "  t_ave_max = np.full(np.shape(mf_ph),outRuleVars[1])\n",
        "  t_hig_max = np.full(np.shape(mf_ph),outRuleVars[2])\n",
        "\n",
        "  # copy the MF from the original clipped by the level from above.\n",
        "  t_out_low = np.fmin(t_low_max, ph_acid)\n",
        "  t_out_ave = np.fmin(t_ave_max, ph_neutral)\n",
        "  t_out_hig = np.fmin(t_hig_max, ph_basic)\n",
        "  \n",
        "\n",
        "  # Retorno de una sola variable.\n",
        "  t_Out_mfs = np.stack((t_out_low, t_out_ave, t_out_hig))\n",
        "\n",
        "  return t_Out_mfs"
      ],
      "metadata": {
        "id": "z-pXCtdZC6CJ"
      },
      "execution_count": null,
      "outputs": []
    },
    {
      "cell_type": "code",
      "source": [
        "def execFzzedRules(scroeQual, scoreSvc):\n",
        "\n",
        "  # Fuzzyficar los scores.\n",
        "  fzzedQal = Fuzzfydureza(scroeQual)\n",
        "  fzzedSvc = FuzzfySolids(scoreSvc)\n",
        "\n",
        "\n",
        "  # Evaluar las reglas y obtener la calidad.\n",
        "  EvaledRs = evalRules(fzzedQal, fzzedSvc)\n",
        "  #print( EvaledRs)\n",
        "  outMFs = setOutMFs(EvaledRs)\n",
        "\n",
        "  # Una sola defuzzyficación.\n",
        "  outTempMF =  fuzz.fuzzy_or(mf_ph, outMFs[0], mf_ph, outMFs[1])\n",
        "  outTotalMF =  fuzz.fuzzy_or(mf_ph, outTempMF[1], mf_ph, outMFs[2])\n",
        "  print(outTotalMF)\n",
        "\n",
        "  # Obtener el output.\n",
        "  fTip = fuzz.defuzz(outTotalMF[0], outTotalMF[1],'centroid')\n",
        "\n",
        "  # plt.plot(outTotalMF[0], outTotalMF[1], 'r', linewidth=3, label='Final aggregated MFs')\n",
        "  # plt.plot([fTip,fTip], [0, 1], 'g', linewidth=1.5, label='Defuzz Result')\n",
        "  # plt.title('Aggregated MFs')\n",
        "  # plt.legend()\n",
        "  # plt.show()\n",
        "\n",
        "\n",
        "\n",
        "  return (fTip)"
      ],
      "metadata": {
        "id": "7woKnqazHRDZ"
      },
      "execution_count": null,
      "outputs": []
    },
    {
      "cell_type": "code",
      "source": [
        "df.reset_index(drop=True,inplace=True)"
      ],
      "metadata": {
        "id": "ZsNK6dIalH14"
      },
      "execution_count": null,
      "outputs": []
    },
    {
      "cell_type": "code",
      "source": [
        "lista=[]\n",
        "label=[]\n",
        "label_pred=[]\n",
        "for i in range(len(df)):\n",
        "  lista.append(execFzzedRules(df['Hardness'][i],df['Solids'][i]))\n",
        "  if int(df['ph'][i])>=0 and  int(df['ph'][i])<7:\n",
        "    label.append('Acido')\n",
        "  elif int(df['ph'][i])>=7 and  int(df['ph'][i])<8:\n",
        "    label.append('Neutro')\n",
        "  elif int(df['ph'][i])>7:\n",
        "    label.append('Base')\n",
        "  if int(execFzzedRules(df['Hardness'][i],df['Solids'][i]))>=0 and  int(execFzzedRules(df['Hardness'][i],df['Solids'][i]))<7:\n",
        "    label_pred.append('Acido')\n",
        "  elif int(execFzzedRules(df['Hardness'][i],df['Solids'][i]))>=7 and  int(execFzzedRules(df['Hardness'][i],df['Solids'][i]))<8:\n",
        "    label_pred.append('Neutro')\n",
        "  elif int(execFzzedRules(df['Hardness'][i],df['Solids'][i]))>7:\n",
        "    label_pred.append('Base')\n",
        "  \n",
        "\n",
        "\n",
        "\n",
        "\n",
        "df['Prediccion']=pd.DataFrame(lista,index=df.index)\n",
        "df['Label']=pd.DataFrame(label,index=df.index)\n",
        "df['Label_Pred']=pd.DataFrame(label_pred,index=df.index)"
      ],
      "metadata": {
        "id": "SuhVSBSXHb1j"
      },
      "execution_count": null,
      "outputs": []
    },
    {
      "cell_type": "code",
      "source": [],
      "metadata": {
        "id": "moZrVEvX-KMm"
      },
      "execution_count": null,
      "outputs": []
    },
    {
      "cell_type": "code",
      "source": [
        "from sklearn.metrics import classification_report\n",
        "\n",
        "\n",
        "print(classification_report(df['Label'], df['Label_Pred'], target_names=['Acido','Neutro','Base']))"
      ],
      "metadata": {
        "colab": {
          "base_uri": "https://localhost:8080/"
        },
        "id": "Qq6ox_wik1Q7",
        "outputId": "cc0b30d1-ce5e-483c-e890-7f14f4ed4f96"
      },
      "execution_count": null,
      "outputs": [
        {
          "output_type": "stream",
          "name": "stdout",
          "text": [
            "              precision    recall  f1-score   support\n",
            "\n",
            "       Acido       0.48      0.57      0.52       992\n",
            "      Neutro       0.32      0.30      0.31       523\n",
            "        Base       0.15      0.11      0.13       496\n",
            "\n",
            "    accuracy                           0.39      2011\n",
            "   macro avg       0.32      0.33      0.32      2011\n",
            "weighted avg       0.36      0.39      0.37      2011\n",
            "\n"
          ]
        }
      ]
    }
  ]
}