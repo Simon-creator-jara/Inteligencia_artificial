{
  "nbformat": 4,
  "nbformat_minor": 0,
  "metadata": {
    "colab": {
      "provenance": [],
      "mount_file_id": "1eBBcW5S981qke0m-6m-ACwo8E2_X7fZ_",
      "authorship_tag": "ABX9TyNnRZDciOGKyRVXtr1XGOrW",
      "include_colab_link": true
    },
    "kernelspec": {
      "name": "python3",
      "display_name": "Python 3"
    },
    "language_info": {
      "name": "python"
    }
  },
  "cells": [
    {
      "cell_type": "markdown",
      "metadata": {
        "id": "view-in-github",
        "colab_type": "text"
      },
      "source": [
        "<a href=\"https://colab.research.google.com/github/Simon-creator-jara/Inteligencia_artificial/blob/main/Prueba_Nequi.ipynb\" target=\"_parent\"><img src=\"https://colab.research.google.com/assets/colab-badge.svg\" alt=\"Open In Colab\"/></a>"
      ]
    },
    {
      "cell_type": "markdown",
      "source": [
        "# Librerías"
      ],
      "metadata": {
        "id": "x0TmdkVDzHmm"
      }
    },
    {
      "cell_type": "markdown",
      "source": [
        "Comenzamos por importar las librerías necesarias para el proceso"
      ],
      "metadata": {
        "id": "RWX-V1V34XvD"
      }
    },
    {
      "cell_type": "code",
      "source": [
        "!pip install scikit-fuzzy"
      ],
      "metadata": {
        "colab": {
          "base_uri": "https://localhost:8080/"
        },
        "id": "s9hRWvL1u-bO",
        "outputId": "3607ce0a-d7e8-42fa-9f51-2a9452781a14"
      },
      "execution_count": null,
      "outputs": [
        {
          "output_type": "stream",
          "name": "stdout",
          "text": [
            "Looking in indexes: https://pypi.org/simple, https://us-python.pkg.dev/colab-wheels/public/simple/\n",
            "Collecting scikit-fuzzy\n",
            "  Downloading scikit-fuzzy-0.4.2.tar.gz (993 kB)\n",
            "\u001b[2K     \u001b[90m━━━━━━━━━━━━━━━━━━━━━━━━━━━━━━━━━━━━━━\u001b[0m \u001b[32m994.0/994.0 KB\u001b[0m \u001b[31m14.2 MB/s\u001b[0m eta \u001b[36m0:00:00\u001b[0m\n",
            "\u001b[?25h  Preparing metadata (setup.py) ... \u001b[?25l\u001b[?25hdone\n",
            "Requirement already satisfied: numpy>=1.6.0 in /usr/local/lib/python3.8/dist-packages (from scikit-fuzzy) (1.22.4)\n",
            "Requirement already satisfied: scipy>=0.9.0 in /usr/local/lib/python3.8/dist-packages (from scikit-fuzzy) (1.7.3)\n",
            "Requirement already satisfied: networkx>=1.9.0 in /usr/local/lib/python3.8/dist-packages (from scikit-fuzzy) (3.0)\n",
            "Building wheels for collected packages: scikit-fuzzy\n",
            "  Building wheel for scikit-fuzzy (setup.py) ... \u001b[?25l\u001b[?25hdone\n",
            "  Created wheel for scikit-fuzzy: filename=scikit_fuzzy-0.4.2-py3-none-any.whl size=894088 sha256=4d3255d85ee66975526656fa3ef6c069953b4c58db7ee9e92a02fbe5f6286d67\n",
            "  Stored in directory: /root/.cache/pip/wheels/2c/04/80/7eefb1a2de7d36aefd06432fab2a1486caf0a0596a7067391a\n",
            "Successfully built scikit-fuzzy\n",
            "Installing collected packages: scikit-fuzzy\n",
            "Successfully installed scikit-fuzzy-0.4.2\n"
          ]
        }
      ]
    },
    {
      "cell_type": "code",
      "source": [
        "#Librerías\n",
        "import numpy as np\n",
        "import matplotlib.pyplot as plt\n",
        "import skfuzzy as fuzz\n",
        "import pandas as pd\n",
        "from random import seed\n",
        "from random import random\n",
        "import pandas as pd\n",
        "from datetime import datetime,timedelta\n",
        "import matplotlib.pyplot as plt\n",
        "import seaborn as sns\n",
        "sns.set_theme(style=\"whitegrid\")\n",
        "plt.rcParams['figure.figsize']=(16,9)\n",
        "plt.style.use('ggplot')"
      ],
      "metadata": {
        "id": "_A17PHuRaZso"
      },
      "execution_count": null,
      "outputs": []
    },
    {
      "cell_type": "code",
      "execution_count": null,
      "metadata": {
        "id": "Dj0r0SODZtUJ"
      },
      "outputs": [],
      "source": [
        "path=\"/content/drive/MyDrive/PruebaNequi/sample_data_0006_part_00.parquet\""
      ]
    },
    {
      "cell_type": "markdown",
      "source": [
        "# Carga de datos"
      ],
      "metadata": {
        "id": "7_sTdAVIzPaO"
      }
    },
    {
      "cell_type": "markdown",
      "source": [
        "Cargamos los datos almacenados en Drive"
      ],
      "metadata": {
        "id": "QvNkgNer4eDj"
      }
    },
    {
      "cell_type": "code",
      "source": [
        "data=pd.read_parquet(path, engine='pyarrow')\n",
        "data"
      ],
      "metadata": {
        "colab": {
          "base_uri": "https://localhost:8080/",
          "height": 661
        },
        "id": "6I25INXwaICd",
        "outputId": "6d1b7c82-a13a-4ed9-ce69-e6d58622738a"
      },
      "execution_count": null,
      "outputs": [
        {
          "output_type": "execute_result",
          "data": {
            "text/plain": [
              "                               merchant_id                               _id  \\\n",
              "0         075d178871d8d48502bf1f54887e52fe  aa8dacff663072244d0a8ab6bbe36b93   \n",
              "1         075d178871d8d48502bf1f54887e52fe  a53bb81bd0bba2ae2535bda7ea5a550c   \n",
              "2         075d178871d8d48502bf1f54887e52fe  79f893ea65c06fe2933f3847c88c272f   \n",
              "3         075d178871d8d48502bf1f54887e52fe  ce577223699dbdc119df2ab8a35457fe   \n",
              "4         075d178871d8d48502bf1f54887e52fe  0ce7ab2950e7a788a608f881aec0f8f0   \n",
              "...                                    ...                               ...   \n",
              "10758413  838a8fa992a4aa2fb5a0cf8b15b63755  a5aa72fcd7c5112edc34cb9a958a0527   \n",
              "10758414  838a8fa992a4aa2fb5a0cf8b15b63755  5c61b1bf4b8d977c550635f9fedb70c2   \n",
              "10758415  838a8fa992a4aa2fb5a0cf8b15b63755  7a501edf36586ee7ec4d7fb67e905fdc   \n",
              "10758416  838a8fa992a4aa2fb5a0cf8b15b63755  52974b152d981985b17cdbdf29603e86   \n",
              "10758417  838a8fa992a4aa2fb5a0cf8b15b63755  6fd61b277c026e8494579aedab8b5355   \n",
              "\n",
              "                                subsidiary    transaction_date  \\\n",
              "0         824b2af470cbe6a65b15650e03b740fc 2021-09-12 18:32:03   \n",
              "1         2d8d34be7509a6b1262336d036fdb324 2021-09-12 18:31:58   \n",
              "2         5eeb18254850b21af0a6bb2697913cd3 2021-09-12 18:31:56   \n",
              "3         5221a599856c0a0588ed9ffd150edd3b 2021-09-12 18:31:10   \n",
              "4         971e55ef12d80ec070ea4f6750c8b892 2021-09-12 18:31:07   \n",
              "...                                    ...                 ...   \n",
              "10758413  491f82ee9080fb1bd9136582af5d05e0 2021-11-28 15:04:13   \n",
              "10758414  cda5c7bd709e27ff91387b92fb4b00d1 2021-11-30 14:18:23   \n",
              "10758415  c8c13e18a816fed4a3b31727543da42d 2021-11-30 14:57:53   \n",
              "10758416  e966a70a113b62d9450f3367b66cc2dc 2021-11-29 12:38:25   \n",
              "10758417  d0e8e9651430f2aa83517438c337f66e 2021-11-28 19:20:27   \n",
              "\n",
              "                            account_number                           user_id  \\\n",
              "0         648e257c9d74909a1f61c54b93a9e1b3  ba42d192a145583ba8e7bf04875f837f   \n",
              "1         c0b62f9046c83ea5543ea46a497a4d6e  5cfff960ea6d732c1ba3e63d24f3be52   \n",
              "2         872d10143fc0ac7d5de467806f6bef81  c97e63a92c82c7217b333635d75928ed   \n",
              "3         2e35cfe7860a480a93e1c83e99843579  fc09bdd00f283222d65eaff4d00a6594   \n",
              "4         995bc89e4c4e00334f1f90c4a55f4729  213527e8ba94fcaf2f9378969f9f6abc   \n",
              "...                                    ...                               ...   \n",
              "10758413  123194d19f7c115e27714410dbb5a258  42e1e57b83adc6f96da060e3532bddb4   \n",
              "10758414  e6df02c2b8ff18dedd8c363712bae8a2  b63e177e5fc48f25b24e5e2866aa99c0   \n",
              "10758415  c7d51806a26ff2e94bab939e720b67e6  2693ec4b35cf20dc7db973022d84c0a5   \n",
              "10758416  3810f9c0156ed6c41ecc7a5dc73019ba  9f6a319138dbc5bd2bbc47f82723f30c   \n",
              "10758417  dfd8e5ffa45e5c85a223e59f68adc186  7f6d02f822d5b21b5e47b5130a6ff57c   \n",
              "\n",
              "         transaction_amount transaction_type  \n",
              "0              178.33365037          CREDITO  \n",
              "1               35.66673007          CREDITO  \n",
              "2              142.66692029          CREDITO  \n",
              "3                8.32223701          CREDITO  \n",
              "4               32.10005706          CREDITO  \n",
              "...                     ...              ...  \n",
              "10758413       582.55659121          CREDITO  \n",
              "10758414        11.88891002          CREDITO  \n",
              "10758415       285.33384059          CREDITO  \n",
              "10758416        11.88891002          CREDITO  \n",
              "10758417       178.33365037          CREDITO  \n",
              "\n",
              "[10758418 rows x 8 columns]"
            ],
            "text/html": [
              "\n",
              "  <div id=\"df-5b88082a-f40f-4847-99c8-2529d09cd7ab\">\n",
              "    <div class=\"colab-df-container\">\n",
              "      <div>\n",
              "<style scoped>\n",
              "    .dataframe tbody tr th:only-of-type {\n",
              "        vertical-align: middle;\n",
              "    }\n",
              "\n",
              "    .dataframe tbody tr th {\n",
              "        vertical-align: top;\n",
              "    }\n",
              "\n",
              "    .dataframe thead th {\n",
              "        text-align: right;\n",
              "    }\n",
              "</style>\n",
              "<table border=\"1\" class=\"dataframe\">\n",
              "  <thead>\n",
              "    <tr style=\"text-align: right;\">\n",
              "      <th></th>\n",
              "      <th>merchant_id</th>\n",
              "      <th>_id</th>\n",
              "      <th>subsidiary</th>\n",
              "      <th>transaction_date</th>\n",
              "      <th>account_number</th>\n",
              "      <th>user_id</th>\n",
              "      <th>transaction_amount</th>\n",
              "      <th>transaction_type</th>\n",
              "    </tr>\n",
              "  </thead>\n",
              "  <tbody>\n",
              "    <tr>\n",
              "      <th>0</th>\n",
              "      <td>075d178871d8d48502bf1f54887e52fe</td>\n",
              "      <td>aa8dacff663072244d0a8ab6bbe36b93</td>\n",
              "      <td>824b2af470cbe6a65b15650e03b740fc</td>\n",
              "      <td>2021-09-12 18:32:03</td>\n",
              "      <td>648e257c9d74909a1f61c54b93a9e1b3</td>\n",
              "      <td>ba42d192a145583ba8e7bf04875f837f</td>\n",
              "      <td>178.33365037</td>\n",
              "      <td>CREDITO</td>\n",
              "    </tr>\n",
              "    <tr>\n",
              "      <th>1</th>\n",
              "      <td>075d178871d8d48502bf1f54887e52fe</td>\n",
              "      <td>a53bb81bd0bba2ae2535bda7ea5a550c</td>\n",
              "      <td>2d8d34be7509a6b1262336d036fdb324</td>\n",
              "      <td>2021-09-12 18:31:58</td>\n",
              "      <td>c0b62f9046c83ea5543ea46a497a4d6e</td>\n",
              "      <td>5cfff960ea6d732c1ba3e63d24f3be52</td>\n",
              "      <td>35.66673007</td>\n",
              "      <td>CREDITO</td>\n",
              "    </tr>\n",
              "    <tr>\n",
              "      <th>2</th>\n",
              "      <td>075d178871d8d48502bf1f54887e52fe</td>\n",
              "      <td>79f893ea65c06fe2933f3847c88c272f</td>\n",
              "      <td>5eeb18254850b21af0a6bb2697913cd3</td>\n",
              "      <td>2021-09-12 18:31:56</td>\n",
              "      <td>872d10143fc0ac7d5de467806f6bef81</td>\n",
              "      <td>c97e63a92c82c7217b333635d75928ed</td>\n",
              "      <td>142.66692029</td>\n",
              "      <td>CREDITO</td>\n",
              "    </tr>\n",
              "    <tr>\n",
              "      <th>3</th>\n",
              "      <td>075d178871d8d48502bf1f54887e52fe</td>\n",
              "      <td>ce577223699dbdc119df2ab8a35457fe</td>\n",
              "      <td>5221a599856c0a0588ed9ffd150edd3b</td>\n",
              "      <td>2021-09-12 18:31:10</td>\n",
              "      <td>2e35cfe7860a480a93e1c83e99843579</td>\n",
              "      <td>fc09bdd00f283222d65eaff4d00a6594</td>\n",
              "      <td>8.32223701</td>\n",
              "      <td>CREDITO</td>\n",
              "    </tr>\n",
              "    <tr>\n",
              "      <th>4</th>\n",
              "      <td>075d178871d8d48502bf1f54887e52fe</td>\n",
              "      <td>0ce7ab2950e7a788a608f881aec0f8f0</td>\n",
              "      <td>971e55ef12d80ec070ea4f6750c8b892</td>\n",
              "      <td>2021-09-12 18:31:07</td>\n",
              "      <td>995bc89e4c4e00334f1f90c4a55f4729</td>\n",
              "      <td>213527e8ba94fcaf2f9378969f9f6abc</td>\n",
              "      <td>32.10005706</td>\n",
              "      <td>CREDITO</td>\n",
              "    </tr>\n",
              "    <tr>\n",
              "      <th>...</th>\n",
              "      <td>...</td>\n",
              "      <td>...</td>\n",
              "      <td>...</td>\n",
              "      <td>...</td>\n",
              "      <td>...</td>\n",
              "      <td>...</td>\n",
              "      <td>...</td>\n",
              "      <td>...</td>\n",
              "    </tr>\n",
              "    <tr>\n",
              "      <th>10758413</th>\n",
              "      <td>838a8fa992a4aa2fb5a0cf8b15b63755</td>\n",
              "      <td>a5aa72fcd7c5112edc34cb9a958a0527</td>\n",
              "      <td>491f82ee9080fb1bd9136582af5d05e0</td>\n",
              "      <td>2021-11-28 15:04:13</td>\n",
              "      <td>123194d19f7c115e27714410dbb5a258</td>\n",
              "      <td>42e1e57b83adc6f96da060e3532bddb4</td>\n",
              "      <td>582.55659121</td>\n",
              "      <td>CREDITO</td>\n",
              "    </tr>\n",
              "    <tr>\n",
              "      <th>10758414</th>\n",
              "      <td>838a8fa992a4aa2fb5a0cf8b15b63755</td>\n",
              "      <td>5c61b1bf4b8d977c550635f9fedb70c2</td>\n",
              "      <td>cda5c7bd709e27ff91387b92fb4b00d1</td>\n",
              "      <td>2021-11-30 14:18:23</td>\n",
              "      <td>e6df02c2b8ff18dedd8c363712bae8a2</td>\n",
              "      <td>b63e177e5fc48f25b24e5e2866aa99c0</td>\n",
              "      <td>11.88891002</td>\n",
              "      <td>CREDITO</td>\n",
              "    </tr>\n",
              "    <tr>\n",
              "      <th>10758415</th>\n",
              "      <td>838a8fa992a4aa2fb5a0cf8b15b63755</td>\n",
              "      <td>7a501edf36586ee7ec4d7fb67e905fdc</td>\n",
              "      <td>c8c13e18a816fed4a3b31727543da42d</td>\n",
              "      <td>2021-11-30 14:57:53</td>\n",
              "      <td>c7d51806a26ff2e94bab939e720b67e6</td>\n",
              "      <td>2693ec4b35cf20dc7db973022d84c0a5</td>\n",
              "      <td>285.33384059</td>\n",
              "      <td>CREDITO</td>\n",
              "    </tr>\n",
              "    <tr>\n",
              "      <th>10758416</th>\n",
              "      <td>838a8fa992a4aa2fb5a0cf8b15b63755</td>\n",
              "      <td>52974b152d981985b17cdbdf29603e86</td>\n",
              "      <td>e966a70a113b62d9450f3367b66cc2dc</td>\n",
              "      <td>2021-11-29 12:38:25</td>\n",
              "      <td>3810f9c0156ed6c41ecc7a5dc73019ba</td>\n",
              "      <td>9f6a319138dbc5bd2bbc47f82723f30c</td>\n",
              "      <td>11.88891002</td>\n",
              "      <td>CREDITO</td>\n",
              "    </tr>\n",
              "    <tr>\n",
              "      <th>10758417</th>\n",
              "      <td>838a8fa992a4aa2fb5a0cf8b15b63755</td>\n",
              "      <td>6fd61b277c026e8494579aedab8b5355</td>\n",
              "      <td>d0e8e9651430f2aa83517438c337f66e</td>\n",
              "      <td>2021-11-28 19:20:27</td>\n",
              "      <td>dfd8e5ffa45e5c85a223e59f68adc186</td>\n",
              "      <td>7f6d02f822d5b21b5e47b5130a6ff57c</td>\n",
              "      <td>178.33365037</td>\n",
              "      <td>CREDITO</td>\n",
              "    </tr>\n",
              "  </tbody>\n",
              "</table>\n",
              "<p>10758418 rows × 8 columns</p>\n",
              "</div>\n",
              "      <button class=\"colab-df-convert\" onclick=\"convertToInteractive('df-5b88082a-f40f-4847-99c8-2529d09cd7ab')\"\n",
              "              title=\"Convert this dataframe to an interactive table.\"\n",
              "              style=\"display:none;\">\n",
              "        \n",
              "  <svg xmlns=\"http://www.w3.org/2000/svg\" height=\"24px\"viewBox=\"0 0 24 24\"\n",
              "       width=\"24px\">\n",
              "    <path d=\"M0 0h24v24H0V0z\" fill=\"none\"/>\n",
              "    <path d=\"M18.56 5.44l.94 2.06.94-2.06 2.06-.94-2.06-.94-.94-2.06-.94 2.06-2.06.94zm-11 1L8.5 8.5l.94-2.06 2.06-.94-2.06-.94L8.5 2.5l-.94 2.06-2.06.94zm10 10l.94 2.06.94-2.06 2.06-.94-2.06-.94-.94-2.06-.94 2.06-2.06.94z\"/><path d=\"M17.41 7.96l-1.37-1.37c-.4-.4-.92-.59-1.43-.59-.52 0-1.04.2-1.43.59L10.3 9.45l-7.72 7.72c-.78.78-.78 2.05 0 2.83L4 21.41c.39.39.9.59 1.41.59.51 0 1.02-.2 1.41-.59l7.78-7.78 2.81-2.81c.8-.78.8-2.07 0-2.86zM5.41 20L4 18.59l7.72-7.72 1.47 1.35L5.41 20z\"/>\n",
              "  </svg>\n",
              "      </button>\n",
              "      \n",
              "  <style>\n",
              "    .colab-df-container {\n",
              "      display:flex;\n",
              "      flex-wrap:wrap;\n",
              "      gap: 12px;\n",
              "    }\n",
              "\n",
              "    .colab-df-convert {\n",
              "      background-color: #E8F0FE;\n",
              "      border: none;\n",
              "      border-radius: 50%;\n",
              "      cursor: pointer;\n",
              "      display: none;\n",
              "      fill: #1967D2;\n",
              "      height: 32px;\n",
              "      padding: 0 0 0 0;\n",
              "      width: 32px;\n",
              "    }\n",
              "\n",
              "    .colab-df-convert:hover {\n",
              "      background-color: #E2EBFA;\n",
              "      box-shadow: 0px 1px 2px rgba(60, 64, 67, 0.3), 0px 1px 3px 1px rgba(60, 64, 67, 0.15);\n",
              "      fill: #174EA6;\n",
              "    }\n",
              "\n",
              "    [theme=dark] .colab-df-convert {\n",
              "      background-color: #3B4455;\n",
              "      fill: #D2E3FC;\n",
              "    }\n",
              "\n",
              "    [theme=dark] .colab-df-convert:hover {\n",
              "      background-color: #434B5C;\n",
              "      box-shadow: 0px 1px 3px 1px rgba(0, 0, 0, 0.15);\n",
              "      filter: drop-shadow(0px 1px 2px rgba(0, 0, 0, 0.3));\n",
              "      fill: #FFFFFF;\n",
              "    }\n",
              "  </style>\n",
              "\n",
              "      <script>\n",
              "        const buttonEl =\n",
              "          document.querySelector('#df-5b88082a-f40f-4847-99c8-2529d09cd7ab button.colab-df-convert');\n",
              "        buttonEl.style.display =\n",
              "          google.colab.kernel.accessAllowed ? 'block' : 'none';\n",
              "\n",
              "        async function convertToInteractive(key) {\n",
              "          const element = document.querySelector('#df-5b88082a-f40f-4847-99c8-2529d09cd7ab');\n",
              "          const dataTable =\n",
              "            await google.colab.kernel.invokeFunction('convertToInteractive',\n",
              "                                                     [key], {});\n",
              "          if (!dataTable) return;\n",
              "\n",
              "          const docLinkHtml = 'Like what you see? Visit the ' +\n",
              "            '<a target=\"_blank\" href=https://colab.research.google.com/notebooks/data_table.ipynb>data table notebook</a>'\n",
              "            + ' to learn more about interactive tables.';\n",
              "          element.innerHTML = '';\n",
              "          dataTable['output_type'] = 'display_data';\n",
              "          await google.colab.output.renderOutput(dataTable, element);\n",
              "          const docLink = document.createElement('div');\n",
              "          docLink.innerHTML = docLinkHtml;\n",
              "          element.appendChild(docLink);\n",
              "        }\n",
              "      </script>\n",
              "    </div>\n",
              "  </div>\n",
              "  "
            ]
          },
          "metadata": {},
          "execution_count": 4
        }
      ]
    },
    {
      "cell_type": "markdown",
      "source": [
        "# Exploración Datos"
      ],
      "metadata": {
        "id": "1ZdQbgAtzrKC"
      }
    },
    {
      "cell_type": "markdown",
      "source": [
        "Comenzamos la exploración de los datos, primero queremos conocer la tipología de los datos, nos damos cuenta que la mayoría son tipo string solo transaction_date es de tipo datetime, por lo cual procedemos a hacer un describe() de los datos para ver qué más podemos obtener"
      ],
      "metadata": {
        "id": "0YGHZ55T4kmB"
      }
    },
    {
      "cell_type": "code",
      "source": [
        "data.info()"
      ],
      "metadata": {
        "colab": {
          "base_uri": "https://localhost:8080/"
        },
        "id": "caecYy3YayF8",
        "outputId": "2751f3e2-95ea-4ccc-a491-8277dc20c0a3"
      },
      "execution_count": null,
      "outputs": [
        {
          "output_type": "stream",
          "name": "stdout",
          "text": [
            "<class 'pandas.core.frame.DataFrame'>\n",
            "RangeIndex: 10758418 entries, 0 to 10758417\n",
            "Data columns (total 8 columns):\n",
            " #   Column              Dtype         \n",
            "---  ------              -----         \n",
            " 0   merchant_id         object        \n",
            " 1   _id                 object        \n",
            " 2   subsidiary          object        \n",
            " 3   transaction_date    datetime64[ns]\n",
            " 4   account_number      object        \n",
            " 5   user_id             object        \n",
            " 6   transaction_amount  object        \n",
            " 7   transaction_type    object        \n",
            "dtypes: datetime64[ns](1), object(7)\n",
            "memory usage: 656.6+ MB\n"
          ]
        }
      ]
    },
    {
      "cell_type": "markdown",
      "source": [
        "Al realizar un describe() de los datos no encontramos información muy relevante, simplemente se puede rescatar que todas las columnas tienen los datos integros. Además, de conocer los datos que más se repiten, sin embargo, el dataset crudo no dan mucha información, así que debemos de crear un dataset que realmente nos ayude y nos entregue información relevante "
      ],
      "metadata": {
        "id": "o6PVIxgo-jy8"
      }
    },
    {
      "cell_type": "code",
      "source": [
        "data.describe()"
      ],
      "metadata": {
        "colab": {
          "base_uri": "https://localhost:8080/",
          "height": 388
        },
        "id": "i8yP4zSbb9nI",
        "outputId": "068cebdc-e6d7-41e3-b50e-7ba089a85c23"
      },
      "execution_count": null,
      "outputs": [
        {
          "output_type": "stream",
          "name": "stderr",
          "text": [
            "<ipython-input-6-2bb0b18689d4>:1: FutureWarning: Treating datetime data as categorical rather than numeric in `.describe` is deprecated and will be removed in a future version of pandas. Specify `datetime_is_numeric=True` to silence this warning and adopt the future behavior now.\n",
            "  data.describe()\n"
          ]
        },
        {
          "output_type": "execute_result",
          "data": {
            "text/plain": [
              "                             merchant_id                               _id  \\\n",
              "count                           10758418                          10758418   \n",
              "unique                                 3                          10758411   \n",
              "top     817d18cd3c31e40e9bff0566baae7758  b93a2bb461682a71f593049250e68a4e   \n",
              "freq                             7267100                                 2   \n",
              "first                                NaN                               NaN   \n",
              "last                                 NaN                               NaN   \n",
              "\n",
              "                              subsidiary     transaction_date  \\\n",
              "count                           10758418             10758418   \n",
              "unique                             16052              7615997   \n",
              "top     f54e0b6b32831a6307361ed959903e76  2021-06-08 11:47:16   \n",
              "freq                              357448                   15   \n",
              "first                                NaN  2021-01-01 00:01:13   \n",
              "last                                 NaN  2021-11-30 23:59:49   \n",
              "\n",
              "                          account_number                           user_id  \\\n",
              "count                           10758418                          10758418   \n",
              "unique                           1954040                           1948844   \n",
              "top     3094e023b7a40245397e116bddbe45e8  5e674596af22a66e826bf15b2a363cce   \n",
              "freq                                1200                              1900   \n",
              "first                                NaN                               NaN   \n",
              "last                                 NaN                               NaN   \n",
              "\n",
              "       transaction_amount transaction_type  \n",
              "count            10758418         10758418  \n",
              "unique              18554                2  \n",
              "top           59.44455012           DEBITO  \n",
              "freq              1154454          8591289  \n",
              "first                 NaN              NaN  \n",
              "last                  NaN              NaN  "
            ],
            "text/html": [
              "\n",
              "  <div id=\"df-a58e415c-8e6d-4f2e-8b69-3cf1ca2722f3\">\n",
              "    <div class=\"colab-df-container\">\n",
              "      <div>\n",
              "<style scoped>\n",
              "    .dataframe tbody tr th:only-of-type {\n",
              "        vertical-align: middle;\n",
              "    }\n",
              "\n",
              "    .dataframe tbody tr th {\n",
              "        vertical-align: top;\n",
              "    }\n",
              "\n",
              "    .dataframe thead th {\n",
              "        text-align: right;\n",
              "    }\n",
              "</style>\n",
              "<table border=\"1\" class=\"dataframe\">\n",
              "  <thead>\n",
              "    <tr style=\"text-align: right;\">\n",
              "      <th></th>\n",
              "      <th>merchant_id</th>\n",
              "      <th>_id</th>\n",
              "      <th>subsidiary</th>\n",
              "      <th>transaction_date</th>\n",
              "      <th>account_number</th>\n",
              "      <th>user_id</th>\n",
              "      <th>transaction_amount</th>\n",
              "      <th>transaction_type</th>\n",
              "    </tr>\n",
              "  </thead>\n",
              "  <tbody>\n",
              "    <tr>\n",
              "      <th>count</th>\n",
              "      <td>10758418</td>\n",
              "      <td>10758418</td>\n",
              "      <td>10758418</td>\n",
              "      <td>10758418</td>\n",
              "      <td>10758418</td>\n",
              "      <td>10758418</td>\n",
              "      <td>10758418</td>\n",
              "      <td>10758418</td>\n",
              "    </tr>\n",
              "    <tr>\n",
              "      <th>unique</th>\n",
              "      <td>3</td>\n",
              "      <td>10758411</td>\n",
              "      <td>16052</td>\n",
              "      <td>7615997</td>\n",
              "      <td>1954040</td>\n",
              "      <td>1948844</td>\n",
              "      <td>18554</td>\n",
              "      <td>2</td>\n",
              "    </tr>\n",
              "    <tr>\n",
              "      <th>top</th>\n",
              "      <td>817d18cd3c31e40e9bff0566baae7758</td>\n",
              "      <td>b93a2bb461682a71f593049250e68a4e</td>\n",
              "      <td>f54e0b6b32831a6307361ed959903e76</td>\n",
              "      <td>2021-06-08 11:47:16</td>\n",
              "      <td>3094e023b7a40245397e116bddbe45e8</td>\n",
              "      <td>5e674596af22a66e826bf15b2a363cce</td>\n",
              "      <td>59.44455012</td>\n",
              "      <td>DEBITO</td>\n",
              "    </tr>\n",
              "    <tr>\n",
              "      <th>freq</th>\n",
              "      <td>7267100</td>\n",
              "      <td>2</td>\n",
              "      <td>357448</td>\n",
              "      <td>15</td>\n",
              "      <td>1200</td>\n",
              "      <td>1900</td>\n",
              "      <td>1154454</td>\n",
              "      <td>8591289</td>\n",
              "    </tr>\n",
              "    <tr>\n",
              "      <th>first</th>\n",
              "      <td>NaN</td>\n",
              "      <td>NaN</td>\n",
              "      <td>NaN</td>\n",
              "      <td>2021-01-01 00:01:13</td>\n",
              "      <td>NaN</td>\n",
              "      <td>NaN</td>\n",
              "      <td>NaN</td>\n",
              "      <td>NaN</td>\n",
              "    </tr>\n",
              "    <tr>\n",
              "      <th>last</th>\n",
              "      <td>NaN</td>\n",
              "      <td>NaN</td>\n",
              "      <td>NaN</td>\n",
              "      <td>2021-11-30 23:59:49</td>\n",
              "      <td>NaN</td>\n",
              "      <td>NaN</td>\n",
              "      <td>NaN</td>\n",
              "      <td>NaN</td>\n",
              "    </tr>\n",
              "  </tbody>\n",
              "</table>\n",
              "</div>\n",
              "      <button class=\"colab-df-convert\" onclick=\"convertToInteractive('df-a58e415c-8e6d-4f2e-8b69-3cf1ca2722f3')\"\n",
              "              title=\"Convert this dataframe to an interactive table.\"\n",
              "              style=\"display:none;\">\n",
              "        \n",
              "  <svg xmlns=\"http://www.w3.org/2000/svg\" height=\"24px\"viewBox=\"0 0 24 24\"\n",
              "       width=\"24px\">\n",
              "    <path d=\"M0 0h24v24H0V0z\" fill=\"none\"/>\n",
              "    <path d=\"M18.56 5.44l.94 2.06.94-2.06 2.06-.94-2.06-.94-.94-2.06-.94 2.06-2.06.94zm-11 1L8.5 8.5l.94-2.06 2.06-.94-2.06-.94L8.5 2.5l-.94 2.06-2.06.94zm10 10l.94 2.06.94-2.06 2.06-.94-2.06-.94-.94-2.06-.94 2.06-2.06.94z\"/><path d=\"M17.41 7.96l-1.37-1.37c-.4-.4-.92-.59-1.43-.59-.52 0-1.04.2-1.43.59L10.3 9.45l-7.72 7.72c-.78.78-.78 2.05 0 2.83L4 21.41c.39.39.9.59 1.41.59.51 0 1.02-.2 1.41-.59l7.78-7.78 2.81-2.81c.8-.78.8-2.07 0-2.86zM5.41 20L4 18.59l7.72-7.72 1.47 1.35L5.41 20z\"/>\n",
              "  </svg>\n",
              "      </button>\n",
              "      \n",
              "  <style>\n",
              "    .colab-df-container {\n",
              "      display:flex;\n",
              "      flex-wrap:wrap;\n",
              "      gap: 12px;\n",
              "    }\n",
              "\n",
              "    .colab-df-convert {\n",
              "      background-color: #E8F0FE;\n",
              "      border: none;\n",
              "      border-radius: 50%;\n",
              "      cursor: pointer;\n",
              "      display: none;\n",
              "      fill: #1967D2;\n",
              "      height: 32px;\n",
              "      padding: 0 0 0 0;\n",
              "      width: 32px;\n",
              "    }\n",
              "\n",
              "    .colab-df-convert:hover {\n",
              "      background-color: #E2EBFA;\n",
              "      box-shadow: 0px 1px 2px rgba(60, 64, 67, 0.3), 0px 1px 3px 1px rgba(60, 64, 67, 0.15);\n",
              "      fill: #174EA6;\n",
              "    }\n",
              "\n",
              "    [theme=dark] .colab-df-convert {\n",
              "      background-color: #3B4455;\n",
              "      fill: #D2E3FC;\n",
              "    }\n",
              "\n",
              "    [theme=dark] .colab-df-convert:hover {\n",
              "      background-color: #434B5C;\n",
              "      box-shadow: 0px 1px 3px 1px rgba(0, 0, 0, 0.15);\n",
              "      filter: drop-shadow(0px 1px 2px rgba(0, 0, 0, 0.3));\n",
              "      fill: #FFFFFF;\n",
              "    }\n",
              "  </style>\n",
              "\n",
              "      <script>\n",
              "        const buttonEl =\n",
              "          document.querySelector('#df-a58e415c-8e6d-4f2e-8b69-3cf1ca2722f3 button.colab-df-convert');\n",
              "        buttonEl.style.display =\n",
              "          google.colab.kernel.accessAllowed ? 'block' : 'none';\n",
              "\n",
              "        async function convertToInteractive(key) {\n",
              "          const element = document.querySelector('#df-a58e415c-8e6d-4f2e-8b69-3cf1ca2722f3');\n",
              "          const dataTable =\n",
              "            await google.colab.kernel.invokeFunction('convertToInteractive',\n",
              "                                                     [key], {});\n",
              "          if (!dataTable) return;\n",
              "\n",
              "          const docLinkHtml = 'Like what you see? Visit the ' +\n",
              "            '<a target=\"_blank\" href=https://colab.research.google.com/notebooks/data_table.ipynb>data table notebook</a>'\n",
              "            + ' to learn more about interactive tables.';\n",
              "          element.innerHTML = '';\n",
              "          dataTable['output_type'] = 'display_data';\n",
              "          await google.colab.output.renderOutput(dataTable, element);\n",
              "          const docLink = document.createElement('div');\n",
              "          docLink.innerHTML = docLinkHtml;\n",
              "          element.appendChild(docLink);\n",
              "        }\n",
              "      </script>\n",
              "    </div>\n",
              "  </div>\n",
              "  "
            ]
          },
          "metadata": {},
          "execution_count": 6
        }
      ]
    },
    {
      "cell_type": "code",
      "source": [
        "data.describe(include='object')"
      ],
      "metadata": {
        "colab": {
          "base_uri": "https://localhost:8080/",
          "height": 238
        },
        "id": "ogQfPwLpElB8",
        "outputId": "bacb6c59-b074-4934-f2a0-c9a87de08d89"
      },
      "execution_count": null,
      "outputs": [
        {
          "output_type": "execute_result",
          "data": {
            "text/plain": [
              "                             merchant_id                               _id  \\\n",
              "count                           10758418                          10758418   \n",
              "unique                                 3                          10758411   \n",
              "top     817d18cd3c31e40e9bff0566baae7758  b93a2bb461682a71f593049250e68a4e   \n",
              "freq                             7267100                                 2   \n",
              "\n",
              "                              subsidiary                    account_number  \\\n",
              "count                           10758418                          10758418   \n",
              "unique                             16052                           1954040   \n",
              "top     f54e0b6b32831a6307361ed959903e76  3094e023b7a40245397e116bddbe45e8   \n",
              "freq                              357448                              1200   \n",
              "\n",
              "                                 user_id transaction_amount transaction_type  \n",
              "count                           10758418           10758418         10758418  \n",
              "unique                           1948844              18554                2  \n",
              "top     5e674596af22a66e826bf15b2a363cce        59.44455012           DEBITO  \n",
              "freq                                1900            1154454          8591289  "
            ],
            "text/html": [
              "\n",
              "  <div id=\"df-3ce333c6-a8ad-4d5c-b572-571064f0afba\">\n",
              "    <div class=\"colab-df-container\">\n",
              "      <div>\n",
              "<style scoped>\n",
              "    .dataframe tbody tr th:only-of-type {\n",
              "        vertical-align: middle;\n",
              "    }\n",
              "\n",
              "    .dataframe tbody tr th {\n",
              "        vertical-align: top;\n",
              "    }\n",
              "\n",
              "    .dataframe thead th {\n",
              "        text-align: right;\n",
              "    }\n",
              "</style>\n",
              "<table border=\"1\" class=\"dataframe\">\n",
              "  <thead>\n",
              "    <tr style=\"text-align: right;\">\n",
              "      <th></th>\n",
              "      <th>merchant_id</th>\n",
              "      <th>_id</th>\n",
              "      <th>subsidiary</th>\n",
              "      <th>account_number</th>\n",
              "      <th>user_id</th>\n",
              "      <th>transaction_amount</th>\n",
              "      <th>transaction_type</th>\n",
              "    </tr>\n",
              "  </thead>\n",
              "  <tbody>\n",
              "    <tr>\n",
              "      <th>count</th>\n",
              "      <td>10758418</td>\n",
              "      <td>10758418</td>\n",
              "      <td>10758418</td>\n",
              "      <td>10758418</td>\n",
              "      <td>10758418</td>\n",
              "      <td>10758418</td>\n",
              "      <td>10758418</td>\n",
              "    </tr>\n",
              "    <tr>\n",
              "      <th>unique</th>\n",
              "      <td>3</td>\n",
              "      <td>10758411</td>\n",
              "      <td>16052</td>\n",
              "      <td>1954040</td>\n",
              "      <td>1948844</td>\n",
              "      <td>18554</td>\n",
              "      <td>2</td>\n",
              "    </tr>\n",
              "    <tr>\n",
              "      <th>top</th>\n",
              "      <td>817d18cd3c31e40e9bff0566baae7758</td>\n",
              "      <td>b93a2bb461682a71f593049250e68a4e</td>\n",
              "      <td>f54e0b6b32831a6307361ed959903e76</td>\n",
              "      <td>3094e023b7a40245397e116bddbe45e8</td>\n",
              "      <td>5e674596af22a66e826bf15b2a363cce</td>\n",
              "      <td>59.44455012</td>\n",
              "      <td>DEBITO</td>\n",
              "    </tr>\n",
              "    <tr>\n",
              "      <th>freq</th>\n",
              "      <td>7267100</td>\n",
              "      <td>2</td>\n",
              "      <td>357448</td>\n",
              "      <td>1200</td>\n",
              "      <td>1900</td>\n",
              "      <td>1154454</td>\n",
              "      <td>8591289</td>\n",
              "    </tr>\n",
              "  </tbody>\n",
              "</table>\n",
              "</div>\n",
              "      <button class=\"colab-df-convert\" onclick=\"convertToInteractive('df-3ce333c6-a8ad-4d5c-b572-571064f0afba')\"\n",
              "              title=\"Convert this dataframe to an interactive table.\"\n",
              "              style=\"display:none;\">\n",
              "        \n",
              "  <svg xmlns=\"http://www.w3.org/2000/svg\" height=\"24px\"viewBox=\"0 0 24 24\"\n",
              "       width=\"24px\">\n",
              "    <path d=\"M0 0h24v24H0V0z\" fill=\"none\"/>\n",
              "    <path d=\"M18.56 5.44l.94 2.06.94-2.06 2.06-.94-2.06-.94-.94-2.06-.94 2.06-2.06.94zm-11 1L8.5 8.5l.94-2.06 2.06-.94-2.06-.94L8.5 2.5l-.94 2.06-2.06.94zm10 10l.94 2.06.94-2.06 2.06-.94-2.06-.94-.94-2.06-.94 2.06-2.06.94z\"/><path d=\"M17.41 7.96l-1.37-1.37c-.4-.4-.92-.59-1.43-.59-.52 0-1.04.2-1.43.59L10.3 9.45l-7.72 7.72c-.78.78-.78 2.05 0 2.83L4 21.41c.39.39.9.59 1.41.59.51 0 1.02-.2 1.41-.59l7.78-7.78 2.81-2.81c.8-.78.8-2.07 0-2.86zM5.41 20L4 18.59l7.72-7.72 1.47 1.35L5.41 20z\"/>\n",
              "  </svg>\n",
              "      </button>\n",
              "      \n",
              "  <style>\n",
              "    .colab-df-container {\n",
              "      display:flex;\n",
              "      flex-wrap:wrap;\n",
              "      gap: 12px;\n",
              "    }\n",
              "\n",
              "    .colab-df-convert {\n",
              "      background-color: #E8F0FE;\n",
              "      border: none;\n",
              "      border-radius: 50%;\n",
              "      cursor: pointer;\n",
              "      display: none;\n",
              "      fill: #1967D2;\n",
              "      height: 32px;\n",
              "      padding: 0 0 0 0;\n",
              "      width: 32px;\n",
              "    }\n",
              "\n",
              "    .colab-df-convert:hover {\n",
              "      background-color: #E2EBFA;\n",
              "      box-shadow: 0px 1px 2px rgba(60, 64, 67, 0.3), 0px 1px 3px 1px rgba(60, 64, 67, 0.15);\n",
              "      fill: #174EA6;\n",
              "    }\n",
              "\n",
              "    [theme=dark] .colab-df-convert {\n",
              "      background-color: #3B4455;\n",
              "      fill: #D2E3FC;\n",
              "    }\n",
              "\n",
              "    [theme=dark] .colab-df-convert:hover {\n",
              "      background-color: #434B5C;\n",
              "      box-shadow: 0px 1px 3px 1px rgba(0, 0, 0, 0.15);\n",
              "      filter: drop-shadow(0px 1px 2px rgba(0, 0, 0, 0.3));\n",
              "      fill: #FFFFFF;\n",
              "    }\n",
              "  </style>\n",
              "\n",
              "      <script>\n",
              "        const buttonEl =\n",
              "          document.querySelector('#df-3ce333c6-a8ad-4d5c-b572-571064f0afba button.colab-df-convert');\n",
              "        buttonEl.style.display =\n",
              "          google.colab.kernel.accessAllowed ? 'block' : 'none';\n",
              "\n",
              "        async function convertToInteractive(key) {\n",
              "          const element = document.querySelector('#df-3ce333c6-a8ad-4d5c-b572-571064f0afba');\n",
              "          const dataTable =\n",
              "            await google.colab.kernel.invokeFunction('convertToInteractive',\n",
              "                                                     [key], {});\n",
              "          if (!dataTable) return;\n",
              "\n",
              "          const docLinkHtml = 'Like what you see? Visit the ' +\n",
              "            '<a target=\"_blank\" href=https://colab.research.google.com/notebooks/data_table.ipynb>data table notebook</a>'\n",
              "            + ' to learn more about interactive tables.';\n",
              "          element.innerHTML = '';\n",
              "          dataTable['output_type'] = 'display_data';\n",
              "          await google.colab.output.renderOutput(dataTable, element);\n",
              "          const docLink = document.createElement('div');\n",
              "          docLink.innerHTML = docLinkHtml;\n",
              "          element.appendChild(docLink);\n",
              "        }\n",
              "      </script>\n",
              "    </div>\n",
              "  </div>\n",
              "  "
            ]
          },
          "metadata": {},
          "execution_count": 8
        }
      ]
    },
    {
      "cell_type": "markdown",
      "source": [
        "Vemos algo interesante y lógico y es que noviembre es el mes con mayor cantidad de transacciones, sin embargo no podemos concluir mucho más del histograma"
      ],
      "metadata": {
        "id": "fmKNR3Um_S9l"
      }
    },
    {
      "cell_type": "code",
      "source": [
        "data.hist()"
      ],
      "metadata": {
        "colab": {
          "base_uri": "https://localhost:8080/",
          "height": 592
        },
        "id": "utTwuR1PbBoV",
        "outputId": "ef4abb64-a1ab-4117-e8da-c149af2d90d1"
      },
      "execution_count": null,
      "outputs": [
        {
          "output_type": "execute_result",
          "data": {
            "text/plain": [
              "array([[<matplotlib.axes._subplots.AxesSubplot object at 0x7f22d06c6d90>]],\n",
              "      dtype=object)"
            ]
          },
          "metadata": {},
          "execution_count": 7
        },
        {
          "output_type": "display_data",
          "data": {
            "text/plain": [
              "<Figure size 1152x648 with 1 Axes>"
            ],
            "image/png": "[encoded data removed]"
          },
          "metadata": {}
        }
      ]
    },
    {
      "cell_type": "markdown",
      "source": [
        "# Creación de nuevo dataset (data mining)"
      ],
      "metadata": {
        "id": "tMeiKJ0MGGgO"
      }
    },
    {
      "cell_type": "markdown",
      "source": [
        "**Decidimos evaluar las transacciones de solo un día debido a la gran cantidad de información, además de que en la descripción del problema nos dicen que las transacciones objetivas se hacen dentro de un horario de 24 horas. Además, se va a crear una nueva columna llamada segundos, la cual contiene la hora de la transacción pero en segundos**"
      ],
      "metadata": {
        "id": "DMhgLvjx_mIw"
      }
    },
    {
      "cell_type": "markdown",
      "source": [
        "Decidimos calcular una nueva columna llamada segundos, en la cual vamos a pasar la hora en la que se hizo la transacción a segundos."
      ],
      "metadata": {
        "id": "WrpZN8IjGOLl"
      }
    },
    {
      "cell_type": "code",
      "source": [
        "data['segundos']=data['transaction_date'].apply(lambda x: (timedelta(seconds=datetime.time(x).second,hours=datetime.time(x).hour,minutes=datetime.time(x).minute)).seconds)"
      ],
      "metadata": {
        "id": "E0ekgA4exySM"
      },
      "execution_count": null,
      "outputs": []
    },
    {
      "cell_type": "markdown",
      "source": [
        "Luego de esto hacemos la revisión para los datos de un día en específico"
      ],
      "metadata": {
        "id": "XmEvPtW4GvZr"
      }
    },
    {
      "cell_type": "code",
      "source": [
        "dia_inicio = pd.Timestamp('2021-08-01T00')\n",
        "dia_fin = pd.Timestamp('2021-08-02T00')"
      ],
      "metadata": {
        "id": "1kC58ZPjf13G"
      },
      "execution_count": null,
      "outputs": []
    },
    {
      "cell_type": "markdown",
      "source": [
        "Filtramos el dataset por el día que se escoge, cabe resaltar que se debe escoger un día completo para hacer el análisis y así poder detallar bien toda la trazabilidad de las transacciones."
      ],
      "metadata": {
        "id": "-gscgnNDG5Zv"
      }
    },
    {
      "cell_type": "code",
      "source": [
        "filtered_df =data.loc[data[\"transaction_date\"].between(dia_inicio, dia_fin)]"
      ],
      "metadata": {
        "id": "ZdCRs4MVjcVA"
      },
      "execution_count": null,
      "outputs": []
    },
    {
      "cell_type": "markdown",
      "source": [
        "Se orden el dataset por la fecha y hora de transacción para saber cuál fue la primera y última transacción en el día. Y lograr que las transacciones queden en orden para llevar el orden cronolófico de las mismas."
      ],
      "metadata": {
        "id": "pb2prncCHSlj"
      }
    },
    {
      "cell_type": "code",
      "source": [
        "filtered_df_sorted=filtered_df.sort_values('transaction_date')"
      ],
      "metadata": {
        "id": "6_X-N0xPkF6R"
      },
      "execution_count": null,
      "outputs": []
    },
    {
      "cell_type": "code",
      "source": [
        "filtered_df_sorted"
      ],
      "metadata": {
        "colab": {
          "base_uri": "https://localhost:8080/",
          "height": 661
        },
        "id": "Di45W6EFsqsW",
        "outputId": "0b19390a-193f-4a82-8147-e165fd667c36"
      },
      "execution_count": null,
      "outputs": [
        {
          "output_type": "execute_result",
          "data": {
            "text/plain": [
              "                              merchant_id                               _id  \\\n",
              "3395259  817d18cd3c31e40e9bff0566baae7758  6316b36375fbacaf5e885dcbfc1c5c47   \n",
              "4870692  817d18cd3c31e40e9bff0566baae7758  053d4645ef5e240d3314b73b19e21b55   \n",
              "3950867  817d18cd3c31e40e9bff0566baae7758  b785a0978a7eac3f376b5c6527a41881   \n",
              "6831889  817d18cd3c31e40e9bff0566baae7758  435aabf7b488ba3026cc6abf8be74706   \n",
              "4128737  817d18cd3c31e40e9bff0566baae7758  a514dcfeee9ed140f2bf67e0ec1811cb   \n",
              "...                                   ...                               ...   \n",
              "3983049  817d18cd3c31e40e9bff0566baae7758  44a3dfa8d442abd83b00e728517794d2   \n",
              "6526942  817d18cd3c31e40e9bff0566baae7758  4a822fb65ef05e952cfc18465e82ebf9   \n",
              "2371139  817d18cd3c31e40e9bff0566baae7758  2fa394de0c716c96622b645a8c75bdc9   \n",
              "4713599  817d18cd3c31e40e9bff0566baae7758  483f3e1fefcf361040c355fee22bc749   \n",
              "5361498  817d18cd3c31e40e9bff0566baae7758  3afcb44b5209f60b56f2b9c3fd1100e3   \n",
              "\n",
              "                               subsidiary    transaction_date  \\\n",
              "3395259  62abeb40d42104763d8bd87c8133906b 2021-08-01 00:00:04   \n",
              "4870692  b889367a5e296f71416a34b9746b0e14 2021-08-01 00:02:16   \n",
              "3950867  d836bdcec2f355fec82d1f7490f7341f 2021-08-01 00:02:41   \n",
              "6831889  3362af3a2171e85b86015f46bb4bc986 2021-08-01 00:03:33   \n",
              "4128737  385110367dca4a60adee7995feeb76f0 2021-08-01 00:04:08   \n",
              "...                                   ...                 ...   \n",
              "3983049  1f98299f8e0dc549edcf905682548cf9 2021-08-01 23:58:07   \n",
              "6526942  c9b3893cc3d49473f4038a34dd963608 2021-08-01 23:58:31   \n",
              "2371139  7bd5c5b9e8872f8641bf544aa0a55baf 2021-08-01 23:58:59   \n",
              "4713599  32c7b7843a93ffea43786868715e38a6 2021-08-01 23:59:24   \n",
              "5361498  a3721a407f173acf1bc1435a057a41c2 2021-08-01 23:59:37   \n",
              "\n",
              "                           account_number                           user_id  \\\n",
              "3395259  e6849b60090cbbd8d494b32eb45a42de  a78287b7b038d590d0f31f68ab7e41b2   \n",
              "4870692  6c33d54e7932b9b5162f320b6ef156e9  e9ceea1b5cc9c6eece3dc5f651f5481d   \n",
              "3950867  d921877b67a5800e427574185b3550d9  89aa4e325297aebf6b183d4af581b626   \n",
              "6831889  a18ba4a2addaf655d4746df475c6ffd5  d179a2ef3979f144446d66e985e7f600   \n",
              "4128737  5693cd0b02ac278ff1b419ec6f8c88b5  5eba7baa36c12d82539458790d9e19da   \n",
              "...                                   ...                               ...   \n",
              "3983049  c86c41811e679d4a264c6183db2e4582  9d541b639a8bad8f9ae9018f61a208cb   \n",
              "6526942  283f48cf91419c07ece6042a4a7db28f  f71429d03025640da0dcc597d5ac9cb5   \n",
              "2371139  309c6f92d0042ee8e6044bf697a2137c  d6060dc111fcaa1460761811f68090fb   \n",
              "4713599  0eccee583004b8796d82f70c13d1c827  9ea429bb9e11bed6bd66fdde2121bbe5   \n",
              "5361498  a672dbbfb65c449b1a777376e9b65847  e0562caa855ca6d5a22530b138e26e6a   \n",
              "\n",
              "        transaction_amount transaction_type  segundos  \n",
              "3395259        47.55564009           DEBITO         4  \n",
              "4870692        59.44455012           DEBITO       136  \n",
              "3950867       237.77820049           DEBITO       161  \n",
              "6831889        23.77782004           DEBITO       213  \n",
              "4128737        47.55564009           DEBITO       248  \n",
              "...                    ...              ...       ...  \n",
              "3983049        59.44455012          CREDITO     86287  \n",
              "6526942        59.44455012           DEBITO     86311  \n",
              "2371139        11.88891002           DEBITO     86339  \n",
              "4713599        23.77782004           DEBITO     86364  \n",
              "5361498       118.88910024           DEBITO     86377  \n",
              "\n",
              "[22486 rows x 9 columns]"
            ],
            "text/html": [
              "\n",
              "  <div id=\"df-4e0d6be1-844d-4dd0-b824-a77d2fd637c9\">\n",
              "    <div class=\"colab-df-container\">\n",
              "      <div>\n",
              "<style scoped>\n",
              "    .dataframe tbody tr th:only-of-type {\n",
              "        vertical-align: middle;\n",
              "    }\n",
              "\n",
              "    .dataframe tbody tr th {\n",
              "        vertical-align: top;\n",
              "    }\n",
              "\n",
              "    .dataframe thead th {\n",
              "        text-align: right;\n",
              "    }\n",
              "</style>\n",
              "<table border=\"1\" class=\"dataframe\">\n",
              "  <thead>\n",
              "    <tr style=\"text-align: right;\">\n",
              "      <th></th>\n",
              "      <th>merchant_id</th>\n",
              "      <th>_id</th>\n",
              "      <th>subsidiary</th>\n",
              "      <th>transaction_date</th>\n",
              "      <th>account_number</th>\n",
              "      <th>user_id</th>\n",
              "      <th>transaction_amount</th>\n",
              "      <th>transaction_type</th>\n",
              "      <th>segundos</th>\n",
              "    </tr>\n",
              "  </thead>\n",
              "  <tbody>\n",
              "    <tr>\n",
              "      <th>3395259</th>\n",
              "      <td>817d18cd3c31e40e9bff0566baae7758</td>\n",
              "      <td>6316b36375fbacaf5e885dcbfc1c5c47</td>\n",
              "      <td>62abeb40d42104763d8bd87c8133906b</td>\n",
              "      <td>2021-08-01 00:00:04</td>\n",
              "      <td>e6849b60090cbbd8d494b32eb45a42de</td>\n",
              "      <td>a78287b7b038d590d0f31f68ab7e41b2</td>\n",
              "      <td>47.55564009</td>\n",
              "      <td>DEBITO</td>\n",
              "      <td>4</td>\n",
              "    </tr>\n",
              "    <tr>\n",
              "      <th>4870692</th>\n",
              "      <td>817d18cd3c31e40e9bff0566baae7758</td>\n",
              "      <td>053d4645ef5e240d3314b73b19e21b55</td>\n",
              "      <td>b889367a5e296f71416a34b9746b0e14</td>\n",
              "      <td>2021-08-01 00:02:16</td>\n",
              "      <td>6c33d54e7932b9b5162f320b6ef156e9</td>\n",
              "      <td>e9ceea1b5cc9c6eece3dc5f651f5481d</td>\n",
              "      <td>59.44455012</td>\n",
              "      <td>DEBITO</td>\n",
              "      <td>136</td>\n",
              "    </tr>\n",
              "    <tr>\n",
              "      <th>3950867</th>\n",
              "      <td>817d18cd3c31e40e9bff0566baae7758</td>\n",
              "      <td>b785a0978a7eac3f376b5c6527a41881</td>\n",
              "      <td>d836bdcec2f355fec82d1f7490f7341f</td>\n",
              "      <td>2021-08-01 00:02:41</td>\n",
              "      <td>d921877b67a5800e427574185b3550d9</td>\n",
              "      <td>89aa4e325297aebf6b183d4af581b626</td>\n",
              "      <td>237.77820049</td>\n",
              "      <td>DEBITO</td>\n",
              "      <td>161</td>\n",
              "    </tr>\n",
              "    <tr>\n",
              "      <th>6831889</th>\n",
              "      <td>817d18cd3c31e40e9bff0566baae7758</td>\n",
              "      <td>435aabf7b488ba3026cc6abf8be74706</td>\n",
              "      <td>3362af3a2171e85b86015f46bb4bc986</td>\n",
              "      <td>2021-08-01 00:03:33</td>\n",
              "      <td>a18ba4a2addaf655d4746df475c6ffd5</td>\n",
              "      <td>d179a2ef3979f144446d66e985e7f600</td>\n",
              "      <td>23.77782004</td>\n",
              "      <td>DEBITO</td>\n",
              "      <td>213</td>\n",
              "    </tr>\n",
              "    <tr>\n",
              "      <th>4128737</th>\n",
              "      <td>817d18cd3c31e40e9bff0566baae7758</td>\n",
              "      <td>a514dcfeee9ed140f2bf67e0ec1811cb</td>\n",
              "      <td>385110367dca4a60adee7995feeb76f0</td>\n",
              "      <td>2021-08-01 00:04:08</td>\n",
              "      <td>5693cd0b02ac278ff1b419ec6f8c88b5</td>\n",
              "      <td>5eba7baa36c12d82539458790d9e19da</td>\n",
              "      <td>47.55564009</td>\n",
              "      <td>DEBITO</td>\n",
              "      <td>248</td>\n",
              "    </tr>\n",
              "    <tr>\n",
              "      <th>...</th>\n",
              "      <td>...</td>\n",
              "      <td>...</td>\n",
              "      <td>...</td>\n",
              "      <td>...</td>\n",
              "      <td>...</td>\n",
              "      <td>...</td>\n",
              "      <td>...</td>\n",
              "      <td>...</td>\n",
              "      <td>...</td>\n",
              "    </tr>\n",
              "    <tr>\n",
              "      <th>3983049</th>\n",
              "      <td>817d18cd3c31e40e9bff0566baae7758</td>\n",
              "      <td>44a3dfa8d442abd83b00e728517794d2</td>\n",
              "      <td>1f98299f8e0dc549edcf905682548cf9</td>\n",
              "      <td>2021-08-01 23:58:07</td>\n",
              "      <td>c86c41811e679d4a264c6183db2e4582</td>\n",
              "      <td>9d541b639a8bad8f9ae9018f61a208cb</td>\n",
              "      <td>59.44455012</td>\n",
              "      <td>CREDITO</td>\n",
              "      <td>86287</td>\n",
              "    </tr>\n",
              "    <tr>\n",
              "      <th>6526942</th>\n",
              "      <td>817d18cd3c31e40e9bff0566baae7758</td>\n",
              "      <td>4a822fb65ef05e952cfc18465e82ebf9</td>\n",
              "      <td>c9b3893cc3d49473f4038a34dd963608</td>\n",
              "      <td>2021-08-01 23:58:31</td>\n",
              "      <td>283f48cf91419c07ece6042a4a7db28f</td>\n",
              "      <td>f71429d03025640da0dcc597d5ac9cb5</td>\n",
              "      <td>59.44455012</td>\n",
              "      <td>DEBITO</td>\n",
              "      <td>86311</td>\n",
              "    </tr>\n",
              "    <tr>\n",
              "      <th>2371139</th>\n",
              "      <td>817d18cd3c31e40e9bff0566baae7758</td>\n",
              "      <td>2fa394de0c716c96622b645a8c75bdc9</td>\n",
              "      <td>7bd5c5b9e8872f8641bf544aa0a55baf</td>\n",
              "      <td>2021-08-01 23:58:59</td>\n",
              "      <td>309c6f92d0042ee8e6044bf697a2137c</td>\n",
              "      <td>d6060dc111fcaa1460761811f68090fb</td>\n",
              "      <td>11.88891002</td>\n",
              "      <td>DEBITO</td>\n",
              "      <td>86339</td>\n",
              "    </tr>\n",
              "    <tr>\n",
              "      <th>4713599</th>\n",
              "      <td>817d18cd3c31e40e9bff0566baae7758</td>\n",
              "      <td>483f3e1fefcf361040c355fee22bc749</td>\n",
              "      <td>32c7b7843a93ffea43786868715e38a6</td>\n",
              "      <td>2021-08-01 23:59:24</td>\n",
              "      <td>0eccee583004b8796d82f70c13d1c827</td>\n",
              "      <td>9ea429bb9e11bed6bd66fdde2121bbe5</td>\n",
              "      <td>23.77782004</td>\n",
              "      <td>DEBITO</td>\n",
              "      <td>86364</td>\n",
              "    </tr>\n",
              "    <tr>\n",
              "      <th>5361498</th>\n",
              "      <td>817d18cd3c31e40e9bff0566baae7758</td>\n",
              "      <td>3afcb44b5209f60b56f2b9c3fd1100e3</td>\n",
              "      <td>a3721a407f173acf1bc1435a057a41c2</td>\n",
              "      <td>2021-08-01 23:59:37</td>\n",
              "      <td>a672dbbfb65c449b1a777376e9b65847</td>\n",
              "      <td>e0562caa855ca6d5a22530b138e26e6a</td>\n",
              "      <td>118.88910024</td>\n",
              "      <td>DEBITO</td>\n",
              "      <td>86377</td>\n",
              "    </tr>\n",
              "  </tbody>\n",
              "</table>\n",
              "<p>22486 rows × 9 columns</p>\n",
              "</div>\n",
              "      <button class=\"colab-df-convert\" onclick=\"convertToInteractive('df-4e0d6be1-844d-4dd0-b824-a77d2fd637c9')\"\n",
              "              title=\"Convert this dataframe to an interactive table.\"\n",
              "              style=\"display:none;\">\n",
              "        \n",
              "  <svg xmlns=\"http://www.w3.org/2000/svg\" height=\"24px\"viewBox=\"0 0 24 24\"\n",
              "       width=\"24px\">\n",
              "    <path d=\"M0 0h24v24H0V0z\" fill=\"none\"/>\n",
              "    <path d=\"M18.56 5.44l.94 2.06.94-2.06 2.06-.94-2.06-.94-.94-2.06-.94 2.06-2.06.94zm-11 1L8.5 8.5l.94-2.06 2.06-.94-2.06-.94L8.5 2.5l-.94 2.06-2.06.94zm10 10l.94 2.06.94-2.06 2.06-.94-2.06-.94-.94-2.06-.94 2.06-2.06.94z\"/><path d=\"M17.41 7.96l-1.37-1.37c-.4-.4-.92-.59-1.43-.59-.52 0-1.04.2-1.43.59L10.3 9.45l-7.72 7.72c-.78.78-.78 2.05 0 2.83L4 21.41c.39.39.9.59 1.41.59.51 0 1.02-.2 1.41-.59l7.78-7.78 2.81-2.81c.8-.78.8-2.07 0-2.86zM5.41 20L4 18.59l7.72-7.72 1.47 1.35L5.41 20z\"/>\n",
              "  </svg>\n",
              "      </button>\n",
              "      \n",
              "  <style>\n",
              "    .colab-df-container {\n",
              "      display:flex;\n",
              "      flex-wrap:wrap;\n",
              "      gap: 12px;\n",
              "    }\n",
              "\n",
              "    .colab-df-convert {\n",
              "      background-color: #E8F0FE;\n",
              "      border: none;\n",
              "      border-radius: 50%;\n",
              "      cursor: pointer;\n",
              "      display: none;\n",
              "      fill: #1967D2;\n",
              "      height: 32px;\n",
              "      padding: 0 0 0 0;\n",
              "      width: 32px;\n",
              "    }\n",
              "\n",
              "    .colab-df-convert:hover {\n",
              "      background-color: #E2EBFA;\n",
              "      box-shadow: 0px 1px 2px rgba(60, 64, 67, 0.3), 0px 1px 3px 1px rgba(60, 64, 67, 0.15);\n",
              "      fill: #174EA6;\n",
              "    }\n",
              "\n",
              "    [theme=dark] .colab-df-convert {\n",
              "      background-color: #3B4455;\n",
              "      fill: #D2E3FC;\n",
              "    }\n",
              "\n",
              "    [theme=dark] .colab-df-convert:hover {\n",
              "      background-color: #434B5C;\n",
              "      box-shadow: 0px 1px 3px 1px rgba(0, 0, 0, 0.15);\n",
              "      filter: drop-shadow(0px 1px 2px rgba(0, 0, 0, 0.3));\n",
              "      fill: #FFFFFF;\n",
              "    }\n",
              "  </style>\n",
              "\n",
              "      <script>\n",
              "        const buttonEl =\n",
              "          document.querySelector('#df-4e0d6be1-844d-4dd0-b824-a77d2fd637c9 button.colab-df-convert');\n",
              "        buttonEl.style.display =\n",
              "          google.colab.kernel.accessAllowed ? 'block' : 'none';\n",
              "\n",
              "        async function convertToInteractive(key) {\n",
              "          const element = document.querySelector('#df-4e0d6be1-844d-4dd0-b824-a77d2fd637c9');\n",
              "          const dataTable =\n",
              "            await google.colab.kernel.invokeFunction('convertToInteractive',\n",
              "                                                     [key], {});\n",
              "          if (!dataTable) return;\n",
              "\n",
              "          const docLinkHtml = 'Like what you see? Visit the ' +\n",
              "            '<a target=\"_blank\" href=https://colab.research.google.com/notebooks/data_table.ipynb>data table notebook</a>'\n",
              "            + ' to learn more about interactive tables.';\n",
              "          element.innerHTML = '';\n",
              "          dataTable['output_type'] = 'display_data';\n",
              "          await google.colab.output.renderOutput(dataTable, element);\n",
              "          const docLink = document.createElement('div');\n",
              "          docLink.innerHTML = docLinkHtml;\n",
              "          element.appendChild(docLink);\n",
              "        }\n",
              "      </script>\n",
              "    </div>\n",
              "  </div>\n",
              "  "
            ]
          },
          "metadata": {},
          "execution_count": 9
        }
      ]
    },
    {
      "cell_type": "markdown",
      "source": [
        "Ahora vamos a buscar el número de veces que hay transacciones a una misma cuneta (Se halla el numero de transacciones x número de cuenta). Se hace la verificación de aquellas cuentas que se repiten, es decir, hallamos la frecuencia absoluta del número de cuenta. Evidenciamos que la mayoría de cuentas tienen entre 1 y 2 movimientos y que hay pocas con movimientos mayores a 3"
      ],
      "metadata": {
        "id": "P_rN1zYCnAi-"
      }
    },
    {
      "cell_type": "code",
      "source": [
        "#Tabla de frecuencias\n",
        "frec_numero_cuenta = pd.crosstab(index=filtered_df_sorted['account_number'],columns='Frecuencia')\n",
        "frec_numero_cuenta"
      ],
      "metadata": {
        "colab": {
          "base_uri": "https://localhost:8080/",
          "height": 455
        },
        "id": "ONfstepGtSFK",
        "outputId": "ae2feb81-1605-41d2-b4b1-cc124d99f692"
      },
      "execution_count": null,
      "outputs": [
        {
          "output_type": "execute_result",
          "data": {
            "text/plain": [
              "col_0                             Frecuencia\n",
              "account_number                              \n",
              "0000710d7dcd6ca62a9f3ec8a9a19c47           1\n",
              "000553c2d0f732c7cbc50e299092ff37           1\n",
              "00072bb1ceca34505a730f81c2c6c7aa           1\n",
              "00090855b6ff6117e18df2bf04a2644f           2\n",
              "000ce1c52f191de9049791046d1b5433           1\n",
              "...                                      ...\n",
              "fff30d6895feb7e4f7d72a1a95b3eb78           1\n",
              "fff33150e75c33fc8ebb17ec08b21c9d           1\n",
              "fff39cf8650418b1c1b7544fb806d4b3           2\n",
              "fffdc782209399efe079ab08a0d3ca55           1\n",
              "fffecc9fa344351ad47d677ca160c3d1           2\n",
              "\n",
              "[25017 rows x 1 columns]"
            ],
            "text/html": [
              "\n",
              "  <div id=\"df-b99658d7-ca35-40a9-8386-c86d00cb3678\">\n",
              "    <div class=\"colab-df-container\">\n",
              "      <div>\n",
              "<style scoped>\n",
              "    .dataframe tbody tr th:only-of-type {\n",
              "        vertical-align: middle;\n",
              "    }\n",
              "\n",
              "    .dataframe tbody tr th {\n",
              "        vertical-align: top;\n",
              "    }\n",
              "\n",
              "    .dataframe thead th {\n",
              "        text-align: right;\n",
              "    }\n",
              "</style>\n",
              "<table border=\"1\" class=\"dataframe\">\n",
              "  <thead>\n",
              "    <tr style=\"text-align: right;\">\n",
              "      <th>col_0</th>\n",
              "      <th>Frecuencia</th>\n",
              "    </tr>\n",
              "    <tr>\n",
              "      <th>account_number</th>\n",
              "      <th></th>\n",
              "    </tr>\n",
              "  </thead>\n",
              "  <tbody>\n",
              "    <tr>\n",
              "      <th>0000710d7dcd6ca62a9f3ec8a9a19c47</th>\n",
              "      <td>1</td>\n",
              "    </tr>\n",
              "    <tr>\n",
              "      <th>000553c2d0f732c7cbc50e299092ff37</th>\n",
              "      <td>1</td>\n",
              "    </tr>\n",
              "    <tr>\n",
              "      <th>00072bb1ceca34505a730f81c2c6c7aa</th>\n",
              "      <td>1</td>\n",
              "    </tr>\n",
              "    <tr>\n",
              "      <th>00090855b6ff6117e18df2bf04a2644f</th>\n",
              "      <td>2</td>\n",
              "    </tr>\n",
              "    <tr>\n",
              "      <th>000ce1c52f191de9049791046d1b5433</th>\n",
              "      <td>1</td>\n",
              "    </tr>\n",
              "    <tr>\n",
              "      <th>...</th>\n",
              "      <td>...</td>\n",
              "    </tr>\n",
              "    <tr>\n",
              "      <th>fff30d6895feb7e4f7d72a1a95b3eb78</th>\n",
              "      <td>1</td>\n",
              "    </tr>\n",
              "    <tr>\n",
              "      <th>fff33150e75c33fc8ebb17ec08b21c9d</th>\n",
              "      <td>1</td>\n",
              "    </tr>\n",
              "    <tr>\n",
              "      <th>fff39cf8650418b1c1b7544fb806d4b3</th>\n",
              "      <td>2</td>\n",
              "    </tr>\n",
              "    <tr>\n",
              "      <th>fffdc782209399efe079ab08a0d3ca55</th>\n",
              "      <td>1</td>\n",
              "    </tr>\n",
              "    <tr>\n",
              "      <th>fffecc9fa344351ad47d677ca160c3d1</th>\n",
              "      <td>2</td>\n",
              "    </tr>\n",
              "  </tbody>\n",
              "</table>\n",
              "<p>25017 rows × 1 columns</p>\n",
              "</div>\n",
              "      <button class=\"colab-df-convert\" onclick=\"convertToInteractive('df-b99658d7-ca35-40a9-8386-c86d00cb3678')\"\n",
              "              title=\"Convert this dataframe to an interactive table.\"\n",
              "              style=\"display:none;\">\n",
              "        \n",
              "  <svg xmlns=\"http://www.w3.org/2000/svg\" height=\"24px\"viewBox=\"0 0 24 24\"\n",
              "       width=\"24px\">\n",
              "    <path d=\"M0 0h24v24H0V0z\" fill=\"none\"/>\n",
              "    <path d=\"M18.56 5.44l.94 2.06.94-2.06 2.06-.94-2.06-.94-.94-2.06-.94 2.06-2.06.94zm-11 1L8.5 8.5l.94-2.06 2.06-.94-2.06-.94L8.5 2.5l-.94 2.06-2.06.94zm10 10l.94 2.06.94-2.06 2.06-.94-2.06-.94-.94-2.06-.94 2.06-2.06.94z\"/><path d=\"M17.41 7.96l-1.37-1.37c-.4-.4-.92-.59-1.43-.59-.52 0-1.04.2-1.43.59L10.3 9.45l-7.72 7.72c-.78.78-.78 2.05 0 2.83L4 21.41c.39.39.9.59 1.41.59.51 0 1.02-.2 1.41-.59l7.78-7.78 2.81-2.81c.8-.78.8-2.07 0-2.86zM5.41 20L4 18.59l7.72-7.72 1.47 1.35L5.41 20z\"/>\n",
              "  </svg>\n",
              "      </button>\n",
              "      \n",
              "  <style>\n",
              "    .colab-df-container {\n",
              "      display:flex;\n",
              "      flex-wrap:wrap;\n",
              "      gap: 12px;\n",
              "    }\n",
              "\n",
              "    .colab-df-convert {\n",
              "      background-color: #E8F0FE;\n",
              "      border: none;\n",
              "      border-radius: 50%;\n",
              "      cursor: pointer;\n",
              "      display: none;\n",
              "      fill: #1967D2;\n",
              "      height: 32px;\n",
              "      padding: 0 0 0 0;\n",
              "      width: 32px;\n",
              "    }\n",
              "\n",
              "    .colab-df-convert:hover {\n",
              "      background-color: #E2EBFA;\n",
              "      box-shadow: 0px 1px 2px rgba(60, 64, 67, 0.3), 0px 1px 3px 1px rgba(60, 64, 67, 0.15);\n",
              "      fill: #174EA6;\n",
              "    }\n",
              "\n",
              "    [theme=dark] .colab-df-convert {\n",
              "      background-color: #3B4455;\n",
              "      fill: #D2E3FC;\n",
              "    }\n",
              "\n",
              "    [theme=dark] .colab-df-convert:hover {\n",
              "      background-color: #434B5C;\n",
              "      box-shadow: 0px 1px 3px 1px rgba(0, 0, 0, 0.15);\n",
              "      filter: drop-shadow(0px 1px 2px rgba(0, 0, 0, 0.3));\n",
              "      fill: #FFFFFF;\n",
              "    }\n",
              "  </style>\n",
              "\n",
              "      <script>\n",
              "        const buttonEl =\n",
              "          document.querySelector('#df-b99658d7-ca35-40a9-8386-c86d00cb3678 button.colab-df-convert');\n",
              "        buttonEl.style.display =\n",
              "          google.colab.kernel.accessAllowed ? 'block' : 'none';\n",
              "\n",
              "        async function convertToInteractive(key) {\n",
              "          const element = document.querySelector('#df-b99658d7-ca35-40a9-8386-c86d00cb3678');\n",
              "          const dataTable =\n",
              "            await google.colab.kernel.invokeFunction('convertToInteractive',\n",
              "                                                     [key], {});\n",
              "          if (!dataTable) return;\n",
              "\n",
              "          const docLinkHtml = 'Like what you see? Visit the ' +\n",
              "            '<a target=\"_blank\" href=https://colab.research.google.com/notebooks/data_table.ipynb>data table notebook</a>'\n",
              "            + ' to learn more about interactive tables.';\n",
              "          element.innerHTML = '';\n",
              "          dataTable['output_type'] = 'display_data';\n",
              "          await google.colab.output.renderOutput(dataTable, element);\n",
              "          const docLink = document.createElement('div');\n",
              "          docLink.innerHTML = docLinkHtml;\n",
              "          element.appendChild(docLink);\n",
              "        }\n",
              "      </script>\n",
              "    </div>\n",
              "  </div>\n",
              "  "
            ]
          },
          "metadata": {},
          "execution_count": 105
        }
      ]
    },
    {
      "cell_type": "markdown",
      "source": [
        "Ahora lo que haremos es cambiar el tipo de dato de la columna transaction_amount a tipo float, dado que anteriormente aparecía como string"
      ],
      "metadata": {
        "id": "-tG31XvRHtXe"
      }
    },
    {
      "cell_type": "code",
      "source": [
        "filtered_df_sorted.transaction_amount=pd.to_numeric(filtered_df_sorted.transaction_amount, downcast='float')"
      ],
      "metadata": {
        "id": "dWjNvF4FZFS2"
      },
      "execution_count": null,
      "outputs": []
    },
    {
      "cell_type": "markdown",
      "source": [
        "Ahora como dice la descripción del problema las cuentas que son sospechosas de robo son aquellas que sus transacciones se hicieron en una ventana de 24 horas y tienen como origen o destino la misma cuenta o cliente, por lo cual se decidió agrupar los datos por número de cuenta y id del usuario y tener como columnas el conteo de transacciones por cuenta, suma total de las transacciones y la lista de momentos en los que se hicieron las transacciones."
      ],
      "metadata": {
        "id": "KDwDDtleI73Q"
      }
    },
    {
      "cell_type": "code",
      "source": [
        "x=filtered_df_sorted.groupby(by=['account_number','user_id']).agg({'account_number':'count', 'transaction_amount': 'sum','segundos':lambda x:sorted(x.tolist())})"
      ],
      "metadata": {
        "id": "UY7MYFyF4DQ6"
      },
      "execution_count": null,
      "outputs": []
    },
    {
      "cell_type": "code",
      "source": [
        "x.rename(columns = {'account_number':'account_number_count','transaction_amount':'transaction_amount_sum'}, inplace = True)"
      ],
      "metadata": {
        "id": "l9YvbXnueEHo"
      },
      "execution_count": null,
      "outputs": []
    },
    {
      "cell_type": "code",
      "source": [
        "x.reset_index(inplace=True)"
      ],
      "metadata": {
        "id": "Mf6uIGo6UKML"
      },
      "execution_count": null,
      "outputs": []
    },
    {
      "cell_type": "markdown",
      "source": [
        "Ahora hacemos una función en la cual restamos la última hora en la que se hizo la transacción con la primera y tratar de tener la ventana de tiempo en la cual se hicieron las transacciones."
      ],
      "metadata": {
        "id": "guDngwPUxLTQ"
      }
    },
    {
      "cell_type": "code",
      "source": [
        "def transacciones_minuto(lista):\n",
        "  lista=sorted(lista, reverse=True)\n",
        "  \n",
        "  return lista[0]-lista[-1]\n",
        "      "
      ],
      "metadata": {
        "id": "CWsrJZjGfruq"
      },
      "execution_count": null,
      "outputs": []
    },
    {
      "cell_type": "code",
      "source": [
        "x['transaction_less_minute']=x['segundos'].apply(transacciones_minuto)"
      ],
      "metadata": {
        "id": "nbBkN49Jeyrc"
      },
      "execution_count": null,
      "outputs": []
    },
    {
      "cell_type": "markdown",
      "source": [
        "Vamos a verificar este nuevo dataset y nos damos cuenta que hay gran cantidad de datos en los valores bajos del conteo de transacciones por número de cuenta. En valores como 1 o 2 se concentran gran cantidad de datos por lo cual estos datos no nos entregan gran información, así que vamos a suponer que el número de transacciones 1 o 2 por cuentas no representan transacciones sospechosas."
      ],
      "metadata": {
        "id": "ALGCyVvnaejn"
      }
    },
    {
      "cell_type": "code",
      "source": [
        "x.hist()"
      ],
      "metadata": {
        "colab": {
          "base_uri": "https://localhost:8080/",
          "height": 644
        },
        "id": "QZa4dtycYd-A",
        "outputId": "2103ec80-42db-412f-b650-76bb5eebdf1a"
      },
      "execution_count": null,
      "outputs": [
        {
          "output_type": "execute_result",
          "data": {
            "text/plain": [
              "array([[<matplotlib.axes._subplots.AxesSubplot object at 0x7f7a92df2d90>,\n",
              "        <matplotlib.axes._subplots.AxesSubplot object at 0x7f7a92e19e80>],\n",
              "       [<matplotlib.axes._subplots.AxesSubplot object at 0x7f7a92dc8ac0>,\n",
              "        <matplotlib.axes._subplots.AxesSubplot object at 0x7f7a92d80250>]],\n",
              "      dtype=object)"
            ]
          },
          "metadata": {},
          "execution_count": 31
        },
        {
          "output_type": "display_data",
          "data": {
            "text/plain": [
              "<Figure size 1152x648 with 4 Axes>"
            ],
            "image/png": "[encoded data removed]"
          },
          "metadata": {}
        }
      ]
    },
    {
      "cell_type": "code",
      "source": [
        "x.describe()"
      ],
      "metadata": {
        "colab": {
          "base_uri": "https://localhost:8080/",
          "height": 300
        },
        "id": "fn2BMq2Rcgz4",
        "outputId": "0fca21c2-c57b-4c56-a6e7-e9ee1293cb75"
      },
      "execution_count": null,
      "outputs": [
        {
          "output_type": "execute_result",
          "data": {
            "text/plain": [
              "       account_number_count  transaction_amount_sum  transaction_less_minute\n",
              "count          35100.000000            35100.000000             35100.000000\n",
              "mean               1.127521              275.279572               824.127436\n",
              "std                0.416996              376.860199              4697.138626\n",
              "min                1.000000                5.944455                 0.000000\n",
              "25%                1.000000               59.444550                 0.000000\n",
              "50%                1.000000              130.778015                 0.000000\n",
              "75%                1.000000              356.667297                 0.000000\n",
              "max               11.000000             6610.233887             75139.000000"
            ],
            "text/html": [
              "\n",
              "  <div id=\"df-04ed8d32-7cb4-4f42-8c3b-64dab48142a7\">\n",
              "    <div class=\"colab-df-container\">\n",
              "      <div>\n",
              "<style scoped>\n",
              "    .dataframe tbody tr th:only-of-type {\n",
              "        vertical-align: middle;\n",
              "    }\n",
              "\n",
              "    .dataframe tbody tr th {\n",
              "        vertical-align: top;\n",
              "    }\n",
              "\n",
              "    .dataframe thead th {\n",
              "        text-align: right;\n",
              "    }\n",
              "</style>\n",
              "<table border=\"1\" class=\"dataframe\">\n",
              "  <thead>\n",
              "    <tr style=\"text-align: right;\">\n",
              "      <th></th>\n",
              "      <th>account_number_count</th>\n",
              "      <th>transaction_amount_sum</th>\n",
              "      <th>transaction_less_minute</th>\n",
              "    </tr>\n",
              "  </thead>\n",
              "  <tbody>\n",
              "    <tr>\n",
              "      <th>count</th>\n",
              "      <td>35100.000000</td>\n",
              "      <td>35100.000000</td>\n",
              "      <td>35100.000000</td>\n",
              "    </tr>\n",
              "    <tr>\n",
              "      <th>mean</th>\n",
              "      <td>1.127521</td>\n",
              "      <td>275.279572</td>\n",
              "      <td>824.127436</td>\n",
              "    </tr>\n",
              "    <tr>\n",
              "      <th>std</th>\n",
              "      <td>0.416996</td>\n",
              "      <td>376.860199</td>\n",
              "      <td>4697.138626</td>\n",
              "    </tr>\n",
              "    <tr>\n",
              "      <th>min</th>\n",
              "      <td>1.000000</td>\n",
              "      <td>5.944455</td>\n",
              "      <td>0.000000</td>\n",
              "    </tr>\n",
              "    <tr>\n",
              "      <th>25%</th>\n",
              "      <td>1.000000</td>\n",
              "      <td>59.444550</td>\n",
              "      <td>0.000000</td>\n",
              "    </tr>\n",
              "    <tr>\n",
              "      <th>50%</th>\n",
              "      <td>1.000000</td>\n",
              "      <td>130.778015</td>\n",
              "      <td>0.000000</td>\n",
              "    </tr>\n",
              "    <tr>\n",
              "      <th>75%</th>\n",
              "      <td>1.000000</td>\n",
              "      <td>356.667297</td>\n",
              "      <td>0.000000</td>\n",
              "    </tr>\n",
              "    <tr>\n",
              "      <th>max</th>\n",
              "      <td>11.000000</td>\n",
              "      <td>6610.233887</td>\n",
              "      <td>75139.000000</td>\n",
              "    </tr>\n",
              "  </tbody>\n",
              "</table>\n",
              "</div>\n",
              "      <button class=\"colab-df-convert\" onclick=\"convertToInteractive('df-04ed8d32-7cb4-4f42-8c3b-64dab48142a7')\"\n",
              "              title=\"Convert this dataframe to an interactive table.\"\n",
              "              style=\"display:none;\">\n",
              "        \n",
              "  <svg xmlns=\"http://www.w3.org/2000/svg\" height=\"24px\"viewBox=\"0 0 24 24\"\n",
              "       width=\"24px\">\n",
              "    <path d=\"M0 0h24v24H0V0z\" fill=\"none\"/>\n",
              "    <path d=\"M18.56 5.44l.94 2.06.94-2.06 2.06-.94-2.06-.94-.94-2.06-.94 2.06-2.06.94zm-11 1L8.5 8.5l.94-2.06 2.06-.94-2.06-.94L8.5 2.5l-.94 2.06-2.06.94zm10 10l.94 2.06.94-2.06 2.06-.94-2.06-.94-.94-2.06-.94 2.06-2.06.94z\"/><path d=\"M17.41 7.96l-1.37-1.37c-.4-.4-.92-.59-1.43-.59-.52 0-1.04.2-1.43.59L10.3 9.45l-7.72 7.72c-.78.78-.78 2.05 0 2.83L4 21.41c.39.39.9.59 1.41.59.51 0 1.02-.2 1.41-.59l7.78-7.78 2.81-2.81c.8-.78.8-2.07 0-2.86zM5.41 20L4 18.59l7.72-7.72 1.47 1.35L5.41 20z\"/>\n",
              "  </svg>\n",
              "      </button>\n",
              "      \n",
              "  <style>\n",
              "    .colab-df-container {\n",
              "      display:flex;\n",
              "      flex-wrap:wrap;\n",
              "      gap: 12px;\n",
              "    }\n",
              "\n",
              "    .colab-df-convert {\n",
              "      background-color: #E8F0FE;\n",
              "      border: none;\n",
              "      border-radius: 50%;\n",
              "      cursor: pointer;\n",
              "      display: none;\n",
              "      fill: #1967D2;\n",
              "      height: 32px;\n",
              "      padding: 0 0 0 0;\n",
              "      width: 32px;\n",
              "    }\n",
              "\n",
              "    .colab-df-convert:hover {\n",
              "      background-color: #E2EBFA;\n",
              "      box-shadow: 0px 1px 2px rgba(60, 64, 67, 0.3), 0px 1px 3px 1px rgba(60, 64, 67, 0.15);\n",
              "      fill: #174EA6;\n",
              "    }\n",
              "\n",
              "    [theme=dark] .colab-df-convert {\n",
              "      background-color: #3B4455;\n",
              "      fill: #D2E3FC;\n",
              "    }\n",
              "\n",
              "    [theme=dark] .colab-df-convert:hover {\n",
              "      background-color: #434B5C;\n",
              "      box-shadow: 0px 1px 3px 1px rgba(0, 0, 0, 0.15);\n",
              "      filter: drop-shadow(0px 1px 2px rgba(0, 0, 0, 0.3));\n",
              "      fill: #FFFFFF;\n",
              "    }\n",
              "  </style>\n",
              "\n",
              "      <script>\n",
              "        const buttonEl =\n",
              "          document.querySelector('#df-04ed8d32-7cb4-4f42-8c3b-64dab48142a7 button.colab-df-convert');\n",
              "        buttonEl.style.display =\n",
              "          google.colab.kernel.accessAllowed ? 'block' : 'none';\n",
              "\n",
              "        async function convertToInteractive(key) {\n",
              "          const element = document.querySelector('#df-04ed8d32-7cb4-4f42-8c3b-64dab48142a7');\n",
              "          const dataTable =\n",
              "            await google.colab.kernel.invokeFunction('convertToInteractive',\n",
              "                                                     [key], {});\n",
              "          if (!dataTable) return;\n",
              "\n",
              "          const docLinkHtml = 'Like what you see? Visit the ' +\n",
              "            '<a target=\"_blank\" href=https://colab.research.google.com/notebooks/data_table.ipynb>data table notebook</a>'\n",
              "            + ' to learn more about interactive tables.';\n",
              "          element.innerHTML = '';\n",
              "          dataTable['output_type'] = 'display_data';\n",
              "          await google.colab.output.renderOutput(dataTable, element);\n",
              "          const docLink = document.createElement('div');\n",
              "          docLink.innerHTML = docLinkHtml;\n",
              "          element.appendChild(docLink);\n",
              "        }\n",
              "      </script>\n",
              "    </div>\n",
              "  </div>\n",
              "  "
            ]
          },
          "metadata": {},
          "execution_count": 32
        }
      ]
    },
    {
      "cell_type": "markdown",
      "source": [
        "Los gráficos de violín rectifican lo que pensamos, para los 1 y 2 en valores de conteo por número de cuenta (eje x), la suma del monto de las transacciones se concentran en valores bajos, mientras que en demás valores la distribución es más equitativa, es decir, no hay un punto en el cual se concentren los datos de las transacciones."
      ],
      "metadata": {
        "id": "GklFvpkTl0AA"
      }
    },
    {
      "cell_type": "code",
      "source": [
        "sns.violinplot(data=x, x=\"account_number_count\", y=\"transaction_amount_sum\")"
      ],
      "metadata": {
        "colab": {
          "base_uri": "https://localhost:8080/",
          "height": 574
        },
        "id": "dPuW06uyeq4T",
        "outputId": "e32601f3-c3b7-44f6-fa34-0aed7d405e6c"
      },
      "execution_count": null,
      "outputs": [
        {
          "output_type": "execute_result",
          "data": {
            "text/plain": [
              "<matplotlib.axes._subplots.AxesSubplot at 0x7f3d91981a60>"
            ]
          },
          "metadata": {},
          "execution_count": 16
        },
        {
          "output_type": "display_data",
          "data": {
            "text/plain": [
              "<Figure size 1152x648 with 1 Axes>"
            ],
            "image/png": "[encoded data removed]"
          },
          "metadata": {}
        }
      ]
    },
    {
      "cell_type": "markdown",
      "source": [
        "Por otro lado, se validó que las transacciones se realizan en un tiempo muy corto y pocas transacciones se hacen distribuidas en el tiempo, por esto sale otra hipótesis y es que las transacciones sospechosas se deben hacer en diferencias de tiempo cortas, no son tan distribuidas en el día "
      ],
      "metadata": {
        "id": "r5LDoY131o2N"
      }
    },
    {
      "cell_type": "code",
      "source": [
        "sns.violinplot(data=x, x=\"account_number_count\", y=\"transaction_less_minute\")"
      ],
      "metadata": {
        "colab": {
          "base_uri": "https://localhost:8080/",
          "height": 574
        },
        "id": "7FZ3ZaEbkzGm",
        "outputId": "e35e0e7f-79ff-4255-b959-496e493cac4a"
      },
      "execution_count": null,
      "outputs": [
        {
          "output_type": "execute_result",
          "data": {
            "text/plain": [
              "<matplotlib.axes._subplots.AxesSubplot at 0x7f3d91824e50>"
            ]
          },
          "metadata": {},
          "execution_count": 17
        },
        {
          "output_type": "display_data",
          "data": {
            "text/plain": [
              "<Figure size 1152x648 with 1 Axes>"
            ],
            "image/png": "[encoded data removed]"
          },
          "metadata": {}
        }
      ]
    },
    {
      "cell_type": "markdown",
      "source": [
        "# Modelo"
      ],
      "metadata": {
        "id": "CS_--EnsDqv2"
      }
    },
    {
      "cell_type": "markdown",
      "source": [
        "**Ahora este problema lo vamos a modelar con Fuzzy sets**"
      ],
      "metadata": {
        "id": "NS6CmaOsmvEw"
      }
    },
    {
      "cell_type": "markdown",
      "source": [
        "Como la distribución de los datos es un poco complicada y no se ajusta muy bien, se va a modelar el problema con lógica aproximada, así que comenzamos con las hipótesis que ya describimos las cuentas entre 1 o 2 transacciones no son sospechosas, por otro lado cuentas con trasacciones en un tiempo muy corto tienen mayor probabilidad de ser sospechosas"
      ],
      "metadata": {
        "id": "ZTYkA0Xe72Kk"
      }
    },
    {
      "cell_type": "code",
      "source": [
        "maximo_cantidad_2=max(x[x['account_number_count']<=2]['transaction_amount_sum'])\n",
        "mean_time_transaction=x.transaction_less_minute.mean()\n",
        "max_time_transaction=max(x.transaction_less_minute)"
      ],
      "metadata": {
        "id": "blad1R8c1i3V"
      },
      "execution_count": null,
      "outputs": []
    },
    {
      "cell_type": "markdown",
      "source": [
        "Se va a fuzzificar la variable account_number_count en tres valores un riesgo bajo 1-2, riesgo moderado 3 -6 y un riesgo crítico 7 - en adelante. \n",
        "\n",
        "Para la fuzzificación de la variable transaction_amount_sum se tendrán dos valores, suma baja la cual irá desde 0 hasta el máximo valor de aquellas cuentas con número de transacciones menores o iguales a 2 y el rango de suma alta irá desde la mitad del valor anteriormente descrito hasta el máximo valor acumulado de todas las transacciones del día. \n",
        "\n",
        "Finalmente, para la fuzzificación de la variable transaction_less_minute se tendrán dos valores acumulado bajo que va desde ceros hasta el promedio del tiempo que hay entre transacciones y un acumulado alto que va hasta el máximo de la diferencia de tiempo que hay entre transacciones, es decir, es la diferencia más alta."
      ],
      "metadata": {
        "id": "MOXU1whj8-Ud"
      }
    },
    {
      "cell_type": "code",
      "source": [
        "#Fuzzificación de la variable account_number_count\n",
        "\n",
        "# Valores 1 - 2 : Bajo Riesgo\n",
        "#Valores 3 - 6 : Riesgo moderado\n",
        "#Valores 7 - en adelante : Riesgo crítico\n",
        "\n",
        "mf_qual = np.arange(0, max(x.account_number_count)+10,1 )\n",
        "r_bajo = fuzz.trapmf(mf_qual, [0, 0.5, 1,3])\n",
        "r_medio = fuzz.trapmf(mf_qual, [2, 4,5, 7])\n",
        "r_critico = fuzz.trapmf(mf_qual, [6, 9, max(x.account_number_count)+10,max(x.account_number_count)+10])\n",
        "\n",
        "#Fuzzificación de la variable transaction_amount_sum\n",
        "#valores 0 - max(2 transacciones): Suma Baja\n",
        "#valores max(2 transacciones)-2 - max(suma transacciones)+3: Suma alta\n",
        "\n",
        "mf_sum = np.arange(0, max(x.transaction_amount_sum)+3,1 )\n",
        "s_baja = fuzz.trimf(mf_sum, [0, maximo_cantidad_2/2,maximo_cantidad_2])\n",
        "s_alta = fuzz.trapmf(mf_sum, [maximo_cantidad_2/2, max(x.transaction_amount_sum)/2,max(x.transaction_amount_sum)+3, max(x.transaction_amount_sum)+3])\n",
        "\n",
        "#Fuzzificación de la variable transaction_less_minute\n",
        "#valores 0 - mean.transaction_less_minute: Tiempo acumulado de transacciones bajo\n",
        "#valores mean.transaction_less_minute/2 - max(transaction_less_minute)+8: Tiempo acumulado de transacciones bajo alto\n",
        "\n",
        "mf_acum = np.arange(0, max(x.transaction_less_minute)+8,1 )\n",
        "a_baja = fuzz.trimf(mf_acum, [0, mean_time_transaction/2,mean_time_transaction])\n",
        "a_alta = fuzz.trimf(mf_acum, [mean_time_transaction/2, max_time_transaction/2,max_time_transaction+8])\n"
      ],
      "metadata": {
        "id": "E71jewKjmsZs"
      },
      "execution_count": null,
      "outputs": []
    },
    {
      "cell_type": "code",
      "source": [
        "# account_number_count\n",
        "plt.plot(mf_qual, r_bajo, 'g', linewidth=1.5, label='Bajo')\n",
        "plt.plot(mf_qual, r_medio, 'b', linewidth=1.5, label='Moderado')\n",
        "plt.plot(mf_qual, r_critico, 'r', linewidth=3, label='Critico')\n",
        "plt.title('account_number_count')\n",
        "plt.legend()\n",
        "plt.show()\n",
        "\n",
        "#transaction_amount_sum\n",
        "plt.plot(mf_sum, s_baja, 'b', linewidth=1.5, label='Monto Bajo')\n",
        "plt.plot(mf_sum, s_alta, 'r', linewidth=3, label='Monto Alto')\n",
        "plt.title('transaction_amount_sum')\n",
        "plt.legend()\n",
        "plt.show()\n",
        "\n",
        "#transaction_less_minute\n",
        "plt.plot(mf_acum, a_baja, 'b', linewidth=1.5, label='Tiempo Bajo')\n",
        "plt.plot(mf_acum, a_alta, 'r', linewidth=3, label='Tiempo Alto')\n",
        "plt.title('transaction_less_minute')\n",
        "plt.legend()\n",
        "plt.show()"
      ],
      "metadata": {
        "colab": {
          "base_uri": "https://localhost:8080/",
          "height": 1000
        },
        "id": "Y3Ok4NmbvN2h",
        "outputId": "9ee44892-e38f-4ff3-dc6c-8c3fbaf63fc1"
      },
      "execution_count": null,
      "outputs": [
        {
          "output_type": "display_data",
          "data": {
            "text/plain": [
              "<Figure size 1152x648 with 1 Axes>"
            ],
            "image/png": "[encoded data removed]"
          },
          "metadata": {}
        },
        {
          "output_type": "display_data",
          "data": {
            "text/plain": [
              "<Figure size 1152x648 with 1 Axes>"
            ],
            "image/png": "[encoded data removed]"
          },
          "metadata": {}
        },
        {
          "output_type": "display_data",
          "data": {
            "text/plain": [
              "<Figure size 1152x648 with 1 Axes>"
            ],
            "image/png": "[encoded data removed]"
          },
          "metadata": {}
        }
      ]
    },
    {
      "cell_type": "markdown",
      "source": [
        "Se verifica el nivel de pertenencia a cada uno de los sets para luego evaluarlos en las reglas."
      ],
      "metadata": {
        "id": "NKVk1Mdz_yB7"
      }
    },
    {
      "cell_type": "code",
      "source": [
        "#nivel de membresía account_number_count\n",
        "def Fuzzaccount_number_count(qualVal):\n",
        "  fzz_qual = np.zeros(3)\n",
        "\n",
        "  fzz_qual[0] = fuzz.interp_membership(mf_qual, r_bajo, qualVal)\n",
        "  fzz_qual[1] = fuzz.interp_membership(mf_qual, r_medio, qualVal)\n",
        "  fzz_qual[2] = fuzz.interp_membership(mf_qual, r_critico, qualVal)\n",
        "\n",
        "  return fzz_qual\n",
        "\n",
        "#nivel de membresía transaction_amount_sum\n",
        "def Fuzztransaction_amount_sum(svcVal):\n",
        "  fzz_svc = np.zeros(2)\n",
        "\n",
        "  fzz_svc[0] = fuzz.interp_membership(mf_sum, s_baja, svcVal)\n",
        "  fzz_svc[1] = fuzz.interp_membership(mf_sum, s_alta, svcVal)\n",
        "\n",
        "\n",
        "  return fzz_svc\n",
        "\n",
        "#nivel de membresía transaction_less_minute\n",
        "def Fuzztransaction_less_minute(timeVal):\n",
        "  fzz_time = np.zeros(2)\n",
        "\n",
        "  fzz_time[0] = fuzz.interp_membership(mf_acum, a_baja, timeVal)\n",
        "  fzz_time[1] = fuzz.interp_membership(mf_acum, a_alta, timeVal)\n",
        "\n",
        "\n",
        "  return fzz_time"
      ],
      "metadata": {
        "id": "XJrD3P5W783F"
      },
      "execution_count": null,
      "outputs": []
    },
    {
      "cell_type": "markdown",
      "source": [
        "Ahora haremos tendremos dos reglas para determinar si es una cuenta con sospecha o sin sospecha. Vamos a definir una primera regla, la cual tendrá varias opciones y serán las condiciones para determinar que una transacción no es sospechosa, esta primera regla tiene las siguientes opciones (No Sospechosos): \n",
        "- Si el número de transacciones de un número de cuenta es bajo y la suma de los movimientos es baja.\n",
        "- La cantidad de transacciones de un número de cuentas es bajo, la suma de los movimientos es baja y se realizan en un período de tiempo corto. \n",
        "- La cantidad de transacciones de un número de cuentas es bajo, la suma de los movimientos es baja y se realizan en un período de tiempo alto. \n",
        "- La cantidad de transacciones de un número de cuentas es medio, la suma de los movimientos es baja y se realizan en un período de tiempo alto. \n",
        "\n",
        "La segunda regla tiene las siguientes opciones (Sospechosos):\n",
        "-  La cantidad de transacciones de un número de cuentas es medio, la suma de los movimientos es baja y se realizan en un período de tiempo bajo.\n",
        "- La cantidad de transacciones de un número de cuentas es alto, la suma de los movimientos es alto y se realizan en un período de tiempo bajo.\n",
        "- La cantidad de transacciones de un número de cuentas es medio, la suma de los movimientos es alto.\n",
        "- La cantidad de transacciones de un número de cuentas es alto y se realizan en un período de tiempo bajo.\n",
        " "
      ],
      "metadata": {
        "id": "Do8j9N8K_74t"
      }
    },
    {
      "cell_type": "code",
      "source": [
        "def evalRules(fuzzedQal, fuzzedSvc,fuzzedtime):\n",
        "  outVarS = np.zeros(2)\n",
        "  outVarS[0] = max(outVarS[0], min(fuzzedQal[0], fuzzedSvc[0])) #regla 1 si la cantida de transacciones en numero de cuenta bajo y suma de montos baja\n",
        "  outVarS[0] = max(outVarS[0], min(fuzzedQal[0], fuzzedSvc[0],fuzzedtime[0])) #regla 1 si la cantida de transacciones en numero de cuenta bajo y suma de montos baja\n",
        "  outVarS[0] = max(outVarS[0], min(fuzzedQal[0], fuzzedSvc[0],fuzzedtime[1]))\n",
        "  outVarS[0] = max(outVarS[0], min(fuzzedQal[1], fuzzedSvc[0],fuzzedtime[1])) #regla 1 si la cantida de transacciones en numero de cuenta medio y suma de montos baja y el tiempo alto\n",
        "  outVarS[1] = max(outVarS[1], min(fuzzedQal[1], fuzzedSvc[0],fuzzedtime[0])) #regla 2 si la cantida de transacciones en numero de cuenta medio y suma de montos baja y el tiempo bajo\n",
        "  outVarS[1] = max(outVarS[1], min(fuzzedQal[2], fuzzedSvc[1],fuzzedtime[0])) # regla 2 si la cantida de transacciones en numero de cuenta es alto y suma de montos alto y en corto tiempo\n",
        "  outVarS[1] = max(outVarS[1], min(fuzzedQal[1], fuzzedSvc[1])) # regla 2 si la cantida de transacciones en numero de cuenta es medio y suma de montos alto \n",
        "  outVarS[1] = max(outVarS[1], min(fuzzedQal[2], fuzzedtime[0])) # regla 2 si la cantida de transacciones en numero de cuenta es alto y en un tiempo corto\n",
        "  return outVarS"
      ],
      "metadata": {
        "id": "SX--B0G_9S5v"
      },
      "execution_count": null,
      "outputs": []
    },
    {
      "cell_type": "code",
      "source": [
        "def execFzzedRules(account_count,transaction_sum,time_count):\n",
        "  fzzedaccount_number_count = Fuzzaccount_number_count(account_count)\n",
        "\n",
        "  fzzedtransaction_amount_sum = Fuzztransaction_amount_sum(transaction_sum)\n",
        "\n",
        "  fzzedtime_count= Fuzztransaction_less_minute(time_count)\n",
        "\n",
        "  EvaledRs = evalRules(fzzedaccount_number_count,fzzedtransaction_amount_sum,fzzedtime_count)\n",
        "  return EvaledRs"
      ],
      "metadata": {
        "id": "DOaLsbZlA6tl"
      },
      "execution_count": null,
      "outputs": []
    },
    {
      "cell_type": "markdown",
      "source": [
        "Ahora vamos a adicionar el label de Sospechoso o No Sospechoso, según la probabilidad de las reglas de evaluación."
      ],
      "metadata": {
        "id": "GiygK9j7DkHw"
      }
    },
    {
      "cell_type": "code",
      "source": [
        "lista=[]\n",
        "for i in range(len(x.account_number_count)):\n",
        "  w=execFzzedRules(x.account_number_count[i],x.transaction_amount_sum[i],x.transaction_less_minute[i])\n",
        "  if w[1]>w[0]:\n",
        "    lista.append('Sospechoso')\n",
        "  else:\n",
        "    lista.append('No Sospechoso')"
      ],
      "metadata": {
        "id": "UOaoCKWhBx2-"
      },
      "execution_count": null,
      "outputs": []
    },
    {
      "cell_type": "code",
      "source": [
        "x['Label']=pd.DataFrame(lista,index=x.index)"
      ],
      "metadata": {
        "id": "UudOdl6RRqCS"
      },
      "execution_count": null,
      "outputs": []
    },
    {
      "cell_type": "code",
      "source": [
        "x"
      ],
      "metadata": {
        "colab": {
          "base_uri": "https://localhost:8080/",
          "height": 661
        },
        "id": "zF89Qv6bc7gc",
        "outputId": "92a36375-508b-434a-fccb-d2ddf02975ff"
      },
      "execution_count": null,
      "outputs": [
        {
          "output_type": "execute_result",
          "data": {
            "text/plain": [
              "                         account_number                           user_id  \\\n",
              "0      000145c89e3faae99d09731414395e5a  da671670b590f68a715e362f14033945   \n",
              "1      00072bb1ceca34505a730f81c2c6c7aa  c10b5e8d123fc79993addae2ba3f2d1a   \n",
              "2      000799213e728c0f2a4fb029ded8bcef  904f25a99fe329df10d5e3d5df082a2f   \n",
              "3      00079a9b01baf50842eaf6a251ff2348  574b7d3f92373225b9039d1fd2d4ef27   \n",
              "4      00090855b6ff6117e18df2bf04a2644f  7d0278db59b95ad1727cc59b4b8032e2   \n",
              "...                                 ...                               ...   \n",
              "19898  fff071f3b18d3a3652522501a4358a43  ff11505121eae7b20b49da5ccd7d833b   \n",
              "19899  fff09464c863bf5ca65da18c37086e19  be9d5287564b8b0157dd524a711cb4f3   \n",
              "19900  fff1f8b905525353f95738758525a263  118a8c621cf53622de01481a6841763f   \n",
              "19901  fff81db40fd639f610c4500bd139bd0f  25990abde842e908210d73d9291ce890   \n",
              "19902  fffbb406aa9a4801c4b65d2164d1b922  f77ce242a5e453238bc58e61cc053f27   \n",
              "\n",
              "       account_number_count  transaction_amount_sum        segundos  \\\n",
              "0                         1               47.555641         [44609]   \n",
              "1                         1               11.888910         [41938]   \n",
              "2                         1               17.833364         [64459]   \n",
              "3                         1              154.555832         [58876]   \n",
              "4                         2             2377.781982  [42564, 42619]   \n",
              "...                     ...                     ...             ...   \n",
              "19898                     1              130.778015         [52285]   \n",
              "19899                     1              237.778198         [35834]   \n",
              "19900                     1              214.000381         [64619]   \n",
              "19901                     1              416.111847         [45382]   \n",
              "19902                     1               59.444550         [70179]   \n",
              "\n",
              "       transaction_less_minute          Label  \n",
              "0                            0  No Sospechoso  \n",
              "1                            0  No Sospechoso  \n",
              "2                            0  No Sospechoso  \n",
              "3                            0  No Sospechoso  \n",
              "4                           55  No Sospechoso  \n",
              "...                        ...            ...  \n",
              "19898                        0  No Sospechoso  \n",
              "19899                        0  No Sospechoso  \n",
              "19900                        0  No Sospechoso  \n",
              "19901                        0  No Sospechoso  \n",
              "19902                        0  No Sospechoso  \n",
              "\n",
              "[19903 rows x 7 columns]"
            ],
            "text/html": [
              "\n",
              "  <div id=\"df-173e42a8-ac87-4cd5-a85e-cf07806d81be\">\n",
              "    <div class=\"colab-df-container\">\n",
              "      <div>\n",
              "<style scoped>\n",
              "    .dataframe tbody tr th:only-of-type {\n",
              "        vertical-align: middle;\n",
              "    }\n",
              "\n",
              "    .dataframe tbody tr th {\n",
              "        vertical-align: top;\n",
              "    }\n",
              "\n",
              "    .dataframe thead th {\n",
              "        text-align: right;\n",
              "    }\n",
              "</style>\n",
              "<table border=\"1\" class=\"dataframe\">\n",
              "  <thead>\n",
              "    <tr style=\"text-align: right;\">\n",
              "      <th></th>\n",
              "      <th>account_number</th>\n",
              "      <th>user_id</th>\n",
              "      <th>account_number_count</th>\n",
              "      <th>transaction_amount_sum</th>\n",
              "      <th>segundos</th>\n",
              "      <th>transaction_less_minute</th>\n",
              "      <th>Label</th>\n",
              "    </tr>\n",
              "  </thead>\n",
              "  <tbody>\n",
              "    <tr>\n",
              "      <th>0</th>\n",
              "      <td>000145c89e3faae99d09731414395e5a</td>\n",
              "      <td>da671670b590f68a715e362f14033945</td>\n",
              "      <td>1</td>\n",
              "      <td>47.555641</td>\n",
              "      <td>[44609]</td>\n",
              "      <td>0</td>\n",
              "      <td>No Sospechoso</td>\n",
              "    </tr>\n",
              "    <tr>\n",
              "      <th>1</th>\n",
              "      <td>00072bb1ceca34505a730f81c2c6c7aa</td>\n",
              "      <td>c10b5e8d123fc79993addae2ba3f2d1a</td>\n",
              "      <td>1</td>\n",
              "      <td>11.888910</td>\n",
              "      <td>[41938]</td>\n",
              "      <td>0</td>\n",
              "      <td>No Sospechoso</td>\n",
              "    </tr>\n",
              "    <tr>\n",
              "      <th>2</th>\n",
              "      <td>000799213e728c0f2a4fb029ded8bcef</td>\n",
              "      <td>904f25a99fe329df10d5e3d5df082a2f</td>\n",
              "      <td>1</td>\n",
              "      <td>17.833364</td>\n",
              "      <td>[64459]</td>\n",
              "      <td>0</td>\n",
              "      <td>No Sospechoso</td>\n",
              "    </tr>\n",
              "    <tr>\n",
              "      <th>3</th>\n",
              "      <td>00079a9b01baf50842eaf6a251ff2348</td>\n",
              "      <td>574b7d3f92373225b9039d1fd2d4ef27</td>\n",
              "      <td>1</td>\n",
              "      <td>154.555832</td>\n",
              "      <td>[58876]</td>\n",
              "      <td>0</td>\n",
              "      <td>No Sospechoso</td>\n",
              "    </tr>\n",
              "    <tr>\n",
              "      <th>4</th>\n",
              "      <td>00090855b6ff6117e18df2bf04a2644f</td>\n",
              "      <td>7d0278db59b95ad1727cc59b4b8032e2</td>\n",
              "      <td>2</td>\n",
              "      <td>2377.781982</td>\n",
              "      <td>[42564, 42619]</td>\n",
              "      <td>55</td>\n",
              "      <td>No Sospechoso</td>\n",
              "    </tr>\n",
              "    <tr>\n",
              "      <th>...</th>\n",
              "      <td>...</td>\n",
              "      <td>...</td>\n",
              "      <td>...</td>\n",
              "      <td>...</td>\n",
              "      <td>...</td>\n",
              "      <td>...</td>\n",
              "      <td>...</td>\n",
              "    </tr>\n",
              "    <tr>\n",
              "      <th>19898</th>\n",
              "      <td>fff071f3b18d3a3652522501a4358a43</td>\n",
              "      <td>ff11505121eae7b20b49da5ccd7d833b</td>\n",
              "      <td>1</td>\n",
              "      <td>130.778015</td>\n",
              "      <td>[52285]</td>\n",
              "      <td>0</td>\n",
              "      <td>No Sospechoso</td>\n",
              "    </tr>\n",
              "    <tr>\n",
              "      <th>19899</th>\n",
              "      <td>fff09464c863bf5ca65da18c37086e19</td>\n",
              "      <td>be9d5287564b8b0157dd524a711cb4f3</td>\n",
              "      <td>1</td>\n",
              "      <td>237.778198</td>\n",
              "      <td>[35834]</td>\n",
              "      <td>0</td>\n",
              "      <td>No Sospechoso</td>\n",
              "    </tr>\n",
              "    <tr>\n",
              "      <th>19900</th>\n",
              "      <td>fff1f8b905525353f95738758525a263</td>\n",
              "      <td>118a8c621cf53622de01481a6841763f</td>\n",
              "      <td>1</td>\n",
              "      <td>214.000381</td>\n",
              "      <td>[64619]</td>\n",
              "      <td>0</td>\n",
              "      <td>No Sospechoso</td>\n",
              "    </tr>\n",
              "    <tr>\n",
              "      <th>19901</th>\n",
              "      <td>fff81db40fd639f610c4500bd139bd0f</td>\n",
              "      <td>25990abde842e908210d73d9291ce890</td>\n",
              "      <td>1</td>\n",
              "      <td>416.111847</td>\n",
              "      <td>[45382]</td>\n",
              "      <td>0</td>\n",
              "      <td>No Sospechoso</td>\n",
              "    </tr>\n",
              "    <tr>\n",
              "      <th>19902</th>\n",
              "      <td>fffbb406aa9a4801c4b65d2164d1b922</td>\n",
              "      <td>f77ce242a5e453238bc58e61cc053f27</td>\n",
              "      <td>1</td>\n",
              "      <td>59.444550</td>\n",
              "      <td>[70179]</td>\n",
              "      <td>0</td>\n",
              "      <td>No Sospechoso</td>\n",
              "    </tr>\n",
              "  </tbody>\n",
              "</table>\n",
              "<p>19903 rows × 7 columns</p>\n",
              "</div>\n",
              "      <button class=\"colab-df-convert\" onclick=\"convertToInteractive('df-173e42a8-ac87-4cd5-a85e-cf07806d81be')\"\n",
              "              title=\"Convert this dataframe to an interactive table.\"\n",
              "              style=\"display:none;\">\n",
              "        \n",
              "  <svg xmlns=\"http://www.w3.org/2000/svg\" height=\"24px\"viewBox=\"0 0 24 24\"\n",
              "       width=\"24px\">\n",
              "    <path d=\"M0 0h24v24H0V0z\" fill=\"none\"/>\n",
              "    <path d=\"M18.56 5.44l.94 2.06.94-2.06 2.06-.94-2.06-.94-.94-2.06-.94 2.06-2.06.94zm-11 1L8.5 8.5l.94-2.06 2.06-.94-2.06-.94L8.5 2.5l-.94 2.06-2.06.94zm10 10l.94 2.06.94-2.06 2.06-.94-2.06-.94-.94-2.06-.94 2.06-2.06.94z\"/><path d=\"M17.41 7.96l-1.37-1.37c-.4-.4-.92-.59-1.43-.59-.52 0-1.04.2-1.43.59L10.3 9.45l-7.72 7.72c-.78.78-.78 2.05 0 2.83L4 21.41c.39.39.9.59 1.41.59.51 0 1.02-.2 1.41-.59l7.78-7.78 2.81-2.81c.8-.78.8-2.07 0-2.86zM5.41 20L4 18.59l7.72-7.72 1.47 1.35L5.41 20z\"/>\n",
              "  </svg>\n",
              "      </button>\n",
              "      \n",
              "  <style>\n",
              "    .colab-df-container {\n",
              "      display:flex;\n",
              "      flex-wrap:wrap;\n",
              "      gap: 12px;\n",
              "    }\n",
              "\n",
              "    .colab-df-convert {\n",
              "      background-color: #E8F0FE;\n",
              "      border: none;\n",
              "      border-radius: 50%;\n",
              "      cursor: pointer;\n",
              "      display: none;\n",
              "      fill: #1967D2;\n",
              "      height: 32px;\n",
              "      padding: 0 0 0 0;\n",
              "      width: 32px;\n",
              "    }\n",
              "\n",
              "    .colab-df-convert:hover {\n",
              "      background-color: #E2EBFA;\n",
              "      box-shadow: 0px 1px 2px rgba(60, 64, 67, 0.3), 0px 1px 3px 1px rgba(60, 64, 67, 0.15);\n",
              "      fill: #174EA6;\n",
              "    }\n",
              "\n",
              "    [theme=dark] .colab-df-convert {\n",
              "      background-color: #3B4455;\n",
              "      fill: #D2E3FC;\n",
              "    }\n",
              "\n",
              "    [theme=dark] .colab-df-convert:hover {\n",
              "      background-color: #434B5C;\n",
              "      box-shadow: 0px 1px 3px 1px rgba(0, 0, 0, 0.15);\n",
              "      filter: drop-shadow(0px 1px 2px rgba(0, 0, 0, 0.3));\n",
              "      fill: #FFFFFF;\n",
              "    }\n",
              "  </style>\n",
              "\n",
              "      <script>\n",
              "        const buttonEl =\n",
              "          document.querySelector('#df-173e42a8-ac87-4cd5-a85e-cf07806d81be button.colab-df-convert');\n",
              "        buttonEl.style.display =\n",
              "          google.colab.kernel.accessAllowed ? 'block' : 'none';\n",
              "\n",
              "        async function convertToInteractive(key) {\n",
              "          const element = document.querySelector('#df-173e42a8-ac87-4cd5-a85e-cf07806d81be');\n",
              "          const dataTable =\n",
              "            await google.colab.kernel.invokeFunction('convertToInteractive',\n",
              "                                                     [key], {});\n",
              "          if (!dataTable) return;\n",
              "\n",
              "          const docLinkHtml = 'Like what you see? Visit the ' +\n",
              "            '<a target=\"_blank\" href=https://colab.research.google.com/notebooks/data_table.ipynb>data table notebook</a>'\n",
              "            + ' to learn more about interactive tables.';\n",
              "          element.innerHTML = '';\n",
              "          dataTable['output_type'] = 'display_data';\n",
              "          await google.colab.output.renderOutput(dataTable, element);\n",
              "          const docLink = document.createElement('div');\n",
              "          docLink.innerHTML = docLinkHtml;\n",
              "          element.appendChild(docLink);\n",
              "        }\n",
              "      </script>\n",
              "    </div>\n",
              "  </div>\n",
              "  "
            ]
          },
          "metadata": {},
          "execution_count": 130
        }
      ]
    },
    {
      "cell_type": "markdown",
      "source": [
        "Como resultado vemos que la mayoría de los mvtos son No Sospechosos debido a que gran número corresponden a mvtos de 1 o 2 transacciones."
      ],
      "metadata": {
        "id": "W5ZgKUVfEK6A"
      }
    },
    {
      "cell_type": "code",
      "source": [
        "frec_label = pd.crosstab(index=x['Label'],columns='Frecuencia')\n",
        "frec_label['Frecuencia relativa']=frec_label['Frecuencia']/sum(frec_label['Frecuencia'])\n",
        "frec_label"
      ],
      "metadata": {
        "colab": {
          "base_uri": "https://localhost:8080/",
          "height": 143
        },
        "id": "DgoUycu4c_JR",
        "outputId": "18f53863-5fc9-4241-d14e-d33e6138813c"
      },
      "execution_count": null,
      "outputs": [
        {
          "output_type": "execute_result",
          "data": {
            "text/plain": [
              "col_0          Frecuencia  Frecuencia relativa\n",
              "Label                                         \n",
              "No Sospechoso       19651             0.987339\n",
              "Sospechoso            252             0.012661"
            ],
            "text/html": [
              "\n",
              "  <div id=\"df-82bc4762-8d52-428f-9144-864b6dbf58b5\">\n",
              "    <div class=\"colab-df-container\">\n",
              "      <div>\n",
              "<style scoped>\n",
              "    .dataframe tbody tr th:only-of-type {\n",
              "        vertical-align: middle;\n",
              "    }\n",
              "\n",
              "    .dataframe tbody tr th {\n",
              "        vertical-align: top;\n",
              "    }\n",
              "\n",
              "    .dataframe thead th {\n",
              "        text-align: right;\n",
              "    }\n",
              "</style>\n",
              "<table border=\"1\" class=\"dataframe\">\n",
              "  <thead>\n",
              "    <tr style=\"text-align: right;\">\n",
              "      <th>col_0</th>\n",
              "      <th>Frecuencia</th>\n",
              "      <th>Frecuencia relativa</th>\n",
              "    </tr>\n",
              "    <tr>\n",
              "      <th>Label</th>\n",
              "      <th></th>\n",
              "      <th></th>\n",
              "    </tr>\n",
              "  </thead>\n",
              "  <tbody>\n",
              "    <tr>\n",
              "      <th>No Sospechoso</th>\n",
              "      <td>19651</td>\n",
              "      <td>0.987339</td>\n",
              "    </tr>\n",
              "    <tr>\n",
              "      <th>Sospechoso</th>\n",
              "      <td>252</td>\n",
              "      <td>0.012661</td>\n",
              "    </tr>\n",
              "  </tbody>\n",
              "</table>\n",
              "</div>\n",
              "      <button class=\"colab-df-convert\" onclick=\"convertToInteractive('df-82bc4762-8d52-428f-9144-864b6dbf58b5')\"\n",
              "              title=\"Convert this dataframe to an interactive table.\"\n",
              "              style=\"display:none;\">\n",
              "        \n",
              "  <svg xmlns=\"http://www.w3.org/2000/svg\" height=\"24px\"viewBox=\"0 0 24 24\"\n",
              "       width=\"24px\">\n",
              "    <path d=\"M0 0h24v24H0V0z\" fill=\"none\"/>\n",
              "    <path d=\"M18.56 5.44l.94 2.06.94-2.06 2.06-.94-2.06-.94-.94-2.06-.94 2.06-2.06.94zm-11 1L8.5 8.5l.94-2.06 2.06-.94-2.06-.94L8.5 2.5l-.94 2.06-2.06.94zm10 10l.94 2.06.94-2.06 2.06-.94-2.06-.94-.94-2.06-.94 2.06-2.06.94z\"/><path d=\"M17.41 7.96l-1.37-1.37c-.4-.4-.92-.59-1.43-.59-.52 0-1.04.2-1.43.59L10.3 9.45l-7.72 7.72c-.78.78-.78 2.05 0 2.83L4 21.41c.39.39.9.59 1.41.59.51 0 1.02-.2 1.41-.59l7.78-7.78 2.81-2.81c.8-.78.8-2.07 0-2.86zM5.41 20L4 18.59l7.72-7.72 1.47 1.35L5.41 20z\"/>\n",
              "  </svg>\n",
              "      </button>\n",
              "      \n",
              "  <style>\n",
              "    .colab-df-container {\n",
              "      display:flex;\n",
              "      flex-wrap:wrap;\n",
              "      gap: 12px;\n",
              "    }\n",
              "\n",
              "    .colab-df-convert {\n",
              "      background-color: #E8F0FE;\n",
              "      border: none;\n",
              "      border-radius: 50%;\n",
              "      cursor: pointer;\n",
              "      display: none;\n",
              "      fill: #1967D2;\n",
              "      height: 32px;\n",
              "      padding: 0 0 0 0;\n",
              "      width: 32px;\n",
              "    }\n",
              "\n",
              "    .colab-df-convert:hover {\n",
              "      background-color: #E2EBFA;\n",
              "      box-shadow: 0px 1px 2px rgba(60, 64, 67, 0.3), 0px 1px 3px 1px rgba(60, 64, 67, 0.15);\n",
              "      fill: #174EA6;\n",
              "    }\n",
              "\n",
              "    [theme=dark] .colab-df-convert {\n",
              "      background-color: #3B4455;\n",
              "      fill: #D2E3FC;\n",
              "    }\n",
              "\n",
              "    [theme=dark] .colab-df-convert:hover {\n",
              "      background-color: #434B5C;\n",
              "      box-shadow: 0px 1px 3px 1px rgba(0, 0, 0, 0.15);\n",
              "      filter: drop-shadow(0px 1px 2px rgba(0, 0, 0, 0.3));\n",
              "      fill: #FFFFFF;\n",
              "    }\n",
              "  </style>\n",
              "\n",
              "      <script>\n",
              "        const buttonEl =\n",
              "          document.querySelector('#df-82bc4762-8d52-428f-9144-864b6dbf58b5 button.colab-df-convert');\n",
              "        buttonEl.style.display =\n",
              "          google.colab.kernel.accessAllowed ? 'block' : 'none';\n",
              "\n",
              "        async function convertToInteractive(key) {\n",
              "          const element = document.querySelector('#df-82bc4762-8d52-428f-9144-864b6dbf58b5');\n",
              "          const dataTable =\n",
              "            await google.colab.kernel.invokeFunction('convertToInteractive',\n",
              "                                                     [key], {});\n",
              "          if (!dataTable) return;\n",
              "\n",
              "          const docLinkHtml = 'Like what you see? Visit the ' +\n",
              "            '<a target=\"_blank\" href=https://colab.research.google.com/notebooks/data_table.ipynb>data table notebook</a>'\n",
              "            + ' to learn more about interactive tables.';\n",
              "          element.innerHTML = '';\n",
              "          dataTable['output_type'] = 'display_data';\n",
              "          await google.colab.output.renderOutput(dataTable, element);\n",
              "          const docLink = document.createElement('div');\n",
              "          docLink.innerHTML = docLinkHtml;\n",
              "          element.appendChild(docLink);\n",
              "        }\n",
              "      </script>\n",
              "    </div>\n",
              "  </div>\n",
              "  "
            ]
          },
          "metadata": {},
          "execution_count": 134
        }
      ]
    },
    {
      "cell_type": "code",
      "source": [
        "plt.bar(frec_label.index,frec_label['Frecuencia'])"
      ],
      "metadata": {
        "colab": {
          "base_uri": "https://localhost:8080/",
          "height": 557
        },
        "id": "I0qFwEl0do_q",
        "outputId": "9af5ac7f-b014-4daf-a35d-bd71865ea06b"
      },
      "execution_count": null,
      "outputs": [
        {
          "output_type": "execute_result",
          "data": {
            "text/plain": [
              "<BarContainer object of 2 artists>"
            ]
          },
          "metadata": {},
          "execution_count": 135
        },
        {
          "output_type": "display_data",
          "data": {
            "text/plain": [
              "<Figure size 1152x648 with 1 Axes>"
            ],
            "image/png": "[encoded data removed]"
          },
          "metadata": {}
        }
      ]
    },
    {
      "cell_type": "markdown",
      "source": [
        "# Aclaraciones "
      ],
      "metadata": {
        "id": "JX__jksIErfg"
      }
    },
    {
      "cell_type": "markdown",
      "source": [
        "- Para este modelo cabe resaltar que la ingestión de los datos se debe de realizar diariamente y correr la ETL del proceso en las noches a la media noche, esto con el objetivo de tener todas las transacciones que se hicieron en el día.\n",
        "- Para este problema en específico propondría tener dos bases de datos, una base de datos transaccional la cual se actualice inmediatamente se realice una transacción y una base de datos analítica que se actualice asincronocamente y revisarla una hora proxima a media noche para tener toda la información lista y poder ejecutar el modelo. \n"
      ],
      "metadata": {
        "id": "DMZ0OJI6Evbn"
      }
    },
    {
      "cell_type": "markdown",
      "source": [
        "# Arquitectura"
      ],
      "metadata": {
        "id": "hRY0BGr3MWkQ"
      }
    },
    {
      "cell_type": "markdown",
      "source": [
        "![Diagrama sin título.drawio.png](data:image/png;base64,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)"
      ],
      "metadata": {
        "id": "oQllYBrNMSv4"
      }
    },
    {
      "cell_type": "markdown",
      "source": [
        "Como ya explicamos anteriormente el modelo que se propusó no es un modelo tradicional que necesite una dockerización para poder disponer de una imagen con todos los paquetes, sino que se utiliza una librería de python llamada scikit-fuzzy la cual se puede utilizar en otros servicios de AWS. Así que la arquitectura que se propusó funciona de la siguiente manera, tenemos un cluster de RDS el cual será nuestra base de datos transaccional que cada vez que un usuario haga una transacción esta se va a actualizar inmediatamente con esta nueva transacción, luego tenemos una base de datos standby que es una replica la cual es asíncrona y se actualizará cada 15 minutos con los datos que tenga la base de datos principal. La última actualización debe de ser a las 12 am en punto, debido a que una función lambda se va a disparar a las 12:15 am y va ejecutar un job de glue, en el cual estará toda la programación del modelo. Como ya se describió el modelo filtrara solo la información del día y hará todo el proceso de etiquetado de transacciones, al finalizarlo los resultados se llevaran a una base datos dynamo con consistencia fuerte. Finalmente, los dueños de las cuentas con sospecha recibirán una notificación con ayuda del servicio SNS de AWS."
      ],
      "metadata": {
        "id": "cvDLgt5mMbV7"
      }
    }
  ]
}