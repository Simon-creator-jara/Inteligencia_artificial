{
  "nbformat": 4,
  "nbformat_minor": 0,
  "metadata": {
    "colab": {
      "name": "Examen_deep_learning.ipynb",
      "provenance": [],
      "authorship_tag": "ABX9TyOoJ4OrStBNlt0QLTvEvWI0",
      "include_colab_link": true
    },
    "kernelspec": {
      "name": "python3",
      "display_name": "Python 3"
    },
    "language_info": {
      "name": "python"
    },
    "accelerator": "GPU",
    "gpuClass": "standard"
  },
  "cells": [
    {
      "cell_type": "markdown",
      "metadata": {
        "id": "view-in-github",
        "colab_type": "text"
      },
      "source": [
        "<a href=\"https://colab.research.google.com/github/Simon-creator-jara/Inteligencia_artificial/blob/main/Examen_deep_learning.ipynb\" target=\"_parent\"><img src=\"https://colab.research.google.com/assets/colab-badge.svg\" alt=\"Open In Colab\"/></a>"
      ]
    },
    {
      "cell_type": "code",
      "execution_count": null,
      "metadata": {
        "id": "UpWtHbz57qmS"
      },
      "outputs": [],
      "source": [
        "import matplotlib.pyplot as plt\n",
        "import numpy as np\n",
        "import pandas as pd\n",
        "import tensorflow as tf\n",
        "\n",
        "from sklearn.metrics import accuracy_score, precision_score, recall_score\n",
        "from sklearn.model_selection import train_test_split\n",
        "from tensorflow.keras import layers, losses\n",
        "from tensorflow.keras.datasets import mnist,fashion_mnist\n",
        "from tensorflow.keras.models import Model\n",
        "from tensorflow.keras.layers import Input,Flatten, Dense, Reshape,Conv2D,MaxPooling2D,Conv2DTranspose"
      ]
    },
    {
      "cell_type": "code",
      "source": [
        "(x_train, _), (x_test, _) = mnist.load_data()\n",
        "\n",
        "# Normalizar los datos\n",
        "x_train = x_train.astype('float32')/255.\n",
        "x_test = x_test.astype('float32')/255.\n",
        "\n",
        "print (x_train.shape)\n",
        "print (x_test.shape)"
      ],
      "metadata": {
        "colab": {
          "base_uri": "https://localhost:8080/"
        },
        "id": "ER0e7wzP72nF",
        "outputId": "295e14cb-5a13-4222-897c-32480df9960a"
      },
      "execution_count": null,
      "outputs": [
        {
          "output_type": "stream",
          "name": "stdout",
          "text": [
            "(60000, 28, 28)\n",
            "(10000, 28, 28)\n"
          ]
        }
      ]
    },
    {
      "cell_type": "code",
      "source": [
        "train_data= np.reshape(x_train, (len(x_train), 28, 28, 1))\n",
        "test_data= np.reshape(x_test, (len(x_test), 28, 28, 1))\n",
        "print (train_data.shape)\n",
        "print (test_data.shape)"
      ],
      "metadata": {
        "colab": {
          "base_uri": "https://localhost:8080/"
        },
        "id": "5DZBW8gP75jK",
        "outputId": "6209a396-2e1f-4fc0-9bd6-49e0d0ad800c"
      },
      "execution_count": null,
      "outputs": [
        {
          "output_type": "stream",
          "name": "stdout",
          "text": [
            "(60000, 28, 28, 1)\n",
            "(10000, 28, 28, 1)\n"
          ]
        }
      ]
    },
    {
      "cell_type": "markdown",
      "source": [
        "# Se crean imagenes con ruido"
      ],
      "metadata": {
        "id": "Of9yjJoD7-5G"
      }
    },
    {
      "cell_type": "code",
      "source": [
        "noisy_array = train_data + 0.2 * np.random.normal(loc=0.0, scale=1.0, size=train_data.shape)\n",
        "noisy_train_data=np.clip(noisy_array, 0.0, 1.0)"
      ],
      "metadata": {
        "id": "9luSCFZU8EPa"
      },
      "execution_count": null,
      "outputs": []
    },
    {
      "cell_type": "code",
      "source": [
        "noisy_array = test_data + 0.2 * np.random.normal(loc=0.0, scale=1.0, size=test_data.shape)\n",
        "noisy_test_data=np.clip(noisy_array, 0.0, 1.0)"
      ],
      "metadata": {
        "id": "2L6oU2LG8HSH"
      },
      "execution_count": null,
      "outputs": []
    },
    {
      "cell_type": "code",
      "source": [
        "test_data"
      ],
      "metadata": {
        "id": "_so9Jd1zGCmr"
      },
      "execution_count": null,
      "outputs": []
    },
    {
      "cell_type": "code",
      "source": [
        "noisy_test_data"
      ],
      "metadata": {
        "id": "ku3z3cO0_91A"
      },
      "execution_count": null,
      "outputs": []
    },
    {
      "cell_type": "code",
      "source": [
        "testear=np.concatenate([test_data,noisy_test_data])\n",
        "testear.shape"
      ],
      "metadata": {
        "colab": {
          "base_uri": "https://localhost:8080/"
        },
        "id": "CdfLLDsa_uxD",
        "outputId": "6e406737-7917-41c1-9aeb-17cd8a2e70b8"
      },
      "execution_count": null,
      "outputs": [
        {
          "output_type": "execute_result",
          "data": {
            "text/plain": [
              "(20000, 28, 28, 1)"
            ]
          },
          "metadata": {},
          "execution_count": 7
        }
      ]
    },
    {
      "cell_type": "code",
      "source": [
        "from sklearn.utils.multiclass import type_of_target\n",
        "type_of_target(test_data)"
      ],
      "metadata": {
        "colab": {
          "base_uri": "https://localhost:8080/",
          "height": 36
        },
        "id": "cndynyajAcOj",
        "outputId": "67de3638-eb3c-4df5-e40d-9ae8a02919f7"
      },
      "execution_count": null,
      "outputs": [
        {
          "output_type": "execute_result",
          "data": {
            "text/plain": [
              "'unknown'"
            ],
            "application/vnd.google.colaboratory.intrinsic+json": {
              "type": "string"
            }
          },
          "metadata": {},
          "execution_count": 54
        }
      ]
    },
    {
      "cell_type": "code",
      "source": [
        "indices = np.random.randint(len(train_data), size=10)\n",
        "images1 = train_data[indices, :]\n",
        "images2 = noisy_train_data[indices, :]\n",
        "plt.figure(figsize=(20, 4))\n",
        "for i, (images1, images2) in enumerate(zip(images1, images2)):\n",
        "  ax = plt.subplot(2, 10, i + 1)\n",
        "  plt.imshow(images1.reshape(28, 28),)\n",
        "  ax.get_xaxis().set_visible(False)\n",
        "  ax.get_yaxis().set_visible(False)\n",
        "  ax = plt.subplot(2, 10, i + 1 + 10)\n",
        "  plt.imshow(images2.reshape(28, 28))\n",
        "  ax.get_xaxis().set_visible(False)\n",
        "  ax.get_yaxis().set_visible(False)\n",
        "\n",
        "plt.show()"
      ],
      "metadata": {
        "colab": {
          "base_uri": "https://localhost:8080/",
          "height": 248
        },
        "id": "ZbwKdJJNG1Vw",
        "outputId": "c3d5f78d-7723-496a-9cb1-e0f01ef93197"
      },
      "execution_count": null,
      "outputs": [
        {
          "output_type": "display_data",
          "data": {
            "text/plain": [
              "<Figure size 1440x288 with 20 Axes>"
            ],
            "image/png": "[encoded data removed]"
          },
          "metadata": {
            "needs_background": "light"
          }
        }
      ]
    },
    {
      "cell_type": "code",
      "source": [
        "input = layers.Input(shape=(28, 28, 1))\n",
        "\n",
        "# Encoder\n",
        "encoder = layers.Conv2D(32, (3, 3), activation=\"relu\", padding=\"same\")(input)\n",
        "encoder = layers.MaxPooling2D((2, 2), padding=\"same\")(encoder)\n",
        "encoder = layers.Conv2D(32, (3, 3), activation=\"relu\", padding=\"same\")(encoder)\n",
        "encoder = layers.MaxPooling2D((2, 2), padding=\"same\")(encoder)\n",
        "\n",
        "# Decoder\n",
        "decoder = layers.Conv2DTranspose(32, (3, 3), strides=2, activation=\"relu\", padding=\"same\")(encoder)\n",
        "decoder = layers.Conv2DTranspose(32, (3, 3), strides=2, activation=\"relu\", padding=\"same\")(decoder)\n",
        "decoder = layers.Conv2D(1, (3, 3), activation=\"sigmoid\", padding=\"same\")(decoder)\n",
        "\n",
        "# Autoencoder\n",
        "autoencoder = Model(input, decoder)\n",
        "autoencoder.compile(optimizer=\"adam\", loss=\"binary_crossentropy\")\n",
        "autoencoder.summary()"
      ],
      "metadata": {
        "colab": {
          "base_uri": "https://localhost:8080/"
        },
        "id": "jvgg0riN8Jzp",
        "outputId": "08107532-72f7-4266-f4aa-55e74e8dd29c"
      },
      "execution_count": null,
      "outputs": [
        {
          "output_type": "stream",
          "name": "stdout",
          "text": [
            "Model: \"model_1\"\n",
            "_________________________________________________________________\n",
            " Layer (type)                Output Shape              Param #   \n",
            "=================================================================\n",
            " input_2 (InputLayer)        [(None, 28, 28, 1)]       0         \n",
            "                                                                 \n",
            " conv2d_3 (Conv2D)           (None, 28, 28, 32)        320       \n",
            "                                                                 \n",
            " max_pooling2d_2 (MaxPooling  (None, 14, 14, 32)       0         \n",
            " 2D)                                                             \n",
            "                                                                 \n",
            " conv2d_4 (Conv2D)           (None, 14, 14, 32)        9248      \n",
            "                                                                 \n",
            " max_pooling2d_3 (MaxPooling  (None, 7, 7, 32)         0         \n",
            " 2D)                                                             \n",
            "                                                                 \n",
            " conv2d_transpose_2 (Conv2DT  (None, 14, 14, 32)       9248      \n",
            " ranspose)                                                       \n",
            "                                                                 \n",
            " conv2d_transpose_3 (Conv2DT  (None, 28, 28, 32)       9248      \n",
            " ranspose)                                                       \n",
            "                                                                 \n",
            " conv2d_5 (Conv2D)           (None, 28, 28, 1)         289       \n",
            "                                                                 \n",
            "=================================================================\n",
            "Total params: 28,353\n",
            "Trainable params: 28,353\n",
            "Non-trainable params: 0\n",
            "_________________________________________________________________\n"
          ]
        }
      ]
    },
    {
      "cell_type": "code",
      "source": [
        "autoencoder.fit(\n",
        "x=train_data,\n",
        "    y=train_data,\n",
        "    epochs=20,\n",
        "    batch_size=128,\n",
        "    shuffle=True,\n",
        "    validation_data=(test_data, test_data),\n",
        ")"
      ],
      "metadata": {
        "colab": {
          "base_uri": "https://localhost:8080/"
        },
        "id": "dI8NYWps8elu",
        "outputId": "2647bdb0-94cf-4764-8c1a-180f8489b68a"
      },
      "execution_count": null,
      "outputs": [
        {
          "output_type": "stream",
          "name": "stdout",
          "text": [
            "Epoch 1/20\n",
            "469/469 [==============================] - 5s 10ms/step - loss: 0.1389 - val_loss: 0.0730\n",
            "Epoch 2/20\n",
            "469/469 [==============================] - 4s 9ms/step - loss: 0.0714 - val_loss: 0.0693\n",
            "Epoch 3/20\n",
            "469/469 [==============================] - 4s 9ms/step - loss: 0.0691 - val_loss: 0.0679\n",
            "Epoch 4/20\n",
            "469/469 [==============================] - 4s 9ms/step - loss: 0.0679 - val_loss: 0.0670\n",
            "Epoch 5/20\n",
            "469/469 [==============================] - 4s 9ms/step - loss: 0.0672 - val_loss: 0.0665\n",
            "Epoch 6/20\n",
            "469/469 [==============================] - 4s 9ms/step - loss: 0.0667 - val_loss: 0.0660\n",
            "Epoch 7/20\n",
            "469/469 [==============================] - 4s 9ms/step - loss: 0.0663 - val_loss: 0.0657\n",
            "Epoch 8/20\n",
            "469/469 [==============================] - 4s 9ms/step - loss: 0.0659 - val_loss: 0.0654\n",
            "Epoch 9/20\n",
            "469/469 [==============================] - 4s 9ms/step - loss: 0.0657 - val_loss: 0.0651\n",
            "Epoch 10/20\n",
            "469/469 [==============================] - 4s 9ms/step - loss: 0.0654 - val_loss: 0.0649\n",
            "Epoch 11/20\n",
            "469/469 [==============================] - 4s 9ms/step - loss: 0.0652 - val_loss: 0.0648\n",
            "Epoch 12/20\n",
            "469/469 [==============================] - 4s 9ms/step - loss: 0.0650 - val_loss: 0.0646\n",
            "Epoch 13/20\n",
            "469/469 [==============================] - 4s 9ms/step - loss: 0.0648 - val_loss: 0.0645\n",
            "Epoch 14/20\n",
            "469/469 [==============================] - 4s 9ms/step - loss: 0.0647 - val_loss: 0.0643\n",
            "Epoch 15/20\n",
            "469/469 [==============================] - 4s 9ms/step - loss: 0.0646 - val_loss: 0.0641\n",
            "Epoch 16/20\n",
            "469/469 [==============================] - 4s 9ms/step - loss: 0.0644 - val_loss: 0.0640\n",
            "Epoch 17/20\n",
            "469/469 [==============================] - 4s 9ms/step - loss: 0.0643 - val_loss: 0.0638\n",
            "Epoch 18/20\n",
            "469/469 [==============================] - 4s 9ms/step - loss: 0.0642 - val_loss: 0.0638\n",
            "Epoch 19/20\n",
            "469/469 [==============================] - 4s 9ms/step - loss: 0.0641 - val_loss: 0.0637\n",
            "Epoch 20/20\n",
            "469/469 [==============================] - 5s 10ms/step - loss: 0.0640 - val_loss: 0.0636\n"
          ]
        },
        {
          "output_type": "execute_result",
          "data": {
            "text/plain": [
              "<keras.callbacks.History at 0x7f195463a5d0>"
            ]
          },
          "metadata": {},
          "execution_count": 34
        }
      ]
    },
    {
      "cell_type": "code",
      "source": [
        "reconstructions = autoencoder.predict(train_data)\n",
        "train_loss = tf.keras.losses.mae(reconstructions, train_data)\n",
        "threshold = np.mean(train_loss) + np.std(train_loss)\n",
        "print(\"Umbral: \", threshold)"
      ],
      "metadata": {
        "colab": {
          "base_uri": "https://localhost:8080/"
        },
        "id": "ej19GKJq9o1N",
        "outputId": "4791ed1e-b8df-4f80-90f6-a3a41e32aebe"
      },
      "execution_count": null,
      "outputs": [
        {
          "output_type": "stream",
          "name": "stdout",
          "text": [
            "Umbral:  0.045860127\n"
          ]
        }
      ]
    },
    {
      "cell_type": "code",
      "source": [
        "reconstructions = autoencoder.predict(noisy_train_data)\n",
        "test_loss = tf.keras.losses.mae(reconstructions, noisy_train_data)\n",
        "threshold_2 = np.mean(test_loss) + np.std(test_loss)\n",
        "print(\"Umbral: \", threshold_2)"
      ],
      "metadata": {
        "colab": {
          "base_uri": "https://localhost:8080/"
        },
        "id": "Khp_mNhI_CLg",
        "outputId": "00aa2d31-fec1-4a32-8123-e00808c62304"
      },
      "execution_count": null,
      "outputs": [
        {
          "output_type": "stream",
          "name": "stdout",
          "text": [
            "Umbral:  0.19223419012708598\n"
          ]
        }
      ]
    },
    {
      "cell_type": "code",
      "source": [
        "# Predecir \n",
        "reconstructions = autoencoder.predict(testear)\n",
        "#reconstructions=reconstructions.flatten()\n",
        "#testear=testear.flatten()\n",
        "#loss = tf.keras.losses.mae(reconstructions, testear)\n"
      ],
      "metadata": {
        "id": "_hXWidW8_sr_"
      },
      "execution_count": null,
      "outputs": []
    },
    {
      "cell_type": "code",
      "source": [
        "lista=[]\n",
        "for i in range(len(reconstructions)):\n",
        "  x=tf.keras.losses.mae(reconstructions[i,:,:,0], testear[i,:,:,0])\n",
        "  #print(reconstructions[i])\n",
        "  threshold_x = np.mean(x) + np.std(x)\n",
        "  if threshold_x<=threshold:\n",
        "    lista.append(1)\n",
        "  else:\n",
        "    lista.append(0)"
      ],
      "metadata": {
        "id": "3NdVSp64W2Bi"
      },
      "execution_count": null,
      "outputs": []
    },
    {
      "cell_type": "code",
      "source": [
        "indices = np.random.randint(len(testear), size=10)\n",
        "images1 = testear[indices, :]\n",
        "images2 = reconstructions[indices, :]\n",
        "plt.figure(figsize=(20, 4))\n",
        "for i, (images1, images2) in enumerate(zip(images1, images2)):\n",
        "  ax = plt.subplot(2, 10, i + 1)\n",
        "  plt.imshow(images1.reshape(28, 28),)\n",
        "  ax.get_xaxis().set_visible(False)\n",
        "  ax.get_yaxis().set_visible(False)\n",
        "  ax = plt.subplot(2, 10, i + 1 + 10)\n",
        "  plt.imshow(images2.reshape(28, 28))\n",
        "  ax.get_xaxis().set_visible(False)\n",
        "  ax.get_yaxis().set_visible(False)\n",
        "\n",
        "plt.show()"
      ],
      "metadata": {
        "id": "er2lD03sRX_x"
      },
      "execution_count": null,
      "outputs": []
    },
    {
      "cell_type": "code",
      "source": [
        "lista_res=[]\n",
        "for i in range(0,10000):\n",
        "  lista_res.append(1)"
      ],
      "metadata": {
        "id": "ggIBRVQZPTHc"
      },
      "execution_count": null,
      "outputs": []
    },
    {
      "cell_type": "code",
      "source": [
        "for i in range(0,10000):\n",
        "  lista_res.append(0)"
      ],
      "metadata": {
        "id": "ppZ0rbkhPnux"
      },
      "execution_count": null,
      "outputs": []
    },
    {
      "cell_type": "code",
      "source": [
        "print(\"Accuracy = {}\".format(accuracy_score(lista,lista_res)))\n",
        "print(\"Precision = {}\".format(precision_score(lista,lista_res)))\n",
        "print(\"Recall = {}\".format(recall_score(lista,lista_res)))"
      ],
      "metadata": {
        "colab": {
          "base_uri": "https://localhost:8080/"
        },
        "id": "TyLnP5O8Aps9",
        "outputId": "677b88d2-50d5-4d4d-f145-130a3d4f1e99"
      },
      "execution_count": null,
      "outputs": [
        {
          "output_type": "stream",
          "name": "stdout",
          "text": [
            "Accuracy = 0.99875\n",
            "Precision = 0.9975\n",
            "Recall = 1.0\n"
          ]
        }
      ]
    }
  ]
}