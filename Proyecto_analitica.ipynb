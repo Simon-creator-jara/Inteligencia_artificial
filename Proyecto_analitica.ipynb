{
  "nbformat": 4,
  "nbformat_minor": 0,
  "metadata": {
    "colab": {
      "name": "Proyecto_analitica.ipynb",
      "provenance": [],
      "collapsed_sections": [],
      "authorship_tag": "ABX9TyObYfgufWtSNqj6Fi27g+1N",
      "include_colab_link": true
    },
    "kernelspec": {
      "name": "python3",
      "display_name": "Python 3"
    },
    "language_info": {
      "name": "python"
    }
  },
  "cells": [
    {
      "cell_type": "markdown",
      "metadata": {
        "id": "view-in-github",
        "colab_type": "text"
      },
      "source": [
        "<a href=\"https://colab.research.google.com/github/Simon-creator-jara/Inteligencia_artificial/blob/main/Proyecto_analitica.ipynb\" target=\"_parent\"><img src=\"https://colab.research.google.com/assets/colab-badge.svg\" alt=\"Open In Colab\"/></a>"
      ]
    },
    {
      "cell_type": "markdown",
      "source": [
        "# Importamos librerías "
      ],
      "metadata": {
        "id": "wdgLIVVajMyl"
      }
    },
    {
      "cell_type": "code",
      "execution_count": null,
      "metadata": {
        "id": "CLw5VZTLFolf"
      },
      "outputs": [],
      "source": [
        "###Importar librerías \n",
        "#Procesamiento de datos\n",
        "import numpy as np\n",
        "import pandas as pd\n",
        "\n",
        "\n",
        "#Procesamiento y modelado \n",
        "from sklearn.compose import ColumnTransformer \n",
        "from sklearn.preprocessing import OneHotEncoder\n",
        "from sklearn.linear_model import LogisticRegression \n",
        "from sklearn.model_selection import train_test_split\n",
        "from sklearn.metrics import accuracy_score\n",
        "from sklearn.metrics import confusion_matrix\n",
        "\n",
        "\n",
        "#Graficas \n",
        "\n",
        "import seaborn as sb\n",
        "import matplotlib.pyplot as plt\n",
        "\n",
        "import warnings \n",
        "warnings.filterwarnings('ignore')"
      ]
    },
    {
      "cell_type": "markdown",
      "source": [
        "# Extracción de datos"
      ],
      "metadata": {
        "id": "jtNylcvpjR0Q"
      }
    },
    {
      "cell_type": "code",
      "source": [
        "##Extraemos los datos \n",
        "\n",
        "datos = pd.read_csv('Consumer_Complaints.csv')\n",
        "datos.head()"
      ],
      "metadata": {
        "colab": {
          "base_uri": "https://localhost:8080/",
          "height": 548
        },
        "id": "ek6V456EOc7o",
        "outputId": "85c87cf0-cfc7-44ab-c0a8-de95de1d7c74"
      },
      "execution_count": null,
      "outputs": [
        {
          "output_type": "execute_result",
          "data": {
            "text/plain": [
              "  Date received                  Product                  Sub-product  \\\n",
              "0    07/29/2013            Consumer Loan                 Vehicle loan   \n",
              "1    07/29/2013  Bank account or service             Checking account   \n",
              "2    07/29/2013  Bank account or service             Checking account   \n",
              "3    07/29/2013  Bank account or service             Checking account   \n",
              "4    07/29/2013                 Mortgage  Conventional fixed mortgage   \n",
              "\n",
              "                                      Issue Sub-issue  \\\n",
              "0                Managing the loan or lease       NaN   \n",
              "1                 Using a debit or ATM card       NaN   \n",
              "2   Account opening, closing, or management       NaN   \n",
              "3                  Deposits and withdrawals       NaN   \n",
              "4  Loan servicing, payments, escrow account       NaN   \n",
              "\n",
              "  Consumer complaint narrative Company public response  \\\n",
              "0                          NaN                     NaN   \n",
              "1                          NaN                     NaN   \n",
              "2                          NaN                     NaN   \n",
              "3                          NaN                     NaN   \n",
              "4                          NaN                     NaN   \n",
              "\n",
              "                      Company State ZIP code            Tags  \\\n",
              "0       Wells Fargo & Company    VA    24540             NaN   \n",
              "1       Wells Fargo & Company    CA    95992  Older American   \n",
              "2           Santander Bank US    NY    10065             NaN   \n",
              "3       Wells Fargo & Company    GA    30084             NaN   \n",
              "4  Franklin Credit Management    CT    06106             NaN   \n",
              "\n",
              "  Consumer consent provided? Submitted via Date sent to company  \\\n",
              "0                        NaN         Phone           07/30/2013   \n",
              "1                        NaN           Web           07/31/2013   \n",
              "2                        NaN           Fax           07/31/2013   \n",
              "3                        NaN           Web           07/30/2013   \n",
              "4                        NaN           Web           07/30/2013   \n",
              "\n",
              "  Company response to consumer Timely response? Consumer disputed?  \\\n",
              "0      Closed with explanation              Yes                 No   \n",
              "1      Closed with explanation              Yes                 No   \n",
              "2                       Closed              Yes                 No   \n",
              "3      Closed with explanation              Yes                 No   \n",
              "4      Closed with explanation              Yes                 No   \n",
              "\n",
              "   Complaint ID  \n",
              "0        468882  \n",
              "1        468889  \n",
              "2        468879  \n",
              "3        468949  \n",
              "4        475823  "
            ],
            "text/html": [
              "\n",
              "  <div id=\"df-88b3740c-83a3-4a43-8137-10e26090e62e\">\n",
              "    <div class=\"colab-df-container\">\n",
              "      <div>\n",
              "<style scoped>\n",
              "    .dataframe tbody tr th:only-of-type {\n",
              "        vertical-align: middle;\n",
              "    }\n",
              "\n",
              "    .dataframe tbody tr th {\n",
              "        vertical-align: top;\n",
              "    }\n",
              "\n",
              "    .dataframe thead th {\n",
              "        text-align: right;\n",
              "    }\n",
              "</style>\n",
              "<table border=\"1\" class=\"dataframe\">\n",
              "  <thead>\n",
              "    <tr style=\"text-align: right;\">\n",
              "      <th></th>\n",
              "      <th>Date received</th>\n",
              "      <th>Product</th>\n",
              "      <th>Sub-product</th>\n",
              "      <th>Issue</th>\n",
              "      <th>Sub-issue</th>\n",
              "      <th>Consumer complaint narrative</th>\n",
              "      <th>Company public response</th>\n",
              "      <th>Company</th>\n",
              "      <th>State</th>\n",
              "      <th>ZIP code</th>\n",
              "      <th>Tags</th>\n",
              "      <th>Consumer consent provided?</th>\n",
              "      <th>Submitted via</th>\n",
              "      <th>Date sent to company</th>\n",
              "      <th>Company response to consumer</th>\n",
              "      <th>Timely response?</th>\n",
              "      <th>Consumer disputed?</th>\n",
              "      <th>Complaint ID</th>\n",
              "    </tr>\n",
              "  </thead>\n",
              "  <tbody>\n",
              "    <tr>\n",
              "      <th>0</th>\n",
              "      <td>07/29/2013</td>\n",
              "      <td>Consumer Loan</td>\n",
              "      <td>Vehicle loan</td>\n",
              "      <td>Managing the loan or lease</td>\n",
              "      <td>NaN</td>\n",
              "      <td>NaN</td>\n",
              "      <td>NaN</td>\n",
              "      <td>Wells Fargo &amp; Company</td>\n",
              "      <td>VA</td>\n",
              "      <td>24540</td>\n",
              "      <td>NaN</td>\n",
              "      <td>NaN</td>\n",
              "      <td>Phone</td>\n",
              "      <td>07/30/2013</td>\n",
              "      <td>Closed with explanation</td>\n",
              "      <td>Yes</td>\n",
              "      <td>No</td>\n",
              "      <td>468882</td>\n",
              "    </tr>\n",
              "    <tr>\n",
              "      <th>1</th>\n",
              "      <td>07/29/2013</td>\n",
              "      <td>Bank account or service</td>\n",
              "      <td>Checking account</td>\n",
              "      <td>Using a debit or ATM card</td>\n",
              "      <td>NaN</td>\n",
              "      <td>NaN</td>\n",
              "      <td>NaN</td>\n",
              "      <td>Wells Fargo &amp; Company</td>\n",
              "      <td>CA</td>\n",
              "      <td>95992</td>\n",
              "      <td>Older American</td>\n",
              "      <td>NaN</td>\n",
              "      <td>Web</td>\n",
              "      <td>07/31/2013</td>\n",
              "      <td>Closed with explanation</td>\n",
              "      <td>Yes</td>\n",
              "      <td>No</td>\n",
              "      <td>468889</td>\n",
              "    </tr>\n",
              "    <tr>\n",
              "      <th>2</th>\n",
              "      <td>07/29/2013</td>\n",
              "      <td>Bank account or service</td>\n",
              "      <td>Checking account</td>\n",
              "      <td>Account opening, closing, or management</td>\n",
              "      <td>NaN</td>\n",
              "      <td>NaN</td>\n",
              "      <td>NaN</td>\n",
              "      <td>Santander Bank US</td>\n",
              "      <td>NY</td>\n",
              "      <td>10065</td>\n",
              "      <td>NaN</td>\n",
              "      <td>NaN</td>\n",
              "      <td>Fax</td>\n",
              "      <td>07/31/2013</td>\n",
              "      <td>Closed</td>\n",
              "      <td>Yes</td>\n",
              "      <td>No</td>\n",
              "      <td>468879</td>\n",
              "    </tr>\n",
              "    <tr>\n",
              "      <th>3</th>\n",
              "      <td>07/29/2013</td>\n",
              "      <td>Bank account or service</td>\n",
              "      <td>Checking account</td>\n",
              "      <td>Deposits and withdrawals</td>\n",
              "      <td>NaN</td>\n",
              "      <td>NaN</td>\n",
              "      <td>NaN</td>\n",
              "      <td>Wells Fargo &amp; Company</td>\n",
              "      <td>GA</td>\n",
              "      <td>30084</td>\n",
              "      <td>NaN</td>\n",
              "      <td>NaN</td>\n",
              "      <td>Web</td>\n",
              "      <td>07/30/2013</td>\n",
              "      <td>Closed with explanation</td>\n",
              "      <td>Yes</td>\n",
              "      <td>No</td>\n",
              "      <td>468949</td>\n",
              "    </tr>\n",
              "    <tr>\n",
              "      <th>4</th>\n",
              "      <td>07/29/2013</td>\n",
              "      <td>Mortgage</td>\n",
              "      <td>Conventional fixed mortgage</td>\n",
              "      <td>Loan servicing, payments, escrow account</td>\n",
              "      <td>NaN</td>\n",
              "      <td>NaN</td>\n",
              "      <td>NaN</td>\n",
              "      <td>Franklin Credit Management</td>\n",
              "      <td>CT</td>\n",
              "      <td>06106</td>\n",
              "      <td>NaN</td>\n",
              "      <td>NaN</td>\n",
              "      <td>Web</td>\n",
              "      <td>07/30/2013</td>\n",
              "      <td>Closed with explanation</td>\n",
              "      <td>Yes</td>\n",
              "      <td>No</td>\n",
              "      <td>475823</td>\n",
              "    </tr>\n",
              "  </tbody>\n",
              "</table>\n",
              "</div>\n",
              "      <button class=\"colab-df-convert\" onclick=\"convertToInteractive('df-88b3740c-83a3-4a43-8137-10e26090e62e')\"\n",
              "              title=\"Convert this dataframe to an interactive table.\"\n",
              "              style=\"display:none;\">\n",
              "        \n",
              "  <svg xmlns=\"http://www.w3.org/2000/svg\" height=\"24px\"viewBox=\"0 0 24 24\"\n",
              "       width=\"24px\">\n",
              "    <path d=\"M0 0h24v24H0V0z\" fill=\"none\"/>\n",
              "    <path d=\"M18.56 5.44l.94 2.06.94-2.06 2.06-.94-2.06-.94-.94-2.06-.94 2.06-2.06.94zm-11 1L8.5 8.5l.94-2.06 2.06-.94-2.06-.94L8.5 2.5l-.94 2.06-2.06.94zm10 10l.94 2.06.94-2.06 2.06-.94-2.06-.94-.94-2.06-.94 2.06-2.06.94z\"/><path d=\"M17.41 7.96l-1.37-1.37c-.4-.4-.92-.59-1.43-.59-.52 0-1.04.2-1.43.59L10.3 9.45l-7.72 7.72c-.78.78-.78 2.05 0 2.83L4 21.41c.39.39.9.59 1.41.59.51 0 1.02-.2 1.41-.59l7.78-7.78 2.81-2.81c.8-.78.8-2.07 0-2.86zM5.41 20L4 18.59l7.72-7.72 1.47 1.35L5.41 20z\"/>\n",
              "  </svg>\n",
              "      </button>\n",
              "      \n",
              "  <style>\n",
              "    .colab-df-container {\n",
              "      display:flex;\n",
              "      flex-wrap:wrap;\n",
              "      gap: 12px;\n",
              "    }\n",
              "\n",
              "    .colab-df-convert {\n",
              "      background-color: #E8F0FE;\n",
              "      border: none;\n",
              "      border-radius: 50%;\n",
              "      cursor: pointer;\n",
              "      display: none;\n",
              "      fill: #1967D2;\n",
              "      height: 32px;\n",
              "      padding: 0 0 0 0;\n",
              "      width: 32px;\n",
              "    }\n",
              "\n",
              "    .colab-df-convert:hover {\n",
              "      background-color: #E2EBFA;\n",
              "      box-shadow: 0px 1px 2px rgba(60, 64, 67, 0.3), 0px 1px 3px 1px rgba(60, 64, 67, 0.15);\n",
              "      fill: #174EA6;\n",
              "    }\n",
              "\n",
              "    [theme=dark] .colab-df-convert {\n",
              "      background-color: #3B4455;\n",
              "      fill: #D2E3FC;\n",
              "    }\n",
              "\n",
              "    [theme=dark] .colab-df-convert:hover {\n",
              "      background-color: #434B5C;\n",
              "      box-shadow: 0px 1px 3px 1px rgba(0, 0, 0, 0.15);\n",
              "      filter: drop-shadow(0px 1px 2px rgba(0, 0, 0, 0.3));\n",
              "      fill: #FFFFFF;\n",
              "    }\n",
              "  </style>\n",
              "\n",
              "      <script>\n",
              "        const buttonEl =\n",
              "          document.querySelector('#df-88b3740c-83a3-4a43-8137-10e26090e62e button.colab-df-convert');\n",
              "        buttonEl.style.display =\n",
              "          google.colab.kernel.accessAllowed ? 'block' : 'none';\n",
              "\n",
              "        async function convertToInteractive(key) {\n",
              "          const element = document.querySelector('#df-88b3740c-83a3-4a43-8137-10e26090e62e');\n",
              "          const dataTable =\n",
              "            await google.colab.kernel.invokeFunction('convertToInteractive',\n",
              "                                                     [key], {});\n",
              "          if (!dataTable) return;\n",
              "\n",
              "          const docLinkHtml = 'Like what you see? Visit the ' +\n",
              "            '<a target=\"_blank\" href=https://colab.research.google.com/notebooks/data_table.ipynb>data table notebook</a>'\n",
              "            + ' to learn more about interactive tables.';\n",
              "          element.innerHTML = '';\n",
              "          dataTable['output_type'] = 'display_data';\n",
              "          await google.colab.output.renderOutput(dataTable, element);\n",
              "          const docLink = document.createElement('div');\n",
              "          docLink.innerHTML = docLinkHtml;\n",
              "          element.appendChild(docLink);\n",
              "        }\n",
              "      </script>\n",
              "    </div>\n",
              "  </div>\n",
              "  "
            ]
          },
          "metadata": {},
          "execution_count": 79
        }
      ]
    },
    {
      "cell_type": "code",
      "source": [
        "datos.info()"
      ],
      "metadata": {
        "colab": {
          "base_uri": "https://localhost:8080/"
        },
        "id": "kPjtG_J8PQ7v",
        "outputId": "9be2d076-f549-4b76-d6c6-b82c293e4504"
      },
      "execution_count": null,
      "outputs": [
        {
          "output_type": "stream",
          "name": "stdout",
          "text": [
            "<class 'pandas.core.frame.DataFrame'>\n",
            "RangeIndex: 670598 entries, 0 to 670597\n",
            "Data columns (total 18 columns):\n",
            " #   Column                        Non-Null Count   Dtype \n",
            "---  ------                        --------------   ----- \n",
            " 0   Date received                 670598 non-null  object\n",
            " 1   Product                       670598 non-null  object\n",
            " 2   Sub-product                   472396 non-null  object\n",
            " 3   Issue                         670598 non-null  object\n",
            " 4   Sub-issue                     269868 non-null  object\n",
            " 5   Consumer complaint narrative  114704 non-null  object\n",
            " 6   Company public response       145197 non-null  object\n",
            " 7   Company                       670598 non-null  object\n",
            " 8   State                         665293 non-null  object\n",
            " 9   ZIP code                      665274 non-null  object\n",
            " 10  Tags                          94730 non-null   object\n",
            " 11  Consumer consent provided?    208151 non-null  object\n",
            " 12  Submitted via                 670598 non-null  object\n",
            " 13  Date sent to company          670598 non-null  object\n",
            " 14  Company response to consumer  670598 non-null  object\n",
            " 15  Timely response?              670598 non-null  object\n",
            " 16  Consumer disputed?            629179 non-null  object\n",
            " 17  Complaint ID                  670598 non-null  int64 \n",
            "dtypes: int64(1), object(17)\n",
            "memory usage: 92.1+ MB\n"
          ]
        }
      ]
    },
    {
      "cell_type": "code",
      "source": [
        "datos.groupby(['Product']).count()"
      ],
      "metadata": {
        "colab": {
          "base_uri": "https://localhost:8080/",
          "height": 799
        },
        "id": "nS_xhGsS6i0E",
        "outputId": "95e88081-c277-4e7e-98ca-e5f9b4711809"
      },
      "execution_count": null,
      "outputs": [
        {
          "output_type": "execute_result",
          "data": {
            "text/plain": [
              "                         Date received  Sub-product   Issue  Sub-issue  \\\n",
              "Product                                                                  \n",
              "Bank account or service          76084        76084   76084          0   \n",
              "Consumer Loan                    26604        26604   26604          0   \n",
              "Credit card                      79007            0   79007          0   \n",
              "Credit reporting                119195            0  119195     119195   \n",
              "Debt collection                 124236       124236  124236     124236   \n",
              "Money transfers                   4720         4720    4720          0   \n",
              "Mortgage                        210324       210324  210324          0   \n",
              "Other financial service            806          806     806          0   \n",
              "Payday loan                       4786         4786    4786       4786   \n",
              "Prepaid card                      3171         3171    3171          0   \n",
              "Student loan                     21651        21651   21651      21651   \n",
              "Virtual currency                    14           14      14          0   \n",
              "\n",
              "                         Consumer complaint narrative  \\\n",
              "Product                                                 \n",
              "Bank account or service                         10425   \n",
              "Consumer Loan                                    6394   \n",
              "Credit card                                     13582   \n",
              "Credit reporting                                22202   \n",
              "Debt collection                                 28861   \n",
              "Money transfers                                  1074   \n",
              "Mortgage                                        24641   \n",
              "Other financial service                           176   \n",
              "Payday loan                                      1245   \n",
              "Prepaid card                                     1144   \n",
              "Student loan                                     4948   \n",
              "Virtual currency                                   12   \n",
              "\n",
              "                         Company public response  Company   State  ZIP code  \\\n",
              "Product                                                                       \n",
              "Bank account or service                    18113    76084   74707     74707   \n",
              "Consumer Loan                               5700    26604   26444     26443   \n",
              "Credit card                                15283    79007   78335     78336   \n",
              "Credit reporting                           40255   119195  118669    118665   \n",
              "Debt collection                            27873   124236  123488    123479   \n",
              "Money transfers                              509     4720    4540      4540   \n",
              "Mortgage                                   33028   210324  208905    208900   \n",
              "Other financial service                      282      806     788       787   \n",
              "Payday loan                                  840     4786    4765      4765   \n",
              "Prepaid card                                 731     3171    3135      3135   \n",
              "Student loan                                2578    21651   21504     21504   \n",
              "Virtual currency                               5       14      13        13   \n",
              "\n",
              "                          Tags  Consumer consent provided?  Submitted via  \\\n",
              "Product                                                                     \n",
              "Bank account or service  10357                       16887          76084   \n",
              "Consumer Loan             4412                       10513          26604   \n",
              "Credit card              11890                       23006          79007   \n",
              "Credit reporting         15130                       49115         119195   \n",
              "Debt collection          20746                       50054         124236   \n",
              "Money transfers            924                        1697           4720   \n",
              "Mortgage                 28275                       44233         210324   \n",
              "Other financial service    163                         319            806   \n",
              "Payday loan                794                        2141           4786   \n",
              "Prepaid card               372                        1802           3171   \n",
              "Student loan              1667                        8371          21651   \n",
              "Virtual currency             0                          13             14   \n",
              "\n",
              "                         Date sent to company  Company response to consumer  \\\n",
              "Product                                                                       \n",
              "Bank account or service                 76084                         76084   \n",
              "Consumer Loan                           26604                         26604   \n",
              "Credit card                             79007                         79007   \n",
              "Credit reporting                       119195                        119195   \n",
              "Debt collection                        124236                        124236   \n",
              "Money transfers                          4720                          4720   \n",
              "Mortgage                               210324                        210324   \n",
              "Other financial service                   806                           806   \n",
              "Payday loan                              4786                          4786   \n",
              "Prepaid card                             3171                          3171   \n",
              "Student loan                            21651                         21651   \n",
              "Virtual currency                           14                            14   \n",
              "\n",
              "                         Timely response?  Consumer disputed?  Complaint ID  \n",
              "Product                                                                      \n",
              "Bank account or service             76084               71642         76084  \n",
              "Consumer Loan                       26604               24707         26604  \n",
              "Credit card                         79007               75259         79007  \n",
              "Credit reporting                   119195              109039        119195  \n",
              "Debt collection                    124236              114668        124236  \n",
              "Money transfers                      4720                4425          4720  \n",
              "Mortgage                           210324              201416        210324  \n",
              "Other financial service               806                 699           806  \n",
              "Payday loan                          4786                4292          4786  \n",
              "Prepaid card                         3171                2981          3171  \n",
              "Student loan                        21651               20037         21651  \n",
              "Virtual currency                       14                  14            14  "
            ],
            "text/html": [
              "\n",
              "  <div id=\"df-37edda1a-4a4a-4bb0-85b2-6246a44b5ce8\">\n",
              "    <div class=\"colab-df-container\">\n",
              "      <div>\n",
              "<style scoped>\n",
              "    .dataframe tbody tr th:only-of-type {\n",
              "        vertical-align: middle;\n",
              "    }\n",
              "\n",
              "    .dataframe tbody tr th {\n",
              "        vertical-align: top;\n",
              "    }\n",
              "\n",
              "    .dataframe thead th {\n",
              "        text-align: right;\n",
              "    }\n",
              "</style>\n",
              "<table border=\"1\" class=\"dataframe\">\n",
              "  <thead>\n",
              "    <tr style=\"text-align: right;\">\n",
              "      <th></th>\n",
              "      <th>Date received</th>\n",
              "      <th>Sub-product</th>\n",
              "      <th>Issue</th>\n",
              "      <th>Sub-issue</th>\n",
              "      <th>Consumer complaint narrative</th>\n",
              "      <th>Company public response</th>\n",
              "      <th>Company</th>\n",
              "      <th>State</th>\n",
              "      <th>ZIP code</th>\n",
              "      <th>Tags</th>\n",
              "      <th>Consumer consent provided?</th>\n",
              "      <th>Submitted via</th>\n",
              "      <th>Date sent to company</th>\n",
              "      <th>Company response to consumer</th>\n",
              "      <th>Timely response?</th>\n",
              "      <th>Consumer disputed?</th>\n",
              "      <th>Complaint ID</th>\n",
              "    </tr>\n",
              "    <tr>\n",
              "      <th>Product</th>\n",
              "      <th></th>\n",
              "      <th></th>\n",
              "      <th></th>\n",
              "      <th></th>\n",
              "      <th></th>\n",
              "      <th></th>\n",
              "      <th></th>\n",
              "      <th></th>\n",
              "      <th></th>\n",
              "      <th></th>\n",
              "      <th></th>\n",
              "      <th></th>\n",
              "      <th></th>\n",
              "      <th></th>\n",
              "      <th></th>\n",
              "      <th></th>\n",
              "      <th></th>\n",
              "    </tr>\n",
              "  </thead>\n",
              "  <tbody>\n",
              "    <tr>\n",
              "      <th>Bank account or service</th>\n",
              "      <td>76084</td>\n",
              "      <td>76084</td>\n",
              "      <td>76084</td>\n",
              "      <td>0</td>\n",
              "      <td>10425</td>\n",
              "      <td>18113</td>\n",
              "      <td>76084</td>\n",
              "      <td>74707</td>\n",
              "      <td>74707</td>\n",
              "      <td>10357</td>\n",
              "      <td>16887</td>\n",
              "      <td>76084</td>\n",
              "      <td>76084</td>\n",
              "      <td>76084</td>\n",
              "      <td>76084</td>\n",
              "      <td>71642</td>\n",
              "      <td>76084</td>\n",
              "    </tr>\n",
              "    <tr>\n",
              "      <th>Consumer Loan</th>\n",
              "      <td>26604</td>\n",
              "      <td>26604</td>\n",
              "      <td>26604</td>\n",
              "      <td>0</td>\n",
              "      <td>6394</td>\n",
              "      <td>5700</td>\n",
              "      <td>26604</td>\n",
              "      <td>26444</td>\n",
              "      <td>26443</td>\n",
              "      <td>4412</td>\n",
              "      <td>10513</td>\n",
              "      <td>26604</td>\n",
              "      <td>26604</td>\n",
              "      <td>26604</td>\n",
              "      <td>26604</td>\n",
              "      <td>24707</td>\n",
              "      <td>26604</td>\n",
              "    </tr>\n",
              "    <tr>\n",
              "      <th>Credit card</th>\n",
              "      <td>79007</td>\n",
              "      <td>0</td>\n",
              "      <td>79007</td>\n",
              "      <td>0</td>\n",
              "      <td>13582</td>\n",
              "      <td>15283</td>\n",
              "      <td>79007</td>\n",
              "      <td>78335</td>\n",
              "      <td>78336</td>\n",
              "      <td>11890</td>\n",
              "      <td>23006</td>\n",
              "      <td>79007</td>\n",
              "      <td>79007</td>\n",
              "      <td>79007</td>\n",
              "      <td>79007</td>\n",
              "      <td>75259</td>\n",
              "      <td>79007</td>\n",
              "    </tr>\n",
              "    <tr>\n",
              "      <th>Credit reporting</th>\n",
              "      <td>119195</td>\n",
              "      <td>0</td>\n",
              "      <td>119195</td>\n",
              "      <td>119195</td>\n",
              "      <td>22202</td>\n",
              "      <td>40255</td>\n",
              "      <td>119195</td>\n",
              "      <td>118669</td>\n",
              "      <td>118665</td>\n",
              "      <td>15130</td>\n",
              "      <td>49115</td>\n",
              "      <td>119195</td>\n",
              "      <td>119195</td>\n",
              "      <td>119195</td>\n",
              "      <td>119195</td>\n",
              "      <td>109039</td>\n",
              "      <td>119195</td>\n",
              "    </tr>\n",
              "    <tr>\n",
              "      <th>Debt collection</th>\n",
              "      <td>124236</td>\n",
              "      <td>124236</td>\n",
              "      <td>124236</td>\n",
              "      <td>124236</td>\n",
              "      <td>28861</td>\n",
              "      <td>27873</td>\n",
              "      <td>124236</td>\n",
              "      <td>123488</td>\n",
              "      <td>123479</td>\n",
              "      <td>20746</td>\n",
              "      <td>50054</td>\n",
              "      <td>124236</td>\n",
              "      <td>124236</td>\n",
              "      <td>124236</td>\n",
              "      <td>124236</td>\n",
              "      <td>114668</td>\n",
              "      <td>124236</td>\n",
              "    </tr>\n",
              "    <tr>\n",
              "      <th>Money transfers</th>\n",
              "      <td>4720</td>\n",
              "      <td>4720</td>\n",
              "      <td>4720</td>\n",
              "      <td>0</td>\n",
              "      <td>1074</td>\n",
              "      <td>509</td>\n",
              "      <td>4720</td>\n",
              "      <td>4540</td>\n",
              "      <td>4540</td>\n",
              "      <td>924</td>\n",
              "      <td>1697</td>\n",
              "      <td>4720</td>\n",
              "      <td>4720</td>\n",
              "      <td>4720</td>\n",
              "      <td>4720</td>\n",
              "      <td>4425</td>\n",
              "      <td>4720</td>\n",
              "    </tr>\n",
              "    <tr>\n",
              "      <th>Mortgage</th>\n",
              "      <td>210324</td>\n",
              "      <td>210324</td>\n",
              "      <td>210324</td>\n",
              "      <td>0</td>\n",
              "      <td>24641</td>\n",
              "      <td>33028</td>\n",
              "      <td>210324</td>\n",
              "      <td>208905</td>\n",
              "      <td>208900</td>\n",
              "      <td>28275</td>\n",
              "      <td>44233</td>\n",
              "      <td>210324</td>\n",
              "      <td>210324</td>\n",
              "      <td>210324</td>\n",
              "      <td>210324</td>\n",
              "      <td>201416</td>\n",
              "      <td>210324</td>\n",
              "    </tr>\n",
              "    <tr>\n",
              "      <th>Other financial service</th>\n",
              "      <td>806</td>\n",
              "      <td>806</td>\n",
              "      <td>806</td>\n",
              "      <td>0</td>\n",
              "      <td>176</td>\n",
              "      <td>282</td>\n",
              "      <td>806</td>\n",
              "      <td>788</td>\n",
              "      <td>787</td>\n",
              "      <td>163</td>\n",
              "      <td>319</td>\n",
              "      <td>806</td>\n",
              "      <td>806</td>\n",
              "      <td>806</td>\n",
              "      <td>806</td>\n",
              "      <td>699</td>\n",
              "      <td>806</td>\n",
              "    </tr>\n",
              "    <tr>\n",
              "      <th>Payday loan</th>\n",
              "      <td>4786</td>\n",
              "      <td>4786</td>\n",
              "      <td>4786</td>\n",
              "      <td>4786</td>\n",
              "      <td>1245</td>\n",
              "      <td>840</td>\n",
              "      <td>4786</td>\n",
              "      <td>4765</td>\n",
              "      <td>4765</td>\n",
              "      <td>794</td>\n",
              "      <td>2141</td>\n",
              "      <td>4786</td>\n",
              "      <td>4786</td>\n",
              "      <td>4786</td>\n",
              "      <td>4786</td>\n",
              "      <td>4292</td>\n",
              "      <td>4786</td>\n",
              "    </tr>\n",
              "    <tr>\n",
              "      <th>Prepaid card</th>\n",
              "      <td>3171</td>\n",
              "      <td>3171</td>\n",
              "      <td>3171</td>\n",
              "      <td>0</td>\n",
              "      <td>1144</td>\n",
              "      <td>731</td>\n",
              "      <td>3171</td>\n",
              "      <td>3135</td>\n",
              "      <td>3135</td>\n",
              "      <td>372</td>\n",
              "      <td>1802</td>\n",
              "      <td>3171</td>\n",
              "      <td>3171</td>\n",
              "      <td>3171</td>\n",
              "      <td>3171</td>\n",
              "      <td>2981</td>\n",
              "      <td>3171</td>\n",
              "    </tr>\n",
              "    <tr>\n",
              "      <th>Student loan</th>\n",
              "      <td>21651</td>\n",
              "      <td>21651</td>\n",
              "      <td>21651</td>\n",
              "      <td>21651</td>\n",
              "      <td>4948</td>\n",
              "      <td>2578</td>\n",
              "      <td>21651</td>\n",
              "      <td>21504</td>\n",
              "      <td>21504</td>\n",
              "      <td>1667</td>\n",
              "      <td>8371</td>\n",
              "      <td>21651</td>\n",
              "      <td>21651</td>\n",
              "      <td>21651</td>\n",
              "      <td>21651</td>\n",
              "      <td>20037</td>\n",
              "      <td>21651</td>\n",
              "    </tr>\n",
              "    <tr>\n",
              "      <th>Virtual currency</th>\n",
              "      <td>14</td>\n",
              "      <td>14</td>\n",
              "      <td>14</td>\n",
              "      <td>0</td>\n",
              "      <td>12</td>\n",
              "      <td>5</td>\n",
              "      <td>14</td>\n",
              "      <td>13</td>\n",
              "      <td>13</td>\n",
              "      <td>0</td>\n",
              "      <td>13</td>\n",
              "      <td>14</td>\n",
              "      <td>14</td>\n",
              "      <td>14</td>\n",
              "      <td>14</td>\n",
              "      <td>14</td>\n",
              "      <td>14</td>\n",
              "    </tr>\n",
              "  </tbody>\n",
              "</table>\n",
              "</div>\n",
              "      <button class=\"colab-df-convert\" onclick=\"convertToInteractive('df-37edda1a-4a4a-4bb0-85b2-6246a44b5ce8')\"\n",
              "              title=\"Convert this dataframe to an interactive table.\"\n",
              "              style=\"display:none;\">\n",
              "        \n",
              "  <svg xmlns=\"http://www.w3.org/2000/svg\" height=\"24px\"viewBox=\"0 0 24 24\"\n",
              "       width=\"24px\">\n",
              "    <path d=\"M0 0h24v24H0V0z\" fill=\"none\"/>\n",
              "    <path d=\"M18.56 5.44l.94 2.06.94-2.06 2.06-.94-2.06-.94-.94-2.06-.94 2.06-2.06.94zm-11 1L8.5 8.5l.94-2.06 2.06-.94-2.06-.94L8.5 2.5l-.94 2.06-2.06.94zm10 10l.94 2.06.94-2.06 2.06-.94-2.06-.94-.94-2.06-.94 2.06-2.06.94z\"/><path d=\"M17.41 7.96l-1.37-1.37c-.4-.4-.92-.59-1.43-.59-.52 0-1.04.2-1.43.59L10.3 9.45l-7.72 7.72c-.78.78-.78 2.05 0 2.83L4 21.41c.39.39.9.59 1.41.59.51 0 1.02-.2 1.41-.59l7.78-7.78 2.81-2.81c.8-.78.8-2.07 0-2.86zM5.41 20L4 18.59l7.72-7.72 1.47 1.35L5.41 20z\"/>\n",
              "  </svg>\n",
              "      </button>\n",
              "      \n",
              "  <style>\n",
              "    .colab-df-container {\n",
              "      display:flex;\n",
              "      flex-wrap:wrap;\n",
              "      gap: 12px;\n",
              "    }\n",
              "\n",
              "    .colab-df-convert {\n",
              "      background-color: #E8F0FE;\n",
              "      border: none;\n",
              "      border-radius: 50%;\n",
              "      cursor: pointer;\n",
              "      display: none;\n",
              "      fill: #1967D2;\n",
              "      height: 32px;\n",
              "      padding: 0 0 0 0;\n",
              "      width: 32px;\n",
              "    }\n",
              "\n",
              "    .colab-df-convert:hover {\n",
              "      background-color: #E2EBFA;\n",
              "      box-shadow: 0px 1px 2px rgba(60, 64, 67, 0.3), 0px 1px 3px 1px rgba(60, 64, 67, 0.15);\n",
              "      fill: #174EA6;\n",
              "    }\n",
              "\n",
              "    [theme=dark] .colab-df-convert {\n",
              "      background-color: #3B4455;\n",
              "      fill: #D2E3FC;\n",
              "    }\n",
              "\n",
              "    [theme=dark] .colab-df-convert:hover {\n",
              "      background-color: #434B5C;\n",
              "      box-shadow: 0px 1px 3px 1px rgba(0, 0, 0, 0.15);\n",
              "      filter: drop-shadow(0px 1px 2px rgba(0, 0, 0, 0.3));\n",
              "      fill: #FFFFFF;\n",
              "    }\n",
              "  </style>\n",
              "\n",
              "      <script>\n",
              "        const buttonEl =\n",
              "          document.querySelector('#df-37edda1a-4a4a-4bb0-85b2-6246a44b5ce8 button.colab-df-convert');\n",
              "        buttonEl.style.display =\n",
              "          google.colab.kernel.accessAllowed ? 'block' : 'none';\n",
              "\n",
              "        async function convertToInteractive(key) {\n",
              "          const element = document.querySelector('#df-37edda1a-4a4a-4bb0-85b2-6246a44b5ce8');\n",
              "          const dataTable =\n",
              "            await google.colab.kernel.invokeFunction('convertToInteractive',\n",
              "                                                     [key], {});\n",
              "          if (!dataTable) return;\n",
              "\n",
              "          const docLinkHtml = 'Like what you see? Visit the ' +\n",
              "            '<a target=\"_blank\" href=https://colab.research.google.com/notebooks/data_table.ipynb>data table notebook</a>'\n",
              "            + ' to learn more about interactive tables.';\n",
              "          element.innerHTML = '';\n",
              "          dataTable['output_type'] = 'display_data';\n",
              "          await google.colab.output.renderOutput(dataTable, element);\n",
              "          const docLink = document.createElement('div');\n",
              "          docLink.innerHTML = docLinkHtml;\n",
              "          element.appendChild(docLink);\n",
              "        }\n",
              "      </script>\n",
              "    </div>\n",
              "  </div>\n",
              "  "
            ]
          },
          "metadata": {},
          "execution_count": 81
        }
      ]
    },
    {
      "cell_type": "code",
      "source": [
        "conditionlist = [\n",
        "    (datos['Product']=='Bank account or service') ,\n",
        "    (datos['Product']=='Consumer Loan'),\n",
        "    (datos['Product']=='Credit card'),\n",
        "    (datos['Product']=='Credit reporting'),\n",
        "    (datos['Product']=='Debt collection'),\n",
        "    (datos['Product']=='Money transfers'),\n",
        "    (datos['Product']=='Mortgage'),\n",
        "    (datos['Product']=='Other financial service'),\n",
        "    (datos['Product']=='Payday loan'),\n",
        "    (datos['Product']=='Prepaid card'),\n",
        "    (datos['Product']=='Student loan'),\n",
        "    (datos['Product']=='Virtual currency')]\n",
        "choicelist = [1,2,3,4,5,6,7,8,9,10,11,12]\n",
        "datos['Product_cod'] = np.select(conditionlist, choicelist)"
      ],
      "metadata": {
        "id": "on-O0b7wFF-f"
      },
      "execution_count": null,
      "outputs": []
    },
    {
      "cell_type": "code",
      "source": [
        "datos.describe()"
      ],
      "metadata": {
        "colab": {
          "base_uri": "https://localhost:8080/",
          "height": 300
        },
        "id": "B4CBeLCaOz90",
        "outputId": "9516b536-a82d-4da4-eea9-fcd8f13b4509"
      },
      "execution_count": null,
      "outputs": [
        {
          "output_type": "execute_result",
          "data": {
            "text/plain": [
              "       Complaint ID    Product_cod\n",
              "count  6.705980e+05  670598.000000\n",
              "mean   1.145473e+06       4.897751\n",
              "std    6.468630e+05       2.340737\n",
              "min    1.000000e+00       1.000000\n",
              "25%    5.930575e+05       3.000000\n",
              "50%    1.174558e+06       5.000000\n",
              "75%    1.718337e+06       7.000000\n",
              "max    2.218987e+06      12.000000"
            ],
            "text/html": [
              "\n",
              "  <div id=\"df-1802dac1-06ef-493f-8e37-a963b8fc63c3\">\n",
              "    <div class=\"colab-df-container\">\n",
              "      <div>\n",
              "<style scoped>\n",
              "    .dataframe tbody tr th:only-of-type {\n",
              "        vertical-align: middle;\n",
              "    }\n",
              "\n",
              "    .dataframe tbody tr th {\n",
              "        vertical-align: top;\n",
              "    }\n",
              "\n",
              "    .dataframe thead th {\n",
              "        text-align: right;\n",
              "    }\n",
              "</style>\n",
              "<table border=\"1\" class=\"dataframe\">\n",
              "  <thead>\n",
              "    <tr style=\"text-align: right;\">\n",
              "      <th></th>\n",
              "      <th>Complaint ID</th>\n",
              "      <th>Product_cod</th>\n",
              "    </tr>\n",
              "  </thead>\n",
              "  <tbody>\n",
              "    <tr>\n",
              "      <th>count</th>\n",
              "      <td>6.705980e+05</td>\n",
              "      <td>670598.000000</td>\n",
              "    </tr>\n",
              "    <tr>\n",
              "      <th>mean</th>\n",
              "      <td>1.145473e+06</td>\n",
              "      <td>4.897751</td>\n",
              "    </tr>\n",
              "    <tr>\n",
              "      <th>std</th>\n",
              "      <td>6.468630e+05</td>\n",
              "      <td>2.340737</td>\n",
              "    </tr>\n",
              "    <tr>\n",
              "      <th>min</th>\n",
              "      <td>1.000000e+00</td>\n",
              "      <td>1.000000</td>\n",
              "    </tr>\n",
              "    <tr>\n",
              "      <th>25%</th>\n",
              "      <td>5.930575e+05</td>\n",
              "      <td>3.000000</td>\n",
              "    </tr>\n",
              "    <tr>\n",
              "      <th>50%</th>\n",
              "      <td>1.174558e+06</td>\n",
              "      <td>5.000000</td>\n",
              "    </tr>\n",
              "    <tr>\n",
              "      <th>75%</th>\n",
              "      <td>1.718337e+06</td>\n",
              "      <td>7.000000</td>\n",
              "    </tr>\n",
              "    <tr>\n",
              "      <th>max</th>\n",
              "      <td>2.218987e+06</td>\n",
              "      <td>12.000000</td>\n",
              "    </tr>\n",
              "  </tbody>\n",
              "</table>\n",
              "</div>\n",
              "      <button class=\"colab-df-convert\" onclick=\"convertToInteractive('df-1802dac1-06ef-493f-8e37-a963b8fc63c3')\"\n",
              "              title=\"Convert this dataframe to an interactive table.\"\n",
              "              style=\"display:none;\">\n",
              "        \n",
              "  <svg xmlns=\"http://www.w3.org/2000/svg\" height=\"24px\"viewBox=\"0 0 24 24\"\n",
              "       width=\"24px\">\n",
              "    <path d=\"M0 0h24v24H0V0z\" fill=\"none\"/>\n",
              "    <path d=\"M18.56 5.44l.94 2.06.94-2.06 2.06-.94-2.06-.94-.94-2.06-.94 2.06-2.06.94zm-11 1L8.5 8.5l.94-2.06 2.06-.94-2.06-.94L8.5 2.5l-.94 2.06-2.06.94zm10 10l.94 2.06.94-2.06 2.06-.94-2.06-.94-.94-2.06-.94 2.06-2.06.94z\"/><path d=\"M17.41 7.96l-1.37-1.37c-.4-.4-.92-.59-1.43-.59-.52 0-1.04.2-1.43.59L10.3 9.45l-7.72 7.72c-.78.78-.78 2.05 0 2.83L4 21.41c.39.39.9.59 1.41.59.51 0 1.02-.2 1.41-.59l7.78-7.78 2.81-2.81c.8-.78.8-2.07 0-2.86zM5.41 20L4 18.59l7.72-7.72 1.47 1.35L5.41 20z\"/>\n",
              "  </svg>\n",
              "      </button>\n",
              "      \n",
              "  <style>\n",
              "    .colab-df-container {\n",
              "      display:flex;\n",
              "      flex-wrap:wrap;\n",
              "      gap: 12px;\n",
              "    }\n",
              "\n",
              "    .colab-df-convert {\n",
              "      background-color: #E8F0FE;\n",
              "      border: none;\n",
              "      border-radius: 50%;\n",
              "      cursor: pointer;\n",
              "      display: none;\n",
              "      fill: #1967D2;\n",
              "      height: 32px;\n",
              "      padding: 0 0 0 0;\n",
              "      width: 32px;\n",
              "    }\n",
              "\n",
              "    .colab-df-convert:hover {\n",
              "      background-color: #E2EBFA;\n",
              "      box-shadow: 0px 1px 2px rgba(60, 64, 67, 0.3), 0px 1px 3px 1px rgba(60, 64, 67, 0.15);\n",
              "      fill: #174EA6;\n",
              "    }\n",
              "\n",
              "    [theme=dark] .colab-df-convert {\n",
              "      background-color: #3B4455;\n",
              "      fill: #D2E3FC;\n",
              "    }\n",
              "\n",
              "    [theme=dark] .colab-df-convert:hover {\n",
              "      background-color: #434B5C;\n",
              "      box-shadow: 0px 1px 3px 1px rgba(0, 0, 0, 0.15);\n",
              "      filter: drop-shadow(0px 1px 2px rgba(0, 0, 0, 0.3));\n",
              "      fill: #FFFFFF;\n",
              "    }\n",
              "  </style>\n",
              "\n",
              "      <script>\n",
              "        const buttonEl =\n",
              "          document.querySelector('#df-1802dac1-06ef-493f-8e37-a963b8fc63c3 button.colab-df-convert');\n",
              "        buttonEl.style.display =\n",
              "          google.colab.kernel.accessAllowed ? 'block' : 'none';\n",
              "\n",
              "        async function convertToInteractive(key) {\n",
              "          const element = document.querySelector('#df-1802dac1-06ef-493f-8e37-a963b8fc63c3');\n",
              "          const dataTable =\n",
              "            await google.colab.kernel.invokeFunction('convertToInteractive',\n",
              "                                                     [key], {});\n",
              "          if (!dataTable) return;\n",
              "\n",
              "          const docLinkHtml = 'Like what you see? Visit the ' +\n",
              "            '<a target=\"_blank\" href=https://colab.research.google.com/notebooks/data_table.ipynb>data table notebook</a>'\n",
              "            + ' to learn more about interactive tables.';\n",
              "          element.innerHTML = '';\n",
              "          dataTable['output_type'] = 'display_data';\n",
              "          await google.colab.output.renderOutput(dataTable, element);\n",
              "          const docLink = document.createElement('div');\n",
              "          docLink.innerHTML = docLinkHtml;\n",
              "          element.appendChild(docLink);\n",
              "        }\n",
              "      </script>\n",
              "    </div>\n",
              "  </div>\n",
              "  "
            ]
          },
          "metadata": {},
          "execution_count": 83
        }
      ]
    },
    {
      "cell_type": "code",
      "source": [
        "datos.describe(include='object')"
      ],
      "metadata": {
        "colab": {
          "base_uri": "https://localhost:8080/",
          "height": 378
        },
        "id": "9V7DXYfpPw3z",
        "outputId": "b4b79957-ad38-4321-b2db-7c8685c1c281"
      },
      "execution_count": null,
      "outputs": [
        {
          "output_type": "execute_result",
          "data": {
            "text/plain": [
              "       Date received   Product     Sub-product  \\\n",
              "count         670598    670598          472396   \n",
              "unique          1818        12              47   \n",
              "top       08/27/2015  Mortgage  Other mortgage   \n",
              "freq             963    210324           81715   \n",
              "\n",
              "                                           Issue       Sub-issue  \\\n",
              "count                                     670598          269868   \n",
              "unique                                        95              68   \n",
              "top     Loan modification,collection,foreclosure  Account status   \n",
              "freq                                      106455           32633   \n",
              "\n",
              "                             Consumer complaint narrative  \\\n",
              "count                                              114704   \n",
              "unique                                             112690   \n",
              "top     I am filing this complaint because Experian ha...   \n",
              "freq                                                  102   \n",
              "\n",
              "                                  Company public response          Company  \\\n",
              "count                                              145197           670598   \n",
              "unique                                                 10             3933   \n",
              "top     Company has responded to the consumer and the ...  Bank of America   \n",
              "freq                                                57364            61720   \n",
              "\n",
              "         State ZIP code            Tags Consumer consent provided?  \\\n",
              "count   665293   665274           94730                     208151   \n",
              "unique      62    27889               3                          4   \n",
              "top         CA    300XX  Older American           Consent provided   \n",
              "freq     97640     2147           54881                     114704   \n",
              "\n",
              "       Submitted via Date sent to company Company response to consumer  \\\n",
              "count         670598               670598                       670598   \n",
              "unique             6                 1767                            8   \n",
              "top              Web           11/13/2015      Closed with explanation   \n",
              "freq          446035                 1108                       493981   \n",
              "\n",
              "       Timely response? Consumer disputed?  \n",
              "count            670598             629179  \n",
              "unique                2                  2  \n",
              "top                 Yes                 No  \n",
              "freq             652848             496466  "
            ],
            "text/html": [
              "\n",
              "  <div id=\"df-3885466a-319d-4878-acde-d4b0b41b5b79\">\n",
              "    <div class=\"colab-df-container\">\n",
              "      <div>\n",
              "<style scoped>\n",
              "    .dataframe tbody tr th:only-of-type {\n",
              "        vertical-align: middle;\n",
              "    }\n",
              "\n",
              "    .dataframe tbody tr th {\n",
              "        vertical-align: top;\n",
              "    }\n",
              "\n",
              "    .dataframe thead th {\n",
              "        text-align: right;\n",
              "    }\n",
              "</style>\n",
              "<table border=\"1\" class=\"dataframe\">\n",
              "  <thead>\n",
              "    <tr style=\"text-align: right;\">\n",
              "      <th></th>\n",
              "      <th>Date received</th>\n",
              "      <th>Product</th>\n",
              "      <th>Sub-product</th>\n",
              "      <th>Issue</th>\n",
              "      <th>Sub-issue</th>\n",
              "      <th>Consumer complaint narrative</th>\n",
              "      <th>Company public response</th>\n",
              "      <th>Company</th>\n",
              "      <th>State</th>\n",
              "      <th>ZIP code</th>\n",
              "      <th>Tags</th>\n",
              "      <th>Consumer consent provided?</th>\n",
              "      <th>Submitted via</th>\n",
              "      <th>Date sent to company</th>\n",
              "      <th>Company response to consumer</th>\n",
              "      <th>Timely response?</th>\n",
              "      <th>Consumer disputed?</th>\n",
              "    </tr>\n",
              "  </thead>\n",
              "  <tbody>\n",
              "    <tr>\n",
              "      <th>count</th>\n",
              "      <td>670598</td>\n",
              "      <td>670598</td>\n",
              "      <td>472396</td>\n",
              "      <td>670598</td>\n",
              "      <td>269868</td>\n",
              "      <td>114704</td>\n",
              "      <td>145197</td>\n",
              "      <td>670598</td>\n",
              "      <td>665293</td>\n",
              "      <td>665274</td>\n",
              "      <td>94730</td>\n",
              "      <td>208151</td>\n",
              "      <td>670598</td>\n",
              "      <td>670598</td>\n",
              "      <td>670598</td>\n",
              "      <td>670598</td>\n",
              "      <td>629179</td>\n",
              "    </tr>\n",
              "    <tr>\n",
              "      <th>unique</th>\n",
              "      <td>1818</td>\n",
              "      <td>12</td>\n",
              "      <td>47</td>\n",
              "      <td>95</td>\n",
              "      <td>68</td>\n",
              "      <td>112690</td>\n",
              "      <td>10</td>\n",
              "      <td>3933</td>\n",
              "      <td>62</td>\n",
              "      <td>27889</td>\n",
              "      <td>3</td>\n",
              "      <td>4</td>\n",
              "      <td>6</td>\n",
              "      <td>1767</td>\n",
              "      <td>8</td>\n",
              "      <td>2</td>\n",
              "      <td>2</td>\n",
              "    </tr>\n",
              "    <tr>\n",
              "      <th>top</th>\n",
              "      <td>08/27/2015</td>\n",
              "      <td>Mortgage</td>\n",
              "      <td>Other mortgage</td>\n",
              "      <td>Loan modification,collection,foreclosure</td>\n",
              "      <td>Account status</td>\n",
              "      <td>I am filing this complaint because Experian ha...</td>\n",
              "      <td>Company has responded to the consumer and the ...</td>\n",
              "      <td>Bank of America</td>\n",
              "      <td>CA</td>\n",
              "      <td>300XX</td>\n",
              "      <td>Older American</td>\n",
              "      <td>Consent provided</td>\n",
              "      <td>Web</td>\n",
              "      <td>11/13/2015</td>\n",
              "      <td>Closed with explanation</td>\n",
              "      <td>Yes</td>\n",
              "      <td>No</td>\n",
              "    </tr>\n",
              "    <tr>\n",
              "      <th>freq</th>\n",
              "      <td>963</td>\n",
              "      <td>210324</td>\n",
              "      <td>81715</td>\n",
              "      <td>106455</td>\n",
              "      <td>32633</td>\n",
              "      <td>102</td>\n",
              "      <td>57364</td>\n",
              "      <td>61720</td>\n",
              "      <td>97640</td>\n",
              "      <td>2147</td>\n",
              "      <td>54881</td>\n",
              "      <td>114704</td>\n",
              "      <td>446035</td>\n",
              "      <td>1108</td>\n",
              "      <td>493981</td>\n",
              "      <td>652848</td>\n",
              "      <td>496466</td>\n",
              "    </tr>\n",
              "  </tbody>\n",
              "</table>\n",
              "</div>\n",
              "      <button class=\"colab-df-convert\" onclick=\"convertToInteractive('df-3885466a-319d-4878-acde-d4b0b41b5b79')\"\n",
              "              title=\"Convert this dataframe to an interactive table.\"\n",
              "              style=\"display:none;\">\n",
              "        \n",
              "  <svg xmlns=\"http://www.w3.org/2000/svg\" height=\"24px\"viewBox=\"0 0 24 24\"\n",
              "       width=\"24px\">\n",
              "    <path d=\"M0 0h24v24H0V0z\" fill=\"none\"/>\n",
              "    <path d=\"M18.56 5.44l.94 2.06.94-2.06 2.06-.94-2.06-.94-.94-2.06-.94 2.06-2.06.94zm-11 1L8.5 8.5l.94-2.06 2.06-.94-2.06-.94L8.5 2.5l-.94 2.06-2.06.94zm10 10l.94 2.06.94-2.06 2.06-.94-2.06-.94-.94-2.06-.94 2.06-2.06.94z\"/><path d=\"M17.41 7.96l-1.37-1.37c-.4-.4-.92-.59-1.43-.59-.52 0-1.04.2-1.43.59L10.3 9.45l-7.72 7.72c-.78.78-.78 2.05 0 2.83L4 21.41c.39.39.9.59 1.41.59.51 0 1.02-.2 1.41-.59l7.78-7.78 2.81-2.81c.8-.78.8-2.07 0-2.86zM5.41 20L4 18.59l7.72-7.72 1.47 1.35L5.41 20z\"/>\n",
              "  </svg>\n",
              "      </button>\n",
              "      \n",
              "  <style>\n",
              "    .colab-df-container {\n",
              "      display:flex;\n",
              "      flex-wrap:wrap;\n",
              "      gap: 12px;\n",
              "    }\n",
              "\n",
              "    .colab-df-convert {\n",
              "      background-color: #E8F0FE;\n",
              "      border: none;\n",
              "      border-radius: 50%;\n",
              "      cursor: pointer;\n",
              "      display: none;\n",
              "      fill: #1967D2;\n",
              "      height: 32px;\n",
              "      padding: 0 0 0 0;\n",
              "      width: 32px;\n",
              "    }\n",
              "\n",
              "    .colab-df-convert:hover {\n",
              "      background-color: #E2EBFA;\n",
              "      box-shadow: 0px 1px 2px rgba(60, 64, 67, 0.3), 0px 1px 3px 1px rgba(60, 64, 67, 0.15);\n",
              "      fill: #174EA6;\n",
              "    }\n",
              "\n",
              "    [theme=dark] .colab-df-convert {\n",
              "      background-color: #3B4455;\n",
              "      fill: #D2E3FC;\n",
              "    }\n",
              "\n",
              "    [theme=dark] .colab-df-convert:hover {\n",
              "      background-color: #434B5C;\n",
              "      box-shadow: 0px 1px 3px 1px rgba(0, 0, 0, 0.15);\n",
              "      filter: drop-shadow(0px 1px 2px rgba(0, 0, 0, 0.3));\n",
              "      fill: #FFFFFF;\n",
              "    }\n",
              "  </style>\n",
              "\n",
              "      <script>\n",
              "        const buttonEl =\n",
              "          document.querySelector('#df-3885466a-319d-4878-acde-d4b0b41b5b79 button.colab-df-convert');\n",
              "        buttonEl.style.display =\n",
              "          google.colab.kernel.accessAllowed ? 'block' : 'none';\n",
              "\n",
              "        async function convertToInteractive(key) {\n",
              "          const element = document.querySelector('#df-3885466a-319d-4878-acde-d4b0b41b5b79');\n",
              "          const dataTable =\n",
              "            await google.colab.kernel.invokeFunction('convertToInteractive',\n",
              "                                                     [key], {});\n",
              "          if (!dataTable) return;\n",
              "\n",
              "          const docLinkHtml = 'Like what you see? Visit the ' +\n",
              "            '<a target=\"_blank\" href=https://colab.research.google.com/notebooks/data_table.ipynb>data table notebook</a>'\n",
              "            + ' to learn more about interactive tables.';\n",
              "          element.innerHTML = '';\n",
              "          dataTable['output_type'] = 'display_data';\n",
              "          await google.colab.output.renderOutput(dataTable, element);\n",
              "          const docLink = document.createElement('div');\n",
              "          docLink.innerHTML = docLinkHtml;\n",
              "          element.appendChild(docLink);\n",
              "        }\n",
              "      </script>\n",
              "    </div>\n",
              "  </div>\n",
              "  "
            ]
          },
          "metadata": {},
          "execution_count": 84
        }
      ]
    },
    {
      "cell_type": "markdown",
      "source": [
        "# Entendimiento de los datos "
      ],
      "metadata": {
        "id": "KcGWiyAgja8e"
      }
    },
    {
      "cell_type": "markdown",
      "source": [
        "# Datos vacíos"
      ],
      "metadata": {
        "id": "QxuKtWrblZlC"
      }
    },
    {
      "cell_type": "code",
      "source": [
        "#Configurar los gráficos\n",
        "plt.rcParams['figure.figsize']=(16,9)\n",
        "plt.style.use('ggplot')"
      ],
      "metadata": {
        "id": "VV0qMBb4ok_I"
      },
      "execution_count": null,
      "outputs": []
    },
    {
      "cell_type": "code",
      "source": [
        "datosVacios=datos.isna().sum()"
      ],
      "metadata": {
        "id": "YgAZk56CjadY"
      },
      "execution_count": null,
      "outputs": []
    },
    {
      "cell_type": "code",
      "source": [
        "#Total de datos vacíos en el dataset\n",
        "print(f\"El total de registros vacíos en el dataset es:{sum(datosVacios)}\")"
      ],
      "metadata": {
        "colab": {
          "base_uri": "https://localhost:8080/"
        },
        "id": "KOdUYRyWy8vR",
        "outputId": "ca8f9555-139c-4189-ed0c-2de8a5e7867c"
      },
      "execution_count": null,
      "outputs": [
        {
          "output_type": "stream",
          "name": "stdout",
          "text": [
            "El total de registros vacíos en el dataset es:2770590\n"
          ]
        }
      ]
    },
    {
      "cell_type": "code",
      "source": [
        "eje_y=['Date received','Product','Sub-product','Issue','Sub-issue','Consumer complaint narrative','Company public response','Company','State','ZIP code','Tags','Consumer consent provided?','Submitted via','Date sent to company','Company response to consumer','Timely response?','Consumer disputed?','Complaint ID','Product_cod']"
      ],
      "metadata": {
        "id": "P2zGaykKp_n5"
      },
      "execution_count": null,
      "outputs": []
    },
    {
      "cell_type": "code",
      "source": [
        "sb.barplot(x=datosVacios,y=eje_y)\n",
        "plt.show()"
      ],
      "metadata": {
        "colab": {
          "base_uri": "https://localhost:8080/",
          "height": 537
        },
        "id": "0gNLv2mBmXnI",
        "outputId": "d3abb6b6-cf99-48d6-f04f-b0dd40343425"
      },
      "execution_count": null,
      "outputs": [
        {
          "output_type": "display_data",
          "data": {
            "text/plain": [
              "<Figure size 1152x648 with 1 Axes>"
            ],
            "image/png": "[encoded data removed]"
          },
          "metadata": {}
        }
      ]
    },
    {
      "cell_type": "code",
      "source": [
        "##Completitud de los datos \n",
        "datosCompletos=((670598-datosVacios)/670598)*100"
      ],
      "metadata": {
        "id": "8Q_fzIz9rhzQ"
      },
      "execution_count": null,
      "outputs": []
    },
    {
      "cell_type": "code",
      "source": [
        "print(f\"Porcentaje de completitud de los datos:\\n{datosCompletos}\")"
      ],
      "metadata": {
        "colab": {
          "base_uri": "https://localhost:8080/"
        },
        "id": "cwCyxOcdrFRt",
        "outputId": "bd1ff65f-ed0a-4a27-94dd-40c87f9b45f2"
      },
      "execution_count": 179,
      "outputs": [
        {
          "output_type": "stream",
          "name": "stdout",
          "text": [
            "Porcentaje de completitud de los datos:\n",
            "Date received                   100.000000\n",
            "Product                         100.000000\n",
            "Sub-product                      70.443992\n",
            "Issue                           100.000000\n",
            "Sub-issue                        40.242888\n",
            "Consumer complaint narrative     17.104733\n",
            "Company public response          21.651869\n",
            "Company                         100.000000\n",
            "State                            99.208915\n",
            "ZIP code                         99.206082\n",
            "Tags                             14.126198\n",
            "Consumer consent provided?       31.039609\n",
            "Submitted via                   100.000000\n",
            "Date sent to company            100.000000\n",
            "Company response to consumer    100.000000\n",
            "Timely response?                100.000000\n",
            "Consumer disputed?               93.823572\n",
            "Complaint ID                    100.000000\n",
            "Product_cod                     100.000000\n",
            "dtype: float64\n"
          ]
        }
      ]
    },
    {
      "cell_type": "markdown",
      "source": [
        "# Cantidad de quejas por producto"
      ],
      "metadata": {
        "id": "J5wHrF0xAFNi"
      }
    },
    {
      "cell_type": "code",
      "source": [
        "group_by_product_state=datos.groupby('Product').size()\n",
        "group_by_product_state.head()"
      ],
      "metadata": {
        "colab": {
          "base_uri": "https://localhost:8080/"
        },
        "id": "GgmdE71huTRa",
        "outputId": "9b42852b-da68-4a6e-c5e1-75824a382a59"
      },
      "execution_count": null,
      "outputs": [
        {
          "output_type": "execute_result",
          "data": {
            "text/plain": [
              "Product\n",
              "Bank account or service     76084\n",
              "Consumer Loan               26604\n",
              "Credit card                 79007\n",
              "Credit reporting           119195\n",
              "Debt collection            124236\n",
              "dtype: int64"
            ]
          },
          "metadata": {},
          "execution_count": 160
        }
      ]
    },
    {
      "cell_type": "code",
      "source": [
        "axe_y_types=datos['Product'].unique()"
      ],
      "metadata": {
        "id": "EmOLtJ4B0aQQ"
      },
      "execution_count": null,
      "outputs": []
    },
    {
      "cell_type": "code",
      "source": [
        "sb.barplot(x=group_by_product_state,y=axe_y_types)\n",
        "plt.show()"
      ],
      "metadata": {
        "colab": {
          "base_uri": "https://localhost:8080/",
          "height": 537
        },
        "id": "_mx93DU80yhr",
        "outputId": "a96870f3-e8fd-4f27-90be-e75557d4d75e"
      },
      "execution_count": null,
      "outputs": [
        {
          "output_type": "display_data",
          "data": {
            "text/plain": [
              "<Figure size 1152x648 with 1 Axes>"
            ],
            "image/png": "[encoded data removed]"
          },
          "metadata": {}
        }
      ]
    },
    {
      "cell_type": "markdown",
      "source": [
        "# Cantidad de quejas atendidas "
      ],
      "metadata": {
        "id": "GAtBc2L2ARz8"
      }
    },
    {
      "cell_type": "code",
      "source": [
        "group_by_product_response=datos.groupby('Company response to consumer').size()\n",
        "group_by_product_response.head()"
      ],
      "metadata": {
        "colab": {
          "base_uri": "https://localhost:8080/"
        },
        "id": "566RTePAAWWH",
        "outputId": "bc389e11-c562-4315-b090-9469f8752df0"
      },
      "execution_count": 180,
      "outputs": [
        {
          "output_type": "execute_result",
          "data": {
            "text/plain": [
              "Company response to consumer\n",
              "Closed                              15492\n",
              "Closed with explanation            493981\n",
              "Closed with monetary relief         45170\n",
              "Closed with non-monetary relief     84557\n",
              "Closed with relief                   5298\n",
              "dtype: int64"
            ]
          },
          "metadata": {},
          "execution_count": 180
        }
      ]
    },
    {
      "cell_type": "code",
      "source": [
        "axe_y_response=datos['Company response to consumer'].unique()"
      ],
      "metadata": {
        "id": "u_eR60LwAwzJ"
      },
      "execution_count": 183,
      "outputs": []
    },
    {
      "cell_type": "code",
      "source": [
        "sb.barplot(x=group_by_product_response,y=axe_y_response)\n",
        "plt.show()"
      ],
      "metadata": {
        "colab": {
          "base_uri": "https://localhost:8080/",
          "height": 432
        },
        "id": "GgcvCltNA2B5",
        "outputId": "d8e0e350-6a49-41d1-8010-3e17765d5028"
      },
      "execution_count": 184,
      "outputs": [
        {
          "output_type": "display_data",
          "data": {
            "text/plain": [
              "<Figure size 1152x648 with 1 Axes>"
            ],
            "image/png": "[encoded data removed]"
          },
          "metadata": {}
        }
      ]
    },
    {
      "cell_type": "markdown",
      "source": [
        "# Selección de los datos a utilizar"
      ],
      "metadata": {
        "id": "Xesk0ObwBT6k"
      }
    },
    {
      "cell_type": "code",
      "source": [
        "##se eliminan las columnas que no se van a utilizar \n",
        "datos=datos.drop(['Product','Complaint ID','Date sent to company','Consumer disputed?','ZIP code','Sub-product','Sub-issue','Date received','Consumer complaint narrative','Company public response','Tags','Consumer consent provided?'],1)"
      ],
      "metadata": {
        "id": "ZlvN-SV4hcvU"
      },
      "execution_count": null,
      "outputs": []
    },
    {
      "cell_type": "code",
      "source": [
        "datos.info()"
      ],
      "metadata": {
        "colab": {
          "base_uri": "https://localhost:8080/"
        },
        "id": "vSkn5n3cjhIc",
        "outputId": "979d45a2-3d0b-4c5f-bb9d-1028051d6116"
      },
      "execution_count": null,
      "outputs": [
        {
          "output_type": "stream",
          "name": "stdout",
          "text": [
            "<class 'pandas.core.frame.DataFrame'>\n",
            "RangeIndex: 670598 entries, 0 to 670597\n",
            "Data columns (total 6 columns):\n",
            " #   Column                        Non-Null Count   Dtype \n",
            "---  ------                        --------------   ----- \n",
            " 0   Issue                         670598 non-null  object\n",
            " 1   Company                       670598 non-null  object\n",
            " 2   Submitted via                 670598 non-null  object\n",
            " 3   Company response to consumer  670598 non-null  object\n",
            " 4   Timely response?              670598 non-null  object\n",
            " 5   Product_cod                   670598 non-null  int64 \n",
            "dtypes: int64(1), object(5)\n",
            "memory usage: 30.7+ MB\n"
          ]
        }
      ]
    },
    {
      "cell_type": "code",
      "source": [
        "datos.describe(include='object')"
      ],
      "metadata": {
        "colab": {
          "base_uri": "https://localhost:8080/",
          "height": 175
        },
        "id": "6HgsRk1yt8uS",
        "outputId": "e6a59946-d25e-40f4-a962-48825ad5935e"
      },
      "execution_count": null,
      "outputs": [
        {
          "output_type": "execute_result",
          "data": {
            "text/plain": [
              "                                           Issue          Company  \\\n",
              "count                                     670598           670598   \n",
              "unique                                        95             3933   \n",
              "top     Loan modification,collection,foreclosure  Bank of America   \n",
              "freq                                      106455            61720   \n",
              "\n",
              "       Submitted via Company response to consumer Timely response?  \n",
              "count         670598                       670598           670598  \n",
              "unique             6                            8                2  \n",
              "top              Web      Closed with explanation              Yes  \n",
              "freq          446035                       493981           652848  "
            ],
            "text/html": [
              "\n",
              "  <div id=\"df-5f83bd3c-3c83-4a09-80e0-715b6ae3b8e1\">\n",
              "    <div class=\"colab-df-container\">\n",
              "      <div>\n",
              "<style scoped>\n",
              "    .dataframe tbody tr th:only-of-type {\n",
              "        vertical-align: middle;\n",
              "    }\n",
              "\n",
              "    .dataframe tbody tr th {\n",
              "        vertical-align: top;\n",
              "    }\n",
              "\n",
              "    .dataframe thead th {\n",
              "        text-align: right;\n",
              "    }\n",
              "</style>\n",
              "<table border=\"1\" class=\"dataframe\">\n",
              "  <thead>\n",
              "    <tr style=\"text-align: right;\">\n",
              "      <th></th>\n",
              "      <th>Issue</th>\n",
              "      <th>Company</th>\n",
              "      <th>Submitted via</th>\n",
              "      <th>Company response to consumer</th>\n",
              "      <th>Timely response?</th>\n",
              "    </tr>\n",
              "  </thead>\n",
              "  <tbody>\n",
              "    <tr>\n",
              "      <th>count</th>\n",
              "      <td>670598</td>\n",
              "      <td>670598</td>\n",
              "      <td>670598</td>\n",
              "      <td>670598</td>\n",
              "      <td>670598</td>\n",
              "    </tr>\n",
              "    <tr>\n",
              "      <th>unique</th>\n",
              "      <td>95</td>\n",
              "      <td>3933</td>\n",
              "      <td>6</td>\n",
              "      <td>8</td>\n",
              "      <td>2</td>\n",
              "    </tr>\n",
              "    <tr>\n",
              "      <th>top</th>\n",
              "      <td>Loan modification,collection,foreclosure</td>\n",
              "      <td>Bank of America</td>\n",
              "      <td>Web</td>\n",
              "      <td>Closed with explanation</td>\n",
              "      <td>Yes</td>\n",
              "    </tr>\n",
              "    <tr>\n",
              "      <th>freq</th>\n",
              "      <td>106455</td>\n",
              "      <td>61720</td>\n",
              "      <td>446035</td>\n",
              "      <td>493981</td>\n",
              "      <td>652848</td>\n",
              "    </tr>\n",
              "  </tbody>\n",
              "</table>\n",
              "</div>\n",
              "      <button class=\"colab-df-convert\" onclick=\"convertToInteractive('df-5f83bd3c-3c83-4a09-80e0-715b6ae3b8e1')\"\n",
              "              title=\"Convert this dataframe to an interactive table.\"\n",
              "              style=\"display:none;\">\n",
              "        \n",
              "  <svg xmlns=\"http://www.w3.org/2000/svg\" height=\"24px\"viewBox=\"0 0 24 24\"\n",
              "       width=\"24px\">\n",
              "    <path d=\"M0 0h24v24H0V0z\" fill=\"none\"/>\n",
              "    <path d=\"M18.56 5.44l.94 2.06.94-2.06 2.06-.94-2.06-.94-.94-2.06-.94 2.06-2.06.94zm-11 1L8.5 8.5l.94-2.06 2.06-.94-2.06-.94L8.5 2.5l-.94 2.06-2.06.94zm10 10l.94 2.06.94-2.06 2.06-.94-2.06-.94-.94-2.06-.94 2.06-2.06.94z\"/><path d=\"M17.41 7.96l-1.37-1.37c-.4-.4-.92-.59-1.43-.59-.52 0-1.04.2-1.43.59L10.3 9.45l-7.72 7.72c-.78.78-.78 2.05 0 2.83L4 21.41c.39.39.9.59 1.41.59.51 0 1.02-.2 1.41-.59l7.78-7.78 2.81-2.81c.8-.78.8-2.07 0-2.86zM5.41 20L4 18.59l7.72-7.72 1.47 1.35L5.41 20z\"/>\n",
              "  </svg>\n",
              "      </button>\n",
              "      \n",
              "  <style>\n",
              "    .colab-df-container {\n",
              "      display:flex;\n",
              "      flex-wrap:wrap;\n",
              "      gap: 12px;\n",
              "    }\n",
              "\n",
              "    .colab-df-convert {\n",
              "      background-color: #E8F0FE;\n",
              "      border: none;\n",
              "      border-radius: 50%;\n",
              "      cursor: pointer;\n",
              "      display: none;\n",
              "      fill: #1967D2;\n",
              "      height: 32px;\n",
              "      padding: 0 0 0 0;\n",
              "      width: 32px;\n",
              "    }\n",
              "\n",
              "    .colab-df-convert:hover {\n",
              "      background-color: #E2EBFA;\n",
              "      box-shadow: 0px 1px 2px rgba(60, 64, 67, 0.3), 0px 1px 3px 1px rgba(60, 64, 67, 0.15);\n",
              "      fill: #174EA6;\n",
              "    }\n",
              "\n",
              "    [theme=dark] .colab-df-convert {\n",
              "      background-color: #3B4455;\n",
              "      fill: #D2E3FC;\n",
              "    }\n",
              "\n",
              "    [theme=dark] .colab-df-convert:hover {\n",
              "      background-color: #434B5C;\n",
              "      box-shadow: 0px 1px 3px 1px rgba(0, 0, 0, 0.15);\n",
              "      filter: drop-shadow(0px 1px 2px rgba(0, 0, 0, 0.3));\n",
              "      fill: #FFFFFF;\n",
              "    }\n",
              "  </style>\n",
              "\n",
              "      <script>\n",
              "        const buttonEl =\n",
              "          document.querySelector('#df-5f83bd3c-3c83-4a09-80e0-715b6ae3b8e1 button.colab-df-convert');\n",
              "        buttonEl.style.display =\n",
              "          google.colab.kernel.accessAllowed ? 'block' : 'none';\n",
              "\n",
              "        async function convertToInteractive(key) {\n",
              "          const element = document.querySelector('#df-5f83bd3c-3c83-4a09-80e0-715b6ae3b8e1');\n",
              "          const dataTable =\n",
              "            await google.colab.kernel.invokeFunction('convertToInteractive',\n",
              "                                                     [key], {});\n",
              "          if (!dataTable) return;\n",
              "\n",
              "          const docLinkHtml = 'Like what you see? Visit the ' +\n",
              "            '<a target=\"_blank\" href=https://colab.research.google.com/notebooks/data_table.ipynb>data table notebook</a>'\n",
              "            + ' to learn more about interactive tables.';\n",
              "          element.innerHTML = '';\n",
              "          dataTable['output_type'] = 'display_data';\n",
              "          await google.colab.output.renderOutput(dataTable, element);\n",
              "          const docLink = document.createElement('div');\n",
              "          docLink.innerHTML = docLinkHtml;\n",
              "          element.appendChild(docLink);\n",
              "        }\n",
              "      </script>\n",
              "    </div>\n",
              "  </div>\n",
              "  "
            ]
          },
          "metadata": {},
          "execution_count": 56
        }
      ]
    },
    {
      "cell_type": "code",
      "source": [
        "#Codificar variables categóricas\n",
        "catCol = datos.select_dtypes(include= ['object'] ).columns.to_list()\n",
        "numCol = datos.select_dtypes(include= ['float64','int64'] ).columns.to_list()\n",
        "\n",
        "preprocesador = ColumnTransformer([('onehot', OneHotEncoder(handle_unknown = 'ignore'),catCol)],remainder = 'passthrough')\n",
        "\n",
        "\n",
        "datospre =preprocesador.fit_transform(datos)\n"
      ],
      "metadata": {
        "id": "XgtlpfOijkga"
      },
      "execution_count": null,
      "outputs": []
    },
    {
      "cell_type": "code",
      "source": [
        "codCat=preprocesador.named_transformers_['onehot'].get_feature_names(catCol)\n",
        "labels = np.concatenate([codCat,numCol])\n"
      ],
      "metadata": {
        "id": "tP5gozv3kgSt"
      },
      "execution_count": null,
      "outputs": []
    },
    {
      "cell_type": "code",
      "source": [
        "datosProc = pd.DataFrame.sparse.from_spmatrix(datospre, columns=labels)"
      ],
      "metadata": {
        "id": "2J1NmoyyrBj5"
      },
      "execution_count": null,
      "outputs": []
    },
    {
      "cell_type": "code",
      "source": [
        "datosProc.head()"
      ],
      "metadata": {
        "colab": {
          "base_uri": "https://localhost:8080/",
          "height": 369
        },
        "id": "F8Ymagea476m",
        "outputId": "c154e38b-a5b2-4fcb-9c25-eed3df7d4992"
      },
      "execution_count": null,
      "outputs": [
        {
          "output_type": "execute_result",
          "data": {
            "text/plain": [
              "   Issue_APR or interest rate  Issue_Account opening, closing, or management  \\\n",
              "0                         0.0                                            0.0   \n",
              "1                         0.0                                            0.0   \n",
              "2                         0.0                                            1.0   \n",
              "3                         0.0                                            0.0   \n",
              "4                         0.0                                            0.0   \n",
              "\n",
              "   Issue_Account terms and changes  Issue_Adding money  \\\n",
              "0                              0.0                 0.0   \n",
              "1                              0.0                 0.0   \n",
              "2                              0.0                 0.0   \n",
              "3                              0.0                 0.0   \n",
              "4                              0.0                 0.0   \n",
              "\n",
              "   Issue_Advertising and marketing  \\\n",
              "0                              0.0   \n",
              "1                              0.0   \n",
              "2                              0.0   \n",
              "3                              0.0   \n",
              "4                              0.0   \n",
              "\n",
              "   Issue_Advertising, marketing or disclosures  \\\n",
              "0                                          0.0   \n",
              "1                                          0.0   \n",
              "2                                          0.0   \n",
              "3                                          0.0   \n",
              "4                                          0.0   \n",
              "\n",
              "   Issue_Application processing delay  \\\n",
              "0                                 0.0   \n",
              "1                                 0.0   \n",
              "2                                 0.0   \n",
              "3                                 0.0   \n",
              "4                                 0.0   \n",
              "\n",
              "   Issue_Application, originator, mortgage broker  \\\n",
              "0                                             0.0   \n",
              "1                                             0.0   \n",
              "2                                             0.0   \n",
              "3                                             0.0   \n",
              "4                                             0.0   \n",
              "\n",
              "   Issue_Applied for loan/did not receive money  Issue_Arbitration  ...  \\\n",
              "0                                           0.0                0.0  ...   \n",
              "1                                           0.0                0.0  ...   \n",
              "2                                           0.0                0.0  ...   \n",
              "3                                           0.0                0.0  ...   \n",
              "4                                           0.0                0.0  ...   \n",
              "\n",
              "   Company response to consumer_Closed with explanation  \\\n",
              "0                                                1.0      \n",
              "1                                                1.0      \n",
              "2                                                0.0      \n",
              "3                                                1.0      \n",
              "4                                                1.0      \n",
              "\n",
              "   Company response to consumer_Closed with monetary relief  \\\n",
              "0                                                0.0          \n",
              "1                                                0.0          \n",
              "2                                                0.0          \n",
              "3                                                0.0          \n",
              "4                                                0.0          \n",
              "\n",
              "   Company response to consumer_Closed with non-monetary relief  \\\n",
              "0                                                0.0              \n",
              "1                                                0.0              \n",
              "2                                                0.0              \n",
              "3                                                0.0              \n",
              "4                                                0.0              \n",
              "\n",
              "   Company response to consumer_Closed with relief  \\\n",
              "0                                              0.0   \n",
              "1                                              0.0   \n",
              "2                                              0.0   \n",
              "3                                              0.0   \n",
              "4                                              0.0   \n",
              "\n",
              "   Company response to consumer_Closed without relief  \\\n",
              "0                                                0.0    \n",
              "1                                                0.0    \n",
              "2                                                0.0    \n",
              "3                                                0.0    \n",
              "4                                                0.0    \n",
              "\n",
              "   Company response to consumer_In progress  \\\n",
              "0                                       0.0   \n",
              "1                                       0.0   \n",
              "2                                       0.0   \n",
              "3                                       0.0   \n",
              "4                                       0.0   \n",
              "\n",
              "   Company response to consumer_Untimely response  Timely response?_No  \\\n",
              "0                                             0.0                  0.0   \n",
              "1                                             0.0                  0.0   \n",
              "2                                             0.0                  0.0   \n",
              "3                                             0.0                  0.0   \n",
              "4                                             0.0                  0.0   \n",
              "\n",
              "   Timely response?_Yes  Product_cod  \n",
              "0                   1.0          2.0  \n",
              "1                   1.0          1.0  \n",
              "2                   1.0          1.0  \n",
              "3                   1.0          1.0  \n",
              "4                   1.0          7.0  \n",
              "\n",
              "[5 rows x 4045 columns]"
            ],
            "text/html": [
              "\n",
              "  <div id=\"df-a45b69df-2d29-4cbb-9b7e-7a50da7537bc\">\n",
              "    <div class=\"colab-df-container\">\n",
              "      <div>\n",
              "<style scoped>\n",
              "    .dataframe tbody tr th:only-of-type {\n",
              "        vertical-align: middle;\n",
              "    }\n",
              "\n",
              "    .dataframe tbody tr th {\n",
              "        vertical-align: top;\n",
              "    }\n",
              "\n",
              "    .dataframe thead th {\n",
              "        text-align: right;\n",
              "    }\n",
              "</style>\n",
              "<table border=\"1\" class=\"dataframe\">\n",
              "  <thead>\n",
              "    <tr style=\"text-align: right;\">\n",
              "      <th></th>\n",
              "      <th>Issue_APR or interest rate</th>\n",
              "      <th>Issue_Account opening, closing, or management</th>\n",
              "      <th>Issue_Account terms and changes</th>\n",
              "      <th>Issue_Adding money</th>\n",
              "      <th>Issue_Advertising and marketing</th>\n",
              "      <th>Issue_Advertising, marketing or disclosures</th>\n",
              "      <th>Issue_Application processing delay</th>\n",
              "      <th>Issue_Application, originator, mortgage broker</th>\n",
              "      <th>Issue_Applied for loan/did not receive money</th>\n",
              "      <th>Issue_Arbitration</th>\n",
              "      <th>...</th>\n",
              "      <th>Company response to consumer_Closed with explanation</th>\n",
              "      <th>Company response to consumer_Closed with monetary relief</th>\n",
              "      <th>Company response to consumer_Closed with non-monetary relief</th>\n",
              "      <th>Company response to consumer_Closed with relief</th>\n",
              "      <th>Company response to consumer_Closed without relief</th>\n",
              "      <th>Company response to consumer_In progress</th>\n",
              "      <th>Company response to consumer_Untimely response</th>\n",
              "      <th>Timely response?_No</th>\n",
              "      <th>Timely response?_Yes</th>\n",
              "      <th>Product_cod</th>\n",
              "    </tr>\n",
              "  </thead>\n",
              "  <tbody>\n",
              "    <tr>\n",
              "      <th>0</th>\n",
              "      <td>0.0</td>\n",
              "      <td>0.0</td>\n",
              "      <td>0.0</td>\n",
              "      <td>0.0</td>\n",
              "      <td>0.0</td>\n",
              "      <td>0.0</td>\n",
              "      <td>0.0</td>\n",
              "      <td>0.0</td>\n",
              "      <td>0.0</td>\n",
              "      <td>0.0</td>\n",
              "      <td>...</td>\n",
              "      <td>1.0</td>\n",
              "      <td>0.0</td>\n",
              "      <td>0.0</td>\n",
              "      <td>0.0</td>\n",
              "      <td>0.0</td>\n",
              "      <td>0.0</td>\n",
              "      <td>0.0</td>\n",
              "      <td>0.0</td>\n",
              "      <td>1.0</td>\n",
              "      <td>2.0</td>\n",
              "    </tr>\n",
              "    <tr>\n",
              "      <th>1</th>\n",
              "      <td>0.0</td>\n",
              "      <td>0.0</td>\n",
              "      <td>0.0</td>\n",
              "      <td>0.0</td>\n",
              "      <td>0.0</td>\n",
              "      <td>0.0</td>\n",
              "      <td>0.0</td>\n",
              "      <td>0.0</td>\n",
              "      <td>0.0</td>\n",
              "      <td>0.0</td>\n",
              "      <td>...</td>\n",
              "      <td>1.0</td>\n",
              "      <td>0.0</td>\n",
              "      <td>0.0</td>\n",
              "      <td>0.0</td>\n",
              "      <td>0.0</td>\n",
              "      <td>0.0</td>\n",
              "      <td>0.0</td>\n",
              "      <td>0.0</td>\n",
              "      <td>1.0</td>\n",
              "      <td>1.0</td>\n",
              "    </tr>\n",
              "    <tr>\n",
              "      <th>2</th>\n",
              "      <td>0.0</td>\n",
              "      <td>1.0</td>\n",
              "      <td>0.0</td>\n",
              "      <td>0.0</td>\n",
              "      <td>0.0</td>\n",
              "      <td>0.0</td>\n",
              "      <td>0.0</td>\n",
              "      <td>0.0</td>\n",
              "      <td>0.0</td>\n",
              "      <td>0.0</td>\n",
              "      <td>...</td>\n",
              "      <td>0.0</td>\n",
              "      <td>0.0</td>\n",
              "      <td>0.0</td>\n",
              "      <td>0.0</td>\n",
              "      <td>0.0</td>\n",
              "      <td>0.0</td>\n",
              "      <td>0.0</td>\n",
              "      <td>0.0</td>\n",
              "      <td>1.0</td>\n",
              "      <td>1.0</td>\n",
              "    </tr>\n",
              "    <tr>\n",
              "      <th>3</th>\n",
              "      <td>0.0</td>\n",
              "      <td>0.0</td>\n",
              "      <td>0.0</td>\n",
              "      <td>0.0</td>\n",
              "      <td>0.0</td>\n",
              "      <td>0.0</td>\n",
              "      <td>0.0</td>\n",
              "      <td>0.0</td>\n",
              "      <td>0.0</td>\n",
              "      <td>0.0</td>\n",
              "      <td>...</td>\n",
              "      <td>1.0</td>\n",
              "      <td>0.0</td>\n",
              "      <td>0.0</td>\n",
              "      <td>0.0</td>\n",
              "      <td>0.0</td>\n",
              "      <td>0.0</td>\n",
              "      <td>0.0</td>\n",
              "      <td>0.0</td>\n",
              "      <td>1.0</td>\n",
              "      <td>1.0</td>\n",
              "    </tr>\n",
              "    <tr>\n",
              "      <th>4</th>\n",
              "      <td>0.0</td>\n",
              "      <td>0.0</td>\n",
              "      <td>0.0</td>\n",
              "      <td>0.0</td>\n",
              "      <td>0.0</td>\n",
              "      <td>0.0</td>\n",
              "      <td>0.0</td>\n",
              "      <td>0.0</td>\n",
              "      <td>0.0</td>\n",
              "      <td>0.0</td>\n",
              "      <td>...</td>\n",
              "      <td>1.0</td>\n",
              "      <td>0.0</td>\n",
              "      <td>0.0</td>\n",
              "      <td>0.0</td>\n",
              "      <td>0.0</td>\n",
              "      <td>0.0</td>\n",
              "      <td>0.0</td>\n",
              "      <td>0.0</td>\n",
              "      <td>1.0</td>\n",
              "      <td>7.0</td>\n",
              "    </tr>\n",
              "  </tbody>\n",
              "</table>\n",
              "<p>5 rows × 4045 columns</p>\n",
              "</div>\n",
              "      <button class=\"colab-df-convert\" onclick=\"convertToInteractive('df-a45b69df-2d29-4cbb-9b7e-7a50da7537bc')\"\n",
              "              title=\"Convert this dataframe to an interactive table.\"\n",
              "              style=\"display:none;\">\n",
              "        \n",
              "  <svg xmlns=\"http://www.w3.org/2000/svg\" height=\"24px\"viewBox=\"0 0 24 24\"\n",
              "       width=\"24px\">\n",
              "    <path d=\"M0 0h24v24H0V0z\" fill=\"none\"/>\n",
              "    <path d=\"M18.56 5.44l.94 2.06.94-2.06 2.06-.94-2.06-.94-.94-2.06-.94 2.06-2.06.94zm-11 1L8.5 8.5l.94-2.06 2.06-.94-2.06-.94L8.5 2.5l-.94 2.06-2.06.94zm10 10l.94 2.06.94-2.06 2.06-.94-2.06-.94-.94-2.06-.94 2.06-2.06.94z\"/><path d=\"M17.41 7.96l-1.37-1.37c-.4-.4-.92-.59-1.43-.59-.52 0-1.04.2-1.43.59L10.3 9.45l-7.72 7.72c-.78.78-.78 2.05 0 2.83L4 21.41c.39.39.9.59 1.41.59.51 0 1.02-.2 1.41-.59l7.78-7.78 2.81-2.81c.8-.78.8-2.07 0-2.86zM5.41 20L4 18.59l7.72-7.72 1.47 1.35L5.41 20z\"/>\n",
              "  </svg>\n",
              "      </button>\n",
              "      \n",
              "  <style>\n",
              "    .colab-df-container {\n",
              "      display:flex;\n",
              "      flex-wrap:wrap;\n",
              "      gap: 12px;\n",
              "    }\n",
              "\n",
              "    .colab-df-convert {\n",
              "      background-color: #E8F0FE;\n",
              "      border: none;\n",
              "      border-radius: 50%;\n",
              "      cursor: pointer;\n",
              "      display: none;\n",
              "      fill: #1967D2;\n",
              "      height: 32px;\n",
              "      padding: 0 0 0 0;\n",
              "      width: 32px;\n",
              "    }\n",
              "\n",
              "    .colab-df-convert:hover {\n",
              "      background-color: #E2EBFA;\n",
              "      box-shadow: 0px 1px 2px rgba(60, 64, 67, 0.3), 0px 1px 3px 1px rgba(60, 64, 67, 0.15);\n",
              "      fill: #174EA6;\n",
              "    }\n",
              "\n",
              "    [theme=dark] .colab-df-convert {\n",
              "      background-color: #3B4455;\n",
              "      fill: #D2E3FC;\n",
              "    }\n",
              "\n",
              "    [theme=dark] .colab-df-convert:hover {\n",
              "      background-color: #434B5C;\n",
              "      box-shadow: 0px 1px 3px 1px rgba(0, 0, 0, 0.15);\n",
              "      filter: drop-shadow(0px 1px 2px rgba(0, 0, 0, 0.3));\n",
              "      fill: #FFFFFF;\n",
              "    }\n",
              "  </style>\n",
              "\n",
              "      <script>\n",
              "        const buttonEl =\n",
              "          document.querySelector('#df-a45b69df-2d29-4cbb-9b7e-7a50da7537bc button.colab-df-convert');\n",
              "        buttonEl.style.display =\n",
              "          google.colab.kernel.accessAllowed ? 'block' : 'none';\n",
              "\n",
              "        async function convertToInteractive(key) {\n",
              "          const element = document.querySelector('#df-a45b69df-2d29-4cbb-9b7e-7a50da7537bc');\n",
              "          const dataTable =\n",
              "            await google.colab.kernel.invokeFunction('convertToInteractive',\n",
              "                                                     [key], {});\n",
              "          if (!dataTable) return;\n",
              "\n",
              "          const docLinkHtml = 'Like what you see? Visit the ' +\n",
              "            '<a target=\"_blank\" href=https://colab.research.google.com/notebooks/data_table.ipynb>data table notebook</a>'\n",
              "            + ' to learn more about interactive tables.';\n",
              "          element.innerHTML = '';\n",
              "          dataTable['output_type'] = 'display_data';\n",
              "          await google.colab.output.renderOutput(dataTable, element);\n",
              "          const docLink = document.createElement('div');\n",
              "          docLink.innerHTML = docLinkHtml;\n",
              "          element.appendChild(docLink);\n",
              "        }\n",
              "      </script>\n",
              "    </div>\n",
              "  </div>\n",
              "  "
            ]
          },
          "metadata": {},
          "execution_count": 60
        }
      ]
    },
    {
      "cell_type": "code",
      "source": [
        "#definicion de variable \n",
        "x=datosProc.drop(['Product_cod'],1)\n",
        "y=datosProc[['Product_cod']]"
      ],
      "metadata": {
        "id": "OFY3lVvk6_Yo"
      },
      "execution_count": null,
      "outputs": []
    },
    {
      "cell_type": "code",
      "source": [
        "xEntrenamiento, xPrueba, yEntrenamiento, yPrueba = train_test_split(x,y,train_size=0.7, random_state=123)"
      ],
      "metadata": {
        "id": "reIJiTZs9wCk"
      },
      "execution_count": null,
      "outputs": []
    },
    {
      "cell_type": "markdown",
      "source": [
        "# Entrenamiento"
      ],
      "metadata": {
        "id": "NjCOSXCnBwt_"
      }
    },
    {
      "cell_type": "code",
      "source": [
        "datosEntrenamiento = pd.concat([xEntrenamiento,yEntrenamiento],axis=1)"
      ],
      "metadata": {
        "id": "YIsGiGoN-s9V"
      },
      "execution_count": null,
      "outputs": []
    },
    {
      "cell_type": "code",
      "source": [
        "##Modelado de datos \n",
        "modelo = LogisticRegression()\n",
        "modelo.fit(xEntrenamiento,yEntrenamiento)"
      ],
      "metadata": {
        "colab": {
          "base_uri": "https://localhost:8080/"
        },
        "id": "NylmIaTv-911",
        "outputId": "7fbd482a-bf08-4bf5-adb2-9d37750334a2"
      },
      "execution_count": null,
      "outputs": [
        {
          "output_type": "execute_result",
          "data": {
            "text/plain": [
              "LogisticRegression()"
            ]
          },
          "metadata": {},
          "execution_count": 64
        }
      ]
    },
    {
      "cell_type": "code",
      "source": [
        "probabilidadPrediccion = modelo.predict_proba(xEntrenamiento)\n",
        "probabilidadPrediccion"
      ],
      "metadata": {
        "colab": {
          "base_uri": "https://localhost:8080/"
        },
        "id": "HLiDB0IBHYX6",
        "outputId": "b25a2b44-8fcf-4447-ecce-22f9420c9c7e"
      },
      "execution_count": null,
      "outputs": [
        {
          "output_type": "execute_result",
          "data": {
            "text/plain": [
              "array([[5.31235790e-05, 1.48993724e-04, 1.47337046e-04, ...,\n",
              "        5.84100339e-05, 2.84857809e-05, 5.54764565e-06],\n",
              "       [4.70384774e-05, 9.25557435e-05, 7.11159310e-05, ...,\n",
              "        1.80697584e-05, 1.71491082e-05, 4.92734706e-06],\n",
              "       [1.07836091e-04, 2.81740634e-04, 9.98427499e-01, ...,\n",
              "        2.84419779e-04, 2.84102213e-04, 7.56477984e-06],\n",
              "       ...,\n",
              "       [9.79042705e-06, 3.61013834e-06, 2.41681085e-05, ...,\n",
              "        1.23295115e-05, 9.99824412e-01, 1.29862080e-06],\n",
              "       [1.73000938e-06, 8.05841486e-06, 1.66461310e-05, ...,\n",
              "        2.30057989e-06, 1.41477860e-06, 2.20273654e-07],\n",
              "       [9.98820761e-01, 2.01523624e-04, 2.89087359e-04, ...,\n",
              "        3.00371444e-05, 1.74262146e-04, 1.56124717e-05]])"
            ]
          },
          "metadata": {},
          "execution_count": 65
        }
      ]
    },
    {
      "cell_type": "code",
      "source": [
        "prediccion = modelo.predict(xEntrenamiento)\n",
        "prediccion"
      ],
      "metadata": {
        "colab": {
          "base_uri": "https://localhost:8080/"
        },
        "id": "szS426eaHayW",
        "outputId": "3c1c3b92-7134-48e4-dee8-9192264e17ad"
      },
      "execution_count": null,
      "outputs": [
        {
          "output_type": "execute_result",
          "data": {
            "text/plain": [
              "array([ 5.,  7.,  3., ..., 11.,  4.,  1.])"
            ]
          },
          "metadata": {},
          "execution_count": 66
        }
      ]
    },
    {
      "cell_type": "code",
      "source": [
        "print('Desempeño en entrenamiento:', modelo.score(xEntrenamiento,yEntrenamiento))"
      ],
      "metadata": {
        "colab": {
          "base_uri": "https://localhost:8080/"
        },
        "id": "0FfPlNCVHiJg",
        "outputId": "5e77c3ff-392e-4279-ae19-228d8d281818"
      },
      "execution_count": null,
      "outputs": [
        {
          "output_type": "stream",
          "name": "stdout",
          "text": [
            "Desempeño en entrenamiento: 0.9972987827479985\n"
          ]
        }
      ]
    },
    {
      "cell_type": "code",
      "source": [
        "\n",
        "#Matriz de confusión en entrenamiento \n",
        "\n",
        "matrix=confusion_matrix(y_true = yEntrenamiento,\n",
        "                 y_pred=prediccion)"
      ],
      "metadata": {
        "id": "CCEIRIvWV1Kv"
      },
      "execution_count": null,
      "outputs": []
    },
    {
      "cell_type": "code",
      "source": [
        "f,ax=plt.subplots()\n",
        "sb.heatmap(matrix,annot=True,ax=ax) #Dibuja un mapa de calor\n",
        "\n",
        "ax.set_title('Confusion matrix') #título\n",
        "ax.set_xlabel('Predict') #eje x\n",
        "ax.set_ylabel('True') #eje y"
      ],
      "metadata": {
        "colab": {
          "base_uri": "https://localhost:8080/",
          "height": 588
        },
        "id": "ageZWu0K2Svy",
        "outputId": "65fdc991-bc16-41af-adf5-3c527c9e5546"
      },
      "execution_count": null,
      "outputs": [
        {
          "output_type": "execute_result",
          "data": {
            "text/plain": [
              "Text(123.0, 0.5, 'True')"
            ]
          },
          "metadata": {},
          "execution_count": 166
        },
        {
          "output_type": "display_data",
          "data": {
            "text/plain": [
              "<Figure size 1152x648 with 2 Axes>"
            ],
            "image/png": "[encoded data removed]"
          },
          "metadata": {}
        }
      ]
    },
    {
      "cell_type": "markdown",
      "source": [
        "# Prueba"
      ],
      "metadata": {
        "id": "604Rl3ywB0FL"
      }
    },
    {
      "cell_type": "code",
      "source": [
        "##Modelado de datos \n",
        "modeloP = LogisticRegression()\n",
        "modeloP.fit(xPrueba,yPrueba)"
      ],
      "metadata": {
        "colab": {
          "base_uri": "https://localhost:8080/"
        },
        "id": "22lRXTGPWctP",
        "outputId": "e6131591-c65c-4973-ca06-d4db1fe773f3"
      },
      "execution_count": null,
      "outputs": [
        {
          "output_type": "execute_result",
          "data": {
            "text/plain": [
              "LogisticRegression()"
            ]
          },
          "metadata": {},
          "execution_count": 69
        }
      ]
    },
    {
      "cell_type": "code",
      "source": [
        "probabilidadPrediccionP = modeloP.predict_proba(xPrueba)\n",
        "probabilidadPrediccionP"
      ],
      "metadata": {
        "colab": {
          "base_uri": "https://localhost:8080/"
        },
        "id": "8CXkUmhqXJQA",
        "outputId": "47f43d5c-1508-42c4-d9f6-3665f3a6e8c0"
      },
      "execution_count": null,
      "outputs": [
        {
          "output_type": "execute_result",
          "data": {
            "text/plain": [
              "array([[3.60089679e-05, 6.93160704e-05, 8.08225081e-05, ...,\n",
              "        2.59836069e-05, 2.98922211e-05, 5.80322809e-06],\n",
              "       [4.54942150e-05, 1.04750634e-04, 7.04911124e-05, ...,\n",
              "        2.98630388e-05, 2.04881044e-05, 1.40541763e-06],\n",
              "       [8.16116636e-06, 1.83762359e-05, 2.53623307e-05, ...,\n",
              "        6.11856997e-06, 6.21682531e-06, 1.51095660e-06],\n",
              "       ...,\n",
              "       [9.99252023e-01, 9.11575685e-05, 2.81059333e-04, ...,\n",
              "        3.43243623e-05, 2.27649517e-05, 6.41266406e-06],\n",
              "       [3.00748252e-05, 5.68095847e-05, 6.60476025e-05, ...,\n",
              "        2.18041063e-05, 2.50419399e-05, 4.91072524e-06],\n",
              "       [2.07314713e-04, 3.05865736e-04, 9.97557907e-01, ...,\n",
              "        4.10269633e-04, 4.04171280e-04, 2.39039938e-05]])"
            ]
          },
          "metadata": {},
          "execution_count": 70
        }
      ]
    },
    {
      "cell_type": "code",
      "source": [
        "prediccionP = modeloP.predict(xPrueba)\n",
        "prediccionP"
      ],
      "metadata": {
        "colab": {
          "base_uri": "https://localhost:8080/"
        },
        "id": "Dvs_b1SlXQKd",
        "outputId": "f3da96c1-66ce-435c-e881-36e3f7c31eff"
      },
      "execution_count": null,
      "outputs": [
        {
          "output_type": "execute_result",
          "data": {
            "text/plain": [
              "array([5., 5., 4., ..., 1., 5., 3.])"
            ]
          },
          "metadata": {},
          "execution_count": 71
        }
      ]
    },
    {
      "cell_type": "code",
      "source": [
        "print('Desempeño en entrenamiento:', modeloP.score(xPrueba,yPrueba))"
      ],
      "metadata": {
        "colab": {
          "base_uri": "https://localhost:8080/"
        },
        "id": "lgcgvmGAXWFx",
        "outputId": "9c8471f3-f3ff-489d-a7c1-6fb4ac86959f"
      },
      "execution_count": null,
      "outputs": [
        {
          "output_type": "stream",
          "name": "stdout",
          "text": [
            "Desempeño en entrenamiento: 0.9971865990655134\n"
          ]
        }
      ]
    },
    {
      "cell_type": "code",
      "source": [
        "#Matriz de confusión en entrenamiento \n",
        "\n",
        "matrixP=confusion_matrix(y_true = yPrueba,\n",
        "                 y_pred=prediccionP)"
      ],
      "metadata": {
        "id": "k0IfMcVtB8oR"
      },
      "execution_count": 185,
      "outputs": []
    },
    {
      "cell_type": "code",
      "source": [
        "f,ax=plt.subplots()\n",
        "sb.heatmap(matrixP,annot=True,ax=ax) #Dibuja un mapa de calor\n",
        "\n",
        "ax.set_title('Confusion matrix') #título\n",
        "ax.set_xlabel('Predict') #eje x\n",
        "ax.set_ylabel('True') #eje y"
      ],
      "metadata": {
        "colab": {
          "base_uri": "https://localhost:8080/",
          "height": 580
        },
        "id": "kVBC91rqCDTo",
        "outputId": "760be2f3-62b1-4dc4-d7ef-06923d72c82e"
      },
      "execution_count": 186,
      "outputs": [
        {
          "output_type": "execute_result",
          "data": {
            "text/plain": [
              "Text(123.0, 0.5, 'True')"
            ]
          },
          "metadata": {},
          "execution_count": 186
        },
        {
          "output_type": "display_data",
          "data": {
            "text/plain": [
              "<Figure size 1152x648 with 2 Axes>"
            ],
            "image/png": "[encoded data removed]"
          },
          "metadata": {}
        }
      ]
    }
  ]
}