{
  "nbformat": 4,
  "nbformat_minor": 0,
  "metadata": {
    "colab": {
      "name": "Proyecto_analitica.ipynb",
      "provenance": [],
      "collapsed_sections": [],
      "authorship_tag": "ABX9TyOSBZbLsiVK6goNfGIXcKiw",
      "include_colab_link": true
    },
    "kernelspec": {
      "name": "python3",
      "display_name": "Python 3"
    },
    "language_info": {
      "name": "python"
    }
  },
  "cells": [
    {
      "cell_type": "markdown",
      "metadata": {
        "id": "view-in-github",
        "colab_type": "text"
      },
      "source": [
        "<a href=\"https://colab.research.google.com/github/Simon-creator-jara/Inteligencia_artificial/blob/main/Proyecto_analitica.ipynb\" target=\"_parent\"><img src=\"https://colab.research.google.com/assets/colab-badge.svg\" alt=\"Open In Colab\"/></a>"
      ]
    },
    {
      "cell_type": "markdown",
      "source": [
        "# Importamos librerías "
      ],
      "metadata": {
        "id": "wdgLIVVajMyl"
      }
    },
    {
      "cell_type": "code",
      "execution_count": 189,
      "metadata": {
        "id": "CLw5VZTLFolf"
      },
      "outputs": [],
      "source": [
        "###Importar librerías \n",
        "#Procesamiento de datos\n",
        "import numpy as np\n",
        "import pandas as pd\n",
        "\n",
        "\n",
        "#Procesamiento y modelado \n",
        "from sklearn.compose import ColumnTransformer \n",
        "from sklearn.preprocessing import OneHotEncoder\n",
        "from sklearn.linear_model import LogisticRegression \n",
        "from sklearn.model_selection import train_test_split\n",
        "from sklearn.metrics import accuracy_score\n",
        "from sklearn.metrics import confusion_matrix\n",
        "\n",
        "\n",
        "#Graficas \n",
        "\n",
        "import seaborn as sb\n",
        "import matplotlib.pyplot as plt\n",
        "\n",
        "import warnings \n",
        "warnings.filterwarnings('ignore')"
      ]
    },
    {
      "cell_type": "markdown",
      "source": [
        "# Extracción de datos"
      ],
      "metadata": {
        "id": "jtNylcvpjR0Q"
      }
    },
    {
      "cell_type": "code",
      "source": [
        "##Extraemos los datos \n",
        "\n",
        "datos = pd.read_csv('Consumer_Complaints.csv')\n",
        "datos.head()"
      ],
      "metadata": {
        "colab": {
          "base_uri": "https://localhost:8080/",
          "height": 548
        },
        "id": "ek6V456EOc7o",
        "outputId": "f8a3f287-1e52-49ea-e178-ee7a5e7cd811"
      },
      "execution_count": 190,
      "outputs": [
        {
          "output_type": "execute_result",
          "data": {
            "text/plain": [
              "  Date received                  Product                  Sub-product  \\\n",
              "0    07/29/2013            Consumer Loan                 Vehicle loan   \n",
              "1    07/29/2013  Bank account or service             Checking account   \n",
              "2    07/29/2013  Bank account or service             Checking account   \n",
              "3    07/29/2013  Bank account or service             Checking account   \n",
              "4    07/29/2013                 Mortgage  Conventional fixed mortgage   \n",
              "\n",
              "                                      Issue Sub-issue  \\\n",
              "0                Managing the loan or lease       NaN   \n",
              "1                 Using a debit or ATM card       NaN   \n",
              "2   Account opening, closing, or management       NaN   \n",
              "3                  Deposits and withdrawals       NaN   \n",
              "4  Loan servicing, payments, escrow account       NaN   \n",
              "\n",
              "  Consumer complaint narrative Company public response  \\\n",
              "0                          NaN                     NaN   \n",
              "1                          NaN                     NaN   \n",
              "2                          NaN                     NaN   \n",
              "3                          NaN                     NaN   \n",
              "4                          NaN                     NaN   \n",
              "\n",
              "                      Company State ZIP code            Tags  \\\n",
              "0       Wells Fargo & Company    VA    24540             NaN   \n",
              "1       Wells Fargo & Company    CA    95992  Older American   \n",
              "2           Santander Bank US    NY    10065             NaN   \n",
              "3       Wells Fargo & Company    GA    30084             NaN   \n",
              "4  Franklin Credit Management    CT    06106             NaN   \n",
              "\n",
              "  Consumer consent provided? Submitted via Date sent to company  \\\n",
              "0                        NaN         Phone           07/30/2013   \n",
              "1                        NaN           Web           07/31/2013   \n",
              "2                        NaN           Fax           07/31/2013   \n",
              "3                        NaN           Web           07/30/2013   \n",
              "4                        NaN           Web           07/30/2013   \n",
              "\n",
              "  Company response to consumer Timely response? Consumer disputed?  \\\n",
              "0      Closed with explanation              Yes                 No   \n",
              "1      Closed with explanation              Yes                 No   \n",
              "2                       Closed              Yes                 No   \n",
              "3      Closed with explanation              Yes                 No   \n",
              "4      Closed with explanation              Yes                 No   \n",
              "\n",
              "   Complaint ID  \n",
              "0        468882  \n",
              "1        468889  \n",
              "2        468879  \n",
              "3        468949  \n",
              "4        475823  "
            ],
            "text/html": [
              "\n",
              "  <div id=\"df-ce6e56ff-6e66-46fb-b9d0-68101cb59195\">\n",
              "    <div class=\"colab-df-container\">\n",
              "      <div>\n",
              "<style scoped>\n",
              "    .dataframe tbody tr th:only-of-type {\n",
              "        vertical-align: middle;\n",
              "    }\n",
              "\n",
              "    .dataframe tbody tr th {\n",
              "        vertical-align: top;\n",
              "    }\n",
              "\n",
              "    .dataframe thead th {\n",
              "        text-align: right;\n",
              "    }\n",
              "</style>\n",
              "<table border=\"1\" class=\"dataframe\">\n",
              "  <thead>\n",
              "    <tr style=\"text-align: right;\">\n",
              "      <th></th>\n",
              "      <th>Date received</th>\n",
              "      <th>Product</th>\n",
              "      <th>Sub-product</th>\n",
              "      <th>Issue</th>\n",
              "      <th>Sub-issue</th>\n",
              "      <th>Consumer complaint narrative</th>\n",
              "      <th>Company public response</th>\n",
              "      <th>Company</th>\n",
              "      <th>State</th>\n",
              "      <th>ZIP code</th>\n",
              "      <th>Tags</th>\n",
              "      <th>Consumer consent provided?</th>\n",
              "      <th>Submitted via</th>\n",
              "      <th>Date sent to company</th>\n",
              "      <th>Company response to consumer</th>\n",
              "      <th>Timely response?</th>\n",
              "      <th>Consumer disputed?</th>\n",
              "      <th>Complaint ID</th>\n",
              "    </tr>\n",
              "  </thead>\n",
              "  <tbody>\n",
              "    <tr>\n",
              "      <th>0</th>\n",
              "      <td>07/29/2013</td>\n",
              "      <td>Consumer Loan</td>\n",
              "      <td>Vehicle loan</td>\n",
              "      <td>Managing the loan or lease</td>\n",
              "      <td>NaN</td>\n",
              "      <td>NaN</td>\n",
              "      <td>NaN</td>\n",
              "      <td>Wells Fargo &amp; Company</td>\n",
              "      <td>VA</td>\n",
              "      <td>24540</td>\n",
              "      <td>NaN</td>\n",
              "      <td>NaN</td>\n",
              "      <td>Phone</td>\n",
              "      <td>07/30/2013</td>\n",
              "      <td>Closed with explanation</td>\n",
              "      <td>Yes</td>\n",
              "      <td>No</td>\n",
              "      <td>468882</td>\n",
              "    </tr>\n",
              "    <tr>\n",
              "      <th>1</th>\n",
              "      <td>07/29/2013</td>\n",
              "      <td>Bank account or service</td>\n",
              "      <td>Checking account</td>\n",
              "      <td>Using a debit or ATM card</td>\n",
              "      <td>NaN</td>\n",
              "      <td>NaN</td>\n",
              "      <td>NaN</td>\n",
              "      <td>Wells Fargo &amp; Company</td>\n",
              "      <td>CA</td>\n",
              "      <td>95992</td>\n",
              "      <td>Older American</td>\n",
              "      <td>NaN</td>\n",
              "      <td>Web</td>\n",
              "      <td>07/31/2013</td>\n",
              "      <td>Closed with explanation</td>\n",
              "      <td>Yes</td>\n",
              "      <td>No</td>\n",
              "      <td>468889</td>\n",
              "    </tr>\n",
              "    <tr>\n",
              "      <th>2</th>\n",
              "      <td>07/29/2013</td>\n",
              "      <td>Bank account or service</td>\n",
              "      <td>Checking account</td>\n",
              "      <td>Account opening, closing, or management</td>\n",
              "      <td>NaN</td>\n",
              "      <td>NaN</td>\n",
              "      <td>NaN</td>\n",
              "      <td>Santander Bank US</td>\n",
              "      <td>NY</td>\n",
              "      <td>10065</td>\n",
              "      <td>NaN</td>\n",
              "      <td>NaN</td>\n",
              "      <td>Fax</td>\n",
              "      <td>07/31/2013</td>\n",
              "      <td>Closed</td>\n",
              "      <td>Yes</td>\n",
              "      <td>No</td>\n",
              "      <td>468879</td>\n",
              "    </tr>\n",
              "    <tr>\n",
              "      <th>3</th>\n",
              "      <td>07/29/2013</td>\n",
              "      <td>Bank account or service</td>\n",
              "      <td>Checking account</td>\n",
              "      <td>Deposits and withdrawals</td>\n",
              "      <td>NaN</td>\n",
              "      <td>NaN</td>\n",
              "      <td>NaN</td>\n",
              "      <td>Wells Fargo &amp; Company</td>\n",
              "      <td>GA</td>\n",
              "      <td>30084</td>\n",
              "      <td>NaN</td>\n",
              "      <td>NaN</td>\n",
              "      <td>Web</td>\n",
              "      <td>07/30/2013</td>\n",
              "      <td>Closed with explanation</td>\n",
              "      <td>Yes</td>\n",
              "      <td>No</td>\n",
              "      <td>468949</td>\n",
              "    </tr>\n",
              "    <tr>\n",
              "      <th>4</th>\n",
              "      <td>07/29/2013</td>\n",
              "      <td>Mortgage</td>\n",
              "      <td>Conventional fixed mortgage</td>\n",
              "      <td>Loan servicing, payments, escrow account</td>\n",
              "      <td>NaN</td>\n",
              "      <td>NaN</td>\n",
              "      <td>NaN</td>\n",
              "      <td>Franklin Credit Management</td>\n",
              "      <td>CT</td>\n",
              "      <td>06106</td>\n",
              "      <td>NaN</td>\n",
              "      <td>NaN</td>\n",
              "      <td>Web</td>\n",
              "      <td>07/30/2013</td>\n",
              "      <td>Closed with explanation</td>\n",
              "      <td>Yes</td>\n",
              "      <td>No</td>\n",
              "      <td>475823</td>\n",
              "    </tr>\n",
              "  </tbody>\n",
              "</table>\n",
              "</div>\n",
              "      <button class=\"colab-df-convert\" onclick=\"convertToInteractive('df-ce6e56ff-6e66-46fb-b9d0-68101cb59195')\"\n",
              "              title=\"Convert this dataframe to an interactive table.\"\n",
              "              style=\"display:none;\">\n",
              "        \n",
              "  <svg xmlns=\"http://www.w3.org/2000/svg\" height=\"24px\"viewBox=\"0 0 24 24\"\n",
              "       width=\"24px\">\n",
              "    <path d=\"M0 0h24v24H0V0z\" fill=\"none\"/>\n",
              "    <path d=\"M18.56 5.44l.94 2.06.94-2.06 2.06-.94-2.06-.94-.94-2.06-.94 2.06-2.06.94zm-11 1L8.5 8.5l.94-2.06 2.06-.94-2.06-.94L8.5 2.5l-.94 2.06-2.06.94zm10 10l.94 2.06.94-2.06 2.06-.94-2.06-.94-.94-2.06-.94 2.06-2.06.94z\"/><path d=\"M17.41 7.96l-1.37-1.37c-.4-.4-.92-.59-1.43-.59-.52 0-1.04.2-1.43.59L10.3 9.45l-7.72 7.72c-.78.78-.78 2.05 0 2.83L4 21.41c.39.39.9.59 1.41.59.51 0 1.02-.2 1.41-.59l7.78-7.78 2.81-2.81c.8-.78.8-2.07 0-2.86zM5.41 20L4 18.59l7.72-7.72 1.47 1.35L5.41 20z\"/>\n",
              "  </svg>\n",
              "      </button>\n",
              "      \n",
              "  <style>\n",
              "    .colab-df-container {\n",
              "      display:flex;\n",
              "      flex-wrap:wrap;\n",
              "      gap: 12px;\n",
              "    }\n",
              "\n",
              "    .colab-df-convert {\n",
              "      background-color: #E8F0FE;\n",
              "      border: none;\n",
              "      border-radius: 50%;\n",
              "      cursor: pointer;\n",
              "      display: none;\n",
              "      fill: #1967D2;\n",
              "      height: 32px;\n",
              "      padding: 0 0 0 0;\n",
              "      width: 32px;\n",
              "    }\n",
              "\n",
              "    .colab-df-convert:hover {\n",
              "      background-color: #E2EBFA;\n",
              "      box-shadow: 0px 1px 2px rgba(60, 64, 67, 0.3), 0px 1px 3px 1px rgba(60, 64, 67, 0.15);\n",
              "      fill: #174EA6;\n",
              "    }\n",
              "\n",
              "    [theme=dark] .colab-df-convert {\n",
              "      background-color: #3B4455;\n",
              "      fill: #D2E3FC;\n",
              "    }\n",
              "\n",
              "    [theme=dark] .colab-df-convert:hover {\n",
              "      background-color: #434B5C;\n",
              "      box-shadow: 0px 1px 3px 1px rgba(0, 0, 0, 0.15);\n",
              "      filter: drop-shadow(0px 1px 2px rgba(0, 0, 0, 0.3));\n",
              "      fill: #FFFFFF;\n",
              "    }\n",
              "  </style>\n",
              "\n",
              "      <script>\n",
              "        const buttonEl =\n",
              "          document.querySelector('#df-ce6e56ff-6e66-46fb-b9d0-68101cb59195 button.colab-df-convert');\n",
              "        buttonEl.style.display =\n",
              "          google.colab.kernel.accessAllowed ? 'block' : 'none';\n",
              "\n",
              "        async function convertToInteractive(key) {\n",
              "          const element = document.querySelector('#df-ce6e56ff-6e66-46fb-b9d0-68101cb59195');\n",
              "          const dataTable =\n",
              "            await google.colab.kernel.invokeFunction('convertToInteractive',\n",
              "                                                     [key], {});\n",
              "          if (!dataTable) return;\n",
              "\n",
              "          const docLinkHtml = 'Like what you see? Visit the ' +\n",
              "            '<a target=\"_blank\" href=https://colab.research.google.com/notebooks/data_table.ipynb>data table notebook</a>'\n",
              "            + ' to learn more about interactive tables.';\n",
              "          element.innerHTML = '';\n",
              "          dataTable['output_type'] = 'display_data';\n",
              "          await google.colab.output.renderOutput(dataTable, element);\n",
              "          const docLink = document.createElement('div');\n",
              "          docLink.innerHTML = docLinkHtml;\n",
              "          element.appendChild(docLink);\n",
              "        }\n",
              "      </script>\n",
              "    </div>\n",
              "  </div>\n",
              "  "
            ]
          },
          "metadata": {},
          "execution_count": 190
        }
      ]
    },
    {
      "cell_type": "code",
      "source": [
        "datos.info()"
      ],
      "metadata": {
        "colab": {
          "base_uri": "https://localhost:8080/"
        },
        "id": "kPjtG_J8PQ7v",
        "outputId": "b8c526e0-e19e-4215-b83f-f01ceba89ea3"
      },
      "execution_count": 191,
      "outputs": [
        {
          "output_type": "stream",
          "name": "stdout",
          "text": [
            "<class 'pandas.core.frame.DataFrame'>\n",
            "RangeIndex: 670598 entries, 0 to 670597\n",
            "Data columns (total 18 columns):\n",
            " #   Column                        Non-Null Count   Dtype \n",
            "---  ------                        --------------   ----- \n",
            " 0   Date received                 670598 non-null  object\n",
            " 1   Product                       670598 non-null  object\n",
            " 2   Sub-product                   472396 non-null  object\n",
            " 3   Issue                         670598 non-null  object\n",
            " 4   Sub-issue                     269868 non-null  object\n",
            " 5   Consumer complaint narrative  114704 non-null  object\n",
            " 6   Company public response       145197 non-null  object\n",
            " 7   Company                       670598 non-null  object\n",
            " 8   State                         665293 non-null  object\n",
            " 9   ZIP code                      665274 non-null  object\n",
            " 10  Tags                          94730 non-null   object\n",
            " 11  Consumer consent provided?    208151 non-null  object\n",
            " 12  Submitted via                 670598 non-null  object\n",
            " 13  Date sent to company          670598 non-null  object\n",
            " 14  Company response to consumer  670598 non-null  object\n",
            " 15  Timely response?              670598 non-null  object\n",
            " 16  Consumer disputed?            629179 non-null  object\n",
            " 17  Complaint ID                  670598 non-null  int64 \n",
            "dtypes: int64(1), object(17)\n",
            "memory usage: 92.1+ MB\n"
          ]
        }
      ]
    },
    {
      "cell_type": "code",
      "source": [
        "datos.groupby(['Product']).count()"
      ],
      "metadata": {
        "colab": {
          "base_uri": "https://localhost:8080/",
          "height": 799
        },
        "id": "nS_xhGsS6i0E",
        "outputId": "e97f7558-7ce6-4fb2-9d46-4c5ee5a9fe0d"
      },
      "execution_count": 192,
      "outputs": [
        {
          "output_type": "execute_result",
          "data": {
            "text/plain": [
              "                         Date received  Sub-product   Issue  Sub-issue  \\\n",
              "Product                                                                  \n",
              "Bank account or service          76084        76084   76084          0   \n",
              "Consumer Loan                    26604        26604   26604          0   \n",
              "Credit card                      79007            0   79007          0   \n",
              "Credit reporting                119195            0  119195     119195   \n",
              "Debt collection                 124236       124236  124236     124236   \n",
              "Money transfers                   4720         4720    4720          0   \n",
              "Mortgage                        210324       210324  210324          0   \n",
              "Other financial service            806          806     806          0   \n",
              "Payday loan                       4786         4786    4786       4786   \n",
              "Prepaid card                      3171         3171    3171          0   \n",
              "Student loan                     21651        21651   21651      21651   \n",
              "Virtual currency                    14           14      14          0   \n",
              "\n",
              "                         Consumer complaint narrative  \\\n",
              "Product                                                 \n",
              "Bank account or service                         10425   \n",
              "Consumer Loan                                    6394   \n",
              "Credit card                                     13582   \n",
              "Credit reporting                                22202   \n",
              "Debt collection                                 28861   \n",
              "Money transfers                                  1074   \n",
              "Mortgage                                        24641   \n",
              "Other financial service                           176   \n",
              "Payday loan                                      1245   \n",
              "Prepaid card                                     1144   \n",
              "Student loan                                     4948   \n",
              "Virtual currency                                   12   \n",
              "\n",
              "                         Company public response  Company   State  ZIP code  \\\n",
              "Product                                                                       \n",
              "Bank account or service                    18113    76084   74707     74707   \n",
              "Consumer Loan                               5700    26604   26444     26443   \n",
              "Credit card                                15283    79007   78335     78336   \n",
              "Credit reporting                           40255   119195  118669    118665   \n",
              "Debt collection                            27873   124236  123488    123479   \n",
              "Money transfers                              509     4720    4540      4540   \n",
              "Mortgage                                   33028   210324  208905    208900   \n",
              "Other financial service                      282      806     788       787   \n",
              "Payday loan                                  840     4786    4765      4765   \n",
              "Prepaid card                                 731     3171    3135      3135   \n",
              "Student loan                                2578    21651   21504     21504   \n",
              "Virtual currency                               5       14      13        13   \n",
              "\n",
              "                          Tags  Consumer consent provided?  Submitted via  \\\n",
              "Product                                                                     \n",
              "Bank account or service  10357                       16887          76084   \n",
              "Consumer Loan             4412                       10513          26604   \n",
              "Credit card              11890                       23006          79007   \n",
              "Credit reporting         15130                       49115         119195   \n",
              "Debt collection          20746                       50054         124236   \n",
              "Money transfers            924                        1697           4720   \n",
              "Mortgage                 28275                       44233         210324   \n",
              "Other financial service    163                         319            806   \n",
              "Payday loan                794                        2141           4786   \n",
              "Prepaid card               372                        1802           3171   \n",
              "Student loan              1667                        8371          21651   \n",
              "Virtual currency             0                          13             14   \n",
              "\n",
              "                         Date sent to company  Company response to consumer  \\\n",
              "Product                                                                       \n",
              "Bank account or service                 76084                         76084   \n",
              "Consumer Loan                           26604                         26604   \n",
              "Credit card                             79007                         79007   \n",
              "Credit reporting                       119195                        119195   \n",
              "Debt collection                        124236                        124236   \n",
              "Money transfers                          4720                          4720   \n",
              "Mortgage                               210324                        210324   \n",
              "Other financial service                   806                           806   \n",
              "Payday loan                              4786                          4786   \n",
              "Prepaid card                             3171                          3171   \n",
              "Student loan                            21651                         21651   \n",
              "Virtual currency                           14                            14   \n",
              "\n",
              "                         Timely response?  Consumer disputed?  Complaint ID  \n",
              "Product                                                                      \n",
              "Bank account or service             76084               71642         76084  \n",
              "Consumer Loan                       26604               24707         26604  \n",
              "Credit card                         79007               75259         79007  \n",
              "Credit reporting                   119195              109039        119195  \n",
              "Debt collection                    124236              114668        124236  \n",
              "Money transfers                      4720                4425          4720  \n",
              "Mortgage                           210324              201416        210324  \n",
              "Other financial service               806                 699           806  \n",
              "Payday loan                          4786                4292          4786  \n",
              "Prepaid card                         3171                2981          3171  \n",
              "Student loan                        21651               20037         21651  \n",
              "Virtual currency                       14                  14            14  "
            ],
            "text/html": [
              "\n",
              "  <div id=\"df-89410a2a-ac6c-4457-805e-33365610b736\">\n",
              "    <div class=\"colab-df-container\">\n",
              "      <div>\n",
              "<style scoped>\n",
              "    .dataframe tbody tr th:only-of-type {\n",
              "        vertical-align: middle;\n",
              "    }\n",
              "\n",
              "    .dataframe tbody tr th {\n",
              "        vertical-align: top;\n",
              "    }\n",
              "\n",
              "    .dataframe thead th {\n",
              "        text-align: right;\n",
              "    }\n",
              "</style>\n",
              "<table border=\"1\" class=\"dataframe\">\n",
              "  <thead>\n",
              "    <tr style=\"text-align: right;\">\n",
              "      <th></th>\n",
              "      <th>Date received</th>\n",
              "      <th>Sub-product</th>\n",
              "      <th>Issue</th>\n",
              "      <th>Sub-issue</th>\n",
              "      <th>Consumer complaint narrative</th>\n",
              "      <th>Company public response</th>\n",
              "      <th>Company</th>\n",
              "      <th>State</th>\n",
              "      <th>ZIP code</th>\n",
              "      <th>Tags</th>\n",
              "      <th>Consumer consent provided?</th>\n",
              "      <th>Submitted via</th>\n",
              "      <th>Date sent to company</th>\n",
              "      <th>Company response to consumer</th>\n",
              "      <th>Timely response?</th>\n",
              "      <th>Consumer disputed?</th>\n",
              "      <th>Complaint ID</th>\n",
              "    </tr>\n",
              "    <tr>\n",
              "      <th>Product</th>\n",
              "      <th></th>\n",
              "      <th></th>\n",
              "      <th></th>\n",
              "      <th></th>\n",
              "      <th></th>\n",
              "      <th></th>\n",
              "      <th></th>\n",
              "      <th></th>\n",
              "      <th></th>\n",
              "      <th></th>\n",
              "      <th></th>\n",
              "      <th></th>\n",
              "      <th></th>\n",
              "      <th></th>\n",
              "      <th></th>\n",
              "      <th></th>\n",
              "      <th></th>\n",
              "    </tr>\n",
              "  </thead>\n",
              "  <tbody>\n",
              "    <tr>\n",
              "      <th>Bank account or service</th>\n",
              "      <td>76084</td>\n",
              "      <td>76084</td>\n",
              "      <td>76084</td>\n",
              "      <td>0</td>\n",
              "      <td>10425</td>\n",
              "      <td>18113</td>\n",
              "      <td>76084</td>\n",
              "      <td>74707</td>\n",
              "      <td>74707</td>\n",
              "      <td>10357</td>\n",
              "      <td>16887</td>\n",
              "      <td>76084</td>\n",
              "      <td>76084</td>\n",
              "      <td>76084</td>\n",
              "      <td>76084</td>\n",
              "      <td>71642</td>\n",
              "      <td>76084</td>\n",
              "    </tr>\n",
              "    <tr>\n",
              "      <th>Consumer Loan</th>\n",
              "      <td>26604</td>\n",
              "      <td>26604</td>\n",
              "      <td>26604</td>\n",
              "      <td>0</td>\n",
              "      <td>6394</td>\n",
              "      <td>5700</td>\n",
              "      <td>26604</td>\n",
              "      <td>26444</td>\n",
              "      <td>26443</td>\n",
              "      <td>4412</td>\n",
              "      <td>10513</td>\n",
              "      <td>26604</td>\n",
              "      <td>26604</td>\n",
              "      <td>26604</td>\n",
              "      <td>26604</td>\n",
              "      <td>24707</td>\n",
              "      <td>26604</td>\n",
              "    </tr>\n",
              "    <tr>\n",
              "      <th>Credit card</th>\n",
              "      <td>79007</td>\n",
              "      <td>0</td>\n",
              "      <td>79007</td>\n",
              "      <td>0</td>\n",
              "      <td>13582</td>\n",
              "      <td>15283</td>\n",
              "      <td>79007</td>\n",
              "      <td>78335</td>\n",
              "      <td>78336</td>\n",
              "      <td>11890</td>\n",
              "      <td>23006</td>\n",
              "      <td>79007</td>\n",
              "      <td>79007</td>\n",
              "      <td>79007</td>\n",
              "      <td>79007</td>\n",
              "      <td>75259</td>\n",
              "      <td>79007</td>\n",
              "    </tr>\n",
              "    <tr>\n",
              "      <th>Credit reporting</th>\n",
              "      <td>119195</td>\n",
              "      <td>0</td>\n",
              "      <td>119195</td>\n",
              "      <td>119195</td>\n",
              "      <td>22202</td>\n",
              "      <td>40255</td>\n",
              "      <td>119195</td>\n",
              "      <td>118669</td>\n",
              "      <td>118665</td>\n",
              "      <td>15130</td>\n",
              "      <td>49115</td>\n",
              "      <td>119195</td>\n",
              "      <td>119195</td>\n",
              "      <td>119195</td>\n",
              "      <td>119195</td>\n",
              "      <td>109039</td>\n",
              "      <td>119195</td>\n",
              "    </tr>\n",
              "    <tr>\n",
              "      <th>Debt collection</th>\n",
              "      <td>124236</td>\n",
              "      <td>124236</td>\n",
              "      <td>124236</td>\n",
              "      <td>124236</td>\n",
              "      <td>28861</td>\n",
              "      <td>27873</td>\n",
              "      <td>124236</td>\n",
              "      <td>123488</td>\n",
              "      <td>123479</td>\n",
              "      <td>20746</td>\n",
              "      <td>50054</td>\n",
              "      <td>124236</td>\n",
              "      <td>124236</td>\n",
              "      <td>124236</td>\n",
              "      <td>124236</td>\n",
              "      <td>114668</td>\n",
              "      <td>124236</td>\n",
              "    </tr>\n",
              "    <tr>\n",
              "      <th>Money transfers</th>\n",
              "      <td>4720</td>\n",
              "      <td>4720</td>\n",
              "      <td>4720</td>\n",
              "      <td>0</td>\n",
              "      <td>1074</td>\n",
              "      <td>509</td>\n",
              "      <td>4720</td>\n",
              "      <td>4540</td>\n",
              "      <td>4540</td>\n",
              "      <td>924</td>\n",
              "      <td>1697</td>\n",
              "      <td>4720</td>\n",
              "      <td>4720</td>\n",
              "      <td>4720</td>\n",
              "      <td>4720</td>\n",
              "      <td>4425</td>\n",
              "      <td>4720</td>\n",
              "    </tr>\n",
              "    <tr>\n",
              "      <th>Mortgage</th>\n",
              "      <td>210324</td>\n",
              "      <td>210324</td>\n",
              "      <td>210324</td>\n",
              "      <td>0</td>\n",
              "      <td>24641</td>\n",
              "      <td>33028</td>\n",
              "      <td>210324</td>\n",
              "      <td>208905</td>\n",
              "      <td>208900</td>\n",
              "      <td>28275</td>\n",
              "      <td>44233</td>\n",
              "      <td>210324</td>\n",
              "      <td>210324</td>\n",
              "      <td>210324</td>\n",
              "      <td>210324</td>\n",
              "      <td>201416</td>\n",
              "      <td>210324</td>\n",
              "    </tr>\n",
              "    <tr>\n",
              "      <th>Other financial service</th>\n",
              "      <td>806</td>\n",
              "      <td>806</td>\n",
              "      <td>806</td>\n",
              "      <td>0</td>\n",
              "      <td>176</td>\n",
              "      <td>282</td>\n",
              "      <td>806</td>\n",
              "      <td>788</td>\n",
              "      <td>787</td>\n",
              "      <td>163</td>\n",
              "      <td>319</td>\n",
              "      <td>806</td>\n",
              "      <td>806</td>\n",
              "      <td>806</td>\n",
              "      <td>806</td>\n",
              "      <td>699</td>\n",
              "      <td>806</td>\n",
              "    </tr>\n",
              "    <tr>\n",
              "      <th>Payday loan</th>\n",
              "      <td>4786</td>\n",
              "      <td>4786</td>\n",
              "      <td>4786</td>\n",
              "      <td>4786</td>\n",
              "      <td>1245</td>\n",
              "      <td>840</td>\n",
              "      <td>4786</td>\n",
              "      <td>4765</td>\n",
              "      <td>4765</td>\n",
              "      <td>794</td>\n",
              "      <td>2141</td>\n",
              "      <td>4786</td>\n",
              "      <td>4786</td>\n",
              "      <td>4786</td>\n",
              "      <td>4786</td>\n",
              "      <td>4292</td>\n",
              "      <td>4786</td>\n",
              "    </tr>\n",
              "    <tr>\n",
              "      <th>Prepaid card</th>\n",
              "      <td>3171</td>\n",
              "      <td>3171</td>\n",
              "      <td>3171</td>\n",
              "      <td>0</td>\n",
              "      <td>1144</td>\n",
              "      <td>731</td>\n",
              "      <td>3171</td>\n",
              "      <td>3135</td>\n",
              "      <td>3135</td>\n",
              "      <td>372</td>\n",
              "      <td>1802</td>\n",
              "      <td>3171</td>\n",
              "      <td>3171</td>\n",
              "      <td>3171</td>\n",
              "      <td>3171</td>\n",
              "      <td>2981</td>\n",
              "      <td>3171</td>\n",
              "    </tr>\n",
              "    <tr>\n",
              "      <th>Student loan</th>\n",
              "      <td>21651</td>\n",
              "      <td>21651</td>\n",
              "      <td>21651</td>\n",
              "      <td>21651</td>\n",
              "      <td>4948</td>\n",
              "      <td>2578</td>\n",
              "      <td>21651</td>\n",
              "      <td>21504</td>\n",
              "      <td>21504</td>\n",
              "      <td>1667</td>\n",
              "      <td>8371</td>\n",
              "      <td>21651</td>\n",
              "      <td>21651</td>\n",
              "      <td>21651</td>\n",
              "      <td>21651</td>\n",
              "      <td>20037</td>\n",
              "      <td>21651</td>\n",
              "    </tr>\n",
              "    <tr>\n",
              "      <th>Virtual currency</th>\n",
              "      <td>14</td>\n",
              "      <td>14</td>\n",
              "      <td>14</td>\n",
              "      <td>0</td>\n",
              "      <td>12</td>\n",
              "      <td>5</td>\n",
              "      <td>14</td>\n",
              "      <td>13</td>\n",
              "      <td>13</td>\n",
              "      <td>0</td>\n",
              "      <td>13</td>\n",
              "      <td>14</td>\n",
              "      <td>14</td>\n",
              "      <td>14</td>\n",
              "      <td>14</td>\n",
              "      <td>14</td>\n",
              "      <td>14</td>\n",
              "    </tr>\n",
              "  </tbody>\n",
              "</table>\n",
              "</div>\n",
              "      <button class=\"colab-df-convert\" onclick=\"convertToInteractive('df-89410a2a-ac6c-4457-805e-33365610b736')\"\n",
              "              title=\"Convert this dataframe to an interactive table.\"\n",
              "              style=\"display:none;\">\n",
              "        \n",
              "  <svg xmlns=\"http://www.w3.org/2000/svg\" height=\"24px\"viewBox=\"0 0 24 24\"\n",
              "       width=\"24px\">\n",
              "    <path d=\"M0 0h24v24H0V0z\" fill=\"none\"/>\n",
              "    <path d=\"M18.56 5.44l.94 2.06.94-2.06 2.06-.94-2.06-.94-.94-2.06-.94 2.06-2.06.94zm-11 1L8.5 8.5l.94-2.06 2.06-.94-2.06-.94L8.5 2.5l-.94 2.06-2.06.94zm10 10l.94 2.06.94-2.06 2.06-.94-2.06-.94-.94-2.06-.94 2.06-2.06.94z\"/><path d=\"M17.41 7.96l-1.37-1.37c-.4-.4-.92-.59-1.43-.59-.52 0-1.04.2-1.43.59L10.3 9.45l-7.72 7.72c-.78.78-.78 2.05 0 2.83L4 21.41c.39.39.9.59 1.41.59.51 0 1.02-.2 1.41-.59l7.78-7.78 2.81-2.81c.8-.78.8-2.07 0-2.86zM5.41 20L4 18.59l7.72-7.72 1.47 1.35L5.41 20z\"/>\n",
              "  </svg>\n",
              "      </button>\n",
              "      \n",
              "  <style>\n",
              "    .colab-df-container {\n",
              "      display:flex;\n",
              "      flex-wrap:wrap;\n",
              "      gap: 12px;\n",
              "    }\n",
              "\n",
              "    .colab-df-convert {\n",
              "      background-color: #E8F0FE;\n",
              "      border: none;\n",
              "      border-radius: 50%;\n",
              "      cursor: pointer;\n",
              "      display: none;\n",
              "      fill: #1967D2;\n",
              "      height: 32px;\n",
              "      padding: 0 0 0 0;\n",
              "      width: 32px;\n",
              "    }\n",
              "\n",
              "    .colab-df-convert:hover {\n",
              "      background-color: #E2EBFA;\n",
              "      box-shadow: 0px 1px 2px rgba(60, 64, 67, 0.3), 0px 1px 3px 1px rgba(60, 64, 67, 0.15);\n",
              "      fill: #174EA6;\n",
              "    }\n",
              "\n",
              "    [theme=dark] .colab-df-convert {\n",
              "      background-color: #3B4455;\n",
              "      fill: #D2E3FC;\n",
              "    }\n",
              "\n",
              "    [theme=dark] .colab-df-convert:hover {\n",
              "      background-color: #434B5C;\n",
              "      box-shadow: 0px 1px 3px 1px rgba(0, 0, 0, 0.15);\n",
              "      filter: drop-shadow(0px 1px 2px rgba(0, 0, 0, 0.3));\n",
              "      fill: #FFFFFF;\n",
              "    }\n",
              "  </style>\n",
              "\n",
              "      <script>\n",
              "        const buttonEl =\n",
              "          document.querySelector('#df-89410a2a-ac6c-4457-805e-33365610b736 button.colab-df-convert');\n",
              "        buttonEl.style.display =\n",
              "          google.colab.kernel.accessAllowed ? 'block' : 'none';\n",
              "\n",
              "        async function convertToInteractive(key) {\n",
              "          const element = document.querySelector('#df-89410a2a-ac6c-4457-805e-33365610b736');\n",
              "          const dataTable =\n",
              "            await google.colab.kernel.invokeFunction('convertToInteractive',\n",
              "                                                     [key], {});\n",
              "          if (!dataTable) return;\n",
              "\n",
              "          const docLinkHtml = 'Like what you see? Visit the ' +\n",
              "            '<a target=\"_blank\" href=https://colab.research.google.com/notebooks/data_table.ipynb>data table notebook</a>'\n",
              "            + ' to learn more about interactive tables.';\n",
              "          element.innerHTML = '';\n",
              "          dataTable['output_type'] = 'display_data';\n",
              "          await google.colab.output.renderOutput(dataTable, element);\n",
              "          const docLink = document.createElement('div');\n",
              "          docLink.innerHTML = docLinkHtml;\n",
              "          element.appendChild(docLink);\n",
              "        }\n",
              "      </script>\n",
              "    </div>\n",
              "  </div>\n",
              "  "
            ]
          },
          "metadata": {},
          "execution_count": 192
        }
      ]
    },
    {
      "cell_type": "code",
      "source": [
        "conditionlist = [\n",
        "    (datos['Product']=='Bank account or service') ,\n",
        "    (datos['Product']=='Consumer Loan'),\n",
        "    (datos['Product']=='Credit card'),\n",
        "    (datos['Product']=='Credit reporting'),\n",
        "    (datos['Product']=='Debt collection'),\n",
        "    (datos['Product']=='Money transfers'),\n",
        "    (datos['Product']=='Mortgage'),\n",
        "    (datos['Product']=='Other financial service'),\n",
        "    (datos['Product']=='Payday loan'),\n",
        "    (datos['Product']=='Prepaid card'),\n",
        "    (datos['Product']=='Student loan'),\n",
        "    (datos['Product']=='Virtual currency')]\n",
        "choicelist = [1,2,3,4,5,6,7,8,9,10,11,12]\n",
        "datos['Product_cod'] = np.select(conditionlist, choicelist)"
      ],
      "metadata": {
        "id": "on-O0b7wFF-f"
      },
      "execution_count": 193,
      "outputs": []
    },
    {
      "cell_type": "code",
      "source": [
        "conditionlist_res = [\n",
        "    (datos['Company response to consumer']=='Closed with explanation') ,\n",
        "    (datos['Company response to consumer']=='Closed'),\n",
        "    (datos['Company response to consumer']=='Closed with non-monetary relief'),\n",
        "    (datos['Company response to consumer']=='Closed with monetary relief'),\n",
        "    (datos['Company response to consumer']=='Untimely response'),\n",
        "    (datos['Company response to consumer']=='Closed without relief'),\n",
        "    (datos['Company response to consumer']=='Closed with relief'),\n",
        "    (datos['Company response to consumer']=='In progress')]\n",
        "choicelist_res = [1,1,1,1,0,1,1,0]\n",
        "datos['Response_company_cod'] = np.select(conditionlist_res, choicelist_res)"
      ],
      "metadata": {
        "id": "v3Ck33cZDxIs"
      },
      "execution_count": 194,
      "outputs": []
    },
    {
      "cell_type": "code",
      "source": [
        "datos.describe()"
      ],
      "metadata": {
        "colab": {
          "base_uri": "https://localhost:8080/",
          "height": 300
        },
        "id": "B4CBeLCaOz90",
        "outputId": "182e5ed4-bf81-4998-c9ea-3c95711be81f"
      },
      "execution_count": 195,
      "outputs": [
        {
          "output_type": "execute_result",
          "data": {
            "text/plain": [
              "       Complaint ID    Product_cod  Response_company_cod\n",
              "count  6.705980e+05  670598.000000         670598.000000\n",
              "mean   1.145473e+06       4.897751              0.987717\n",
              "std    6.468630e+05       2.340737              0.110146\n",
              "min    1.000000e+00       1.000000              0.000000\n",
              "25%    5.930575e+05       3.000000              1.000000\n",
              "50%    1.174558e+06       5.000000              1.000000\n",
              "75%    1.718337e+06       7.000000              1.000000\n",
              "max    2.218987e+06      12.000000              1.000000"
            ],
            "text/html": [
              "\n",
              "  <div id=\"df-88354e4c-fd02-4a37-af37-1d6b14854294\">\n",
              "    <div class=\"colab-df-container\">\n",
              "      <div>\n",
              "<style scoped>\n",
              "    .dataframe tbody tr th:only-of-type {\n",
              "        vertical-align: middle;\n",
              "    }\n",
              "\n",
              "    .dataframe tbody tr th {\n",
              "        vertical-align: top;\n",
              "    }\n",
              "\n",
              "    .dataframe thead th {\n",
              "        text-align: right;\n",
              "    }\n",
              "</style>\n",
              "<table border=\"1\" class=\"dataframe\">\n",
              "  <thead>\n",
              "    <tr style=\"text-align: right;\">\n",
              "      <th></th>\n",
              "      <th>Complaint ID</th>\n",
              "      <th>Product_cod</th>\n",
              "      <th>Response_company_cod</th>\n",
              "    </tr>\n",
              "  </thead>\n",
              "  <tbody>\n",
              "    <tr>\n",
              "      <th>count</th>\n",
              "      <td>6.705980e+05</td>\n",
              "      <td>670598.000000</td>\n",
              "      <td>670598.000000</td>\n",
              "    </tr>\n",
              "    <tr>\n",
              "      <th>mean</th>\n",
              "      <td>1.145473e+06</td>\n",
              "      <td>4.897751</td>\n",
              "      <td>0.987717</td>\n",
              "    </tr>\n",
              "    <tr>\n",
              "      <th>std</th>\n",
              "      <td>6.468630e+05</td>\n",
              "      <td>2.340737</td>\n",
              "      <td>0.110146</td>\n",
              "    </tr>\n",
              "    <tr>\n",
              "      <th>min</th>\n",
              "      <td>1.000000e+00</td>\n",
              "      <td>1.000000</td>\n",
              "      <td>0.000000</td>\n",
              "    </tr>\n",
              "    <tr>\n",
              "      <th>25%</th>\n",
              "      <td>5.930575e+05</td>\n",
              "      <td>3.000000</td>\n",
              "      <td>1.000000</td>\n",
              "    </tr>\n",
              "    <tr>\n",
              "      <th>50%</th>\n",
              "      <td>1.174558e+06</td>\n",
              "      <td>5.000000</td>\n",
              "      <td>1.000000</td>\n",
              "    </tr>\n",
              "    <tr>\n",
              "      <th>75%</th>\n",
              "      <td>1.718337e+06</td>\n",
              "      <td>7.000000</td>\n",
              "      <td>1.000000</td>\n",
              "    </tr>\n",
              "    <tr>\n",
              "      <th>max</th>\n",
              "      <td>2.218987e+06</td>\n",
              "      <td>12.000000</td>\n",
              "      <td>1.000000</td>\n",
              "    </tr>\n",
              "  </tbody>\n",
              "</table>\n",
              "</div>\n",
              "      <button class=\"colab-df-convert\" onclick=\"convertToInteractive('df-88354e4c-fd02-4a37-af37-1d6b14854294')\"\n",
              "              title=\"Convert this dataframe to an interactive table.\"\n",
              "              style=\"display:none;\">\n",
              "        \n",
              "  <svg xmlns=\"http://www.w3.org/2000/svg\" height=\"24px\"viewBox=\"0 0 24 24\"\n",
              "       width=\"24px\">\n",
              "    <path d=\"M0 0h24v24H0V0z\" fill=\"none\"/>\n",
              "    <path d=\"M18.56 5.44l.94 2.06.94-2.06 2.06-.94-2.06-.94-.94-2.06-.94 2.06-2.06.94zm-11 1L8.5 8.5l.94-2.06 2.06-.94-2.06-.94L8.5 2.5l-.94 2.06-2.06.94zm10 10l.94 2.06.94-2.06 2.06-.94-2.06-.94-.94-2.06-.94 2.06-2.06.94z\"/><path d=\"M17.41 7.96l-1.37-1.37c-.4-.4-.92-.59-1.43-.59-.52 0-1.04.2-1.43.59L10.3 9.45l-7.72 7.72c-.78.78-.78 2.05 0 2.83L4 21.41c.39.39.9.59 1.41.59.51 0 1.02-.2 1.41-.59l7.78-7.78 2.81-2.81c.8-.78.8-2.07 0-2.86zM5.41 20L4 18.59l7.72-7.72 1.47 1.35L5.41 20z\"/>\n",
              "  </svg>\n",
              "      </button>\n",
              "      \n",
              "  <style>\n",
              "    .colab-df-container {\n",
              "      display:flex;\n",
              "      flex-wrap:wrap;\n",
              "      gap: 12px;\n",
              "    }\n",
              "\n",
              "    .colab-df-convert {\n",
              "      background-color: #E8F0FE;\n",
              "      border: none;\n",
              "      border-radius: 50%;\n",
              "      cursor: pointer;\n",
              "      display: none;\n",
              "      fill: #1967D2;\n",
              "      height: 32px;\n",
              "      padding: 0 0 0 0;\n",
              "      width: 32px;\n",
              "    }\n",
              "\n",
              "    .colab-df-convert:hover {\n",
              "      background-color: #E2EBFA;\n",
              "      box-shadow: 0px 1px 2px rgba(60, 64, 67, 0.3), 0px 1px 3px 1px rgba(60, 64, 67, 0.15);\n",
              "      fill: #174EA6;\n",
              "    }\n",
              "\n",
              "    [theme=dark] .colab-df-convert {\n",
              "      background-color: #3B4455;\n",
              "      fill: #D2E3FC;\n",
              "    }\n",
              "\n",
              "    [theme=dark] .colab-df-convert:hover {\n",
              "      background-color: #434B5C;\n",
              "      box-shadow: 0px 1px 3px 1px rgba(0, 0, 0, 0.15);\n",
              "      filter: drop-shadow(0px 1px 2px rgba(0, 0, 0, 0.3));\n",
              "      fill: #FFFFFF;\n",
              "    }\n",
              "  </style>\n",
              "\n",
              "      <script>\n",
              "        const buttonEl =\n",
              "          document.querySelector('#df-88354e4c-fd02-4a37-af37-1d6b14854294 button.colab-df-convert');\n",
              "        buttonEl.style.display =\n",
              "          google.colab.kernel.accessAllowed ? 'block' : 'none';\n",
              "\n",
              "        async function convertToInteractive(key) {\n",
              "          const element = document.querySelector('#df-88354e4c-fd02-4a37-af37-1d6b14854294');\n",
              "          const dataTable =\n",
              "            await google.colab.kernel.invokeFunction('convertToInteractive',\n",
              "                                                     [key], {});\n",
              "          if (!dataTable) return;\n",
              "\n",
              "          const docLinkHtml = 'Like what you see? Visit the ' +\n",
              "            '<a target=\"_blank\" href=https://colab.research.google.com/notebooks/data_table.ipynb>data table notebook</a>'\n",
              "            + ' to learn more about interactive tables.';\n",
              "          element.innerHTML = '';\n",
              "          dataTable['output_type'] = 'display_data';\n",
              "          await google.colab.output.renderOutput(dataTable, element);\n",
              "          const docLink = document.createElement('div');\n",
              "          docLink.innerHTML = docLinkHtml;\n",
              "          element.appendChild(docLink);\n",
              "        }\n",
              "      </script>\n",
              "    </div>\n",
              "  </div>\n",
              "  "
            ]
          },
          "metadata": {},
          "execution_count": 195
        }
      ]
    },
    {
      "cell_type": "code",
      "source": [
        "datos.describe(include='object')"
      ],
      "metadata": {
        "colab": {
          "base_uri": "https://localhost:8080/",
          "height": 378
        },
        "id": "9V7DXYfpPw3z",
        "outputId": "21c06164-308d-417d-d8e1-cf9b22d2d449"
      },
      "execution_count": 196,
      "outputs": [
        {
          "output_type": "execute_result",
          "data": {
            "text/plain": [
              "       Date received   Product     Sub-product  \\\n",
              "count         670598    670598          472396   \n",
              "unique          1818        12              47   \n",
              "top       08/27/2015  Mortgage  Other mortgage   \n",
              "freq             963    210324           81715   \n",
              "\n",
              "                                           Issue       Sub-issue  \\\n",
              "count                                     670598          269868   \n",
              "unique                                        95              68   \n",
              "top     Loan modification,collection,foreclosure  Account status   \n",
              "freq                                      106455           32633   \n",
              "\n",
              "                             Consumer complaint narrative  \\\n",
              "count                                              114704   \n",
              "unique                                             112690   \n",
              "top     I am filing this complaint because Experian ha...   \n",
              "freq                                                  102   \n",
              "\n",
              "                                  Company public response          Company  \\\n",
              "count                                              145197           670598   \n",
              "unique                                                 10             3933   \n",
              "top     Company has responded to the consumer and the ...  Bank of America   \n",
              "freq                                                57364            61720   \n",
              "\n",
              "         State ZIP code            Tags Consumer consent provided?  \\\n",
              "count   665293   665274           94730                     208151   \n",
              "unique      62    27889               3                          4   \n",
              "top         CA    300XX  Older American           Consent provided   \n",
              "freq     97640     2147           54881                     114704   \n",
              "\n",
              "       Submitted via Date sent to company Company response to consumer  \\\n",
              "count         670598               670598                       670598   \n",
              "unique             6                 1767                            8   \n",
              "top              Web           11/13/2015      Closed with explanation   \n",
              "freq          446035                 1108                       493981   \n",
              "\n",
              "       Timely response? Consumer disputed?  \n",
              "count            670598             629179  \n",
              "unique                2                  2  \n",
              "top                 Yes                 No  \n",
              "freq             652848             496466  "
            ],
            "text/html": [
              "\n",
              "  <div id=\"df-1660cb15-a1e3-4697-aeeb-9d333877ffee\">\n",
              "    <div class=\"colab-df-container\">\n",
              "      <div>\n",
              "<style scoped>\n",
              "    .dataframe tbody tr th:only-of-type {\n",
              "        vertical-align: middle;\n",
              "    }\n",
              "\n",
              "    .dataframe tbody tr th {\n",
              "        vertical-align: top;\n",
              "    }\n",
              "\n",
              "    .dataframe thead th {\n",
              "        text-align: right;\n",
              "    }\n",
              "</style>\n",
              "<table border=\"1\" class=\"dataframe\">\n",
              "  <thead>\n",
              "    <tr style=\"text-align: right;\">\n",
              "      <th></th>\n",
              "      <th>Date received</th>\n",
              "      <th>Product</th>\n",
              "      <th>Sub-product</th>\n",
              "      <th>Issue</th>\n",
              "      <th>Sub-issue</th>\n",
              "      <th>Consumer complaint narrative</th>\n",
              "      <th>Company public response</th>\n",
              "      <th>Company</th>\n",
              "      <th>State</th>\n",
              "      <th>ZIP code</th>\n",
              "      <th>Tags</th>\n",
              "      <th>Consumer consent provided?</th>\n",
              "      <th>Submitted via</th>\n",
              "      <th>Date sent to company</th>\n",
              "      <th>Company response to consumer</th>\n",
              "      <th>Timely response?</th>\n",
              "      <th>Consumer disputed?</th>\n",
              "    </tr>\n",
              "  </thead>\n",
              "  <tbody>\n",
              "    <tr>\n",
              "      <th>count</th>\n",
              "      <td>670598</td>\n",
              "      <td>670598</td>\n",
              "      <td>472396</td>\n",
              "      <td>670598</td>\n",
              "      <td>269868</td>\n",
              "      <td>114704</td>\n",
              "      <td>145197</td>\n",
              "      <td>670598</td>\n",
              "      <td>665293</td>\n",
              "      <td>665274</td>\n",
              "      <td>94730</td>\n",
              "      <td>208151</td>\n",
              "      <td>670598</td>\n",
              "      <td>670598</td>\n",
              "      <td>670598</td>\n",
              "      <td>670598</td>\n",
              "      <td>629179</td>\n",
              "    </tr>\n",
              "    <tr>\n",
              "      <th>unique</th>\n",
              "      <td>1818</td>\n",
              "      <td>12</td>\n",
              "      <td>47</td>\n",
              "      <td>95</td>\n",
              "      <td>68</td>\n",
              "      <td>112690</td>\n",
              "      <td>10</td>\n",
              "      <td>3933</td>\n",
              "      <td>62</td>\n",
              "      <td>27889</td>\n",
              "      <td>3</td>\n",
              "      <td>4</td>\n",
              "      <td>6</td>\n",
              "      <td>1767</td>\n",
              "      <td>8</td>\n",
              "      <td>2</td>\n",
              "      <td>2</td>\n",
              "    </tr>\n",
              "    <tr>\n",
              "      <th>top</th>\n",
              "      <td>08/27/2015</td>\n",
              "      <td>Mortgage</td>\n",
              "      <td>Other mortgage</td>\n",
              "      <td>Loan modification,collection,foreclosure</td>\n",
              "      <td>Account status</td>\n",
              "      <td>I am filing this complaint because Experian ha...</td>\n",
              "      <td>Company has responded to the consumer and the ...</td>\n",
              "      <td>Bank of America</td>\n",
              "      <td>CA</td>\n",
              "      <td>300XX</td>\n",
              "      <td>Older American</td>\n",
              "      <td>Consent provided</td>\n",
              "      <td>Web</td>\n",
              "      <td>11/13/2015</td>\n",
              "      <td>Closed with explanation</td>\n",
              "      <td>Yes</td>\n",
              "      <td>No</td>\n",
              "    </tr>\n",
              "    <tr>\n",
              "      <th>freq</th>\n",
              "      <td>963</td>\n",
              "      <td>210324</td>\n",
              "      <td>81715</td>\n",
              "      <td>106455</td>\n",
              "      <td>32633</td>\n",
              "      <td>102</td>\n",
              "      <td>57364</td>\n",
              "      <td>61720</td>\n",
              "      <td>97640</td>\n",
              "      <td>2147</td>\n",
              "      <td>54881</td>\n",
              "      <td>114704</td>\n",
              "      <td>446035</td>\n",
              "      <td>1108</td>\n",
              "      <td>493981</td>\n",
              "      <td>652848</td>\n",
              "      <td>496466</td>\n",
              "    </tr>\n",
              "  </tbody>\n",
              "</table>\n",
              "</div>\n",
              "      <button class=\"colab-df-convert\" onclick=\"convertToInteractive('df-1660cb15-a1e3-4697-aeeb-9d333877ffee')\"\n",
              "              title=\"Convert this dataframe to an interactive table.\"\n",
              "              style=\"display:none;\">\n",
              "        \n",
              "  <svg xmlns=\"http://www.w3.org/2000/svg\" height=\"24px\"viewBox=\"0 0 24 24\"\n",
              "       width=\"24px\">\n",
              "    <path d=\"M0 0h24v24H0V0z\" fill=\"none\"/>\n",
              "    <path d=\"M18.56 5.44l.94 2.06.94-2.06 2.06-.94-2.06-.94-.94-2.06-.94 2.06-2.06.94zm-11 1L8.5 8.5l.94-2.06 2.06-.94-2.06-.94L8.5 2.5l-.94 2.06-2.06.94zm10 10l.94 2.06.94-2.06 2.06-.94-2.06-.94-.94-2.06-.94 2.06-2.06.94z\"/><path d=\"M17.41 7.96l-1.37-1.37c-.4-.4-.92-.59-1.43-.59-.52 0-1.04.2-1.43.59L10.3 9.45l-7.72 7.72c-.78.78-.78 2.05 0 2.83L4 21.41c.39.39.9.59 1.41.59.51 0 1.02-.2 1.41-.59l7.78-7.78 2.81-2.81c.8-.78.8-2.07 0-2.86zM5.41 20L4 18.59l7.72-7.72 1.47 1.35L5.41 20z\"/>\n",
              "  </svg>\n",
              "      </button>\n",
              "      \n",
              "  <style>\n",
              "    .colab-df-container {\n",
              "      display:flex;\n",
              "      flex-wrap:wrap;\n",
              "      gap: 12px;\n",
              "    }\n",
              "\n",
              "    .colab-df-convert {\n",
              "      background-color: #E8F0FE;\n",
              "      border: none;\n",
              "      border-radius: 50%;\n",
              "      cursor: pointer;\n",
              "      display: none;\n",
              "      fill: #1967D2;\n",
              "      height: 32px;\n",
              "      padding: 0 0 0 0;\n",
              "      width: 32px;\n",
              "    }\n",
              "\n",
              "    .colab-df-convert:hover {\n",
              "      background-color: #E2EBFA;\n",
              "      box-shadow: 0px 1px 2px rgba(60, 64, 67, 0.3), 0px 1px 3px 1px rgba(60, 64, 67, 0.15);\n",
              "      fill: #174EA6;\n",
              "    }\n",
              "\n",
              "    [theme=dark] .colab-df-convert {\n",
              "      background-color: #3B4455;\n",
              "      fill: #D2E3FC;\n",
              "    }\n",
              "\n",
              "    [theme=dark] .colab-df-convert:hover {\n",
              "      background-color: #434B5C;\n",
              "      box-shadow: 0px 1px 3px 1px rgba(0, 0, 0, 0.15);\n",
              "      filter: drop-shadow(0px 1px 2px rgba(0, 0, 0, 0.3));\n",
              "      fill: #FFFFFF;\n",
              "    }\n",
              "  </style>\n",
              "\n",
              "      <script>\n",
              "        const buttonEl =\n",
              "          document.querySelector('#df-1660cb15-a1e3-4697-aeeb-9d333877ffee button.colab-df-convert');\n",
              "        buttonEl.style.display =\n",
              "          google.colab.kernel.accessAllowed ? 'block' : 'none';\n",
              "\n",
              "        async function convertToInteractive(key) {\n",
              "          const element = document.querySelector('#df-1660cb15-a1e3-4697-aeeb-9d333877ffee');\n",
              "          const dataTable =\n",
              "            await google.colab.kernel.invokeFunction('convertToInteractive',\n",
              "                                                     [key], {});\n",
              "          if (!dataTable) return;\n",
              "\n",
              "          const docLinkHtml = 'Like what you see? Visit the ' +\n",
              "            '<a target=\"_blank\" href=https://colab.research.google.com/notebooks/data_table.ipynb>data table notebook</a>'\n",
              "            + ' to learn more about interactive tables.';\n",
              "          element.innerHTML = '';\n",
              "          dataTable['output_type'] = 'display_data';\n",
              "          await google.colab.output.renderOutput(dataTable, element);\n",
              "          const docLink = document.createElement('div');\n",
              "          docLink.innerHTML = docLinkHtml;\n",
              "          element.appendChild(docLink);\n",
              "        }\n",
              "      </script>\n",
              "    </div>\n",
              "  </div>\n",
              "  "
            ]
          },
          "metadata": {},
          "execution_count": 196
        }
      ]
    },
    {
      "cell_type": "markdown",
      "source": [
        "# Entendimiento de los datos "
      ],
      "metadata": {
        "id": "KcGWiyAgja8e"
      }
    },
    {
      "cell_type": "markdown",
      "source": [
        "# Datos vacíos"
      ],
      "metadata": {
        "id": "QxuKtWrblZlC"
      }
    },
    {
      "cell_type": "code",
      "source": [
        "#Configurar los gráficos\n",
        "plt.rcParams['figure.figsize']=(16,9)\n",
        "plt.style.use('ggplot')"
      ],
      "metadata": {
        "id": "VV0qMBb4ok_I"
      },
      "execution_count": 197,
      "outputs": []
    },
    {
      "cell_type": "code",
      "source": [
        "datosVacios=datos.isna().sum()"
      ],
      "metadata": {
        "id": "YgAZk56CjadY"
      },
      "execution_count": 206,
      "outputs": []
    },
    {
      "cell_type": "code",
      "source": [
        "#Total de datos vacíos en el dataset\n",
        "print(f\"El total de registros vacíos en el dataset es:{sum(datosVacios)}\")"
      ],
      "metadata": {
        "colab": {
          "base_uri": "https://localhost:8080/"
        },
        "id": "KOdUYRyWy8vR",
        "outputId": "bef8a3a3-19e0-4f4b-a975-8b671a245c02"
      },
      "execution_count": 207,
      "outputs": [
        {
          "output_type": "stream",
          "name": "stdout",
          "text": [
            "El total de registros vacíos en el dataset es:2770590\n"
          ]
        }
      ]
    },
    {
      "cell_type": "code",
      "source": [
        "eje_y=['Date received','Product','Sub-product','Issue','Sub-issue','Consumer complaint narrative','Company public response','Company','State','ZIP code','Tags','Consumer consent provided?','Submitted via','Date sent to company','Company response to consumer','Timely response?','Consumer disputed?','Complaint ID','Product_cod','Response_company_cod']"
      ],
      "metadata": {
        "id": "P2zGaykKp_n5"
      },
      "execution_count": 209,
      "outputs": []
    },
    {
      "cell_type": "code",
      "source": [
        "sb.barplot(x=datosVacios,y=eje_y)\n",
        "plt.show()"
      ],
      "metadata": {
        "colab": {
          "base_uri": "https://localhost:8080/",
          "height": 427
        },
        "id": "0gNLv2mBmXnI",
        "outputId": "e9967a93-0866-49cb-aff6-87f64aa67a44"
      },
      "execution_count": 210,
      "outputs": [
        {
          "output_type": "display_data",
          "data": {
            "text/plain": [
              "<Figure size 1152x648 with 1 Axes>"
            ],
            "image/png": "[encoded data removed]"
          },
          "metadata": {}
        }
      ]
    },
    {
      "cell_type": "code",
      "source": [
        "##Completitud de los datos \n",
        "datosCompletos=((670598-datosVacios)/670598)*100"
      ],
      "metadata": {
        "id": "8Q_fzIz9rhzQ"
      },
      "execution_count": 211,
      "outputs": []
    },
    {
      "cell_type": "code",
      "source": [
        "print(f\"Porcentaje de completitud de los datos:\\n{datosCompletos}\")"
      ],
      "metadata": {
        "colab": {
          "base_uri": "https://localhost:8080/"
        },
        "id": "cwCyxOcdrFRt",
        "outputId": "48579743-2a69-47d0-ffb2-a3cabc2dc81b"
      },
      "execution_count": 212,
      "outputs": [
        {
          "output_type": "stream",
          "name": "stdout",
          "text": [
            "Porcentaje de completitud de los datos:\n",
            "Date received                   100.000000\n",
            "Product                         100.000000\n",
            "Sub-product                      70.443992\n",
            "Issue                           100.000000\n",
            "Sub-issue                        40.242888\n",
            "Consumer complaint narrative     17.104733\n",
            "Company public response          21.651869\n",
            "Company                         100.000000\n",
            "State                            99.208915\n",
            "ZIP code                         99.206082\n",
            "Tags                             14.126198\n",
            "Consumer consent provided?       31.039609\n",
            "Submitted via                   100.000000\n",
            "Date sent to company            100.000000\n",
            "Company response to consumer    100.000000\n",
            "Timely response?                100.000000\n",
            "Consumer disputed?               93.823572\n",
            "Complaint ID                    100.000000\n",
            "Product_cod                     100.000000\n",
            "Response_company_cod            100.000000\n",
            "dtype: float64\n"
          ]
        }
      ]
    },
    {
      "cell_type": "markdown",
      "source": [
        "# Cantidad de quejas por producto"
      ],
      "metadata": {
        "id": "J5wHrF0xAFNi"
      }
    },
    {
      "cell_type": "code",
      "source": [
        "group_by_product_state=datos.groupby('Product').size()\n",
        "group_by_product_state.head()"
      ],
      "metadata": {
        "colab": {
          "base_uri": "https://localhost:8080/"
        },
        "id": "GgmdE71huTRa",
        "outputId": "ff4dcb9b-2d32-44d7-f261-a92f9928b9f9"
      },
      "execution_count": 213,
      "outputs": [
        {
          "output_type": "execute_result",
          "data": {
            "text/plain": [
              "Product\n",
              "Bank account or service     76084\n",
              "Consumer Loan               26604\n",
              "Credit card                 79007\n",
              "Credit reporting           119195\n",
              "Debt collection            124236\n",
              "dtype: int64"
            ]
          },
          "metadata": {},
          "execution_count": 213
        }
      ]
    },
    {
      "cell_type": "code",
      "source": [
        "axe_y_types=datos['Product'].unique()"
      ],
      "metadata": {
        "id": "EmOLtJ4B0aQQ"
      },
      "execution_count": 214,
      "outputs": []
    },
    {
      "cell_type": "code",
      "source": [
        "sb.barplot(x=group_by_product_state,y=axe_y_types)\n",
        "plt.show()"
      ],
      "metadata": {
        "colab": {
          "base_uri": "https://localhost:8080/",
          "height": 448
        },
        "id": "_mx93DU80yhr",
        "outputId": "e50305e1-9027-4c89-f85e-67e05baeaeab"
      },
      "execution_count": 215,
      "outputs": [
        {
          "output_type": "display_data",
          "data": {
            "text/plain": [
              "<Figure size 1152x648 with 1 Axes>"
            ],
            "image/png": "[encoded data removed]"
          },
          "metadata": {}
        }
      ]
    },
    {
      "cell_type": "markdown",
      "source": [
        "# Cantidad de quejas atendidas "
      ],
      "metadata": {
        "id": "GAtBc2L2ARz8"
      }
    },
    {
      "cell_type": "code",
      "source": [
        "group_by_product_response=datos.groupby('Company response to consumer').size()\n",
        "group_by_product_response.head()"
      ],
      "metadata": {
        "colab": {
          "base_uri": "https://localhost:8080/"
        },
        "id": "566RTePAAWWH",
        "outputId": "3ed3782d-dd9a-4df9-80e1-699c29d77120"
      },
      "execution_count": 216,
      "outputs": [
        {
          "output_type": "execute_result",
          "data": {
            "text/plain": [
              "Company response to consumer\n",
              "Closed                              15492\n",
              "Closed with explanation            493981\n",
              "Closed with monetary relief         45170\n",
              "Closed with non-monetary relief     84557\n",
              "Closed with relief                   5298\n",
              "dtype: int64"
            ]
          },
          "metadata": {},
          "execution_count": 216
        }
      ]
    },
    {
      "cell_type": "code",
      "source": [
        "axe_y_response=datos['Company response to consumer'].unique()"
      ],
      "metadata": {
        "id": "u_eR60LwAwzJ"
      },
      "execution_count": 217,
      "outputs": []
    },
    {
      "cell_type": "code",
      "source": [
        "sb.barplot(x=group_by_product_response,y=axe_y_response)\n",
        "plt.show()"
      ],
      "metadata": {
        "colab": {
          "base_uri": "https://localhost:8080/",
          "height": 432
        },
        "id": "GgcvCltNA2B5",
        "outputId": "e2980eeb-b070-461d-ac06-b6215ea17785"
      },
      "execution_count": 218,
      "outputs": [
        {
          "output_type": "display_data",
          "data": {
            "text/plain": [
              "<Figure size 1152x648 with 1 Axes>"
            ],
            "image/png": "[encoded data removed]"
          },
          "metadata": {}
        }
      ]
    },
    {
      "cell_type": "markdown",
      "source": [
        "# Selección de los datos a utilizar"
      ],
      "metadata": {
        "id": "Xesk0ObwBT6k"
      }
    },
    {
      "cell_type": "code",
      "source": [
        "##se eliminan las columnas que no se van a utilizar \n",
        "datosCom=datos.drop(['Response_company_cod','Product','Complaint ID','Date sent to company','Consumer disputed?','ZIP code','Sub-product','Sub-issue','Date received','Consumer complaint narrative','Company public response','Tags','Consumer consent provided?'],1)"
      ],
      "metadata": {
        "id": "ZlvN-SV4hcvU"
      },
      "execution_count": 219,
      "outputs": []
    },
    {
      "cell_type": "code",
      "source": [
        "datosCom.info()"
      ],
      "metadata": {
        "colab": {
          "base_uri": "https://localhost:8080/"
        },
        "id": "vSkn5n3cjhIc",
        "outputId": "620f8f9a-e565-461c-e33d-50396a42b93f"
      },
      "execution_count": 220,
      "outputs": [
        {
          "output_type": "stream",
          "name": "stdout",
          "text": [
            "<class 'pandas.core.frame.DataFrame'>\n",
            "RangeIndex: 670598 entries, 0 to 670597\n",
            "Data columns (total 7 columns):\n",
            " #   Column                        Non-Null Count   Dtype \n",
            "---  ------                        --------------   ----- \n",
            " 0   Issue                         670598 non-null  object\n",
            " 1   Company                       670598 non-null  object\n",
            " 2   State                         665293 non-null  object\n",
            " 3   Submitted via                 670598 non-null  object\n",
            " 4   Company response to consumer  670598 non-null  object\n",
            " 5   Timely response?              670598 non-null  object\n",
            " 6   Product_cod                   670598 non-null  int64 \n",
            "dtypes: int64(1), object(6)\n",
            "memory usage: 35.8+ MB\n"
          ]
        }
      ]
    },
    {
      "cell_type": "code",
      "source": [
        "datosCom.describe(include='object')"
      ],
      "metadata": {
        "colab": {
          "base_uri": "https://localhost:8080/",
          "height": 253
        },
        "id": "6HgsRk1yt8uS",
        "outputId": "a06652ff-f6ef-4703-d109-7428657a7a93"
      },
      "execution_count": 221,
      "outputs": [
        {
          "output_type": "execute_result",
          "data": {
            "text/plain": [
              "                                           Issue          Company   State  \\\n",
              "count                                     670598           670598  665293   \n",
              "unique                                        95             3933      62   \n",
              "top     Loan modification,collection,foreclosure  Bank of America      CA   \n",
              "freq                                      106455            61720   97640   \n",
              "\n",
              "       Submitted via Company response to consumer Timely response?  \n",
              "count         670598                       670598           670598  \n",
              "unique             6                            8                2  \n",
              "top              Web      Closed with explanation              Yes  \n",
              "freq          446035                       493981           652848  "
            ],
            "text/html": [
              "\n",
              "  <div id=\"df-6c9a1146-d97b-4ba5-b2d2-13dfd60ea49a\">\n",
              "    <div class=\"colab-df-container\">\n",
              "      <div>\n",
              "<style scoped>\n",
              "    .dataframe tbody tr th:only-of-type {\n",
              "        vertical-align: middle;\n",
              "    }\n",
              "\n",
              "    .dataframe tbody tr th {\n",
              "        vertical-align: top;\n",
              "    }\n",
              "\n",
              "    .dataframe thead th {\n",
              "        text-align: right;\n",
              "    }\n",
              "</style>\n",
              "<table border=\"1\" class=\"dataframe\">\n",
              "  <thead>\n",
              "    <tr style=\"text-align: right;\">\n",
              "      <th></th>\n",
              "      <th>Issue</th>\n",
              "      <th>Company</th>\n",
              "      <th>State</th>\n",
              "      <th>Submitted via</th>\n",
              "      <th>Company response to consumer</th>\n",
              "      <th>Timely response?</th>\n",
              "    </tr>\n",
              "  </thead>\n",
              "  <tbody>\n",
              "    <tr>\n",
              "      <th>count</th>\n",
              "      <td>670598</td>\n",
              "      <td>670598</td>\n",
              "      <td>665293</td>\n",
              "      <td>670598</td>\n",
              "      <td>670598</td>\n",
              "      <td>670598</td>\n",
              "    </tr>\n",
              "    <tr>\n",
              "      <th>unique</th>\n",
              "      <td>95</td>\n",
              "      <td>3933</td>\n",
              "      <td>62</td>\n",
              "      <td>6</td>\n",
              "      <td>8</td>\n",
              "      <td>2</td>\n",
              "    </tr>\n",
              "    <tr>\n",
              "      <th>top</th>\n",
              "      <td>Loan modification,collection,foreclosure</td>\n",
              "      <td>Bank of America</td>\n",
              "      <td>CA</td>\n",
              "      <td>Web</td>\n",
              "      <td>Closed with explanation</td>\n",
              "      <td>Yes</td>\n",
              "    </tr>\n",
              "    <tr>\n",
              "      <th>freq</th>\n",
              "      <td>106455</td>\n",
              "      <td>61720</td>\n",
              "      <td>97640</td>\n",
              "      <td>446035</td>\n",
              "      <td>493981</td>\n",
              "      <td>652848</td>\n",
              "    </tr>\n",
              "  </tbody>\n",
              "</table>\n",
              "</div>\n",
              "      <button class=\"colab-df-convert\" onclick=\"convertToInteractive('df-6c9a1146-d97b-4ba5-b2d2-13dfd60ea49a')\"\n",
              "              title=\"Convert this dataframe to an interactive table.\"\n",
              "              style=\"display:none;\">\n",
              "        \n",
              "  <svg xmlns=\"http://www.w3.org/2000/svg\" height=\"24px\"viewBox=\"0 0 24 24\"\n",
              "       width=\"24px\">\n",
              "    <path d=\"M0 0h24v24H0V0z\" fill=\"none\"/>\n",
              "    <path d=\"M18.56 5.44l.94 2.06.94-2.06 2.06-.94-2.06-.94-.94-2.06-.94 2.06-2.06.94zm-11 1L8.5 8.5l.94-2.06 2.06-.94-2.06-.94L8.5 2.5l-.94 2.06-2.06.94zm10 10l.94 2.06.94-2.06 2.06-.94-2.06-.94-.94-2.06-.94 2.06-2.06.94z\"/><path d=\"M17.41 7.96l-1.37-1.37c-.4-.4-.92-.59-1.43-.59-.52 0-1.04.2-1.43.59L10.3 9.45l-7.72 7.72c-.78.78-.78 2.05 0 2.83L4 21.41c.39.39.9.59 1.41.59.51 0 1.02-.2 1.41-.59l7.78-7.78 2.81-2.81c.8-.78.8-2.07 0-2.86zM5.41 20L4 18.59l7.72-7.72 1.47 1.35L5.41 20z\"/>\n",
              "  </svg>\n",
              "      </button>\n",
              "      \n",
              "  <style>\n",
              "    .colab-df-container {\n",
              "      display:flex;\n",
              "      flex-wrap:wrap;\n",
              "      gap: 12px;\n",
              "    }\n",
              "\n",
              "    .colab-df-convert {\n",
              "      background-color: #E8F0FE;\n",
              "      border: none;\n",
              "      border-radius: 50%;\n",
              "      cursor: pointer;\n",
              "      display: none;\n",
              "      fill: #1967D2;\n",
              "      height: 32px;\n",
              "      padding: 0 0 0 0;\n",
              "      width: 32px;\n",
              "    }\n",
              "\n",
              "    .colab-df-convert:hover {\n",
              "      background-color: #E2EBFA;\n",
              "      box-shadow: 0px 1px 2px rgba(60, 64, 67, 0.3), 0px 1px 3px 1px rgba(60, 64, 67, 0.15);\n",
              "      fill: #174EA6;\n",
              "    }\n",
              "\n",
              "    [theme=dark] .colab-df-convert {\n",
              "      background-color: #3B4455;\n",
              "      fill: #D2E3FC;\n",
              "    }\n",
              "\n",
              "    [theme=dark] .colab-df-convert:hover {\n",
              "      background-color: #434B5C;\n",
              "      box-shadow: 0px 1px 3px 1px rgba(0, 0, 0, 0.15);\n",
              "      filter: drop-shadow(0px 1px 2px rgba(0, 0, 0, 0.3));\n",
              "      fill: #FFFFFF;\n",
              "    }\n",
              "  </style>\n",
              "\n",
              "      <script>\n",
              "        const buttonEl =\n",
              "          document.querySelector('#df-6c9a1146-d97b-4ba5-b2d2-13dfd60ea49a button.colab-df-convert');\n",
              "        buttonEl.style.display =\n",
              "          google.colab.kernel.accessAllowed ? 'block' : 'none';\n",
              "\n",
              "        async function convertToInteractive(key) {\n",
              "          const element = document.querySelector('#df-6c9a1146-d97b-4ba5-b2d2-13dfd60ea49a');\n",
              "          const dataTable =\n",
              "            await google.colab.kernel.invokeFunction('convertToInteractive',\n",
              "                                                     [key], {});\n",
              "          if (!dataTable) return;\n",
              "\n",
              "          const docLinkHtml = 'Like what you see? Visit the ' +\n",
              "            '<a target=\"_blank\" href=https://colab.research.google.com/notebooks/data_table.ipynb>data table notebook</a>'\n",
              "            + ' to learn more about interactive tables.';\n",
              "          element.innerHTML = '';\n",
              "          dataTable['output_type'] = 'display_data';\n",
              "          await google.colab.output.renderOutput(dataTable, element);\n",
              "          const docLink = document.createElement('div');\n",
              "          docLink.innerHTML = docLinkHtml;\n",
              "          element.appendChild(docLink);\n",
              "        }\n",
              "      </script>\n",
              "    </div>\n",
              "  </div>\n",
              "  "
            ]
          },
          "metadata": {},
          "execution_count": 221
        }
      ]
    },
    {
      "cell_type": "code",
      "source": [
        "#Codificar variables categóricas\n",
        "catCol = datosCom.select_dtypes(include= ['object'] ).columns.to_list()\n",
        "numCol = datosCom.select_dtypes(include= ['float64','int64'] ).columns.to_list()\n",
        "\n",
        "preprocesador = ColumnTransformer([('onehot', OneHotEncoder(handle_unknown = 'ignore'),catCol)],remainder = 'passthrough')\n",
        "\n",
        "\n",
        "datospre =preprocesador.fit_transform(datosCom)\n"
      ],
      "metadata": {
        "id": "XgtlpfOijkga"
      },
      "execution_count": 222,
      "outputs": []
    },
    {
      "cell_type": "code",
      "source": [
        "codCat=preprocesador.named_transformers_['onehot'].get_feature_names(catCol)\n",
        "labels = np.concatenate([codCat,numCol])\n"
      ],
      "metadata": {
        "id": "tP5gozv3kgSt"
      },
      "execution_count": 223,
      "outputs": []
    },
    {
      "cell_type": "code",
      "source": [
        "datosProc = pd.DataFrame.sparse.from_spmatrix(datospre, columns=labels)"
      ],
      "metadata": {
        "id": "2J1NmoyyrBj5"
      },
      "execution_count": 224,
      "outputs": []
    },
    {
      "cell_type": "code",
      "source": [
        "datosProc.head()"
      ],
      "metadata": {
        "colab": {
          "base_uri": "https://localhost:8080/",
          "height": 369
        },
        "id": "F8Ymagea476m",
        "outputId": "27d7a0df-587a-4e97-adf4-8b9a1d7a8bfc"
      },
      "execution_count": 225,
      "outputs": [
        {
          "output_type": "execute_result",
          "data": {
            "text/plain": [
              "   Issue_APR or interest rate  Issue_Account opening, closing, or management  \\\n",
              "0                         0.0                                            0.0   \n",
              "1                         0.0                                            0.0   \n",
              "2                         0.0                                            1.0   \n",
              "3                         0.0                                            0.0   \n",
              "4                         0.0                                            0.0   \n",
              "\n",
              "   Issue_Account terms and changes  Issue_Adding money  \\\n",
              "0                              0.0                 0.0   \n",
              "1                              0.0                 0.0   \n",
              "2                              0.0                 0.0   \n",
              "3                              0.0                 0.0   \n",
              "4                              0.0                 0.0   \n",
              "\n",
              "   Issue_Advertising and marketing  \\\n",
              "0                              0.0   \n",
              "1                              0.0   \n",
              "2                              0.0   \n",
              "3                              0.0   \n",
              "4                              0.0   \n",
              "\n",
              "   Issue_Advertising, marketing or disclosures  \\\n",
              "0                                          0.0   \n",
              "1                                          0.0   \n",
              "2                                          0.0   \n",
              "3                                          0.0   \n",
              "4                                          0.0   \n",
              "\n",
              "   Issue_Application processing delay  \\\n",
              "0                                 0.0   \n",
              "1                                 0.0   \n",
              "2                                 0.0   \n",
              "3                                 0.0   \n",
              "4                                 0.0   \n",
              "\n",
              "   Issue_Application, originator, mortgage broker  \\\n",
              "0                                             0.0   \n",
              "1                                             0.0   \n",
              "2                                             0.0   \n",
              "3                                             0.0   \n",
              "4                                             0.0   \n",
              "\n",
              "   Issue_Applied for loan/did not receive money  Issue_Arbitration  ...  \\\n",
              "0                                           0.0                0.0  ...   \n",
              "1                                           0.0                0.0  ...   \n",
              "2                                           0.0                0.0  ...   \n",
              "3                                           0.0                0.0  ...   \n",
              "4                                           0.0                0.0  ...   \n",
              "\n",
              "   Company response to consumer_Closed with explanation  \\\n",
              "0                                                1.0      \n",
              "1                                                1.0      \n",
              "2                                                0.0      \n",
              "3                                                1.0      \n",
              "4                                                1.0      \n",
              "\n",
              "   Company response to consumer_Closed with monetary relief  \\\n",
              "0                                                0.0          \n",
              "1                                                0.0          \n",
              "2                                                0.0          \n",
              "3                                                0.0          \n",
              "4                                                0.0          \n",
              "\n",
              "   Company response to consumer_Closed with non-monetary relief  \\\n",
              "0                                                0.0              \n",
              "1                                                0.0              \n",
              "2                                                0.0              \n",
              "3                                                0.0              \n",
              "4                                                0.0              \n",
              "\n",
              "   Company response to consumer_Closed with relief  \\\n",
              "0                                              0.0   \n",
              "1                                              0.0   \n",
              "2                                              0.0   \n",
              "3                                              0.0   \n",
              "4                                              0.0   \n",
              "\n",
              "   Company response to consumer_Closed without relief  \\\n",
              "0                                                0.0    \n",
              "1                                                0.0    \n",
              "2                                                0.0    \n",
              "3                                                0.0    \n",
              "4                                                0.0    \n",
              "\n",
              "   Company response to consumer_In progress  \\\n",
              "0                                       0.0   \n",
              "1                                       0.0   \n",
              "2                                       0.0   \n",
              "3                                       0.0   \n",
              "4                                       0.0   \n",
              "\n",
              "   Company response to consumer_Untimely response  Timely response?_No  \\\n",
              "0                                             0.0                  0.0   \n",
              "1                                             0.0                  0.0   \n",
              "2                                             0.0                  0.0   \n",
              "3                                             0.0                  0.0   \n",
              "4                                             0.0                  0.0   \n",
              "\n",
              "   Timely response?_Yes  Product_cod  \n",
              "0                   1.0          2.0  \n",
              "1                   1.0          1.0  \n",
              "2                   1.0          1.0  \n",
              "3                   1.0          1.0  \n",
              "4                   1.0          7.0  \n",
              "\n",
              "[5 rows x 4108 columns]"
            ],
            "text/html": [
              "\n",
              "  <div id=\"df-73026c5f-0066-4c0c-8ab0-8ae1d3c9b0e4\">\n",
              "    <div class=\"colab-df-container\">\n",
              "      <div>\n",
              "<style scoped>\n",
              "    .dataframe tbody tr th:only-of-type {\n",
              "        vertical-align: middle;\n",
              "    }\n",
              "\n",
              "    .dataframe tbody tr th {\n",
              "        vertical-align: top;\n",
              "    }\n",
              "\n",
              "    .dataframe thead th {\n",
              "        text-align: right;\n",
              "    }\n",
              "</style>\n",
              "<table border=\"1\" class=\"dataframe\">\n",
              "  <thead>\n",
              "    <tr style=\"text-align: right;\">\n",
              "      <th></th>\n",
              "      <th>Issue_APR or interest rate</th>\n",
              "      <th>Issue_Account opening, closing, or management</th>\n",
              "      <th>Issue_Account terms and changes</th>\n",
              "      <th>Issue_Adding money</th>\n",
              "      <th>Issue_Advertising and marketing</th>\n",
              "      <th>Issue_Advertising, marketing or disclosures</th>\n",
              "      <th>Issue_Application processing delay</th>\n",
              "      <th>Issue_Application, originator, mortgage broker</th>\n",
              "      <th>Issue_Applied for loan/did not receive money</th>\n",
              "      <th>Issue_Arbitration</th>\n",
              "      <th>...</th>\n",
              "      <th>Company response to consumer_Closed with explanation</th>\n",
              "      <th>Company response to consumer_Closed with monetary relief</th>\n",
              "      <th>Company response to consumer_Closed with non-monetary relief</th>\n",
              "      <th>Company response to consumer_Closed with relief</th>\n",
              "      <th>Company response to consumer_Closed without relief</th>\n",
              "      <th>Company response to consumer_In progress</th>\n",
              "      <th>Company response to consumer_Untimely response</th>\n",
              "      <th>Timely response?_No</th>\n",
              "      <th>Timely response?_Yes</th>\n",
              "      <th>Product_cod</th>\n",
              "    </tr>\n",
              "  </thead>\n",
              "  <tbody>\n",
              "    <tr>\n",
              "      <th>0</th>\n",
              "      <td>0.0</td>\n",
              "      <td>0.0</td>\n",
              "      <td>0.0</td>\n",
              "      <td>0.0</td>\n",
              "      <td>0.0</td>\n",
              "      <td>0.0</td>\n",
              "      <td>0.0</td>\n",
              "      <td>0.0</td>\n",
              "      <td>0.0</td>\n",
              "      <td>0.0</td>\n",
              "      <td>...</td>\n",
              "      <td>1.0</td>\n",
              "      <td>0.0</td>\n",
              "      <td>0.0</td>\n",
              "      <td>0.0</td>\n",
              "      <td>0.0</td>\n",
              "      <td>0.0</td>\n",
              "      <td>0.0</td>\n",
              "      <td>0.0</td>\n",
              "      <td>1.0</td>\n",
              "      <td>2.0</td>\n",
              "    </tr>\n",
              "    <tr>\n",
              "      <th>1</th>\n",
              "      <td>0.0</td>\n",
              "      <td>0.0</td>\n",
              "      <td>0.0</td>\n",
              "      <td>0.0</td>\n",
              "      <td>0.0</td>\n",
              "      <td>0.0</td>\n",
              "      <td>0.0</td>\n",
              "      <td>0.0</td>\n",
              "      <td>0.0</td>\n",
              "      <td>0.0</td>\n",
              "      <td>...</td>\n",
              "      <td>1.0</td>\n",
              "      <td>0.0</td>\n",
              "      <td>0.0</td>\n",
              "      <td>0.0</td>\n",
              "      <td>0.0</td>\n",
              "      <td>0.0</td>\n",
              "      <td>0.0</td>\n",
              "      <td>0.0</td>\n",
              "      <td>1.0</td>\n",
              "      <td>1.0</td>\n",
              "    </tr>\n",
              "    <tr>\n",
              "      <th>2</th>\n",
              "      <td>0.0</td>\n",
              "      <td>1.0</td>\n",
              "      <td>0.0</td>\n",
              "      <td>0.0</td>\n",
              "      <td>0.0</td>\n",
              "      <td>0.0</td>\n",
              "      <td>0.0</td>\n",
              "      <td>0.0</td>\n",
              "      <td>0.0</td>\n",
              "      <td>0.0</td>\n",
              "      <td>...</td>\n",
              "      <td>0.0</td>\n",
              "      <td>0.0</td>\n",
              "      <td>0.0</td>\n",
              "      <td>0.0</td>\n",
              "      <td>0.0</td>\n",
              "      <td>0.0</td>\n",
              "      <td>0.0</td>\n",
              "      <td>0.0</td>\n",
              "      <td>1.0</td>\n",
              "      <td>1.0</td>\n",
              "    </tr>\n",
              "    <tr>\n",
              "      <th>3</th>\n",
              "      <td>0.0</td>\n",
              "      <td>0.0</td>\n",
              "      <td>0.0</td>\n",
              "      <td>0.0</td>\n",
              "      <td>0.0</td>\n",
              "      <td>0.0</td>\n",
              "      <td>0.0</td>\n",
              "      <td>0.0</td>\n",
              "      <td>0.0</td>\n",
              "      <td>0.0</td>\n",
              "      <td>...</td>\n",
              "      <td>1.0</td>\n",
              "      <td>0.0</td>\n",
              "      <td>0.0</td>\n",
              "      <td>0.0</td>\n",
              "      <td>0.0</td>\n",
              "      <td>0.0</td>\n",
              "      <td>0.0</td>\n",
              "      <td>0.0</td>\n",
              "      <td>1.0</td>\n",
              "      <td>1.0</td>\n",
              "    </tr>\n",
              "    <tr>\n",
              "      <th>4</th>\n",
              "      <td>0.0</td>\n",
              "      <td>0.0</td>\n",
              "      <td>0.0</td>\n",
              "      <td>0.0</td>\n",
              "      <td>0.0</td>\n",
              "      <td>0.0</td>\n",
              "      <td>0.0</td>\n",
              "      <td>0.0</td>\n",
              "      <td>0.0</td>\n",
              "      <td>0.0</td>\n",
              "      <td>...</td>\n",
              "      <td>1.0</td>\n",
              "      <td>0.0</td>\n",
              "      <td>0.0</td>\n",
              "      <td>0.0</td>\n",
              "      <td>0.0</td>\n",
              "      <td>0.0</td>\n",
              "      <td>0.0</td>\n",
              "      <td>0.0</td>\n",
              "      <td>1.0</td>\n",
              "      <td>7.0</td>\n",
              "    </tr>\n",
              "  </tbody>\n",
              "</table>\n",
              "<p>5 rows × 4108 columns</p>\n",
              "</div>\n",
              "      <button class=\"colab-df-convert\" onclick=\"convertToInteractive('df-73026c5f-0066-4c0c-8ab0-8ae1d3c9b0e4')\"\n",
              "              title=\"Convert this dataframe to an interactive table.\"\n",
              "              style=\"display:none;\">\n",
              "        \n",
              "  <svg xmlns=\"http://www.w3.org/2000/svg\" height=\"24px\"viewBox=\"0 0 24 24\"\n",
              "       width=\"24px\">\n",
              "    <path d=\"M0 0h24v24H0V0z\" fill=\"none\"/>\n",
              "    <path d=\"M18.56 5.44l.94 2.06.94-2.06 2.06-.94-2.06-.94-.94-2.06-.94 2.06-2.06.94zm-11 1L8.5 8.5l.94-2.06 2.06-.94-2.06-.94L8.5 2.5l-.94 2.06-2.06.94zm10 10l.94 2.06.94-2.06 2.06-.94-2.06-.94-.94-2.06-.94 2.06-2.06.94z\"/><path d=\"M17.41 7.96l-1.37-1.37c-.4-.4-.92-.59-1.43-.59-.52 0-1.04.2-1.43.59L10.3 9.45l-7.72 7.72c-.78.78-.78 2.05 0 2.83L4 21.41c.39.39.9.59 1.41.59.51 0 1.02-.2 1.41-.59l7.78-7.78 2.81-2.81c.8-.78.8-2.07 0-2.86zM5.41 20L4 18.59l7.72-7.72 1.47 1.35L5.41 20z\"/>\n",
              "  </svg>\n",
              "      </button>\n",
              "      \n",
              "  <style>\n",
              "    .colab-df-container {\n",
              "      display:flex;\n",
              "      flex-wrap:wrap;\n",
              "      gap: 12px;\n",
              "    }\n",
              "\n",
              "    .colab-df-convert {\n",
              "      background-color: #E8F0FE;\n",
              "      border: none;\n",
              "      border-radius: 50%;\n",
              "      cursor: pointer;\n",
              "      display: none;\n",
              "      fill: #1967D2;\n",
              "      height: 32px;\n",
              "      padding: 0 0 0 0;\n",
              "      width: 32px;\n",
              "    }\n",
              "\n",
              "    .colab-df-convert:hover {\n",
              "      background-color: #E2EBFA;\n",
              "      box-shadow: 0px 1px 2px rgba(60, 64, 67, 0.3), 0px 1px 3px 1px rgba(60, 64, 67, 0.15);\n",
              "      fill: #174EA6;\n",
              "    }\n",
              "\n",
              "    [theme=dark] .colab-df-convert {\n",
              "      background-color: #3B4455;\n",
              "      fill: #D2E3FC;\n",
              "    }\n",
              "\n",
              "    [theme=dark] .colab-df-convert:hover {\n",
              "      background-color: #434B5C;\n",
              "      box-shadow: 0px 1px 3px 1px rgba(0, 0, 0, 0.15);\n",
              "      filter: drop-shadow(0px 1px 2px rgba(0, 0, 0, 0.3));\n",
              "      fill: #FFFFFF;\n",
              "    }\n",
              "  </style>\n",
              "\n",
              "      <script>\n",
              "        const buttonEl =\n",
              "          document.querySelector('#df-73026c5f-0066-4c0c-8ab0-8ae1d3c9b0e4 button.colab-df-convert');\n",
              "        buttonEl.style.display =\n",
              "          google.colab.kernel.accessAllowed ? 'block' : 'none';\n",
              "\n",
              "        async function convertToInteractive(key) {\n",
              "          const element = document.querySelector('#df-73026c5f-0066-4c0c-8ab0-8ae1d3c9b0e4');\n",
              "          const dataTable =\n",
              "            await google.colab.kernel.invokeFunction('convertToInteractive',\n",
              "                                                     [key], {});\n",
              "          if (!dataTable) return;\n",
              "\n",
              "          const docLinkHtml = 'Like what you see? Visit the ' +\n",
              "            '<a target=\"_blank\" href=https://colab.research.google.com/notebooks/data_table.ipynb>data table notebook</a>'\n",
              "            + ' to learn more about interactive tables.';\n",
              "          element.innerHTML = '';\n",
              "          dataTable['output_type'] = 'display_data';\n",
              "          await google.colab.output.renderOutput(dataTable, element);\n",
              "          const docLink = document.createElement('div');\n",
              "          docLink.innerHTML = docLinkHtml;\n",
              "          element.appendChild(docLink);\n",
              "        }\n",
              "      </script>\n",
              "    </div>\n",
              "  </div>\n",
              "  "
            ]
          },
          "metadata": {},
          "execution_count": 225
        }
      ]
    },
    {
      "cell_type": "code",
      "source": [
        "#definicion de variable \n",
        "x=datosProc.drop(['Product_cod'],1)\n",
        "y=datosProc[['Product_cod']]"
      ],
      "metadata": {
        "id": "OFY3lVvk6_Yo"
      },
      "execution_count": 226,
      "outputs": []
    },
    {
      "cell_type": "code",
      "source": [
        "xEntrenamiento, xPrueba, yEntrenamiento, yPrueba = train_test_split(x,y,train_size=0.7, random_state=123)"
      ],
      "metadata": {
        "id": "reIJiTZs9wCk"
      },
      "execution_count": 227,
      "outputs": []
    },
    {
      "cell_type": "markdown",
      "source": [
        "# Entrenamiento"
      ],
      "metadata": {
        "id": "NjCOSXCnBwt_"
      }
    },
    {
      "cell_type": "code",
      "source": [
        "datosEntrenamiento = pd.concat([xEntrenamiento,yEntrenamiento],axis=1)"
      ],
      "metadata": {
        "id": "YIsGiGoN-s9V"
      },
      "execution_count": 228,
      "outputs": []
    },
    {
      "cell_type": "code",
      "source": [
        "##Modelado de datos \n",
        "modelo = LogisticRegression()\n",
        "modelo.fit(xEntrenamiento,yEntrenamiento)"
      ],
      "metadata": {
        "colab": {
          "base_uri": "https://localhost:8080/"
        },
        "id": "NylmIaTv-911",
        "outputId": "bf5e555b-05ea-4bae-b273-e5f57b5ea8e3"
      },
      "execution_count": 229,
      "outputs": [
        {
          "output_type": "execute_result",
          "data": {
            "text/plain": [
              "LogisticRegression()"
            ]
          },
          "metadata": {},
          "execution_count": 229
        }
      ]
    },
    {
      "cell_type": "code",
      "source": [
        "probabilidadPrediccion = modelo.predict_proba(xEntrenamiento)\n",
        "probabilidadPrediccion"
      ],
      "metadata": {
        "colab": {
          "base_uri": "https://localhost:8080/"
        },
        "id": "HLiDB0IBHYX6",
        "outputId": "f71f714f-ebd4-4a87-e3ba-9dda841f10ef"
      },
      "execution_count": 230,
      "outputs": [
        {
          "output_type": "execute_result",
          "data": {
            "text/plain": [
              "array([[4.28484242e-05, 1.14664841e-04, 1.05948971e-04, ...,\n",
              "        4.46123337e-05, 2.05411343e-05, 3.65534465e-06],\n",
              "       [3.52109722e-05, 7.62922881e-05, 5.07336170e-05, ...,\n",
              "        1.40639427e-05, 9.69168036e-06, 3.11330104e-06],\n",
              "       [9.66995368e-05, 3.39256712e-04, 9.98297627e-01, ...,\n",
              "        3.95494237e-04, 3.01546506e-04, 3.87419760e-06],\n",
              "       ...,\n",
              "       [7.15268487e-06, 2.55172949e-06, 1.86638471e-05, ...,\n",
              "        9.62095970e-06, 9.99870477e-01, 7.43529673e-07],\n",
              "       [1.18697573e-06, 8.67640464e-06, 1.43836795e-05, ...,\n",
              "        1.97299568e-06, 9.43757365e-07, 1.49475973e-07],\n",
              "       [9.98761195e-01, 2.15232141e-04, 3.48795698e-04, ...,\n",
              "        2.83935799e-05, 1.82191431e-04, 2.22254338e-05]])"
            ]
          },
          "metadata": {},
          "execution_count": 230
        }
      ]
    },
    {
      "cell_type": "code",
      "source": [
        "prediccion = modelo.predict(xEntrenamiento)\n",
        "prediccion"
      ],
      "metadata": {
        "colab": {
          "base_uri": "https://localhost:8080/"
        },
        "id": "szS426eaHayW",
        "outputId": "eeb47bda-d6d9-4cd5-8a48-8aab70418373"
      },
      "execution_count": 231,
      "outputs": [
        {
          "output_type": "execute_result",
          "data": {
            "text/plain": [
              "array([ 5.,  7.,  3., ..., 11.,  4.,  1.])"
            ]
          },
          "metadata": {},
          "execution_count": 231
        }
      ]
    },
    {
      "cell_type": "code",
      "source": [
        "print('Desempeño en entrenamiento:', modelo.score(xEntrenamiento,yEntrenamiento))"
      ],
      "metadata": {
        "colab": {
          "base_uri": "https://localhost:8080/"
        },
        "id": "0FfPlNCVHiJg",
        "outputId": "23747204-e919-471b-c48e-bb8febb9bbe5"
      },
      "execution_count": 232,
      "outputs": [
        {
          "output_type": "stream",
          "name": "stdout",
          "text": [
            "Desempeño en entrenamiento: 0.9974798580369735\n"
          ]
        }
      ]
    },
    {
      "cell_type": "code",
      "source": [
        "\n",
        "#Matriz de confusión en entrenamiento \n",
        "\n",
        "matrix=confusion_matrix(y_true = yEntrenamiento,\n",
        "                 y_pred=prediccion)"
      ],
      "metadata": {
        "id": "CCEIRIvWV1Kv"
      },
      "execution_count": 233,
      "outputs": []
    },
    {
      "cell_type": "code",
      "source": [
        "f,ax=plt.subplots()\n",
        "sb.heatmap(matrix,annot=True,ax=ax) #Dibuja un mapa de calor\n",
        "\n",
        "ax.set_title('Confusion matrix') #título\n",
        "ax.set_xlabel('Predict') #eje x\n",
        "ax.set_ylabel('True') #eje y"
      ],
      "metadata": {
        "colab": {
          "base_uri": "https://localhost:8080/",
          "height": 576
        },
        "id": "ageZWu0K2Svy",
        "outputId": "bec62ca0-66e3-41ef-dc8a-6d3c63724737"
      },
      "execution_count": 234,
      "outputs": [
        {
          "output_type": "execute_result",
          "data": {
            "text/plain": [
              "Text(123.0, 0.5, 'True')"
            ]
          },
          "metadata": {},
          "execution_count": 234
        },
        {
          "output_type": "display_data",
          "data": {
            "text/plain": [
              "<Figure size 1152x648 with 2 Axes>"
            ],
            "image/png": "[encoded data removed]"
          },
          "metadata": {}
        }
      ]
    },
    {
      "cell_type": "markdown",
      "source": [
        "# Prueba"
      ],
      "metadata": {
        "id": "604Rl3ywB0FL"
      }
    },
    {
      "cell_type": "code",
      "source": [
        "##Modelado de datos \n",
        "modeloP = LogisticRegression()\n",
        "modeloP.fit(xPrueba,yPrueba)"
      ],
      "metadata": {
        "colab": {
          "base_uri": "https://localhost:8080/"
        },
        "id": "22lRXTGPWctP",
        "outputId": "ccdc49ce-ad4b-4236-b4a5-8d5b203136de"
      },
      "execution_count": 235,
      "outputs": [
        {
          "output_type": "execute_result",
          "data": {
            "text/plain": [
              "LogisticRegression()"
            ]
          },
          "metadata": {},
          "execution_count": 235
        }
      ]
    },
    {
      "cell_type": "code",
      "source": [
        "probabilidadPrediccionP = modeloP.predict_proba(xPrueba)\n",
        "probabilidadPrediccionP"
      ],
      "metadata": {
        "colab": {
          "base_uri": "https://localhost:8080/"
        },
        "id": "8CXkUmhqXJQA",
        "outputId": "3eb7ca83-79ac-414f-8b86-89372c990fc8"
      },
      "execution_count": 236,
      "outputs": [
        {
          "output_type": "execute_result",
          "data": {
            "text/plain": [
              "array([[3.71556561e-05, 5.31021075e-05, 5.93535539e-05, ...,\n",
              "        2.07225218e-05, 2.44684379e-05, 4.50340071e-06],\n",
              "       [4.57291799e-05, 1.12983652e-04, 6.28114940e-05, ...,\n",
              "        2.93880304e-05, 1.12778879e-05, 1.27915488e-06],\n",
              "       [7.31949498e-06, 1.66609832e-05, 2.10783989e-05, ...,\n",
              "        7.02766484e-06, 3.75290790e-06, 1.07360971e-06],\n",
              "       ...,\n",
              "       [9.99156905e-01, 1.66503226e-04, 3.63128344e-04, ...,\n",
              "        4.71220633e-05, 2.19968891e-05, 5.60837308e-06],\n",
              "       [3.25029590e-05, 6.45905563e-05, 6.95663824e-05, ...,\n",
              "        2.54259367e-05, 2.16161706e-05, 4.54967189e-06],\n",
              "       [2.48107636e-04, 2.88286376e-04, 9.97519906e-01, ...,\n",
              "        2.85150198e-04, 4.95138682e-04, 2.02795452e-05]])"
            ]
          },
          "metadata": {},
          "execution_count": 236
        }
      ]
    },
    {
      "cell_type": "code",
      "source": [
        "prediccionP = modeloP.predict(xPrueba)\n",
        "prediccionP"
      ],
      "metadata": {
        "colab": {
          "base_uri": "https://localhost:8080/"
        },
        "id": "Dvs_b1SlXQKd",
        "outputId": "003d094e-07c7-4de0-b0c2-b658a47dd1d3"
      },
      "execution_count": 237,
      "outputs": [
        {
          "output_type": "execute_result",
          "data": {
            "text/plain": [
              "array([5., 5., 4., ..., 1., 5., 3.])"
            ]
          },
          "metadata": {},
          "execution_count": 237
        }
      ]
    },
    {
      "cell_type": "code",
      "source": [
        "print('Desempeño en entrenamiento:', modeloP.score(xPrueba,yPrueba))"
      ],
      "metadata": {
        "colab": {
          "base_uri": "https://localhost:8080/"
        },
        "id": "lgcgvmGAXWFx",
        "outputId": "94052380-678d-4f04-f9b5-94b6079c6b58"
      },
      "execution_count": 238,
      "outputs": [
        {
          "output_type": "stream",
          "name": "stdout",
          "text": [
            "Desempeño en entrenamiento: 0.997360572621533\n"
          ]
        }
      ]
    },
    {
      "cell_type": "code",
      "source": [
        "#Matriz de confusión en entrenamiento \n",
        "\n",
        "matrixP=confusion_matrix(y_true = yPrueba,\n",
        "                 y_pred=prediccionP)"
      ],
      "metadata": {
        "id": "k0IfMcVtB8oR"
      },
      "execution_count": 239,
      "outputs": []
    },
    {
      "cell_type": "code",
      "source": [
        "f,ax=plt.subplots()\n",
        "sb.heatmap(matrixP,annot=True,ax=ax) #Dibuja un mapa de calor\n",
        "\n",
        "ax.set_title('Confusion matrix') #título\n",
        "ax.set_xlabel('Predict') #eje x\n",
        "ax.set_ylabel('True') #eje y"
      ],
      "metadata": {
        "colab": {
          "base_uri": "https://localhost:8080/",
          "height": 580
        },
        "id": "kVBC91rqCDTo",
        "outputId": "0d61743d-0d70-4f1d-fafb-bbc43e94bbbb"
      },
      "execution_count": 240,
      "outputs": [
        {
          "output_type": "execute_result",
          "data": {
            "text/plain": [
              "Text(123.0, 0.5, 'True')"
            ]
          },
          "metadata": {},
          "execution_count": 240
        },
        {
          "output_type": "display_data",
          "data": {
            "text/plain": [
              "<Figure size 1152x648 with 2 Axes>"
            ],
            "image/png": "[encoded data removed]"
          },
          "metadata": {}
        }
      ]
    },
    {
      "cell_type": "markdown",
      "source": [
        "# Predicción si hay respuesta de la empresa"
      ],
      "metadata": {
        "id": "LGMlD1GjCVtj"
      }
    },
    {
      "cell_type": "code",
      "source": [
        "datosRes=datos.drop(['State','Complaint ID','Date sent to company','Consumer disputed?','ZIP code','Sub-product','Sub-issue','Date received','Consumer complaint narrative','Company public response','Tags','Consumer consent provided?','Company response to consumer'],1)"
      ],
      "metadata": {
        "id": "Hwmj7WuAIN0P"
      },
      "execution_count": 261,
      "outputs": []
    },
    {
      "cell_type": "code",
      "source": [
        "#Codificar variables categóricas\n",
        "catColRes = datosRes.select_dtypes(include= ['object'] ).columns.to_list()\n",
        "numColRes = datosRes.select_dtypes(include= ['float64','int64'] ).columns.to_list()\n",
        "\n",
        "preprocesadorRes = ColumnTransformer([('onehot', OneHotEncoder(handle_unknown = 'ignore'),catColRes)],remainder = 'passthrough')\n",
        "\n",
        "\n",
        "datospreRes =preprocesadorRes.fit_transform(datosRes)"
      ],
      "metadata": {
        "id": "XAStfp6ZMu7C"
      },
      "execution_count": 264,
      "outputs": []
    },
    {
      "cell_type": "code",
      "source": [
        "codCatRes=preprocesadorRes.named_transformers_['onehot'].get_feature_names(catColRes)\n",
        "labelsRes = np.concatenate([codCatRes,numColRes])"
      ],
      "metadata": {
        "id": "ieAfWh-KNEs0"
      },
      "execution_count": 265,
      "outputs": []
    },
    {
      "cell_type": "code",
      "source": [
        "datosProcRes = pd.DataFrame.sparse.from_spmatrix(datospreRes, columns=labelsRes)"
      ],
      "metadata": {
        "id": "PeGHK0wDNUia"
      },
      "execution_count": 266,
      "outputs": []
    },
    {
      "cell_type": "code",
      "source": [
        "#definicion de variable \n",
        "xrespuesta=datosProcRes.drop(['Response_company_cod'],1)\n",
        "yrespuesta=datosProcRes[['Response_company_cod']]"
      ],
      "metadata": {
        "id": "y_T2foSdDWf8"
      },
      "execution_count": 267,
      "outputs": []
    },
    {
      "cell_type": "code",
      "source": [
        "xEntrenamientoRes, xPruebaRes, yEntrenamientoRes, yPruebaRes = train_test_split(xrespuesta,yrespuesta,train_size=0.7, random_state=123)"
      ],
      "metadata": {
        "id": "MHGnWbMlIsr6"
      },
      "execution_count": 268,
      "outputs": []
    },
    {
      "cell_type": "code",
      "source": [
        "datosEntrenamientoRes = pd.concat([xEntrenamientoRes,yEntrenamientoRes],axis=1)"
      ],
      "metadata": {
        "id": "A1JV7KShMLXV"
      },
      "execution_count": 269,
      "outputs": []
    },
    {
      "cell_type": "code",
      "source": [
        "##Modelado de datos \n",
        "modeloRes = LogisticRegression()\n",
        "modeloRes.fit(xEntrenamientoRes,yEntrenamientoRes)"
      ],
      "metadata": {
        "colab": {
          "base_uri": "https://localhost:8080/"
        },
        "id": "lAzA9IOvMbnw",
        "outputId": "1a4a22fa-a4e3-4a1f-ba6f-f422c8792b38"
      },
      "execution_count": 270,
      "outputs": [
        {
          "output_type": "execute_result",
          "data": {
            "text/plain": [
              "LogisticRegression()"
            ]
          },
          "metadata": {},
          "execution_count": 270
        }
      ]
    },
    {
      "cell_type": "code",
      "source": [
        "probabilidadPrediccionRes = modeloRes.predict_proba(xEntrenamientoRes)\n",
        "probabilidadPrediccionRes"
      ],
      "metadata": {
        "colab": {
          "base_uri": "https://localhost:8080/"
        },
        "id": "DZmr38jqOKDh",
        "outputId": "b4fe8b7c-6252-4751-9736-f7ad7b38d3b8"
      },
      "execution_count": 271,
      "outputs": [
        {
          "output_type": "execute_result",
          "data": {
            "text/plain": [
              "array([[0.00872101, 0.99127899],\n",
              "       [0.0010671 , 0.9989329 ],\n",
              "       [0.01061144, 0.98938856],\n",
              "       ...,\n",
              "       [0.00531576, 0.99468424],\n",
              "       [0.00613168, 0.99386832],\n",
              "       [0.01462035, 0.98537965]])"
            ]
          },
          "metadata": {},
          "execution_count": 271
        }
      ]
    },
    {
      "cell_type": "code",
      "source": [
        "prediccionRes = modeloRes.predict(xEntrenamientoRes)\n",
        "prediccionRes"
      ],
      "metadata": {
        "colab": {
          "base_uri": "https://localhost:8080/"
        },
        "id": "CkD6PH3qOWj4",
        "outputId": "e7361a19-e04f-4349-82bd-f04712454a31"
      },
      "execution_count": 272,
      "outputs": [
        {
          "output_type": "execute_result",
          "data": {
            "text/plain": [
              "array([1., 1., 1., ..., 1., 1., 1.])"
            ]
          },
          "metadata": {},
          "execution_count": 272
        }
      ]
    },
    {
      "cell_type": "code",
      "source": [
        "print('Desempeño en entrenamiento:', modeloRes.score(xEntrenamientoRes,yEntrenamientoRes))"
      ],
      "metadata": {
        "colab": {
          "base_uri": "https://localhost:8080/"
        },
        "id": "xfqGk_CfOg-2",
        "outputId": "4f70c6a0-5aa8-44a4-b345-a26ea4976ce2"
      },
      "execution_count": 273,
      "outputs": [
        {
          "output_type": "stream",
          "name": "stdout",
          "text": [
            "Desempeño en entrenamiento: 0.9890587919508839\n"
          ]
        }
      ]
    },
    {
      "cell_type": "code",
      "source": [
        "datosPruebaRes = pd.concat([xPruebaRes,yPruebaRes],axis=1)"
      ],
      "metadata": {
        "id": "nl3HtEL_OrRq"
      },
      "execution_count": 274,
      "outputs": []
    },
    {
      "cell_type": "code",
      "source": [
        "##Modelado de datos \n",
        "modeloResP = LogisticRegression()\n",
        "modeloResP.fit(xPruebaRes,yPruebaRes)"
      ],
      "metadata": {
        "colab": {
          "base_uri": "https://localhost:8080/"
        },
        "id": "VqU7ur0WOzok",
        "outputId": "f41d9beb-2825-41ce-d5eb-c906f2412026"
      },
      "execution_count": 275,
      "outputs": [
        {
          "output_type": "execute_result",
          "data": {
            "text/plain": [
              "LogisticRegression()"
            ]
          },
          "metadata": {},
          "execution_count": 275
        }
      ]
    },
    {
      "cell_type": "code",
      "source": [
        "probabilidadPrediccionResP = modeloResP.predict_proba(xPruebaRes)\n",
        "probabilidadPrediccionResP"
      ],
      "metadata": {
        "colab": {
          "base_uri": "https://localhost:8080/"
        },
        "id": "8IdryUmkO_s7",
        "outputId": "d69aa9a2-aea3-416e-ee4c-5f442d01e8bd"
      },
      "execution_count": 276,
      "outputs": [
        {
          "output_type": "execute_result",
          "data": {
            "text/plain": [
              "array([[5.74319565e-03, 9.94256804e-01],\n",
              "       [3.36149895e-03, 9.96638501e-01],\n",
              "       [2.11977917e-02, 9.78802208e-01],\n",
              "       ...,\n",
              "       [4.96969695e-03, 9.95030303e-01],\n",
              "       [8.48880882e-04, 9.99151119e-01],\n",
              "       [3.63038924e-03, 9.96369611e-01]])"
            ]
          },
          "metadata": {},
          "execution_count": 276
        }
      ]
    },
    {
      "cell_type": "code",
      "source": [
        "prediccionResP = modeloResP.predict(xPruebaRes)\n",
        "prediccionResP"
      ],
      "metadata": {
        "colab": {
          "base_uri": "https://localhost:8080/"
        },
        "id": "XgE_JflfPHut",
        "outputId": "91cfe9ed-88dc-445c-f2a2-af1e471ceb2b"
      },
      "execution_count": 277,
      "outputs": [
        {
          "output_type": "execute_result",
          "data": {
            "text/plain": [
              "array([1., 1., 1., ..., 1., 1., 1.])"
            ]
          },
          "metadata": {},
          "execution_count": 277
        }
      ]
    },
    {
      "cell_type": "code",
      "source": [
        "print('Desempeño en entrenamiento:', modeloResP.score(xPruebaRes,yPruebaRes))"
      ],
      "metadata": {
        "colab": {
          "base_uri": "https://localhost:8080/"
        },
        "id": "nEJUNOCiPM_X",
        "outputId": "1526248c-2d8b-4434-d8f3-063f1fd66894"
      },
      "execution_count": 278,
      "outputs": [
        {
          "output_type": "stream",
          "name": "stdout",
          "text": [
            "Desempeño en entrenamiento: 0.9888955164529277\n"
          ]
        }
      ]
    }
  ]
}