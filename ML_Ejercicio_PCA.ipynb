{
  "nbformat": 4,
  "nbformat_minor": 0,
  "metadata": {
    "colab": {
      "name": "ML Ejercicio PCA.ipynb",
      "provenance": [],
      "include_colab_link": true
    },
    "kernelspec": {
      "name": "python3",
      "display_name": "Python 3"
    },
    "language_info": {
      "name": "python"
    }
  },
  "cells": [
    {
      "cell_type": "markdown",
      "metadata": {
        "id": "view-in-github",
        "colab_type": "text"
      },
      "source": [
        "<a href=\"https://colab.research.google.com/github/Simon-creator-jara/Inteligencia_artificial/blob/main/ML_Ejercicio_PCA.ipynb\" target=\"_parent\"><img src=\"https://colab.research.google.com/assets/colab-badge.svg\" alt=\"Open In Colab\"/></a>"
      ]
    },
    {
      "cell_type": "code",
      "execution_count": null,
      "metadata": {
        "id": "UdnqtFTuHu4e"
      },
      "outputs": [],
      "source": [
        "import numpy as np\n",
        "import pandas as pd\n",
        "import seaborn as sns\n",
        "import matplotlib.pyplot as plt"
      ]
    },
    {
      "cell_type": "code",
      "source": [
        "df = pd.read_csv('ANSUR II FEMALE Public.csv')"
      ],
      "metadata": {
        "id": "oMwYXvvEIoBI"
      },
      "execution_count": null,
      "outputs": []
    },
    {
      "cell_type": "code",
      "source": [
        "df.shape"
      ],
      "metadata": {
        "colab": {
          "base_uri": "https://localhost:8080/"
        },
        "id": "KFoZztcFI-Yu",
        "outputId": "c6da1016-8967-454d-db7f-fe8615a33044"
      },
      "execution_count": null,
      "outputs": [
        {
          "output_type": "execute_result",
          "data": {
            "text/plain": [
              "(1986, 108)"
            ]
          },
          "metadata": {},
          "execution_count": 16
        }
      ]
    },
    {
      "cell_type": "code",
      "source": [
        "df.info()"
      ],
      "metadata": {
        "colab": {
          "base_uri": "https://localhost:8080/"
        },
        "id": "z56v1oVAPJtL",
        "outputId": "604f05cd-b359-42b7-def2-997e968ed26e"
      },
      "execution_count": null,
      "outputs": [
        {
          "output_type": "stream",
          "name": "stdout",
          "text": [
            "<class 'pandas.core.frame.DataFrame'>\n",
            "RangeIndex: 1986 entries, 0 to 1985\n",
            "Columns: 104 entries, abdominalextensiondepthsitting to WritingPreference\n",
            "dtypes: int64(98), object(6)\n",
            "memory usage: 1.6+ MB\n"
          ]
        }
      ]
    },
    {
      "cell_type": "code",
      "source": [
        "df.describe()"
      ],
      "metadata": {
        "colab": {
          "base_uri": "https://localhost:8080/",
          "height": 393
        },
        "id": "-hYza0ZUJAAO",
        "outputId": "970ecdc1-2ae3-406e-c93a-34c77baab2bd"
      },
      "execution_count": null,
      "outputs": [
        {
          "output_type": "execute_result",
          "data": {
            "text/plain": [
              "           SubjectId  abdominalextensiondepthsitting  acromialheight  \\\n",
              "count    1986.000000                     1986.000000     1986.000000   \n",
              "mean    22306.606244                      229.651057     1335.095166   \n",
              "std     20904.730297                       31.464691       58.079885   \n",
              "min     10037.000000                      155.000000     1115.000000   \n",
              "25%     17667.000000                      207.000000     1298.000000   \n",
              "50%     22096.500000                      227.000000     1332.000000   \n",
              "75%     26089.750000                      249.000000     1374.000000   \n",
              "max    920103.000000                      358.000000     1536.000000   \n",
              "\n",
              "       acromionradialelength  anklecircumference  axillaheight  \\\n",
              "count            1986.000000         1986.000000   1986.000000   \n",
              "mean              311.198389          215.739678   1239.029708   \n",
              "std                17.164691           14.891757     55.801958   \n",
              "min               249.000000          170.000000   1038.000000   \n",
              "25%               300.000000          205.000000   1202.000000   \n",
              "50%               311.000000          215.000000   1236.000000   \n",
              "75%               323.000000          225.000000   1277.000000   \n",
              "max               371.000000          275.000000   1419.000000   \n",
              "\n",
              "       balloffootcircumference  balloffootlength  biacromialbreadth  \\\n",
              "count              1986.000000        1986.00000        1986.000000   \n",
              "mean                228.110272         182.05136         365.348943   \n",
              "std                  11.771007           9.64192          18.298851   \n",
              "min                 194.000000         151.00000         283.000000   \n",
              "25%                 220.000000         175.00000         353.000000   \n",
              "50%                 227.000000         182.00000         365.000000   \n",
              "75%                 236.000000         188.00000         378.000000   \n",
              "max                 270.000000         216.00000         422.000000   \n",
              "\n",
              "       bicepscircumferenceflexed  ...  waistfrontlengthsitting  \\\n",
              "count                1986.000000  ...              1986.000000   \n",
              "mean                  305.578550  ...               355.136455   \n",
              "std                    30.757033  ...                23.945046   \n",
              "min                   216.000000  ...               289.000000   \n",
              "25%                   285.000000  ...               338.000000   \n",
              "50%                   304.000000  ...               355.000000   \n",
              "75%                   324.000000  ...               370.000000   \n",
              "max                   435.000000  ...               432.000000   \n",
              "\n",
              "       waistheightomphalion     weightkg  wristcircumference  wristheight  \\\n",
              "count           1986.000000  1986.000000         1986.000000  1986.000000   \n",
              "mean             980.149043   677.582075          154.792548   794.190332   \n",
              "std               50.022715   109.846458            7.827695    38.194755   \n",
              "min              805.000000   358.000000          124.000000   672.000000   \n",
              "25%              947.000000   601.000000          150.000000   769.000000   \n",
              "50%              977.500000   668.000000          154.000000   794.000000   \n",
              "75%             1013.000000   745.750000          160.000000   819.000000   \n",
              "max             1142.000000  1196.000000          183.000000   941.000000   \n",
              "\n",
              "       SubjectNumericRace      DODRace          Age     Heightin    Weightlbs  \n",
              "count         1986.000000  1986.000000  1986.000000  1986.000000  1986.000000  \n",
              "mean            35.072004     1.781470    28.943605    64.601712   147.505035  \n",
              "std            955.582848     0.999536     8.332078     2.801938    22.855371  \n",
              "min              1.000000     1.000000    17.000000    56.000000    86.000000  \n",
              "25%              1.000000     1.000000    22.000000    63.000000   130.000000  \n",
              "50%              2.000000     2.000000    27.000000    64.000000   145.000000  \n",
              "75%              3.000000     2.000000    34.000000    66.000000   161.000000  \n",
              "max          42351.000000     6.000000    58.000000    80.000000   270.000000  \n",
              "\n",
              "[8 rows x 99 columns]"
            ],
            "text/html": [
              "\n",
              "  <div id=\"df-1dcfad6f-3d15-466f-a834-0bbafc7a3ecd\">\n",
              "    <div class=\"colab-df-container\">\n",
              "      <div>\n",
              "<style scoped>\n",
              "    .dataframe tbody tr th:only-of-type {\n",
              "        vertical-align: middle;\n",
              "    }\n",
              "\n",
              "    .dataframe tbody tr th {\n",
              "        vertical-align: top;\n",
              "    }\n",
              "\n",
              "    .dataframe thead th {\n",
              "        text-align: right;\n",
              "    }\n",
              "</style>\n",
              "<table border=\"1\" class=\"dataframe\">\n",
              "  <thead>\n",
              "    <tr style=\"text-align: right;\">\n",
              "      <th></th>\n",
              "      <th>SubjectId</th>\n",
              "      <th>abdominalextensiondepthsitting</th>\n",
              "      <th>acromialheight</th>\n",
              "      <th>acromionradialelength</th>\n",
              "      <th>anklecircumference</th>\n",
              "      <th>axillaheight</th>\n",
              "      <th>balloffootcircumference</th>\n",
              "      <th>balloffootlength</th>\n",
              "      <th>biacromialbreadth</th>\n",
              "      <th>bicepscircumferenceflexed</th>\n",
              "      <th>...</th>\n",
              "      <th>waistfrontlengthsitting</th>\n",
              "      <th>waistheightomphalion</th>\n",
              "      <th>weightkg</th>\n",
              "      <th>wristcircumference</th>\n",
              "      <th>wristheight</th>\n",
              "      <th>SubjectNumericRace</th>\n",
              "      <th>DODRace</th>\n",
              "      <th>Age</th>\n",
              "      <th>Heightin</th>\n",
              "      <th>Weightlbs</th>\n",
              "    </tr>\n",
              "  </thead>\n",
              "  <tbody>\n",
              "    <tr>\n",
              "      <th>count</th>\n",
              "      <td>1986.000000</td>\n",
              "      <td>1986.000000</td>\n",
              "      <td>1986.000000</td>\n",
              "      <td>1986.000000</td>\n",
              "      <td>1986.000000</td>\n",
              "      <td>1986.000000</td>\n",
              "      <td>1986.000000</td>\n",
              "      <td>1986.00000</td>\n",
              "      <td>1986.000000</td>\n",
              "      <td>1986.000000</td>\n",
              "      <td>...</td>\n",
              "      <td>1986.000000</td>\n",
              "      <td>1986.000000</td>\n",
              "      <td>1986.000000</td>\n",
              "      <td>1986.000000</td>\n",
              "      <td>1986.000000</td>\n",
              "      <td>1986.000000</td>\n",
              "      <td>1986.000000</td>\n",
              "      <td>1986.000000</td>\n",
              "      <td>1986.000000</td>\n",
              "      <td>1986.000000</td>\n",
              "    </tr>\n",
              "    <tr>\n",
              "      <th>mean</th>\n",
              "      <td>22306.606244</td>\n",
              "      <td>229.651057</td>\n",
              "      <td>1335.095166</td>\n",
              "      <td>311.198389</td>\n",
              "      <td>215.739678</td>\n",
              "      <td>1239.029708</td>\n",
              "      <td>228.110272</td>\n",
              "      <td>182.05136</td>\n",
              "      <td>365.348943</td>\n",
              "      <td>305.578550</td>\n",
              "      <td>...</td>\n",
              "      <td>355.136455</td>\n",
              "      <td>980.149043</td>\n",
              "      <td>677.582075</td>\n",
              "      <td>154.792548</td>\n",
              "      <td>794.190332</td>\n",
              "      <td>35.072004</td>\n",
              "      <td>1.781470</td>\n",
              "      <td>28.943605</td>\n",
              "      <td>64.601712</td>\n",
              "      <td>147.505035</td>\n",
              "    </tr>\n",
              "    <tr>\n",
              "      <th>std</th>\n",
              "      <td>20904.730297</td>\n",
              "      <td>31.464691</td>\n",
              "      <td>58.079885</td>\n",
              "      <td>17.164691</td>\n",
              "      <td>14.891757</td>\n",
              "      <td>55.801958</td>\n",
              "      <td>11.771007</td>\n",
              "      <td>9.64192</td>\n",
              "      <td>18.298851</td>\n",
              "      <td>30.757033</td>\n",
              "      <td>...</td>\n",
              "      <td>23.945046</td>\n",
              "      <td>50.022715</td>\n",
              "      <td>109.846458</td>\n",
              "      <td>7.827695</td>\n",
              "      <td>38.194755</td>\n",
              "      <td>955.582848</td>\n",
              "      <td>0.999536</td>\n",
              "      <td>8.332078</td>\n",
              "      <td>2.801938</td>\n",
              "      <td>22.855371</td>\n",
              "    </tr>\n",
              "    <tr>\n",
              "      <th>min</th>\n",
              "      <td>10037.000000</td>\n",
              "      <td>155.000000</td>\n",
              "      <td>1115.000000</td>\n",
              "      <td>249.000000</td>\n",
              "      <td>170.000000</td>\n",
              "      <td>1038.000000</td>\n",
              "      <td>194.000000</td>\n",
              "      <td>151.00000</td>\n",
              "      <td>283.000000</td>\n",
              "      <td>216.000000</td>\n",
              "      <td>...</td>\n",
              "      <td>289.000000</td>\n",
              "      <td>805.000000</td>\n",
              "      <td>358.000000</td>\n",
              "      <td>124.000000</td>\n",
              "      <td>672.000000</td>\n",
              "      <td>1.000000</td>\n",
              "      <td>1.000000</td>\n",
              "      <td>17.000000</td>\n",
              "      <td>56.000000</td>\n",
              "      <td>86.000000</td>\n",
              "    </tr>\n",
              "    <tr>\n",
              "      <th>25%</th>\n",
              "      <td>17667.000000</td>\n",
              "      <td>207.000000</td>\n",
              "      <td>1298.000000</td>\n",
              "      <td>300.000000</td>\n",
              "      <td>205.000000</td>\n",
              "      <td>1202.000000</td>\n",
              "      <td>220.000000</td>\n",
              "      <td>175.00000</td>\n",
              "      <td>353.000000</td>\n",
              "      <td>285.000000</td>\n",
              "      <td>...</td>\n",
              "      <td>338.000000</td>\n",
              "      <td>947.000000</td>\n",
              "      <td>601.000000</td>\n",
              "      <td>150.000000</td>\n",
              "      <td>769.000000</td>\n",
              "      <td>1.000000</td>\n",
              "      <td>1.000000</td>\n",
              "      <td>22.000000</td>\n",
              "      <td>63.000000</td>\n",
              "      <td>130.000000</td>\n",
              "    </tr>\n",
              "    <tr>\n",
              "      <th>50%</th>\n",
              "      <td>22096.500000</td>\n",
              "      <td>227.000000</td>\n",
              "      <td>1332.000000</td>\n",
              "      <td>311.000000</td>\n",
              "      <td>215.000000</td>\n",
              "      <td>1236.000000</td>\n",
              "      <td>227.000000</td>\n",
              "      <td>182.00000</td>\n",
              "      <td>365.000000</td>\n",
              "      <td>304.000000</td>\n",
              "      <td>...</td>\n",
              "      <td>355.000000</td>\n",
              "      <td>977.500000</td>\n",
              "      <td>668.000000</td>\n",
              "      <td>154.000000</td>\n",
              "      <td>794.000000</td>\n",
              "      <td>2.000000</td>\n",
              "      <td>2.000000</td>\n",
              "      <td>27.000000</td>\n",
              "      <td>64.000000</td>\n",
              "      <td>145.000000</td>\n",
              "    </tr>\n",
              "    <tr>\n",
              "      <th>75%</th>\n",
              "      <td>26089.750000</td>\n",
              "      <td>249.000000</td>\n",
              "      <td>1374.000000</td>\n",
              "      <td>323.000000</td>\n",
              "      <td>225.000000</td>\n",
              "      <td>1277.000000</td>\n",
              "      <td>236.000000</td>\n",
              "      <td>188.00000</td>\n",
              "      <td>378.000000</td>\n",
              "      <td>324.000000</td>\n",
              "      <td>...</td>\n",
              "      <td>370.000000</td>\n",
              "      <td>1013.000000</td>\n",
              "      <td>745.750000</td>\n",
              "      <td>160.000000</td>\n",
              "      <td>819.000000</td>\n",
              "      <td>3.000000</td>\n",
              "      <td>2.000000</td>\n",
              "      <td>34.000000</td>\n",
              "      <td>66.000000</td>\n",
              "      <td>161.000000</td>\n",
              "    </tr>\n",
              "    <tr>\n",
              "      <th>max</th>\n",
              "      <td>920103.000000</td>\n",
              "      <td>358.000000</td>\n",
              "      <td>1536.000000</td>\n",
              "      <td>371.000000</td>\n",
              "      <td>275.000000</td>\n",
              "      <td>1419.000000</td>\n",
              "      <td>270.000000</td>\n",
              "      <td>216.00000</td>\n",
              "      <td>422.000000</td>\n",
              "      <td>435.000000</td>\n",
              "      <td>...</td>\n",
              "      <td>432.000000</td>\n",
              "      <td>1142.000000</td>\n",
              "      <td>1196.000000</td>\n",
              "      <td>183.000000</td>\n",
              "      <td>941.000000</td>\n",
              "      <td>42351.000000</td>\n",
              "      <td>6.000000</td>\n",
              "      <td>58.000000</td>\n",
              "      <td>80.000000</td>\n",
              "      <td>270.000000</td>\n",
              "    </tr>\n",
              "  </tbody>\n",
              "</table>\n",
              "<p>8 rows × 99 columns</p>\n",
              "</div>\n",
              "      <button class=\"colab-df-convert\" onclick=\"convertToInteractive('df-1dcfad6f-3d15-466f-a834-0bbafc7a3ecd')\"\n",
              "              title=\"Convert this dataframe to an interactive table.\"\n",
              "              style=\"display:none;\">\n",
              "        \n",
              "  <svg xmlns=\"http://www.w3.org/2000/svg\" height=\"24px\"viewBox=\"0 0 24 24\"\n",
              "       width=\"24px\">\n",
              "    <path d=\"M0 0h24v24H0V0z\" fill=\"none\"/>\n",
              "    <path d=\"M18.56 5.44l.94 2.06.94-2.06 2.06-.94-2.06-.94-.94-2.06-.94 2.06-2.06.94zm-11 1L8.5 8.5l.94-2.06 2.06-.94-2.06-.94L8.5 2.5l-.94 2.06-2.06.94zm10 10l.94 2.06.94-2.06 2.06-.94-2.06-.94-.94-2.06-.94 2.06-2.06.94z\"/><path d=\"M17.41 7.96l-1.37-1.37c-.4-.4-.92-.59-1.43-.59-.52 0-1.04.2-1.43.59L10.3 9.45l-7.72 7.72c-.78.78-.78 2.05 0 2.83L4 21.41c.39.39.9.59 1.41.59.51 0 1.02-.2 1.41-.59l7.78-7.78 2.81-2.81c.8-.78.8-2.07 0-2.86zM5.41 20L4 18.59l7.72-7.72 1.47 1.35L5.41 20z\"/>\n",
              "  </svg>\n",
              "      </button>\n",
              "      \n",
              "  <style>\n",
              "    .colab-df-container {\n",
              "      display:flex;\n",
              "      flex-wrap:wrap;\n",
              "      gap: 12px;\n",
              "    }\n",
              "\n",
              "    .colab-df-convert {\n",
              "      background-color: #E8F0FE;\n",
              "      border: none;\n",
              "      border-radius: 50%;\n",
              "      cursor: pointer;\n",
              "      display: none;\n",
              "      fill: #1967D2;\n",
              "      height: 32px;\n",
              "      padding: 0 0 0 0;\n",
              "      width: 32px;\n",
              "    }\n",
              "\n",
              "    .colab-df-convert:hover {\n",
              "      background-color: #E2EBFA;\n",
              "      box-shadow: 0px 1px 2px rgba(60, 64, 67, 0.3), 0px 1px 3px 1px rgba(60, 64, 67, 0.15);\n",
              "      fill: #174EA6;\n",
              "    }\n",
              "\n",
              "    [theme=dark] .colab-df-convert {\n",
              "      background-color: #3B4455;\n",
              "      fill: #D2E3FC;\n",
              "    }\n",
              "\n",
              "    [theme=dark] .colab-df-convert:hover {\n",
              "      background-color: #434B5C;\n",
              "      box-shadow: 0px 1px 3px 1px rgba(0, 0, 0, 0.15);\n",
              "      filter: drop-shadow(0px 1px 2px rgba(0, 0, 0, 0.3));\n",
              "      fill: #FFFFFF;\n",
              "    }\n",
              "  </style>\n",
              "\n",
              "      <script>\n",
              "        const buttonEl =\n",
              "          document.querySelector('#df-1dcfad6f-3d15-466f-a834-0bbafc7a3ecd button.colab-df-convert');\n",
              "        buttonEl.style.display =\n",
              "          google.colab.kernel.accessAllowed ? 'block' : 'none';\n",
              "\n",
              "        async function convertToInteractive(key) {\n",
              "          const element = document.querySelector('#df-1dcfad6f-3d15-466f-a834-0bbafc7a3ecd');\n",
              "          const dataTable =\n",
              "            await google.colab.kernel.invokeFunction('convertToInteractive',\n",
              "                                                     [key], {});\n",
              "          if (!dataTable) return;\n",
              "\n",
              "          const docLinkHtml = 'Like what you see? Visit the ' +\n",
              "            '<a target=\"_blank\" href=https://colab.research.google.com/notebooks/data_table.ipynb>data table notebook</a>'\n",
              "            + ' to learn more about interactive tables.';\n",
              "          element.innerHTML = '';\n",
              "          dataTable['output_type'] = 'display_data';\n",
              "          await google.colab.output.renderOutput(dataTable, element);\n",
              "          const docLink = document.createElement('div');\n",
              "          docLink.innerHTML = docLinkHtml;\n",
              "          element.appendChild(docLink);\n",
              "        }\n",
              "      </script>\n",
              "    </div>\n",
              "  </div>\n",
              "  "
            ]
          },
          "metadata": {},
          "execution_count": 17
        }
      ]
    },
    {
      "cell_type": "code",
      "source": [
        "# vemos que no hay nulos\n",
        "df.isnull().sum().sort_values()"
      ],
      "metadata": {
        "colab": {
          "base_uri": "https://localhost:8080/"
        },
        "id": "m2q2UdiAJqFg",
        "outputId": "4696b94d-d687-4e6a-ad4e-92c25f4c664b"
      },
      "execution_count": null,
      "outputs": [
        {
          "output_type": "execute_result",
          "data": {
            "text/plain": [
              "SubjectId                            0\n",
              "tenthribheight                       0\n",
              "suprasternaleheight                  0\n",
              "stature                              0\n",
              "span                                 0\n",
              "                                  ... \n",
              "crotchlengthposterioromphalion       0\n",
              "crotchlengthomphalion                0\n",
              "forearmforearmbreadth                0\n",
              "WritingPreference                    0\n",
              "Ethnicity                         1467\n",
              "Length: 108, dtype: int64"
            ]
          },
          "metadata": {},
          "execution_count": 18
        }
      ]
    },
    {
      "cell_type": "code",
      "source": [
        "df.drop( columns=['Gender','Date','SubjectId','Ethnicity'], inplace=True, axis=1 )\n",
        "df.head()"
      ],
      "metadata": {
        "colab": {
          "base_uri": "https://localhost:8080/",
          "height": 438
        },
        "id": "tQVFoODWLAp9",
        "outputId": "35020a44-b65f-40ae-f4da-bd55022d7a0b"
      },
      "execution_count": null,
      "outputs": [
        {
          "output_type": "execute_result",
          "data": {
            "text/plain": [
              "   abdominalextensiondepthsitting  acromialheight  acromionradialelength  \\\n",
              "0                             231            1282                    301   \n",
              "1                             194            1379                    320   \n",
              "2                             183            1369                    329   \n",
              "3                             261            1356                    306   \n",
              "4                             309            1303                    308   \n",
              "\n",
              "   anklecircumference  axillaheight  balloffootcircumference  \\\n",
              "0                 204          1180                      222   \n",
              "1                 207          1292                      225   \n",
              "2                 233          1271                      237   \n",
              "3                 214          1250                      240   \n",
              "4                 214          1210                      217   \n",
              "\n",
              "   balloffootlength  biacromialbreadth  bicepscircumferenceflexed  \\\n",
              "0               177                373                        315   \n",
              "1               178                372                        272   \n",
              "2               196                397                        300   \n",
              "3               188                384                        364   \n",
              "4               182                378                        320   \n",
              "\n",
              "   bicristalbreadth  ...     Component                  Branch  PrimaryMOS  \\\n",
              "0               263  ...  Regular Army          Combat Support         92Y   \n",
              "1               250  ...  Regular Army  Combat Service Support         25U   \n",
              "2               276  ...  Regular Army  Combat Service Support         35D   \n",
              "3               276  ...  Regular Army  Combat Service Support         25U   \n",
              "4               336  ...  Regular Army             Combat Arms         42A   \n",
              "\n",
              "   SubjectsBirthLocation  SubjectNumericRace  DODRace  Age  Heightin  \\\n",
              "0                Germany                   2        2   26        61   \n",
              "1             California                   3        3   21        64   \n",
              "2                  Texas                   1        1   23        68   \n",
              "3   District of Columbia                   8        2   22        66   \n",
              "4                  Texas                   1        1   45        63   \n",
              "\n",
              "   Weightlbs  WritingPreference  \n",
              "0        142         Right hand  \n",
              "1        120         Right hand  \n",
              "2        147         Right hand  \n",
              "3        175         Right hand  \n",
              "4        195         Right hand  \n",
              "\n",
              "[5 rows x 104 columns]"
            ],
            "text/html": [
              "\n",
              "  <div id=\"df-8c552459-f184-48f0-b826-4e810a1402a4\">\n",
              "    <div class=\"colab-df-container\">\n",
              "      <div>\n",
              "<style scoped>\n",
              "    .dataframe tbody tr th:only-of-type {\n",
              "        vertical-align: middle;\n",
              "    }\n",
              "\n",
              "    .dataframe tbody tr th {\n",
              "        vertical-align: top;\n",
              "    }\n",
              "\n",
              "    .dataframe thead th {\n",
              "        text-align: right;\n",
              "    }\n",
              "</style>\n",
              "<table border=\"1\" class=\"dataframe\">\n",
              "  <thead>\n",
              "    <tr style=\"text-align: right;\">\n",
              "      <th></th>\n",
              "      <th>abdominalextensiondepthsitting</th>\n",
              "      <th>acromialheight</th>\n",
              "      <th>acromionradialelength</th>\n",
              "      <th>anklecircumference</th>\n",
              "      <th>axillaheight</th>\n",
              "      <th>balloffootcircumference</th>\n",
              "      <th>balloffootlength</th>\n",
              "      <th>biacromialbreadth</th>\n",
              "      <th>bicepscircumferenceflexed</th>\n",
              "      <th>bicristalbreadth</th>\n",
              "      <th>...</th>\n",
              "      <th>Component</th>\n",
              "      <th>Branch</th>\n",
              "      <th>PrimaryMOS</th>\n",
              "      <th>SubjectsBirthLocation</th>\n",
              "      <th>SubjectNumericRace</th>\n",
              "      <th>DODRace</th>\n",
              "      <th>Age</th>\n",
              "      <th>Heightin</th>\n",
              "      <th>Weightlbs</th>\n",
              "      <th>WritingPreference</th>\n",
              "    </tr>\n",
              "  </thead>\n",
              "  <tbody>\n",
              "    <tr>\n",
              "      <th>0</th>\n",
              "      <td>231</td>\n",
              "      <td>1282</td>\n",
              "      <td>301</td>\n",
              "      <td>204</td>\n",
              "      <td>1180</td>\n",
              "      <td>222</td>\n",
              "      <td>177</td>\n",
              "      <td>373</td>\n",
              "      <td>315</td>\n",
              "      <td>263</td>\n",
              "      <td>...</td>\n",
              "      <td>Regular Army</td>\n",
              "      <td>Combat Support</td>\n",
              "      <td>92Y</td>\n",
              "      <td>Germany</td>\n",
              "      <td>2</td>\n",
              "      <td>2</td>\n",
              "      <td>26</td>\n",
              "      <td>61</td>\n",
              "      <td>142</td>\n",
              "      <td>Right hand</td>\n",
              "    </tr>\n",
              "    <tr>\n",
              "      <th>1</th>\n",
              "      <td>194</td>\n",
              "      <td>1379</td>\n",
              "      <td>320</td>\n",
              "      <td>207</td>\n",
              "      <td>1292</td>\n",
              "      <td>225</td>\n",
              "      <td>178</td>\n",
              "      <td>372</td>\n",
              "      <td>272</td>\n",
              "      <td>250</td>\n",
              "      <td>...</td>\n",
              "      <td>Regular Army</td>\n",
              "      <td>Combat Service Support</td>\n",
              "      <td>25U</td>\n",
              "      <td>California</td>\n",
              "      <td>3</td>\n",
              "      <td>3</td>\n",
              "      <td>21</td>\n",
              "      <td>64</td>\n",
              "      <td>120</td>\n",
              "      <td>Right hand</td>\n",
              "    </tr>\n",
              "    <tr>\n",
              "      <th>2</th>\n",
              "      <td>183</td>\n",
              "      <td>1369</td>\n",
              "      <td>329</td>\n",
              "      <td>233</td>\n",
              "      <td>1271</td>\n",
              "      <td>237</td>\n",
              "      <td>196</td>\n",
              "      <td>397</td>\n",
              "      <td>300</td>\n",
              "      <td>276</td>\n",
              "      <td>...</td>\n",
              "      <td>Regular Army</td>\n",
              "      <td>Combat Service Support</td>\n",
              "      <td>35D</td>\n",
              "      <td>Texas</td>\n",
              "      <td>1</td>\n",
              "      <td>1</td>\n",
              "      <td>23</td>\n",
              "      <td>68</td>\n",
              "      <td>147</td>\n",
              "      <td>Right hand</td>\n",
              "    </tr>\n",
              "    <tr>\n",
              "      <th>3</th>\n",
              "      <td>261</td>\n",
              "      <td>1356</td>\n",
              "      <td>306</td>\n",
              "      <td>214</td>\n",
              "      <td>1250</td>\n",
              "      <td>240</td>\n",
              "      <td>188</td>\n",
              "      <td>384</td>\n",
              "      <td>364</td>\n",
              "      <td>276</td>\n",
              "      <td>...</td>\n",
              "      <td>Regular Army</td>\n",
              "      <td>Combat Service Support</td>\n",
              "      <td>25U</td>\n",
              "      <td>District of Columbia</td>\n",
              "      <td>8</td>\n",
              "      <td>2</td>\n",
              "      <td>22</td>\n",
              "      <td>66</td>\n",
              "      <td>175</td>\n",
              "      <td>Right hand</td>\n",
              "    </tr>\n",
              "    <tr>\n",
              "      <th>4</th>\n",
              "      <td>309</td>\n",
              "      <td>1303</td>\n",
              "      <td>308</td>\n",
              "      <td>214</td>\n",
              "      <td>1210</td>\n",
              "      <td>217</td>\n",
              "      <td>182</td>\n",
              "      <td>378</td>\n",
              "      <td>320</td>\n",
              "      <td>336</td>\n",
              "      <td>...</td>\n",
              "      <td>Regular Army</td>\n",
              "      <td>Combat Arms</td>\n",
              "      <td>42A</td>\n",
              "      <td>Texas</td>\n",
              "      <td>1</td>\n",
              "      <td>1</td>\n",
              "      <td>45</td>\n",
              "      <td>63</td>\n",
              "      <td>195</td>\n",
              "      <td>Right hand</td>\n",
              "    </tr>\n",
              "  </tbody>\n",
              "</table>\n",
              "<p>5 rows × 104 columns</p>\n",
              "</div>\n",
              "      <button class=\"colab-df-convert\" onclick=\"convertToInteractive('df-8c552459-f184-48f0-b826-4e810a1402a4')\"\n",
              "              title=\"Convert this dataframe to an interactive table.\"\n",
              "              style=\"display:none;\">\n",
              "        \n",
              "  <svg xmlns=\"http://www.w3.org/2000/svg\" height=\"24px\"viewBox=\"0 0 24 24\"\n",
              "       width=\"24px\">\n",
              "    <path d=\"M0 0h24v24H0V0z\" fill=\"none\"/>\n",
              "    <path d=\"M18.56 5.44l.94 2.06.94-2.06 2.06-.94-2.06-.94-.94-2.06-.94 2.06-2.06.94zm-11 1L8.5 8.5l.94-2.06 2.06-.94-2.06-.94L8.5 2.5l-.94 2.06-2.06.94zm10 10l.94 2.06.94-2.06 2.06-.94-2.06-.94-.94-2.06-.94 2.06-2.06.94z\"/><path d=\"M17.41 7.96l-1.37-1.37c-.4-.4-.92-.59-1.43-.59-.52 0-1.04.2-1.43.59L10.3 9.45l-7.72 7.72c-.78.78-.78 2.05 0 2.83L4 21.41c.39.39.9.59 1.41.59.51 0 1.02-.2 1.41-.59l7.78-7.78 2.81-2.81c.8-.78.8-2.07 0-2.86zM5.41 20L4 18.59l7.72-7.72 1.47 1.35L5.41 20z\"/>\n",
              "  </svg>\n",
              "      </button>\n",
              "      \n",
              "  <style>\n",
              "    .colab-df-container {\n",
              "      display:flex;\n",
              "      flex-wrap:wrap;\n",
              "      gap: 12px;\n",
              "    }\n",
              "\n",
              "    .colab-df-convert {\n",
              "      background-color: #E8F0FE;\n",
              "      border: none;\n",
              "      border-radius: 50%;\n",
              "      cursor: pointer;\n",
              "      display: none;\n",
              "      fill: #1967D2;\n",
              "      height: 32px;\n",
              "      padding: 0 0 0 0;\n",
              "      width: 32px;\n",
              "    }\n",
              "\n",
              "    .colab-df-convert:hover {\n",
              "      background-color: #E2EBFA;\n",
              "      box-shadow: 0px 1px 2px rgba(60, 64, 67, 0.3), 0px 1px 3px 1px rgba(60, 64, 67, 0.15);\n",
              "      fill: #174EA6;\n",
              "    }\n",
              "\n",
              "    [theme=dark] .colab-df-convert {\n",
              "      background-color: #3B4455;\n",
              "      fill: #D2E3FC;\n",
              "    }\n",
              "\n",
              "    [theme=dark] .colab-df-convert:hover {\n",
              "      background-color: #434B5C;\n",
              "      box-shadow: 0px 1px 3px 1px rgba(0, 0, 0, 0.15);\n",
              "      filter: drop-shadow(0px 1px 2px rgba(0, 0, 0, 0.3));\n",
              "      fill: #FFFFFF;\n",
              "    }\n",
              "  </style>\n",
              "\n",
              "      <script>\n",
              "        const buttonEl =\n",
              "          document.querySelector('#df-8c552459-f184-48f0-b826-4e810a1402a4 button.colab-df-convert');\n",
              "        buttonEl.style.display =\n",
              "          google.colab.kernel.accessAllowed ? 'block' : 'none';\n",
              "\n",
              "        async function convertToInteractive(key) {\n",
              "          const element = document.querySelector('#df-8c552459-f184-48f0-b826-4e810a1402a4');\n",
              "          const dataTable =\n",
              "            await google.colab.kernel.invokeFunction('convertToInteractive',\n",
              "                                                     [key], {});\n",
              "          if (!dataTable) return;\n",
              "\n",
              "          const docLinkHtml = 'Like what you see? Visit the ' +\n",
              "            '<a target=\"_blank\" href=https://colab.research.google.com/notebooks/data_table.ipynb>data table notebook</a>'\n",
              "            + ' to learn more about interactive tables.';\n",
              "          element.innerHTML = '';\n",
              "          dataTable['output_type'] = 'display_data';\n",
              "          await google.colab.output.renderOutput(dataTable, element);\n",
              "          const docLink = document.createElement('div');\n",
              "          docLink.innerHTML = docLinkHtml;\n",
              "          element.appendChild(docLink);\n",
              "        }\n",
              "      </script>\n",
              "    </div>\n",
              "  </div>\n",
              "  "
            ]
          },
          "metadata": {},
          "execution_count": 19
        }
      ]
    },
    {
      "cell_type": "code",
      "source": [
        "df.shape"
      ],
      "metadata": {
        "colab": {
          "base_uri": "https://localhost:8080/"
        },
        "id": "ulTif5ztL5Wp",
        "outputId": "87edb103-ede8-4a74-dc16-5b0a5ec9a776"
      },
      "execution_count": null,
      "outputs": [
        {
          "output_type": "execute_result",
          "data": {
            "text/plain": [
              "(1986, 104)"
            ]
          },
          "metadata": {},
          "execution_count": 20
        }
      ]
    },
    {
      "cell_type": "code",
      "source": [
        "catCol = df.select_dtypes(include=['category','object']).columns.to_list()\n",
        "\n",
        "numCol = df.select_dtypes(include=['float64', 'int64']).columns.to_list()"
      ],
      "metadata": {
        "id": "_-sjiMqEMEpl"
      },
      "execution_count": null,
      "outputs": []
    },
    {
      "cell_type": "code",
      "source": [
        "data = df.drop(catCol, axis = 1)"
      ],
      "metadata": {
        "id": "5MsyK9GBPDyr"
      },
      "execution_count": null,
      "outputs": []
    },
    {
      "cell_type": "code",
      "source": [
        "data.head()"
      ],
      "metadata": {
        "colab": {
          "base_uri": "https://localhost:8080/",
          "height": 299
        },
        "id": "NLJnbwsHQDpf",
        "outputId": "091f8fd9-f604-4e69-9e2d-4396d67faacb"
      },
      "execution_count": null,
      "outputs": [
        {
          "output_type": "execute_result",
          "data": {
            "text/plain": [
              "   abdominalextensiondepthsitting  acromialheight  acromionradialelength  \\\n",
              "0                             231            1282                    301   \n",
              "1                             194            1379                    320   \n",
              "2                             183            1369                    329   \n",
              "3                             261            1356                    306   \n",
              "4                             309            1303                    308   \n",
              "\n",
              "   anklecircumference  axillaheight  balloffootcircumference  \\\n",
              "0                 204          1180                      222   \n",
              "1                 207          1292                      225   \n",
              "2                 233          1271                      237   \n",
              "3                 214          1250                      240   \n",
              "4                 214          1210                      217   \n",
              "\n",
              "   balloffootlength  biacromialbreadth  bicepscircumferenceflexed  \\\n",
              "0               177                373                        315   \n",
              "1               178                372                        272   \n",
              "2               196                397                        300   \n",
              "3               188                384                        364   \n",
              "4               182                378                        320   \n",
              "\n",
              "   bicristalbreadth  ...  waistfrontlengthsitting  waistheightomphalion  \\\n",
              "0               263  ...                      345                   942   \n",
              "1               250  ...                      329                  1032   \n",
              "2               276  ...                      367                  1035   \n",
              "3               276  ...                      371                   999   \n",
              "4               336  ...                      380                   911   \n",
              "\n",
              "   weightkg  wristcircumference  wristheight  SubjectNumericRace  DODRace  \\\n",
              "0       657                 152          756                   2        2   \n",
              "1       534                 155          815                   3        3   \n",
              "2       663                 162          799                   1        1   \n",
              "3       782                 173          818                   8        2   \n",
              "4       886                 152          762                   1        1   \n",
              "\n",
              "   Age  Heightin  Weightlbs  \n",
              "0   26        61        142  \n",
              "1   21        64        120  \n",
              "2   23        68        147  \n",
              "3   22        66        175  \n",
              "4   45        63        195  \n",
              "\n",
              "[5 rows x 98 columns]"
            ],
            "text/html": [
              "\n",
              "  <div id=\"df-9cdaac01-5f51-49d4-b37d-ec7aecb285a2\">\n",
              "    <div class=\"colab-df-container\">\n",
              "      <div>\n",
              "<style scoped>\n",
              "    .dataframe tbody tr th:only-of-type {\n",
              "        vertical-align: middle;\n",
              "    }\n",
              "\n",
              "    .dataframe tbody tr th {\n",
              "        vertical-align: top;\n",
              "    }\n",
              "\n",
              "    .dataframe thead th {\n",
              "        text-align: right;\n",
              "    }\n",
              "</style>\n",
              "<table border=\"1\" class=\"dataframe\">\n",
              "  <thead>\n",
              "    <tr style=\"text-align: right;\">\n",
              "      <th></th>\n",
              "      <th>abdominalextensiondepthsitting</th>\n",
              "      <th>acromialheight</th>\n",
              "      <th>acromionradialelength</th>\n",
              "      <th>anklecircumference</th>\n",
              "      <th>axillaheight</th>\n",
              "      <th>balloffootcircumference</th>\n",
              "      <th>balloffootlength</th>\n",
              "      <th>biacromialbreadth</th>\n",
              "      <th>bicepscircumferenceflexed</th>\n",
              "      <th>bicristalbreadth</th>\n",
              "      <th>...</th>\n",
              "      <th>waistfrontlengthsitting</th>\n",
              "      <th>waistheightomphalion</th>\n",
              "      <th>weightkg</th>\n",
              "      <th>wristcircumference</th>\n",
              "      <th>wristheight</th>\n",
              "      <th>SubjectNumericRace</th>\n",
              "      <th>DODRace</th>\n",
              "      <th>Age</th>\n",
              "      <th>Heightin</th>\n",
              "      <th>Weightlbs</th>\n",
              "    </tr>\n",
              "  </thead>\n",
              "  <tbody>\n",
              "    <tr>\n",
              "      <th>0</th>\n",
              "      <td>231</td>\n",
              "      <td>1282</td>\n",
              "      <td>301</td>\n",
              "      <td>204</td>\n",
              "      <td>1180</td>\n",
              "      <td>222</td>\n",
              "      <td>177</td>\n",
              "      <td>373</td>\n",
              "      <td>315</td>\n",
              "      <td>263</td>\n",
              "      <td>...</td>\n",
              "      <td>345</td>\n",
              "      <td>942</td>\n",
              "      <td>657</td>\n",
              "      <td>152</td>\n",
              "      <td>756</td>\n",
              "      <td>2</td>\n",
              "      <td>2</td>\n",
              "      <td>26</td>\n",
              "      <td>61</td>\n",
              "      <td>142</td>\n",
              "    </tr>\n",
              "    <tr>\n",
              "      <th>1</th>\n",
              "      <td>194</td>\n",
              "      <td>1379</td>\n",
              "      <td>320</td>\n",
              "      <td>207</td>\n",
              "      <td>1292</td>\n",
              "      <td>225</td>\n",
              "      <td>178</td>\n",
              "      <td>372</td>\n",
              "      <td>272</td>\n",
              "      <td>250</td>\n",
              "      <td>...</td>\n",
              "      <td>329</td>\n",
              "      <td>1032</td>\n",
              "      <td>534</td>\n",
              "      <td>155</td>\n",
              "      <td>815</td>\n",
              "      <td>3</td>\n",
              "      <td>3</td>\n",
              "      <td>21</td>\n",
              "      <td>64</td>\n",
              "      <td>120</td>\n",
              "    </tr>\n",
              "    <tr>\n",
              "      <th>2</th>\n",
              "      <td>183</td>\n",
              "      <td>1369</td>\n",
              "      <td>329</td>\n",
              "      <td>233</td>\n",
              "      <td>1271</td>\n",
              "      <td>237</td>\n",
              "      <td>196</td>\n",
              "      <td>397</td>\n",
              "      <td>300</td>\n",
              "      <td>276</td>\n",
              "      <td>...</td>\n",
              "      <td>367</td>\n",
              "      <td>1035</td>\n",
              "      <td>663</td>\n",
              "      <td>162</td>\n",
              "      <td>799</td>\n",
              "      <td>1</td>\n",
              "      <td>1</td>\n",
              "      <td>23</td>\n",
              "      <td>68</td>\n",
              "      <td>147</td>\n",
              "    </tr>\n",
              "    <tr>\n",
              "      <th>3</th>\n",
              "      <td>261</td>\n",
              "      <td>1356</td>\n",
              "      <td>306</td>\n",
              "      <td>214</td>\n",
              "      <td>1250</td>\n",
              "      <td>240</td>\n",
              "      <td>188</td>\n",
              "      <td>384</td>\n",
              "      <td>364</td>\n",
              "      <td>276</td>\n",
              "      <td>...</td>\n",
              "      <td>371</td>\n",
              "      <td>999</td>\n",
              "      <td>782</td>\n",
              "      <td>173</td>\n",
              "      <td>818</td>\n",
              "      <td>8</td>\n",
              "      <td>2</td>\n",
              "      <td>22</td>\n",
              "      <td>66</td>\n",
              "      <td>175</td>\n",
              "    </tr>\n",
              "    <tr>\n",
              "      <th>4</th>\n",
              "      <td>309</td>\n",
              "      <td>1303</td>\n",
              "      <td>308</td>\n",
              "      <td>214</td>\n",
              "      <td>1210</td>\n",
              "      <td>217</td>\n",
              "      <td>182</td>\n",
              "      <td>378</td>\n",
              "      <td>320</td>\n",
              "      <td>336</td>\n",
              "      <td>...</td>\n",
              "      <td>380</td>\n",
              "      <td>911</td>\n",
              "      <td>886</td>\n",
              "      <td>152</td>\n",
              "      <td>762</td>\n",
              "      <td>1</td>\n",
              "      <td>1</td>\n",
              "      <td>45</td>\n",
              "      <td>63</td>\n",
              "      <td>195</td>\n",
              "    </tr>\n",
              "  </tbody>\n",
              "</table>\n",
              "<p>5 rows × 98 columns</p>\n",
              "</div>\n",
              "      <button class=\"colab-df-convert\" onclick=\"convertToInteractive('df-9cdaac01-5f51-49d4-b37d-ec7aecb285a2')\"\n",
              "              title=\"Convert this dataframe to an interactive table.\"\n",
              "              style=\"display:none;\">\n",
              "        \n",
              "  <svg xmlns=\"http://www.w3.org/2000/svg\" height=\"24px\"viewBox=\"0 0 24 24\"\n",
              "       width=\"24px\">\n",
              "    <path d=\"M0 0h24v24H0V0z\" fill=\"none\"/>\n",
              "    <path d=\"M18.56 5.44l.94 2.06.94-2.06 2.06-.94-2.06-.94-.94-2.06-.94 2.06-2.06.94zm-11 1L8.5 8.5l.94-2.06 2.06-.94-2.06-.94L8.5 2.5l-.94 2.06-2.06.94zm10 10l.94 2.06.94-2.06 2.06-.94-2.06-.94-.94-2.06-.94 2.06-2.06.94z\"/><path d=\"M17.41 7.96l-1.37-1.37c-.4-.4-.92-.59-1.43-.59-.52 0-1.04.2-1.43.59L10.3 9.45l-7.72 7.72c-.78.78-.78 2.05 0 2.83L4 21.41c.39.39.9.59 1.41.59.51 0 1.02-.2 1.41-.59l7.78-7.78 2.81-2.81c.8-.78.8-2.07 0-2.86zM5.41 20L4 18.59l7.72-7.72 1.47 1.35L5.41 20z\"/>\n",
              "  </svg>\n",
              "      </button>\n",
              "      \n",
              "  <style>\n",
              "    .colab-df-container {\n",
              "      display:flex;\n",
              "      flex-wrap:wrap;\n",
              "      gap: 12px;\n",
              "    }\n",
              "\n",
              "    .colab-df-convert {\n",
              "      background-color: #E8F0FE;\n",
              "      border: none;\n",
              "      border-radius: 50%;\n",
              "      cursor: pointer;\n",
              "      display: none;\n",
              "      fill: #1967D2;\n",
              "      height: 32px;\n",
              "      padding: 0 0 0 0;\n",
              "      width: 32px;\n",
              "    }\n",
              "\n",
              "    .colab-df-convert:hover {\n",
              "      background-color: #E2EBFA;\n",
              "      box-shadow: 0px 1px 2px rgba(60, 64, 67, 0.3), 0px 1px 3px 1px rgba(60, 64, 67, 0.15);\n",
              "      fill: #174EA6;\n",
              "    }\n",
              "\n",
              "    [theme=dark] .colab-df-convert {\n",
              "      background-color: #3B4455;\n",
              "      fill: #D2E3FC;\n",
              "    }\n",
              "\n",
              "    [theme=dark] .colab-df-convert:hover {\n",
              "      background-color: #434B5C;\n",
              "      box-shadow: 0px 1px 3px 1px rgba(0, 0, 0, 0.15);\n",
              "      filter: drop-shadow(0px 1px 2px rgba(0, 0, 0, 0.3));\n",
              "      fill: #FFFFFF;\n",
              "    }\n",
              "  </style>\n",
              "\n",
              "      <script>\n",
              "        const buttonEl =\n",
              "          document.querySelector('#df-9cdaac01-5f51-49d4-b37d-ec7aecb285a2 button.colab-df-convert');\n",
              "        buttonEl.style.display =\n",
              "          google.colab.kernel.accessAllowed ? 'block' : 'none';\n",
              "\n",
              "        async function convertToInteractive(key) {\n",
              "          const element = document.querySelector('#df-9cdaac01-5f51-49d4-b37d-ec7aecb285a2');\n",
              "          const dataTable =\n",
              "            await google.colab.kernel.invokeFunction('convertToInteractive',\n",
              "                                                     [key], {});\n",
              "          if (!dataTable) return;\n",
              "\n",
              "          const docLinkHtml = 'Like what you see? Visit the ' +\n",
              "            '<a target=\"_blank\" href=https://colab.research.google.com/notebooks/data_table.ipynb>data table notebook</a>'\n",
              "            + ' to learn more about interactive tables.';\n",
              "          element.innerHTML = '';\n",
              "          dataTable['output_type'] = 'display_data';\n",
              "          await google.colab.output.renderOutput(dataTable, element);\n",
              "          const docLink = document.createElement('div');\n",
              "          docLink.innerHTML = docLinkHtml;\n",
              "          element.appendChild(docLink);\n",
              "        }\n",
              "      </script>\n",
              "    </div>\n",
              "  </div>\n",
              "  "
            ]
          },
          "metadata": {},
          "execution_count": 29
        }
      ]
    },
    {
      "cell_type": "code",
      "source": [
        "from sklearn.preprocessing import StandardScaler\n",
        "\n",
        "scaler = StandardScaler()\n",
        "std_df = scaler.fit_transform(data)"
      ],
      "metadata": {
        "id": "-BC5dw6fQ-Rx"
      },
      "execution_count": null,
      "outputs": []
    },
    {
      "cell_type": "code",
      "source": [
        "std_df.shape"
      ],
      "metadata": {
        "colab": {
          "base_uri": "https://localhost:8080/"
        },
        "id": "61Z11MG5RMVv",
        "outputId": "513e0a10-d7bf-4072-e649-bf4c89add1da"
      },
      "execution_count": null,
      "outputs": [
        {
          "output_type": "execute_result",
          "data": {
            "text/plain": [
              "(1986, 98)"
            ]
          },
          "metadata": {},
          "execution_count": 32
        }
      ]
    },
    {
      "cell_type": "code",
      "source": [
        "from sklearn.decomposition import PCA\n",
        "\n",
        "pca = PCA()\n",
        "pca.fit_transform(std_df).shape"
      ],
      "metadata": {
        "colab": {
          "base_uri": "https://localhost:8080/"
        },
        "id": "rh0azLPbRPsW",
        "outputId": "ae10ae60-a94f-41a0-fc80-1e2d054865c9"
      },
      "execution_count": null,
      "outputs": [
        {
          "output_type": "execute_result",
          "data": {
            "text/plain": [
              "(1986, 98)"
            ]
          },
          "metadata": {},
          "execution_count": 34
        }
      ]
    },
    {
      "cell_type": "code",
      "source": [
        "pca.explained_variance_ratio_"
      ],
      "metadata": {
        "colab": {
          "base_uri": "https://localhost:8080/"
        },
        "id": "MPevRoClRz4g",
        "outputId": "4aef747b-dd65-486c-8525-10a859bd756b"
      },
      "execution_count": null,
      "outputs": [
        {
          "output_type": "execute_result",
          "data": {
            "text/plain": [
              "array([4.33930871e-01, 1.43297871e-01, 5.04492562e-02, 3.67410161e-02,\n",
              "       2.73268257e-02, 2.22060120e-02, 1.88991405e-02, 1.58365434e-02,\n",
              "       1.48635946e-02, 1.31619796e-02, 1.22058823e-02, 1.10709520e-02,\n",
              "       1.04233840e-02, 9.97906226e-03, 9.08673142e-03, 8.73662300e-03,\n",
              "       8.29369853e-03, 8.07514812e-03, 7.63286565e-03, 7.09773043e-03,\n",
              "       7.00606488e-03, 6.40275196e-03, 6.07615372e-03, 5.96371003e-03,\n",
              "       5.74547383e-03, 5.24852491e-03, 4.84686436e-03, 4.40993589e-03,\n",
              "       4.31997454e-03, 4.10826822e-03, 3.72926022e-03, 3.52821345e-03,\n",
              "       3.50532661e-03, 3.28506864e-03, 3.16875864e-03, 2.90364576e-03,\n",
              "       2.79397313e-03, 2.68822586e-03, 2.61956007e-03, 2.47657635e-03,\n",
              "       2.26590857e-03, 2.11811669e-03, 2.03763698e-03, 1.90034083e-03,\n",
              "       1.79258690e-03, 1.71273646e-03, 1.67872712e-03, 1.64299053e-03,\n",
              "       1.55479776e-03, 1.50774659e-03, 1.41642809e-03, 1.38353651e-03,\n",
              "       1.30791972e-03, 1.24577581e-03, 1.22330242e-03, 1.19867100e-03,\n",
              "       1.11649635e-03, 1.08950022e-03, 1.02006871e-03, 9.84717650e-04,\n",
              "       9.44402963e-04, 8.85704286e-04, 8.57320999e-04, 8.36562700e-04,\n",
              "       8.15861227e-04, 7.10653450e-04, 7.03895346e-04, 6.93743591e-04,\n",
              "       6.43653304e-04, 6.04046930e-04, 5.87538845e-04, 5.54336824e-04,\n",
              "       5.25832442e-04, 4.93321391e-04, 4.66428317e-04, 4.08364593e-04,\n",
              "       3.99880323e-04, 3.86656451e-04, 3.80674817e-04, 3.64545686e-04,\n",
              "       3.28498306e-04, 3.07559816e-04, 2.87652624e-04, 2.66117210e-04,\n",
              "       2.52121247e-04, 2.44677142e-04, 2.33515598e-04, 2.16973164e-04,\n",
              "       2.06195467e-04, 1.75832186e-04, 1.65547422e-04, 1.49713825e-04,\n",
              "       1.40428106e-04, 1.20686779e-04, 9.29217036e-05, 8.76346241e-05,\n",
              "       7.11647083e-05, 4.98118850e-05])"
            ]
          },
          "metadata": {},
          "execution_count": 35
        }
      ]
    },
    {
      "cell_type": "code",
      "source": [
        "# Con las primeras 5 componentes tenemos el 75%\n",
        "# Esto no quiere decir que haya una variable que me explique esa varianza\n",
        "# es un cambio en el espacio\n",
        "pca.explained_variance_ratio_.cumsum()"
      ],
      "metadata": {
        "colab": {
          "base_uri": "https://localhost:8080/"
        },
        "id": "l2-u2bn9R3LL",
        "outputId": "aab3fbc3-684b-400f-9bbd-762efbe19a17"
      },
      "execution_count": null,
      "outputs": [
        {
          "output_type": "execute_result",
          "data": {
            "text/plain": [
              "array([0.43393087, 0.57722874, 0.627678  , 0.66441901, 0.69174584,\n",
              "       0.71395185, 0.73285099, 0.74868754, 0.76355113, 0.77671311,\n",
              "       0.78891899, 0.79998994, 0.81041333, 0.82039239, 0.82947912,\n",
              "       0.83821574, 0.84650944, 0.85458459, 0.86221746, 0.86931519,\n",
              "       0.87632125, 0.882724  , 0.88880016, 0.89476387, 0.90050934,\n",
              "       0.90575787, 0.91060473, 0.91501467, 0.91933464, 0.92344291,\n",
              "       0.92717217, 0.93070038, 0.93420571, 0.93749078, 0.94065954,\n",
              "       0.94356318, 0.94635716, 0.94904538, 0.95166494, 0.95414152,\n",
              "       0.95640743, 0.95852554, 0.96056318, 0.96246352, 0.96425611,\n",
              "       0.96596885, 0.96764757, 0.96929056, 0.97084536, 0.97235311,\n",
              "       0.97376954, 0.97515307, 0.97646099, 0.97770677, 0.97893007,\n",
              "       0.98012874, 0.98124524, 0.98233474, 0.98335481, 0.98433952,\n",
              "       0.98528393, 0.98616963, 0.98702695, 0.98786351, 0.98867938,\n",
              "       0.98939003, 0.99009392, 0.99078767, 0.99143132, 0.99203537,\n",
              "       0.99262291, 0.99317724, 0.99370308, 0.9941964 , 0.99466283,\n",
              "       0.99507119, 0.99547107, 0.99585773, 0.9962384 , 0.99660295,\n",
              "       0.99693145, 0.99723901, 0.99752666, 0.99779278, 0.9980449 ,\n",
              "       0.99828957, 0.99852309, 0.99874006, 0.99894626, 0.99912209,\n",
              "       0.99928764, 0.99943735, 0.99957778, 0.99969847, 0.99979139,\n",
              "       0.99987902, 0.99995019, 1.        ])"
            ]
          },
          "metadata": {},
          "execution_count": 36
        }
      ]
    },
    {
      "cell_type": "code",
      "source": [
        "from sklearn.ensemble import RandomForestClassifier\n",
        "from sklearn.pipeline import Pipeline\n",
        "\n",
        "# Son com los pasos\n",
        "pipe = Pipeline( [\n",
        "                  ( 'scaler',StandardScaler() ),\n",
        "                  ('reducer', PCA(n_components=8)),\n",
        "                  ('classifier',RandomForestClassifier()),\n",
        "\n",
        "] )"
      ],
      "metadata": {
        "id": "aWB-ZBbVW2I8"
      },
      "execution_count": null,
      "outputs": []
    },
    {
      "cell_type": "code",
      "source": [
        "pipe['reducer']"
      ],
      "metadata": {
        "colab": {
          "base_uri": "https://localhost:8080/"
        },
        "id": "x2uE_L1SYWLM",
        "outputId": "a0430cf5-a310-4acf-8aca-462625aa9661"
      },
      "execution_count": null,
      "outputs": [
        {
          "output_type": "execute_result",
          "data": {
            "text/plain": [
              "PCA(n_components=8)"
            ]
          },
          "metadata": {},
          "execution_count": 41
        }
      ]
    },
    {
      "cell_type": "code",
      "source": [
        "pipe['classifier']"
      ],
      "metadata": {
        "colab": {
          "base_uri": "https://localhost:8080/"
        },
        "id": "NXesmwcAYZmL",
        "outputId": "6c6e8e9a-1712-40ee-9fa9-08b6c9ca5225"
      },
      "execution_count": null,
      "outputs": [
        {
          "output_type": "execute_result",
          "data": {
            "text/plain": [
              "RandomForestClassifier()"
            ]
          },
          "metadata": {},
          "execution_count": 42
        }
      ]
    },
    {
      "cell_type": "code",
      "source": [
        "from sklearn.model_selection import train_test_split\n",
        "# La variable writing esta muy debalanceada, entonces al intentar predecirla adivinara que escriben con la derecha\n",
        "X_train, X_test, y_train, y_test = train_test_split(data, df['WritingPreference'], test_size=0.2,random_state=42)"
      ],
      "metadata": {
        "id": "MTpF6iBBYxd9"
      },
      "execution_count": null,
      "outputs": []
    },
    {
      "cell_type": "code",
      "source": [
        "# se hacen los pasos\n",
        "pipe.fit(X_train,y_train)"
      ],
      "metadata": {
        "colab": {
          "base_uri": "https://localhost:8080/"
        },
        "id": "b2q6uW0rZmi2",
        "outputId": "01b30188-0e4b-451f-d3ff-c5dc500c5b8e"
      },
      "execution_count": null,
      "outputs": [
        {
          "output_type": "execute_result",
          "data": {
            "text/plain": [
              "Pipeline(steps=[('scaler', StandardScaler()), ('reducer', PCA(n_components=8)),\n",
              "                ('classifier', RandomForestClassifier())])"
            ]
          },
          "metadata": {},
          "execution_count": 45
        }
      ]
    },
    {
      "cell_type": "code",
      "source": [
        "pipe['reducer'].explained_variance_ratio_.sum()"
      ],
      "metadata": {
        "colab": {
          "base_uri": "https://localhost:8080/"
        },
        "id": "aJ3ndckiZ_mr",
        "outputId": "477517b1-5ac1-4da6-a70f-d41ce978fc07"
      },
      "execution_count": null,
      "outputs": [
        {
          "output_type": "execute_result",
          "data": {
            "text/plain": [
              "0.7495325752660231"
            ]
          },
          "metadata": {},
          "execution_count": 47
        }
      ]
    },
    {
      "cell_type": "code",
      "source": [
        "pipe.score(X_test,y_test)"
      ],
      "metadata": {
        "colab": {
          "base_uri": "https://localhost:8080/"
        },
        "id": "MHYi-oQzam5S",
        "outputId": "32bc61c1-6ad9-4d2c-ea4a-c5e86300f233"
      },
      "execution_count": null,
      "outputs": [
        {
          "output_type": "execute_result",
          "data": {
            "text/plain": [
              "0.8869346733668342"
            ]
          },
          "metadata": {},
          "execution_count": 49
        }
      ]
    },
    {
      "cell_type": "code",
      "source": [
        "pipe['reducer'].fit_transform(data)"
      ],
      "metadata": {
        "colab": {
          "base_uri": "https://localhost:8080/"
        },
        "id": "TDFgRyuYawZX",
        "outputId": "18b70295-cdc9-41fd-edb9-c0ac6c87589f"
      },
      "execution_count": null,
      "outputs": [
        {
          "output_type": "execute_result",
          "data": {
            "text/plain": [
              "array([[ -35.70565569,  150.24133813,   85.72322894, ...,   30.02388369,\n",
              "          -4.64436793,   28.34742608],\n",
              "       [ -36.5119576 ,   71.67200195, -401.39758666, ...,    3.99626186,\n",
              "          -2.29287136,  -26.79529389],\n",
              "       [ -34.0028023 ,  -97.22946827, -273.27218749, ...,  131.01733264,\n",
              "         -32.38109495,   17.03965013],\n",
              "       ...,\n",
              "       [ -28.17732699, -193.61628763,  124.7289257 , ...,   12.21254691,\n",
              "          20.87126764,  -16.3184136 ],\n",
              "       [ -34.67433997,  147.7894959 ,   44.88266167, ...,   -1.00366892,\n",
              "         -50.17646322,    5.31077911],\n",
              "       [ -33.91610119,   43.91960541,  -83.22264852, ...,  -12.48828233,\n",
              "        -115.46228934,   18.50659456]])"
            ]
          },
          "metadata": {},
          "execution_count": 51
        }
      ]
    },
    {
      "cell_type": "code",
      "source": [
        "cp = pipe['reducer'].fit_transform(data)"
      ],
      "metadata": {
        "id": "q7HLXAZ6a293"
      },
      "execution_count": null,
      "outputs": []
    },
    {
      "cell_type": "code",
      "source": [
        "cp = cp[:,:2]"
      ],
      "metadata": {
        "id": "-ZSe_iHTa_Lw"
      },
      "execution_count": null,
      "outputs": []
    },
    {
      "cell_type": "code",
      "source": [
        "sns.scatterplot()"
      ],
      "metadata": {
        "colab": {
          "base_uri": "https://localhost:8080/",
          "height": 287
        },
        "id": "KoHDBPSCbCmG",
        "outputId": "6886ca21-864a-4c66-dd53-9eb5a0cf2a9f"
      },
      "execution_count": null,
      "outputs": [
        {
          "output_type": "execute_result",
          "data": {
            "text/plain": [
              "<matplotlib.axes._subplots.AxesSubplot at 0x7fa6e2bc8410>"
            ]
          },
          "metadata": {},
          "execution_count": 55
        },
        {
          "output_type": "display_data",
          "data": {
            "text/plain": [
              "<Figure size 432x288 with 1 Axes>"
            ],
            "image/png": "[encoded data removed]"
          },
          "metadata": {
            "needs_background": "light"
          }
        }
      ]
    }
  ]
}