{
  "nbformat": 4,
  "nbformat_minor": 0,
  "metadata": {
    "colab": {
      "name": "Razonamiento_Aproximado_EvolSearch_SimultaneousEquations.ipynb",
      "provenance": [],
      "include_colab_link": true
    },
    "kernelspec": {
      "name": "python3",
      "display_name": "Python 3"
    },
    "language_info": {
      "name": "python"
    }
  },
  "cells": [
    {
      "cell_type": "markdown",
      "metadata": {
        "id": "view-in-github",
        "colab_type": "text"
      },
      "source": [
        "<a href=\"https://colab.research.google.com/github/Simon-creator-jara/Inteligencia_artificial/blob/main/Razonamiento_Aproximado_EvolSearch_SimultaneousEquations.ipynb\" target=\"_parent\"><img src=\"https://colab.research.google.com/assets/colab-badge.svg\" alt=\"Open In Colab\"/></a>"
      ]
    },
    {
      "cell_type": "markdown",
      "metadata": {
        "id": "rSR_hKDkcdUD"
      },
      "source": [
        "Simple evolutionary algorithm to test oerators"
      ]
    },
    {
      "cell_type": "code",
      "metadata": {
        "id": "oc1E3b90bxQL"
      },
      "source": [
        "import random\n",
        "import numpy as np\n",
        "import matplotlib.pyplot as plt\n",
        "import pandas as pd\n",
        "\n",
        "import time"
      ],
      "execution_count": null,
      "outputs": []
    },
    {
      "cell_type": "markdown",
      "metadata": {
        "id": "eGno18pHcl5I"
      },
      "source": [
        "The cost function is a set of simultaneous equations thatneed to be solved so all are equal to 0"
      ]
    },
    {
      "cell_type": "code",
      "metadata": {
        "id": "WKYcA9ngaONQ"
      },
      "source": [
        "def EvalFuns (x,y,z):\n",
        "\n",
        "# Equs to be 0\n",
        "  Eq1 = x + 2*y - 3*z + 7\n",
        "  Eq2 = 3*x - y + 7*z + 20\n",
        "  Eq3 = 7*x - 3*y - z - 6\n",
        "  # Eq4 = x + y + z -3\n",
        "  # Eq3 = 0\n",
        "\n",
        "  # Return the total error\n",
        "  return ( (abs(Eq1) + abs(Eq2) + abs(Eq3)) )"
      ],
      "execution_count": null,
      "outputs": []
    },
    {
      "cell_type": "markdown",
      "metadata": {
        "id": "QDAtst4tc5ZV"
      },
      "source": [
        "Call the cost function for each individual in a population"
      ]
    },
    {
      "cell_type": "code",
      "metadata": {
        "id": "sSy25sLlc5N6"
      },
      "source": [
        "def EvalPop (ep_pop_size, ep_pop_individuals):\n",
        "\n",
        "  # Save space to save the results from the evaluation of the whole population\n",
        "  # (index of individual in the population array and its fitness)\n",
        "  fit_popFit = np.zeros((ep_pop_size,2))\n",
        "\n",
        "  # Process the whole population\n",
        "  for i in range(ep_pop_size):\n",
        "    fit_calculated = EvalFuns(ep_pop_individuals[i][0],ep_pop_individuals[i][1],ep_pop_individuals[i][2])\n",
        "    fit_popFit[i][0] = i\n",
        "    fit_popFit[i][1] = fit_calculated\n",
        "\n",
        "  # return (fit_bestI, fit_aveF)\n",
        "  return (fit_popFit)\n"
      ],
      "execution_count": null,
      "outputs": []
    },
    {
      "cell_type": "markdown",
      "metadata": {
        "id": "jR6du4TcdEVY"
      },
      "source": [
        "Set variables and parameters for the search"
      ]
    },
    {
      "cell_type": "code",
      "metadata": {
        "id": "Odz3BGzIFRRB"
      },
      "source": [
        "# Set the generation parameters and create required variables\n",
        "gen_maxGen = 50\n",
        "# Set a variable to kepp a record of the evolution for later analtses, for each\n",
        "# generation save: best fitness, best individial's 3 values, average fitness\n",
        "gen_log = np.zeros((gen_maxGen, 5))\n",
        "\n",
        "\n",
        "# Initial population parameters\n",
        "pop_iniMinVal = -50\n",
        "pop_iniMaxVal = 50\n",
        "pop_size = 120 # 1564000  1200\n",
        "\n",
        "# set status of elitist (1 or 0!!)\n",
        "pop_eliteN = 1\n",
        "\n",
        "# set mutation percentage (in population) and rate (per individual)\n",
        "pop_mutateN = int(pop_size * 0.3)\n",
        "mutMaxV = 0.1\n",
        "mutMinV = -0.1\n",
        "# cap number of individuals to population max size (so 100% mutation can be used safely)\n",
        "pop_mutateN = min(pop_mutateN, (pop_size - pop_eliteN))\n",
        "\n",
        "# set crossover (not really used, is by default the remainder of required individuals)\n",
        "pop_crossN = pop_size - (pop_eliteN + pop_mutateN)\n",
        "\n",
        "# Create the population structure and the intitial random population\n",
        "pop_individuals = np.random.rand(pop_size,3)\n",
        "pop_individuals = pop_individuals * (pop_iniMaxVal - pop_iniMinVal)\n",
        "pop_individuals = pop_individuals + pop_iniMinVal\n",
        "\n",
        "# Buffer to save the new generation while creating it\n",
        "# pop_newGenpop = np.zeros((pop_size,3))\n"
      ],
      "execution_count": null,
      "outputs": []
    },
    {
      "cell_type": "markdown",
      "metadata": {
        "id": "qcAFgPpDGRIH"
      },
      "source": [
        "Start Evolution\n",
        "\n",
        "The selection is done by randomly choosing an individual in the ranked fitness table. The distribution 'random.triangle()' is configured to create a decreasing propbability of choosing larger indices... so beter individuals have higher chance."
      ]
    },
    {
      "cell_type": "code",
      "metadata": {
        "id": "TSXiGn_DGQWE"
      },
      "source": [
        "# Start evolution, iterating over generations, starting at Gen 0\n",
        "gen_currentG = 0\n",
        "\n",
        "# Initilaise a variable so save the best fitness found across generations (inc.\n",
        "# in which generation in which was found), set error to a \"large\" value\n",
        "best_BestFound = np.empty(2)\n",
        "best_BestFound[0] = 100.1        # in col[0] we'll save the error / fitness\n",
        "best_BestFound[1] = 0            # in col[1] we'll save the generation\n",
        "\n",
        "while gen_currentG < gen_maxGen :\n",
        "\n",
        "  # Buffer to save the new generation (population) while creating it\n",
        "  pop_newGenpop = np.zeros((pop_size,3))\n",
        "\n",
        "  # Evaluate fitness of all individuals in the population and rank by fitness (lower to larger error)\n",
        "  pop_genFit = EvalPop(pop_size, pop_individuals)\n",
        "  pop_genRank = pop_genFit[pop_genFit[:, 1].argsort()]\n",
        "\n",
        "  # Follow evolution and save the log data for analysis\n",
        "  gen_log[gen_currentG, 0] = pop_genRank[0,1]                          # Best fitness this generation\n",
        "  gen_log[gen_currentG, 1] = pop_individuals[int(pop_genRank[0,0]),0]  # x for best individual\n",
        "  gen_log[gen_currentG, 2] = pop_individuals[int(pop_genRank[0,0]),1]  # y for best individual\n",
        "  gen_log[gen_currentG, 3] = pop_individuals[int(pop_genRank[0,0]),2]  # z for best individual\n",
        "  gen_log[gen_currentG, 4] = np.sum(pop_genRank, axis=0)[1]/pop_size   # Average fitness of population\n",
        "\n",
        "  print (\"Gen's \", gen_currentG, \"best fitnes is \", pop_genRank[0,1], \"and average is \", gen_log[gen_currentG, 4])\n",
        "\n",
        "  # Save when best so far has been found (in which generation)\n",
        "  if best_BestFound[0] > pop_genRank[0,1] :\n",
        "    best_BestFound[0] = pop_genRank[0,1]\n",
        "    best_BestFound[1] = gen_currentG\n",
        "\n",
        "  # Create the new generation, index to count how many so far\n",
        "  newGenPopI = 0\n",
        "\n",
        "  # Save a number of elite individuals, best N\n",
        "  while newGenPopI < pop_eliteN :\n",
        "    pop_newGenpop[newGenPopI,:] = pop_individuals[int(pop_genRank[newGenPopI][0]),:]\n",
        "    newGenPopI = newGenPopI + 1\n",
        "  \n",
        "  # Create new individuals through mutation\n",
        "  while newGenPopI < (pop_eliteN + pop_mutateN) :\n",
        "    chosen = int(random.triangular(0, pop_size, 0))\n",
        "    mutIdx = random.randint(0, 2)\n",
        "    newIndiM = pop_individuals[int(pop_genRank[chosen][0]), :]\n",
        "    newIndiM[mutIdx] = newIndiM[mutIdx] * (1 + random.uniform(mutMinV, mutMaxV))\n",
        "    pop_newGenpop[newGenPopI,:] = newIndiM\n",
        "    newGenPopI = newGenPopI + 1\n",
        "\n",
        "  # Create new individuals through crossover\n",
        "  # Create one from the x, y and z from 3 parents\n",
        "  while newGenPopI < pop_size :\n",
        "    chosen0 = int(random.triangular(0, pop_size, 0))\n",
        "    chosen1 = int(random.triangular(0, pop_size, 0))\n",
        "    chosen2 = int(random.triangular(0, pop_size, 0))\n",
        "    pop_newGenpop[newGenPopI,0] = pop_individuals[int(pop_genRank[chosen0][0]), 0]\n",
        "    pop_newGenpop[newGenPopI,1] = pop_individuals[int(pop_genRank[chosen1][0]), 1]\n",
        "    pop_newGenpop[newGenPopI,2] = pop_individuals[int(pop_genRank[chosen2][0]), 2]\n",
        "    newGenPopI = newGenPopI + 1\n",
        "\n",
        "  # replace the population with the next generation and repeat to timeout\n",
        "  pop_individuals = pop_newGenpop\n",
        "  gen_currentG = gen_currentG + 1\n"
      ],
      "execution_count": null,
      "outputs": []
    },
    {
      "cell_type": "code",
      "metadata": {
        "id": "Rs0Vd-f7XvrC"
      },
      "source": [
        "# Plot evolution of Best and avarage fitness for every generation\n",
        "\n",
        "plt.plot(np.arange(0, gen_maxGen, 1), gen_log[:,0], 'g', linewidth=1.5, label='Best Individual')\n",
        "plt.plot(np.arange(0, gen_maxGen, 1), np.zeros(gen_maxGen), 'w', linewidth=1.5)\n",
        "plt.xlabel(\"generation\")\n",
        "_ = plt.ylabel(\"Error\")\n",
        "plt.title('Evolution of best individual')\n",
        "plt.legend()\n",
        "plt.show()\n",
        "\n",
        "plt.plot(np.arange(0, gen_maxGen, 1), gen_log[:,4], 'g', linewidth=1.5, label='Population Average')\n",
        "plt.plot(np.arange(0, gen_maxGen, 1), np.zeros(gen_maxGen), 'w', linewidth=1.5)\n",
        "plt.xlabel(\"generation\")\n",
        "_ = plt.ylabel(\"average Error\")\n",
        "plt.title('Evolution of population')\n",
        "plt.legend()\n",
        "plt.show()\n"
      ],
      "execution_count": null,
      "outputs": []
    },
    {
      "cell_type": "code",
      "metadata": {
        "id": "A8HIa3WPD9_3"
      },
      "source": [
        "# Results of this run:\n",
        "\n",
        "print(\"Best solution found:\\nError: \", gen_log[49,0], \"\\nFor x,y,z = \", gen_log[49][1:4])\n",
        "print(\"Best solution found in generation \", int(best_BestFound[1])+1, 'of ', gen_currentG )"
      ],
      "execution_count": null,
      "outputs": []
    },
    {
      "cell_type": "markdown",
      "metadata": {
        "id": "_CS_5HIdSR89"
      },
      "source": [
        "Now try different combinations of parameteres, e.g.:\n",
        "*   Number of Generations\n",
        "*   Number of individuals in a population\n",
        "*   Percentage of Mutation vs Crossover\n",
        "*   Amount of mutation\n",
        "\n",
        "Can you check as well how much resources would it be saved (if any at all...) compared to a random search?\n",
        "\n"
      ]
    }
  ]
}