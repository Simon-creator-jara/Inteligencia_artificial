{
  "nbformat": 4,
  "nbformat_minor": 0,
  "metadata": {
    "colab": {
      "name": "Razonamiento_Aproximado_EvolSearch_SimultaneousEquations.ipynb",
      "provenance": [],
      "include_colab_link": true
    },
    "kernelspec": {
      "name": "python3",
      "display_name": "Python 3"
    },
    "language_info": {
      "name": "python"
    }
  },
  "cells": [
    {
      "cell_type": "markdown",
      "metadata": {
        "id": "view-in-github",
        "colab_type": "text"
      },
      "source": [
        "<a href=\"https://colab.research.google.com/github/Simon-creator-jara/Inteligencia_artificial/blob/main/Razonamiento_Aproximado_EvolSearch_SimultaneousEquations.ipynb\" target=\"_parent\"><img src=\"https://colab.research.google.com/assets/colab-badge.svg\" alt=\"Open In Colab\"/></a>"
      ]
    },
    {
      "cell_type": "markdown",
      "metadata": {
        "id": "rSR_hKDkcdUD"
      },
      "source": [
        "Simple evolutionary algorithm to test oerators"
      ]
    },
    {
      "cell_type": "code",
      "metadata": {
        "id": "oc1E3b90bxQL"
      },
      "source": [
        "import random\n",
        "import numpy as np\n",
        "import matplotlib.pyplot as plt\n",
        "import pandas as pd\n",
        "\n",
        "import time"
      ],
      "execution_count": null,
      "outputs": []
    },
    {
      "cell_type": "markdown",
      "metadata": {
        "id": "eGno18pHcl5I"
      },
      "source": [
        "The cost function is a set of simultaneous equations thatneed to be solved so all are equal to 0"
      ]
    },
    {
      "cell_type": "code",
      "metadata": {
        "id": "WKYcA9ngaONQ"
      },
      "source": [
        "def EvalFuns (x,y,z):\n",
        "\n",
        "# Equs to be 0\n",
        "  Eq1 = x + 2*y - 3*z + 7\n",
        "  Eq2 = 3*x - y + 7*z + 20\n",
        "  Eq3 = 7*x - 3*y - z - 6\n",
        "  # Eq4 = x + y + z -3\n",
        "  # Eq3 = 0\n",
        "\n",
        "  # Return the total error\n",
        "  return ( (abs(Eq1) + abs(Eq2) + abs(Eq3)) )"
      ],
      "execution_count": null,
      "outputs": []
    },
    {
      "cell_type": "markdown",
      "metadata": {
        "id": "QDAtst4tc5ZV"
      },
      "source": [
        "Call the cost function for each individual in a population"
      ]
    },
    {
      "cell_type": "code",
      "metadata": {
        "id": "sSy25sLlc5N6"
      },
      "source": [
        "def EvalPop (ep_pop_size, ep_pop_individuals):\n",
        "\n",
        "  # Save space to save the results from the evaluation of the whole population\n",
        "  # (index of individual in the population array and its fitness)\n",
        "  fit_popFit = np.zeros((ep_pop_size,2))\n",
        "\n",
        "  # Process the whole population\n",
        "  for i in range(ep_pop_size):\n",
        "    fit_calculated = EvalFuns(ep_pop_individuals[i][0],ep_pop_individuals[i][1],ep_pop_individuals[i][2])\n",
        "    fit_popFit[i][0] = i\n",
        "    fit_popFit[i][1] = fit_calculated\n",
        "\n",
        "  # return (fit_bestI, fit_aveF)\n",
        "  return (fit_popFit)\n"
      ],
      "execution_count": null,
      "outputs": []
    },
    {
      "cell_type": "markdown",
      "metadata": {
        "id": "jR6du4TcdEVY"
      },
      "source": [
        "Set variables and parameters for the search"
      ]
    },
    {
      "cell_type": "code",
      "metadata": {
        "id": "Odz3BGzIFRRB"
      },
      "source": [
        "# Set the generation parameters and create required variables\n",
        "gen_maxGen = 50\n",
        "# Set a variable to kepp a record of the evolution for later analtses, for each\n",
        "# generation save: best fitness, best individial's 3 values, average fitness\n",
        "gen_log = np.zeros((gen_maxGen, 5))\n",
        "\n",
        "\n",
        "# Initial population parameters\n",
        "pop_iniMinVal = -50\n",
        "pop_iniMaxVal = 50\n",
        "pop_size = 120 # 1564000  1200\n",
        "\n",
        "# set status of elitist (1 or 0!!)\n",
        "pop_eliteN = 1\n",
        "\n",
        "# set mutation percentage (in population) and rate (per individual)\n",
        "pop_mutateN = int(pop_size * 0.3)\n",
        "mutMaxV = 0.1\n",
        "mutMinV = -0.1\n",
        "# cap number of individuals to population max size (so 100% mutation can be used safely)\n",
        "pop_mutateN = min(pop_mutateN, (pop_size - pop_eliteN))\n",
        "\n",
        "# set crossover (not really used, is by default the remainder of required individuals)\n",
        "pop_crossN = pop_size - (pop_eliteN + pop_mutateN)\n",
        "\n",
        "# Create the population structure and the intitial random population\n",
        "pop_individuals = np.random.rand(pop_size,3)\n",
        "pop_individuals = pop_individuals * (pop_iniMaxVal - pop_iniMinVal)\n",
        "pop_individuals = pop_individuals + pop_iniMinVal\n",
        "\n",
        "# Buffer to save the new generation while creating it\n",
        "# pop_newGenpop = np.zeros((pop_size,3))\n"
      ],
      "execution_count": null,
      "outputs": []
    },
    {
      "cell_type": "markdown",
      "metadata": {
        "id": "qcAFgPpDGRIH"
      },
      "source": [
        "Start Evolution\n",
        "\n",
        "The selection is done by randomly choosing an individual in the ranked fitness table. The distribution 'random.triangle()' is configured to create a decreasing propbability of choosing larger indices... so beter individuals have higher chance."
      ]
    },
    {
      "cell_type": "code",
      "metadata": {
        "id": "TSXiGn_DGQWE",
        "colab": {
          "base_uri": "https://localhost:8080/"
        },
        "outputId": "e4e55156-0f42-462e-ef57-28a963f55791"
      },
      "source": [
        "# Start evolution, iterating over generations, starting at Gen 0\n",
        "gen_currentG = 0\n",
        "\n",
        "# Initilaise a variable so save the best fitness found across generations (inc.\n",
        "# in which generation in which was found), set error to a \"large\" value\n",
        "best_BestFound = np.empty(2)\n",
        "best_BestFound[0] = 100.1        # in col[0] we'll save the error / fitness\n",
        "best_BestFound[1] = 0            # in col[1] we'll save the generation\n",
        "\n",
        "while gen_currentG < gen_maxGen :\n",
        "\n",
        "  # Buffer to save the new generation (population) while creating it\n",
        "  pop_newGenpop = np.zeros((pop_size,3))\n",
        "\n",
        "  # Evaluate fitness of all individuals in the population and rank by fitness (lower to larger error)\n",
        "  pop_genFit = EvalPop(pop_size, pop_individuals)\n",
        "  pop_genRank = pop_genFit[pop_genFit[:, 1].argsort()]\n",
        "\n",
        "  # Follow evolution and save the log data for analysis\n",
        "  gen_log[gen_currentG, 0] = pop_genRank[0,1]                          # Best fitness this generation\n",
        "  gen_log[gen_currentG, 1] = pop_individuals[int(pop_genRank[0,0]),0]  # x for best individual\n",
        "  gen_log[gen_currentG, 2] = pop_individuals[int(pop_genRank[0,0]),1]  # y for best individual\n",
        "  gen_log[gen_currentG, 3] = pop_individuals[int(pop_genRank[0,0]),2]  # z for best individual\n",
        "  gen_log[gen_currentG, 4] = np.sum(pop_genRank, axis=0)[1]/pop_size   # Average fitness of population\n",
        "\n",
        "  print (\"Gen's \", gen_currentG, \"best fitnes is \", pop_genRank[0,1], \"and average is \", gen_log[gen_currentG, 4])\n",
        "\n",
        "  # Save when best so far has been found (in which generation)\n",
        "  if best_BestFound[0] > pop_genRank[0,1] :\n",
        "    best_BestFound[0] = pop_genRank[0,1]\n",
        "    best_BestFound[1] = gen_currentG\n",
        "\n",
        "  # Create the new generation, index to count how many so far\n",
        "  newGenPopI = 0\n",
        "\n",
        "  # Save a number of elite individuals, best N\n",
        "  while newGenPopI < pop_eliteN :\n",
        "    pop_newGenpop[newGenPopI,:] = pop_individuals[int(pop_genRank[newGenPopI][0]),:]\n",
        "    newGenPopI = newGenPopI + 1\n",
        "  \n",
        "  # Create new individuals through mutation\n",
        "  while newGenPopI < (pop_eliteN + pop_mutateN) :\n",
        "    chosen = int(random.triangular(0, pop_size, 0))\n",
        "    mutIdx = random.randint(0, 2)\n",
        "    newIndiM = pop_individuals[int(pop_genRank[chosen][0]), :]\n",
        "    newIndiM[mutIdx] = newIndiM[mutIdx] * (1 + random.uniform(mutMinV, mutMaxV))\n",
        "    pop_newGenpop[newGenPopI,:] = newIndiM\n",
        "    newGenPopI = newGenPopI + 1\n",
        "\n",
        "  # Create new individuals through crossover\n",
        "  # Create one from the x, y and z from 3 parents\n",
        "  while newGenPopI < pop_size :\n",
        "    chosen0 = int(random.triangular(0, pop_size, 0))\n",
        "    chosen1 = int(random.triangular(0, pop_size, 0))\n",
        "    chosen2 = int(random.triangular(0, pop_size, 0))\n",
        "    pop_newGenpop[newGenPopI,0] = pop_individuals[int(pop_genRank[chosen0][0]), 0]\n",
        "    pop_newGenpop[newGenPopI,1] = pop_individuals[int(pop_genRank[chosen1][0]), 1]\n",
        "    pop_newGenpop[newGenPopI,2] = pop_individuals[int(pop_genRank[chosen2][0]), 2]\n",
        "    newGenPopI = newGenPopI + 1\n",
        "\n",
        "  # replace the population with the next generation and repeat to timeout\n",
        "  pop_individuals = pop_newGenpop\n",
        "  gen_currentG = gen_currentG + 1\n"
      ],
      "execution_count": null,
      "outputs": [
        {
          "output_type": "stream",
          "name": "stdout",
          "text": [
            "Gen's  0 best fitnes is  92.56262361346819 and average is  495.28194988732497\n",
            "Gen's  1 best fitnes is  30.67083675891191 and average is  383.7487691418268\n",
            "Gen's  2 best fitnes is  30.6158180644658 and average is  313.2267382503166\n",
            "Gen's  3 best fitnes is  30.6158180644658 and average is  246.57361940208614\n",
            "Gen's  4 best fitnes is  30.160693935799305 and average is  185.81693432602893\n",
            "Gen's  5 best fitnes is  24.50668789465467 and average is  141.03778738109028\n",
            "Gen's  6 best fitnes is  10.592856929648878 and average is  116.97936551034667\n",
            "Gen's  7 best fitnes is  8.762154008879925 and average is  85.21367377508189\n",
            "Gen's  8 best fitnes is  5.08625291886588 and average is  66.82798238556516\n",
            "Gen's  9 best fitnes is  4.468306762887732 and average is  52.876485460043185\n",
            "Gen's  10 best fitnes is  4.468306762887732 and average is  39.51963745047228\n",
            "Gen's  11 best fitnes is  4.468306762887732 and average is  32.63013185336122\n",
            "Gen's  12 best fitnes is  2.3975587447587454 and average is  28.459983870526653\n",
            "Gen's  13 best fitnes is  2.3494706963705427 and average is  23.833035189058997\n",
            "Gen's  14 best fitnes is  1.9019393975577916 and average is  19.066294118492692\n",
            "Gen's  15 best fitnes is  1.5231042812033975 and average is  16.08772994571528\n",
            "Gen's  16 best fitnes is  1.5231042812033975 and average is  11.613815859485287\n",
            "Gen's  17 best fitnes is  1.3311262752086979 and average is  8.043996844104885\n",
            "Gen's  18 best fitnes is  0.5662607075857569 and average is  5.702365405555496\n",
            "Gen's  19 best fitnes is  0.5662607075857569 and average is  4.633148572080285\n",
            "Gen's  20 best fitnes is  0.5662607075857569 and average is  4.075206236545074\n",
            "Gen's  21 best fitnes is  0.5662607075857569 and average is  3.5120316587959737\n",
            "Gen's  22 best fitnes is  0.4839228718532089 and average is  2.749506520019699\n",
            "Gen's  23 best fitnes is  0.4839228718532089 and average is  2.5833394883376526\n",
            "Gen's  24 best fitnes is  0.392698889684608 and average is  2.3409591864506454\n",
            "Gen's  25 best fitnes is  0.392698889684608 and average is  2.278429653576155\n",
            "Gen's  26 best fitnes is  0.392698889684608 and average is  2.4893027024417314\n",
            "Gen's  27 best fitnes is  0.392698889684608 and average is  2.865433398337855\n",
            "Gen's  28 best fitnes is  0.34388197283266386 and average is  2.5450871203417815\n",
            "Gen's  29 best fitnes is  0.34388197283266386 and average is  2.5431436833372354\n",
            "Gen's  30 best fitnes is  0.34388197283266386 and average is  2.2928008362415726\n",
            "Gen's  31 best fitnes is  0.15646281666028639 and average is  2.112110372817987\n",
            "Gen's  32 best fitnes is  0.15646281666028639 and average is  1.936583874211691\n",
            "Gen's  33 best fitnes is  0.15646281666028639 and average is  1.9453941502979009\n",
            "Gen's  34 best fitnes is  0.15646281666028639 and average is  1.755632692490177\n",
            "Gen's  35 best fitnes is  0.08695415225274505 and average is  1.8639268311052681\n",
            "Gen's  36 best fitnes is  0.08695415225274505 and average is  1.7902619730634328\n",
            "Gen's  37 best fitnes is  0.08695415225274505 and average is  1.7694022228430974\n",
            "Gen's  38 best fitnes is  0.08695415225274505 and average is  1.7606597373616135\n",
            "Gen's  39 best fitnes is  0.08695415225274505 and average is  1.6491633139628585\n",
            "Gen's  40 best fitnes is  0.08695415225274505 and average is  1.532973321486757\n",
            "Gen's  41 best fitnes is  0.08695415225274505 and average is  1.4837271280849695\n",
            "Gen's  42 best fitnes is  0.08695415225274505 and average is  1.6181369158114334\n",
            "Gen's  43 best fitnes is  0.08695415225274505 and average is  1.6851015839614372\n",
            "Gen's  44 best fitnes is  0.08695415225274505 and average is  1.6999378926499251\n",
            "Gen's  45 best fitnes is  0.08695415225274505 and average is  1.4984442764550097\n",
            "Gen's  46 best fitnes is  0.08695415225274505 and average is  1.3095547399724004\n",
            "Gen's  47 best fitnes is  0.08695415225274505 and average is  1.3159432998182237\n",
            "Gen's  48 best fitnes is  0.08695415225274505 and average is  1.4318104770031306\n",
            "Gen's  49 best fitnes is  0.08695415225274505 and average is  1.7357664973494176\n"
          ]
        }
      ]
    },
    {
      "cell_type": "code",
      "metadata": {
        "id": "Rs0Vd-f7XvrC",
        "colab": {
          "base_uri": "https://localhost:8080/",
          "height": 573
        },
        "outputId": "ac73c01a-a7d8-4036-cfdd-f5d3d8834827"
      },
      "source": [
        "# Plot evolution of Best and avarage fitness for every generation\n",
        "\n",
        "plt.plot(np.arange(0, gen_maxGen, 1), gen_log[:,0], 'g', linewidth=1.5, label='Best Individual')\n",
        "plt.plot(np.arange(0, gen_maxGen, 1), np.zeros(gen_maxGen), 'w', linewidth=1.5)\n",
        "plt.xlabel(\"generation\")\n",
        "_ = plt.ylabel(\"Error\")\n",
        "plt.title('Evolution of best individual')\n",
        "plt.legend()\n",
        "plt.show()\n",
        "\n",
        "plt.plot(np.arange(0, gen_maxGen, 1), gen_log[:,4], 'g', linewidth=1.5, label='Population Average')\n",
        "plt.plot(np.arange(0, gen_maxGen, 1), np.zeros(gen_maxGen), 'w', linewidth=1.5)\n",
        "plt.xlabel(\"generation\")\n",
        "_ = plt.ylabel(\"average Error\")\n",
        "plt.title('Evolution of population')\n",
        "plt.legend()\n",
        "plt.show()\n"
      ],
      "execution_count": null,
      "outputs": [
        {
          "output_type": "display_data",
          "data": {
            "text/plain": [
              "<Figure size 432x288 with 1 Axes>"
            ],
            "image/png": "[encoded data removed]"
          },
          "metadata": {
            "needs_background": "light"
          }
        },
        {
          "output_type": "display_data",
          "data": {
            "text/plain": [
              "<Figure size 432x288 with 1 Axes>"
            ],
            "image/png": "[encoded data removed]"
          },
          "metadata": {
            "needs_background": "light"
          }
        }
      ]
    },
    {
      "cell_type": "code",
      "metadata": {
        "id": "A8HIa3WPD9_3",
        "colab": {
          "base_uri": "https://localhost:8080/"
        },
        "outputId": "f69255d8-2d20-43c0-c790-5f46ed154ee5"
      },
      "source": [
        "# Results of this run:\n",
        "\n",
        "print(\"Best solution found:\\nError: \", gen_log[49,0], \"\\nFor x,y,z = \", gen_log[49][1:4])\n",
        "print(\"Best solution found in generation \", int(best_BestFound[1])+1, 'of ', gen_currentG )"
      ],
      "execution_count": null,
      "outputs": [
        {
          "output_type": "stream",
          "name": "stdout",
          "text": [
            "Best solution found:\n",
            "Error:  0.08695415225274505 \n",
            "For x,y,z =  [-2.3236495  -6.50010535 -2.78437069]\n",
            "Best solution found in generation  36 of  50\n"
          ]
        }
      ]
    },
    {
      "cell_type": "markdown",
      "metadata": {
        "id": "_CS_5HIdSR89"
      },
      "source": [
        "Now try different combinations of parameteres, e.g.:\n",
        "*   Number of Generations\n",
        "*   Number of individuals in a population\n",
        "*   Percentage of Mutation vs Crossover\n",
        "*   Amount of mutation\n",
        "\n",
        "Can you check as well how much resources would it be saved (if any at all...) compared to a random search?\n",
        "\n"
      ]
    },
    {
      "cell_type": "markdown",
      "source": [
        "# ***Librería deap***"
      ],
      "metadata": {
        "id": "pMiZCc6hr4VZ"
      }
    }
  ]
}