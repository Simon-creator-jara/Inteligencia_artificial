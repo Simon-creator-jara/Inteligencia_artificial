{
  "nbformat": 4,
  "nbformat_minor": 0,
  "metadata": {
    "colab": {
      "name": "NLP DA_Classify_Text.ipynb",
      "provenance": [],
      "include_colab_link": true
    },
    "kernelspec": {
      "display_name": "Python 3",
      "name": "python3"
    }
  },
  "cells": [
    {
      "cell_type": "markdown",
      "metadata": {
        "id": "view-in-github",
        "colab_type": "text"
      },
      "source": [
        "<a href=\"https://colab.research.google.com/github/Simon-creator-jara/Inteligencia_artificial/blob/main/NLP_DA_Classify_Text.ipynb\" target=\"_parent\"><img src=\"https://colab.research.google.com/assets/colab-badge.svg\" alt=\"Open In Colab\"/></a>"
      ]
    },
    {
      "cell_type": "markdown",
      "metadata": {
        "id": "XfOwLMgtHh6T"
      },
      "source": [
        "# Clasificación de texto\n",
        "\n",
        "Se utilizará el corpus TASS (http://tass.sepln.org/tass_data/download.php) como ejemplo, de tweets en español que ya están etiquetados."
      ]
    },
    {
      "cell_type": "code",
      "source": [
        "from google.colab import drive\n",
        "drive.mount('/content/drive')"
      ],
      "metadata": {
        "colab": {
          "base_uri": "https://localhost:8080/"
        },
        "id": "x1uTgeGs70nH",
        "outputId": "f5328487-d582-41f8-ba45-9580f4b1954a"
      },
      "execution_count": null,
      "outputs": [
        {
          "output_type": "stream",
          "name": "stdout",
          "text": [
            "Mounted at /content/drive\n"
          ]
        }
      ]
    },
    {
      "cell_type": "code",
      "metadata": {
        "id": "y-XbgqfJ6hXY"
      },
      "source": [
        "import nltk\n",
        "from nltk.corpus import stopwords\n",
        "from nltk import word_tokenize\n",
        "from nltk.data import load\n",
        "from nltk.stem import SnowballStemmer"
      ],
      "execution_count": null,
      "outputs": []
    },
    {
      "cell_type": "code",
      "metadata": {
        "id": "x6MDndfXkZ59",
        "outputId": "957d4986-1987-41d2-89b6-5fd86da55307",
        "colab": {
          "base_uri": "https://localhost:8080/"
        }
      },
      "source": [
        "nltk.download('punkt')\n",
        "nltk.download('stopwords')\n",
        "from nltk.corpus import stopwords\n",
        "stop = stopwords.words('spanish')\n",
        "import pandas as pd\n",
        "from lxml import objectify"
      ],
      "execution_count": null,
      "outputs": [
        {
          "output_type": "stream",
          "name": "stderr",
          "text": [
            "[nltk_data] Downloading package punkt to /root/nltk_data...\n",
            "[nltk_data]   Unzipping tokenizers/punkt.zip.\n",
            "[nltk_data] Downloading package stopwords to /root/nltk_data...\n",
            "[nltk_data]   Unzipping corpora/stopwords.zip.\n"
          ]
        }
      ]
    },
    {
      "cell_type": "markdown",
      "metadata": {
        "id": "BrelY1obokYH"
      },
      "source": [
        "## Cargar los datos desde xml"
      ]
    },
    {
      "cell_type": "code",
      "metadata": {
        "id": "iFksyq9hfOlE",
        "outputId": "51a17405-3259-40dd-c94a-bc91774f0f1b",
        "colab": {
          "base_uri": "https://localhost:8080/"
        }
      },
      "source": [
        "!head -n 30 /content/drive/My\\ Drive/Data_Analytics/Datos_Corpus_TASS/general-train-tagged.xml"
      ],
      "execution_count": null,
      "outputs": [
        {
          "output_type": "stream",
          "name": "stdout",
          "text": [
            "<?xml version=\"1.0\" encoding=\"UTF-8\"?>\n",
            "<tweets>\n",
            " <tweet>\n",
            "  <tweetid>142389495503925248</tweetid>\n",
            "  <user>ccifuentes</user>\n",
            "  <content><![CDATA[Salgo de #VeoTV , que día más largoooooo...]]></content>\n",
            "  <date>2011-12-02T00:47:55</date>\n",
            "  <lang>es</lang>\n",
            "  <sentiments>\n",
            "   <polarity><value>NONE</value><type>AGREEMENT</type></polarity>\n",
            "  </sentiments>\n",
            "  <topics>\n",
            "   <topic>otros</topic>\n",
            "  </topics>\n",
            " </tweet>\n",
            " <tweet>\n",
            "  <tweetid>142389933619945473</tweetid>\n",
            "  <user>CarmendelRiego</user>\n",
            "  <content><![CDATA[@PauladeLasHeras No te libraras de ayudar me/nos. Besos y gracias]]></content>\n",
            "  <date>2011-12-02T00:49:40</date>\n",
            "  <lang>es</lang>\n",
            "  <sentiments>\n",
            "   <polarity><value>NEU</value><type>DISAGREEMENT</type></polarity>\n",
            "   <polarity><entity>@PauladeLasHeras</entity><value>NEU</value><type>DISAGREEMENT</type></polarity>\n",
            "  </sentiments>\n",
            "  <topics>\n",
            "   <topic>otros</topic>\n",
            "  </topics>\n",
            " </tweet>\n",
            " <tweet>\n"
          ]
        }
      ]
    },
    {
      "cell_type": "code",
      "metadata": {
        "id": "0GOtggMmge5f"
      },
      "source": [
        "path='/content/drive/My Drive/Data_Analytics/Datos_Corpus_TASS/'\n",
        "filetrain=path+'general-train-tagged.xml'\n",
        "filetest=path+'general-test-tagged.xml'"
      ],
      "execution_count": null,
      "outputs": []
    },
    {
      "cell_type": "code",
      "metadata": {
        "id": "XZnTERMIkx18"
      },
      "source": [
        "xml = objectify.parse(open(filetrain))\n",
        "root = xml.getroot()"
      ],
      "execution_count": null,
      "outputs": []
    },
    {
      "cell_type": "code",
      "metadata": {
        "id": "I_eLU0RSkMAS",
        "outputId": "cb8cc7d4-ed7d-4588-ae7d-341b1f7b1d34",
        "colab": {
          "base_uri": "https://localhost:8080/",
          "height": 35
        }
      },
      "source": [
        "root.tag"
      ],
      "execution_count": null,
      "outputs": [
        {
          "output_type": "execute_result",
          "data": {
            "text/plain": [
              "'tweets'"
            ],
            "application/vnd.google.colaboratory.intrinsic+json": {
              "type": "string"
            }
          },
          "metadata": {},
          "execution_count": 7
        }
      ]
    },
    {
      "cell_type": "code",
      "metadata": {
        "id": "sYOpB8_tkb-G",
        "outputId": "b8040f07-9903-4bdc-e915-c21db7a0acbe",
        "colab": {
          "base_uri": "https://localhost:8080/"
        }
      },
      "source": [
        "tweets = root.getchildren()\n",
        "len(tweets)"
      ],
      "execution_count": null,
      "outputs": [
        {
          "output_type": "execute_result",
          "data": {
            "text/plain": [
              "7219"
            ]
          },
          "metadata": {},
          "execution_count": 8
        }
      ]
    },
    {
      "cell_type": "code",
      "metadata": {
        "id": "vFNWIjqNk471",
        "outputId": "0110e6af-a231-4624-c60f-66aa0557abc7",
        "colab": {
          "base_uri": "https://localhost:8080/"
        }
      },
      "source": [
        "# Los hijos son lo que está contenido dentro de cada tag tweet, por ejemplo el primero:\n",
        "print(tweets[0].content.text)\n",
        "print(tweets[0].sentiments.polarity.value.text)\n",
        "print(tweets[0].sentiments.polarity.type.text)\n",
        "print(tweets[0].lang.text)\n",
        "print(tweets[0].date.text)\n"
      ],
      "execution_count": null,
      "outputs": [
        {
          "output_type": "stream",
          "name": "stdout",
          "text": [
            "Salgo de #VeoTV , que día más largoooooo...\n",
            "NONE\n",
            "AGREEMENT\n",
            "es\n",
            "2011-12-02T00:47:55\n"
          ]
        }
      ]
    },
    {
      "cell_type": "markdown",
      "metadata": {
        "id": "HiKgoC5UmbNE"
      },
      "source": [
        "Vamos a crear un Dataframe con los datos de los xml, con tres columnas, el contenido de los tweets, el idioma, la polaridad y la columna de agreement que le han agregado"
      ]
    },
    {
      "cell_type": "code",
      "metadata": {
        "id": "44m357xPoALv"
      },
      "source": [
        "def xmlToDataframe(fileXML,type='train'):\n",
        "  xml = objectify.parse(open(fileXML))\n",
        "  root = xml.getroot()\n",
        "  corpus = pd.DataFrame(columns=['content','lang', 'polarity', 'agreement'])\n",
        "  tweets = root.getchildren()\n",
        "  #for i in range(0,len(tweets)):\n",
        "  for i,t in enumerate(tweets):\n",
        "    corpus.loc[i]=[t.content.text, t.lang.text, t.sentiments.polarity.value.text, t.sentiments.polarity.type.text] if type=='train' else \\\n",
        "     [t.content.text, t.lang.text, t.sentiments.polarity.value.text,'']\n",
        "  return corpus"
      ],
      "execution_count": null,
      "outputs": []
    },
    {
      "cell_type": "code",
      "metadata": {
        "id": "LTnPgPPEm-Ql"
      },
      "source": [
        "train=xmlToDataframe(filetrain)"
      ],
      "execution_count": null,
      "outputs": []
    },
    {
      "cell_type": "code",
      "metadata": {
        "id": "nWMS06P3SHRN"
      },
      "source": [
        "test=xmlToDataframe(filetest,type='test')"
      ],
      "execution_count": null,
      "outputs": []
    },
    {
      "cell_type": "code",
      "metadata": {
        "id": "XSQ0DEX_qoRR"
      },
      "source": [
        "corpusTweets=pd.concat([train, test])"
      ],
      "execution_count": null,
      "outputs": []
    },
    {
      "cell_type": "code",
      "metadata": {
        "id": "vZRH2UmW2Llk",
        "outputId": "6d3740a1-842a-41f6-8748-2fbb8bd7e4f6",
        "colab": {
          "base_uri": "https://localhost:8080/"
        }
      },
      "source": [
        "len(corpusTweets)"
      ],
      "execution_count": null,
      "outputs": [
        {
          "output_type": "execute_result",
          "data": {
            "text/plain": [
              "68017"
            ]
          },
          "metadata": {},
          "execution_count": 14
        }
      ]
    },
    {
      "cell_type": "code",
      "metadata": {
        "id": "ja4BG0KV2Udl"
      },
      "source": [
        "corpusTweets.to_csv(path+'general-tagged.csv', encoding='utf8')"
      ],
      "execution_count": null,
      "outputs": []
    },
    {
      "cell_type": "code",
      "metadata": {
        "id": "RuWQYIXQ-hL0",
        "outputId": "882d08ab-5207-46b1-9d50-64b241f5a66b",
        "colab": {
          "base_uri": "https://localhost:8080/",
          "height": 424
        }
      },
      "source": [
        "corpusTweets"
      ],
      "execution_count": null,
      "outputs": [
        {
          "output_type": "execute_result",
          "data": {
            "text/plain": [
              "                                                 content lang polarity  \\\n",
              "0            Salgo de #VeoTV , que día más largoooooo...   es     NONE   \n",
              "1      @PauladeLasHeras No te libraras de ayudar me/n...   es      NEU   \n",
              "2                              @marodriguezb Gracias MAR   es        P   \n",
              "3      Off pensando en el regalito Sinde, la que se v...   es       N+   \n",
              "4      Conozco a alguien q es adicto al drama! Ja ja ...   es       P+   \n",
              "...                                                  ...  ...      ...   \n",
              "60793  @Juandecolmenero @angelrubioti @barbara_ruizp ...   es       P+   \n",
              "60794  Escuchan lo que quieren RT @almudenanegro: El ...   es     NONE   \n",
              "60795  ¿A qué espera el alcalde promarihuana independ...   es        N   \n",
              "60796  Esto es lo que hay... Preocupante la flagrante...   es        N   \n",
              "60797  Rajoy, con el agua al cuello: España se asoma ...   es        N   \n",
              "\n",
              "          agreement  \n",
              "0         AGREEMENT  \n",
              "1      DISAGREEMENT  \n",
              "2         AGREEMENT  \n",
              "3         AGREEMENT  \n",
              "4         AGREEMENT  \n",
              "...             ...  \n",
              "60793                \n",
              "60794                \n",
              "60795                \n",
              "60796                \n",
              "60797                \n",
              "\n",
              "[68017 rows x 4 columns]"
            ],
            "text/html": [
              "\n",
              "  <div id=\"df-e350b614-d14b-4faf-8694-236f750cae78\">\n",
              "    <div class=\"colab-df-container\">\n",
              "      <div>\n",
              "<style scoped>\n",
              "    .dataframe tbody tr th:only-of-type {\n",
              "        vertical-align: middle;\n",
              "    }\n",
              "\n",
              "    .dataframe tbody tr th {\n",
              "        vertical-align: top;\n",
              "    }\n",
              "\n",
              "    .dataframe thead th {\n",
              "        text-align: right;\n",
              "    }\n",
              "</style>\n",
              "<table border=\"1\" class=\"dataframe\">\n",
              "  <thead>\n",
              "    <tr style=\"text-align: right;\">\n",
              "      <th></th>\n",
              "      <th>content</th>\n",
              "      <th>lang</th>\n",
              "      <th>polarity</th>\n",
              "      <th>agreement</th>\n",
              "    </tr>\n",
              "  </thead>\n",
              "  <tbody>\n",
              "    <tr>\n",
              "      <th>0</th>\n",
              "      <td>Salgo de #VeoTV , que día más largoooooo...</td>\n",
              "      <td>es</td>\n",
              "      <td>NONE</td>\n",
              "      <td>AGREEMENT</td>\n",
              "    </tr>\n",
              "    <tr>\n",
              "      <th>1</th>\n",
              "      <td>@PauladeLasHeras No te libraras de ayudar me/n...</td>\n",
              "      <td>es</td>\n",
              "      <td>NEU</td>\n",
              "      <td>DISAGREEMENT</td>\n",
              "    </tr>\n",
              "    <tr>\n",
              "      <th>2</th>\n",
              "      <td>@marodriguezb Gracias MAR</td>\n",
              "      <td>es</td>\n",
              "      <td>P</td>\n",
              "      <td>AGREEMENT</td>\n",
              "    </tr>\n",
              "    <tr>\n",
              "      <th>3</th>\n",
              "      <td>Off pensando en el regalito Sinde, la que se v...</td>\n",
              "      <td>es</td>\n",
              "      <td>N+</td>\n",
              "      <td>AGREEMENT</td>\n",
              "    </tr>\n",
              "    <tr>\n",
              "      <th>4</th>\n",
              "      <td>Conozco a alguien q es adicto al drama! Ja ja ...</td>\n",
              "      <td>es</td>\n",
              "      <td>P+</td>\n",
              "      <td>AGREEMENT</td>\n",
              "    </tr>\n",
              "    <tr>\n",
              "      <th>...</th>\n",
              "      <td>...</td>\n",
              "      <td>...</td>\n",
              "      <td>...</td>\n",
              "      <td>...</td>\n",
              "    </tr>\n",
              "    <tr>\n",
              "      <th>60793</th>\n",
              "      <td>@Juandecolmenero @angelrubioti @barbara_ruizp ...</td>\n",
              "      <td>es</td>\n",
              "      <td>P+</td>\n",
              "      <td></td>\n",
              "    </tr>\n",
              "    <tr>\n",
              "      <th>60794</th>\n",
              "      <td>Escuchan lo que quieren RT @almudenanegro: El ...</td>\n",
              "      <td>es</td>\n",
              "      <td>NONE</td>\n",
              "      <td></td>\n",
              "    </tr>\n",
              "    <tr>\n",
              "      <th>60795</th>\n",
              "      <td>¿A qué espera el alcalde promarihuana independ...</td>\n",
              "      <td>es</td>\n",
              "      <td>N</td>\n",
              "      <td></td>\n",
              "    </tr>\n",
              "    <tr>\n",
              "      <th>60796</th>\n",
              "      <td>Esto es lo que hay... Preocupante la flagrante...</td>\n",
              "      <td>es</td>\n",
              "      <td>N</td>\n",
              "      <td></td>\n",
              "    </tr>\n",
              "    <tr>\n",
              "      <th>60797</th>\n",
              "      <td>Rajoy, con el agua al cuello: España se asoma ...</td>\n",
              "      <td>es</td>\n",
              "      <td>N</td>\n",
              "      <td></td>\n",
              "    </tr>\n",
              "  </tbody>\n",
              "</table>\n",
              "<p>68017 rows × 4 columns</p>\n",
              "</div>\n",
              "      <button class=\"colab-df-convert\" onclick=\"convertToInteractive('df-e350b614-d14b-4faf-8694-236f750cae78')\"\n",
              "              title=\"Convert this dataframe to an interactive table.\"\n",
              "              style=\"display:none;\">\n",
              "        \n",
              "  <svg xmlns=\"http://www.w3.org/2000/svg\" height=\"24px\"viewBox=\"0 0 24 24\"\n",
              "       width=\"24px\">\n",
              "    <path d=\"M0 0h24v24H0V0z\" fill=\"none\"/>\n",
              "    <path d=\"M18.56 5.44l.94 2.06.94-2.06 2.06-.94-2.06-.94-.94-2.06-.94 2.06-2.06.94zm-11 1L8.5 8.5l.94-2.06 2.06-.94-2.06-.94L8.5 2.5l-.94 2.06-2.06.94zm10 10l.94 2.06.94-2.06 2.06-.94-2.06-.94-.94-2.06-.94 2.06-2.06.94z\"/><path d=\"M17.41 7.96l-1.37-1.37c-.4-.4-.92-.59-1.43-.59-.52 0-1.04.2-1.43.59L10.3 9.45l-7.72 7.72c-.78.78-.78 2.05 0 2.83L4 21.41c.39.39.9.59 1.41.59.51 0 1.02-.2 1.41-.59l7.78-7.78 2.81-2.81c.8-.78.8-2.07 0-2.86zM5.41 20L4 18.59l7.72-7.72 1.47 1.35L5.41 20z\"/>\n",
              "  </svg>\n",
              "      </button>\n",
              "      \n",
              "  <style>\n",
              "    .colab-df-container {\n",
              "      display:flex;\n",
              "      flex-wrap:wrap;\n",
              "      gap: 12px;\n",
              "    }\n",
              "\n",
              "    .colab-df-convert {\n",
              "      background-color: #E8F0FE;\n",
              "      border: none;\n",
              "      border-radius: 50%;\n",
              "      cursor: pointer;\n",
              "      display: none;\n",
              "      fill: #1967D2;\n",
              "      height: 32px;\n",
              "      padding: 0 0 0 0;\n",
              "      width: 32px;\n",
              "    }\n",
              "\n",
              "    .colab-df-convert:hover {\n",
              "      background-color: #E2EBFA;\n",
              "      box-shadow: 0px 1px 2px rgba(60, 64, 67, 0.3), 0px 1px 3px 1px rgba(60, 64, 67, 0.15);\n",
              "      fill: #174EA6;\n",
              "    }\n",
              "\n",
              "    [theme=dark] .colab-df-convert {\n",
              "      background-color: #3B4455;\n",
              "      fill: #D2E3FC;\n",
              "    }\n",
              "\n",
              "    [theme=dark] .colab-df-convert:hover {\n",
              "      background-color: #434B5C;\n",
              "      box-shadow: 0px 1px 3px 1px rgba(0, 0, 0, 0.15);\n",
              "      filter: drop-shadow(0px 1px 2px rgba(0, 0, 0, 0.3));\n",
              "      fill: #FFFFFF;\n",
              "    }\n",
              "  </style>\n",
              "\n",
              "      <script>\n",
              "        const buttonEl =\n",
              "          document.querySelector('#df-e350b614-d14b-4faf-8694-236f750cae78 button.colab-df-convert');\n",
              "        buttonEl.style.display =\n",
              "          google.colab.kernel.accessAllowed ? 'block' : 'none';\n",
              "\n",
              "        async function convertToInteractive(key) {\n",
              "          const element = document.querySelector('#df-e350b614-d14b-4faf-8694-236f750cae78');\n",
              "          const dataTable =\n",
              "            await google.colab.kernel.invokeFunction('convertToInteractive',\n",
              "                                                     [key], {});\n",
              "          if (!dataTable) return;\n",
              "\n",
              "          const docLinkHtml = 'Like what you see? Visit the ' +\n",
              "            '<a target=\"_blank\" href=https://colab.research.google.com/notebooks/data_table.ipynb>data table notebook</a>'\n",
              "            + ' to learn more about interactive tables.';\n",
              "          element.innerHTML = '';\n",
              "          dataTable['output_type'] = 'display_data';\n",
              "          await google.colab.output.renderOutput(dataTable, element);\n",
              "          const docLink = document.createElement('div');\n",
              "          docLink.innerHTML = docLinkHtml;\n",
              "          element.appendChild(docLink);\n",
              "        }\n",
              "      </script>\n",
              "    </div>\n",
              "  </div>\n",
              "  "
            ]
          },
          "metadata": {},
          "execution_count": 16
        }
      ]
    },
    {
      "cell_type": "markdown",
      "metadata": {
        "id": "R5r_NCXx4ZiR"
      },
      "source": [
        "## Cargar los datos desde csv"
      ]
    },
    {
      "cell_type": "code",
      "metadata": {
        "id": "Z6JvKjqLWpMC"
      },
      "source": [
        "path='/content/drive/My Drive/Data_Analytics/Datos_Corpus_TASS/'\n",
        "corpusDF=pd.read_csv(path+'general-tagged.csv', encoding='utf8')"
      ],
      "execution_count": null,
      "outputs": []
    },
    {
      "cell_type": "code",
      "metadata": {
        "id": "hI0lQHe6W02B",
        "outputId": "dbde72e8-fa0a-4598-ee4e-6965faad608e",
        "colab": {
          "base_uri": "https://localhost:8080/",
          "height": 589
        }
      },
      "source": [
        "pd.set_option('max_colwidth',1000)\n",
        "corpusDF"
      ],
      "execution_count": null,
      "outputs": [
        {
          "output_type": "execute_result",
          "data": {
            "text/plain": [
              "       Unnamed: 0  \\\n",
              "0               0   \n",
              "1               1   \n",
              "2               2   \n",
              "3               3   \n",
              "4               4   \n",
              "...           ...   \n",
              "68012       60793   \n",
              "68013       60794   \n",
              "68014       60795   \n",
              "68015       60796   \n",
              "68016       60797   \n",
              "\n",
              "                                                                                                                                           content  \\\n",
              "0                                                                                                      Salgo de #VeoTV , que día más largoooooo...   \n",
              "1                                                                                @PauladeLasHeras No te libraras de ayudar me/nos. Besos y gracias   \n",
              "2                                                                                                                        @marodriguezb Gracias MAR   \n",
              "3               Off pensando en el regalito Sinde, la que se va de la SGAE cuando se van sus corruptos. Intento no sacar conclusiones (lo intento)   \n",
              "4                                                                                Conozco a alguien q es adicto al drama! Ja ja ja te suena d algo!   \n",
              "...                                                                                                                                            ...   \n",
              "68012     @Juandecolmenero @angelrubioti @barbara_ruizp @sigfridgras Son los mismos de seguridad con Aznar y ZP. Profesionales. Avanzan si avanza!   \n",
              "68013  Escuchan lo que quieren RT @almudenanegro: El FMI sugiere que España apruebe 1 programa de quitas en la deuda familiar http://t.co/qcmv62XF   \n",
              "68014     ¿A qué espera el alcalde promarihuana independentista de Rasquera para dimitir? Prometió que lo haría si fracasaba. http://t.co/4BcM4fQj   \n",
              "68015  Esto es lo que hay... Preocupante la flagrante falta de liderazgo de Rajoy... Y no me vale que ZP fuera un desastre... http://t.co/c2uY3ukb   \n",
              "68016                                          Rajoy, con el agua al cuello: España se asoma a la zona de rescate. http://t.co/w6qFgfJp#portadaEPC   \n",
              "\n",
              "      lang polarity     agreement  \n",
              "0       es     NONE     AGREEMENT  \n",
              "1       es      NEU  DISAGREEMENT  \n",
              "2       es        P     AGREEMENT  \n",
              "3       es       N+     AGREEMENT  \n",
              "4       es       P+     AGREEMENT  \n",
              "...    ...      ...           ...  \n",
              "68012   es       P+           NaN  \n",
              "68013   es     NONE           NaN  \n",
              "68014   es        N           NaN  \n",
              "68015   es        N           NaN  \n",
              "68016   es        N           NaN  \n",
              "\n",
              "[68017 rows x 5 columns]"
            ],
            "text/html": [
              "\n",
              "  <div id=\"df-a8453819-a940-4246-b431-737810d63fdd\">\n",
              "    <div class=\"colab-df-container\">\n",
              "      <div>\n",
              "<style scoped>\n",
              "    .dataframe tbody tr th:only-of-type {\n",
              "        vertical-align: middle;\n",
              "    }\n",
              "\n",
              "    .dataframe tbody tr th {\n",
              "        vertical-align: top;\n",
              "    }\n",
              "\n",
              "    .dataframe thead th {\n",
              "        text-align: right;\n",
              "    }\n",
              "</style>\n",
              "<table border=\"1\" class=\"dataframe\">\n",
              "  <thead>\n",
              "    <tr style=\"text-align: right;\">\n",
              "      <th></th>\n",
              "      <th>Unnamed: 0</th>\n",
              "      <th>content</th>\n",
              "      <th>lang</th>\n",
              "      <th>polarity</th>\n",
              "      <th>agreement</th>\n",
              "    </tr>\n",
              "  </thead>\n",
              "  <tbody>\n",
              "    <tr>\n",
              "      <th>0</th>\n",
              "      <td>0</td>\n",
              "      <td>Salgo de #VeoTV , que día más largoooooo...</td>\n",
              "      <td>es</td>\n",
              "      <td>NONE</td>\n",
              "      <td>AGREEMENT</td>\n",
              "    </tr>\n",
              "    <tr>\n",
              "      <th>1</th>\n",
              "      <td>1</td>\n",
              "      <td>@PauladeLasHeras No te libraras de ayudar me/nos. Besos y gracias</td>\n",
              "      <td>es</td>\n",
              "      <td>NEU</td>\n",
              "      <td>DISAGREEMENT</td>\n",
              "    </tr>\n",
              "    <tr>\n",
              "      <th>2</th>\n",
              "      <td>2</td>\n",
              "      <td>@marodriguezb Gracias MAR</td>\n",
              "      <td>es</td>\n",
              "      <td>P</td>\n",
              "      <td>AGREEMENT</td>\n",
              "    </tr>\n",
              "    <tr>\n",
              "      <th>3</th>\n",
              "      <td>3</td>\n",
              "      <td>Off pensando en el regalito Sinde, la que se va de la SGAE cuando se van sus corruptos. Intento no sacar conclusiones (lo intento)</td>\n",
              "      <td>es</td>\n",
              "      <td>N+</td>\n",
              "      <td>AGREEMENT</td>\n",
              "    </tr>\n",
              "    <tr>\n",
              "      <th>4</th>\n",
              "      <td>4</td>\n",
              "      <td>Conozco a alguien q es adicto al drama! Ja ja ja te suena d algo!</td>\n",
              "      <td>es</td>\n",
              "      <td>P+</td>\n",
              "      <td>AGREEMENT</td>\n",
              "    </tr>\n",
              "    <tr>\n",
              "      <th>...</th>\n",
              "      <td>...</td>\n",
              "      <td>...</td>\n",
              "      <td>...</td>\n",
              "      <td>...</td>\n",
              "      <td>...</td>\n",
              "    </tr>\n",
              "    <tr>\n",
              "      <th>68012</th>\n",
              "      <td>60793</td>\n",
              "      <td>@Juandecolmenero @angelrubioti @barbara_ruizp @sigfridgras Son los mismos de seguridad con Aznar y ZP. Profesionales. Avanzan si avanza!</td>\n",
              "      <td>es</td>\n",
              "      <td>P+</td>\n",
              "      <td>NaN</td>\n",
              "    </tr>\n",
              "    <tr>\n",
              "      <th>68013</th>\n",
              "      <td>60794</td>\n",
              "      <td>Escuchan lo que quieren RT @almudenanegro: El FMI sugiere que España apruebe 1 programa de quitas en la deuda familiar http://t.co/qcmv62XF</td>\n",
              "      <td>es</td>\n",
              "      <td>NONE</td>\n",
              "      <td>NaN</td>\n",
              "    </tr>\n",
              "    <tr>\n",
              "      <th>68014</th>\n",
              "      <td>60795</td>\n",
              "      <td>¿A qué espera el alcalde promarihuana independentista de Rasquera para dimitir? Prometió que lo haría si fracasaba. http://t.co/4BcM4fQj</td>\n",
              "      <td>es</td>\n",
              "      <td>N</td>\n",
              "      <td>NaN</td>\n",
              "    </tr>\n",
              "    <tr>\n",
              "      <th>68015</th>\n",
              "      <td>60796</td>\n",
              "      <td>Esto es lo que hay... Preocupante la flagrante falta de liderazgo de Rajoy... Y no me vale que ZP fuera un desastre... http://t.co/c2uY3ukb</td>\n",
              "      <td>es</td>\n",
              "      <td>N</td>\n",
              "      <td>NaN</td>\n",
              "    </tr>\n",
              "    <tr>\n",
              "      <th>68016</th>\n",
              "      <td>60797</td>\n",
              "      <td>Rajoy, con el agua al cuello: España se asoma a la zona de rescate. http://t.co/w6qFgfJp#portadaEPC</td>\n",
              "      <td>es</td>\n",
              "      <td>N</td>\n",
              "      <td>NaN</td>\n",
              "    </tr>\n",
              "  </tbody>\n",
              "</table>\n",
              "<p>68017 rows × 5 columns</p>\n",
              "</div>\n",
              "      <button class=\"colab-df-convert\" onclick=\"convertToInteractive('df-a8453819-a940-4246-b431-737810d63fdd')\"\n",
              "              title=\"Convert this dataframe to an interactive table.\"\n",
              "              style=\"display:none;\">\n",
              "        \n",
              "  <svg xmlns=\"http://www.w3.org/2000/svg\" height=\"24px\"viewBox=\"0 0 24 24\"\n",
              "       width=\"24px\">\n",
              "    <path d=\"M0 0h24v24H0V0z\" fill=\"none\"/>\n",
              "    <path d=\"M18.56 5.44l.94 2.06.94-2.06 2.06-.94-2.06-.94-.94-2.06-.94 2.06-2.06.94zm-11 1L8.5 8.5l.94-2.06 2.06-.94-2.06-.94L8.5 2.5l-.94 2.06-2.06.94zm10 10l.94 2.06.94-2.06 2.06-.94-2.06-.94-.94-2.06-.94 2.06-2.06.94z\"/><path d=\"M17.41 7.96l-1.37-1.37c-.4-.4-.92-.59-1.43-.59-.52 0-1.04.2-1.43.59L10.3 9.45l-7.72 7.72c-.78.78-.78 2.05 0 2.83L4 21.41c.39.39.9.59 1.41.59.51 0 1.02-.2 1.41-.59l7.78-7.78 2.81-2.81c.8-.78.8-2.07 0-2.86zM5.41 20L4 18.59l7.72-7.72 1.47 1.35L5.41 20z\"/>\n",
              "  </svg>\n",
              "      </button>\n",
              "      \n",
              "  <style>\n",
              "    .colab-df-container {\n",
              "      display:flex;\n",
              "      flex-wrap:wrap;\n",
              "      gap: 12px;\n",
              "    }\n",
              "\n",
              "    .colab-df-convert {\n",
              "      background-color: #E8F0FE;\n",
              "      border: none;\n",
              "      border-radius: 50%;\n",
              "      cursor: pointer;\n",
              "      display: none;\n",
              "      fill: #1967D2;\n",
              "      height: 32px;\n",
              "      padding: 0 0 0 0;\n",
              "      width: 32px;\n",
              "    }\n",
              "\n",
              "    .colab-df-convert:hover {\n",
              "      background-color: #E2EBFA;\n",
              "      box-shadow: 0px 1px 2px rgba(60, 64, 67, 0.3), 0px 1px 3px 1px rgba(60, 64, 67, 0.15);\n",
              "      fill: #174EA6;\n",
              "    }\n",
              "\n",
              "    [theme=dark] .colab-df-convert {\n",
              "      background-color: #3B4455;\n",
              "      fill: #D2E3FC;\n",
              "    }\n",
              "\n",
              "    [theme=dark] .colab-df-convert:hover {\n",
              "      background-color: #434B5C;\n",
              "      box-shadow: 0px 1px 3px 1px rgba(0, 0, 0, 0.15);\n",
              "      filter: drop-shadow(0px 1px 2px rgba(0, 0, 0, 0.3));\n",
              "      fill: #FFFFFF;\n",
              "    }\n",
              "  </style>\n",
              "\n",
              "      <script>\n",
              "        const buttonEl =\n",
              "          document.querySelector('#df-a8453819-a940-4246-b431-737810d63fdd button.colab-df-convert');\n",
              "        buttonEl.style.display =\n",
              "          google.colab.kernel.accessAllowed ? 'block' : 'none';\n",
              "\n",
              "        async function convertToInteractive(key) {\n",
              "          const element = document.querySelector('#df-a8453819-a940-4246-b431-737810d63fdd');\n",
              "          const dataTable =\n",
              "            await google.colab.kernel.invokeFunction('convertToInteractive',\n",
              "                                                     [key], {});\n",
              "          if (!dataTable) return;\n",
              "\n",
              "          const docLinkHtml = 'Like what you see? Visit the ' +\n",
              "            '<a target=\"_blank\" href=https://colab.research.google.com/notebooks/data_table.ipynb>data table notebook</a>'\n",
              "            + ' to learn more about interactive tables.';\n",
              "          element.innerHTML = '';\n",
              "          dataTable['output_type'] = 'display_data';\n",
              "          await google.colab.output.renderOutput(dataTable, element);\n",
              "          const docLink = document.createElement('div');\n",
              "          docLink.innerHTML = docLinkHtml;\n",
              "          element.appendChild(docLink);\n",
              "        }\n",
              "      </script>\n",
              "    </div>\n",
              "  </div>\n",
              "  "
            ]
          },
          "metadata": {},
          "execution_count": 18
        }
      ]
    },
    {
      "cell_type": "markdown",
      "metadata": {
        "id": "Y_hn0ZB82COI"
      },
      "source": [
        "Después de procesar y unir todos los archivos, tenemos un archivo con unos 68017 tweets con una polaridad asociada. Dicha polaridad esta codificada como una variable ordinal que contiene uno de los siguientes valores: N+ (muy negativo), N (negativo), NEU (Neutral), P (Positivo), P+ (muy positivo)."
      ]
    },
    {
      "cell_type": "markdown",
      "metadata": {
        "id": "4mC1jMUErTaV"
      },
      "source": [
        "activar la vista de tablas dinámicas"
      ]
    },
    {
      "cell_type": "code",
      "metadata": {
        "id": "p-F4UEdhsr_J"
      },
      "source": [
        "%load_ext google.colab.data_table"
      ],
      "execution_count": null,
      "outputs": []
    },
    {
      "cell_type": "code",
      "metadata": {
        "id": "wsOEBYpTsx3h",
        "outputId": "44b6dda4-f0f5-4f9f-97bc-194ee3f028a1",
        "colab": {
          "base_uri": "https://localhost:8080/",
          "height": 338
        }
      },
      "source": [
        "corpusDF.head(10)"
      ],
      "execution_count": null,
      "outputs": [
        {
          "output_type": "execute_result",
          "data": {
            "text/plain": [
              "   Unnamed: 0  \\\n",
              "0           0   \n",
              "1           1   \n",
              "2           2   \n",
              "3           3   \n",
              "4           4   \n",
              "5           5   \n",
              "6           6   \n",
              "7           7   \n",
              "8           8   \n",
              "9           9   \n",
              "\n",
              "                                                                                                                                     content  \\\n",
              "0                                                                                                Salgo de #VeoTV , que día más largoooooo...   \n",
              "1                                                                          @PauladeLasHeras No te libraras de ayudar me/nos. Besos y gracias   \n",
              "2                                                                                                                  @marodriguezb Gracias MAR   \n",
              "3         Off pensando en el regalito Sinde, la que se va de la SGAE cuando se van sus corruptos. Intento no sacar conclusiones (lo intento)   \n",
              "4                                                                          Conozco a alguien q es adicto al drama! Ja ja ja te suena d algo!   \n",
              "5                                                 RT @FabHddzC: Si amas a alguien, déjalo libre. Si grita ese hombre es mío era @paurubio...   \n",
              "6                                                                      Toca @crackoviadeTV3 . Grabación dl especial Navideño...Mari crismas!   \n",
              "7                                      Hoy asisitiré en Madrid a un seminario sobre la Estrategia Española de Seguridad organizado por FAES.   \n",
              "8  Buen día todos! Lo primero mandar un abrazo grande a Miguel y a su familia @libertadmontes Hoy podría ser un día para la grandeza humana.   \n",
              "9                                                Desde el escaño. Todo listo para empezar #endiascomohoy en el Congreso http://t.co/Mu2yIgCb   \n",
              "\n",
              "  lang polarity     agreement  \n",
              "0   es     NONE     AGREEMENT  \n",
              "1   es      NEU  DISAGREEMENT  \n",
              "2   es        P     AGREEMENT  \n",
              "3   es       N+     AGREEMENT  \n",
              "4   es       P+     AGREEMENT  \n",
              "5   es     NONE     AGREEMENT  \n",
              "6   es       P+     AGREEMENT  \n",
              "7   es     NONE     AGREEMENT  \n",
              "8   es       P+     AGREEMENT  \n",
              "9   es       P+     AGREEMENT  "
            ],
            "text/html": [
              "\n",
              "  <div id=\"df-def39fae-3044-402b-961a-4c1cb2af4090\">\n",
              "    <div class=\"colab-df-container\">\n",
              "      <div>\n",
              "<style scoped>\n",
              "    .dataframe tbody tr th:only-of-type {\n",
              "        vertical-align: middle;\n",
              "    }\n",
              "\n",
              "    .dataframe tbody tr th {\n",
              "        vertical-align: top;\n",
              "    }\n",
              "\n",
              "    .dataframe thead th {\n",
              "        text-align: right;\n",
              "    }\n",
              "</style>\n",
              "<table border=\"1\" class=\"dataframe\">\n",
              "  <thead>\n",
              "    <tr style=\"text-align: right;\">\n",
              "      <th></th>\n",
              "      <th>Unnamed: 0</th>\n",
              "      <th>content</th>\n",
              "      <th>lang</th>\n",
              "      <th>polarity</th>\n",
              "      <th>agreement</th>\n",
              "    </tr>\n",
              "  </thead>\n",
              "  <tbody>\n",
              "    <tr>\n",
              "      <th>0</th>\n",
              "      <td>0</td>\n",
              "      <td>Salgo de #VeoTV , que día más largoooooo...</td>\n",
              "      <td>es</td>\n",
              "      <td>NONE</td>\n",
              "      <td>AGREEMENT</td>\n",
              "    </tr>\n",
              "    <tr>\n",
              "      <th>1</th>\n",
              "      <td>1</td>\n",
              "      <td>@PauladeLasHeras No te libraras de ayudar me/nos. Besos y gracias</td>\n",
              "      <td>es</td>\n",
              "      <td>NEU</td>\n",
              "      <td>DISAGREEMENT</td>\n",
              "    </tr>\n",
              "    <tr>\n",
              "      <th>2</th>\n",
              "      <td>2</td>\n",
              "      <td>@marodriguezb Gracias MAR</td>\n",
              "      <td>es</td>\n",
              "      <td>P</td>\n",
              "      <td>AGREEMENT</td>\n",
              "    </tr>\n",
              "    <tr>\n",
              "      <th>3</th>\n",
              "      <td>3</td>\n",
              "      <td>Off pensando en el regalito Sinde, la que se va de la SGAE cuando se van sus corruptos. Intento no sacar conclusiones (lo intento)</td>\n",
              "      <td>es</td>\n",
              "      <td>N+</td>\n",
              "      <td>AGREEMENT</td>\n",
              "    </tr>\n",
              "    <tr>\n",
              "      <th>4</th>\n",
              "      <td>4</td>\n",
              "      <td>Conozco a alguien q es adicto al drama! Ja ja ja te suena d algo!</td>\n",
              "      <td>es</td>\n",
              "      <td>P+</td>\n",
              "      <td>AGREEMENT</td>\n",
              "    </tr>\n",
              "    <tr>\n",
              "      <th>5</th>\n",
              "      <td>5</td>\n",
              "      <td>RT @FabHddzC: Si amas a alguien, déjalo libre. Si grita ese hombre es mío era @paurubio...</td>\n",
              "      <td>es</td>\n",
              "      <td>NONE</td>\n",
              "      <td>AGREEMENT</td>\n",
              "    </tr>\n",
              "    <tr>\n",
              "      <th>6</th>\n",
              "      <td>6</td>\n",
              "      <td>Toca @crackoviadeTV3 . Grabación dl especial Navideño...Mari crismas!</td>\n",
              "      <td>es</td>\n",
              "      <td>P+</td>\n",
              "      <td>AGREEMENT</td>\n",
              "    </tr>\n",
              "    <tr>\n",
              "      <th>7</th>\n",
              "      <td>7</td>\n",
              "      <td>Hoy asisitiré en Madrid a un seminario sobre la Estrategia Española de Seguridad organizado por FAES.</td>\n",
              "      <td>es</td>\n",
              "      <td>NONE</td>\n",
              "      <td>AGREEMENT</td>\n",
              "    </tr>\n",
              "    <tr>\n",
              "      <th>8</th>\n",
              "      <td>8</td>\n",
              "      <td>Buen día todos! Lo primero mandar un abrazo grande a Miguel y a su familia @libertadmontes Hoy podría ser un día para la grandeza humana.</td>\n",
              "      <td>es</td>\n",
              "      <td>P+</td>\n",
              "      <td>AGREEMENT</td>\n",
              "    </tr>\n",
              "    <tr>\n",
              "      <th>9</th>\n",
              "      <td>9</td>\n",
              "      <td>Desde el escaño. Todo listo para empezar #endiascomohoy en el Congreso http://t.co/Mu2yIgCb</td>\n",
              "      <td>es</td>\n",
              "      <td>P+</td>\n",
              "      <td>AGREEMENT</td>\n",
              "    </tr>\n",
              "  </tbody>\n",
              "</table>\n",
              "</div>\n",
              "      <button class=\"colab-df-convert\" onclick=\"convertToInteractive('df-def39fae-3044-402b-961a-4c1cb2af4090')\"\n",
              "              title=\"Convert this dataframe to an interactive table.\"\n",
              "              style=\"display:none;\">\n",
              "        \n",
              "  <svg xmlns=\"http://www.w3.org/2000/svg\" height=\"24px\"viewBox=\"0 0 24 24\"\n",
              "       width=\"24px\">\n",
              "    <path d=\"M0 0h24v24H0V0z\" fill=\"none\"/>\n",
              "    <path d=\"M18.56 5.44l.94 2.06.94-2.06 2.06-.94-2.06-.94-.94-2.06-.94 2.06-2.06.94zm-11 1L8.5 8.5l.94-2.06 2.06-.94-2.06-.94L8.5 2.5l-.94 2.06-2.06.94zm10 10l.94 2.06.94-2.06 2.06-.94-2.06-.94-.94-2.06-.94 2.06-2.06.94z\"/><path d=\"M17.41 7.96l-1.37-1.37c-.4-.4-.92-.59-1.43-.59-.52 0-1.04.2-1.43.59L10.3 9.45l-7.72 7.72c-.78.78-.78 2.05 0 2.83L4 21.41c.39.39.9.59 1.41.59.51 0 1.02-.2 1.41-.59l7.78-7.78 2.81-2.81c.8-.78.8-2.07 0-2.86zM5.41 20L4 18.59l7.72-7.72 1.47 1.35L5.41 20z\"/>\n",
              "  </svg>\n",
              "      </button>\n",
              "      \n",
              "  <style>\n",
              "    .colab-df-container {\n",
              "      display:flex;\n",
              "      flex-wrap:wrap;\n",
              "      gap: 12px;\n",
              "    }\n",
              "\n",
              "    .colab-df-convert {\n",
              "      background-color: #E8F0FE;\n",
              "      border: none;\n",
              "      border-radius: 50%;\n",
              "      cursor: pointer;\n",
              "      display: none;\n",
              "      fill: #1967D2;\n",
              "      height: 32px;\n",
              "      padding: 0 0 0 0;\n",
              "      width: 32px;\n",
              "    }\n",
              "\n",
              "    .colab-df-convert:hover {\n",
              "      background-color: #E2EBFA;\n",
              "      box-shadow: 0px 1px 2px rgba(60, 64, 67, 0.3), 0px 1px 3px 1px rgba(60, 64, 67, 0.15);\n",
              "      fill: #174EA6;\n",
              "    }\n",
              "\n",
              "    [theme=dark] .colab-df-convert {\n",
              "      background-color: #3B4455;\n",
              "      fill: #D2E3FC;\n",
              "    }\n",
              "\n",
              "    [theme=dark] .colab-df-convert:hover {\n",
              "      background-color: #434B5C;\n",
              "      box-shadow: 0px 1px 3px 1px rgba(0, 0, 0, 0.15);\n",
              "      filter: drop-shadow(0px 1px 2px rgba(0, 0, 0, 0.3));\n",
              "      fill: #FFFFFF;\n",
              "    }\n",
              "  </style>\n",
              "\n",
              "      <script>\n",
              "        const buttonEl =\n",
              "          document.querySelector('#df-def39fae-3044-402b-961a-4c1cb2af4090 button.colab-df-convert');\n",
              "        buttonEl.style.display =\n",
              "          google.colab.kernel.accessAllowed ? 'block' : 'none';\n",
              "\n",
              "        async function convertToInteractive(key) {\n",
              "          const element = document.querySelector('#df-def39fae-3044-402b-961a-4c1cb2af4090');\n",
              "          const dataTable =\n",
              "            await google.colab.kernel.invokeFunction('convertToInteractive',\n",
              "                                                     [key], {});\n",
              "          if (!dataTable) return;\n",
              "\n",
              "          const docLinkHtml = 'Like what you see? Visit the ' +\n",
              "            '<a target=\"_blank\" href=https://colab.research.google.com/notebooks/data_table.ipynb>data table notebook</a>'\n",
              "            + ' to learn more about interactive tables.';\n",
              "          element.innerHTML = '';\n",
              "          dataTable['output_type'] = 'display_data';\n",
              "          await google.colab.output.renderOutput(dataTable, element);\n",
              "          const docLink = document.createElement('div');\n",
              "          docLink.innerHTML = docLinkHtml;\n",
              "          element.appendChild(docLink);\n",
              "        }\n",
              "      </script>\n",
              "    </div>\n",
              "  </div>\n",
              "  "
            ],
            "application/vnd.google.colaboratory.module+javascript": "\n      import \"https://ssl.gstatic.com/colaboratory/data_table/a8bd4d5e58f96183/data_table.js\";\n\n      window.createDataTable({\n        data: [[{\n            'v': 0,\n            'f': \"0\",\n        },\n{\n            'v': 0,\n            'f': \"0\",\n        },\n\"Salgo de #VeoTV , que d\\u00eda m\\u00e1s largoooooo...\",\n\"es\",\n\"NONE\",\n\"AGREEMENT\"],\n [{\n            'v': 1,\n            'f': \"1\",\n        },\n{\n            'v': 1,\n            'f': \"1\",\n        },\n\"@PauladeLasHeras No te libraras de ayudar me/nos. Besos y gracias\",\n\"es\",\n\"NEU\",\n\"DISAGREEMENT\"],\n [{\n            'v': 2,\n            'f': \"2\",\n        },\n{\n            'v': 2,\n            'f': \"2\",\n        },\n\"@marodriguezb Gracias MAR\",\n\"es\",\n\"P\",\n\"AGREEMENT\"],\n [{\n            'v': 3,\n            'f': \"3\",\n        },\n{\n            'v': 3,\n            'f': \"3\",\n        },\n\"Off pensando en el regalito Sinde, la que se va de la SGAE cuando se van sus corruptos. Intento no sacar conclusiones (lo intento)\",\n\"es\",\n\"N+\",\n\"AGREEMENT\"],\n [{\n            'v': 4,\n            'f': \"4\",\n        },\n{\n            'v': 4,\n            'f': \"4\",\n        },\n\"Conozco a alguien q es adicto al drama! Ja ja ja te suena d algo!\",\n\"es\",\n\"P+\",\n\"AGREEMENT\"],\n [{\n            'v': 5,\n            'f': \"5\",\n        },\n{\n            'v': 5,\n            'f': \"5\",\n        },\n\"RT @FabHddzC: Si amas a alguien, d\\u00e9jalo libre. Si grita ese hombre es m\\u00edo era @paurubio...\",\n\"es\",\n\"NONE\",\n\"AGREEMENT\"],\n [{\n            'v': 6,\n            'f': \"6\",\n        },\n{\n            'v': 6,\n            'f': \"6\",\n        },\n\"Toca @crackoviadeTV3 . Grabaci\\u00f3n dl especial Navide\\u00f1o...Mari crismas!\",\n\"es\",\n\"P+\",\n\"AGREEMENT\"],\n [{\n            'v': 7,\n            'f': \"7\",\n        },\n{\n            'v': 7,\n            'f': \"7\",\n        },\n\"Hoy asisitir\\u00e9 en Madrid a un seminario sobre la Estrategia Espa\\u00f1ola de Seguridad organizado por FAES.\",\n\"es\",\n\"NONE\",\n\"AGREEMENT\"],\n [{\n            'v': 8,\n            'f': \"8\",\n        },\n{\n            'v': 8,\n            'f': \"8\",\n        },\n\"Buen d\\u00eda todos! Lo primero mandar un abrazo grande a Miguel y a su familia @libertadmontes Hoy podr\\u00eda ser un d\\u00eda para la grandeza humana.\",\n\"es\",\n\"P+\",\n\"AGREEMENT\"],\n [{\n            'v': 9,\n            'f': \"9\",\n        },\n{\n            'v': 9,\n            'f': \"9\",\n        },\n\"Desde el esca\\u00f1o. Todo listo para empezar #endiascomohoy en el Congreso http://t.co/Mu2yIgCb\",\n\"es\",\n\"P+\",\n\"AGREEMENT\"]],\n        columns: [[\"number\", \"index\"], [\"number\", \"Unnamed: 0\"], [\"string\", \"content\"], [\"string\", \"lang\"], [\"string\", \"polarity\"], [\"string\", \"agreement\"]],\n        columnOptions: [{\"width\": \"1px\", \"className\": \"index_column\"}],\n        rowsPerPage: 25,\n        helpUrl: \"https://colab.research.google.com/notebooks/data_table.ipynb\",\n        suppressOutputScrolling: true,\n        minimumWidth: undefined,\n      });\n    "
          },
          "metadata": {},
          "execution_count": 20
        }
      ]
    },
    {
      "cell_type": "code",
      "metadata": {
        "id": "4tjr8wadttzp"
      },
      "source": [
        "corpusfilter = corpusDF.query('agreement != \"DISAGREEMENT\" and polarity != \"NONE\"')"
      ],
      "execution_count": null,
      "outputs": []
    },
    {
      "cell_type": "code",
      "metadata": {
        "id": "rVhMq8bijMRt",
        "outputId": "7cb23e67-3307-4764-ddc4-d26e03234f5e",
        "colab": {
          "base_uri": "https://localhost:8080/",
          "height": 230
        }
      },
      "source": [
        "corpusfilter.head()"
      ],
      "execution_count": null,
      "outputs": [
        {
          "output_type": "execute_result",
          "data": {
            "text/plain": [
              "   Unnamed: 0  \\\n",
              "2           2   \n",
              "3           3   \n",
              "4           4   \n",
              "6           6   \n",
              "8           8   \n",
              "\n",
              "                                                                                                                                     content  \\\n",
              "2                                                                                                                  @marodriguezb Gracias MAR   \n",
              "3         Off pensando en el regalito Sinde, la que se va de la SGAE cuando se van sus corruptos. Intento no sacar conclusiones (lo intento)   \n",
              "4                                                                          Conozco a alguien q es adicto al drama! Ja ja ja te suena d algo!   \n",
              "6                                                                      Toca @crackoviadeTV3 . Grabación dl especial Navideño...Mari crismas!   \n",
              "8  Buen día todos! Lo primero mandar un abrazo grande a Miguel y a su familia @libertadmontes Hoy podría ser un día para la grandeza humana.   \n",
              "\n",
              "  lang polarity  agreement  \n",
              "2   es        P  AGREEMENT  \n",
              "3   es       N+  AGREEMENT  \n",
              "4   es       P+  AGREEMENT  \n",
              "6   es       P+  AGREEMENT  \n",
              "8   es       P+  AGREEMENT  "
            ],
            "text/html": [
              "\n",
              "  <div id=\"df-f60319c5-9d98-456d-b8c4-9a2142f07818\">\n",
              "    <div class=\"colab-df-container\">\n",
              "      <div>\n",
              "<style scoped>\n",
              "    .dataframe tbody tr th:only-of-type {\n",
              "        vertical-align: middle;\n",
              "    }\n",
              "\n",
              "    .dataframe tbody tr th {\n",
              "        vertical-align: top;\n",
              "    }\n",
              "\n",
              "    .dataframe thead th {\n",
              "        text-align: right;\n",
              "    }\n",
              "</style>\n",
              "<table border=\"1\" class=\"dataframe\">\n",
              "  <thead>\n",
              "    <tr style=\"text-align: right;\">\n",
              "      <th></th>\n",
              "      <th>Unnamed: 0</th>\n",
              "      <th>content</th>\n",
              "      <th>lang</th>\n",
              "      <th>polarity</th>\n",
              "      <th>agreement</th>\n",
              "    </tr>\n",
              "  </thead>\n",
              "  <tbody>\n",
              "    <tr>\n",
              "      <th>2</th>\n",
              "      <td>2</td>\n",
              "      <td>@marodriguezb Gracias MAR</td>\n",
              "      <td>es</td>\n",
              "      <td>P</td>\n",
              "      <td>AGREEMENT</td>\n",
              "    </tr>\n",
              "    <tr>\n",
              "      <th>3</th>\n",
              "      <td>3</td>\n",
              "      <td>Off pensando en el regalito Sinde, la que se va de la SGAE cuando se van sus corruptos. Intento no sacar conclusiones (lo intento)</td>\n",
              "      <td>es</td>\n",
              "      <td>N+</td>\n",
              "      <td>AGREEMENT</td>\n",
              "    </tr>\n",
              "    <tr>\n",
              "      <th>4</th>\n",
              "      <td>4</td>\n",
              "      <td>Conozco a alguien q es adicto al drama! Ja ja ja te suena d algo!</td>\n",
              "      <td>es</td>\n",
              "      <td>P+</td>\n",
              "      <td>AGREEMENT</td>\n",
              "    </tr>\n",
              "    <tr>\n",
              "      <th>6</th>\n",
              "      <td>6</td>\n",
              "      <td>Toca @crackoviadeTV3 . Grabación dl especial Navideño...Mari crismas!</td>\n",
              "      <td>es</td>\n",
              "      <td>P+</td>\n",
              "      <td>AGREEMENT</td>\n",
              "    </tr>\n",
              "    <tr>\n",
              "      <th>8</th>\n",
              "      <td>8</td>\n",
              "      <td>Buen día todos! Lo primero mandar un abrazo grande a Miguel y a su familia @libertadmontes Hoy podría ser un día para la grandeza humana.</td>\n",
              "      <td>es</td>\n",
              "      <td>P+</td>\n",
              "      <td>AGREEMENT</td>\n",
              "    </tr>\n",
              "  </tbody>\n",
              "</table>\n",
              "</div>\n",
              "      <button class=\"colab-df-convert\" onclick=\"convertToInteractive('df-f60319c5-9d98-456d-b8c4-9a2142f07818')\"\n",
              "              title=\"Convert this dataframe to an interactive table.\"\n",
              "              style=\"display:none;\">\n",
              "        \n",
              "  <svg xmlns=\"http://www.w3.org/2000/svg\" height=\"24px\"viewBox=\"0 0 24 24\"\n",
              "       width=\"24px\">\n",
              "    <path d=\"M0 0h24v24H0V0z\" fill=\"none\"/>\n",
              "    <path d=\"M18.56 5.44l.94 2.06.94-2.06 2.06-.94-2.06-.94-.94-2.06-.94 2.06-2.06.94zm-11 1L8.5 8.5l.94-2.06 2.06-.94-2.06-.94L8.5 2.5l-.94 2.06-2.06.94zm10 10l.94 2.06.94-2.06 2.06-.94-2.06-.94-.94-2.06-.94 2.06-2.06.94z\"/><path d=\"M17.41 7.96l-1.37-1.37c-.4-.4-.92-.59-1.43-.59-.52 0-1.04.2-1.43.59L10.3 9.45l-7.72 7.72c-.78.78-.78 2.05 0 2.83L4 21.41c.39.39.9.59 1.41.59.51 0 1.02-.2 1.41-.59l7.78-7.78 2.81-2.81c.8-.78.8-2.07 0-2.86zM5.41 20L4 18.59l7.72-7.72 1.47 1.35L5.41 20z\"/>\n",
              "  </svg>\n",
              "      </button>\n",
              "      \n",
              "  <style>\n",
              "    .colab-df-container {\n",
              "      display:flex;\n",
              "      flex-wrap:wrap;\n",
              "      gap: 12px;\n",
              "    }\n",
              "\n",
              "    .colab-df-convert {\n",
              "      background-color: #E8F0FE;\n",
              "      border: none;\n",
              "      border-radius: 50%;\n",
              "      cursor: pointer;\n",
              "      display: none;\n",
              "      fill: #1967D2;\n",
              "      height: 32px;\n",
              "      padding: 0 0 0 0;\n",
              "      width: 32px;\n",
              "    }\n",
              "\n",
              "    .colab-df-convert:hover {\n",
              "      background-color: #E2EBFA;\n",
              "      box-shadow: 0px 1px 2px rgba(60, 64, 67, 0.3), 0px 1px 3px 1px rgba(60, 64, 67, 0.15);\n",
              "      fill: #174EA6;\n",
              "    }\n",
              "\n",
              "    [theme=dark] .colab-df-convert {\n",
              "      background-color: #3B4455;\n",
              "      fill: #D2E3FC;\n",
              "    }\n",
              "\n",
              "    [theme=dark] .colab-df-convert:hover {\n",
              "      background-color: #434B5C;\n",
              "      box-shadow: 0px 1px 3px 1px rgba(0, 0, 0, 0.15);\n",
              "      filter: drop-shadow(0px 1px 2px rgba(0, 0, 0, 0.3));\n",
              "      fill: #FFFFFF;\n",
              "    }\n",
              "  </style>\n",
              "\n",
              "      <script>\n",
              "        const buttonEl =\n",
              "          document.querySelector('#df-f60319c5-9d98-456d-b8c4-9a2142f07818 button.colab-df-convert');\n",
              "        buttonEl.style.display =\n",
              "          google.colab.kernel.accessAllowed ? 'block' : 'none';\n",
              "\n",
              "        async function convertToInteractive(key) {\n",
              "          const element = document.querySelector('#df-f60319c5-9d98-456d-b8c4-9a2142f07818');\n",
              "          const dataTable =\n",
              "            await google.colab.kernel.invokeFunction('convertToInteractive',\n",
              "                                                     [key], {});\n",
              "          if (!dataTable) return;\n",
              "\n",
              "          const docLinkHtml = 'Like what you see? Visit the ' +\n",
              "            '<a target=\"_blank\" href=https://colab.research.google.com/notebooks/data_table.ipynb>data table notebook</a>'\n",
              "            + ' to learn more about interactive tables.';\n",
              "          element.innerHTML = '';\n",
              "          dataTable['output_type'] = 'display_data';\n",
              "          await google.colab.output.renderOutput(dataTable, element);\n",
              "          const docLink = document.createElement('div');\n",
              "          docLink.innerHTML = docLinkHtml;\n",
              "          element.appendChild(docLink);\n",
              "        }\n",
              "      </script>\n",
              "    </div>\n",
              "  </div>\n",
              "  "
            ],
            "application/vnd.google.colaboratory.module+javascript": "\n      import \"https://ssl.gstatic.com/colaboratory/data_table/a8bd4d5e58f96183/data_table.js\";\n\n      window.createDataTable({\n        data: [[{\n            'v': 2,\n            'f': \"2\",\n        },\n{\n            'v': 2,\n            'f': \"2\",\n        },\n\"@marodriguezb Gracias MAR\",\n\"es\",\n\"P\",\n\"AGREEMENT\"],\n [{\n            'v': 3,\n            'f': \"3\",\n        },\n{\n            'v': 3,\n            'f': \"3\",\n        },\n\"Off pensando en el regalito Sinde, la que se va de la SGAE cuando se van sus corruptos. Intento no sacar conclusiones (lo intento)\",\n\"es\",\n\"N+\",\n\"AGREEMENT\"],\n [{\n            'v': 4,\n            'f': \"4\",\n        },\n{\n            'v': 4,\n            'f': \"4\",\n        },\n\"Conozco a alguien q es adicto al drama! Ja ja ja te suena d algo!\",\n\"es\",\n\"P+\",\n\"AGREEMENT\"],\n [{\n            'v': 6,\n            'f': \"6\",\n        },\n{\n            'v': 6,\n            'f': \"6\",\n        },\n\"Toca @crackoviadeTV3 . Grabaci\\u00f3n dl especial Navide\\u00f1o...Mari crismas!\",\n\"es\",\n\"P+\",\n\"AGREEMENT\"],\n [{\n            'v': 8,\n            'f': \"8\",\n        },\n{\n            'v': 8,\n            'f': \"8\",\n        },\n\"Buen d\\u00eda todos! Lo primero mandar un abrazo grande a Miguel y a su familia @libertadmontes Hoy podr\\u00eda ser un d\\u00eda para la grandeza humana.\",\n\"es\",\n\"P+\",\n\"AGREEMENT\"]],\n        columns: [[\"number\", \"index\"], [\"number\", \"Unnamed: 0\"], [\"string\", \"content\"], [\"string\", \"lang\"], [\"string\", \"polarity\"], [\"string\", \"agreement\"]],\n        columnOptions: [{\"width\": \"1px\", \"className\": \"index_column\"}],\n        rowsPerPage: 25,\n        helpUrl: \"https://colab.research.google.com/notebooks/data_table.ipynb\",\n        suppressOutputScrolling: true,\n        minimumWidth: undefined,\n      });\n    "
          },
          "metadata": {},
          "execution_count": 22
        }
      ]
    },
    {
      "cell_type": "code",
      "metadata": {
        "id": "C1UWvb3AvIRW",
        "outputId": "a4642fe2-47ae-4837-df6a-7ddedb9a7b98",
        "colab": {
          "base_uri": "https://localhost:8080/"
        }
      },
      "source": [
        "corpusfilter.pop('agreement')"
      ],
      "execution_count": null,
      "outputs": [
        {
          "output_type": "execute_result",
          "data": {
            "text/plain": [
              "2        AGREEMENT\n",
              "3        AGREEMENT\n",
              "4        AGREEMENT\n",
              "6        AGREEMENT\n",
              "8        AGREEMENT\n",
              "           ...    \n",
              "68011          NaN\n",
              "68012          NaN\n",
              "68014          NaN\n",
              "68015          NaN\n",
              "68016          NaN\n",
              "Name: agreement, Length: 44395, dtype: object"
            ]
          },
          "metadata": {},
          "execution_count": 23
        }
      ]
    },
    {
      "cell_type": "code",
      "metadata": {
        "id": "lt8KLuX3ZPj2",
        "outputId": "657aaeaa-992e-4212-e1b0-5f7f181e5d8b",
        "colab": {
          "base_uri": "https://localhost:8080/"
        }
      },
      "source": [
        "corpusfilter.shape"
      ],
      "execution_count": null,
      "outputs": [
        {
          "output_type": "execute_result",
          "data": {
            "text/plain": [
              "(44395, 4)"
            ]
          },
          "metadata": {},
          "execution_count": 24
        }
      ]
    },
    {
      "cell_type": "code",
      "metadata": {
        "id": "610gU5OhbS_D",
        "outputId": "bf230a61-8823-4904-a7d4-680c83913125",
        "colab": {
          "base_uri": "https://localhost:8080/"
        }
      },
      "source": [
        "corpusfilter.polarity.value_counts()"
      ],
      "execution_count": null,
      "outputs": [
        {
          "output_type": "execute_result",
          "data": {
            "text/plain": [
              "P+     22382\n",
              "N      12448\n",
              "N+      5382\n",
              "P       2565\n",
              "NEU     1618\n",
              "Name: polarity, dtype: int64"
            ]
          },
          "metadata": {},
          "execution_count": 25
        }
      ]
    },
    {
      "cell_type": "markdown",
      "metadata": {
        "id": "y94A5SCveD9K"
      },
      "source": [
        "Para a seguir con el texto:\n",
        "* Quitar URL, emails, menciones,hashtags\n",
        "* Tokenización\n",
        "* Radicalización (Stemming)\n",
        "* Quitar stopwords "
      ]
    },
    {
      "cell_type": "code",
      "metadata": {
        "id": "2wLMO2ERfxa5"
      },
      "source": [
        "import re\n",
        "from string import punctuation\n",
        "def  clean_text(df, text_field):\n",
        "  patternURLEMAIL=r'(\\w+[.]?\\w+@(\\w+\\.)+\\w+)|((http:\\/\\/www\\.|https:\\/\\/www\\.|http:\\/\\/|https:\\/\\/)?\\w+([\\-\\.]{1}\\w+)*\\.[a-z]{2,5}(\\/)?(([^\\s@])*(\\/)?)*)'\n",
        "  patternHashtagMention=r'(@\\w+)|(#\\w+)'\n",
        "  #Primero convertimos a minúscula\n",
        "  df[text_field] = df[text_field].str.lower()\n",
        "  # Utilizamos las expresiones regulares anteriores sobre URL, email, hashtag y menciones para quitarlos\n",
        "  df[text_field] = df[text_field].apply(lambda elem: re.sub(patternURLEMAIL,'', elem))  \n",
        "  # Utilizamos una expresión regular para eliminar los hashtag y las menciones con @\n",
        "  df[text_field] = df[text_field].apply(lambda elem: re.sub(patternHashtagMention,'', elem))\n",
        "  # Utilizamos una expresión regular también para eliminar los signos de mayor que y menor que\n",
        "  df[text_field] = df[text_field].apply(lambda elem: re.sub(r'(\\&gt\\;)|(\\&lt\\;)','', elem))\n",
        "  # Utilizamos una expresión regular también para eliminar a.m y p.m cuando mencionan horas\n",
        "  df[text_field] = df[text_field].apply(lambda elem: re.sub(r'(a\\.m)|(p\\.m)','', elem))\n",
        "  # Utilizamos una expresión regular también para eliminar los números\n",
        "  df[text_field] = df[text_field].apply(lambda elem: re.sub(r'\\d+','', elem))\n",
        "  df[text_field] = df[text_field].apply(lambda elem: re.sub(r'[|]','', elem))\n",
        "  ## Sustituir espacios de más\n",
        "  df[text_field] = df[text_field].apply(lambda elem: re.sub(r'\\s+',' ', elem))\n",
        "  ## Eliminar signos de puntuación '[!#?,.:\";]'\n",
        "  non_words = list(punctuation)\n",
        "  non_words.extend(['¿', '¡', '‘', '’'])\n",
        "  df[text_field] = df[text_field].apply(lambda elem: ''.join([c for c in elem if c not in non_words]))\n",
        "  return df"
      ],
      "execution_count": null,
      "outputs": []
    },
    {
      "cell_type": "code",
      "metadata": {
        "id": "NUQrGOU3f-M0",
        "outputId": "d50d4665-9c40-4da3-dc3c-48abac528b33",
        "colab": {
          "base_uri": "https://localhost:8080/",
          "height": 554
        }
      },
      "source": [
        "corpusclean = clean_text(corpusfilter.copy(), 'content')\n",
        "corpusclean"
      ],
      "execution_count": null,
      "outputs": [
        {
          "output_type": "stream",
          "name": "stdout",
          "text": [
            "Warning: total number of rows (44395) exceeds max_rows (20000). Falling back to pandas display.\n"
          ]
        },
        {
          "output_type": "execute_result",
          "data": {
            "text/plain": [
              "       Unnamed: 0  \\\n",
              "2               2   \n",
              "3               3   \n",
              "4               4   \n",
              "6               6   \n",
              "8               8   \n",
              "...           ...   \n",
              "68011       60792   \n",
              "68012       60793   \n",
              "68014       60795   \n",
              "68015       60796   \n",
              "68016       60797   \n",
              "\n",
              "                                                                                                                              content  \\\n",
              "2                                                                                                                         gracias mar   \n",
              "3      off pensando en el regalito sinde la que se va de la sgae cuando se van sus corruptos intento no sacar conclusiones lo intento   \n",
              "4                                                                     conozco a alguien q es adicto al drama ja ja ja te suena d algo   \n",
              "6                                                                                    toca  grabación dl especial navideñomari crismas   \n",
              "8             buen día todos lo primero mandar un abrazo grande a miguel y a su familia hoy podría ser un día para la grandeza humana   \n",
              "...                                                                                                                               ...   \n",
              "68011                                                                                  reconozco que me encanta cuando twitter corre    \n",
              "68012                                                      son los mismos de seguridad con aznar y zp profesionales avanzan si avanza   \n",
              "68014               a qué espera el alcalde promarihuana independentista de rasquera para dimitir prometió que lo haría si fracasaba    \n",
              "68015                  esto es lo que hay preocupante la flagrante falta de liderazgo de rajoy y no me vale que zp fuera un desastre    \n",
              "68016                                                               rajoy con el agua al cuello españa se asoma a la zona de rescate    \n",
              "\n",
              "      lang polarity  \n",
              "2       es        P  \n",
              "3       es       N+  \n",
              "4       es       P+  \n",
              "6       es       P+  \n",
              "8       es       P+  \n",
              "...    ...      ...  \n",
              "68011   es       P+  \n",
              "68012   es       P+  \n",
              "68014   es        N  \n",
              "68015   es        N  \n",
              "68016   es        N  \n",
              "\n",
              "[44395 rows x 4 columns]"
            ],
            "text/html": [
              "\n",
              "  <div id=\"df-d2b87c88-4e8a-4d75-a5f7-511ca471c3cb\">\n",
              "    <div class=\"colab-df-container\">\n",
              "      <div>\n",
              "<style scoped>\n",
              "    .dataframe tbody tr th:only-of-type {\n",
              "        vertical-align: middle;\n",
              "    }\n",
              "\n",
              "    .dataframe tbody tr th {\n",
              "        vertical-align: top;\n",
              "    }\n",
              "\n",
              "    .dataframe thead th {\n",
              "        text-align: right;\n",
              "    }\n",
              "</style>\n",
              "<table border=\"1\" class=\"dataframe\">\n",
              "  <thead>\n",
              "    <tr style=\"text-align: right;\">\n",
              "      <th></th>\n",
              "      <th>Unnamed: 0</th>\n",
              "      <th>content</th>\n",
              "      <th>lang</th>\n",
              "      <th>polarity</th>\n",
              "    </tr>\n",
              "  </thead>\n",
              "  <tbody>\n",
              "    <tr>\n",
              "      <th>2</th>\n",
              "      <td>2</td>\n",
              "      <td>gracias mar</td>\n",
              "      <td>es</td>\n",
              "      <td>P</td>\n",
              "    </tr>\n",
              "    <tr>\n",
              "      <th>3</th>\n",
              "      <td>3</td>\n",
              "      <td>off pensando en el regalito sinde la que se va de la sgae cuando se van sus corruptos intento no sacar conclusiones lo intento</td>\n",
              "      <td>es</td>\n",
              "      <td>N+</td>\n",
              "    </tr>\n",
              "    <tr>\n",
              "      <th>4</th>\n",
              "      <td>4</td>\n",
              "      <td>conozco a alguien q es adicto al drama ja ja ja te suena d algo</td>\n",
              "      <td>es</td>\n",
              "      <td>P+</td>\n",
              "    </tr>\n",
              "    <tr>\n",
              "      <th>6</th>\n",
              "      <td>6</td>\n",
              "      <td>toca  grabación dl especial navideñomari crismas</td>\n",
              "      <td>es</td>\n",
              "      <td>P+</td>\n",
              "    </tr>\n",
              "    <tr>\n",
              "      <th>8</th>\n",
              "      <td>8</td>\n",
              "      <td>buen día todos lo primero mandar un abrazo grande a miguel y a su familia hoy podría ser un día para la grandeza humana</td>\n",
              "      <td>es</td>\n",
              "      <td>P+</td>\n",
              "    </tr>\n",
              "    <tr>\n",
              "      <th>...</th>\n",
              "      <td>...</td>\n",
              "      <td>...</td>\n",
              "      <td>...</td>\n",
              "      <td>...</td>\n",
              "    </tr>\n",
              "    <tr>\n",
              "      <th>68011</th>\n",
              "      <td>60792</td>\n",
              "      <td>reconozco que me encanta cuando twitter corre</td>\n",
              "      <td>es</td>\n",
              "      <td>P+</td>\n",
              "    </tr>\n",
              "    <tr>\n",
              "      <th>68012</th>\n",
              "      <td>60793</td>\n",
              "      <td>son los mismos de seguridad con aznar y zp profesionales avanzan si avanza</td>\n",
              "      <td>es</td>\n",
              "      <td>P+</td>\n",
              "    </tr>\n",
              "    <tr>\n",
              "      <th>68014</th>\n",
              "      <td>60795</td>\n",
              "      <td>a qué espera el alcalde promarihuana independentista de rasquera para dimitir prometió que lo haría si fracasaba</td>\n",
              "      <td>es</td>\n",
              "      <td>N</td>\n",
              "    </tr>\n",
              "    <tr>\n",
              "      <th>68015</th>\n",
              "      <td>60796</td>\n",
              "      <td>esto es lo que hay preocupante la flagrante falta de liderazgo de rajoy y no me vale que zp fuera un desastre</td>\n",
              "      <td>es</td>\n",
              "      <td>N</td>\n",
              "    </tr>\n",
              "    <tr>\n",
              "      <th>68016</th>\n",
              "      <td>60797</td>\n",
              "      <td>rajoy con el agua al cuello españa se asoma a la zona de rescate</td>\n",
              "      <td>es</td>\n",
              "      <td>N</td>\n",
              "    </tr>\n",
              "  </tbody>\n",
              "</table>\n",
              "<p>44395 rows × 4 columns</p>\n",
              "</div>\n",
              "      <button class=\"colab-df-convert\" onclick=\"convertToInteractive('df-d2b87c88-4e8a-4d75-a5f7-511ca471c3cb')\"\n",
              "              title=\"Convert this dataframe to an interactive table.\"\n",
              "              style=\"display:none;\">\n",
              "        \n",
              "  <svg xmlns=\"http://www.w3.org/2000/svg\" height=\"24px\"viewBox=\"0 0 24 24\"\n",
              "       width=\"24px\">\n",
              "    <path d=\"M0 0h24v24H0V0z\" fill=\"none\"/>\n",
              "    <path d=\"M18.56 5.44l.94 2.06.94-2.06 2.06-.94-2.06-.94-.94-2.06-.94 2.06-2.06.94zm-11 1L8.5 8.5l.94-2.06 2.06-.94-2.06-.94L8.5 2.5l-.94 2.06-2.06.94zm10 10l.94 2.06.94-2.06 2.06-.94-2.06-.94-.94-2.06-.94 2.06-2.06.94z\"/><path d=\"M17.41 7.96l-1.37-1.37c-.4-.4-.92-.59-1.43-.59-.52 0-1.04.2-1.43.59L10.3 9.45l-7.72 7.72c-.78.78-.78 2.05 0 2.83L4 21.41c.39.39.9.59 1.41.59.51 0 1.02-.2 1.41-.59l7.78-7.78 2.81-2.81c.8-.78.8-2.07 0-2.86zM5.41 20L4 18.59l7.72-7.72 1.47 1.35L5.41 20z\"/>\n",
              "  </svg>\n",
              "      </button>\n",
              "      \n",
              "  <style>\n",
              "    .colab-df-container {\n",
              "      display:flex;\n",
              "      flex-wrap:wrap;\n",
              "      gap: 12px;\n",
              "    }\n",
              "\n",
              "    .colab-df-convert {\n",
              "      background-color: #E8F0FE;\n",
              "      border: none;\n",
              "      border-radius: 50%;\n",
              "      cursor: pointer;\n",
              "      display: none;\n",
              "      fill: #1967D2;\n",
              "      height: 32px;\n",
              "      padding: 0 0 0 0;\n",
              "      width: 32px;\n",
              "    }\n",
              "\n",
              "    .colab-df-convert:hover {\n",
              "      background-color: #E2EBFA;\n",
              "      box-shadow: 0px 1px 2px rgba(60, 64, 67, 0.3), 0px 1px 3px 1px rgba(60, 64, 67, 0.15);\n",
              "      fill: #174EA6;\n",
              "    }\n",
              "\n",
              "    [theme=dark] .colab-df-convert {\n",
              "      background-color: #3B4455;\n",
              "      fill: #D2E3FC;\n",
              "    }\n",
              "\n",
              "    [theme=dark] .colab-df-convert:hover {\n",
              "      background-color: #434B5C;\n",
              "      box-shadow: 0px 1px 3px 1px rgba(0, 0, 0, 0.15);\n",
              "      filter: drop-shadow(0px 1px 2px rgba(0, 0, 0, 0.3));\n",
              "      fill: #FFFFFF;\n",
              "    }\n",
              "  </style>\n",
              "\n",
              "      <script>\n",
              "        const buttonEl =\n",
              "          document.querySelector('#df-d2b87c88-4e8a-4d75-a5f7-511ca471c3cb button.colab-df-convert');\n",
              "        buttonEl.style.display =\n",
              "          google.colab.kernel.accessAllowed ? 'block' : 'none';\n",
              "\n",
              "        async function convertToInteractive(key) {\n",
              "          const element = document.querySelector('#df-d2b87c88-4e8a-4d75-a5f7-511ca471c3cb');\n",
              "          const dataTable =\n",
              "            await google.colab.kernel.invokeFunction('convertToInteractive',\n",
              "                                                     [key], {});\n",
              "          if (!dataTable) return;\n",
              "\n",
              "          const docLinkHtml = 'Like what you see? Visit the ' +\n",
              "            '<a target=\"_blank\" href=https://colab.research.google.com/notebooks/data_table.ipynb>data table notebook</a>'\n",
              "            + ' to learn more about interactive tables.';\n",
              "          element.innerHTML = '';\n",
              "          dataTable['output_type'] = 'display_data';\n",
              "          await google.colab.output.renderOutput(dataTable, element);\n",
              "          const docLink = document.createElement('div');\n",
              "          docLink.innerHTML = docLinkHtml;\n",
              "          element.appendChild(docLink);\n",
              "        }\n",
              "      </script>\n",
              "    </div>\n",
              "  </div>\n",
              "  "
            ]
          },
          "metadata": {},
          "execution_count": 27
        }
      ]
    },
    {
      "cell_type": "code",
      "metadata": {
        "id": "6OwGp6_3Q6Mq",
        "outputId": "9156bfae-1ac5-42cc-9cd4-e9fb5d922a8e",
        "colab": {
          "base_uri": "https://localhost:8080/"
        }
      },
      "source": [
        "!pip install emoji"
      ],
      "execution_count": null,
      "outputs": [
        {
          "output_type": "stream",
          "name": "stdout",
          "text": [
            "Looking in indexes: https://pypi.org/simple, https://us-python.pkg.dev/colab-wheels/public/simple/\n",
            "Collecting emoji\n",
            "  Downloading emoji-2.0.0.tar.gz (197 kB)\n",
            "\u001b[K     |████████████████████████████████| 197 kB 25.2 MB/s \n",
            "\u001b[?25hBuilding wheels for collected packages: emoji\n",
            "  Building wheel for emoji (setup.py) ... \u001b[?25l\u001b[?25hdone\n",
            "  Created wheel for emoji: filename=emoji-2.0.0-py3-none-any.whl size=193022 sha256=ed9e56fbb254dc0b66ed6ee84b73368c489e5fa965e0c0ab1e937fbcd3f3bf03\n",
            "  Stored in directory: /root/.cache/pip/wheels/ec/29/4d/3cfe7452ac7d8d83b1930f8a6205c3c9649b24e80f9029fc38\n",
            "Successfully built emoji\n",
            "Installing collected packages: emoji\n",
            "Successfully installed emoji-2.0.0\n"
          ]
        }
      ]
    },
    {
      "cell_type": "code",
      "metadata": {
        "id": "J8bNSgc2Q-WR"
      },
      "source": [
        "import emoji\n",
        "corpusclean['content']=corpusclean['content'].apply(lambda text: emoji.replace_emoji(text,''))"
      ],
      "execution_count": null,
      "outputs": []
    },
    {
      "cell_type": "markdown",
      "metadata": {
        "id": "NNFZuWKKdrg3"
      },
      "source": [
        "## Matriz de términos de documento (CountVectorizer)\n",
        "Para convertir el texto en número podemos utilizar la técnica de Bag-Of-Words (BOW) que consiste en calcular la frecuecian de cada palabra en texto. Utilizando CountVectorizer nos ayuda a este cálculo.\n",
        "\n",
        "Por ejemplo en la frase:\n",
        "\n",
        "Este curso es una maravilla y el grupo de estudiantes también es maravilloso."
      ]
    },
    {
      "cell_type": "code",
      "metadata": {
        "id": "LlJtLNavMSGU"
      },
      "source": [
        "from sklearn.feature_extraction.text import CountVectorizer,TfidfVectorizer"
      ],
      "execution_count": null,
      "outputs": []
    },
    {
      "cell_type": "code",
      "metadata": {
        "id": "3IPAc4ZjeGS6",
        "outputId": "0453f469-8cf0-4ac3-f3d8-e0b3fbf7745e",
        "colab": {
          "base_uri": "https://localhost:8080/"
        }
      },
      "source": [
        "estudiantes=[\"Este curso es una maravilla y el grupo de estudiantes también es maravilloso\", \"Los estudiantes son muy aplicados\", \\\n",
        "             \"Un estudiante de analítica puede hacer maravillas\"]\n",
        "cv = CountVectorizer()\n",
        "example = cv.fit_transform(estudiantes)\n",
        "print(example.toarray())\n",
        "print(cv.get_feature_names())"
      ],
      "execution_count": null,
      "outputs": [
        {
          "output_type": "stream",
          "name": "stdout",
          "text": [
            "[[0 0 1 1 1 2 1 0 1 1 0 0 1 0 1 0 0 0 1 0 1]\n",
            " [0 1 0 0 0 0 0 0 1 0 0 1 0 0 0 1 0 1 0 0 0]\n",
            " [1 0 0 1 0 0 0 1 0 0 1 0 0 1 0 0 1 0 0 1 0]]\n",
            "['analítica', 'aplicados', 'curso', 'de', 'el', 'es', 'este', 'estudiante', 'estudiantes', 'grupo', 'hacer', 'los', 'maravilla', 'maravillas', 'maravilloso', 'muy', 'puede', 'son', 'también', 'un', 'una']\n"
          ]
        },
        {
          "output_type": "stream",
          "name": "stderr",
          "text": [
            "/usr/local/lib/python3.7/dist-packages/sklearn/utils/deprecation.py:87: FutureWarning: Function get_feature_names is deprecated; get_feature_names is deprecated in 1.0 and will be removed in 1.2. Please use get_feature_names_out instead.\n",
            "  warnings.warn(msg, category=FutureWarning)\n"
          ]
        }
      ]
    },
    {
      "cell_type": "code",
      "metadata": {
        "id": "XrWbzIGMewqY",
        "outputId": "16d5c42b-8bfe-4522-87bc-71d4d37a8723",
        "colab": {
          "base_uri": "https://localhost:8080/",
          "height": 254
        }
      },
      "source": [
        "df_example = pd.DataFrame(example.toarray(),columns=cv.get_feature_names())\n",
        "df_example"
      ],
      "execution_count": null,
      "outputs": [
        {
          "output_type": "stream",
          "name": "stdout",
          "text": [
            "Warning: Total number of columns (21) exceeds max_columns (20). Falling back to pandas display.\n"
          ]
        },
        {
          "output_type": "execute_result",
          "data": {
            "text/plain": [
              "   analítica  aplicados  curso  de  el  es  este  estudiante  estudiantes  \\\n",
              "0          0          0      1   1   1   2     1           0            1   \n",
              "1          0          1      0   0   0   0     0           0            1   \n",
              "2          1          0      0   1   0   0     0           1            0   \n",
              "\n",
              "   grupo  ...  los  maravilla  maravillas  maravilloso  muy  puede  son  \\\n",
              "0      1  ...    0          1           0            1    0      0    0   \n",
              "1      0  ...    1          0           0            0    1      0    1   \n",
              "2      0  ...    0          0           1            0    0      1    0   \n",
              "\n",
              "   también  un  una  \n",
              "0        1   0    1  \n",
              "1        0   0    0  \n",
              "2        0   1    0  \n",
              "\n",
              "[3 rows x 21 columns]"
            ],
            "text/html": [
              "\n",
              "  <div id=\"df-bcd24fde-771c-43a7-af79-ca20417b7366\">\n",
              "    <div class=\"colab-df-container\">\n",
              "      <div>\n",
              "<style scoped>\n",
              "    .dataframe tbody tr th:only-of-type {\n",
              "        vertical-align: middle;\n",
              "    }\n",
              "\n",
              "    .dataframe tbody tr th {\n",
              "        vertical-align: top;\n",
              "    }\n",
              "\n",
              "    .dataframe thead th {\n",
              "        text-align: right;\n",
              "    }\n",
              "</style>\n",
              "<table border=\"1\" class=\"dataframe\">\n",
              "  <thead>\n",
              "    <tr style=\"text-align: right;\">\n",
              "      <th></th>\n",
              "      <th>analítica</th>\n",
              "      <th>aplicados</th>\n",
              "      <th>curso</th>\n",
              "      <th>de</th>\n",
              "      <th>el</th>\n",
              "      <th>es</th>\n",
              "      <th>este</th>\n",
              "      <th>estudiante</th>\n",
              "      <th>estudiantes</th>\n",
              "      <th>grupo</th>\n",
              "      <th>...</th>\n",
              "      <th>los</th>\n",
              "      <th>maravilla</th>\n",
              "      <th>maravillas</th>\n",
              "      <th>maravilloso</th>\n",
              "      <th>muy</th>\n",
              "      <th>puede</th>\n",
              "      <th>son</th>\n",
              "      <th>también</th>\n",
              "      <th>un</th>\n",
              "      <th>una</th>\n",
              "    </tr>\n",
              "  </thead>\n",
              "  <tbody>\n",
              "    <tr>\n",
              "      <th>0</th>\n",
              "      <td>0</td>\n",
              "      <td>0</td>\n",
              "      <td>1</td>\n",
              "      <td>1</td>\n",
              "      <td>1</td>\n",
              "      <td>2</td>\n",
              "      <td>1</td>\n",
              "      <td>0</td>\n",
              "      <td>1</td>\n",
              "      <td>1</td>\n",
              "      <td>...</td>\n",
              "      <td>0</td>\n",
              "      <td>1</td>\n",
              "      <td>0</td>\n",
              "      <td>1</td>\n",
              "      <td>0</td>\n",
              "      <td>0</td>\n",
              "      <td>0</td>\n",
              "      <td>1</td>\n",
              "      <td>0</td>\n",
              "      <td>1</td>\n",
              "    </tr>\n",
              "    <tr>\n",
              "      <th>1</th>\n",
              "      <td>0</td>\n",
              "      <td>1</td>\n",
              "      <td>0</td>\n",
              "      <td>0</td>\n",
              "      <td>0</td>\n",
              "      <td>0</td>\n",
              "      <td>0</td>\n",
              "      <td>0</td>\n",
              "      <td>1</td>\n",
              "      <td>0</td>\n",
              "      <td>...</td>\n",
              "      <td>1</td>\n",
              "      <td>0</td>\n",
              "      <td>0</td>\n",
              "      <td>0</td>\n",
              "      <td>1</td>\n",
              "      <td>0</td>\n",
              "      <td>1</td>\n",
              "      <td>0</td>\n",
              "      <td>0</td>\n",
              "      <td>0</td>\n",
              "    </tr>\n",
              "    <tr>\n",
              "      <th>2</th>\n",
              "      <td>1</td>\n",
              "      <td>0</td>\n",
              "      <td>0</td>\n",
              "      <td>1</td>\n",
              "      <td>0</td>\n",
              "      <td>0</td>\n",
              "      <td>0</td>\n",
              "      <td>1</td>\n",
              "      <td>0</td>\n",
              "      <td>0</td>\n",
              "      <td>...</td>\n",
              "      <td>0</td>\n",
              "      <td>0</td>\n",
              "      <td>1</td>\n",
              "      <td>0</td>\n",
              "      <td>0</td>\n",
              "      <td>1</td>\n",
              "      <td>0</td>\n",
              "      <td>0</td>\n",
              "      <td>1</td>\n",
              "      <td>0</td>\n",
              "    </tr>\n",
              "  </tbody>\n",
              "</table>\n",
              "<p>3 rows × 21 columns</p>\n",
              "</div>\n",
              "      <button class=\"colab-df-convert\" onclick=\"convertToInteractive('df-bcd24fde-771c-43a7-af79-ca20417b7366')\"\n",
              "              title=\"Convert this dataframe to an interactive table.\"\n",
              "              style=\"display:none;\">\n",
              "        \n",
              "  <svg xmlns=\"http://www.w3.org/2000/svg\" height=\"24px\"viewBox=\"0 0 24 24\"\n",
              "       width=\"24px\">\n",
              "    <path d=\"M0 0h24v24H0V0z\" fill=\"none\"/>\n",
              "    <path d=\"M18.56 5.44l.94 2.06.94-2.06 2.06-.94-2.06-.94-.94-2.06-.94 2.06-2.06.94zm-11 1L8.5 8.5l.94-2.06 2.06-.94-2.06-.94L8.5 2.5l-.94 2.06-2.06.94zm10 10l.94 2.06.94-2.06 2.06-.94-2.06-.94-.94-2.06-.94 2.06-2.06.94z\"/><path d=\"M17.41 7.96l-1.37-1.37c-.4-.4-.92-.59-1.43-.59-.52 0-1.04.2-1.43.59L10.3 9.45l-7.72 7.72c-.78.78-.78 2.05 0 2.83L4 21.41c.39.39.9.59 1.41.59.51 0 1.02-.2 1.41-.59l7.78-7.78 2.81-2.81c.8-.78.8-2.07 0-2.86zM5.41 20L4 18.59l7.72-7.72 1.47 1.35L5.41 20z\"/>\n",
              "  </svg>\n",
              "      </button>\n",
              "      \n",
              "  <style>\n",
              "    .colab-df-container {\n",
              "      display:flex;\n",
              "      flex-wrap:wrap;\n",
              "      gap: 12px;\n",
              "    }\n",
              "\n",
              "    .colab-df-convert {\n",
              "      background-color: #E8F0FE;\n",
              "      border: none;\n",
              "      border-radius: 50%;\n",
              "      cursor: pointer;\n",
              "      display: none;\n",
              "      fill: #1967D2;\n",
              "      height: 32px;\n",
              "      padding: 0 0 0 0;\n",
              "      width: 32px;\n",
              "    }\n",
              "\n",
              "    .colab-df-convert:hover {\n",
              "      background-color: #E2EBFA;\n",
              "      box-shadow: 0px 1px 2px rgba(60, 64, 67, 0.3), 0px 1px 3px 1px rgba(60, 64, 67, 0.15);\n",
              "      fill: #174EA6;\n",
              "    }\n",
              "\n",
              "    [theme=dark] .colab-df-convert {\n",
              "      background-color: #3B4455;\n",
              "      fill: #D2E3FC;\n",
              "    }\n",
              "\n",
              "    [theme=dark] .colab-df-convert:hover {\n",
              "      background-color: #434B5C;\n",
              "      box-shadow: 0px 1px 3px 1px rgba(0, 0, 0, 0.15);\n",
              "      filter: drop-shadow(0px 1px 2px rgba(0, 0, 0, 0.3));\n",
              "      fill: #FFFFFF;\n",
              "    }\n",
              "  </style>\n",
              "\n",
              "      <script>\n",
              "        const buttonEl =\n",
              "          document.querySelector('#df-bcd24fde-771c-43a7-af79-ca20417b7366 button.colab-df-convert');\n",
              "        buttonEl.style.display =\n",
              "          google.colab.kernel.accessAllowed ? 'block' : 'none';\n",
              "\n",
              "        async function convertToInteractive(key) {\n",
              "          const element = document.querySelector('#df-bcd24fde-771c-43a7-af79-ca20417b7366');\n",
              "          const dataTable =\n",
              "            await google.colab.kernel.invokeFunction('convertToInteractive',\n",
              "                                                     [key], {});\n",
              "          if (!dataTable) return;\n",
              "\n",
              "          const docLinkHtml = 'Like what you see? Visit the ' +\n",
              "            '<a target=\"_blank\" href=https://colab.research.google.com/notebooks/data_table.ipynb>data table notebook</a>'\n",
              "            + ' to learn more about interactive tables.';\n",
              "          element.innerHTML = '';\n",
              "          dataTable['output_type'] = 'display_data';\n",
              "          await google.colab.output.renderOutput(dataTable, element);\n",
              "          const docLink = document.createElement('div');\n",
              "          docLink.innerHTML = docLinkHtml;\n",
              "          element.appendChild(docLink);\n",
              "        }\n",
              "      </script>\n",
              "    </div>\n",
              "  </div>\n",
              "  "
            ]
          },
          "metadata": {},
          "execution_count": 34
        }
      ]
    },
    {
      "cell_type": "code",
      "metadata": {
        "id": "jn6nxnwZfn2E",
        "outputId": "2cf7f245-d979-4201-f7a0-f97d3ea38c2f",
        "colab": {
          "base_uri": "https://localhost:8080/",
          "height": 209
        }
      },
      "source": [
        "cv = CountVectorizer(stop_words=stop)\n",
        "example = cv.fit_transform(estudiantes)\n",
        "df_example = pd.DataFrame(example.toarray(),columns=cv.get_feature_names())\n",
        "df_example"
      ],
      "execution_count": null,
      "outputs": [
        {
          "output_type": "stream",
          "name": "stderr",
          "text": [
            "/usr/local/lib/python3.7/dist-packages/sklearn/utils/deprecation.py:87: FutureWarning: Function get_feature_names is deprecated; get_feature_names is deprecated in 1.0 and will be removed in 1.2. Please use get_feature_names_out instead.\n",
            "  warnings.warn(msg, category=FutureWarning)\n"
          ]
        },
        {
          "output_type": "execute_result",
          "data": {
            "text/plain": [
              "   analítica  aplicados  curso  estudiante  estudiantes  grupo  hacer  \\\n",
              "0          0          0      1           0            1      1      0   \n",
              "1          0          1      0           0            1      0      0   \n",
              "2          1          0      0           1            0      0      1   \n",
              "\n",
              "   maravilla  maravillas  maravilloso  puede  \n",
              "0          1           0            1      0  \n",
              "1          0           0            0      0  \n",
              "2          0           1            0      1  "
            ],
            "text/html": [
              "\n",
              "  <div id=\"df-bd862dd0-bf68-4b7b-962f-ec381f3ed375\">\n",
              "    <div class=\"colab-df-container\">\n",
              "      <div>\n",
              "<style scoped>\n",
              "    .dataframe tbody tr th:only-of-type {\n",
              "        vertical-align: middle;\n",
              "    }\n",
              "\n",
              "    .dataframe tbody tr th {\n",
              "        vertical-align: top;\n",
              "    }\n",
              "\n",
              "    .dataframe thead th {\n",
              "        text-align: right;\n",
              "    }\n",
              "</style>\n",
              "<table border=\"1\" class=\"dataframe\">\n",
              "  <thead>\n",
              "    <tr style=\"text-align: right;\">\n",
              "      <th></th>\n",
              "      <th>analítica</th>\n",
              "      <th>aplicados</th>\n",
              "      <th>curso</th>\n",
              "      <th>estudiante</th>\n",
              "      <th>estudiantes</th>\n",
              "      <th>grupo</th>\n",
              "      <th>hacer</th>\n",
              "      <th>maravilla</th>\n",
              "      <th>maravillas</th>\n",
              "      <th>maravilloso</th>\n",
              "      <th>puede</th>\n",
              "    </tr>\n",
              "  </thead>\n",
              "  <tbody>\n",
              "    <tr>\n",
              "      <th>0</th>\n",
              "      <td>0</td>\n",
              "      <td>0</td>\n",
              "      <td>1</td>\n",
              "      <td>0</td>\n",
              "      <td>1</td>\n",
              "      <td>1</td>\n",
              "      <td>0</td>\n",
              "      <td>1</td>\n",
              "      <td>0</td>\n",
              "      <td>1</td>\n",
              "      <td>0</td>\n",
              "    </tr>\n",
              "    <tr>\n",
              "      <th>1</th>\n",
              "      <td>0</td>\n",
              "      <td>1</td>\n",
              "      <td>0</td>\n",
              "      <td>0</td>\n",
              "      <td>1</td>\n",
              "      <td>0</td>\n",
              "      <td>0</td>\n",
              "      <td>0</td>\n",
              "      <td>0</td>\n",
              "      <td>0</td>\n",
              "      <td>0</td>\n",
              "    </tr>\n",
              "    <tr>\n",
              "      <th>2</th>\n",
              "      <td>1</td>\n",
              "      <td>0</td>\n",
              "      <td>0</td>\n",
              "      <td>1</td>\n",
              "      <td>0</td>\n",
              "      <td>0</td>\n",
              "      <td>1</td>\n",
              "      <td>0</td>\n",
              "      <td>1</td>\n",
              "      <td>0</td>\n",
              "      <td>1</td>\n",
              "    </tr>\n",
              "  </tbody>\n",
              "</table>\n",
              "</div>\n",
              "      <button class=\"colab-df-convert\" onclick=\"convertToInteractive('df-bd862dd0-bf68-4b7b-962f-ec381f3ed375')\"\n",
              "              title=\"Convert this dataframe to an interactive table.\"\n",
              "              style=\"display:none;\">\n",
              "        \n",
              "  <svg xmlns=\"http://www.w3.org/2000/svg\" height=\"24px\"viewBox=\"0 0 24 24\"\n",
              "       width=\"24px\">\n",
              "    <path d=\"M0 0h24v24H0V0z\" fill=\"none\"/>\n",
              "    <path d=\"M18.56 5.44l.94 2.06.94-2.06 2.06-.94-2.06-.94-.94-2.06-.94 2.06-2.06.94zm-11 1L8.5 8.5l.94-2.06 2.06-.94-2.06-.94L8.5 2.5l-.94 2.06-2.06.94zm10 10l.94 2.06.94-2.06 2.06-.94-2.06-.94-.94-2.06-.94 2.06-2.06.94z\"/><path d=\"M17.41 7.96l-1.37-1.37c-.4-.4-.92-.59-1.43-.59-.52 0-1.04.2-1.43.59L10.3 9.45l-7.72 7.72c-.78.78-.78 2.05 0 2.83L4 21.41c.39.39.9.59 1.41.59.51 0 1.02-.2 1.41-.59l7.78-7.78 2.81-2.81c.8-.78.8-2.07 0-2.86zM5.41 20L4 18.59l7.72-7.72 1.47 1.35L5.41 20z\"/>\n",
              "  </svg>\n",
              "      </button>\n",
              "      \n",
              "  <style>\n",
              "    .colab-df-container {\n",
              "      display:flex;\n",
              "      flex-wrap:wrap;\n",
              "      gap: 12px;\n",
              "    }\n",
              "\n",
              "    .colab-df-convert {\n",
              "      background-color: #E8F0FE;\n",
              "      border: none;\n",
              "      border-radius: 50%;\n",
              "      cursor: pointer;\n",
              "      display: none;\n",
              "      fill: #1967D2;\n",
              "      height: 32px;\n",
              "      padding: 0 0 0 0;\n",
              "      width: 32px;\n",
              "    }\n",
              "\n",
              "    .colab-df-convert:hover {\n",
              "      background-color: #E2EBFA;\n",
              "      box-shadow: 0px 1px 2px rgba(60, 64, 67, 0.3), 0px 1px 3px 1px rgba(60, 64, 67, 0.15);\n",
              "      fill: #174EA6;\n",
              "    }\n",
              "\n",
              "    [theme=dark] .colab-df-convert {\n",
              "      background-color: #3B4455;\n",
              "      fill: #D2E3FC;\n",
              "    }\n",
              "\n",
              "    [theme=dark] .colab-df-convert:hover {\n",
              "      background-color: #434B5C;\n",
              "      box-shadow: 0px 1px 3px 1px rgba(0, 0, 0, 0.15);\n",
              "      filter: drop-shadow(0px 1px 2px rgba(0, 0, 0, 0.3));\n",
              "      fill: #FFFFFF;\n",
              "    }\n",
              "  </style>\n",
              "\n",
              "      <script>\n",
              "        const buttonEl =\n",
              "          document.querySelector('#df-bd862dd0-bf68-4b7b-962f-ec381f3ed375 button.colab-df-convert');\n",
              "        buttonEl.style.display =\n",
              "          google.colab.kernel.accessAllowed ? 'block' : 'none';\n",
              "\n",
              "        async function convertToInteractive(key) {\n",
              "          const element = document.querySelector('#df-bd862dd0-bf68-4b7b-962f-ec381f3ed375');\n",
              "          const dataTable =\n",
              "            await google.colab.kernel.invokeFunction('convertToInteractive',\n",
              "                                                     [key], {});\n",
              "          if (!dataTable) return;\n",
              "\n",
              "          const docLinkHtml = 'Like what you see? Visit the ' +\n",
              "            '<a target=\"_blank\" href=https://colab.research.google.com/notebooks/data_table.ipynb>data table notebook</a>'\n",
              "            + ' to learn more about interactive tables.';\n",
              "          element.innerHTML = '';\n",
              "          dataTable['output_type'] = 'display_data';\n",
              "          await google.colab.output.renderOutput(dataTable, element);\n",
              "          const docLink = document.createElement('div');\n",
              "          docLink.innerHTML = docLinkHtml;\n",
              "          element.appendChild(docLink);\n",
              "        }\n",
              "      </script>\n",
              "    </div>\n",
              "  </div>\n",
              "  "
            ],
            "application/vnd.google.colaboratory.module+javascript": "\n      import \"https://ssl.gstatic.com/colaboratory/data_table/a8bd4d5e58f96183/data_table.js\";\n\n      window.createDataTable({\n        data: [[{\n            'v': 0,\n            'f': \"0\",\n        },\n{\n            'v': 0,\n            'f': \"0\",\n        },\n{\n            'v': 0,\n            'f': \"0\",\n        },\n{\n            'v': 1,\n            'f': \"1\",\n        },\n{\n            'v': 0,\n            'f': \"0\",\n        },\n{\n            'v': 1,\n            'f': \"1\",\n        },\n{\n            'v': 1,\n            'f': \"1\",\n        },\n{\n            'v': 0,\n            'f': \"0\",\n        },\n{\n            'v': 1,\n            'f': \"1\",\n        },\n{\n            'v': 0,\n            'f': \"0\",\n        },\n{\n            'v': 1,\n            'f': \"1\",\n        },\n{\n            'v': 0,\n            'f': \"0\",\n        }],\n [{\n            'v': 1,\n            'f': \"1\",\n        },\n{\n            'v': 0,\n            'f': \"0\",\n        },\n{\n            'v': 1,\n            'f': \"1\",\n        },\n{\n            'v': 0,\n            'f': \"0\",\n        },\n{\n            'v': 0,\n            'f': \"0\",\n        },\n{\n            'v': 1,\n            'f': \"1\",\n        },\n{\n            'v': 0,\n            'f': \"0\",\n        },\n{\n            'v': 0,\n            'f': \"0\",\n        },\n{\n            'v': 0,\n            'f': \"0\",\n        },\n{\n            'v': 0,\n            'f': \"0\",\n        },\n{\n            'v': 0,\n            'f': \"0\",\n        },\n{\n            'v': 0,\n            'f': \"0\",\n        }],\n [{\n            'v': 2,\n            'f': \"2\",\n        },\n{\n            'v': 1,\n            'f': \"1\",\n        },\n{\n            'v': 0,\n            'f': \"0\",\n        },\n{\n            'v': 0,\n            'f': \"0\",\n        },\n{\n            'v': 1,\n            'f': \"1\",\n        },\n{\n            'v': 0,\n            'f': \"0\",\n        },\n{\n            'v': 0,\n            'f': \"0\",\n        },\n{\n            'v': 1,\n            'f': \"1\",\n        },\n{\n            'v': 0,\n            'f': \"0\",\n        },\n{\n            'v': 1,\n            'f': \"1\",\n        },\n{\n            'v': 0,\n            'f': \"0\",\n        },\n{\n            'v': 1,\n            'f': \"1\",\n        }]],\n        columns: [[\"number\", \"index\"], [\"number\", \"anal\\u00edtica\"], [\"number\", \"aplicados\"], [\"number\", \"curso\"], [\"number\", \"estudiante\"], [\"number\", \"estudiantes\"], [\"number\", \"grupo\"], [\"number\", \"hacer\"], [\"number\", \"maravilla\"], [\"number\", \"maravillas\"], [\"number\", \"maravilloso\"], [\"number\", \"puede\"]],\n        columnOptions: [{\"width\": \"1px\", \"className\": \"index_column\"}],\n        rowsPerPage: 25,\n        helpUrl: \"https://colab.research.google.com/notebooks/data_table.ipynb\",\n        suppressOutputScrolling: true,\n        minimumWidth: undefined,\n      });\n    "
          },
          "metadata": {},
          "execution_count": 35
        }
      ]
    },
    {
      "cell_type": "code",
      "metadata": {
        "id": "vzLbw0qecYal"
      },
      "source": [
        "stemmer = SnowballStemmer('spanish')\n",
        "\n",
        "def tokenize(text):\n",
        "  # tokenize\n",
        "  tokens =  word_tokenize(text)\n",
        "  # stemming\n",
        "  try:\n",
        "    stems = [stemmer.stem(item) for item in tokens]\n",
        "  except Exception as e:\n",
        "    stems = ['']\n",
        "  return stems"
      ],
      "execution_count": null,
      "outputs": []
    },
    {
      "cell_type": "code",
      "metadata": {
        "id": "ntNgwCBGh-_2",
        "outputId": "4602769b-97b6-48cd-82f5-334cc533ffa7",
        "colab": {
          "base_uri": "https://localhost:8080/",
          "height": 224
        }
      },
      "source": [
        "cv = CountVectorizer(stop_words=stop,\n",
        "                     analyzer = 'word',\n",
        "                     tokenizer = word_tokenize,\n",
        "                     lowercase = True,\n",
        "                     ngram_range=(1, 2))\n",
        "example = cv.fit_transform(estudiantes)\n",
        "df_example = pd.DataFrame(example.toarray(),columns=cv.get_feature_names())\n",
        "df_example"
      ],
      "execution_count": null,
      "outputs": [
        {
          "output_type": "stream",
          "name": "stderr",
          "text": [
            "/usr/local/lib/python3.7/dist-packages/sklearn/utils/deprecation.py:87: FutureWarning: Function get_feature_names is deprecated; get_feature_names is deprecated in 1.0 and will be removed in 1.2. Please use get_feature_names_out instead.\n",
            "  warnings.warn(msg, category=FutureWarning)\n"
          ]
        },
        {
          "output_type": "execute_result",
          "data": {
            "text/plain": [
              "   analítica  analítica puede  aplicados  curso  curso maravilla  estudiante  \\\n",
              "0          0                0          0      1                1           0   \n",
              "1          0                0          1      0                0           0   \n",
              "2          1                1          0      0                0           1   \n",
              "\n",
              "   estudiante analítica  estudiantes  estudiantes aplicados  \\\n",
              "0                     0            1                      0   \n",
              "1                     0            1                      1   \n",
              "2                     1            0                      0   \n",
              "\n",
              "   estudiantes maravilloso  grupo  grupo estudiantes  hacer  hacer maravillas  \\\n",
              "0                        1      1                  1      0                 0   \n",
              "1                        0      0                  0      0                 0   \n",
              "2                        0      0                  0      1                 1   \n",
              "\n",
              "   maravilla  maravilla grupo  maravillas  maravilloso  puede  puede hacer  \n",
              "0          1                1           0            1      0            0  \n",
              "1          0                0           0            0      0            0  \n",
              "2          0                0           1            0      1            1  "
            ],
            "text/html": [
              "\n",
              "  <div id=\"df-f6c967ae-8c55-4940-9d3a-61e496a255e4\">\n",
              "    <div class=\"colab-df-container\">\n",
              "      <div>\n",
              "<style scoped>\n",
              "    .dataframe tbody tr th:only-of-type {\n",
              "        vertical-align: middle;\n",
              "    }\n",
              "\n",
              "    .dataframe tbody tr th {\n",
              "        vertical-align: top;\n",
              "    }\n",
              "\n",
              "    .dataframe thead th {\n",
              "        text-align: right;\n",
              "    }\n",
              "</style>\n",
              "<table border=\"1\" class=\"dataframe\">\n",
              "  <thead>\n",
              "    <tr style=\"text-align: right;\">\n",
              "      <th></th>\n",
              "      <th>analítica</th>\n",
              "      <th>analítica puede</th>\n",
              "      <th>aplicados</th>\n",
              "      <th>curso</th>\n",
              "      <th>curso maravilla</th>\n",
              "      <th>estudiante</th>\n",
              "      <th>estudiante analítica</th>\n",
              "      <th>estudiantes</th>\n",
              "      <th>estudiantes aplicados</th>\n",
              "      <th>estudiantes maravilloso</th>\n",
              "      <th>grupo</th>\n",
              "      <th>grupo estudiantes</th>\n",
              "      <th>hacer</th>\n",
              "      <th>hacer maravillas</th>\n",
              "      <th>maravilla</th>\n",
              "      <th>maravilla grupo</th>\n",
              "      <th>maravillas</th>\n",
              "      <th>maravilloso</th>\n",
              "      <th>puede</th>\n",
              "      <th>puede hacer</th>\n",
              "    </tr>\n",
              "  </thead>\n",
              "  <tbody>\n",
              "    <tr>\n",
              "      <th>0</th>\n",
              "      <td>0</td>\n",
              "      <td>0</td>\n",
              "      <td>0</td>\n",
              "      <td>1</td>\n",
              "      <td>1</td>\n",
              "      <td>0</td>\n",
              "      <td>0</td>\n",
              "      <td>1</td>\n",
              "      <td>0</td>\n",
              "      <td>1</td>\n",
              "      <td>1</td>\n",
              "      <td>1</td>\n",
              "      <td>0</td>\n",
              "      <td>0</td>\n",
              "      <td>1</td>\n",
              "      <td>1</td>\n",
              "      <td>0</td>\n",
              "      <td>1</td>\n",
              "      <td>0</td>\n",
              "      <td>0</td>\n",
              "    </tr>\n",
              "    <tr>\n",
              "      <th>1</th>\n",
              "      <td>0</td>\n",
              "      <td>0</td>\n",
              "      <td>1</td>\n",
              "      <td>0</td>\n",
              "      <td>0</td>\n",
              "      <td>0</td>\n",
              "      <td>0</td>\n",
              "      <td>1</td>\n",
              "      <td>1</td>\n",
              "      <td>0</td>\n",
              "      <td>0</td>\n",
              "      <td>0</td>\n",
              "      <td>0</td>\n",
              "      <td>0</td>\n",
              "      <td>0</td>\n",
              "      <td>0</td>\n",
              "      <td>0</td>\n",
              "      <td>0</td>\n",
              "      <td>0</td>\n",
              "      <td>0</td>\n",
              "    </tr>\n",
              "    <tr>\n",
              "      <th>2</th>\n",
              "      <td>1</td>\n",
              "      <td>1</td>\n",
              "      <td>0</td>\n",
              "      <td>0</td>\n",
              "      <td>0</td>\n",
              "      <td>1</td>\n",
              "      <td>1</td>\n",
              "      <td>0</td>\n",
              "      <td>0</td>\n",
              "      <td>0</td>\n",
              "      <td>0</td>\n",
              "      <td>0</td>\n",
              "      <td>1</td>\n",
              "      <td>1</td>\n",
              "      <td>0</td>\n",
              "      <td>0</td>\n",
              "      <td>1</td>\n",
              "      <td>0</td>\n",
              "      <td>1</td>\n",
              "      <td>1</td>\n",
              "    </tr>\n",
              "  </tbody>\n",
              "</table>\n",
              "</div>\n",
              "      <button class=\"colab-df-convert\" onclick=\"convertToInteractive('df-f6c967ae-8c55-4940-9d3a-61e496a255e4')\"\n",
              "              title=\"Convert this dataframe to an interactive table.\"\n",
              "              style=\"display:none;\">\n",
              "        \n",
              "  <svg xmlns=\"http://www.w3.org/2000/svg\" height=\"24px\"viewBox=\"0 0 24 24\"\n",
              "       width=\"24px\">\n",
              "    <path d=\"M0 0h24v24H0V0z\" fill=\"none\"/>\n",
              "    <path d=\"M18.56 5.44l.94 2.06.94-2.06 2.06-.94-2.06-.94-.94-2.06-.94 2.06-2.06.94zm-11 1L8.5 8.5l.94-2.06 2.06-.94-2.06-.94L8.5 2.5l-.94 2.06-2.06.94zm10 10l.94 2.06.94-2.06 2.06-.94-2.06-.94-.94-2.06-.94 2.06-2.06.94z\"/><path d=\"M17.41 7.96l-1.37-1.37c-.4-.4-.92-.59-1.43-.59-.52 0-1.04.2-1.43.59L10.3 9.45l-7.72 7.72c-.78.78-.78 2.05 0 2.83L4 21.41c.39.39.9.59 1.41.59.51 0 1.02-.2 1.41-.59l7.78-7.78 2.81-2.81c.8-.78.8-2.07 0-2.86zM5.41 20L4 18.59l7.72-7.72 1.47 1.35L5.41 20z\"/>\n",
              "  </svg>\n",
              "      </button>\n",
              "      \n",
              "  <style>\n",
              "    .colab-df-container {\n",
              "      display:flex;\n",
              "      flex-wrap:wrap;\n",
              "      gap: 12px;\n",
              "    }\n",
              "\n",
              "    .colab-df-convert {\n",
              "      background-color: #E8F0FE;\n",
              "      border: none;\n",
              "      border-radius: 50%;\n",
              "      cursor: pointer;\n",
              "      display: none;\n",
              "      fill: #1967D2;\n",
              "      height: 32px;\n",
              "      padding: 0 0 0 0;\n",
              "      width: 32px;\n",
              "    }\n",
              "\n",
              "    .colab-df-convert:hover {\n",
              "      background-color: #E2EBFA;\n",
              "      box-shadow: 0px 1px 2px rgba(60, 64, 67, 0.3), 0px 1px 3px 1px rgba(60, 64, 67, 0.15);\n",
              "      fill: #174EA6;\n",
              "    }\n",
              "\n",
              "    [theme=dark] .colab-df-convert {\n",
              "      background-color: #3B4455;\n",
              "      fill: #D2E3FC;\n",
              "    }\n",
              "\n",
              "    [theme=dark] .colab-df-convert:hover {\n",
              "      background-color: #434B5C;\n",
              "      box-shadow: 0px 1px 3px 1px rgba(0, 0, 0, 0.15);\n",
              "      filter: drop-shadow(0px 1px 2px rgba(0, 0, 0, 0.3));\n",
              "      fill: #FFFFFF;\n",
              "    }\n",
              "  </style>\n",
              "\n",
              "      <script>\n",
              "        const buttonEl =\n",
              "          document.querySelector('#df-f6c967ae-8c55-4940-9d3a-61e496a255e4 button.colab-df-convert');\n",
              "        buttonEl.style.display =\n",
              "          google.colab.kernel.accessAllowed ? 'block' : 'none';\n",
              "\n",
              "        async function convertToInteractive(key) {\n",
              "          const element = document.querySelector('#df-f6c967ae-8c55-4940-9d3a-61e496a255e4');\n",
              "          const dataTable =\n",
              "            await google.colab.kernel.invokeFunction('convertToInteractive',\n",
              "                                                     [key], {});\n",
              "          if (!dataTable) return;\n",
              "\n",
              "          const docLinkHtml = 'Like what you see? Visit the ' +\n",
              "            '<a target=\"_blank\" href=https://colab.research.google.com/notebooks/data_table.ipynb>data table notebook</a>'\n",
              "            + ' to learn more about interactive tables.';\n",
              "          element.innerHTML = '';\n",
              "          dataTable['output_type'] = 'display_data';\n",
              "          await google.colab.output.renderOutput(dataTable, element);\n",
              "          const docLink = document.createElement('div');\n",
              "          docLink.innerHTML = docLinkHtml;\n",
              "          element.appendChild(docLink);\n",
              "        }\n",
              "      </script>\n",
              "    </div>\n",
              "  </div>\n",
              "  "
            ],
            "application/vnd.google.colaboratory.module+javascript": "\n      import \"https://ssl.gstatic.com/colaboratory/data_table/a8bd4d5e58f96183/data_table.js\";\n\n      window.createDataTable({\n        data: [[{\n            'v': 0,\n            'f': \"0\",\n        },\n{\n            'v': 0,\n            'f': \"0\",\n        },\n{\n            'v': 0,\n            'f': \"0\",\n        },\n{\n            'v': 0,\n            'f': \"0\",\n        },\n{\n            'v': 1,\n            'f': \"1\",\n        },\n{\n            'v': 1,\n            'f': \"1\",\n        },\n{\n            'v': 0,\n            'f': \"0\",\n        },\n{\n            'v': 0,\n            'f': \"0\",\n        },\n{\n            'v': 1,\n            'f': \"1\",\n        },\n{\n            'v': 0,\n            'f': \"0\",\n        },\n{\n            'v': 1,\n            'f': \"1\",\n        },\n{\n            'v': 1,\n            'f': \"1\",\n        },\n{\n            'v': 1,\n            'f': \"1\",\n        },\n{\n            'v': 0,\n            'f': \"0\",\n        },\n{\n            'v': 0,\n            'f': \"0\",\n        },\n{\n            'v': 1,\n            'f': \"1\",\n        },\n{\n            'v': 1,\n            'f': \"1\",\n        },\n{\n            'v': 0,\n            'f': \"0\",\n        },\n{\n            'v': 1,\n            'f': \"1\",\n        },\n{\n            'v': 0,\n            'f': \"0\",\n        },\n{\n            'v': 0,\n            'f': \"0\",\n        }],\n [{\n            'v': 1,\n            'f': \"1\",\n        },\n{\n            'v': 0,\n            'f': \"0\",\n        },\n{\n            'v': 0,\n            'f': \"0\",\n        },\n{\n            'v': 1,\n            'f': \"1\",\n        },\n{\n            'v': 0,\n            'f': \"0\",\n        },\n{\n            'v': 0,\n            'f': \"0\",\n        },\n{\n            'v': 0,\n            'f': \"0\",\n        },\n{\n            'v': 0,\n            'f': \"0\",\n        },\n{\n            'v': 1,\n            'f': \"1\",\n        },\n{\n            'v': 1,\n            'f': \"1\",\n        },\n{\n            'v': 0,\n            'f': \"0\",\n        },\n{\n            'v': 0,\n            'f': \"0\",\n        },\n{\n            'v': 0,\n            'f': \"0\",\n        },\n{\n            'v': 0,\n            'f': \"0\",\n        },\n{\n            'v': 0,\n            'f': \"0\",\n        },\n{\n            'v': 0,\n            'f': \"0\",\n        },\n{\n            'v': 0,\n            'f': \"0\",\n        },\n{\n            'v': 0,\n            'f': \"0\",\n        },\n{\n            'v': 0,\n            'f': \"0\",\n        },\n{\n            'v': 0,\n            'f': \"0\",\n        },\n{\n            'v': 0,\n            'f': \"0\",\n        }],\n [{\n            'v': 2,\n            'f': \"2\",\n        },\n{\n            'v': 1,\n            'f': \"1\",\n        },\n{\n            'v': 1,\n            'f': \"1\",\n        },\n{\n            'v': 0,\n            'f': \"0\",\n        },\n{\n            'v': 0,\n            'f': \"0\",\n        },\n{\n            'v': 0,\n            'f': \"0\",\n        },\n{\n            'v': 1,\n            'f': \"1\",\n        },\n{\n            'v': 1,\n            'f': \"1\",\n        },\n{\n            'v': 0,\n            'f': \"0\",\n        },\n{\n            'v': 0,\n            'f': \"0\",\n        },\n{\n            'v': 0,\n            'f': \"0\",\n        },\n{\n            'v': 0,\n            'f': \"0\",\n        },\n{\n            'v': 0,\n            'f': \"0\",\n        },\n{\n            'v': 1,\n            'f': \"1\",\n        },\n{\n            'v': 1,\n            'f': \"1\",\n        },\n{\n            'v': 0,\n            'f': \"0\",\n        },\n{\n            'v': 0,\n            'f': \"0\",\n        },\n{\n            'v': 1,\n            'f': \"1\",\n        },\n{\n            'v': 0,\n            'f': \"0\",\n        },\n{\n            'v': 1,\n            'f': \"1\",\n        },\n{\n            'v': 1,\n            'f': \"1\",\n        }]],\n        columns: [[\"number\", \"index\"], [\"number\", \"anal\\u00edtica\"], [\"number\", \"anal\\u00edtica puede\"], [\"number\", \"aplicados\"], [\"number\", \"curso\"], [\"number\", \"curso maravilla\"], [\"number\", \"estudiante\"], [\"number\", \"estudiante anal\\u00edtica\"], [\"number\", \"estudiantes\"], [\"number\", \"estudiantes aplicados\"], [\"number\", \"estudiantes maravilloso\"], [\"number\", \"grupo\"], [\"number\", \"grupo estudiantes\"], [\"number\", \"hacer\"], [\"number\", \"hacer maravillas\"], [\"number\", \"maravilla\"], [\"number\", \"maravilla grupo\"], [\"number\", \"maravillas\"], [\"number\", \"maravilloso\"], [\"number\", \"puede\"], [\"number\", \"puede hacer\"]],\n        columnOptions: [{\"width\": \"1px\", \"className\": \"index_column\"}],\n        rowsPerPage: 25,\n        helpUrl: \"https://colab.research.google.com/notebooks/data_table.ipynb\",\n        suppressOutputScrolling: true,\n        minimumWidth: undefined,\n      });\n    "
          },
          "metadata": {},
          "execution_count": 37
        }
      ]
    },
    {
      "cell_type": "code",
      "metadata": {
        "id": "rN7BsPY-Lz50",
        "outputId": "e60e3360-cbb5-4c6d-8a57-7b86ed818d93",
        "colab": {
          "base_uri": "https://localhost:8080/",
          "height": 259
        }
      },
      "source": [
        "cv = CountVectorizer(stop_words=stop,\n",
        "                     analyzer = 'word',\n",
        "                     tokenizer = tokenize,\n",
        "                     lowercase = True,\n",
        "                     ngram_range=(1, 2))\n",
        "example = cv.fit_transform(estudiantes)\n",
        "df_example = pd.DataFrame(example.toarray(),columns=cv.get_feature_names())\n",
        "df_example"
      ],
      "execution_count": null,
      "outputs": [
        {
          "output_type": "stream",
          "name": "stderr",
          "text": [
            "/usr/local/lib/python3.7/dist-packages/sklearn/feature_extraction/text.py:401: UserWarning: Your stop_words may be inconsistent with your preprocessing. Tokenizing the stop words generated tokens ['algun', 'com', 'contr', 'cuand', 'desd', 'dond', 'durant', 'eram', 'estab', 'estais', 'estam', 'estan', 'estand', 'estaran', 'estaras', 'esteis', 'estem', 'esten', 'estes', 'estuv', 'fuer', 'fues', 'fuim', 'fuist', 'hab', 'habr', 'habran', 'habras', 'hast', 'hem', 'hub', 'mas', 'mia', 'mias', 'mio', 'mios', 'much', 'nad', 'nosotr', 'nuestr', 'par', 'per', 'poc', 'porqu', 'qui', 'seais', 'seam', 'sent', 'ser', 'seran', 'seras', 'si', 'sient', 'sint', 'sobr', 'som', 'suy', 'tambien', 'tant', 'ten', 'tendr', 'tendran', 'tendras', 'teng', 'tien', 'tod', 'tuv', 'tuy', 'vosotr', 'vuestr'] not in stop_words.\n",
            "  % sorted(inconsistent)\n",
            "/usr/local/lib/python3.7/dist-packages/sklearn/utils/deprecation.py:87: FutureWarning: Function get_feature_names is deprecated; get_feature_names is deprecated in 1.0 and will be removed in 1.2. Please use get_feature_names_out instead.\n",
            "  warnings.warn(msg, category=FutureWarning)\n"
          ]
        },
        {
          "output_type": "execute_result",
          "data": {
            "text/plain": [
              "   analit  analit pued  aplic  curs  curs maravill  estudi  estudi analit  \\\n",
              "0       0            0      0     1              1       1              0   \n",
              "1       0            0      1     0              0       1              0   \n",
              "2       1            1      0     0              0       1              1   \n",
              "\n",
              "   estudi aplic  estudi tambien  grup  grup estudi  hac  hac maravill  \\\n",
              "0             0               1     1            1    0             0   \n",
              "1             1               0     0            0    0             0   \n",
              "2             0               0     0            0    1             1   \n",
              "\n",
              "   maravill  maravill grup  pued  pued hac  tambien  tambien maravill  \n",
              "0         2              1     0         0        1                 1  \n",
              "1         0              0     0         0        0                 0  \n",
              "2         1              0     1         1        0                 0  "
            ],
            "text/html": [
              "\n",
              "  <div id=\"df-07e3127f-bed5-45fb-9a62-3ab7f809ee93\">\n",
              "    <div class=\"colab-df-container\">\n",
              "      <div>\n",
              "<style scoped>\n",
              "    .dataframe tbody tr th:only-of-type {\n",
              "        vertical-align: middle;\n",
              "    }\n",
              "\n",
              "    .dataframe tbody tr th {\n",
              "        vertical-align: top;\n",
              "    }\n",
              "\n",
              "    .dataframe thead th {\n",
              "        text-align: right;\n",
              "    }\n",
              "</style>\n",
              "<table border=\"1\" class=\"dataframe\">\n",
              "  <thead>\n",
              "    <tr style=\"text-align: right;\">\n",
              "      <th></th>\n",
              "      <th>analit</th>\n",
              "      <th>analit pued</th>\n",
              "      <th>aplic</th>\n",
              "      <th>curs</th>\n",
              "      <th>curs maravill</th>\n",
              "      <th>estudi</th>\n",
              "      <th>estudi analit</th>\n",
              "      <th>estudi aplic</th>\n",
              "      <th>estudi tambien</th>\n",
              "      <th>grup</th>\n",
              "      <th>grup estudi</th>\n",
              "      <th>hac</th>\n",
              "      <th>hac maravill</th>\n",
              "      <th>maravill</th>\n",
              "      <th>maravill grup</th>\n",
              "      <th>pued</th>\n",
              "      <th>pued hac</th>\n",
              "      <th>tambien</th>\n",
              "      <th>tambien maravill</th>\n",
              "    </tr>\n",
              "  </thead>\n",
              "  <tbody>\n",
              "    <tr>\n",
              "      <th>0</th>\n",
              "      <td>0</td>\n",
              "      <td>0</td>\n",
              "      <td>0</td>\n",
              "      <td>1</td>\n",
              "      <td>1</td>\n",
              "      <td>1</td>\n",
              "      <td>0</td>\n",
              "      <td>0</td>\n",
              "      <td>1</td>\n",
              "      <td>1</td>\n",
              "      <td>1</td>\n",
              "      <td>0</td>\n",
              "      <td>0</td>\n",
              "      <td>2</td>\n",
              "      <td>1</td>\n",
              "      <td>0</td>\n",
              "      <td>0</td>\n",
              "      <td>1</td>\n",
              "      <td>1</td>\n",
              "    </tr>\n",
              "    <tr>\n",
              "      <th>1</th>\n",
              "      <td>0</td>\n",
              "      <td>0</td>\n",
              "      <td>1</td>\n",
              "      <td>0</td>\n",
              "      <td>0</td>\n",
              "      <td>1</td>\n",
              "      <td>0</td>\n",
              "      <td>1</td>\n",
              "      <td>0</td>\n",
              "      <td>0</td>\n",
              "      <td>0</td>\n",
              "      <td>0</td>\n",
              "      <td>0</td>\n",
              "      <td>0</td>\n",
              "      <td>0</td>\n",
              "      <td>0</td>\n",
              "      <td>0</td>\n",
              "      <td>0</td>\n",
              "      <td>0</td>\n",
              "    </tr>\n",
              "    <tr>\n",
              "      <th>2</th>\n",
              "      <td>1</td>\n",
              "      <td>1</td>\n",
              "      <td>0</td>\n",
              "      <td>0</td>\n",
              "      <td>0</td>\n",
              "      <td>1</td>\n",
              "      <td>1</td>\n",
              "      <td>0</td>\n",
              "      <td>0</td>\n",
              "      <td>0</td>\n",
              "      <td>0</td>\n",
              "      <td>1</td>\n",
              "      <td>1</td>\n",
              "      <td>1</td>\n",
              "      <td>0</td>\n",
              "      <td>1</td>\n",
              "      <td>1</td>\n",
              "      <td>0</td>\n",
              "      <td>0</td>\n",
              "    </tr>\n",
              "  </tbody>\n",
              "</table>\n",
              "</div>\n",
              "      <button class=\"colab-df-convert\" onclick=\"convertToInteractive('df-07e3127f-bed5-45fb-9a62-3ab7f809ee93')\"\n",
              "              title=\"Convert this dataframe to an interactive table.\"\n",
              "              style=\"display:none;\">\n",
              "        \n",
              "  <svg xmlns=\"http://www.w3.org/2000/svg\" height=\"24px\"viewBox=\"0 0 24 24\"\n",
              "       width=\"24px\">\n",
              "    <path d=\"M0 0h24v24H0V0z\" fill=\"none\"/>\n",
              "    <path d=\"M18.56 5.44l.94 2.06.94-2.06 2.06-.94-2.06-.94-.94-2.06-.94 2.06-2.06.94zm-11 1L8.5 8.5l.94-2.06 2.06-.94-2.06-.94L8.5 2.5l-.94 2.06-2.06.94zm10 10l.94 2.06.94-2.06 2.06-.94-2.06-.94-.94-2.06-.94 2.06-2.06.94z\"/><path d=\"M17.41 7.96l-1.37-1.37c-.4-.4-.92-.59-1.43-.59-.52 0-1.04.2-1.43.59L10.3 9.45l-7.72 7.72c-.78.78-.78 2.05 0 2.83L4 21.41c.39.39.9.59 1.41.59.51 0 1.02-.2 1.41-.59l7.78-7.78 2.81-2.81c.8-.78.8-2.07 0-2.86zM5.41 20L4 18.59l7.72-7.72 1.47 1.35L5.41 20z\"/>\n",
              "  </svg>\n",
              "      </button>\n",
              "      \n",
              "  <style>\n",
              "    .colab-df-container {\n",
              "      display:flex;\n",
              "      flex-wrap:wrap;\n",
              "      gap: 12px;\n",
              "    }\n",
              "\n",
              "    .colab-df-convert {\n",
              "      background-color: #E8F0FE;\n",
              "      border: none;\n",
              "      border-radius: 50%;\n",
              "      cursor: pointer;\n",
              "      display: none;\n",
              "      fill: #1967D2;\n",
              "      height: 32px;\n",
              "      padding: 0 0 0 0;\n",
              "      width: 32px;\n",
              "    }\n",
              "\n",
              "    .colab-df-convert:hover {\n",
              "      background-color: #E2EBFA;\n",
              "      box-shadow: 0px 1px 2px rgba(60, 64, 67, 0.3), 0px 1px 3px 1px rgba(60, 64, 67, 0.15);\n",
              "      fill: #174EA6;\n",
              "    }\n",
              "\n",
              "    [theme=dark] .colab-df-convert {\n",
              "      background-color: #3B4455;\n",
              "      fill: #D2E3FC;\n",
              "    }\n",
              "\n",
              "    [theme=dark] .colab-df-convert:hover {\n",
              "      background-color: #434B5C;\n",
              "      box-shadow: 0px 1px 3px 1px rgba(0, 0, 0, 0.15);\n",
              "      filter: drop-shadow(0px 1px 2px rgba(0, 0, 0, 0.3));\n",
              "      fill: #FFFFFF;\n",
              "    }\n",
              "  </style>\n",
              "\n",
              "      <script>\n",
              "        const buttonEl =\n",
              "          document.querySelector('#df-07e3127f-bed5-45fb-9a62-3ab7f809ee93 button.colab-df-convert');\n",
              "        buttonEl.style.display =\n",
              "          google.colab.kernel.accessAllowed ? 'block' : 'none';\n",
              "\n",
              "        async function convertToInteractive(key) {\n",
              "          const element = document.querySelector('#df-07e3127f-bed5-45fb-9a62-3ab7f809ee93');\n",
              "          const dataTable =\n",
              "            await google.colab.kernel.invokeFunction('convertToInteractive',\n",
              "                                                     [key], {});\n",
              "          if (!dataTable) return;\n",
              "\n",
              "          const docLinkHtml = 'Like what you see? Visit the ' +\n",
              "            '<a target=\"_blank\" href=https://colab.research.google.com/notebooks/data_table.ipynb>data table notebook</a>'\n",
              "            + ' to learn more about interactive tables.';\n",
              "          element.innerHTML = '';\n",
              "          dataTable['output_type'] = 'display_data';\n",
              "          await google.colab.output.renderOutput(dataTable, element);\n",
              "          const docLink = document.createElement('div');\n",
              "          docLink.innerHTML = docLinkHtml;\n",
              "          element.appendChild(docLink);\n",
              "        }\n",
              "      </script>\n",
              "    </div>\n",
              "  </div>\n",
              "  "
            ],
            "application/vnd.google.colaboratory.module+javascript": "\n      import \"https://ssl.gstatic.com/colaboratory/data_table/a8bd4d5e58f96183/data_table.js\";\n\n      window.createDataTable({\n        data: [[{\n            'v': 0,\n            'f': \"0\",\n        },\n{\n            'v': 0,\n            'f': \"0\",\n        },\n{\n            'v': 0,\n            'f': \"0\",\n        },\n{\n            'v': 0,\n            'f': \"0\",\n        },\n{\n            'v': 1,\n            'f': \"1\",\n        },\n{\n            'v': 1,\n            'f': \"1\",\n        },\n{\n            'v': 1,\n            'f': \"1\",\n        },\n{\n            'v': 0,\n            'f': \"0\",\n        },\n{\n            'v': 0,\n            'f': \"0\",\n        },\n{\n            'v': 1,\n            'f': \"1\",\n        },\n{\n            'v': 1,\n            'f': \"1\",\n        },\n{\n            'v': 1,\n            'f': \"1\",\n        },\n{\n            'v': 0,\n            'f': \"0\",\n        },\n{\n            'v': 0,\n            'f': \"0\",\n        },\n{\n            'v': 2,\n            'f': \"2\",\n        },\n{\n            'v': 1,\n            'f': \"1\",\n        },\n{\n            'v': 0,\n            'f': \"0\",\n        },\n{\n            'v': 0,\n            'f': \"0\",\n        },\n{\n            'v': 1,\n            'f': \"1\",\n        },\n{\n            'v': 1,\n            'f': \"1\",\n        }],\n [{\n            'v': 1,\n            'f': \"1\",\n        },\n{\n            'v': 0,\n            'f': \"0\",\n        },\n{\n            'v': 0,\n            'f': \"0\",\n        },\n{\n            'v': 1,\n            'f': \"1\",\n        },\n{\n            'v': 0,\n            'f': \"0\",\n        },\n{\n            'v': 0,\n            'f': \"0\",\n        },\n{\n            'v': 1,\n            'f': \"1\",\n        },\n{\n            'v': 0,\n            'f': \"0\",\n        },\n{\n            'v': 1,\n            'f': \"1\",\n        },\n{\n            'v': 0,\n            'f': \"0\",\n        },\n{\n            'v': 0,\n            'f': \"0\",\n        },\n{\n            'v': 0,\n            'f': \"0\",\n        },\n{\n            'v': 0,\n            'f': \"0\",\n        },\n{\n            'v': 0,\n            'f': \"0\",\n        },\n{\n            'v': 0,\n            'f': \"0\",\n        },\n{\n            'v': 0,\n            'f': \"0\",\n        },\n{\n            'v': 0,\n            'f': \"0\",\n        },\n{\n            'v': 0,\n            'f': \"0\",\n        },\n{\n            'v': 0,\n            'f': \"0\",\n        },\n{\n            'v': 0,\n            'f': \"0\",\n        }],\n [{\n            'v': 2,\n            'f': \"2\",\n        },\n{\n            'v': 1,\n            'f': \"1\",\n        },\n{\n            'v': 1,\n            'f': \"1\",\n        },\n{\n            'v': 0,\n            'f': \"0\",\n        },\n{\n            'v': 0,\n            'f': \"0\",\n        },\n{\n            'v': 0,\n            'f': \"0\",\n        },\n{\n            'v': 1,\n            'f': \"1\",\n        },\n{\n            'v': 1,\n            'f': \"1\",\n        },\n{\n            'v': 0,\n            'f': \"0\",\n        },\n{\n            'v': 0,\n            'f': \"0\",\n        },\n{\n            'v': 0,\n            'f': \"0\",\n        },\n{\n            'v': 0,\n            'f': \"0\",\n        },\n{\n            'v': 1,\n            'f': \"1\",\n        },\n{\n            'v': 1,\n            'f': \"1\",\n        },\n{\n            'v': 1,\n            'f': \"1\",\n        },\n{\n            'v': 0,\n            'f': \"0\",\n        },\n{\n            'v': 1,\n            'f': \"1\",\n        },\n{\n            'v': 1,\n            'f': \"1\",\n        },\n{\n            'v': 0,\n            'f': \"0\",\n        },\n{\n            'v': 0,\n            'f': \"0\",\n        }]],\n        columns: [[\"number\", \"index\"], [\"number\", \"analit\"], [\"number\", \"analit pued\"], [\"number\", \"aplic\"], [\"number\", \"curs\"], [\"number\", \"curs maravill\"], [\"number\", \"estudi\"], [\"number\", \"estudi analit\"], [\"number\", \"estudi aplic\"], [\"number\", \"estudi tambien\"], [\"number\", \"grup\"], [\"number\", \"grup estudi\"], [\"number\", \"hac\"], [\"number\", \"hac maravill\"], [\"number\", \"maravill\"], [\"number\", \"maravill grup\"], [\"number\", \"pued\"], [\"number\", \"pued hac\"], [\"number\", \"tambien\"], [\"number\", \"tambien maravill\"]],\n        columnOptions: [{\"width\": \"1px\", \"className\": \"index_column\"}],\n        rowsPerPage: 25,\n        helpUrl: \"https://colab.research.google.com/notebooks/data_table.ipynb\",\n        suppressOutputScrolling: true,\n        minimumWidth: undefined,\n      });\n    "
          },
          "metadata": {},
          "execution_count": 38
        }
      ]
    },
    {
      "cell_type": "markdown",
      "metadata": {
        "id": "PTyabWGKNkHR"
      },
      "source": [
        "## TF-IDF(Term-Frequency-Inverse-Document Frequency)\n",
        "Una pregunta típica es de qué trata ese documentos o texto?<br/>\n",
        "Una medida de cuán importante es una palabra en un documento puede ser la frecuencia de ella, como la hemos medido hasta ahora. A esto se le conoce como *term frequency (tf)*. <br/>\n",
        "\n",
        "$$ TF(término)=\\frac{frecuencia(término)}{Cantidad\\;total\\; de\\; términos}$$\n",
        "Es posible que una palabra sea más importante en un documentos que en otro, cuando estamos analizando varios documentos. <br/>\n",
        "La técnica de stop-words es buena para eliminar las palabras comunmente usadas  en un lenguaje. \n",
        "Cuando necesitamos llevar las palabras a una medida numérica, además de la TF, otra técnica, cuando trabajamos con diferentes documentos, es la conocida como frecuencia inversa de documentos (idf), que disminuye el peso para palabras comunes y le da mayor peso a las que no son comunmente usadas en una colección de documentos (colección de novelas, o colección de sitios web).<br/>\n",
        "\n",
        "$$IDF(término)=ln \\left(\\frac{n(documentos)}{n(domentos\\;con\\;término)}\\right)$$\n",
        "\n",
        "\n",
        "Pero el término que nos va a dar la importancia de los términos en un documento que hace parte de una colección es el tf_idf.<br/>\n",
        "\n",
        "TF-IDF (siglas de Término-Frecuencia-Frecuencia de Documento Inverso) pondera las palabras comunes que ocurren en casi todos los documentos y le da más importancia a las palabras que aparecen en un subconjunto de documentos. TF-IDF funciona penalizando estas palabras comunes asignándoles pesos más bajos y dando importancia a algunas palabras raras en un documento en particular.\n",
        "\n",
        "$$TF-IDF(término)=TF(término)*IDF(término)$$"
      ]
    },
    {
      "cell_type": "code",
      "metadata": {
        "id": "djYmjQAsbAv6",
        "outputId": "ffeafd08-c098-4994-c62e-537a20ab9816",
        "colab": {
          "base_uri": "https://localhost:8080/",
          "height": 306
        }
      },
      "source": [
        "tv = TfidfVectorizer(min_df=0.0, max_df=1.0, ngram_range=(1,2),\n",
        "                     sublinear_tf=True)\n",
        "example_tv = tv.fit_transform(estudiantes)\n",
        "df_example = pd.DataFrame(example_tv.toarray(),columns=tv.get_feature_names())\n",
        "df_example"
      ],
      "execution_count": null,
      "outputs": [
        {
          "output_type": "stream",
          "name": "stdout",
          "text": [
            "Warning: Total number of columns (42) exceeds max_columns (20). Falling back to pandas display.\n"
          ]
        },
        {
          "output_type": "stream",
          "name": "stderr",
          "text": [
            "/usr/local/lib/python3.7/dist-packages/sklearn/utils/deprecation.py:87: FutureWarning: Function get_feature_names is deprecated; get_feature_names is deprecated in 1.0 and will be removed in 1.2. Please use get_feature_names_out instead.\n",
            "  warnings.warn(msg, category=FutureWarning)\n"
          ]
        },
        {
          "output_type": "execute_result",
          "data": {
            "text/plain": [
              "   analítica  analítica puede  aplicados     curso  curso es        de  \\\n",
              "0    0.00000          0.00000   0.000000  0.208408  0.208408  0.158499   \n",
              "1    0.00000          0.00000   0.341426  0.000000  0.000000  0.000000   \n",
              "2    0.28196          0.28196   0.000000  0.000000  0.000000  0.214438   \n",
              "\n",
              "   de analítica  de estudiantes        el  el grupo  ...    puede  \\\n",
              "0       0.00000        0.208408  0.208408  0.208408  ...  0.00000   \n",
              "1       0.00000        0.000000  0.000000  0.000000  ...  0.00000   \n",
              "2       0.28196        0.000000  0.000000  0.000000  ...  0.28196   \n",
              "\n",
              "   puede hacer       son   son muy   también  también es       un  \\\n",
              "0      0.00000  0.000000  0.000000  0.208408    0.208408  0.00000   \n",
              "1      0.00000  0.341426  0.341426  0.000000    0.000000  0.00000   \n",
              "2      0.28196  0.000000  0.000000  0.000000    0.000000  0.28196   \n",
              "\n",
              "   un estudiante       una  una maravilla  \n",
              "0        0.00000  0.208408       0.208408  \n",
              "1        0.00000  0.000000       0.000000  \n",
              "2        0.28196  0.000000       0.000000  \n",
              "\n",
              "[3 rows x 42 columns]"
            ],
            "text/html": [
              "\n",
              "  <div id=\"df-33d62499-0533-49bb-bcd5-ae358d968a1d\">\n",
              "    <div class=\"colab-df-container\">\n",
              "      <div>\n",
              "<style scoped>\n",
              "    .dataframe tbody tr th:only-of-type {\n",
              "        vertical-align: middle;\n",
              "    }\n",
              "\n",
              "    .dataframe tbody tr th {\n",
              "        vertical-align: top;\n",
              "    }\n",
              "\n",
              "    .dataframe thead th {\n",
              "        text-align: right;\n",
              "    }\n",
              "</style>\n",
              "<table border=\"1\" class=\"dataframe\">\n",
              "  <thead>\n",
              "    <tr style=\"text-align: right;\">\n",
              "      <th></th>\n",
              "      <th>analítica</th>\n",
              "      <th>analítica puede</th>\n",
              "      <th>aplicados</th>\n",
              "      <th>curso</th>\n",
              "      <th>curso es</th>\n",
              "      <th>de</th>\n",
              "      <th>de analítica</th>\n",
              "      <th>de estudiantes</th>\n",
              "      <th>el</th>\n",
              "      <th>el grupo</th>\n",
              "      <th>...</th>\n",
              "      <th>puede</th>\n",
              "      <th>puede hacer</th>\n",
              "      <th>son</th>\n",
              "      <th>son muy</th>\n",
              "      <th>también</th>\n",
              "      <th>también es</th>\n",
              "      <th>un</th>\n",
              "      <th>un estudiante</th>\n",
              "      <th>una</th>\n",
              "      <th>una maravilla</th>\n",
              "    </tr>\n",
              "  </thead>\n",
              "  <tbody>\n",
              "    <tr>\n",
              "      <th>0</th>\n",
              "      <td>0.00000</td>\n",
              "      <td>0.00000</td>\n",
              "      <td>0.000000</td>\n",
              "      <td>0.208408</td>\n",
              "      <td>0.208408</td>\n",
              "      <td>0.158499</td>\n",
              "      <td>0.00000</td>\n",
              "      <td>0.208408</td>\n",
              "      <td>0.208408</td>\n",
              "      <td>0.208408</td>\n",
              "      <td>...</td>\n",
              "      <td>0.00000</td>\n",
              "      <td>0.00000</td>\n",
              "      <td>0.000000</td>\n",
              "      <td>0.000000</td>\n",
              "      <td>0.208408</td>\n",
              "      <td>0.208408</td>\n",
              "      <td>0.00000</td>\n",
              "      <td>0.00000</td>\n",
              "      <td>0.208408</td>\n",
              "      <td>0.208408</td>\n",
              "    </tr>\n",
              "    <tr>\n",
              "      <th>1</th>\n",
              "      <td>0.00000</td>\n",
              "      <td>0.00000</td>\n",
              "      <td>0.341426</td>\n",
              "      <td>0.000000</td>\n",
              "      <td>0.000000</td>\n",
              "      <td>0.000000</td>\n",
              "      <td>0.00000</td>\n",
              "      <td>0.000000</td>\n",
              "      <td>0.000000</td>\n",
              "      <td>0.000000</td>\n",
              "      <td>...</td>\n",
              "      <td>0.00000</td>\n",
              "      <td>0.00000</td>\n",
              "      <td>0.341426</td>\n",
              "      <td>0.341426</td>\n",
              "      <td>0.000000</td>\n",
              "      <td>0.000000</td>\n",
              "      <td>0.00000</td>\n",
              "      <td>0.00000</td>\n",
              "      <td>0.000000</td>\n",
              "      <td>0.000000</td>\n",
              "    </tr>\n",
              "    <tr>\n",
              "      <th>2</th>\n",
              "      <td>0.28196</td>\n",
              "      <td>0.28196</td>\n",
              "      <td>0.000000</td>\n",
              "      <td>0.000000</td>\n",
              "      <td>0.000000</td>\n",
              "      <td>0.214438</td>\n",
              "      <td>0.28196</td>\n",
              "      <td>0.000000</td>\n",
              "      <td>0.000000</td>\n",
              "      <td>0.000000</td>\n",
              "      <td>...</td>\n",
              "      <td>0.28196</td>\n",
              "      <td>0.28196</td>\n",
              "      <td>0.000000</td>\n",
              "      <td>0.000000</td>\n",
              "      <td>0.000000</td>\n",
              "      <td>0.000000</td>\n",
              "      <td>0.28196</td>\n",
              "      <td>0.28196</td>\n",
              "      <td>0.000000</td>\n",
              "      <td>0.000000</td>\n",
              "    </tr>\n",
              "  </tbody>\n",
              "</table>\n",
              "<p>3 rows × 42 columns</p>\n",
              "</div>\n",
              "      <button class=\"colab-df-convert\" onclick=\"convertToInteractive('df-33d62499-0533-49bb-bcd5-ae358d968a1d')\"\n",
              "              title=\"Convert this dataframe to an interactive table.\"\n",
              "              style=\"display:none;\">\n",
              "        \n",
              "  <svg xmlns=\"http://www.w3.org/2000/svg\" height=\"24px\"viewBox=\"0 0 24 24\"\n",
              "       width=\"24px\">\n",
              "    <path d=\"M0 0h24v24H0V0z\" fill=\"none\"/>\n",
              "    <path d=\"M18.56 5.44l.94 2.06.94-2.06 2.06-.94-2.06-.94-.94-2.06-.94 2.06-2.06.94zm-11 1L8.5 8.5l.94-2.06 2.06-.94-2.06-.94L8.5 2.5l-.94 2.06-2.06.94zm10 10l.94 2.06.94-2.06 2.06-.94-2.06-.94-.94-2.06-.94 2.06-2.06.94z\"/><path d=\"M17.41 7.96l-1.37-1.37c-.4-.4-.92-.59-1.43-.59-.52 0-1.04.2-1.43.59L10.3 9.45l-7.72 7.72c-.78.78-.78 2.05 0 2.83L4 21.41c.39.39.9.59 1.41.59.51 0 1.02-.2 1.41-.59l7.78-7.78 2.81-2.81c.8-.78.8-2.07 0-2.86zM5.41 20L4 18.59l7.72-7.72 1.47 1.35L5.41 20z\"/>\n",
              "  </svg>\n",
              "      </button>\n",
              "      \n",
              "  <style>\n",
              "    .colab-df-container {\n",
              "      display:flex;\n",
              "      flex-wrap:wrap;\n",
              "      gap: 12px;\n",
              "    }\n",
              "\n",
              "    .colab-df-convert {\n",
              "      background-color: #E8F0FE;\n",
              "      border: none;\n",
              "      border-radius: 50%;\n",
              "      cursor: pointer;\n",
              "      display: none;\n",
              "      fill: #1967D2;\n",
              "      height: 32px;\n",
              "      padding: 0 0 0 0;\n",
              "      width: 32px;\n",
              "    }\n",
              "\n",
              "    .colab-df-convert:hover {\n",
              "      background-color: #E2EBFA;\n",
              "      box-shadow: 0px 1px 2px rgba(60, 64, 67, 0.3), 0px 1px 3px 1px rgba(60, 64, 67, 0.15);\n",
              "      fill: #174EA6;\n",
              "    }\n",
              "\n",
              "    [theme=dark] .colab-df-convert {\n",
              "      background-color: #3B4455;\n",
              "      fill: #D2E3FC;\n",
              "    }\n",
              "\n",
              "    [theme=dark] .colab-df-convert:hover {\n",
              "      background-color: #434B5C;\n",
              "      box-shadow: 0px 1px 3px 1px rgba(0, 0, 0, 0.15);\n",
              "      filter: drop-shadow(0px 1px 2px rgba(0, 0, 0, 0.3));\n",
              "      fill: #FFFFFF;\n",
              "    }\n",
              "  </style>\n",
              "\n",
              "      <script>\n",
              "        const buttonEl =\n",
              "          document.querySelector('#df-33d62499-0533-49bb-bcd5-ae358d968a1d button.colab-df-convert');\n",
              "        buttonEl.style.display =\n",
              "          google.colab.kernel.accessAllowed ? 'block' : 'none';\n",
              "\n",
              "        async function convertToInteractive(key) {\n",
              "          const element = document.querySelector('#df-33d62499-0533-49bb-bcd5-ae358d968a1d');\n",
              "          const dataTable =\n",
              "            await google.colab.kernel.invokeFunction('convertToInteractive',\n",
              "                                                     [key], {});\n",
              "          if (!dataTable) return;\n",
              "\n",
              "          const docLinkHtml = 'Like what you see? Visit the ' +\n",
              "            '<a target=\"_blank\" href=https://colab.research.google.com/notebooks/data_table.ipynb>data table notebook</a>'\n",
              "            + ' to learn more about interactive tables.';\n",
              "          element.innerHTML = '';\n",
              "          dataTable['output_type'] = 'display_data';\n",
              "          await google.colab.output.renderOutput(dataTable, element);\n",
              "          const docLink = document.createElement('div');\n",
              "          docLink.innerHTML = docLinkHtml;\n",
              "          element.appendChild(docLink);\n",
              "        }\n",
              "      </script>\n",
              "    </div>\n",
              "  </div>\n",
              "  "
            ]
          },
          "metadata": {},
          "execution_count": 39
        }
      ]
    },
    {
      "cell_type": "markdown",
      "metadata": {
        "id": "fb14VhT6mU19"
      },
      "source": [
        "## Entrenar un modelo de clasificación"
      ]
    },
    {
      "cell_type": "code",
      "metadata": {
        "id": "zOmf1pFQmQ7f"
      },
      "source": [
        "import sklearn\n",
        "from sklearn.model_selection import cross_val_score\n",
        "from sklearn import svm\n",
        "from sklearn.svm import LinearSVC\n",
        "from sklearn.pipeline import Pipeline\n",
        "from sklearn import preprocessing"
      ],
      "execution_count": null,
      "outputs": []
    },
    {
      "cell_type": "markdown",
      "metadata": {
        "id": "hjBY00j2oiTh"
      },
      "source": [
        "Convertir la clase en numérico, en este caso la columna **polarity**"
      ]
    },
    {
      "cell_type": "code",
      "metadata": {
        "id": "TBKJ8Zq-oryC"
      },
      "source": [
        "le = preprocessing.LabelEncoder()\n",
        "le.fit(corpusclean['polarity'])\n",
        "corpusclean['class']=le.transform(corpusclean['polarity'])"
      ],
      "execution_count": null,
      "outputs": []
    },
    {
      "cell_type": "code",
      "metadata": {
        "id": "XZZOEK3K2VHQ",
        "outputId": "e21db75f-54c4-4305-ef48-b1ba4f6ee77b",
        "colab": {
          "base_uri": "https://localhost:8080/"
        }
      },
      "source": [
        "le.classes_"
      ],
      "execution_count": null,
      "outputs": [
        {
          "output_type": "execute_result",
          "data": {
            "text/plain": [
              "array(['N', 'N+', 'NEU', 'P', 'P+'], dtype=object)"
            ]
          },
          "metadata": {},
          "execution_count": 42
        }
      ]
    },
    {
      "cell_type": "code",
      "metadata": {
        "id": "qcB_gtZ82bRL",
        "outputId": "f123f1b2-ce3f-4fe0-cd62-c3cc46402737",
        "colab": {
          "base_uri": "https://localhost:8080/"
        }
      },
      "source": [
        "le.transform(le.classes_)"
      ],
      "execution_count": null,
      "outputs": [
        {
          "output_type": "execute_result",
          "data": {
            "text/plain": [
              "array([0, 1, 2, 3, 4])"
            ]
          },
          "metadata": {},
          "execution_count": 43
        }
      ]
    },
    {
      "cell_type": "code",
      "metadata": {
        "id": "Yll70xJGphWn",
        "outputId": "8f187059-4f1a-4292-a527-8a455be2e989",
        "colab": {
          "base_uri": "https://localhost:8080/",
          "height": 441
        }
      },
      "source": [
        "corpusclean[['content','class']]"
      ],
      "execution_count": null,
      "outputs": [
        {
          "output_type": "stream",
          "name": "stdout",
          "text": [
            "Warning: total number of rows (44395) exceeds max_rows (20000). Falling back to pandas display.\n"
          ]
        },
        {
          "output_type": "execute_result",
          "data": {
            "text/plain": [
              "                                                                                                                              content  \\\n",
              "2                                                                                                                         gracias mar   \n",
              "3      off pensando en el regalito sinde la que se va de la sgae cuando se van sus corruptos intento no sacar conclusiones lo intento   \n",
              "4                                                                     conozco a alguien q es adicto al drama ja ja ja te suena d algo   \n",
              "6                                                                                    toca  grabación dl especial navideñomari crismas   \n",
              "8             buen día todos lo primero mandar un abrazo grande a miguel y a su familia hoy podría ser un día para la grandeza humana   \n",
              "...                                                                                                                               ...   \n",
              "68011                                                                                  reconozco que me encanta cuando twitter corre    \n",
              "68012                                                      son los mismos de seguridad con aznar y zp profesionales avanzan si avanza   \n",
              "68014               a qué espera el alcalde promarihuana independentista de rasquera para dimitir prometió que lo haría si fracasaba    \n",
              "68015                  esto es lo que hay preocupante la flagrante falta de liderazgo de rajoy y no me vale que zp fuera un desastre    \n",
              "68016                                                               rajoy con el agua al cuello españa se asoma a la zona de rescate    \n",
              "\n",
              "       class  \n",
              "2          3  \n",
              "3          1  \n",
              "4          4  \n",
              "6          4  \n",
              "8          4  \n",
              "...      ...  \n",
              "68011      4  \n",
              "68012      4  \n",
              "68014      0  \n",
              "68015      0  \n",
              "68016      0  \n",
              "\n",
              "[44395 rows x 2 columns]"
            ],
            "text/html": [
              "\n",
              "  <div id=\"df-965418bb-d981-430f-97c7-5e4865cb6b72\">\n",
              "    <div class=\"colab-df-container\">\n",
              "      <div>\n",
              "<style scoped>\n",
              "    .dataframe tbody tr th:only-of-type {\n",
              "        vertical-align: middle;\n",
              "    }\n",
              "\n",
              "    .dataframe tbody tr th {\n",
              "        vertical-align: top;\n",
              "    }\n",
              "\n",
              "    .dataframe thead th {\n",
              "        text-align: right;\n",
              "    }\n",
              "</style>\n",
              "<table border=\"1\" class=\"dataframe\">\n",
              "  <thead>\n",
              "    <tr style=\"text-align: right;\">\n",
              "      <th></th>\n",
              "      <th>content</th>\n",
              "      <th>class</th>\n",
              "    </tr>\n",
              "  </thead>\n",
              "  <tbody>\n",
              "    <tr>\n",
              "      <th>2</th>\n",
              "      <td>gracias mar</td>\n",
              "      <td>3</td>\n",
              "    </tr>\n",
              "    <tr>\n",
              "      <th>3</th>\n",
              "      <td>off pensando en el regalito sinde la que se va de la sgae cuando se van sus corruptos intento no sacar conclusiones lo intento</td>\n",
              "      <td>1</td>\n",
              "    </tr>\n",
              "    <tr>\n",
              "      <th>4</th>\n",
              "      <td>conozco a alguien q es adicto al drama ja ja ja te suena d algo</td>\n",
              "      <td>4</td>\n",
              "    </tr>\n",
              "    <tr>\n",
              "      <th>6</th>\n",
              "      <td>toca  grabación dl especial navideñomari crismas</td>\n",
              "      <td>4</td>\n",
              "    </tr>\n",
              "    <tr>\n",
              "      <th>8</th>\n",
              "      <td>buen día todos lo primero mandar un abrazo grande a miguel y a su familia hoy podría ser un día para la grandeza humana</td>\n",
              "      <td>4</td>\n",
              "    </tr>\n",
              "    <tr>\n",
              "      <th>...</th>\n",
              "      <td>...</td>\n",
              "      <td>...</td>\n",
              "    </tr>\n",
              "    <tr>\n",
              "      <th>68011</th>\n",
              "      <td>reconozco que me encanta cuando twitter corre</td>\n",
              "      <td>4</td>\n",
              "    </tr>\n",
              "    <tr>\n",
              "      <th>68012</th>\n",
              "      <td>son los mismos de seguridad con aznar y zp profesionales avanzan si avanza</td>\n",
              "      <td>4</td>\n",
              "    </tr>\n",
              "    <tr>\n",
              "      <th>68014</th>\n",
              "      <td>a qué espera el alcalde promarihuana independentista de rasquera para dimitir prometió que lo haría si fracasaba</td>\n",
              "      <td>0</td>\n",
              "    </tr>\n",
              "    <tr>\n",
              "      <th>68015</th>\n",
              "      <td>esto es lo que hay preocupante la flagrante falta de liderazgo de rajoy y no me vale que zp fuera un desastre</td>\n",
              "      <td>0</td>\n",
              "    </tr>\n",
              "    <tr>\n",
              "      <th>68016</th>\n",
              "      <td>rajoy con el agua al cuello españa se asoma a la zona de rescate</td>\n",
              "      <td>0</td>\n",
              "    </tr>\n",
              "  </tbody>\n",
              "</table>\n",
              "<p>44395 rows × 2 columns</p>\n",
              "</div>\n",
              "      <button class=\"colab-df-convert\" onclick=\"convertToInteractive('df-965418bb-d981-430f-97c7-5e4865cb6b72')\"\n",
              "              title=\"Convert this dataframe to an interactive table.\"\n",
              "              style=\"display:none;\">\n",
              "        \n",
              "  <svg xmlns=\"http://www.w3.org/2000/svg\" height=\"24px\"viewBox=\"0 0 24 24\"\n",
              "       width=\"24px\">\n",
              "    <path d=\"M0 0h24v24H0V0z\" fill=\"none\"/>\n",
              "    <path d=\"M18.56 5.44l.94 2.06.94-2.06 2.06-.94-2.06-.94-.94-2.06-.94 2.06-2.06.94zm-11 1L8.5 8.5l.94-2.06 2.06-.94-2.06-.94L8.5 2.5l-.94 2.06-2.06.94zm10 10l.94 2.06.94-2.06 2.06-.94-2.06-.94-.94-2.06-.94 2.06-2.06.94z\"/><path d=\"M17.41 7.96l-1.37-1.37c-.4-.4-.92-.59-1.43-.59-.52 0-1.04.2-1.43.59L10.3 9.45l-7.72 7.72c-.78.78-.78 2.05 0 2.83L4 21.41c.39.39.9.59 1.41.59.51 0 1.02-.2 1.41-.59l7.78-7.78 2.81-2.81c.8-.78.8-2.07 0-2.86zM5.41 20L4 18.59l7.72-7.72 1.47 1.35L5.41 20z\"/>\n",
              "  </svg>\n",
              "      </button>\n",
              "      \n",
              "  <style>\n",
              "    .colab-df-container {\n",
              "      display:flex;\n",
              "      flex-wrap:wrap;\n",
              "      gap: 12px;\n",
              "    }\n",
              "\n",
              "    .colab-df-convert {\n",
              "      background-color: #E8F0FE;\n",
              "      border: none;\n",
              "      border-radius: 50%;\n",
              "      cursor: pointer;\n",
              "      display: none;\n",
              "      fill: #1967D2;\n",
              "      height: 32px;\n",
              "      padding: 0 0 0 0;\n",
              "      width: 32px;\n",
              "    }\n",
              "\n",
              "    .colab-df-convert:hover {\n",
              "      background-color: #E2EBFA;\n",
              "      box-shadow: 0px 1px 2px rgba(60, 64, 67, 0.3), 0px 1px 3px 1px rgba(60, 64, 67, 0.15);\n",
              "      fill: #174EA6;\n",
              "    }\n",
              "\n",
              "    [theme=dark] .colab-df-convert {\n",
              "      background-color: #3B4455;\n",
              "      fill: #D2E3FC;\n",
              "    }\n",
              "\n",
              "    [theme=dark] .colab-df-convert:hover {\n",
              "      background-color: #434B5C;\n",
              "      box-shadow: 0px 1px 3px 1px rgba(0, 0, 0, 0.15);\n",
              "      filter: drop-shadow(0px 1px 2px rgba(0, 0, 0, 0.3));\n",
              "      fill: #FFFFFF;\n",
              "    }\n",
              "  </style>\n",
              "\n",
              "      <script>\n",
              "        const buttonEl =\n",
              "          document.querySelector('#df-965418bb-d981-430f-97c7-5e4865cb6b72 button.colab-df-convert');\n",
              "        buttonEl.style.display =\n",
              "          google.colab.kernel.accessAllowed ? 'block' : 'none';\n",
              "\n",
              "        async function convertToInteractive(key) {\n",
              "          const element = document.querySelector('#df-965418bb-d981-430f-97c7-5e4865cb6b72');\n",
              "          const dataTable =\n",
              "            await google.colab.kernel.invokeFunction('convertToInteractive',\n",
              "                                                     [key], {});\n",
              "          if (!dataTable) return;\n",
              "\n",
              "          const docLinkHtml = 'Like what you see? Visit the ' +\n",
              "            '<a target=\"_blank\" href=https://colab.research.google.com/notebooks/data_table.ipynb>data table notebook</a>'\n",
              "            + ' to learn more about interactive tables.';\n",
              "          element.innerHTML = '';\n",
              "          dataTable['output_type'] = 'display_data';\n",
              "          await google.colab.output.renderOutput(dataTable, element);\n",
              "          const docLink = document.createElement('div');\n",
              "          docLink.innerHTML = docLinkHtml;\n",
              "          element.appendChild(docLink);\n",
              "        }\n",
              "      </script>\n",
              "    </div>\n",
              "  </div>\n",
              "  "
            ]
          },
          "metadata": {},
          "execution_count": 44
        }
      ]
    },
    {
      "cell_type": "markdown",
      "metadata": {
        "id": "RaG8UR1zPIJ2"
      },
      "source": [
        "Utilizar CountVectorizer para probar algunos clasificadores.\n",
        "\n",
        "Otros parámetros a tener en cuenta en CountVectorizer:\n",
        "\n",
        "*   max_df [0.0, 1.0]: Al construir el vocabulario, ignore los términos que tienen una frecuencia de documento estrictamente más alta que el umbral dado. Si es float, el parámetro representa una proporción de documentos, recuentos absolutos enteros.\n",
        "*  min_df [0.0, 1.0]: Al construir el vocabulario, ignore los términos que tienen una frecuencia de documento estrictamente más baja que el umbral dado. Si es float, el parámetro representa una proporción de documentos, recuentos absolutos enteros.\n",
        "*  max_features: construye un vocabulario que sólo considera las principales características máximas ordenadas por frecuencia de términos en todo el corpus.\n",
        "*  stop_words: Términos que se ignoraron porque:\n",
        ">  ocurrió en demasiados documentos (max_df)\n",
        "\n",
        " >  ocurrió en muy pocos documentos (min_df)\n",
        "\n",
        " >  fueron cortados por la selección de características (max_features).\n",
        "\n"
      ]
    },
    {
      "cell_type": "markdown",
      "metadata": {
        "id": "tr6VV2U6dg56"
      },
      "source": [
        "Quitar stopwords primero"
      ]
    },
    {
      "cell_type": "code",
      "metadata": {
        "id": "Q8fBMZnRdClS"
      },
      "source": [
        "stop.extend(['dl','q','d'])\n",
        "corpusclean['content'] = corpusclean['content'].apply(lambda x: ' '.join([word for word in x.split() if word not in (stop)]))"
      ],
      "execution_count": null,
      "outputs": []
    },
    {
      "cell_type": "code",
      "metadata": {
        "id": "tE8Udo-a5D8k",
        "outputId": "f45d92ba-7aca-4352-8f0c-e4eac041655c",
        "colab": {
          "base_uri": "https://localhost:8080/",
          "height": 197
        }
      },
      "source": [
        "corpusclean.head()"
      ],
      "execution_count": null,
      "outputs": [
        {
          "output_type": "execute_result",
          "data": {
            "text/plain": [
              "   Unnamed: 0  \\\n",
              "2           2   \n",
              "3           3   \n",
              "4           4   \n",
              "6           6   \n",
              "8           8   \n",
              "\n",
              "                                                                                   content  \\\n",
              "2                                                                              gracias mar   \n",
              "3     off pensando regalito sinde va sgae van corruptos intento sacar conclusiones intento   \n",
              "4                                              conozco alguien adicto drama ja ja ja suena   \n",
              "6                                             toca grabación especial navideñomari crismas   \n",
              "8  buen día primero mandar abrazo grande miguel familia hoy podría ser día grandeza humana   \n",
              "\n",
              "  lang polarity  class  \n",
              "2   es        P      3  \n",
              "3   es       N+      1  \n",
              "4   es       P+      4  \n",
              "6   es       P+      4  \n",
              "8   es       P+      4  "
            ],
            "text/html": [
              "\n",
              "  <div id=\"df-053c3308-1aa5-4191-b588-ec4f86a8cb7e\">\n",
              "    <div class=\"colab-df-container\">\n",
              "      <div>\n",
              "<style scoped>\n",
              "    .dataframe tbody tr th:only-of-type {\n",
              "        vertical-align: middle;\n",
              "    }\n",
              "\n",
              "    .dataframe tbody tr th {\n",
              "        vertical-align: top;\n",
              "    }\n",
              "\n",
              "    .dataframe thead th {\n",
              "        text-align: right;\n",
              "    }\n",
              "</style>\n",
              "<table border=\"1\" class=\"dataframe\">\n",
              "  <thead>\n",
              "    <tr style=\"text-align: right;\">\n",
              "      <th></th>\n",
              "      <th>Unnamed: 0</th>\n",
              "      <th>content</th>\n",
              "      <th>lang</th>\n",
              "      <th>polarity</th>\n",
              "      <th>class</th>\n",
              "    </tr>\n",
              "  </thead>\n",
              "  <tbody>\n",
              "    <tr>\n",
              "      <th>2</th>\n",
              "      <td>2</td>\n",
              "      <td>gracias mar</td>\n",
              "      <td>es</td>\n",
              "      <td>P</td>\n",
              "      <td>3</td>\n",
              "    </tr>\n",
              "    <tr>\n",
              "      <th>3</th>\n",
              "      <td>3</td>\n",
              "      <td>off pensando regalito sinde va sgae van corruptos intento sacar conclusiones intento</td>\n",
              "      <td>es</td>\n",
              "      <td>N+</td>\n",
              "      <td>1</td>\n",
              "    </tr>\n",
              "    <tr>\n",
              "      <th>4</th>\n",
              "      <td>4</td>\n",
              "      <td>conozco alguien adicto drama ja ja ja suena</td>\n",
              "      <td>es</td>\n",
              "      <td>P+</td>\n",
              "      <td>4</td>\n",
              "    </tr>\n",
              "    <tr>\n",
              "      <th>6</th>\n",
              "      <td>6</td>\n",
              "      <td>toca grabación especial navideñomari crismas</td>\n",
              "      <td>es</td>\n",
              "      <td>P+</td>\n",
              "      <td>4</td>\n",
              "    </tr>\n",
              "    <tr>\n",
              "      <th>8</th>\n",
              "      <td>8</td>\n",
              "      <td>buen día primero mandar abrazo grande miguel familia hoy podría ser día grandeza humana</td>\n",
              "      <td>es</td>\n",
              "      <td>P+</td>\n",
              "      <td>4</td>\n",
              "    </tr>\n",
              "  </tbody>\n",
              "</table>\n",
              "</div>\n",
              "      <button class=\"colab-df-convert\" onclick=\"convertToInteractive('df-053c3308-1aa5-4191-b588-ec4f86a8cb7e')\"\n",
              "              title=\"Convert this dataframe to an interactive table.\"\n",
              "              style=\"display:none;\">\n",
              "        \n",
              "  <svg xmlns=\"http://www.w3.org/2000/svg\" height=\"24px\"viewBox=\"0 0 24 24\"\n",
              "       width=\"24px\">\n",
              "    <path d=\"M0 0h24v24H0V0z\" fill=\"none\"/>\n",
              "    <path d=\"M18.56 5.44l.94 2.06.94-2.06 2.06-.94-2.06-.94-.94-2.06-.94 2.06-2.06.94zm-11 1L8.5 8.5l.94-2.06 2.06-.94-2.06-.94L8.5 2.5l-.94 2.06-2.06.94zm10 10l.94 2.06.94-2.06 2.06-.94-2.06-.94-.94-2.06-.94 2.06-2.06.94z\"/><path d=\"M17.41 7.96l-1.37-1.37c-.4-.4-.92-.59-1.43-.59-.52 0-1.04.2-1.43.59L10.3 9.45l-7.72 7.72c-.78.78-.78 2.05 0 2.83L4 21.41c.39.39.9.59 1.41.59.51 0 1.02-.2 1.41-.59l7.78-7.78 2.81-2.81c.8-.78.8-2.07 0-2.86zM5.41 20L4 18.59l7.72-7.72 1.47 1.35L5.41 20z\"/>\n",
              "  </svg>\n",
              "      </button>\n",
              "      \n",
              "  <style>\n",
              "    .colab-df-container {\n",
              "      display:flex;\n",
              "      flex-wrap:wrap;\n",
              "      gap: 12px;\n",
              "    }\n",
              "\n",
              "    .colab-df-convert {\n",
              "      background-color: #E8F0FE;\n",
              "      border: none;\n",
              "      border-radius: 50%;\n",
              "      cursor: pointer;\n",
              "      display: none;\n",
              "      fill: #1967D2;\n",
              "      height: 32px;\n",
              "      padding: 0 0 0 0;\n",
              "      width: 32px;\n",
              "    }\n",
              "\n",
              "    .colab-df-convert:hover {\n",
              "      background-color: #E2EBFA;\n",
              "      box-shadow: 0px 1px 2px rgba(60, 64, 67, 0.3), 0px 1px 3px 1px rgba(60, 64, 67, 0.15);\n",
              "      fill: #174EA6;\n",
              "    }\n",
              "\n",
              "    [theme=dark] .colab-df-convert {\n",
              "      background-color: #3B4455;\n",
              "      fill: #D2E3FC;\n",
              "    }\n",
              "\n",
              "    [theme=dark] .colab-df-convert:hover {\n",
              "      background-color: #434B5C;\n",
              "      box-shadow: 0px 1px 3px 1px rgba(0, 0, 0, 0.15);\n",
              "      filter: drop-shadow(0px 1px 2px rgba(0, 0, 0, 0.3));\n",
              "      fill: #FFFFFF;\n",
              "    }\n",
              "  </style>\n",
              "\n",
              "      <script>\n",
              "        const buttonEl =\n",
              "          document.querySelector('#df-053c3308-1aa5-4191-b588-ec4f86a8cb7e button.colab-df-convert');\n",
              "        buttonEl.style.display =\n",
              "          google.colab.kernel.accessAllowed ? 'block' : 'none';\n",
              "\n",
              "        async function convertToInteractive(key) {\n",
              "          const element = document.querySelector('#df-053c3308-1aa5-4191-b588-ec4f86a8cb7e');\n",
              "          const dataTable =\n",
              "            await google.colab.kernel.invokeFunction('convertToInteractive',\n",
              "                                                     [key], {});\n",
              "          if (!dataTable) return;\n",
              "\n",
              "          const docLinkHtml = 'Like what you see? Visit the ' +\n",
              "            '<a target=\"_blank\" href=https://colab.research.google.com/notebooks/data_table.ipynb>data table notebook</a>'\n",
              "            + ' to learn more about interactive tables.';\n",
              "          element.innerHTML = '';\n",
              "          dataTable['output_type'] = 'display_data';\n",
              "          await google.colab.output.renderOutput(dataTable, element);\n",
              "          const docLink = document.createElement('div');\n",
              "          docLink.innerHTML = docLinkHtml;\n",
              "          element.appendChild(docLink);\n",
              "        }\n",
              "      </script>\n",
              "    </div>\n",
              "  </div>\n",
              "  "
            ],
            "application/vnd.google.colaboratory.module+javascript": "\n      import \"https://ssl.gstatic.com/colaboratory/data_table/a8bd4d5e58f96183/data_table.js\";\n\n      window.createDataTable({\n        data: [[{\n            'v': 2,\n            'f': \"2\",\n        },\n{\n            'v': 2,\n            'f': \"2\",\n        },\n\"gracias mar\",\n\"es\",\n\"P\",\n{\n            'v': 3,\n            'f': \"3\",\n        }],\n [{\n            'v': 3,\n            'f': \"3\",\n        },\n{\n            'v': 3,\n            'f': \"3\",\n        },\n\"off pensando regalito sinde va sgae van corruptos intento sacar conclusiones intento\",\n\"es\",\n\"N+\",\n{\n            'v': 1,\n            'f': \"1\",\n        }],\n [{\n            'v': 4,\n            'f': \"4\",\n        },\n{\n            'v': 4,\n            'f': \"4\",\n        },\n\"conozco alguien adicto drama ja ja ja suena\",\n\"es\",\n\"P+\",\n{\n            'v': 4,\n            'f': \"4\",\n        }],\n [{\n            'v': 6,\n            'f': \"6\",\n        },\n{\n            'v': 6,\n            'f': \"6\",\n        },\n\"toca grabaci\\u00f3n especial navide\\u00f1omari crismas\",\n\"es\",\n\"P+\",\n{\n            'v': 4,\n            'f': \"4\",\n        }],\n [{\n            'v': 8,\n            'f': \"8\",\n        },\n{\n            'v': 8,\n            'f': \"8\",\n        },\n\"buen d\\u00eda primero mandar abrazo grande miguel familia hoy podr\\u00eda ser d\\u00eda grandeza humana\",\n\"es\",\n\"P+\",\n{\n            'v': 4,\n            'f': \"4\",\n        }]],\n        columns: [[\"number\", \"index\"], [\"number\", \"Unnamed: 0\"], [\"string\", \"content\"], [\"string\", \"lang\"], [\"string\", \"polarity\"], [\"number\", \"class\"]],\n        columnOptions: [{\"width\": \"1px\", \"className\": \"index_column\"}],\n        rowsPerPage: 25,\n        helpUrl: \"https://colab.research.google.com/notebooks/data_table.ipynb\",\n        suppressOutputScrolling: true,\n        minimumWidth: undefined,\n      });\n    "
          },
          "metadata": {},
          "execution_count": 46
        }
      ]
    },
    {
      "cell_type": "code",
      "metadata": {
        "id": "3qpcSlh2rWZP"
      },
      "source": [
        "corpusclean[['content','class']].to_csv(path+'corpus_class.csv', encoding='utf-8-sig')"
      ],
      "execution_count": null,
      "outputs": []
    },
    {
      "cell_type": "code",
      "metadata": {
        "id": "jwrr1TJiwgkl"
      },
      "source": [
        "path='/content/drive/My Drive/Analitics_Esp/Datos Corpus TASS/'\n",
        "corpusclean=pd.read_csv(path+'corpus_class.csv', encoding='utf-8-sig')"
      ],
      "execution_count": null,
      "outputs": []
    },
    {
      "cell_type": "code",
      "metadata": {
        "id": "xdkIYhZmPHr-"
      },
      "source": [
        "cv = CountVectorizer(analyzer = 'word',\n",
        "                     tokenizer = tokenize,\n",
        "                     lowercase = True,\n",
        "                     max_features=5000)\n",
        "X = cv.fit_transform(corpusclean.content).toarray()"
      ],
      "execution_count": null,
      "outputs": []
    },
    {
      "cell_type": "code",
      "metadata": {
        "id": "5BKdpcgDcgq0"
      },
      "source": [
        "Y=list(corpusclean['class'])"
      ],
      "execution_count": null,
      "outputs": []
    },
    {
      "cell_type": "code",
      "metadata": {
        "id": "A2uDEYqEcrwT",
        "outputId": "eeaa6508-ed6a-49a5-c9ab-748045c793d7",
        "colab": {
          "base_uri": "https://localhost:8080/"
        }
      },
      "source": [
        "print(X.shape,len(Y))"
      ],
      "execution_count": null,
      "outputs": [
        {
          "output_type": "stream",
          "name": "stdout",
          "text": [
            "(44395, 5000) 44395\n"
          ]
        }
      ]
    },
    {
      "cell_type": "code",
      "metadata": {
        "id": "giN4Ha40WlGO",
        "outputId": "acfd567b-a4e8-4199-9092-f13348c06f72",
        "colab": {
          "base_uri": "https://localhost:8080/"
        }
      },
      "source": [
        "len(cv.get_feature_names())"
      ],
      "execution_count": null,
      "outputs": [
        {
          "output_type": "stream",
          "name": "stderr",
          "text": [
            "/usr/local/lib/python3.7/dist-packages/sklearn/utils/deprecation.py:87: FutureWarning: Function get_feature_names is deprecated; get_feature_names is deprecated in 1.0 and will be removed in 1.2. Please use get_feature_names_out instead.\n",
            "  warnings.warn(msg, category=FutureWarning)\n"
          ]
        },
        {
          "output_type": "execute_result",
          "data": {
            "text/plain": [
              "5000"
            ]
          },
          "metadata": {},
          "execution_count": 51
        }
      ]
    },
    {
      "cell_type": "markdown",
      "metadata": {
        "id": "518YBaQKrrmR"
      },
      "source": [
        "Probar un SVM"
      ]
    },
    {
      "cell_type": "code",
      "metadata": {
        "id": "qAuEqfvJrthz"
      },
      "source": [
        "clf=LinearSVC(C=.2)"
      ],
      "execution_count": null,
      "outputs": []
    },
    {
      "cell_type": "code",
      "metadata": {
        "id": "F_OWHdWv24p6"
      },
      "source": [
        "from sklearn.model_selection import train_test_split"
      ],
      "execution_count": null,
      "outputs": []
    },
    {
      "cell_type": "code",
      "metadata": {
        "id": "pqPg6MIZ2x31"
      },
      "source": [
        "X_train,X_test,y_train,y_test = train_test_split(X,Y,test_size=0.1,random_state=9,stratify=Y)"
      ],
      "execution_count": null,
      "outputs": []
    },
    {
      "cell_type": "code",
      "metadata": {
        "id": "x50DOxrFrqug",
        "outputId": "945b5348-a42a-4a63-d3c6-6accef041b59",
        "colab": {
          "base_uri": "https://localhost:8080/"
        }
      },
      "source": [
        "clf.fit(X_train,y_train)"
      ],
      "execution_count": null,
      "outputs": [
        {
          "output_type": "execute_result",
          "data": {
            "text/plain": [
              "LinearSVC(C=0.2)"
            ]
          },
          "metadata": {},
          "execution_count": 64
        }
      ]
    },
    {
      "cell_type": "code",
      "metadata": {
        "id": "YvxlynFXsE9h"
      },
      "source": [
        "y_pred=clf.predict(X_test)"
      ],
      "execution_count": null,
      "outputs": []
    },
    {
      "cell_type": "code",
      "source": [
        "from sklearn.metrics import accuracy_score\n",
        "\n",
        "print('Desempeño en prueba:', accuracy_score(y_test,y_pred))"
      ],
      "metadata": {
        "colab": {
          "base_uri": "https://localhost:8080/"
        },
        "id": "1BqXLVkhTOJ3",
        "outputId": "c4259791-3da8-42a8-d66f-4cba9217d43e"
      },
      "execution_count": null,
      "outputs": [
        {
          "output_type": "stream",
          "name": "stdout",
          "text": [
            "Desempeño en prueba: 0.7445945945945946\n"
          ]
        }
      ]
    },
    {
      "cell_type": "code",
      "metadata": {
        "id": "-MIJIjawstH6",
        "outputId": "fb774713-33c0-43f5-c886-f23bf2848a96",
        "colab": {
          "base_uri": "https://localhost:8080/"
        }
      },
      "source": [
        "from sklearn.metrics import confusion_matrix\n",
        "cm=confusion_matrix(y_test,y_pred)\n",
        "print(cm)"
      ],
      "execution_count": null,
      "outputs": [
        {
          "output_type": "stream",
          "name": "stdout",
          "text": [
            "[[ 888  117    5   21  214]\n",
            " [ 172  310    6    2   48]\n",
            " [  63   19    7    6   67]\n",
            " [  22    7    2   60  166]\n",
            " [ 138   22    9   28 2041]]\n"
          ]
        }
      ]
    },
    {
      "cell_type": "code",
      "metadata": {
        "id": "mFMU8rHctM7e",
        "outputId": "75faf177-c0ad-4d72-d7ce-0d2618a70fa3",
        "colab": {
          "base_uri": "https://localhost:8080/",
          "height": 334
        }
      },
      "source": [
        "from sklearn.metrics import plot_confusion_matrix\n",
        "import matplotlib.pyplot as plt\n",
        "plot_confusion_matrix(clf, X_test, y_test,\n",
        "                      cmap=plt.cm.Blues,\n",
        "                      values_format='d')\n",
        "plt.show()"
      ],
      "execution_count": null,
      "outputs": [
        {
          "output_type": "stream",
          "name": "stderr",
          "text": [
            "/usr/local/lib/python3.7/dist-packages/sklearn/utils/deprecation.py:87: FutureWarning: Function plot_confusion_matrix is deprecated; Function `plot_confusion_matrix` is deprecated in 1.0 and will be removed in 1.2. Use one of the class methods: ConfusionMatrixDisplay.from_predictions or ConfusionMatrixDisplay.from_estimator.\n",
            "  warnings.warn(msg, category=FutureWarning)\n"
          ]
        },
        {
          "output_type": "display_data",
          "data": {
            "text/plain": [
              "<Figure size 432x288 with 2 Axes>"
            ],
            "image/png": "[encoded data removed]"
          },
          "metadata": {
            "needs_background": "light"
          }
        }
      ]
    },
    {
      "cell_type": "code",
      "metadata": {
        "id": "iDZQJeaiu9cs"
      },
      "source": [
        "from sklearn.neighbors import KNeighborsClassifier\n",
        "\n",
        "algo = KNeighborsClassifier(n_neighbors = 3, metric = 'minkowski', p=2)"
      ],
      "execution_count": null,
      "outputs": []
    },
    {
      "cell_type": "code",
      "source": [
        "out=[]\n",
        "for i in range(2,10):\n",
        "  w=KNeighborsClassifier(n_neighbors = i, metric = 'minkowski', p=2)\n",
        "  w.fit(X_train, y_train)\n",
        "  y_predejem = w.predict(X_test)\n",
        "  out.append(1-accuracy_score(y_test, y_predejem))"
      ],
      "metadata": {
        "id": "6L8CPVq1Ungd"
      },
      "execution_count": null,
      "outputs": []
    },
    {
      "cell_type": "code",
      "source": [
        "import matplotlib.pyplot as plt\n",
        "fig, ax = plt.subplots()\n",
        "ax.plot(list(range(2,10)), out, linewidth=2.0)\n",
        "plt.show()"
      ],
      "metadata": {
        "colab": {
          "base_uri": "https://localhost:8080/",
          "height": 267
        },
        "id": "p-r3hz16ZrkT",
        "outputId": "e5c097cd-80f3-46f5-807b-0a9fd92306ba"
      },
      "execution_count": null,
      "outputs": [
        {
          "output_type": "display_data",
          "data": {
            "text/plain": [
              "<Figure size 432x288 with 1 Axes>"
            ],
            "image/png": "[encoded data removed]"
          },
          "metadata": {
            "needs_background": "light"
          }
        }
      ]
    },
    {
      "cell_type": "code",
      "source": [
        "algo.fit(X_train, y_train)"
      ],
      "metadata": {
        "colab": {
          "base_uri": "https://localhost:8080/"
        },
        "id": "Zuk8pdaxSiee",
        "outputId": "e6f8b18d-fa69-48bd-f016-9fc8ad68c6ab"
      },
      "execution_count": null,
      "outputs": [
        {
          "output_type": "execute_result",
          "data": {
            "text/plain": [
              "KNeighborsClassifier(n_neighbors=20)"
            ]
          },
          "metadata": {},
          "execution_count": 87
        }
      ]
    },
    {
      "cell_type": "code",
      "source": [
        "y_pred = algo.predict(X_test)"
      ],
      "metadata": {
        "id": "R1OT3RTTStzX"
      },
      "execution_count": null,
      "outputs": []
    },
    {
      "cell_type": "code",
      "source": [
        "accuracy_score(y_test,y_pred)"
      ],
      "metadata": {
        "colab": {
          "base_uri": "https://localhost:8080/"
        },
        "id": "ToW9qGr1UPPQ",
        "outputId": "d8a4c18a-2503-485b-d516-cf5eb379d309"
      },
      "execution_count": null,
      "outputs": [
        {
          "output_type": "execute_result",
          "data": {
            "text/plain": [
              "0.525"
            ]
          },
          "metadata": {},
          "execution_count": 89
        }
      ]
    },
    {
      "cell_type": "code",
      "source": [
        "from sklearn.metrics import confusion_matrix\n",
        "\n",
        "matriz = confusion_matrix(y_test, y_pred)\n",
        "print(matriz)"
      ],
      "metadata": {
        "colab": {
          "base_uri": "https://localhost:8080/"
        },
        "id": "-CWWM0guSyrk",
        "outputId": "b5b586dd-b563-4b5b-d701-0bbe1a5841ba"
      },
      "execution_count": null,
      "outputs": [
        {
          "output_type": "stream",
          "name": "stdout",
          "text": [
            "[[ 353   35    1   49  807]\n",
            " [ 119   64    0   12  343]\n",
            " [  30    2    1   10  119]\n",
            " [  15    2    0   53  187]\n",
            " [  86   17    1  100 2034]]\n"
          ]
        }
      ]
    },
    {
      "cell_type": "code",
      "source": [
        ""
      ],
      "metadata": {
        "id": "DqU1xiGremzb"
      },
      "execution_count": null,
      "outputs": []
    },
    {
      "cell_type": "markdown",
      "metadata": {
        "id": "MR6o5VKDe4Hp"
      },
      "source": [
        "### Ajustar hiperparámetros de un clasificador y validación cruzada\n",
        "Tratar de buscar los mejores parámetros para un clasificador y utilizar validación cruzada para ver el porciento de generalización"
      ]
    },
    {
      "cell_type": "code",
      "metadata": {
        "id": "tZdMUEc4ZUdD"
      },
      "source": [
        "import numpy as np\n",
        "from sklearn.pipeline import Pipeline\n",
        "from sklearn.neighbors import KNeighborsClassifier\n",
        "from sklearn.model_selection import GridSearchCV,RandomizedSearchCV,StratifiedKFold\n",
        "from sklearn.model_selection import cross_val_score\n",
        "from sklearn.metrics import recall_score,f1_score,accuracy_score\n",
        "from sklearn.multiclass import OneVsRestClassifier\n",
        "from sklearn import preprocessing"
      ],
      "execution_count": null,
      "outputs": []
    },
    {
      "cell_type": "code",
      "metadata": {
        "id": "Q9geld0Ply-u",
        "outputId": "707f47d4-b96b-4548-c2d8-aad2091fa761",
        "colab": {
          "base_uri": "https://localhost:8080/",
          "height": 34
        }
      },
      "source": [
        "np.unique(corpusclean['class'])"
      ],
      "execution_count": null,
      "outputs": [
        {
          "output_type": "execute_result",
          "data": {
            "text/plain": [
              "array([0, 1, 2, 3, 4])"
            ]
          },
          "metadata": {
            "tags": []
          },
          "execution_count": 110
        }
      ]
    },
    {
      "cell_type": "code",
      "metadata": {
        "id": "qwDIY5KTesym"
      },
      "source": [
        "cv = CountVectorizer(analyzer = 'word',\n",
        "                     tokenizer = tokenize,\n",
        "                     lowercase = True,\n",
        "                     max_features=1000,\n",
        "                     min_df = 50,\n",
        "                     max_df = 1.9\n",
        "                     )\n",
        "clf_SVM = OneVsRestClassifier(LinearSVC())\n",
        "pipeline = Pipeline([\n",
        "    ('vect', cv),\n",
        "    ('cls', clf_SVM)\n",
        "])"
      ],
      "execution_count": null,
      "outputs": []
    },
    {
      "cell_type": "code",
      "metadata": {
        "id": "J-RU0-VOm87L",
        "outputId": "3d3a8da6-186d-438a-b865-ead348e02cb9",
        "colab": {
          "base_uri": "https://localhost:8080/",
          "height": 54
        }
      },
      "source": [
        "pipeline.get_params().keys()"
      ],
      "execution_count": null,
      "outputs": [
        {
          "output_type": "execute_result",
          "data": {
            "text/plain": [
              "dict_keys(['memory', 'steps', 'verbose', 'vect', 'cls', 'vect__analyzer', 'vect__binary', 'vect__decode_error', 'vect__dtype', 'vect__encoding', 'vect__input', 'vect__lowercase', 'vect__max_df', 'vect__max_features', 'vect__min_df', 'vect__ngram_range', 'vect__preprocessor', 'vect__stop_words', 'vect__strip_accents', 'vect__token_pattern', 'vect__tokenizer', 'vect__vocabulary', 'cls__estimator__C', 'cls__estimator__class_weight', 'cls__estimator__dual', 'cls__estimator__fit_intercept', 'cls__estimator__intercept_scaling', 'cls__estimator__loss', 'cls__estimator__max_iter', 'cls__estimator__multi_class', 'cls__estimator__penalty', 'cls__estimator__random_state', 'cls__estimator__tol', 'cls__estimator__verbose', 'cls__estimator', 'cls__n_jobs'])"
            ]
          },
          "metadata": {
            "tags": []
          },
          "execution_count": 112
        }
      ]
    },
    {
      "cell_type": "code",
      "metadata": {
        "id": "IeDaW3xvnQEg",
        "outputId": "3eb9ddcd-c6e9-49cc-829c-d7125f80ec83",
        "colab": {
          "base_uri": "https://localhost:8080/",
          "height": 632
        }
      },
      "source": [
        "# Aqui definimos el espacio de parámetros a explorar tanto en el CountVectorizer, como en el clasificador\n",
        "parameters = {\n",
        "    'vect__ngram_range': ((1, 1), (1, 2)),  # unigramas o bigramas\n",
        "    'cls__estimator__C': (0.2, 0.5, 0.7, 1)\n",
        "}\n",
        "#GridSearchCV sólo trabaja con classes binarias\n",
        "y = preprocessing.label_binarize(corpusclean['class'], classes=np.unique(corpusclean['class']))\n",
        "grid_search = GridSearchCV(pipeline, parameters, n_jobs=-1 , scoring='recall_micro')\n",
        "grid_search.fit(corpusclean.content, y)"
      ],
      "execution_count": null,
      "outputs": [
        {
          "output_type": "stream",
          "text": [
            "/usr/local/lib/python3.6/dist-packages/sklearn/svm/_base.py:947: ConvergenceWarning: Liblinear failed to converge, increase the number of iterations.\n",
            "  \"the number of iterations.\", ConvergenceWarning)\n"
          ],
          "name": "stderr"
        },
        {
          "output_type": "execute_result",
          "data": {
            "text/plain": [
              "GridSearchCV(cv=None, error_score=nan,\n",
              "             estimator=Pipeline(memory=None,\n",
              "                                steps=[('vect',\n",
              "                                        CountVectorizer(analyzer='word',\n",
              "                                                        binary=False,\n",
              "                                                        decode_error='strict',\n",
              "                                                        dtype=<class 'numpy.int64'>,\n",
              "                                                        encoding='utf-8',\n",
              "                                                        input='content',\n",
              "                                                        lowercase=True,\n",
              "                                                        max_df=1.9,\n",
              "                                                        max_features=1000,\n",
              "                                                        min_df=50,\n",
              "                                                        ngram_range=(1, 1),\n",
              "                                                        preprocessor=None,\n",
              "                                                        stop_words=None,\n",
              "                                                        strip_accents=None,\n",
              "                                                        token_pattern='...\n",
              "                                                                                intercept_scaling=1,\n",
              "                                                                                loss='squared_hinge',\n",
              "                                                                                max_iter=1000,\n",
              "                                                                                multi_class='ovr',\n",
              "                                                                                penalty='l2',\n",
              "                                                                                random_state=None,\n",
              "                                                                                tol=0.0001,\n",
              "                                                                                verbose=0),\n",
              "                                                            n_jobs=None))],\n",
              "                                verbose=False),\n",
              "             iid='deprecated', n_jobs=-1,\n",
              "             param_grid={'cls__estimator__C': (0.2, 0.5, 0.7, 1),\n",
              "                         'vect__ngram_range': ((1, 1), (1, 2))},\n",
              "             pre_dispatch='2*n_jobs', refit=True, return_train_score=False,\n",
              "             scoring='recall_micro', verbose=0)"
            ]
          },
          "metadata": {
            "tags": []
          },
          "execution_count": 113
        }
      ]
    },
    {
      "cell_type": "code",
      "metadata": {
        "id": "SZXCqST9uRlW",
        "outputId": "2c504d44-00f1-45ae-9e0f-fcb915e7b3dd",
        "colab": {
          "base_uri": "https://localhost:8080/",
          "height": 34
        }
      },
      "source": [
        "grid_search.best_params_"
      ],
      "execution_count": null,
      "outputs": [
        {
          "output_type": "execute_result",
          "data": {
            "text/plain": [
              "{'cls__estimator__C': 1, 'vect__ngram_range': (1, 1)}"
            ]
          },
          "metadata": {
            "tags": []
          },
          "execution_count": 114
        }
      ]
    },
    {
      "cell_type": "code",
      "metadata": {
        "id": "no7ePZPOuVST",
        "outputId": "8022bba5-3f45-45ee-bd81-726fb7380b64",
        "colab": {
          "base_uri": "https://localhost:8080/",
          "height": 34
        }
      },
      "source": [
        "grid_search.best_score_"
      ],
      "execution_count": null,
      "outputs": [
        {
          "output_type": "execute_result",
          "data": {
            "text/plain": [
              "0.6420092352742426"
            ]
          },
          "metadata": {
            "tags": []
          },
          "execution_count": 115
        }
      ]
    },
    {
      "cell_type": "markdown",
      "metadata": {
        "id": "HQujVqxNzDss"
      },
      "source": [
        "**Después de este resultado, con los mejores parámetros se entrana el clasificador. Obviamente acá es sólo un ejemplo, se deben usar más parámetros para decidir los hiperparámetros y se debe hacer quizás validación cruzada con k=10 y probar otros clasificadores**"
      ]
    },
    {
      "cell_type": "markdown",
      "metadata": {
        "id": "D9c0MSFqzUCl"
      },
      "source": [
        "## Entrenando el clasificador con los mejores parámetros"
      ]
    },
    {
      "cell_type": "code",
      "metadata": {
        "id": "3v3JNaekvk7l"
      },
      "source": [
        "pipeline = Pipeline([\n",
        "    ('vect', CountVectorizer(\n",
        "            analyzer = 'word',\n",
        "            tokenizer = tokenize,\n",
        "            lowercase = True,\n",
        "            min_df = 50,\n",
        "            max_df = 1.9,\n",
        "            ngram_range=(1, 1)\n",
        "            )),\n",
        "    ('cls', LinearSVC(C=.7))\n",
        "])"
      ],
      "execution_count": null,
      "outputs": []
    },
    {
      "cell_type": "code",
      "metadata": {
        "id": "q8IZjikfweMx",
        "outputId": "b3d0d1db-975f-470f-8b6e-a8d64b46d589",
        "colab": {
          "base_uri": "https://localhost:8080/",
          "height": 340
        }
      },
      "source": [
        "pipeline.fit(corpusclean.content, Y)"
      ],
      "execution_count": null,
      "outputs": [
        {
          "output_type": "execute_result",
          "data": {
            "text/plain": [
              "Pipeline(memory=None,\n",
              "         steps=[('vect',\n",
              "                 CountVectorizer(analyzer='word', binary=False,\n",
              "                                 decode_error='strict',\n",
              "                                 dtype=<class 'numpy.int64'>, encoding='utf-8',\n",
              "                                 input='content', lowercase=True, max_df=1.9,\n",
              "                                 max_features=None, min_df=50,\n",
              "                                 ngram_range=(1, 1), preprocessor=None,\n",
              "                                 stop_words=None, strip_accents=None,\n",
              "                                 token_pattern='(?u)\\\\b\\\\w\\\\w+\\\\b',\n",
              "                                 tokenizer=<function tokenize at 0x7fe0fc3b66a8>,\n",
              "                                 vocabulary=None)),\n",
              "                ('cls',\n",
              "                 LinearSVC(C=0.7, class_weight=None, dual=True,\n",
              "                           fit_intercept=True, intercept_scaling=1,\n",
              "                           loss='squared_hinge', max_iter=1000,\n",
              "                           multi_class='ovr', penalty='l2', random_state=None,\n",
              "                           tol=0.0001, verbose=0))],\n",
              "         verbose=False)"
            ]
          },
          "metadata": {
            "tags": []
          },
          "execution_count": 122
        }
      ]
    },
    {
      "cell_type": "markdown",
      "metadata": {
        "id": "1BH1_CjlyzpU"
      },
      "source": [
        "Entonces ya con ese clasificador se puede cargar otros tweets y predecirlos:\n",
        "tweets['polarity'] = pipeline.predict(tweets.tweet).\n",
        "Vamos a hacer un ejemplo con unos de esta misma base."
      ]
    },
    {
      "cell_type": "code",
      "metadata": {
        "id": "AhiBdgH_0FXq"
      },
      "source": [
        "y_pred=pipeline.predict(corpusclean.content)"
      ],
      "execution_count": null,
      "outputs": []
    },
    {
      "cell_type": "code",
      "metadata": {
        "id": "z_1oJlOe0f2e",
        "outputId": "580cb91d-42c3-475d-f0d4-9cbdc1dd7693",
        "colab": {
          "base_uri": "https://localhost:8080/",
          "height": 34
        }
      },
      "source": [
        "accuracy_score(Y, y_pred)"
      ],
      "execution_count": null,
      "outputs": [
        {
          "output_type": "execute_result",
          "data": {
            "text/plain": [
              "0.7637346548034688"
            ]
          },
          "metadata": {
            "tags": []
          },
          "execution_count": 124
        }
      ]
    },
    {
      "cell_type": "code",
      "metadata": {
        "id": "dqvHdO9D0wRG",
        "outputId": "432f4a27-6bd3-437b-e430-8f9dbdac8706",
        "colab": {
          "base_uri": "https://localhost:8080/",
          "height": 299
        }
      },
      "source": [
        "corpusclean['prediction']=y_pred\n",
        "corpusclean[['content','class','prediction']].head(10)"
      ],
      "execution_count": null,
      "outputs": [
        {
          "output_type": "execute_result",
          "data": {
            "application/vnd.google.colaboratory.module+javascript": "\n      import \"https://ssl.gstatic.com/colaboratory/data_table/a6224c040fa35dcf/data_table.js\";\n\n      window.createDataTable({\n        data: [[{\n            'v': 2,\n            'f': \"2\",\n        },\n\"gracias mar\",\n{\n            'v': 3,\n            'f': \"3\",\n        },\n{\n            'v': 4,\n            'f': \"4\",\n        }],\n [{\n            'v': 3,\n            'f': \"3\",\n        },\n\"off pensando regalito sinde va sgae van corruptos intento sacar conclusiones intento\",\n{\n            'v': 1,\n            'f': \"1\",\n        },\n{\n            'v': 0,\n            'f': \"0\",\n        }],\n [{\n            'v': 4,\n            'f': \"4\",\n        },\n\"conozco alguien adicto drama ja ja ja suena\",\n{\n            'v': 4,\n            'f': \"4\",\n        },\n{\n            'v': 4,\n            'f': \"4\",\n        }],\n [{\n            'v': 6,\n            'f': \"6\",\n        },\n\"toca grabaci\\u00f3n especial navide\\u00f1omari crismas\",\n{\n            'v': 4,\n            'f': \"4\",\n        },\n{\n            'v': 4,\n            'f': \"4\",\n        }],\n [{\n            'v': 8,\n            'f': \"8\",\n        },\n\"buen d\\u00eda primero mandar abrazo grande miguel familia hoy podr\\u00eda ser d\\u00eda grandeza humana\",\n{\n            'v': 4,\n            'f': \"4\",\n        },\n{\n            'v': 4,\n            'f': \"4\",\n        }],\n [{\n            'v': 9,\n            'f': \"9\",\n        },\n\"esca\\u00f1o listo empezar congreso\",\n{\n            'v': 4,\n            'f': \"4\",\n        },\n{\n            'v': 4,\n            'f': \"4\",\n        }],\n [{\n            'v': 10,\n            'f': \"10\",\n        },\n\"bd\\u00edas em ira puente si vais dejeis llevar tableta pc luego orbyt momento digo\",\n{\n            'v': 4,\n            'f': \"4\",\n        },\n{\n            'v': 4,\n            'f': \"4\",\n        }],\n [{\n            'v': 11,\n            'f': \"11\",\n        },\n\"sistema econ\\u00f3mico recorta dinero prestaciones sociales refuerza bill\\u00f3n medio euros bancos necesita repensarse\",\n{\n            'v': 4,\n            'f': \"4\",\n        },\n{\n            'v': 0,\n            'f': \"0\",\n        }],\n [{\n            'v': 12,\n            'f': \"12\",\n        },\n\"caca ajuste\",\n{\n            'v': 1,\n            'f': \"1\",\n        },\n{\n            'v': 4,\n            'f': \"4\",\n        }],\n [{\n            'v': 13,\n            'f': \"13\",\n        },\n\"buen viernes\",\n{\n            'v': 3,\n            'f': \"3\",\n        },\n{\n            'v': 4,\n            'f': \"4\",\n        }]],\n        columns: [[\"number\", \"index\"], [\"string\", \"content\"], [\"number\", \"class\"], [\"number\", \"prediction\"]],\n        columnOptions: [{\"width\": \"1px\", \"className\": \"index_column\"}],\n        rowsPerPage: 25,\n        helpUrl: \"https://colab.research.google.com/notebooks/data_table.ipynb\",\n        suppressOutputScrolling: true,\n        minimumWidth: undefined,\n      });\n    ",
            "text/html": [
              "<div>\n",
              "<style scoped>\n",
              "    .dataframe tbody tr th:only-of-type {\n",
              "        vertical-align: middle;\n",
              "    }\n",
              "\n",
              "    .dataframe tbody tr th {\n",
              "        vertical-align: top;\n",
              "    }\n",
              "\n",
              "    .dataframe thead th {\n",
              "        text-align: right;\n",
              "    }\n",
              "</style>\n",
              "<table border=\"1\" class=\"dataframe\">\n",
              "  <thead>\n",
              "    <tr style=\"text-align: right;\">\n",
              "      <th></th>\n",
              "      <th>content</th>\n",
              "      <th>class</th>\n",
              "      <th>prediction</th>\n",
              "    </tr>\n",
              "  </thead>\n",
              "  <tbody>\n",
              "    <tr>\n",
              "      <th>2</th>\n",
              "      <td>gracias mar</td>\n",
              "      <td>3</td>\n",
              "      <td>4</td>\n",
              "    </tr>\n",
              "    <tr>\n",
              "      <th>3</th>\n",
              "      <td>off pensando regalito sinde va sgae van corruptos intento sacar conclusiones intento</td>\n",
              "      <td>1</td>\n",
              "      <td>0</td>\n",
              "    </tr>\n",
              "    <tr>\n",
              "      <th>4</th>\n",
              "      <td>conozco alguien adicto drama ja ja ja suena</td>\n",
              "      <td>4</td>\n",
              "      <td>4</td>\n",
              "    </tr>\n",
              "    <tr>\n",
              "      <th>6</th>\n",
              "      <td>toca grabación especial navideñomari crismas</td>\n",
              "      <td>4</td>\n",
              "      <td>4</td>\n",
              "    </tr>\n",
              "    <tr>\n",
              "      <th>8</th>\n",
              "      <td>buen día primero mandar abrazo grande miguel familia hoy podría ser día grandeza humana</td>\n",
              "      <td>4</td>\n",
              "      <td>4</td>\n",
              "    </tr>\n",
              "    <tr>\n",
              "      <th>9</th>\n",
              "      <td>escaño listo empezar congreso</td>\n",
              "      <td>4</td>\n",
              "      <td>4</td>\n",
              "    </tr>\n",
              "    <tr>\n",
              "      <th>10</th>\n",
              "      <td>bdías em ira puente si vais dejeis llevar tableta pc luego orbyt momento digo</td>\n",
              "      <td>4</td>\n",
              "      <td>4</td>\n",
              "    </tr>\n",
              "    <tr>\n",
              "      <th>11</th>\n",
              "      <td>sistema económico recorta dinero prestaciones sociales refuerza billón medio euros bancos necesita repensarse</td>\n",
              "      <td>4</td>\n",
              "      <td>0</td>\n",
              "    </tr>\n",
              "    <tr>\n",
              "      <th>12</th>\n",
              "      <td>caca ajuste</td>\n",
              "      <td>1</td>\n",
              "      <td>4</td>\n",
              "    </tr>\n",
              "    <tr>\n",
              "      <th>13</th>\n",
              "      <td>buen viernes</td>\n",
              "      <td>3</td>\n",
              "      <td>4</td>\n",
              "    </tr>\n",
              "  </tbody>\n",
              "</table>\n",
              "</div>"
            ],
            "text/plain": [
              "                                                                                                          content  ...  prediction\n",
              "2                                                                                                     gracias mar  ...           4\n",
              "3                            off pensando regalito sinde va sgae van corruptos intento sacar conclusiones intento  ...           0\n",
              "4                                                                     conozco alguien adicto drama ja ja ja suena  ...           4\n",
              "6                                                                    toca grabación especial navideñomari crismas  ...           4\n",
              "8                         buen día primero mandar abrazo grande miguel familia hoy podría ser día grandeza humana  ...           4\n",
              "9                                                                                   escaño listo empezar congreso  ...           4\n",
              "10                                  bdías em ira puente si vais dejeis llevar tableta pc luego orbyt momento digo  ...           4\n",
              "11  sistema económico recorta dinero prestaciones sociales refuerza billón medio euros bancos necesita repensarse  ...           0\n",
              "12                                                                                                    caca ajuste  ...           4\n",
              "13                                                                                                   buen viernes  ...           4\n",
              "\n",
              "[10 rows x 3 columns]"
            ]
          },
          "metadata": {
            "tags": []
          },
          "execution_count": 126
        }
      ]
    },
    {
      "cell_type": "markdown",
      "metadata": {
        "id": "XMc_O4j_L3gl"
      },
      "source": [
        "### Utilizando TF-IDF\n",
        "\n",
        "Debería hacerse una búsqueda de los hiperparámetros también y después entrenar, abajo se muestra un ejemplo de ya entrenar el clasificador después de buscar los hiperparámetros."
      ]
    },
    {
      "cell_type": "code",
      "metadata": {
        "id": "mRJdIJydL24O"
      },
      "source": [
        "pipeline = Pipeline([\n",
        "    ('vect', TfidfVectorizer(\n",
        "            analyzer = 'word',\n",
        "            tokenizer = tokenize,\n",
        "            lowercase = True,\n",
        "            min_df = 50,\n",
        "            max_df = 1.9,\n",
        "            ngram_range=(1, 1),\n",
        "            sublinear_tf=True\n",
        "            )),\n",
        "    ('cls', LinearSVC(C=.7))\n",
        "])"
      ],
      "execution_count": null,
      "outputs": []
    },
    {
      "cell_type": "code",
      "metadata": {
        "id": "ygGre2TXMvGD",
        "outputId": "5cdfa353-0c8e-42d9-c398-e03a21ca1c22",
        "colab": {
          "base_uri": "https://localhost:8080/",
          "height": 34
        }
      },
      "source": [
        "pipeline.fit(corpusclean.content, Y)\n",
        "y_pred=pipeline.predict(corpusclean.content)\n",
        "accuracy_score(Y, y_pred)"
      ],
      "execution_count": null,
      "outputs": [
        {
          "output_type": "execute_result",
          "data": {
            "text/plain": [
              "0.7620227503097196"
            ]
          },
          "metadata": {
            "tags": []
          },
          "execution_count": 130
        }
      ]
    },
    {
      "cell_type": "markdown",
      "metadata": {
        "id": "-EMOOwri10_e"
      },
      "source": [
        "## Recomendaciones: \n",
        "Se puede llevar la clase a sólo dos clases, positivos y negativos.\n",
        "También se puede utilizar Lemmatización en vez de Radicalización, o sólo dejarlo con la Tokenización."
      ]
    }
  ]
}