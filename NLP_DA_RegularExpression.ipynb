{
  "nbformat": 4,
  "nbformat_minor": 0,
  "metadata": {
    "colab": {
      "name": "NLP_DA_RegularExpression.ipynb",
      "provenance": [],
      "include_colab_link": true
    },
    "kernelspec": {
      "name": "python3",
      "display_name": "Python 3"
    }
  },
  "cells": [
    {
      "cell_type": "markdown",
      "metadata": {
        "id": "view-in-github",
        "colab_type": "text"
      },
      "source": [
        "<a href=\"https://colab.research.google.com/github/Simon-creator-jara/Inteligencia_artificial/blob/main/NLP_DA_RegularExpression.ipynb\" target=\"_parent\"><img src=\"https://colab.research.google.com/assets/colab-badge.svg\" alt=\"Open In Colab\"/></a>"
      ]
    },
    {
      "cell_type": "markdown",
      "metadata": {
        "id": "ySs1XZlL7Dnj"
      },
      "source": [
        "# Introducción a expresiones regulares\n",
        "\n",
        "Las expresiones regulares nos permiten describir patrones en cadenas\n",
        "\n",
        "## Biblioteca re\n"
      ]
    },
    {
      "cell_type": "code",
      "metadata": {
        "id": "jqihrf5_tVkQ"
      },
      "source": [
        "import re"
      ],
      "execution_count": null,
      "outputs": []
    },
    {
      "cell_type": "markdown",
      "metadata": {
        "id": "UJ_-QsWguLBv"
      },
      "source": [
        "***re.match(pattern, string, flags=0)***: Si cero o más caracteres de la cadena coinciden con esta expresión regular, devuelve un objeto de coincidencia correspondiente. \n",
        "\n",
        "Devuelve None si la cadena no coincide con el patrón."
      ]
    },
    {
      "cell_type": "code",
      "metadata": {
        "id": "jeQR_79EuKr9",
        "colab": {
          "base_uri": "https://localhost:8080/",
          "height": 118
        },
        "outputId": "f3cfae1b-36e1-4d9e-9ef8-420ce1b2e5bb"
      },
      "source": [
        "x =[\"ser\",\"saber\", \"servir\", \"EIA\", \"toser\"]\n",
        "text='\\n'.join(txt for txt in x)\n",
        "text2=' '.join(txt for txt in x)\n",
        "print(text)\n",
        "print(text2)"
      ],
      "execution_count": null,
      "outputs": [
        {
          "output_type": "stream",
          "text": [
            "ser\n",
            "saber\n",
            "servir\n",
            "EIA\n",
            "toser\n",
            "ser saber servir EIA toser\n"
          ],
          "name": "stdout"
        }
      ]
    },
    {
      "cell_type": "code",
      "metadata": {
        "id": "Hnj4nnvAFkeb",
        "colab": {
          "base_uri": "https://localhost:8080/",
          "height": 34
        },
        "outputId": "f46b2b69-3157-4618-a5b3-a6915d5510c6"
      },
      "source": [
        "match=re.match('se',text)\n",
        "print('Hay match') if match else print('No se encontró')"
      ],
      "execution_count": null,
      "outputs": [
        {
          "output_type": "stream",
          "text": [
            "Hay match\n"
          ],
          "name": "stdout"
        }
      ]
    },
    {
      "cell_type": "code",
      "metadata": {
        "id": "PlTQ8c5okfn9",
        "colab": {
          "base_uri": "https://localhost:8080/",
          "height": 34
        },
        "outputId": "4f2f7a34-ea44-4c8d-af0c-ca96d685e2d3"
      },
      "source": [
        "print(match.start(), match.end())"
      ],
      "execution_count": null,
      "outputs": [
        {
          "output_type": "stream",
          "text": [
            "0 2\n"
          ],
          "name": "stdout"
        }
      ]
    },
    {
      "cell_type": "code",
      "metadata": {
        "id": "jiHxj_FtIIlt",
        "colab": {
          "base_uri": "https://localhost:8080/",
          "height": 34
        },
        "outputId": "4fb8f895-fbfc-43bc-d50e-9ea03231ed4e"
      },
      "source": [
        "match=re.match('saber',text)\n",
        "print('Hay match') if match else print('No se encontró')\n"
      ],
      "execution_count": null,
      "outputs": [
        {
          "output_type": "stream",
          "text": [
            "No se encontró\n"
          ],
          "name": "stdout"
        }
      ]
    },
    {
      "cell_type": "markdown",
      "metadata": {
        "id": "zw1ZRYoiHbQQ"
      },
      "source": [
        "Es importante ver que match sólo busca al inicio de la cadena. Para buscar todos los match se puede utilizar las funciones:\n",
        "\n",
        "\n",
        "*   re.findall(pattern, string, flags=0): Devuelve todas las coincidencias no superpuestas de patrón en cadena, como una lista de cadenas. La cadena se escanea de izquierda a derecha y las coincidencias se devuelven en el orden en que se encuentran. Si uno o más grupos están presentes en el patrón, devuelva una lista de grupos.\n",
        "*   re.search(pattern, string, flags=0): Explora la cadena en busca de la primera ubicación donde el patrón de expresión regular produce una coincidencia y devuelva un objeto de coincidencia correspondiente. Devuelve None si ninguna posición en la cadena coincide con el patrón"
      ]
    },
    {
      "cell_type": "code",
      "metadata": {
        "id": "oIEgPkuR0kIb",
        "colab": {
          "base_uri": "https://localhost:8080/",
          "height": 35
        },
        "outputId": "4dc81ff4-552e-449e-b30d-8d695344bb40"
      },
      "source": [
        "text"
      ],
      "execution_count": null,
      "outputs": [
        {
          "output_type": "execute_result",
          "data": {
            "application/vnd.google.colaboratory.intrinsic+json": {
              "type": "string"
            },
            "text/plain": [
              "'ser\\nsaber\\nservir\\neia\\ntoser'"
            ]
          },
          "metadata": {
            "tags": []
          },
          "execution_count": 308
        }
      ]
    },
    {
      "cell_type": "code",
      "metadata": {
        "id": "TLUR1iOKLt0I",
        "colab": {
          "base_uri": "https://localhost:8080/",
          "height": 34
        },
        "outputId": "415c2bfe-d27e-453b-b97b-5319cadd1ab0"
      },
      "source": [
        "match=re.search('saber',text)\n",
        "match.group(),match.start(), match.end()"
      ],
      "execution_count": null,
      "outputs": [
        {
          "output_type": "execute_result",
          "data": {
            "text/plain": [
              "('saber', 4, 9)"
            ]
          },
          "metadata": {
            "tags": []
          },
          "execution_count": 250
        }
      ]
    },
    {
      "cell_type": "code",
      "metadata": {
        "id": "3EDEkuiREd_U",
        "colab": {
          "base_uri": "https://localhost:8080/",
          "height": 34
        },
        "outputId": "15b7ab59-9ba1-4383-e20b-df54ee53a838"
      },
      "source": [
        "match=re.findall('ser',text)\n",
        "match"
      ],
      "execution_count": null,
      "outputs": [
        {
          "output_type": "execute_result",
          "data": {
            "text/plain": [
              "['ser', 'ser', 'ser']"
            ]
          },
          "metadata": {
            "tags": []
          },
          "execution_count": 251
        }
      ]
    },
    {
      "cell_type": "markdown",
      "metadata": {
        "id": "ivJWc35LMvRP"
      },
      "source": [
        "***re.split(patter, text)*** devuelve una lista de la cadena divida por dónde la dividió le patrón."
      ]
    },
    {
      "cell_type": "code",
      "metadata": {
        "id": "tOZ8K7aa1ANR",
        "colab": {
          "base_uri": "https://localhost:8080/",
          "height": 35
        },
        "outputId": "4b9a6a0f-c31e-428c-c0ac-2b9523b2f194"
      },
      "source": [
        "text2"
      ],
      "execution_count": null,
      "outputs": [
        {
          "output_type": "execute_result",
          "data": {
            "application/vnd.google.colaboratory.intrinsic+json": {
              "type": "string"
            },
            "text/plain": [
              "'ser saber servir EIA toser'"
            ]
          },
          "metadata": {
            "tags": []
          },
          "execution_count": 312
        }
      ]
    },
    {
      "cell_type": "code",
      "metadata": {
        "id": "DzUzWAqTMcMe",
        "colab": {
          "base_uri": "https://localhost:8080/",
          "height": 34
        },
        "outputId": "a2858e53-a13f-4c2b-b909-3c2d13138318"
      },
      "source": [
        "match=re.split('ser',text2)\n",
        "print(match)"
      ],
      "execution_count": null,
      "outputs": [
        {
          "output_type": "stream",
          "text": [
            "['', ' saber ', 'vir eia to', '']\n"
          ],
          "name": "stdout"
        }
      ]
    },
    {
      "cell_type": "markdown",
      "metadata": {
        "id": "KTEbIMgRNm-p"
      },
      "source": [
        "## Expresiones regulares\n",
        "\n",
        "El punto (**.**) se hace corresponder con cualquier caracter excepto el cambio de línea (\\\\n), excepto con el cambio de línea\n",
        "\n",
        "Ejemplo:\n",
        "Busca palabras que tengan el caracter e entre dos caracteres cualquiera.\n",
        "\n",
        ".e. sería el patrón, importante ver que el patrón entonces está integrado por 3 caracteres"
      ]
    },
    {
      "cell_type": "code",
      "metadata": {
        "id": "pW0dbisN1fXE",
        "colab": {
          "base_uri": "https://localhost:8080/",
          "height": 35
        },
        "outputId": "2c65528f-67e9-402e-a577-c73adff4bcbb"
      },
      "source": [
        "text2"
      ],
      "execution_count": null,
      "outputs": [
        {
          "output_type": "execute_result",
          "data": {
            "application/vnd.google.colaboratory.intrinsic+json": {
              "type": "string"
            },
            "text/plain": [
              "'ser saber servir EIA toser'"
            ]
          },
          "metadata": {
            "tags": []
          },
          "execution_count": 315
        }
      ]
    },
    {
      "cell_type": "code",
      "metadata": {
        "id": "xILK0see159K",
        "colab": {
          "base_uri": "https://localhost:8080/",
          "height": 34
        },
        "outputId": "30b7f5c4-54db-4460-d2ab-7abab144c535"
      },
      "source": [
        "re.findall('.e.', text2)"
      ],
      "execution_count": null,
      "outputs": [
        {
          "output_type": "execute_result",
          "data": {
            "text/plain": [
              "['ser', 'ber', 'ser', 'ser']"
            ]
          },
          "metadata": {
            "tags": []
          },
          "execution_count": 314
        }
      ]
    },
    {
      "cell_type": "code",
      "metadata": {
        "id": "LA8IDTumOITl",
        "colab": {
          "base_uri": "https://localhost:8080/",
          "height": 34
        },
        "outputId": "2bc9a3bd-a28a-4fa0-96a4-4cee9f8a4b5e"
      },
      "source": [
        "match=re.split('.e.',text2)\n",
        "print(match)"
      ],
      "execution_count": null,
      "outputs": [
        {
          "output_type": "stream",
          "text": [
            "['', ' sa', ' ', 'vir EIA to', '']\n"
          ],
          "name": "stdout"
        }
      ]
    },
    {
      "cell_type": "markdown",
      "metadata": {
        "id": "CoonBWIrPFt9"
      },
      "source": [
        "Como hemos visto las mayúsculas es una de las cosas que muchas veces afecta para la identificación, uno puede hacer un patrón para buscar mayúsculas explícitamente, depende de lo que usted esté buscando o llevar a minúsculas todo el texto."
      ]
    },
    {
      "cell_type": "code",
      "metadata": {
        "id": "lf_Z4f_UPFOZ",
        "colab": {
          "base_uri": "https://localhost:8080/",
          "height": 34
        },
        "outputId": "9563933f-b09a-496a-a3a4-a5c934226adc"
      },
      "source": [
        "match=re.split('.E.',text) # Aquí el patrón no lo reconoce porque está por líneas delante de la E no hay otro caracter\n",
        "print(match)"
      ],
      "execution_count": null,
      "outputs": [
        {
          "output_type": "stream",
          "text": [
            "['ser\\nsaber\\nservir\\nEIA\\ntoser']\n"
          ],
          "name": "stdout"
        }
      ]
    },
    {
      "cell_type": "code",
      "metadata": {
        "id": "fo_v0wTaPk0N",
        "colab": {
          "base_uri": "https://localhost:8080/",
          "height": 34
        },
        "outputId": "e403daf0-2e30-475e-9d34-41a2f7fcd8f3"
      },
      "source": [
        "match=re.findall('.E.',text2)# Aquí la E tiene un espacio delante que se toma como otro caracter\n",
        "print(match)"
      ],
      "execution_count": null,
      "outputs": [
        {
          "output_type": "stream",
          "text": [
            "[' EI']\n"
          ],
          "name": "stdout"
        }
      ]
    },
    {
      "cell_type": "code",
      "metadata": {
        "id": "UOgVtQXJPn5e",
        "colab": {
          "base_uri": "https://localhost:8080/",
          "height": 34
        },
        "outputId": "1bfea135-947c-4858-e7b2-bab75bd730be"
      },
      "source": [
        "# Llevar a minúsculas\n",
        "text=text.lower()\n",
        "text2=text2.lower()\n",
        "print(re.findall('.e.',text2))"
      ],
      "execution_count": null,
      "outputs": [
        {
          "output_type": "stream",
          "text": [
            "['ser', 'ber', 'ser', ' ei', 'ser']\n"
          ],
          "name": "stdout"
        }
      ]
    },
    {
      "cell_type": "markdown",
      "metadata": {
        "id": "EWv2wEIoQL5w"
      },
      "source": [
        "Para hacer corresponder con el . se debe usar doble \\ : o sea \\\\\\\\\n",
        "\n",
        "Ejemplo:\n",
        "Buscar palabras que tengan un punto entre dos caracteres."
      ]
    },
    {
      "cell_type": "code",
      "metadata": {
        "id": "_qV0QZUtQejV",
        "colab": {
          "base_uri": "https://localhost:8080/",
          "height": 34
        },
        "outputId": "bd73c455-eb19-40f0-8d77-8b71cf7b1d1d"
      },
      "source": [
        "#Todas estas funciones también se le pueden aplicar a una lista\n",
        "listWords=[\"se.co\",\"ca.tx\",\"ejemplo.\"]\n",
        "r = re.compile(\".\\\\..\")\n",
        "newlist = list(filter(r.findall, listWords))\n",
        "newlist"
      ],
      "execution_count": null,
      "outputs": [
        {
          "output_type": "execute_result",
          "data": {
            "text/plain": [
              "['se.co', 'ca.tx']"
            ]
          },
          "metadata": {
            "tags": []
          },
          "execution_count": 184
        }
      ]
    },
    {
      "cell_type": "code",
      "metadata": {
        "id": "pGwiIA8oTTIB",
        "colab": {
          "base_uri": "https://localhost:8080/",
          "height": 34
        },
        "outputId": "c4765097-30a3-4f86-df7d-0b005eef424f"
      },
      "source": [
        "words='\\n'.join(txt for txt in listWords)\n",
        "re.findall(r,words)"
      ],
      "execution_count": null,
      "outputs": [
        {
          "output_type": "execute_result",
          "data": {
            "text/plain": [
              "['e.c', 'a.t']"
            ]
          },
          "metadata": {
            "tags": []
          },
          "execution_count": 187
        }
      ]
    },
    {
      "cell_type": "markdown",
      "metadata": {
        "id": "HipNaNgKasOG"
      },
      "source": [
        "O se puede poner el punto entre corchetes"
      ]
    },
    {
      "cell_type": "code",
      "metadata": {
        "id": "3muJFl7gavYH",
        "colab": {
          "base_uri": "https://localhost:8080/",
          "height": 34
        },
        "outputId": "3abe650b-a519-4025-861f-d6d3b9412524"
      },
      "source": [
        "re.findall('.[.].',words)"
      ],
      "execution_count": null,
      "outputs": [
        {
          "output_type": "execute_result",
          "data": {
            "text/plain": [
              "['e.c', 'a.t']"
            ]
          },
          "metadata": {
            "tags": []
          },
          "execution_count": 188
        }
      ]
    },
    {
      "cell_type": "markdown",
      "metadata": {
        "id": "VPMPh_qrUVEG"
      },
      "source": [
        "\\\\\\\\ : significa uno en una cadena de texto, por eso para buscar igualdad con patrones para hacer corresponder un \\ necesitamos 4:"
      ]
    },
    {
      "cell_type": "code",
      "metadata": {
        "id": "q2JwsK6XUTZn",
        "colab": {
          "base_uri": "https://localhost:8080/",
          "height": 34
        },
        "outputId": "3457a48d-3923-401f-bc45-b6fa43051422"
      },
      "source": [
        "print(\"c:\\\\ejemplo\")"
      ],
      "execution_count": null,
      "outputs": [
        {
          "output_type": "stream",
          "text": [
            "c:\\ejemplo\n"
          ],
          "name": "stdout"
        }
      ]
    },
    {
      "cell_type": "code",
      "metadata": {
        "id": "ee-GUw0rBfHN",
        "colab": {
          "base_uri": "https://localhost:8080/",
          "height": 34
        },
        "outputId": "466180d8-230e-40b0-aeb8-7ce309addc9b"
      },
      "source": [
        "re.findall(\"\\\\\\\\\",\"c:\\\\ejemplo\")"
      ],
      "execution_count": null,
      "outputs": [
        {
          "output_type": "execute_result",
          "data": {
            "text/plain": [
              "['\\\\']"
            ]
          },
          "metadata": {
            "tags": []
          },
          "execution_count": 319
        }
      ]
    },
    {
      "cell_type": "markdown",
      "metadata": {
        "id": "CtCQAVd2U0TS"
      },
      "source": [
        "Para hacer referencia a que busque sólo al inicio(^) o al final ($)\n",
        "\n",
        "Buscar palabras que comiencen con ser."
      ]
    },
    {
      "cell_type": "code",
      "metadata": {
        "id": "TQE8GWnTU-kD",
        "colab": {
          "base_uri": "https://localhost:8080/",
          "height": 35
        },
        "outputId": "b53b946d-2ed1-4301-8ce3-8c16bb60cca9"
      },
      "source": [
        "text"
      ],
      "execution_count": null,
      "outputs": [
        {
          "output_type": "execute_result",
          "data": {
            "application/vnd.google.colaboratory.intrinsic+json": {
              "type": "string"
            },
            "text/plain": [
              "'ser\\nsaber\\nservir\\neia\\ntoser'"
            ]
          },
          "metadata": {
            "tags": []
          },
          "execution_count": 147
        }
      ]
    },
    {
      "cell_type": "code",
      "metadata": {
        "id": "7gE8IXW6UxpU",
        "colab": {
          "base_uri": "https://localhost:8080/",
          "height": 34
        },
        "outputId": "712f4bb1-7152-4634-c0a0-a3297b0fa470"
      },
      "source": [
        "re.findall(\"^s\",text,re.MULTILINE)"
      ],
      "execution_count": null,
      "outputs": [
        {
          "output_type": "execute_result",
          "data": {
            "text/plain": [
              "['s', 's', 's']"
            ]
          },
          "metadata": {
            "tags": []
          },
          "execution_count": 160
        }
      ]
    },
    {
      "cell_type": "code",
      "metadata": {
        "id": "5UcEBcYIXMzJ",
        "colab": {
          "base_uri": "https://localhost:8080/",
          "height": 34
        },
        "outputId": "02be1530-b06d-482e-b3b0-d3ed73eb42d7"
      },
      "source": [
        "re.split(\"^s\",text,0,re.MULTILINE)"
      ],
      "execution_count": null,
      "outputs": [
        {
          "output_type": "execute_result",
          "data": {
            "text/plain": [
              "['', 'er\\n', 'aber\\n', 'ervir\\neia\\ntoser']"
            ]
          },
          "metadata": {
            "tags": []
          },
          "execution_count": 162
        }
      ]
    },
    {
      "cell_type": "markdown",
      "metadata": {
        "id": "pobKRx00WMzr"
      },
      "source": [
        "Palabras que terminen con a"
      ]
    },
    {
      "cell_type": "code",
      "metadata": {
        "id": "y3Eq2ylKWMgZ",
        "colab": {
          "base_uri": "https://localhost:8080/",
          "height": 34
        },
        "outputId": "c862a385-396f-4b4d-e73e-769eec9a81e4"
      },
      "source": [
        "re.findall(\"a$\",text,re.MULTILINE)"
      ],
      "execution_count": null,
      "outputs": [
        {
          "output_type": "execute_result",
          "data": {
            "text/plain": [
              "['a']"
            ]
          },
          "metadata": {
            "tags": []
          },
          "execution_count": 163
        }
      ]
    },
    {
      "cell_type": "markdown",
      "metadata": {
        "id": "psbGO3fdWZbX"
      },
      "source": [
        "Palabra ser exacta"
      ]
    },
    {
      "cell_type": "code",
      "metadata": {
        "id": "nP0Zt0gIWamX",
        "colab": {
          "base_uri": "https://localhost:8080/",
          "height": 34
        },
        "outputId": "00bb3c64-4ae7-4313-c242-69343f9ffa48"
      },
      "source": [
        "re.split(\"^ser$\",text,0,re.MULTILINE)"
      ],
      "execution_count": null,
      "outputs": [
        {
          "output_type": "execute_result",
          "data": {
            "text/plain": [
              "['', '\\nsaber\\nservir\\neia\\ntoser']"
            ]
          },
          "metadata": {
            "tags": []
          },
          "execution_count": 164
        }
      ]
    },
    {
      "cell_type": "markdown",
      "metadata": {
        "id": "x2QvBiBQXxyS"
      },
      "source": [
        "\\\\d: cualquier dígito.\n",
        "\n",
        "\\\\D: (complemento de \\\\d) cualquier caracter que no sea un dígito.\n",
        "\n",
        "\\\\s: cualquier espacio (espacio, tab, cambio de línea).\n",
        "\n",
        "\\\\S: (complemento de \\\\s) cualquier caracter que no seas un espacio.\n",
        "\n",
        "\\\\w: cualquier caracter, incluye alfabeto, números.\n",
        "\n",
        "\\\\W: (complemento de \\\\w) caracter diferente a los de alfabeto y numéricos.\n",
        "\n",
        "\\\\b bordes de las palabras, inicio y fin de palabras.\n",
        "\n",
        "\\\\B (complemento de \\\\b) límites que tienen caracteres de palabras o no palabras en cada lado.\n",
        "\n",
        "\\\\p{nombre propiedad}: cualquier caracter con propiedad Unicode, por ejemplo: \\\\p{Uppercase}"
      ]
    },
    {
      "cell_type": "markdown",
      "metadata": {
        "id": "ywUEvOQeaA07"
      },
      "source": [
        "Ejemplos:\n",
        "\n",
        "1.   [abc]: a, b, o c.\n",
        "1.   [^abc]: cualquiera excepto a, b, o c.\n",
        "1.   [a-z]: todos los caracteres entre la a y la z.\n",
        "\n",
        "También se puede poner los caracteres especiales entre corchetes.\n",
        "\n",
        "Si necesitamos más de un patrón, utilice |.\n",
        "\n",
        "Ejemplo:\n",
        "Buscar palabras que tengan *se* o *sa* en text"
      ]
    },
    {
      "cell_type": "code",
      "metadata": {
        "id": "LqXKJDv96eRt",
        "colab": {
          "base_uri": "https://localhost:8080/",
          "height": 34
        },
        "outputId": "babe3aa9-3509-40c3-90dc-7bd222c01cd8"
      },
      "source": [
        "re.findall('[^abc]','Probando beber')"
      ],
      "execution_count": null,
      "outputs": [
        {
          "output_type": "execute_result",
          "data": {
            "text/plain": [
              "['P', 'r', 'o', 'n', 'd', 'o', ' ', 'e', 'e', 'r']"
            ]
          },
          "metadata": {
            "tags": []
          },
          "execution_count": 322
        }
      ]
    },
    {
      "cell_type": "code",
      "metadata": {
        "id": "CHjlGjRga_YG",
        "colab": {
          "base_uri": "https://localhost:8080/",
          "height": 34
        },
        "outputId": "fa163a34-21a1-4135-b4e4-26675cde98c9"
      },
      "source": [
        "re.findall('se|sa', text)"
      ],
      "execution_count": null,
      "outputs": [
        {
          "output_type": "execute_result",
          "data": {
            "text/plain": [
              "['se', 'sa', 'se', 'se']"
            ]
          },
          "metadata": {
            "tags": []
          },
          "execution_count": 177
        }
      ]
    },
    {
      "cell_type": "code",
      "metadata": {
        "id": "Os914n-D7ARP",
        "colab": {
          "base_uri": "https://localhost:8080/",
          "height": 35
        },
        "outputId": "65f7e663-99ac-4e32-bcfa-a584c36dc96e"
      },
      "source": [
        "text"
      ],
      "execution_count": null,
      "outputs": [
        {
          "output_type": "execute_result",
          "data": {
            "application/vnd.google.colaboratory.intrinsic+json": {
              "type": "string"
            },
            "text/plain": [
              "'ser\\nsaber\\nservir\\neia\\ntoser'"
            ]
          },
          "metadata": {
            "tags": []
          },
          "execution_count": 323
        }
      ]
    },
    {
      "cell_type": "code",
      "metadata": {
        "id": "vZeBm9tKbn6v",
        "colab": {
          "base_uri": "https://localhost:8080/",
          "height": 34
        },
        "outputId": "ed1d1151-2ece-4384-fb64-40422513bd9a"
      },
      "source": [
        "re.findall('s[e|a]', text)"
      ],
      "execution_count": null,
      "outputs": [
        {
          "output_type": "execute_result",
          "data": {
            "text/plain": [
              "['se', 'sa', 'se', 'se']"
            ]
          },
          "metadata": {
            "tags": []
          },
          "execution_count": 182
        }
      ]
    },
    {
      "cell_type": "markdown",
      "metadata": {
        "id": "GK8SxILacHDc"
      },
      "source": [
        "Si es sólo las que comiencen con se o sa:"
      ]
    },
    {
      "cell_type": "code",
      "metadata": {
        "id": "HPLJY4IRb_Fa",
        "colab": {
          "base_uri": "https://localhost:8080/",
          "height": 34
        },
        "outputId": "70d389ff-0ce9-4695-da71-03ca2d4e4fbb"
      },
      "source": [
        "re.findall('^s[e|a]', text,re.MULTILINE)"
      ],
      "execution_count": null,
      "outputs": [
        {
          "output_type": "execute_result",
          "data": {
            "text/plain": [
              "['se', 'sa', 'se']"
            ]
          },
          "metadata": {
            "tags": []
          },
          "execution_count": 183
        }
      ]
    },
    {
      "cell_type": "markdown",
      "metadata": {
        "id": "JzyrDpWTcKfx"
      },
      "source": [
        "Por ejemplo, busque palabras que tengan un punto entre dos caracteres o al final de la palabra en las siguientes cadenas \"se.co\",\"ca.tx\",\"ejemplo.\""
      ]
    },
    {
      "cell_type": "code",
      "metadata": {
        "id": "DJ-cRWEF7eqD"
      },
      "source": [
        "lista=[\"se.co\",\"ca.tx\",\"ejemplo.\"]"
      ],
      "execution_count": null,
      "outputs": []
    },
    {
      "cell_type": "code",
      "metadata": {
        "id": "WMywbPQKcOIf",
        "colab": {
          "base_uri": "https://localhost:8080/",
          "height": 67
        },
        "outputId": "a7b49472-ca9d-4a4e-e30d-3cc194b9fa62"
      },
      "source": [
        "print(words)"
      ],
      "execution_count": null,
      "outputs": [
        {
          "output_type": "stream",
          "text": [
            "se.co\n",
            "ca.tx\n",
            "ejemplo.\n"
          ],
          "name": "stdout"
        }
      ]
    },
    {
      "cell_type": "code",
      "metadata": {
        "id": "VyqPZ7bnchOe",
        "colab": {
          "base_uri": "https://localhost:8080/",
          "height": 34
        },
        "outputId": "7d1843bd-0040-4f89-e4f4-a240c91f1bcb"
      },
      "source": [
        "re.findall(\"(.[.](.|$))\",words,re.MULTILINE)"
      ],
      "execution_count": null,
      "outputs": [
        {
          "output_type": "execute_result",
          "data": {
            "text/plain": [
              "[('e.c', 'c'), ('a.t', 't'), ('o.', '')]"
            ]
          },
          "metadata": {
            "tags": []
          },
          "execution_count": 192
        }
      ]
    },
    {
      "cell_type": "code",
      "metadata": {
        "id": "xZYCXSUi9WWP",
        "colab": {
          "base_uri": "https://localhost:8080/",
          "height": 34
        },
        "outputId": "4a36e2da-c85d-4d71-de4e-4ca3bc49c4ce"
      },
      "source": [
        "re.split(\".[.](.|$)\",words,re.MULTILINE)"
      ],
      "execution_count": null,
      "outputs": [
        {
          "output_type": "execute_result",
          "data": {
            "text/plain": [
              "['s', 'c', 'o\\nc', 't', 'x\\nejempl', '', '']"
            ]
          },
          "metadata": {
            "tags": []
          },
          "execution_count": 332
        }
      ]
    },
    {
      "cell_type": "markdown",
      "metadata": {
        "id": "Bo86cGXvdaIq"
      },
      "source": [
        "En el patrón que se cree se puede especificar la cantidas de veces que el patrón se repite:\n",
        "\n",
        "?: 0 o 1.\n",
        "\n",
        "+: 1 o más.\n",
        "\n",
        "∗: 0 o más."
      ]
    },
    {
      "cell_type": "markdown",
      "metadata": {
        "id": "XUlom5zFeAiw"
      },
      "source": [
        "Tenga en cuenta además que estas funciones no encuentran superposición de patrones"
      ]
    },
    {
      "cell_type": "code",
      "metadata": {
        "id": "MN9D-0NwdWoT",
        "colab": {
          "base_uri": "https://localhost:8080/",
          "height": 34
        },
        "outputId": "56c8276f-ae14-45de-a877-8ae8e6d6ee1f"
      },
      "source": [
        "cadena=\"1887: MDCCCCCLXXXVII\"\n",
        "re.findall(\"CC?\",cadena)"
      ],
      "execution_count": null,
      "outputs": [
        {
          "output_type": "execute_result",
          "data": {
            "text/plain": [
              "['CC', 'CC', 'C']"
            ]
          },
          "metadata": {
            "tags": []
          },
          "execution_count": 333
        }
      ]
    },
    {
      "cell_type": "code",
      "metadata": {
        "id": "-xHGqpopeJiA",
        "colab": {
          "base_uri": "https://localhost:8080/",
          "height": 34
        },
        "outputId": "2fcd0fee-8b0a-4846-a8e0-201d1a979bac"
      },
      "source": [
        "re.split(\"CC?\",cadena)"
      ],
      "execution_count": null,
      "outputs": [
        {
          "output_type": "execute_result",
          "data": {
            "text/plain": [
              "['1887: MD', '', '', 'LXXXVII']"
            ]
          },
          "metadata": {
            "tags": []
          },
          "execution_count": 202
        }
      ]
    },
    {
      "cell_type": "code",
      "metadata": {
        "id": "JV7tKLV4eW8Z",
        "colab": {
          "base_uri": "https://localhost:8080/",
          "height": 34
        },
        "outputId": "5c011f1e-2183-406e-bd09-b5761b8c8cdb"
      },
      "source": [
        "re.split('C+[LX]+',cadena)"
      ],
      "execution_count": null,
      "outputs": [
        {
          "output_type": "execute_result",
          "data": {
            "text/plain": [
              "['1887: MD', 'VII']"
            ]
          },
          "metadata": {
            "tags": []
          },
          "execution_count": 203
        }
      ]
    },
    {
      "cell_type": "code",
      "metadata": {
        "id": "TT1IwtHlBA9m",
        "colab": {
          "base_uri": "https://localhost:8080/",
          "height": 34
        },
        "outputId": "1cd11d28-0505-4023-aef8-40bb6feafda8"
      },
      "source": [
        "re.findall(r'(C+(LX)+)',cadena)"
      ],
      "execution_count": null,
      "outputs": [
        {
          "output_type": "execute_result",
          "data": {
            "text/plain": [
              "[('CCCCCLX', 'LX')]"
            ]
          },
          "metadata": {
            "tags": []
          },
          "execution_count": 337
        }
      ]
    },
    {
      "cell_type": "code",
      "metadata": {
        "id": "uByVx-44BW39",
        "colab": {
          "base_uri": "https://localhost:8080/",
          "height": 35
        },
        "outputId": "a8068916-660c-4718-f06d-f91e45bc8a0d"
      },
      "source": [
        "cadena"
      ],
      "execution_count": null,
      "outputs": [
        {
          "output_type": "execute_result",
          "data": {
            "application/vnd.google.colaboratory.intrinsic+json": {
              "type": "string"
            },
            "text/plain": [
              "'1887: MDCCCCCLXXXVII'"
            ]
          },
          "metadata": {
            "tags": []
          },
          "execution_count": 338
        }
      ]
    },
    {
      "cell_type": "code",
      "metadata": {
        "id": "gDTd_Ou3COJy",
        "colab": {
          "base_uri": "https://localhost:8080/",
          "height": 35
        },
        "outputId": "59472eaa-292e-4f6f-f0fb-54ceaa231492"
      },
      "source": [
        "re.search(r'C+(LX)+',cadena).group(1)"
      ],
      "execution_count": null,
      "outputs": [
        {
          "output_type": "execute_result",
          "data": {
            "application/vnd.google.colaboratory.intrinsic+json": {
              "type": "string"
            },
            "text/plain": [
              "'LX'"
            ]
          },
          "metadata": {
            "tags": []
          },
          "execution_count": 342
        }
      ]
    },
    {
      "cell_type": "code",
      "metadata": {
        "id": "jGZDdqRiecJZ",
        "colab": {
          "base_uri": "https://localhost:8080/",
          "height": 34
        },
        "outputId": "f287f05a-4a9b-4b47-8723-c0dba0d1ee6d"
      },
      "source": [
        "re.split(r'C+(LX)+',cadena)"
      ],
      "execution_count": null,
      "outputs": [
        {
          "output_type": "execute_result",
          "data": {
            "text/plain": [
              "['1887: MD', 'LX', 'XXVII']"
            ]
          },
          "metadata": {
            "tags": []
          },
          "execution_count": 339
        }
      ]
    },
    {
      "cell_type": "markdown",
      "metadata": {
        "id": "2rMnffLgtuvz"
      },
      "source": [
        "Patrón para dígitos en un texto"
      ]
    },
    {
      "cell_type": "code",
      "metadata": {
        "id": "GfAJM1dSt38p",
        "colab": {
          "base_uri": "https://localhost:8080/",
          "height": 34
        },
        "outputId": "9afbc2b2-7115-425c-8ca3-808752b3dc5f"
      },
      "source": [
        "pattern=r'\\d+'\n",
        "re.findall(pattern, 'Probando los dígitos 2, 4.5 y los otros 100 que puedan haber')"
      ],
      "execution_count": null,
      "outputs": [
        {
          "output_type": "execute_result",
          "data": {
            "text/plain": [
              "['2', '4', '5', '100']"
            ]
          },
          "metadata": {
            "tags": []
          },
          "execution_count": 343
        }
      ]
    },
    {
      "cell_type": "code",
      "metadata": {
        "id": "k-f1OwQKEAoR",
        "colab": {
          "base_uri": "https://localhost:8080/",
          "height": 34
        },
        "outputId": "0fd39589-d567-46b2-8163-c4345356a74b"
      },
      "source": [
        "t='ab5.6e. El 45 es un número. Hay 2 con 1.5.. .6 un'\n",
        "re.findall(r'\\d*[.]?\\d+',t)"
      ],
      "execution_count": null,
      "outputs": [
        {
          "output_type": "execute_result",
          "data": {
            "text/plain": [
              "['5.6', '45', '2', '1.5', '.6']"
            ]
          },
          "metadata": {
            "tags": []
          },
          "execution_count": 351
        }
      ]
    },
    {
      "cell_type": "markdown",
      "metadata": {
        "id": "dxfpfo_2gUSa"
      },
      "source": [
        "Pero si necesito reconocer también los número decimales?:\n",
        "\n",
        "Pruébela en este texto:\n",
        "\n",
        "ab5.6e. El 45 es un número. Hay 2 con 1.5.\n",
        "\n",
        "\n",
        "\n"
      ]
    },
    {
      "cell_type": "code",
      "metadata": {
        "id": "TviR5y5TgvMg",
        "colab": {
          "base_uri": "https://localhost:8080/",
          "height": 34
        },
        "outputId": "068860fe-7120-4067-c288-873e051d0640"
      },
      "source": [
        "t='ab5.6e. El 45 es un número. Hay 2 con 1.5.'\n",
        "match=re.findall('\\d+\\.?\\d*',t)\n",
        "match"
      ],
      "execution_count": null,
      "outputs": [
        {
          "output_type": "execute_result",
          "data": {
            "text/plain": [
              "['5.6', '45', '2', '1.5']"
            ]
          },
          "metadata": {
            "tags": []
          },
          "execution_count": 241
        }
      ]
    },
    {
      "cell_type": "markdown",
      "metadata": {
        "id": "ZdAh2GQ4hJzu"
      },
      "source": [
        "### Agrupando referencias\n",
        "\n",
        "Los paréntesis también ayudan a crear referencia a patrones. Cada grupo se referencia luego según el orden de izquierda a derecha como \\\\1 , \\\\ 2, y así sucesivamente. Se puede referir al mismo texto haciendo refencia al grupo creado.\n",
        "\n",
        "Ejemplo: Busque palabras con pares de letras repetidas, consecutivas"
      ]
    },
    {
      "cell_type": "code",
      "metadata": {
        "id": "N0pt-KRZhQlF",
        "colab": {
          "base_uri": "https://localhost:8080/",
          "height": 34
        },
        "outputId": "9eaff795-5b03-4248-82d3-81b7814d9b6b"
      },
      "source": [
        "listP=[\"banana\", \"papa\", \"saber\", \"coco\", \"beber\", \"noche\", \"conozco\"]\n",
        "pattern=re.compile('(..)\\\\1')\n",
        "newlist = list(filter(pattern.findall, listP))\n",
        "newlist"
      ],
      "execution_count": null,
      "outputs": [
        {
          "output_type": "execute_result",
          "data": {
            "text/plain": [
              "['banana', 'papa', 'coco', 'beber']"
            ]
          },
          "metadata": {
            "tags": []
          },
          "execution_count": 263
        }
      ]
    },
    {
      "cell_type": "markdown",
      "metadata": {
        "id": "na_N6P7Mh1RY"
      },
      "source": [
        "Estas funciones aplicadas directamente tienen la forma de sacar los grupos. Por ejemplo findall da la lista de los grupos. Search da los grupos en group()"
      ]
    },
    {
      "cell_type": "code",
      "metadata": {
        "id": "BHIAjTy3l6Z7",
        "colab": {
          "base_uri": "https://localhost:8080/",
          "height": 34
        },
        "outputId": "efe655b8-e925-4ac9-bc5d-dfec1002f03a"
      },
      "source": [
        "print(newlist)"
      ],
      "execution_count": null,
      "outputs": [
        {
          "output_type": "stream",
          "text": [
            "['banana', 'papa', 'coco', 'beber']\n"
          ],
          "name": "stdout"
        }
      ]
    },
    {
      "cell_type": "code",
      "metadata": {
        "id": "YCD4KOxnh0i4",
        "colab": {
          "base_uri": "https://localhost:8080/",
          "height": 34
        },
        "outputId": "475749c8-fd31-4eea-ba96-13a17f7319d9"
      },
      "source": [
        "wordsP='\\n'.join(l for l in listP)\n",
        "p = re.compile(r'(..)\\1')\n",
        "p.findall(wordsP)"
      ],
      "execution_count": null,
      "outputs": [
        {
          "output_type": "execute_result",
          "data": {
            "text/plain": [
              "['an', 'pa', 'co', 'be']"
            ]
          },
          "metadata": {
            "tags": []
          },
          "execution_count": 271
        }
      ]
    },
    {
      "cell_type": "code",
      "metadata": {
        "id": "x66SpKnOIEm9",
        "colab": {
          "base_uri": "https://localhost:8080/",
          "height": 134
        },
        "outputId": "36108a8c-274a-4332-cf67-7d5a0f08b40d"
      },
      "source": [
        "print(wordsP)"
      ],
      "execution_count": null,
      "outputs": [
        {
          "output_type": "stream",
          "text": [
            "banana\n",
            "papa\n",
            "saber\n",
            "coco\n",
            "beber\n",
            "noche\n",
            "conozco\n"
          ],
          "name": "stdout"
        }
      ]
    },
    {
      "cell_type": "markdown",
      "metadata": {
        "id": "rhlSgdHrmeeZ"
      },
      "source": [
        "Ejemplo: \n",
        "Palabras que tengas pares de letras repetidas, no consecutivamente"
      ]
    },
    {
      "cell_type": "code",
      "metadata": {
        "id": "ZIdeuF3qmd31",
        "colab": {
          "base_uri": "https://localhost:8080/",
          "height": 151
        },
        "outputId": "4dc26eb6-6f81-4340-c2b3-0dedb317b860"
      },
      "source": [
        "print(wordsP)\n",
        "p = re.compile(r'(..)\\w+\\1')\n",
        "p.split(wordsP)"
      ],
      "execution_count": null,
      "outputs": [
        {
          "output_type": "stream",
          "text": [
            "banana\n",
            "papa\n",
            "saber\n",
            "coco\n",
            "beber\n",
            "noche\n",
            "conozco\n"
          ],
          "name": "stdout"
        },
        {
          "output_type": "execute_result",
          "data": {
            "text/plain": [
              "['banana\\npapa\\nsaber\\ncoco\\nbeber\\nnoche\\n', 'co', '']"
            ]
          },
          "metadata": {
            "tags": []
          },
          "execution_count": 353
        }
      ]
    },
    {
      "cell_type": "markdown",
      "metadata": {
        "id": "WBcVx-N4oi9P"
      },
      "source": [
        "Palabras que tengas pares de letras repetidas, consecutiva o no consecutivamente"
      ]
    },
    {
      "cell_type": "code",
      "metadata": {
        "id": "HNV0WMdDonb8",
        "colab": {
          "base_uri": "https://localhost:8080/",
          "height": 34
        },
        "outputId": "e8165c25-128b-4080-c6b3-cc1d7d29385d"
      },
      "source": [
        "p=re.compile(r'(..)\\w*\\1')\n",
        "p.findall(wordsP)"
      ],
      "execution_count": null,
      "outputs": [
        {
          "output_type": "execute_result",
          "data": {
            "text/plain": [
              "['an', 'pa', 'co', 'be', 'co']"
            ]
          },
          "metadata": {
            "tags": []
          },
          "execution_count": 354
        }
      ]
    },
    {
      "cell_type": "markdown",
      "metadata": {
        "id": "KQRdNyilpVZy"
      },
      "source": [
        "¿Qué porciento de palabras finaliza con vocal?"
      ]
    },
    {
      "cell_type": "code",
      "metadata": {
        "id": "QyWxnhX-KrkY",
        "colab": {
          "base_uri": "https://localhost:8080/",
          "height": 34
        },
        "outputId": "82ea71a3-e3c2-4e0d-f7fe-e956f94d3608"
      },
      "source": [
        "re.findall(r'[aeiou]$','la prueba de hoy es',re.MULTILINE)"
      ],
      "execution_count": null,
      "outputs": [
        {
          "output_type": "execute_result",
          "data": {
            "text/plain": [
              "[]"
            ]
          },
          "metadata": {
            "tags": []
          },
          "execution_count": 359
        }
      ]
    },
    {
      "cell_type": "code",
      "metadata": {
        "id": "RR2SQC_cpUzZ",
        "colab": {
          "base_uri": "https://localhost:8080/",
          "height": 34
        },
        "outputId": "0f55bd3c-32b0-4e0a-c14e-d44c11f9c4ba"
      },
      "source": [
        "p=re.compile(r'[aeiou]$',re.MULTILINE)\n",
        "len(p.findall(wordsP)) * 100 / float(len(listP))"
      ],
      "execution_count": null,
      "outputs": [
        {
          "output_type": "execute_result",
          "data": {
            "text/plain": [
              "71.42857142857143"
            ]
          },
          "metadata": {
            "tags": []
          },
          "execution_count": 286
        }
      ]
    },
    {
      "cell_type": "markdown",
      "metadata": {
        "id": "z0g6QSYCqrkB"
      },
      "source": [
        "Cantidad de palabras en el texto"
      ]
    },
    {
      "cell_type": "code",
      "metadata": {
        "id": "xPb2oefnqvt5",
        "colab": {
          "base_uri": "https://localhost:8080/",
          "height": 50
        },
        "outputId": "ef1ac643-90a2-47b7-b9c4-189ac5b7bf85"
      },
      "source": [
        "p=re.compile(r'\\b\\w+\\b',re.MULTILINE)\n",
        "w=p.findall('Probando la cantidad 10 de palabras.')\n",
        "print(w)\n",
        "print(len(w))"
      ],
      "execution_count": null,
      "outputs": [
        {
          "output_type": "stream",
          "text": [
            "['Probando', 'la', 'cantidad', '10', 'de', 'palabras']\n",
            "6\n"
          ],
          "name": "stdout"
        }
      ]
    },
    {
      "cell_type": "markdown",
      "metadata": {
        "id": "NZXFkh-zrqya"
      },
      "source": [
        "Ejemplos: Utilizando la lista \n",
        "\n",
        "[\"grrr\",\"palabra\",\"75%\",\"r@mx\", \"analítica\"]\n",
        "\n",
        "1. Palabras que contienen vocal\n",
        "2. Palabras que no contienen ninguna vocal\n",
        "\n"
      ]
    },
    {
      "cell_type": "code",
      "metadata": {
        "id": "MtvO0N6vsB0T",
        "colab": {
          "base_uri": "https://localhost:8080/",
          "height": 34
        },
        "outputId": "3b7cc29a-c546-4765-852e-19a29089c1a0"
      },
      "source": [
        "listaV=[\"grrr\",\"palabra\",\"75%\",\"r@mx\", \"analítica\"]\n",
        "wordsV='\\n'.join(l for l in listaV)\n",
        "re.findall(r'[aeiou]', wordsV)"
      ],
      "execution_count": null,
      "outputs": [
        {
          "output_type": "execute_result",
          "data": {
            "text/plain": [
              "['a', 'a', 'a', 'a', 'a', 'i', 'a']"
            ]
          },
          "metadata": {
            "tags": []
          },
          "execution_count": 293
        }
      ]
    },
    {
      "cell_type": "code",
      "metadata": {
        "id": "7K4g_ZGAs5aH",
        "colab": {
          "base_uri": "https://localhost:8080/",
          "height": 34
        },
        "outputId": "64215548-4a49-45f1-d735-9fefbf870556"
      },
      "source": [
        "pattern=re.compile(r'[aeiou]',re.MULTILINE)\n",
        "newlist = list(filter(pattern.findall, listaV))\n",
        "newlist"
      ],
      "execution_count": null,
      "outputs": [
        {
          "output_type": "execute_result",
          "data": {
            "text/plain": [
              "['palabra', 'analítica']"
            ]
          },
          "metadata": {
            "tags": []
          },
          "execution_count": 295
        }
      ]
    },
    {
      "cell_type": "code",
      "metadata": {
        "id": "w4jHczintKU0",
        "colab": {
          "base_uri": "https://localhost:8080/",
          "height": 34
        },
        "outputId": "08b965f8-85cb-4e18-8f00-48c3e730a496"
      },
      "source": [
        "pattern=re.compile(r'^[^aeiou]+$',re.MULTILINE)\n",
        "newlist = list(filter(pattern.findall, listaV))\n",
        "newlist"
      ],
      "execution_count": null,
      "outputs": [
        {
          "output_type": "execute_result",
          "data": {
            "text/plain": [
              "['grrr', '75%', 'r@mx']"
            ]
          },
          "metadata": {
            "tags": []
          },
          "execution_count": 296
        }
      ]
    },
    {
      "cell_type": "markdown",
      "metadata": {
        "id": "kYjLiEkzwFoG"
      },
      "source": [
        "Se puede especificar también, el número exacto de repeticiones:\n",
        "\n",
        "\n",
        "*   {n}: exactamente n.\n",
        "*   {n, }: n o más.\n",
        "*   {n,m}: entre n y m.\n",
        "\n",
        "Suponga que en la siguiente cadena quiere buscar tres dígitos seguidos de un espacio y dos dígitos más.\n",
        "'44401 3556, 102 00556'"
      ]
    },
    {
      "cell_type": "code",
      "metadata": {
        "id": "7JK721KxwDx6",
        "colab": {
          "base_uri": "https://localhost:8080/",
          "height": 34
        },
        "outputId": "fda388a4-c7f8-4032-c3f2-995fb1eadc43"
      },
      "source": [
        "string = '44401 3556, 102 00 556'\n",
        "pattern = r'\\d{3} \\d{2}' # Acá está cogiendo los tres primeros dígitos sin importar lo que tiene delante\n",
        "match = re.findall(pattern, string)\n",
        "match"
      ],
      "execution_count": null,
      "outputs": [
        {
          "output_type": "execute_result",
          "data": {
            "text/plain": [
              "['401 35', '102 00']"
            ]
          },
          "metadata": {
            "tags": []
          },
          "execution_count": 401
        }
      ]
    },
    {
      "cell_type": "code",
      "metadata": {
        "id": "LVJXFdnCLoxI",
        "colab": {
          "base_uri": "https://localhost:8080/",
          "height": 34
        },
        "outputId": "a9f8893d-7239-42f8-faf7-b33d90bbb3f0"
      },
      "source": [
        "pattern = r'\\b\\d{3} \\d{2}' # Con este estamos garantizando que los sea un número de tres dígitos un espacio y otro número de dos dígitos\n",
        "match = re.findall(pattern, string)\n",
        "match"
      ],
      "execution_count": null,
      "outputs": [
        {
          "output_type": "execute_result",
          "data": {
            "text/plain": [
              "['102 00']"
            ]
          },
          "metadata": {
            "tags": []
          },
          "execution_count": 440
        }
      ]
    },
    {
      "cell_type": "markdown",
      "metadata": {
        "id": "17PD0tU4BgNZ"
      },
      "source": [
        "La biblioteca **re** tiene una función para compilar un patrón *re.compile(pattern, flags=0)*. La ventaja de usar es esta función es poder especificarle el parámetro flags, donde se puede decir si el patrón está en UNICODE, ASCII (re.ASCII).\n",
        "Por ejemplo **re.X**, permite escribir expresiones regulares más cómodamente, con comentarios.\n",
        "\n",
        "Por ejemplo, la expresión regular r\"\\d+\\.\\d*\", se puede escribir como:\n",
        "\n",
        "```\n",
        "a = re.compile(r\"\"\"\\d +  # the integral part\n",
        "                   \\.    # the decimal point\n",
        "                   \\d *  # some fractional digits\"\"\", re.X)\n",
        "```\n",
        "\n"
      ]
    },
    {
      "cell_type": "markdown",
      "metadata": {
        "id": "AU8IlfORPAd4"
      },
      "source": [
        "Haga una expresión regular para teléfonos como estos 514-791-8141, (514)-791-8141, (514) 791 8141, 514 791 8141, 5147918141"
      ]
    },
    {
      "cell_type": "code",
      "metadata": {
        "id": "UMPFoLPiPNS7",
        "colab": {
          "base_uri": "https://localhost:8080/",
          "height": 101
        },
        "outputId": "a4605425-f0cf-47ec-8335-91978dc93a36"
      },
      "source": [
        "p=re.compile(r\"\"\"\n",
        "  \\(?     # paréntesis abierto opcional\n",
        "  (\\d{3}) # código de área\n",
        "  \\)?[- ]?   # paréntesis cerrado opcional, -, o espacio\n",
        "  (\\d{3}) # otros tres números\n",
        "  [ -]?    # espacio o - opcional\n",
        "  (\\d{4}) # otros tres números\n",
        "  $\"\"\",re.X|re.MULTILINE)\n",
        "p.findall(\"514-791-8141\\n (514)-791-8141\\n (514) 791 8141\\n 514 791 8141\\n 5147918141\")"
      ],
      "execution_count": null,
      "outputs": [
        {
          "output_type": "execute_result",
          "data": {
            "text/plain": [
              "[('514', '791', '8141'),\n",
              " ('514', '791', '8141'),\n",
              " ('514', '791', '8141'),\n",
              " ('514', '791', '8141'),\n",
              " ('514', '791', '8141')]"
            ]
          },
          "metadata": {
            "tags": []
          },
          "execution_count": 439
        }
      ]
    },
    {
      "cell_type": "markdown",
      "metadata": {
        "id": "8uRIgkrxuQFw"
      },
      "source": [
        "***re.sub(pattern, replace, string)***: \n",
        "se especifica un patrón de expresión regular en el primer argumento, una nueva cadena en el segundo argumento y una cadena para ser procesada en el tercer argumento.\n",
        "\n",
        "Suponga que tenemos un texto:\n",
        "\"Probando  también \\n   con espacios \\n\"\n",
        "\n",
        "Y queremos quitar los espacios en blanco y sustituirlos por cadena vacía"
      ]
    },
    {
      "cell_type": "code",
      "metadata": {
        "id": "ffDQksVdWYwU",
        "colab": {
          "base_uri": "https://localhost:8080/",
          "height": 34
        },
        "outputId": "9de1f8b8-13e2-4b2b-ecc4-976e4eec18b5"
      },
      "source": [
        "cadena=\"          Probando  también \\n   con espacios \\n por ahora          \"\n",
        "pattern = r'\\s+'\n",
        "sust = ''\n",
        "new_string = re.sub(pattern, sust, cadena) \n",
        "print(new_string)"
      ],
      "execution_count": null,
      "outputs": [
        {
          "output_type": "stream",
          "text": [
            "Probandotambiénconespaciosporahora\n"
          ],
          "name": "stdout"
        }
      ]
    },
    {
      "cell_type": "markdown",
      "metadata": {
        "id": "5m7VSc3IvWvI"
      },
      "source": [
        "Uno le puede especificar la cantidad máxima a remplazar, si está puesto en cero las remplaza todas."
      ]
    },
    {
      "cell_type": "code",
      "metadata": {
        "id": "4zaMWXn7vM6z",
        "colab": {
          "base_uri": "https://localhost:8080/",
          "height": 67
        },
        "outputId": "b3b17725-1f99-4794-b90e-6c674e18b5ca"
      },
      "source": [
        "new_string = re.sub(pattern, sust, cadena, 1) \n",
        "print(new_string)"
      ],
      "execution_count": null,
      "outputs": [
        {
          "output_type": "stream",
          "text": [
            "Probandotambién \n",
            "   con espacios \n",
            " por ahora\n"
          ],
          "name": "stdout"
        }
      ]
    },
    {
      "cell_type": "markdown",
      "metadata": {
        "id": "J3F_xUn9yANF"
      },
      "source": [
        "Si quiero sustituir sólo los espacios de más:"
      ]
    },
    {
      "cell_type": "code",
      "metadata": {
        "id": "aTnGPEOcyEvn",
        "colab": {
          "base_uri": "https://localhost:8080/",
          "height": 50
        },
        "outputId": "f725c3f0-93cb-4304-d856-0e636db349a1"
      },
      "source": [
        "new_string = re.sub(r\"\\s+\",\" \", cadena)\n",
        "print(new_string)\n",
        "len(new_string)"
      ],
      "execution_count": null,
      "outputs": [
        {
          "output_type": "stream",
          "text": [
            " Probando también con espacios por ahora \n"
          ],
          "name": "stdout"
        },
        {
          "output_type": "execute_result",
          "data": {
            "text/plain": [
              "41"
            ]
          },
          "metadata": {
            "tags": []
          },
          "execution_count": 422
        }
      ]
    },
    {
      "cell_type": "markdown",
      "metadata": {
        "id": "qctK7dNeydl9"
      },
      "source": [
        "Cómo hacer para que borre los del inicio y los final?"
      ]
    },
    {
      "cell_type": "code",
      "metadata": {
        "id": "zzywqt_I5sgI",
        "colab": {
          "base_uri": "https://localhost:8080/",
          "height": 50
        },
        "outputId": "cd67d3e1-5c58-4050-a582-a4d6854f3b6c"
      },
      "source": [
        "new_string = re.sub(r\"^\\s+|\\s+$\",\"\", new_string)\n",
        "print(new_string)\n",
        "len(new_string)"
      ],
      "execution_count": null,
      "outputs": [
        {
          "output_type": "stream",
          "text": [
            "Probando también con espacios por ahora\n"
          ],
          "name": "stdout"
        },
        {
          "output_type": "execute_result",
          "data": {
            "text/plain": [
              "39"
            ]
          },
          "metadata": {
            "tags": []
          },
          "execution_count": 424
        }
      ]
    },
    {
      "cell_type": "markdown",
      "metadata": {
        "id": "PjtjZFOavfTq"
      },
      "source": [
        "re.subn(): Es similar a la anterior sólo que devuelve una tupla con la cantidad que remplazó"
      ]
    },
    {
      "cell_type": "code",
      "metadata": {
        "id": "Tby6OfGdvoj2",
        "colab": {
          "base_uri": "https://localhost:8080/",
          "height": 34
        },
        "outputId": "55c165e9-a820-4c5b-8abf-4ff6d1dec75e"
      },
      "source": [
        "new_string = re.subn(pattern, sust, cadena) \n",
        "print(new_string)"
      ],
      "execution_count": null,
      "outputs": [
        {
          "output_type": "stream",
          "text": [
            "('Probandotambiénconespaciosporahora', 5)\n"
          ],
          "name": "stdout"
        }
      ]
    },
    {
      "cell_type": "markdown",
      "metadata": {
        "id": "OOE2txCN5Vra"
      },
      "source": [
        "Hacer una expresión regular para reconocer sustantivos, suponga que vamos a reconocer aquellos que están detrás de un artículo: el, la, los, las, un, una, unos"
      ]
    },
    {
      "cell_type": "code",
      "metadata": {
        "id": "Hqwel6HzXLKK"
      },
      "source": [
        "texto=[\"Todos somos aficionados. La vida es tan corta que no da para más.\", \"Si no sueltas el pasado, ¿con qué mano agarras el futuro?\", \"Para ser feliz hay que vivir en guerra con las propias pasiones y en paz con las de los demás.\", \"¿Amas la vida? Pues no desperdicies el tiempo, porque es la sustancia de la que está hecho\", \"Hay dos maneras de vivir la vida: una como si nada fuese un milagro, la otra como si todo fuese un milagro.\"]\n",
        "textoW=' '.join(t for t in texto)\n",
        "textoW=textoW.lower()"
      ],
      "execution_count": null,
      "outputs": []
    },
    {
      "cell_type": "code",
      "metadata": {
        "id": "YRKwCIpfX0sK",
        "colab": {
          "base_uri": "https://localhost:8080/",
          "height": 269
        },
        "outputId": "9b5615ff-4b3f-4711-80f6-cc3bd8d9bc19"
      },
      "source": [
        "a=[\"el\", \"la\", \"los\", \"las\", \"un\", \"una\", \"unos\",\"unas\"]\n",
        "p='|'.join(t for t in a)\n",
        "p='('+p+')'+' ([a-z|A-Z]+)'\n",
        "re.findall(p,textoW)"
      ],
      "execution_count": null,
      "outputs": [
        {
          "output_type": "execute_result",
          "data": {
            "text/plain": [
              "[('la', 'vida'),\n",
              " ('el', 'pasado'),\n",
              " ('el', 'futuro'),\n",
              " ('las', 'propias'),\n",
              " ('las', 'de'),\n",
              " ('los', 'dem'),\n",
              " ('la', 'vida'),\n",
              " ('el', 'tiempo'),\n",
              " ('la', 'sustancia'),\n",
              " ('la', 'que'),\n",
              " ('la', 'vida'),\n",
              " ('una', 'como'),\n",
              " ('un', 'milagro'),\n",
              " ('la', 'otra'),\n",
              " ('un', 'milagro')]"
            ]
          },
          "metadata": {
            "tags": []
          },
          "execution_count": 421
        }
      ]
    }
  ]
}