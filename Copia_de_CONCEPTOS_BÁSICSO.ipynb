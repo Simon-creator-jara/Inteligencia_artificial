{
  "nbformat": 4,
  "nbformat_minor": 0,
  "metadata": {
    "colab": {
      "name": "Copia de CONCEPTOS_BÁSICSO.ipynb",
      "provenance": [],
      "collapsed_sections": [],
      "mount_file_id": "1LsfDNkujVqMjiZ5-ME5BvMP3zvkF1XzO",
      "authorship_tag": "ABX9TyOE5wGBf4yj2I/PvvnMncTp",
      "include_colab_link": true
    },
    "kernelspec": {
      "name": "python3",
      "display_name": "Python 3"
    },
    "language_info": {
      "name": "python"
    }
  },
  "cells": [
    {
      "cell_type": "markdown",
      "metadata": {
        "id": "view-in-github",
        "colab_type": "text"
      },
      "source": [
        "<a href=\"https://colab.research.google.com/github/Simon-creator-jara/Inteligencia_artificial/blob/main/Copia_de_CONCEPTOS_B%C3%81SICSO.ipynb\" target=\"_parent\"><img src=\"https://colab.research.google.com/assets/colab-badge.svg\" alt=\"Open In Colab\"/></a>"
      ]
    },
    {
      "cell_type": "markdown",
      "source": [
        "# Variables y tipos de datos"
      ],
      "metadata": {
        "id": "z1RndxuRGtQ4"
      }
    },
    {
      "cell_type": "code",
      "execution_count": null,
      "metadata": {
        "colab": {
          "base_uri": "https://localhost:8080/"
        },
        "id": "B-yZgGXnFFJ2",
        "outputId": "c3facd25-8ae5-466c-d535-e44accbef943"
      },
      "outputs": [
        {
          "output_type": "stream",
          "name": "stdout",
          "text": [
            "Simon\n",
            "<class 'str'>\n",
            "<class 'float'>\n",
            "<class 'bool'>\n",
            "<class 'complex'>\n"
          ]
        }
      ],
      "source": [
        "nombre= \"Simon\"\n",
        "print(nombre)\n",
        "print(type(nombre))\n",
        "\n",
        "\n",
        "estatura=1.8\n",
        "print(type(estatura))\n",
        "\n",
        "es_estudiante=True\n",
        "print(type(es_estudiante))\n",
        "\n",
        "numero_complejo=0j\n",
        "print(type(numero_complejo))"
      ]
    },
    {
      "cell_type": "markdown",
      "source": [
        "# Construir mensajes para mostrar en pantalla"
      ],
      "metadata": {
        "id": "mEZQ3XV1KC56"
      }
    },
    {
      "cell_type": "code",
      "source": [
        "print(\"Mi nombre es: \" + nombre)\n",
        "print(\"Mi estatura es: \" + str(estatura))\n",
        "print(\"¿es estudainte? \" + str(es_estudiante))\n",
        "print(\"Número complejo: \" + str(numero_complejo))"
      ],
      "metadata": {
        "colab": {
          "base_uri": "https://localhost:8080/"
        },
        "id": "Jvp-hgZ7IQ3U",
        "outputId": "721d2087-4d18-4ee5-95aa-8482abd32c66"
      },
      "execution_count": null,
      "outputs": [
        {
          "output_type": "stream",
          "name": "stdout",
          "text": [
            "Mi nombre es: Simon\n",
            "Mi estatura es: 1.8\n",
            "¿es estudainte? True\n",
            "Número complejo: 0j\n"
          ]
        }
      ]
    },
    {
      "cell_type": "code",
      "source": [
        "print(f\"Mi nombre es {nombre} Mi estatura es {estatura}\")\n",
        "print(\"Mi nombre es {} Mi estatura es {}\".format(nombre,estatura))\n",
        "print(\"Mi nombre es {nombre} Mi estatura es {estatura}\".format(nombre=nombre,estatura=estatura))"
      ],
      "metadata": {
        "colab": {
          "base_uri": "https://localhost:8080/"
        },
        "id": "-ZgEh5jONqTf",
        "outputId": "a8679a8c-221f-497c-ed21-1e9f012fa94c"
      },
      "execution_count": null,
      "outputs": [
        {
          "output_type": "stream",
          "name": "stdout",
          "text": [
            "Mi nombre es Simon Mi estatura es 1.8\n",
            "Mi nombre es Simon Mi estatura es 1.8\n",
            "Mi nombre es Simon Mi estatura es 1.8\n"
          ]
        }
      ]
    },
    {
      "cell_type": "code",
      "source": [
        "#caracteres de escape \n",
        "print(f\"Mi nombre es {nombre}\\n\\t Mi estatura es {estatura}\")"
      ],
      "metadata": {
        "colab": {
          "base_uri": "https://localhost:8080/"
        },
        "id": "Im7F8XlnXM6i",
        "outputId": "289d1887-bf05-4047-efb1-b9664431d3ad"
      },
      "execution_count": null,
      "outputs": [
        {
          "output_type": "stream",
          "name": "stdout",
          "text": [
            "Mi nombre es Simon\n",
            "\t Mi estatura es 1.8\n"
          ]
        }
      ]
    },
    {
      "cell_type": "markdown",
      "source": [
        "# Operaciones"
      ],
      "metadata": {
        "id": "S7aGxsNiYB06"
      }
    },
    {
      "cell_type": "code",
      "source": [
        "print(15+7*3 != (5*4/2+8)*2)"
      ],
      "metadata": {
        "colab": {
          "base_uri": "https://localhost:8080/"
        },
        "id": "hEXIn70oYAeo",
        "outputId": "b214ea7e-8e99-4078-ef46-22a835dd3fe4"
      },
      "execution_count": null,
      "outputs": [
        {
          "output_type": "stream",
          "name": "stdout",
          "text": [
            "False\n"
          ]
        }
      ]
    },
    {
      "cell_type": "code",
      "source": [
        "numero_1=float(input(\"Ingrese un número real \"))\n",
        "print(type(numero_1))"
      ],
      "metadata": {
        "colab": {
          "base_uri": "https://localhost:8080/"
        },
        "id": "gW3-D-1Aian0",
        "outputId": "0f1c1662-0c35-40f9-a141-23bb225718a2"
      },
      "execution_count": null,
      "outputs": [
        {
          "output_type": "stream",
          "name": "stdout",
          "text": [
            "Ingrese un número real 35.4\n",
            "<class 'float'>\n"
          ]
        }
      ]
    },
    {
      "cell_type": "code",
      "source": [
        "masa=float(input(\"Ingrese su peso (Kg): \"))\n",
        "estatura=float(input(\"Ingrese su estatura (m): \"))\n",
        "imc=masa/estatura**2\n",
        "print(f\"sU imc es: {imc}\")"
      ],
      "metadata": {
        "colab": {
          "base_uri": "https://localhost:8080/"
        },
        "id": "Qkji6XM4j9mn",
        "outputId": "377eb1c1-9537-4144-b890-514ada06f91d"
      },
      "execution_count": null,
      "outputs": [
        {
          "output_type": "stream",
          "name": "stdout",
          "text": [
            "Ingrese su peso (Kg): 75\n",
            "Ingrese su estatura (m): 1.80\n",
            "sU imc es: 23.148148148148145\n"
          ]
        }
      ]
    },
    {
      "cell_type": "code",
      "source": [
        "peso=float(input(\"Cantidad de dinero ($): \"))\n",
        "\n",
        "dollar=peso/4000\n",
        "print(f\"su equivalencia en dólares es: {dollar} \")"
      ],
      "metadata": {
        "colab": {
          "base_uri": "https://localhost:8080/"
        },
        "id": "G0PXCZQckmOf",
        "outputId": "34ede475-b058-4dc7-d23b-12ae5e2f4f6e"
      },
      "execution_count": null,
      "outputs": [
        {
          "output_type": "stream",
          "name": "stdout",
          "text": [
            "Cantidad de dinero ($): 2000\n",
            "su equivalencia en dólares es: 0.5\n"
          ]
        }
      ]
    }
  ]
}