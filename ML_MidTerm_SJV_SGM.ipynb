{
  "cells": [
    {
      "cell_type": "markdown",
      "metadata": {
        "id": "view-in-github",
        "colab_type": "text"
      },
      "source": [
        "<a href=\"https://colab.research.google.com/github/Simon-creator-jara/Inteligencia_artificial/blob/main/ML_MidTerm_SJV_SGM.ipynb\" target=\"_parent\"><img src=\"https://colab.research.google.com/assets/colab-badge.svg\" alt=\"Open In Colab\"/></a>"
      ]
    },
    {
      "cell_type": "markdown",
      "metadata": {
        "id": "yQnzhjED0iVE"
      },
      "source": [
        "### Trabajo Midterm Simón Jaramillo y Simón Gómez"
      ]
    },
    {
      "cell_type": "code",
      "source": [
        "import pandas as pd\n",
        "import numpy as np\n",
        "import matplotlib.pyplot as plt\n",
        "import statsmodels.api as sm\n",
        "import seaborn as sns\n",
        "from sklearn.linear_model import LinearRegression\n",
        "sns.set_theme(style=\"ticks\", color_codes=True)\n",
        "import warnings \n",
        "warnings.filterwarnings('ignore')"
      ],
      "metadata": {
        "id": "ZTNjpKU_NENY"
      },
      "execution_count": 69,
      "outputs": []
    },
    {
      "cell_type": "code",
      "source": [
        "#Configurar los gráficos\n",
        "plt.rcParams['figure.figsize']=(16,9)\n",
        "plt.style.use('ggplot')"
      ],
      "metadata": {
        "id": "aFYieZmfDxu9"
      },
      "execution_count": 70,
      "outputs": []
    },
    {
      "cell_type": "markdown",
      "metadata": {
        "id": "z4eoXDfR2QtY"
      },
      "source": [
        "# Regresión\n"
      ]
    },
    {
      "cell_type": "markdown",
      "source": [
        "En este problema, se obtendrá una ecuación de regresión que simule o prediga la temperatura según ciertas características naturales y ambientales."
      ],
      "metadata": {
        "id": "icsP0wNyQwh2"
      }
    },
    {
      "cell_type": "code",
      "execution_count": 71,
      "metadata": {
        "id": "r55gA_FT2xEG"
      },
      "outputs": [],
      "source": [
        "df = pd.read_csv(\"Temperature.csv\")"
      ]
    },
    {
      "cell_type": "code",
      "execution_count": 72,
      "metadata": {
        "colab": {
          "base_uri": "https://localhost:8080/",
          "height": 382
        },
        "id": "ox-ptTlx29Lk",
        "outputId": "09594bc9-9793-46c8-9ac5-56e79a063178"
      },
      "outputs": [
        {
          "output_type": "execute_result",
          "data": {
            "text/plain": [
              "            p (mbar)       T (degC)       Tpot (K)    Tdew (degC)  \\\n",
              "count  420551.000000  420551.000000  420551.000000  420551.000000   \n",
              "mean      989.212776       9.450147     283.492743       4.955854   \n",
              "std         8.358481       8.423365       8.504471       6.730674   \n",
              "min       913.600000     -23.010000     250.600000     -25.010000   \n",
              "25%       984.200000       3.360000     277.430000       0.240000   \n",
              "50%       989.580000       9.420000     283.470000       5.220000   \n",
              "75%       994.720000      15.470000     289.530000      10.070000   \n",
              "max      1015.350000      37.280000     311.340000      23.110000   \n",
              "\n",
              "              rh (%)   VPmax (mbar)   VPact (mbar)   VPdef (mbar)  \\\n",
              "count  420551.000000  420551.000000  420551.000000  420551.000000   \n",
              "mean       76.008259      13.576251       9.533756       4.042412   \n",
              "std        16.476175       7.739020       4.184164       4.896851   \n",
              "min        12.950000       0.950000       0.790000       0.000000   \n",
              "25%        65.210000       7.780000       6.210000       0.870000   \n",
              "50%        79.300000      11.820000       8.860000       2.190000   \n",
              "75%        89.400000      17.600000      12.350000       5.300000   \n",
              "max       100.000000      63.770000      28.320000      46.010000   \n",
              "\n",
              "           sh (g/kg)  H2OC (mmol/mol)   rho (g/m**3)       wv (m/s)  \\\n",
              "count  420551.000000    420551.000000  420551.000000  420551.000000   \n",
              "mean        6.022408         9.640223    1216.062748       1.702224   \n",
              "std         2.656139         4.235395      39.975208      65.446714   \n",
              "min         0.500000         0.800000    1059.450000   -9999.000000   \n",
              "25%         3.920000         6.290000    1187.490000       0.990000   \n",
              "50%         5.590000         8.960000    1213.790000       1.760000   \n",
              "75%         7.800000        12.490000    1242.770000       2.860000   \n",
              "max        18.130000        28.820000    1393.540000      28.490000   \n",
              "\n",
              "       max. wv (m/s)       wd (deg)  \n",
              "count  420551.000000  420551.000000  \n",
              "mean        3.056555     174.743738  \n",
              "std        69.016932      86.681693  \n",
              "min     -9999.000000       0.000000  \n",
              "25%         1.760000     124.900000  \n",
              "50%         2.960000     198.100000  \n",
              "75%         4.740000     234.100000  \n",
              "max        23.500000     360.000000  "
            ],
            "text/html": [
              "\n",
              "  <div id=\"df-0978fa63-1e31-4ebc-8948-6c7a1b1d8c7e\">\n",
              "    <div class=\"colab-df-container\">\n",
              "      <div>\n",
              "<style scoped>\n",
              "    .dataframe tbody tr th:only-of-type {\n",
              "        vertical-align: middle;\n",
              "    }\n",
              "\n",
              "    .dataframe tbody tr th {\n",
              "        vertical-align: top;\n",
              "    }\n",
              "\n",
              "    .dataframe thead th {\n",
              "        text-align: right;\n",
              "    }\n",
              "</style>\n",
              "<table border=\"1\" class=\"dataframe\">\n",
              "  <thead>\n",
              "    <tr style=\"text-align: right;\">\n",
              "      <th></th>\n",
              "      <th>p (mbar)</th>\n",
              "      <th>T (degC)</th>\n",
              "      <th>Tpot (K)</th>\n",
              "      <th>Tdew (degC)</th>\n",
              "      <th>rh (%)</th>\n",
              "      <th>VPmax (mbar)</th>\n",
              "      <th>VPact (mbar)</th>\n",
              "      <th>VPdef (mbar)</th>\n",
              "      <th>sh (g/kg)</th>\n",
              "      <th>H2OC (mmol/mol)</th>\n",
              "      <th>rho (g/m**3)</th>\n",
              "      <th>wv (m/s)</th>\n",
              "      <th>max. wv (m/s)</th>\n",
              "      <th>wd (deg)</th>\n",
              "    </tr>\n",
              "  </thead>\n",
              "  <tbody>\n",
              "    <tr>\n",
              "      <th>count</th>\n",
              "      <td>420551.000000</td>\n",
              "      <td>420551.000000</td>\n",
              "      <td>420551.000000</td>\n",
              "      <td>420551.000000</td>\n",
              "      <td>420551.000000</td>\n",
              "      <td>420551.000000</td>\n",
              "      <td>420551.000000</td>\n",
              "      <td>420551.000000</td>\n",
              "      <td>420551.000000</td>\n",
              "      <td>420551.000000</td>\n",
              "      <td>420551.000000</td>\n",
              "      <td>420551.000000</td>\n",
              "      <td>420551.000000</td>\n",
              "      <td>420551.000000</td>\n",
              "    </tr>\n",
              "    <tr>\n",
              "      <th>mean</th>\n",
              "      <td>989.212776</td>\n",
              "      <td>9.450147</td>\n",
              "      <td>283.492743</td>\n",
              "      <td>4.955854</td>\n",
              "      <td>76.008259</td>\n",
              "      <td>13.576251</td>\n",
              "      <td>9.533756</td>\n",
              "      <td>4.042412</td>\n",
              "      <td>6.022408</td>\n",
              "      <td>9.640223</td>\n",
              "      <td>1216.062748</td>\n",
              "      <td>1.702224</td>\n",
              "      <td>3.056555</td>\n",
              "      <td>174.743738</td>\n",
              "    </tr>\n",
              "    <tr>\n",
              "      <th>std</th>\n",
              "      <td>8.358481</td>\n",
              "      <td>8.423365</td>\n",
              "      <td>8.504471</td>\n",
              "      <td>6.730674</td>\n",
              "      <td>16.476175</td>\n",
              "      <td>7.739020</td>\n",
              "      <td>4.184164</td>\n",
              "      <td>4.896851</td>\n",
              "      <td>2.656139</td>\n",
              "      <td>4.235395</td>\n",
              "      <td>39.975208</td>\n",
              "      <td>65.446714</td>\n",
              "      <td>69.016932</td>\n",
              "      <td>86.681693</td>\n",
              "    </tr>\n",
              "    <tr>\n",
              "      <th>min</th>\n",
              "      <td>913.600000</td>\n",
              "      <td>-23.010000</td>\n",
              "      <td>250.600000</td>\n",
              "      <td>-25.010000</td>\n",
              "      <td>12.950000</td>\n",
              "      <td>0.950000</td>\n",
              "      <td>0.790000</td>\n",
              "      <td>0.000000</td>\n",
              "      <td>0.500000</td>\n",
              "      <td>0.800000</td>\n",
              "      <td>1059.450000</td>\n",
              "      <td>-9999.000000</td>\n",
              "      <td>-9999.000000</td>\n",
              "      <td>0.000000</td>\n",
              "    </tr>\n",
              "    <tr>\n",
              "      <th>25%</th>\n",
              "      <td>984.200000</td>\n",
              "      <td>3.360000</td>\n",
              "      <td>277.430000</td>\n",
              "      <td>0.240000</td>\n",
              "      <td>65.210000</td>\n",
              "      <td>7.780000</td>\n",
              "      <td>6.210000</td>\n",
              "      <td>0.870000</td>\n",
              "      <td>3.920000</td>\n",
              "      <td>6.290000</td>\n",
              "      <td>1187.490000</td>\n",
              "      <td>0.990000</td>\n",
              "      <td>1.760000</td>\n",
              "      <td>124.900000</td>\n",
              "    </tr>\n",
              "    <tr>\n",
              "      <th>50%</th>\n",
              "      <td>989.580000</td>\n",
              "      <td>9.420000</td>\n",
              "      <td>283.470000</td>\n",
              "      <td>5.220000</td>\n",
              "      <td>79.300000</td>\n",
              "      <td>11.820000</td>\n",
              "      <td>8.860000</td>\n",
              "      <td>2.190000</td>\n",
              "      <td>5.590000</td>\n",
              "      <td>8.960000</td>\n",
              "      <td>1213.790000</td>\n",
              "      <td>1.760000</td>\n",
              "      <td>2.960000</td>\n",
              "      <td>198.100000</td>\n",
              "    </tr>\n",
              "    <tr>\n",
              "      <th>75%</th>\n",
              "      <td>994.720000</td>\n",
              "      <td>15.470000</td>\n",
              "      <td>289.530000</td>\n",
              "      <td>10.070000</td>\n",
              "      <td>89.400000</td>\n",
              "      <td>17.600000</td>\n",
              "      <td>12.350000</td>\n",
              "      <td>5.300000</td>\n",
              "      <td>7.800000</td>\n",
              "      <td>12.490000</td>\n",
              "      <td>1242.770000</td>\n",
              "      <td>2.860000</td>\n",
              "      <td>4.740000</td>\n",
              "      <td>234.100000</td>\n",
              "    </tr>\n",
              "    <tr>\n",
              "      <th>max</th>\n",
              "      <td>1015.350000</td>\n",
              "      <td>37.280000</td>\n",
              "      <td>311.340000</td>\n",
              "      <td>23.110000</td>\n",
              "      <td>100.000000</td>\n",
              "      <td>63.770000</td>\n",
              "      <td>28.320000</td>\n",
              "      <td>46.010000</td>\n",
              "      <td>18.130000</td>\n",
              "      <td>28.820000</td>\n",
              "      <td>1393.540000</td>\n",
              "      <td>28.490000</td>\n",
              "      <td>23.500000</td>\n",
              "      <td>360.000000</td>\n",
              "    </tr>\n",
              "  </tbody>\n",
              "</table>\n",
              "</div>\n",
              "      <button class=\"colab-df-convert\" onclick=\"convertToInteractive('df-0978fa63-1e31-4ebc-8948-6c7a1b1d8c7e')\"\n",
              "              title=\"Convert this dataframe to an interactive table.\"\n",
              "              style=\"display:none;\">\n",
              "        \n",
              "  <svg xmlns=\"http://www.w3.org/2000/svg\" height=\"24px\"viewBox=\"0 0 24 24\"\n",
              "       width=\"24px\">\n",
              "    <path d=\"M0 0h24v24H0V0z\" fill=\"none\"/>\n",
              "    <path d=\"M18.56 5.44l.94 2.06.94-2.06 2.06-.94-2.06-.94-.94-2.06-.94 2.06-2.06.94zm-11 1L8.5 8.5l.94-2.06 2.06-.94-2.06-.94L8.5 2.5l-.94 2.06-2.06.94zm10 10l.94 2.06.94-2.06 2.06-.94-2.06-.94-.94-2.06-.94 2.06-2.06.94z\"/><path d=\"M17.41 7.96l-1.37-1.37c-.4-.4-.92-.59-1.43-.59-.52 0-1.04.2-1.43.59L10.3 9.45l-7.72 7.72c-.78.78-.78 2.05 0 2.83L4 21.41c.39.39.9.59 1.41.59.51 0 1.02-.2 1.41-.59l7.78-7.78 2.81-2.81c.8-.78.8-2.07 0-2.86zM5.41 20L4 18.59l7.72-7.72 1.47 1.35L5.41 20z\"/>\n",
              "  </svg>\n",
              "      </button>\n",
              "      \n",
              "  <style>\n",
              "    .colab-df-container {\n",
              "      display:flex;\n",
              "      flex-wrap:wrap;\n",
              "      gap: 12px;\n",
              "    }\n",
              "\n",
              "    .colab-df-convert {\n",
              "      background-color: #E8F0FE;\n",
              "      border: none;\n",
              "      border-radius: 50%;\n",
              "      cursor: pointer;\n",
              "      display: none;\n",
              "      fill: #1967D2;\n",
              "      height: 32px;\n",
              "      padding: 0 0 0 0;\n",
              "      width: 32px;\n",
              "    }\n",
              "\n",
              "    .colab-df-convert:hover {\n",
              "      background-color: #E2EBFA;\n",
              "      box-shadow: 0px 1px 2px rgba(60, 64, 67, 0.3), 0px 1px 3px 1px rgba(60, 64, 67, 0.15);\n",
              "      fill: #174EA6;\n",
              "    }\n",
              "\n",
              "    [theme=dark] .colab-df-convert {\n",
              "      background-color: #3B4455;\n",
              "      fill: #D2E3FC;\n",
              "    }\n",
              "\n",
              "    [theme=dark] .colab-df-convert:hover {\n",
              "      background-color: #434B5C;\n",
              "      box-shadow: 0px 1px 3px 1px rgba(0, 0, 0, 0.15);\n",
              "      filter: drop-shadow(0px 1px 2px rgba(0, 0, 0, 0.3));\n",
              "      fill: #FFFFFF;\n",
              "    }\n",
              "  </style>\n",
              "\n",
              "      <script>\n",
              "        const buttonEl =\n",
              "          document.querySelector('#df-0978fa63-1e31-4ebc-8948-6c7a1b1d8c7e button.colab-df-convert');\n",
              "        buttonEl.style.display =\n",
              "          google.colab.kernel.accessAllowed ? 'block' : 'none';\n",
              "\n",
              "        async function convertToInteractive(key) {\n",
              "          const element = document.querySelector('#df-0978fa63-1e31-4ebc-8948-6c7a1b1d8c7e');\n",
              "          const dataTable =\n",
              "            await google.colab.kernel.invokeFunction('convertToInteractive',\n",
              "                                                     [key], {});\n",
              "          if (!dataTable) return;\n",
              "\n",
              "          const docLinkHtml = 'Like what you see? Visit the ' +\n",
              "            '<a target=\"_blank\" href=https://colab.research.google.com/notebooks/data_table.ipynb>data table notebook</a>'\n",
              "            + ' to learn more about interactive tables.';\n",
              "          element.innerHTML = '';\n",
              "          dataTable['output_type'] = 'display_data';\n",
              "          await google.colab.output.renderOutput(dataTable, element);\n",
              "          const docLink = document.createElement('div');\n",
              "          docLink.innerHTML = docLinkHtml;\n",
              "          element.appendChild(docLink);\n",
              "        }\n",
              "      </script>\n",
              "    </div>\n",
              "  </div>\n",
              "  "
            ]
          },
          "metadata": {},
          "execution_count": 72
        }
      ],
      "source": [
        "df.describe()\n",
        "#Como se puede observar, todos los datos están completos."
      ]
    },
    {
      "cell_type": "code",
      "source": [
        "df = df.drop(columns = [\"Date Time\", \"Tdew (degC)\",\"T (degC)\",\"sh (g/kg)\" ])"
      ],
      "metadata": {
        "id": "S5_8WOf---w5"
      },
      "execution_count": 73,
      "outputs": []
    },
    {
      "cell_type": "code",
      "source": [
        "df.head()"
      ],
      "metadata": {
        "colab": {
          "base_uri": "https://localhost:8080/",
          "height": 206
        },
        "id": "2IXeiIfY_cwY",
        "outputId": "b6102a12-bd0e-4194-d876-d654f1fe0f09"
      },
      "execution_count": 74,
      "outputs": [
        {
          "output_type": "execute_result",
          "data": {
            "text/plain": [
              "   p (mbar)  Tpot (K)  rh (%)  VPmax (mbar)  VPact (mbar)  VPdef (mbar)  \\\n",
              "0    996.52    265.40    93.3          3.33          3.11          0.22   \n",
              "1    996.57    265.01    93.4          3.23          3.02          0.21   \n",
              "2    996.53    264.91    93.9          3.21          3.01          0.20   \n",
              "3    996.51    265.12    94.2          3.26          3.07          0.19   \n",
              "4    996.51    265.15    94.1          3.27          3.08          0.19   \n",
              "\n",
              "   H2OC (mmol/mol)  rho (g/m**3)  wv (m/s)  max. wv (m/s)  wd (deg)  \n",
              "0             3.12       1307.75      1.03           1.75     152.3  \n",
              "1             3.03       1309.80      0.72           1.50     136.1  \n",
              "2             3.02       1310.24      0.19           0.63     171.6  \n",
              "3             3.08       1309.19      0.34           0.50     198.0  \n",
              "4             3.09       1309.00      0.32           0.63     214.3  "
            ],
            "text/html": [
              "\n",
              "  <div id=\"df-0997681f-25a5-42c7-8491-e54892cadee6\">\n",
              "    <div class=\"colab-df-container\">\n",
              "      <div>\n",
              "<style scoped>\n",
              "    .dataframe tbody tr th:only-of-type {\n",
              "        vertical-align: middle;\n",
              "    }\n",
              "\n",
              "    .dataframe tbody tr th {\n",
              "        vertical-align: top;\n",
              "    }\n",
              "\n",
              "    .dataframe thead th {\n",
              "        text-align: right;\n",
              "    }\n",
              "</style>\n",
              "<table border=\"1\" class=\"dataframe\">\n",
              "  <thead>\n",
              "    <tr style=\"text-align: right;\">\n",
              "      <th></th>\n",
              "      <th>p (mbar)</th>\n",
              "      <th>Tpot (K)</th>\n",
              "      <th>rh (%)</th>\n",
              "      <th>VPmax (mbar)</th>\n",
              "      <th>VPact (mbar)</th>\n",
              "      <th>VPdef (mbar)</th>\n",
              "      <th>H2OC (mmol/mol)</th>\n",
              "      <th>rho (g/m**3)</th>\n",
              "      <th>wv (m/s)</th>\n",
              "      <th>max. wv (m/s)</th>\n",
              "      <th>wd (deg)</th>\n",
              "    </tr>\n",
              "  </thead>\n",
              "  <tbody>\n",
              "    <tr>\n",
              "      <th>0</th>\n",
              "      <td>996.52</td>\n",
              "      <td>265.40</td>\n",
              "      <td>93.3</td>\n",
              "      <td>3.33</td>\n",
              "      <td>3.11</td>\n",
              "      <td>0.22</td>\n",
              "      <td>3.12</td>\n",
              "      <td>1307.75</td>\n",
              "      <td>1.03</td>\n",
              "      <td>1.75</td>\n",
              "      <td>152.3</td>\n",
              "    </tr>\n",
              "    <tr>\n",
              "      <th>1</th>\n",
              "      <td>996.57</td>\n",
              "      <td>265.01</td>\n",
              "      <td>93.4</td>\n",
              "      <td>3.23</td>\n",
              "      <td>3.02</td>\n",
              "      <td>0.21</td>\n",
              "      <td>3.03</td>\n",
              "      <td>1309.80</td>\n",
              "      <td>0.72</td>\n",
              "      <td>1.50</td>\n",
              "      <td>136.1</td>\n",
              "    </tr>\n",
              "    <tr>\n",
              "      <th>2</th>\n",
              "      <td>996.53</td>\n",
              "      <td>264.91</td>\n",
              "      <td>93.9</td>\n",
              "      <td>3.21</td>\n",
              "      <td>3.01</td>\n",
              "      <td>0.20</td>\n",
              "      <td>3.02</td>\n",
              "      <td>1310.24</td>\n",
              "      <td>0.19</td>\n",
              "      <td>0.63</td>\n",
              "      <td>171.6</td>\n",
              "    </tr>\n",
              "    <tr>\n",
              "      <th>3</th>\n",
              "      <td>996.51</td>\n",
              "      <td>265.12</td>\n",
              "      <td>94.2</td>\n",
              "      <td>3.26</td>\n",
              "      <td>3.07</td>\n",
              "      <td>0.19</td>\n",
              "      <td>3.08</td>\n",
              "      <td>1309.19</td>\n",
              "      <td>0.34</td>\n",
              "      <td>0.50</td>\n",
              "      <td>198.0</td>\n",
              "    </tr>\n",
              "    <tr>\n",
              "      <th>4</th>\n",
              "      <td>996.51</td>\n",
              "      <td>265.15</td>\n",
              "      <td>94.1</td>\n",
              "      <td>3.27</td>\n",
              "      <td>3.08</td>\n",
              "      <td>0.19</td>\n",
              "      <td>3.09</td>\n",
              "      <td>1309.00</td>\n",
              "      <td>0.32</td>\n",
              "      <td>0.63</td>\n",
              "      <td>214.3</td>\n",
              "    </tr>\n",
              "  </tbody>\n",
              "</table>\n",
              "</div>\n",
              "      <button class=\"colab-df-convert\" onclick=\"convertToInteractive('df-0997681f-25a5-42c7-8491-e54892cadee6')\"\n",
              "              title=\"Convert this dataframe to an interactive table.\"\n",
              "              style=\"display:none;\">\n",
              "        \n",
              "  <svg xmlns=\"http://www.w3.org/2000/svg\" height=\"24px\"viewBox=\"0 0 24 24\"\n",
              "       width=\"24px\">\n",
              "    <path d=\"M0 0h24v24H0V0z\" fill=\"none\"/>\n",
              "    <path d=\"M18.56 5.44l.94 2.06.94-2.06 2.06-.94-2.06-.94-.94-2.06-.94 2.06-2.06.94zm-11 1L8.5 8.5l.94-2.06 2.06-.94-2.06-.94L8.5 2.5l-.94 2.06-2.06.94zm10 10l.94 2.06.94-2.06 2.06-.94-2.06-.94-.94-2.06-.94 2.06-2.06.94z\"/><path d=\"M17.41 7.96l-1.37-1.37c-.4-.4-.92-.59-1.43-.59-.52 0-1.04.2-1.43.59L10.3 9.45l-7.72 7.72c-.78.78-.78 2.05 0 2.83L4 21.41c.39.39.9.59 1.41.59.51 0 1.02-.2 1.41-.59l7.78-7.78 2.81-2.81c.8-.78.8-2.07 0-2.86zM5.41 20L4 18.59l7.72-7.72 1.47 1.35L5.41 20z\"/>\n",
              "  </svg>\n",
              "      </button>\n",
              "      \n",
              "  <style>\n",
              "    .colab-df-container {\n",
              "      display:flex;\n",
              "      flex-wrap:wrap;\n",
              "      gap: 12px;\n",
              "    }\n",
              "\n",
              "    .colab-df-convert {\n",
              "      background-color: #E8F0FE;\n",
              "      border: none;\n",
              "      border-radius: 50%;\n",
              "      cursor: pointer;\n",
              "      display: none;\n",
              "      fill: #1967D2;\n",
              "      height: 32px;\n",
              "      padding: 0 0 0 0;\n",
              "      width: 32px;\n",
              "    }\n",
              "\n",
              "    .colab-df-convert:hover {\n",
              "      background-color: #E2EBFA;\n",
              "      box-shadow: 0px 1px 2px rgba(60, 64, 67, 0.3), 0px 1px 3px 1px rgba(60, 64, 67, 0.15);\n",
              "      fill: #174EA6;\n",
              "    }\n",
              "\n",
              "    [theme=dark] .colab-df-convert {\n",
              "      background-color: #3B4455;\n",
              "      fill: #D2E3FC;\n",
              "    }\n",
              "\n",
              "    [theme=dark] .colab-df-convert:hover {\n",
              "      background-color: #434B5C;\n",
              "      box-shadow: 0px 1px 3px 1px rgba(0, 0, 0, 0.15);\n",
              "      filter: drop-shadow(0px 1px 2px rgba(0, 0, 0, 0.3));\n",
              "      fill: #FFFFFF;\n",
              "    }\n",
              "  </style>\n",
              "\n",
              "      <script>\n",
              "        const buttonEl =\n",
              "          document.querySelector('#df-0997681f-25a5-42c7-8491-e54892cadee6 button.colab-df-convert');\n",
              "        buttonEl.style.display =\n",
              "          google.colab.kernel.accessAllowed ? 'block' : 'none';\n",
              "\n",
              "        async function convertToInteractive(key) {\n",
              "          const element = document.querySelector('#df-0997681f-25a5-42c7-8491-e54892cadee6');\n",
              "          const dataTable =\n",
              "            await google.colab.kernel.invokeFunction('convertToInteractive',\n",
              "                                                     [key], {});\n",
              "          if (!dataTable) return;\n",
              "\n",
              "          const docLinkHtml = 'Like what you see? Visit the ' +\n",
              "            '<a target=\"_blank\" href=https://colab.research.google.com/notebooks/data_table.ipynb>data table notebook</a>'\n",
              "            + ' to learn more about interactive tables.';\n",
              "          element.innerHTML = '';\n",
              "          dataTable['output_type'] = 'display_data';\n",
              "          await google.colab.output.renderOutput(dataTable, element);\n",
              "          const docLink = document.createElement('div');\n",
              "          docLink.innerHTML = docLinkHtml;\n",
              "          element.appendChild(docLink);\n",
              "        }\n",
              "      </script>\n",
              "    </div>\n",
              "  </div>\n",
              "  "
            ]
          },
          "metadata": {},
          "execution_count": 74
        }
      ]
    },
    {
      "cell_type": "code",
      "source": [
        "corr = df.corr()\n",
        "print(corr['Tpot (K)'])"
      ],
      "metadata": {
        "colab": {
          "base_uri": "https://localhost:8080/"
        },
        "id": "ATvmJME7_4_b",
        "outputId": "00c8ec99-fec7-4266-cead-fe0914abbcc0"
      },
      "execution_count": 75,
      "outputs": [
        {
          "output_type": "stream",
          "name": "stdout",
          "text": [
            "p (mbar)          -0.124718\n",
            "Tpot (K)           1.000000\n",
            "rh (%)            -0.567127\n",
            "VPmax (mbar)       0.947293\n",
            "VPact (mbar)       0.866205\n",
            "VPdef (mbar)       0.756962\n",
            "H2OC (mmol/mol)    0.866955\n",
            "rho (g/m**3)      -0.981345\n",
            "wv (m/s)          -0.004195\n",
            "max. wv (m/s)     -0.002224\n",
            "wd (deg)           0.043599\n",
            "Name: Tpot (K), dtype: float64\n"
          ]
        }
      ]
    },
    {
      "cell_type": "markdown",
      "source": [
        "La regresión se hará con las variables Rho, VPAct y H2OC, pues son aquellas con mayor correlación."
      ],
      "metadata": {
        "id": "NSHQ5HosAK-D"
      }
    },
    {
      "cell_type": "code",
      "source": [
        "dflineal = df.loc[:,[\"Tpot (K)\",\"VPact (mbar)\", \"rho (g/m**3)\", \"H2OC (mmol/mol)\"]]\n",
        "dflineal.head()"
      ],
      "metadata": {
        "colab": {
          "base_uri": "https://localhost:8080/",
          "height": 206
        },
        "id": "OLxq12_ZAb2m",
        "outputId": "56205fd5-161c-446d-d100-740bb113d191"
      },
      "execution_count": 76,
      "outputs": [
        {
          "output_type": "execute_result",
          "data": {
            "text/plain": [
              "   Tpot (K)  VPact (mbar)  rho (g/m**3)  H2OC (mmol/mol)\n",
              "0    265.40          3.11       1307.75             3.12\n",
              "1    265.01          3.02       1309.80             3.03\n",
              "2    264.91          3.01       1310.24             3.02\n",
              "3    265.12          3.07       1309.19             3.08\n",
              "4    265.15          3.08       1309.00             3.09"
            ],
            "text/html": [
              "\n",
              "  <div id=\"df-cb0ae517-0263-4626-8bbb-d016101e0bfa\">\n",
              "    <div class=\"colab-df-container\">\n",
              "      <div>\n",
              "<style scoped>\n",
              "    .dataframe tbody tr th:only-of-type {\n",
              "        vertical-align: middle;\n",
              "    }\n",
              "\n",
              "    .dataframe tbody tr th {\n",
              "        vertical-align: top;\n",
              "    }\n",
              "\n",
              "    .dataframe thead th {\n",
              "        text-align: right;\n",
              "    }\n",
              "</style>\n",
              "<table border=\"1\" class=\"dataframe\">\n",
              "  <thead>\n",
              "    <tr style=\"text-align: right;\">\n",
              "      <th></th>\n",
              "      <th>Tpot (K)</th>\n",
              "      <th>VPact (mbar)</th>\n",
              "      <th>rho (g/m**3)</th>\n",
              "      <th>H2OC (mmol/mol)</th>\n",
              "    </tr>\n",
              "  </thead>\n",
              "  <tbody>\n",
              "    <tr>\n",
              "      <th>0</th>\n",
              "      <td>265.40</td>\n",
              "      <td>3.11</td>\n",
              "      <td>1307.75</td>\n",
              "      <td>3.12</td>\n",
              "    </tr>\n",
              "    <tr>\n",
              "      <th>1</th>\n",
              "      <td>265.01</td>\n",
              "      <td>3.02</td>\n",
              "      <td>1309.80</td>\n",
              "      <td>3.03</td>\n",
              "    </tr>\n",
              "    <tr>\n",
              "      <th>2</th>\n",
              "      <td>264.91</td>\n",
              "      <td>3.01</td>\n",
              "      <td>1310.24</td>\n",
              "      <td>3.02</td>\n",
              "    </tr>\n",
              "    <tr>\n",
              "      <th>3</th>\n",
              "      <td>265.12</td>\n",
              "      <td>3.07</td>\n",
              "      <td>1309.19</td>\n",
              "      <td>3.08</td>\n",
              "    </tr>\n",
              "    <tr>\n",
              "      <th>4</th>\n",
              "      <td>265.15</td>\n",
              "      <td>3.08</td>\n",
              "      <td>1309.00</td>\n",
              "      <td>3.09</td>\n",
              "    </tr>\n",
              "  </tbody>\n",
              "</table>\n",
              "</div>\n",
              "      <button class=\"colab-df-convert\" onclick=\"convertToInteractive('df-cb0ae517-0263-4626-8bbb-d016101e0bfa')\"\n",
              "              title=\"Convert this dataframe to an interactive table.\"\n",
              "              style=\"display:none;\">\n",
              "        \n",
              "  <svg xmlns=\"http://www.w3.org/2000/svg\" height=\"24px\"viewBox=\"0 0 24 24\"\n",
              "       width=\"24px\">\n",
              "    <path d=\"M0 0h24v24H0V0z\" fill=\"none\"/>\n",
              "    <path d=\"M18.56 5.44l.94 2.06.94-2.06 2.06-.94-2.06-.94-.94-2.06-.94 2.06-2.06.94zm-11 1L8.5 8.5l.94-2.06 2.06-.94-2.06-.94L8.5 2.5l-.94 2.06-2.06.94zm10 10l.94 2.06.94-2.06 2.06-.94-2.06-.94-.94-2.06-.94 2.06-2.06.94z\"/><path d=\"M17.41 7.96l-1.37-1.37c-.4-.4-.92-.59-1.43-.59-.52 0-1.04.2-1.43.59L10.3 9.45l-7.72 7.72c-.78.78-.78 2.05 0 2.83L4 21.41c.39.39.9.59 1.41.59.51 0 1.02-.2 1.41-.59l7.78-7.78 2.81-2.81c.8-.78.8-2.07 0-2.86zM5.41 20L4 18.59l7.72-7.72 1.47 1.35L5.41 20z\"/>\n",
              "  </svg>\n",
              "      </button>\n",
              "      \n",
              "  <style>\n",
              "    .colab-df-container {\n",
              "      display:flex;\n",
              "      flex-wrap:wrap;\n",
              "      gap: 12px;\n",
              "    }\n",
              "\n",
              "    .colab-df-convert {\n",
              "      background-color: #E8F0FE;\n",
              "      border: none;\n",
              "      border-radius: 50%;\n",
              "      cursor: pointer;\n",
              "      display: none;\n",
              "      fill: #1967D2;\n",
              "      height: 32px;\n",
              "      padding: 0 0 0 0;\n",
              "      width: 32px;\n",
              "    }\n",
              "\n",
              "    .colab-df-convert:hover {\n",
              "      background-color: #E2EBFA;\n",
              "      box-shadow: 0px 1px 2px rgba(60, 64, 67, 0.3), 0px 1px 3px 1px rgba(60, 64, 67, 0.15);\n",
              "      fill: #174EA6;\n",
              "    }\n",
              "\n",
              "    [theme=dark] .colab-df-convert {\n",
              "      background-color: #3B4455;\n",
              "      fill: #D2E3FC;\n",
              "    }\n",
              "\n",
              "    [theme=dark] .colab-df-convert:hover {\n",
              "      background-color: #434B5C;\n",
              "      box-shadow: 0px 1px 3px 1px rgba(0, 0, 0, 0.15);\n",
              "      filter: drop-shadow(0px 1px 2px rgba(0, 0, 0, 0.3));\n",
              "      fill: #FFFFFF;\n",
              "    }\n",
              "  </style>\n",
              "\n",
              "      <script>\n",
              "        const buttonEl =\n",
              "          document.querySelector('#df-cb0ae517-0263-4626-8bbb-d016101e0bfa button.colab-df-convert');\n",
              "        buttonEl.style.display =\n",
              "          google.colab.kernel.accessAllowed ? 'block' : 'none';\n",
              "\n",
              "        async function convertToInteractive(key) {\n",
              "          const element = document.querySelector('#df-cb0ae517-0263-4626-8bbb-d016101e0bfa');\n",
              "          const dataTable =\n",
              "            await google.colab.kernel.invokeFunction('convertToInteractive',\n",
              "                                                     [key], {});\n",
              "          if (!dataTable) return;\n",
              "\n",
              "          const docLinkHtml = 'Like what you see? Visit the ' +\n",
              "            '<a target=\"_blank\" href=https://colab.research.google.com/notebooks/data_table.ipynb>data table notebook</a>'\n",
              "            + ' to learn more about interactive tables.';\n",
              "          element.innerHTML = '';\n",
              "          dataTable['output_type'] = 'display_data';\n",
              "          await google.colab.output.renderOutput(dataTable, element);\n",
              "          const docLink = document.createElement('div');\n",
              "          docLink.innerHTML = docLinkHtml;\n",
              "          element.appendChild(docLink);\n",
              "        }\n",
              "      </script>\n",
              "    </div>\n",
              "  </div>\n",
              "  "
            ]
          },
          "metadata": {},
          "execution_count": 76
        }
      ]
    },
    {
      "cell_type": "code",
      "source": [
        "corr = dflineal.corr()\n",
        "corr.style.background_gradient(cmap='coolwarm')"
      ],
      "metadata": {
        "colab": {
          "base_uri": "https://localhost:8080/",
          "height": 175
        },
        "id": "F-e7jyeECsrg",
        "outputId": "00b66bda-9dec-40cb-94de-0b0cd95510e0"
      },
      "execution_count": 77,
      "outputs": [
        {
          "output_type": "execute_result",
          "data": {
            "text/plain": [
              "<pandas.io.formats.style.Styler at 0x7f2bc0af7810>"
            ],
            "text/html": [
              "<style type=\"text/css\">\n",
              "#T_2b7ef_row0_col0, #T_2b7ef_row1_col1, #T_2b7ef_row1_col3, #T_2b7ef_row2_col2, #T_2b7ef_row3_col1, #T_2b7ef_row3_col3 {\n",
              "  background-color: #b40426;\n",
              "  color: #f1f1f1;\n",
              "}\n",
              "#T_2b7ef_row0_col1, #T_2b7ef_row0_col3 {\n",
              "  background-color: #cd423b;\n",
              "  color: #f1f1f1;\n",
              "}\n",
              "#T_2b7ef_row0_col2, #T_2b7ef_row2_col0, #T_2b7ef_row2_col1, #T_2b7ef_row2_col3 {\n",
              "  background-color: #3b4cc0;\n",
              "  color: #f1f1f1;\n",
              "}\n",
              "#T_2b7ef_row1_col0, #T_2b7ef_row3_col0 {\n",
              "  background-color: #cc403a;\n",
              "  color: #f1f1f1;\n",
              "}\n",
              "#T_2b7ef_row1_col2, #T_2b7ef_row3_col2 {\n",
              "  background-color: #4e68d8;\n",
              "  color: #f1f1f1;\n",
              "}\n",
              "</style>\n",
              "<table id=\"T_2b7ef_\" class=\"dataframe\">\n",
              "  <thead>\n",
              "    <tr>\n",
              "      <th class=\"blank level0\" >&nbsp;</th>\n",
              "      <th class=\"col_heading level0 col0\" >Tpot (K)</th>\n",
              "      <th class=\"col_heading level0 col1\" >VPact (mbar)</th>\n",
              "      <th class=\"col_heading level0 col2\" >rho (g/m**3)</th>\n",
              "      <th class=\"col_heading level0 col3\" >H2OC (mmol/mol)</th>\n",
              "    </tr>\n",
              "  </thead>\n",
              "  <tbody>\n",
              "    <tr>\n",
              "      <th id=\"T_2b7ef_level0_row0\" class=\"row_heading level0 row0\" >Tpot (K)</th>\n",
              "      <td id=\"T_2b7ef_row0_col0\" class=\"data row0 col0\" >1.000000</td>\n",
              "      <td id=\"T_2b7ef_row0_col1\" class=\"data row0 col1\" >0.866205</td>\n",
              "      <td id=\"T_2b7ef_row0_col2\" class=\"data row0 col2\" >-0.981345</td>\n",
              "      <td id=\"T_2b7ef_row0_col3\" class=\"data row0 col3\" >0.866955</td>\n",
              "    </tr>\n",
              "    <tr>\n",
              "      <th id=\"T_2b7ef_level0_row1\" class=\"row_heading level0 row1\" >VPact (mbar)</th>\n",
              "      <td id=\"T_2b7ef_row1_col0\" class=\"data row1 col0\" >0.866205</td>\n",
              "      <td id=\"T_2b7ef_row1_col1\" class=\"data row1 col1\" >1.000000</td>\n",
              "      <td id=\"T_2b7ef_row1_col2\" class=\"data row1 col2\" >-0.850241</td>\n",
              "      <td id=\"T_2b7ef_row1_col3\" class=\"data row1 col3\" >0.999856</td>\n",
              "    </tr>\n",
              "    <tr>\n",
              "      <th id=\"T_2b7ef_level0_row2\" class=\"row_heading level0 row2\" >rho (g/m**3)</th>\n",
              "      <td id=\"T_2b7ef_row2_col0\" class=\"data row2 col0\" >-0.981345</td>\n",
              "      <td id=\"T_2b7ef_row2_col1\" class=\"data row2 col1\" >-0.850241</td>\n",
              "      <td id=\"T_2b7ef_row2_col2\" class=\"data row2 col2\" >1.000000</td>\n",
              "      <td id=\"T_2b7ef_row2_col3\" class=\"data row2 col3\" >-0.853769</td>\n",
              "    </tr>\n",
              "    <tr>\n",
              "      <th id=\"T_2b7ef_level0_row3\" class=\"row_heading level0 row3\" >H2OC (mmol/mol)</th>\n",
              "      <td id=\"T_2b7ef_row3_col0\" class=\"data row3 col0\" >0.866955</td>\n",
              "      <td id=\"T_2b7ef_row3_col1\" class=\"data row3 col1\" >0.999856</td>\n",
              "      <td id=\"T_2b7ef_row3_col2\" class=\"data row3 col2\" >-0.853769</td>\n",
              "      <td id=\"T_2b7ef_row3_col3\" class=\"data row3 col3\" >1.000000</td>\n",
              "    </tr>\n",
              "  </tbody>\n",
              "</table>\n"
            ]
          },
          "metadata": {},
          "execution_count": 77
        }
      ]
    },
    {
      "cell_type": "code",
      "source": [
        "dflineal = dflineal.drop(columns = [\"H2OC (mmol/mol)\"])"
      ],
      "metadata": {
        "id": "b_m5PI2pDD8I"
      },
      "execution_count": 78,
      "outputs": []
    },
    {
      "cell_type": "code",
      "source": [
        "dflineal = (dflineal - dflineal.mean())/dflineal.std()"
      ],
      "metadata": {
        "id": "LwaL3sbfDM_P"
      },
      "execution_count": 79,
      "outputs": []
    },
    {
      "cell_type": "code",
      "source": [
        "y = dflineal.loc[:,[\"Tpot (K)\"]]\n",
        "x = dflineal.loc[:,[\"VPact (mbar)\", \"rho (g/m**3)\"]]"
      ],
      "metadata": {
        "id": "jRVDrIt9DRR1"
      },
      "execution_count": 80,
      "outputs": []
    },
    {
      "cell_type": "code",
      "source": [
        "dflineal.rename(columns = {'Tpot (K)':'T', 'VPact (mbar)':'P', 'rho (g/m**3)':'D'}, inplace = True)"
      ],
      "metadata": {
        "id": "rVdPkiUGHxqt"
      },
      "execution_count": 81,
      "outputs": []
    },
    {
      "cell_type": "code",
      "source": [
        "import statsmodels.formula.api as fm\n",
        "regresion1f = fm.ols(formula = 'T ~ P + D', data = dflineal).fit()\n",
        "print(regresion1f.summary())"
      ],
      "metadata": {
        "colab": {
          "base_uri": "https://localhost:8080/"
        },
        "id": "6H_5FZmuFGM3",
        "outputId": "49bec862-f6dd-4e9e-98cf-9ef59376542f"
      },
      "execution_count": 82,
      "outputs": [
        {
          "output_type": "stream",
          "name": "stdout",
          "text": [
            "                            OLS Regression Results                            \n",
            "==============================================================================\n",
            "Dep. Variable:                      T   R-squared:                       0.967\n",
            "Model:                            OLS   Adj. R-squared:                  0.967\n",
            "Method:                 Least Squares   F-statistic:                 6.103e+06\n",
            "Date:                Wed, 06 Jul 2022   Prob (F-statistic):               0.00\n",
            "Time:                        01:10:51   Log-Likelihood:             1.1862e+05\n",
            "No. Observations:              420551   AIC:                        -2.372e+05\n",
            "Df Residuals:                  420548   BIC:                        -2.372e+05\n",
            "Df Model:                           2                                         \n",
            "Covariance Type:            nonrobust                                         \n",
            "==============================================================================\n",
            "                 coef    std err          t      P>|t|      [0.025      0.975]\n",
            "------------------------------------------------------------------------------\n",
            "Intercept   4.241e-15      0.000   1.51e-11      1.000      -0.001       0.001\n",
            "P              0.1149      0.001    214.839      0.000       0.114       0.116\n",
            "D             -0.8837      0.001  -1652.920      0.000      -0.885      -0.883\n",
            "==============================================================================\n",
            "Omnibus:                     3598.332   Durbin-Watson:                   0.002\n",
            "Prob(Omnibus):                  0.000   Jarque-Bera (JB):             3914.227\n",
            "Skew:                          -0.196   Prob(JB):                         0.00\n",
            "Kurtosis:                       3.265   Cond. No.                         3.51\n",
            "==============================================================================\n",
            "\n",
            "Warnings:\n",
            "[1] Standard Errors assume that the covariance matrix of the errors is correctly specified.\n"
          ]
        }
      ]
    },
    {
      "cell_type": "markdown",
      "source": [
        "Como se puede observar, la R es mayor al 95%, por lo tanto se puede afirmar que se obtuvo un modelo bastante preciso."
      ],
      "metadata": {
        "id": "iIyUnIneJl5C"
      }
    },
    {
      "cell_type": "code",
      "source": [
        "dflineal2 = df.loc[:,[\"Tpot (K)\",\"VPact (mbar)\", \"rho (g/m**3)\", \"H2OC (mmol/mol)\"]]"
      ],
      "metadata": {
        "id": "zcdf2H8qIRHz"
      },
      "execution_count": 83,
      "outputs": []
    },
    {
      "cell_type": "code",
      "source": [
        "dflineal2.rename(columns = {'Tpot (K)':'T', 'VPact (mbar)':'P', 'rho (g/m**3)':'D', \"H2OC (mmol/mol)\":\"A\"}, inplace = True)"
      ],
      "metadata": {
        "id": "C8btrAruJ8qp"
      },
      "execution_count": 84,
      "outputs": []
    },
    {
      "cell_type": "code",
      "source": [
        "import statsmodels.formula.api as fm\n",
        "regresion2f = fm.ols(formula = 'T ~ P + D + A', data = dflineal2).fit()\n",
        "print(regresion2f.summary())"
      ],
      "metadata": {
        "colab": {
          "base_uri": "https://localhost:8080/"
        },
        "id": "VzBDTyXYKJcR",
        "outputId": "17c61a81-acbc-416b-e238-8fd482bd82ce"
      },
      "execution_count": 85,
      "outputs": [
        {
          "output_type": "stream",
          "name": "stdout",
          "text": [
            "                            OLS Regression Results                            \n",
            "==============================================================================\n",
            "Dep. Variable:                      T   R-squared:                       0.990\n",
            "Model:                            OLS   Adj. R-squared:                  0.990\n",
            "Method:                 Least Squares   F-statistic:                 1.346e+07\n",
            "Date:                Wed, 06 Jul 2022   Prob (F-statistic):               0.00\n",
            "Time:                        01:10:51   Log-Likelihood:            -5.3500e+05\n",
            "No. Observations:              420551   AIC:                         1.070e+06\n",
            "Df Residuals:                  420547   BIC:                         1.070e+06\n",
            "Df Model:                           3                                         \n",
            "Covariance Type:            nonrobust                                         \n",
            "==============================================================================\n",
            "                 coef    std err          t      P>|t|      [0.025      0.975]\n",
            "------------------------------------------------------------------------------\n",
            "Intercept    545.1688      0.090   6081.123      0.000     544.993     545.345\n",
            "P             19.8832      0.020    979.685      0.000      19.843      19.923\n",
            "D             -0.2154   6.93e-05  -3107.640      0.000      -0.216      -0.215\n",
            "A            -19.6349      0.020   -968.612      0.000     -19.675     -19.595\n",
            "==============================================================================\n",
            "Omnibus:                   100770.454   Durbin-Watson:                   0.020\n",
            "Prob(Omnibus):                  0.000   Jarque-Bera (JB):           522588.285\n",
            "Skew:                           1.064   Prob(JB):                         0.00\n",
            "Kurtosis:                       8.029   Cond. No.                     8.26e+04\n",
            "==============================================================================\n",
            "\n",
            "Warnings:\n",
            "[1] Standard Errors assume that the covariance matrix of the errors is correctly specified.\n",
            "[2] The condition number is large, 8.26e+04. This might indicate that there are\n",
            "strong multicollinearity or other numerical problems.\n"
          ]
        }
      ]
    },
    {
      "cell_type": "code",
      "source": [
        "#Queremos graficar, vamos a sacar la regresión solo con una variable\n",
        "dflineal3 = df.loc[:,[\"Tpot (K)\",\"VPact (mbar)\"]]"
      ],
      "metadata": {
        "id": "PKXaiq61KW3W"
      },
      "execution_count": 86,
      "outputs": []
    },
    {
      "cell_type": "code",
      "source": [
        "dflineal3.rename(columns = {'Tpot (K)':'T', 'VPact (mbar)':'P'}, inplace = True)"
      ],
      "metadata": {
        "id": "yEQu1F6OLdAq"
      },
      "execution_count": 87,
      "outputs": []
    },
    {
      "cell_type": "code",
      "source": [
        "import statsmodels.formula.api as fm\n",
        "regresion3f = fm.ols(formula = 'T ~ P', data = dflineal2).fit()\n",
        "print(regresion3f.summary())"
      ],
      "metadata": {
        "colab": {
          "base_uri": "https://localhost:8080/"
        },
        "id": "nl56_k10LjmH",
        "outputId": "07b17668-8579-4238-dab8-df9d17ea1750"
      },
      "execution_count": 88,
      "outputs": [
        {
          "output_type": "stream",
          "name": "stdout",
          "text": [
            "                            OLS Regression Results                            \n",
            "==============================================================================\n",
            "Dep. Variable:                      T   R-squared:                       0.750\n",
            "Model:                            OLS   Adj. R-squared:                  0.750\n",
            "Method:                 Least Squares   F-statistic:                 1.264e+06\n",
            "Date:                Wed, 06 Jul 2022   Prob (F-statistic):               0.00\n",
            "Time:                        01:10:51   Log-Likelihood:            -1.2052e+06\n",
            "No. Observations:              420551   AIC:                         2.410e+06\n",
            "Df Residuals:                  420549   BIC:                         2.410e+06\n",
            "Df Model:                           1                                         \n",
            "Covariance Type:            nonrobust                                         \n",
            "==============================================================================\n",
            "                 coef    std err          t      P>|t|      [0.025      0.975]\n",
            "------------------------------------------------------------------------------\n",
            "Intercept    266.7077      0.016   1.64e+04      0.000     266.676     266.740\n",
            "P              1.7606      0.002   1124.165      0.000       1.758       1.764\n",
            "==============================================================================\n",
            "Omnibus:                    34652.538   Durbin-Watson:                   0.006\n",
            "Prob(Omnibus):                  0.000   Jarque-Bera (JB):            48994.248\n",
            "Skew:                           0.679   Prob(JB):                         0.00\n",
            "Kurtosis:                       3.974   Cond. No.                         26.1\n",
            "==============================================================================\n",
            "\n",
            "Warnings:\n",
            "[1] Standard Errors assume that the covariance matrix of the errors is correctly specified.\n"
          ]
        }
      ]
    },
    {
      "cell_type": "code",
      "source": [
        "P = dflineal3[\"P\"].to_numpy()\n",
        "T = dflineal3[\"T\"].to_numpy()\n",
        "P =P.reshape(-1,1)\n",
        "red = LinearRegression().fit(P, T)\n",
        "print(f\"El intercepto es {red.intercept_} y el coeficiente es {red.coef_}\")\n",
        "plt.scatter(P,T)\n",
        "xmax = P.max()\n",
        "xmin = P.min()\n",
        "x = np.arange(xmin,xmax,1)\n",
        "ec = 266.7 + 1.76*x\n",
        "plt.plot(x,ec,\"r\")\n",
        "plt.show"
      ],
      "metadata": {
        "colab": {
          "base_uri": "https://localhost:8080/",
          "height": 575
        },
        "id": "m5HMEUJwLsH-",
        "outputId": "3ea28542-3965-4d38-92f9-6677572c23be"
      },
      "execution_count": 89,
      "outputs": [
        {
          "output_type": "stream",
          "name": "stdout",
          "text": [
            "El intercepto es 266.7076610351061 y el coeficiente es [1.76059494]\n"
          ]
        },
        {
          "output_type": "execute_result",
          "data": {
            "text/plain": [
              "<function matplotlib.pyplot.show>"
            ]
          },
          "metadata": {},
          "execution_count": 89
        },
        {
          "output_type": "display_data",
          "data": {
            "text/plain": [
              "<Figure size 1152x648 with 1 Axes>"
            ],
            "image/png": "[encoded data removed]"
          },
          "metadata": {}
        }
      ]
    },
    {
      "cell_type": "markdown",
      "source": [
        "# Clasificación"
      ],
      "metadata": {
        "id": "bw4mEiIHM9B8"
      }
    },
    {
      "cell_type": "markdown",
      "source": [
        "En este problema de clasificación, se construye un algoritmo que pueda clasificar asteroides según su tamaño, velocidad o masa, y pueda predecir si los mismos serán o no peligrosos para el planeta."
      ],
      "metadata": {
        "id": "Krjrsg22Qj8F"
      }
    },
    {
      "cell_type": "code",
      "source": [
        "from sklearn.metrics import confusion_matrix\n",
        "from sklearn.metrics import precision_score"
      ],
      "metadata": {
        "id": "-BqAle0VSeTy"
      },
      "execution_count": 90,
      "outputs": []
    },
    {
      "cell_type": "code",
      "source": [
        "df = pd.read_csv(\"NASA.csv\")"
      ],
      "metadata": {
        "id": "gXMshJ9sMwqU"
      },
      "execution_count": 91,
      "outputs": []
    },
    {
      "cell_type": "code",
      "source": [
        "#Borramos el ID, el nombre y el diámetro min, que con el max es suficiente\n",
        "df = df.drop(columns = [\"id\", \"name\",\"est_diameter_min\" ])"
      ],
      "metadata": {
        "id": "IvZchq6YNLWZ"
      },
      "execution_count": 92,
      "outputs": []
    },
    {
      "cell_type": "code",
      "source": [
        "df[\"orbiting_body\"].unique()"
      ],
      "metadata": {
        "id": "Cdu3gym8OAbB",
        "colab": {
          "base_uri": "https://localhost:8080/"
        },
        "outputId": "804ff9b7-664c-47cf-9789-79ff72bfc769"
      },
      "execution_count": 93,
      "outputs": [
        {
          "output_type": "execute_result",
          "data": {
            "text/plain": [
              "array(['Earth'], dtype=object)"
            ]
          },
          "metadata": {},
          "execution_count": 93
        }
      ]
    },
    {
      "cell_type": "code",
      "source": [
        "df[\"sentry_object\"].unique()"
      ],
      "metadata": {
        "id": "q002Twp0OQjL",
        "colab": {
          "base_uri": "https://localhost:8080/"
        },
        "outputId": "6040e8a0-ae94-44b0-ccf1-4a00b19af93f"
      },
      "execution_count": 94,
      "outputs": [
        {
          "output_type": "execute_result",
          "data": {
            "text/plain": [
              "array([False])"
            ]
          },
          "metadata": {},
          "execution_count": 94
        }
      ]
    },
    {
      "cell_type": "code",
      "source": [
        "#Sentry Object y Orbiting body\n",
        "df = df.drop(columns = [\"orbiting_body\", \"sentry_object\" ])"
      ],
      "metadata": {
        "id": "8Tw4qdJ5OT1W"
      },
      "execution_count": 95,
      "outputs": []
    },
    {
      "cell_type": "code",
      "source": [
        "corr = df.corr()\n",
        "print(corr['hazardous'])"
      ],
      "metadata": {
        "id": "7AvXYQOKOeDj",
        "colab": {
          "base_uri": "https://localhost:8080/"
        },
        "outputId": "df62caa3-ea32-4f2a-9eaa-96c0eeecfa00"
      },
      "execution_count": 96,
      "outputs": [
        {
          "output_type": "stream",
          "name": "stdout",
          "text": [
            "est_diameter_max      0.183363\n",
            "relative_velocity     0.191185\n",
            "miss_distance         0.042302\n",
            "absolute_magnitude   -0.365267\n",
            "hazardous             1.000000\n",
            "Name: hazardous, dtype: float64\n"
          ]
        }
      ]
    },
    {
      "cell_type": "markdown",
      "source": [
        "Aunque la correlación sea débil, vamos a tomar las variables de magnitud absoluta, la velocidad relativa, y el diámetro máximo."
      ],
      "metadata": {
        "id": "GVwrzX7UOuIm"
      }
    },
    {
      "cell_type": "code",
      "source": [
        "df.head()"
      ],
      "metadata": {
        "id": "ywKgBHQJQGWC",
        "colab": {
          "base_uri": "https://localhost:8080/",
          "height": 206
        },
        "outputId": "35402bc3-6e3a-4139-c182-a3e94982d7cc"
      },
      "execution_count": 97,
      "outputs": [
        {
          "output_type": "execute_result",
          "data": {
            "text/plain": [
              "   est_diameter_max  relative_velocity  miss_distance  absolute_magnitude  \\\n",
              "0          2.679415       13569.249224   5.483974e+07               16.73   \n",
              "1          0.594347       73588.726663   6.143813e+07               20.00   \n",
              "2          1.614507      114258.692129   4.979872e+07               17.83   \n",
              "3          0.215794       24764.303138   2.543497e+07               22.20   \n",
              "4          0.570217       42737.733765   4.627557e+07               20.09   \n",
              "\n",
              "   hazardous  \n",
              "0      False  \n",
              "1       True  \n",
              "2      False  \n",
              "3      False  \n",
              "4       True  "
            ],
            "text/html": [
              "\n",
              "  <div id=\"df-17a8e592-1130-4485-80c8-f29b9115172d\">\n",
              "    <div class=\"colab-df-container\">\n",
              "      <div>\n",
              "<style scoped>\n",
              "    .dataframe tbody tr th:only-of-type {\n",
              "        vertical-align: middle;\n",
              "    }\n",
              "\n",
              "    .dataframe tbody tr th {\n",
              "        vertical-align: top;\n",
              "    }\n",
              "\n",
              "    .dataframe thead th {\n",
              "        text-align: right;\n",
              "    }\n",
              "</style>\n",
              "<table border=\"1\" class=\"dataframe\">\n",
              "  <thead>\n",
              "    <tr style=\"text-align: right;\">\n",
              "      <th></th>\n",
              "      <th>est_diameter_max</th>\n",
              "      <th>relative_velocity</th>\n",
              "      <th>miss_distance</th>\n",
              "      <th>absolute_magnitude</th>\n",
              "      <th>hazardous</th>\n",
              "    </tr>\n",
              "  </thead>\n",
              "  <tbody>\n",
              "    <tr>\n",
              "      <th>0</th>\n",
              "      <td>2.679415</td>\n",
              "      <td>13569.249224</td>\n",
              "      <td>5.483974e+07</td>\n",
              "      <td>16.73</td>\n",
              "      <td>False</td>\n",
              "    </tr>\n",
              "    <tr>\n",
              "      <th>1</th>\n",
              "      <td>0.594347</td>\n",
              "      <td>73588.726663</td>\n",
              "      <td>6.143813e+07</td>\n",
              "      <td>20.00</td>\n",
              "      <td>True</td>\n",
              "    </tr>\n",
              "    <tr>\n",
              "      <th>2</th>\n",
              "      <td>1.614507</td>\n",
              "      <td>114258.692129</td>\n",
              "      <td>4.979872e+07</td>\n",
              "      <td>17.83</td>\n",
              "      <td>False</td>\n",
              "    </tr>\n",
              "    <tr>\n",
              "      <th>3</th>\n",
              "      <td>0.215794</td>\n",
              "      <td>24764.303138</td>\n",
              "      <td>2.543497e+07</td>\n",
              "      <td>22.20</td>\n",
              "      <td>False</td>\n",
              "    </tr>\n",
              "    <tr>\n",
              "      <th>4</th>\n",
              "      <td>0.570217</td>\n",
              "      <td>42737.733765</td>\n",
              "      <td>4.627557e+07</td>\n",
              "      <td>20.09</td>\n",
              "      <td>True</td>\n",
              "    </tr>\n",
              "  </tbody>\n",
              "</table>\n",
              "</div>\n",
              "      <button class=\"colab-df-convert\" onclick=\"convertToInteractive('df-17a8e592-1130-4485-80c8-f29b9115172d')\"\n",
              "              title=\"Convert this dataframe to an interactive table.\"\n",
              "              style=\"display:none;\">\n",
              "        \n",
              "  <svg xmlns=\"http://www.w3.org/2000/svg\" height=\"24px\"viewBox=\"0 0 24 24\"\n",
              "       width=\"24px\">\n",
              "    <path d=\"M0 0h24v24H0V0z\" fill=\"none\"/>\n",
              "    <path d=\"M18.56 5.44l.94 2.06.94-2.06 2.06-.94-2.06-.94-.94-2.06-.94 2.06-2.06.94zm-11 1L8.5 8.5l.94-2.06 2.06-.94-2.06-.94L8.5 2.5l-.94 2.06-2.06.94zm10 10l.94 2.06.94-2.06 2.06-.94-2.06-.94-.94-2.06-.94 2.06-2.06.94z\"/><path d=\"M17.41 7.96l-1.37-1.37c-.4-.4-.92-.59-1.43-.59-.52 0-1.04.2-1.43.59L10.3 9.45l-7.72 7.72c-.78.78-.78 2.05 0 2.83L4 21.41c.39.39.9.59 1.41.59.51 0 1.02-.2 1.41-.59l7.78-7.78 2.81-2.81c.8-.78.8-2.07 0-2.86zM5.41 20L4 18.59l7.72-7.72 1.47 1.35L5.41 20z\"/>\n",
              "  </svg>\n",
              "      </button>\n",
              "      \n",
              "  <style>\n",
              "    .colab-df-container {\n",
              "      display:flex;\n",
              "      flex-wrap:wrap;\n",
              "      gap: 12px;\n",
              "    }\n",
              "\n",
              "    .colab-df-convert {\n",
              "      background-color: #E8F0FE;\n",
              "      border: none;\n",
              "      border-radius: 50%;\n",
              "      cursor: pointer;\n",
              "      display: none;\n",
              "      fill: #1967D2;\n",
              "      height: 32px;\n",
              "      padding: 0 0 0 0;\n",
              "      width: 32px;\n",
              "    }\n",
              "\n",
              "    .colab-df-convert:hover {\n",
              "      background-color: #E2EBFA;\n",
              "      box-shadow: 0px 1px 2px rgba(60, 64, 67, 0.3), 0px 1px 3px 1px rgba(60, 64, 67, 0.15);\n",
              "      fill: #174EA6;\n",
              "    }\n",
              "\n",
              "    [theme=dark] .colab-df-convert {\n",
              "      background-color: #3B4455;\n",
              "      fill: #D2E3FC;\n",
              "    }\n",
              "\n",
              "    [theme=dark] .colab-df-convert:hover {\n",
              "      background-color: #434B5C;\n",
              "      box-shadow: 0px 1px 3px 1px rgba(0, 0, 0, 0.15);\n",
              "      filter: drop-shadow(0px 1px 2px rgba(0, 0, 0, 0.3));\n",
              "      fill: #FFFFFF;\n",
              "    }\n",
              "  </style>\n",
              "\n",
              "      <script>\n",
              "        const buttonEl =\n",
              "          document.querySelector('#df-17a8e592-1130-4485-80c8-f29b9115172d button.colab-df-convert');\n",
              "        buttonEl.style.display =\n",
              "          google.colab.kernel.accessAllowed ? 'block' : 'none';\n",
              "\n",
              "        async function convertToInteractive(key) {\n",
              "          const element = document.querySelector('#df-17a8e592-1130-4485-80c8-f29b9115172d');\n",
              "          const dataTable =\n",
              "            await google.colab.kernel.invokeFunction('convertToInteractive',\n",
              "                                                     [key], {});\n",
              "          if (!dataTable) return;\n",
              "\n",
              "          const docLinkHtml = 'Like what you see? Visit the ' +\n",
              "            '<a target=\"_blank\" href=https://colab.research.google.com/notebooks/data_table.ipynb>data table notebook</a>'\n",
              "            + ' to learn more about interactive tables.';\n",
              "          element.innerHTML = '';\n",
              "          dataTable['output_type'] = 'display_data';\n",
              "          await google.colab.output.renderOutput(dataTable, element);\n",
              "          const docLink = document.createElement('div');\n",
              "          docLink.innerHTML = docLinkHtml;\n",
              "          element.appendChild(docLink);\n",
              "        }\n",
              "      </script>\n",
              "    </div>\n",
              "  </div>\n",
              "  "
            ]
          },
          "metadata": {},
          "execution_count": 97
        }
      ]
    },
    {
      "cell_type": "code",
      "source": [
        "df.info()"
      ],
      "metadata": {
        "id": "q7loeUBLVTbP",
        "colab": {
          "base_uri": "https://localhost:8080/"
        },
        "outputId": "deb8740e-692c-4f6b-efc9-b8c1fe30f99b"
      },
      "execution_count": 99,
      "outputs": [
        {
          "output_type": "stream",
          "name": "stdout",
          "text": [
            "<class 'pandas.core.frame.DataFrame'>\n",
            "RangeIndex: 90836 entries, 0 to 90835\n",
            "Data columns (total 5 columns):\n",
            " #   Column              Non-Null Count  Dtype  \n",
            "---  ------              --------------  -----  \n",
            " 0   est_diameter_max    90836 non-null  float64\n",
            " 1   relative_velocity   90836 non-null  float64\n",
            " 2   miss_distance       90836 non-null  float64\n",
            " 3   absolute_magnitude  90836 non-null  float64\n",
            " 4   hazardous           90836 non-null  bool   \n",
            "dtypes: bool(1), float64(4)\n",
            "memory usage: 2.9 MB\n"
          ]
        }
      ]
    },
    {
      "cell_type": "code",
      "source": [
        "#Cambiamos el valor de nuestra variable categórica de salida\n",
        "df[\"hazardous\"] = np.where(df[\"hazardous\"] == False, 0, 1)"
      ],
      "metadata": {
        "id": "02p0iFGzQMSv"
      },
      "execution_count": 100,
      "outputs": []
    },
    {
      "cell_type": "code",
      "source": [
        "df.head()"
      ],
      "metadata": {
        "id": "_rhiOxiAQdfR",
        "colab": {
          "base_uri": "https://localhost:8080/",
          "height": 206
        },
        "outputId": "7904b7cd-c0b0-441e-bd53-38d922b5c532"
      },
      "execution_count": 101,
      "outputs": [
        {
          "output_type": "execute_result",
          "data": {
            "text/plain": [
              "   est_diameter_max  relative_velocity  miss_distance  absolute_magnitude  \\\n",
              "0          2.679415       13569.249224   5.483974e+07               16.73   \n",
              "1          0.594347       73588.726663   6.143813e+07               20.00   \n",
              "2          1.614507      114258.692129   4.979872e+07               17.83   \n",
              "3          0.215794       24764.303138   2.543497e+07               22.20   \n",
              "4          0.570217       42737.733765   4.627557e+07               20.09   \n",
              "\n",
              "   hazardous  \n",
              "0          0  \n",
              "1          1  \n",
              "2          0  \n",
              "3          0  \n",
              "4          1  "
            ],
            "text/html": [
              "\n",
              "  <div id=\"df-b553155d-08b4-4aed-92c9-8cda83a6b472\">\n",
              "    <div class=\"colab-df-container\">\n",
              "      <div>\n",
              "<style scoped>\n",
              "    .dataframe tbody tr th:only-of-type {\n",
              "        vertical-align: middle;\n",
              "    }\n",
              "\n",
              "    .dataframe tbody tr th {\n",
              "        vertical-align: top;\n",
              "    }\n",
              "\n",
              "    .dataframe thead th {\n",
              "        text-align: right;\n",
              "    }\n",
              "</style>\n",
              "<table border=\"1\" class=\"dataframe\">\n",
              "  <thead>\n",
              "    <tr style=\"text-align: right;\">\n",
              "      <th></th>\n",
              "      <th>est_diameter_max</th>\n",
              "      <th>relative_velocity</th>\n",
              "      <th>miss_distance</th>\n",
              "      <th>absolute_magnitude</th>\n",
              "      <th>hazardous</th>\n",
              "    </tr>\n",
              "  </thead>\n",
              "  <tbody>\n",
              "    <tr>\n",
              "      <th>0</th>\n",
              "      <td>2.679415</td>\n",
              "      <td>13569.249224</td>\n",
              "      <td>5.483974e+07</td>\n",
              "      <td>16.73</td>\n",
              "      <td>0</td>\n",
              "    </tr>\n",
              "    <tr>\n",
              "      <th>1</th>\n",
              "      <td>0.594347</td>\n",
              "      <td>73588.726663</td>\n",
              "      <td>6.143813e+07</td>\n",
              "      <td>20.00</td>\n",
              "      <td>1</td>\n",
              "    </tr>\n",
              "    <tr>\n",
              "      <th>2</th>\n",
              "      <td>1.614507</td>\n",
              "      <td>114258.692129</td>\n",
              "      <td>4.979872e+07</td>\n",
              "      <td>17.83</td>\n",
              "      <td>0</td>\n",
              "    </tr>\n",
              "    <tr>\n",
              "      <th>3</th>\n",
              "      <td>0.215794</td>\n",
              "      <td>24764.303138</td>\n",
              "      <td>2.543497e+07</td>\n",
              "      <td>22.20</td>\n",
              "      <td>0</td>\n",
              "    </tr>\n",
              "    <tr>\n",
              "      <th>4</th>\n",
              "      <td>0.570217</td>\n",
              "      <td>42737.733765</td>\n",
              "      <td>4.627557e+07</td>\n",
              "      <td>20.09</td>\n",
              "      <td>1</td>\n",
              "    </tr>\n",
              "  </tbody>\n",
              "</table>\n",
              "</div>\n",
              "      <button class=\"colab-df-convert\" onclick=\"convertToInteractive('df-b553155d-08b4-4aed-92c9-8cda83a6b472')\"\n",
              "              title=\"Convert this dataframe to an interactive table.\"\n",
              "              style=\"display:none;\">\n",
              "        \n",
              "  <svg xmlns=\"http://www.w3.org/2000/svg\" height=\"24px\"viewBox=\"0 0 24 24\"\n",
              "       width=\"24px\">\n",
              "    <path d=\"M0 0h24v24H0V0z\" fill=\"none\"/>\n",
              "    <path d=\"M18.56 5.44l.94 2.06.94-2.06 2.06-.94-2.06-.94-.94-2.06-.94 2.06-2.06.94zm-11 1L8.5 8.5l.94-2.06 2.06-.94-2.06-.94L8.5 2.5l-.94 2.06-2.06.94zm10 10l.94 2.06.94-2.06 2.06-.94-2.06-.94-.94-2.06-.94 2.06-2.06.94z\"/><path d=\"M17.41 7.96l-1.37-1.37c-.4-.4-.92-.59-1.43-.59-.52 0-1.04.2-1.43.59L10.3 9.45l-7.72 7.72c-.78.78-.78 2.05 0 2.83L4 21.41c.39.39.9.59 1.41.59.51 0 1.02-.2 1.41-.59l7.78-7.78 2.81-2.81c.8-.78.8-2.07 0-2.86zM5.41 20L4 18.59l7.72-7.72 1.47 1.35L5.41 20z\"/>\n",
              "  </svg>\n",
              "      </button>\n",
              "      \n",
              "  <style>\n",
              "    .colab-df-container {\n",
              "      display:flex;\n",
              "      flex-wrap:wrap;\n",
              "      gap: 12px;\n",
              "    }\n",
              "\n",
              "    .colab-df-convert {\n",
              "      background-color: #E8F0FE;\n",
              "      border: none;\n",
              "      border-radius: 50%;\n",
              "      cursor: pointer;\n",
              "      display: none;\n",
              "      fill: #1967D2;\n",
              "      height: 32px;\n",
              "      padding: 0 0 0 0;\n",
              "      width: 32px;\n",
              "    }\n",
              "\n",
              "    .colab-df-convert:hover {\n",
              "      background-color: #E2EBFA;\n",
              "      box-shadow: 0px 1px 2px rgba(60, 64, 67, 0.3), 0px 1px 3px 1px rgba(60, 64, 67, 0.15);\n",
              "      fill: #174EA6;\n",
              "    }\n",
              "\n",
              "    [theme=dark] .colab-df-convert {\n",
              "      background-color: #3B4455;\n",
              "      fill: #D2E3FC;\n",
              "    }\n",
              "\n",
              "    [theme=dark] .colab-df-convert:hover {\n",
              "      background-color: #434B5C;\n",
              "      box-shadow: 0px 1px 3px 1px rgba(0, 0, 0, 0.15);\n",
              "      filter: drop-shadow(0px 1px 2px rgba(0, 0, 0, 0.3));\n",
              "      fill: #FFFFFF;\n",
              "    }\n",
              "  </style>\n",
              "\n",
              "      <script>\n",
              "        const buttonEl =\n",
              "          document.querySelector('#df-b553155d-08b4-4aed-92c9-8cda83a6b472 button.colab-df-convert');\n",
              "        buttonEl.style.display =\n",
              "          google.colab.kernel.accessAllowed ? 'block' : 'none';\n",
              "\n",
              "        async function convertToInteractive(key) {\n",
              "          const element = document.querySelector('#df-b553155d-08b4-4aed-92c9-8cda83a6b472');\n",
              "          const dataTable =\n",
              "            await google.colab.kernel.invokeFunction('convertToInteractive',\n",
              "                                                     [key], {});\n",
              "          if (!dataTable) return;\n",
              "\n",
              "          const docLinkHtml = 'Like what you see? Visit the ' +\n",
              "            '<a target=\"_blank\" href=https://colab.research.google.com/notebooks/data_table.ipynb>data table notebook</a>'\n",
              "            + ' to learn more about interactive tables.';\n",
              "          element.innerHTML = '';\n",
              "          dataTable['output_type'] = 'display_data';\n",
              "          await google.colab.output.renderOutput(dataTable, element);\n",
              "          const docLink = document.createElement('div');\n",
              "          docLink.innerHTML = docLinkHtml;\n",
              "          element.appendChild(docLink);\n",
              "        }\n",
              "      </script>\n",
              "    </div>\n",
              "  </div>\n",
              "  "
            ]
          },
          "metadata": {},
          "execution_count": 101
        }
      ]
    },
    {
      "cell_type": "code",
      "source": [
        "df.hist()"
      ],
      "metadata": {
        "colab": {
          "base_uri": "https://localhost:8080/",
          "height": 678
        },
        "id": "fnaCWjS_D_XR",
        "outputId": "a78fdac5-62f4-4e32-d1a0-5bd2e86f3939"
      },
      "execution_count": 133,
      "outputs": [
        {
          "output_type": "execute_result",
          "data": {
            "text/plain": [
              "array([[<matplotlib.axes._subplots.AxesSubplot object at 0x7f2bc0991f50>,\n",
              "        <matplotlib.axes._subplots.AxesSubplot object at 0x7f2bc091fe90>],\n",
              "       [<matplotlib.axes._subplots.AxesSubplot object at 0x7f2bc082bd90>,\n",
              "        <matplotlib.axes._subplots.AxesSubplot object at 0x7f2bc07ef2d0>],\n",
              "       [<matplotlib.axes._subplots.AxesSubplot object at 0x7f2bc07a27d0>,\n",
              "        <matplotlib.axes._subplots.AxesSubplot object at 0x7f2bc07d7cd0>]],\n",
              "      dtype=object)"
            ]
          },
          "metadata": {},
          "execution_count": 133
        },
        {
          "output_type": "display_data",
          "data": {
            "text/plain": [
              "<Figure size 1152x648 with 6 Axes>"
            ],
            "image/png": "[encoded data removed]"
          },
          "metadata": {}
        }
      ]
    },
    {
      "cell_type": "code",
      "source": [
        "#Separamos en X y en Y.\n",
        "y = df.loc[:,[\"hazardous\"] ]\n",
        "x = df.loc[:,[\"relative_velocity\", \"absolute_magnitude\", \"est_diameter_max\"]]\n",
        "x = x / x.max()"
      ],
      "metadata": {
        "id": "19SQA7AgRARs"
      },
      "execution_count": 102,
      "outputs": []
    },
    {
      "cell_type": "code",
      "source": [
        "y[\"hazardous\"].unique()"
      ],
      "metadata": {
        "id": "6PoYdeP9UE66",
        "colab": {
          "base_uri": "https://localhost:8080/"
        },
        "outputId": "bd966675-b6c3-4b9f-e88d-5013fc95d99c"
      },
      "execution_count": 103,
      "outputs": [
        {
          "output_type": "execute_result",
          "data": {
            "text/plain": [
              "array([0, 1])"
            ]
          },
          "metadata": {},
          "execution_count": 103
        }
      ]
    },
    {
      "cell_type": "code",
      "source": [
        "#Separamos en conjunto de prueba y de entrenamiento\n",
        "from sklearn.model_selection import train_test_split\n",
        "x_train, x_test, y_train, y_test = train_test_split(x, y, test_size = 0.2)"
      ],
      "metadata": {
        "id": "slOxSzAtRiQ3"
      },
      "execution_count": 104,
      "outputs": []
    },
    {
      "cell_type": "markdown",
      "source": [
        "La separación de los grupos en entrenamiento y prueba es independiente de qué método se vaya a utilizar."
      ],
      "metadata": {
        "id": "n5RO7z_04dXo"
      }
    },
    {
      "cell_type": "markdown",
      "source": [
        "## Regresión Logística"
      ],
      "metadata": {
        "id": "0QfZPfwY0o-t"
      }
    },
    {
      "cell_type": "code",
      "source": [
        "from sklearn.linear_model import LogisticRegression"
      ],
      "metadata": {
        "id": "7spk2apP2CgN"
      },
      "execution_count": 105,
      "outputs": []
    },
    {
      "cell_type": "code",
      "source": [
        "reg = LogisticRegression()\n",
        "reg.fit(x_train, y_train)"
      ],
      "metadata": {
        "id": "s3qq7lys2qoz",
        "colab": {
          "base_uri": "https://localhost:8080/"
        },
        "outputId": "14ed9fc7-7bc6-4c44-cc2b-684dac5dd84e"
      },
      "execution_count": 106,
      "outputs": [
        {
          "output_type": "execute_result",
          "data": {
            "text/plain": [
              "LogisticRegression()"
            ]
          },
          "metadata": {},
          "execution_count": 106
        }
      ]
    },
    {
      "cell_type": "code",
      "source": [
        "print('Intercepto:', reg.intercept_)\n",
        "print('Coeficiente:', list(zip(x.columns,reg.coef_.flatten())))\n",
        "print('Desempeño en el entrenamiento:', reg.score(x_train,y_train))"
      ],
      "metadata": {
        "colab": {
          "base_uri": "https://localhost:8080/"
        },
        "id": "HT8lTuSiAslV",
        "outputId": "ca30cc85-970a-4b71-e460-222bcb6b54ea"
      },
      "execution_count": 107,
      "outputs": [
        {
          "output_type": "stream",
          "name": "stdout",
          "text": [
            "Intercepto: [8.9191432]\n",
            "Coeficiente: [('relative_velocity', 1.3576992333520728), ('absolute_magnitude', -17.146605123954885), ('est_diameter_max', -15.000228151237305)]\n",
            "Desempeño en el entrenamiento: 0.8947542246931249\n"
          ]
        }
      ]
    },
    {
      "cell_type": "code",
      "source": [
        "probPrediccion = reg.predict_proba(x_train)"
      ],
      "metadata": {
        "id": "N-7uYk-g3XjL"
      },
      "execution_count": 108,
      "outputs": []
    },
    {
      "cell_type": "code",
      "source": [
        "predicciones=reg.predict(x_train)\n",
        "predicciones"
      ],
      "metadata": {
        "id": "AY_UBQRm3ahU",
        "colab": {
          "base_uri": "https://localhost:8080/"
        },
        "outputId": "808e8b06-6631-4dd1-d2cb-868c1aaa0e11"
      },
      "execution_count": 109,
      "outputs": [
        {
          "output_type": "execute_result",
          "data": {
            "text/plain": [
              "array([0, 0, 0, ..., 0, 0, 0])"
            ]
          },
          "metadata": {},
          "execution_count": 109
        }
      ]
    },
    {
      "cell_type": "code",
      "source": [
        "print(\"Desempeño en Prueba: \", reg.score(x_test,y_test))"
      ],
      "metadata": {
        "colab": {
          "base_uri": "https://localhost:8080/"
        },
        "id": "CrPXjPpZ3hvb",
        "outputId": "c4df97b5-59a5-4503-8c36-d7089d693f0f"
      },
      "execution_count": 110,
      "outputs": [
        {
          "output_type": "stream",
          "name": "stdout",
          "text": [
            "Desempeño en Prueba:  0.8949801849405549\n"
          ]
        }
      ]
    },
    {
      "cell_type": "code",
      "source": [
        "prediccionesPru=reg.predict(x_test)\n",
        "prediccionesPru"
      ],
      "metadata": {
        "colab": {
          "base_uri": "https://localhost:8080/"
        },
        "id": "j0KDD3-cAgNo",
        "outputId": "8a255744-a57b-4eec-8128-a4dd5e485561"
      },
      "execution_count": 111,
      "outputs": [
        {
          "output_type": "execute_result",
          "data": {
            "text/plain": [
              "array([0, 0, 0, ..., 0, 0, 0])"
            ]
          },
          "metadata": {},
          "execution_count": 111
        }
      ]
    },
    {
      "cell_type": "markdown",
      "source": [
        "Como el desempeño en la prueba y en el entrenamiento son muy similares y mayores a 0.7, se puede decir que tenemos un modelo ajustado."
      ],
      "metadata": {
        "id": "6TEewlvK4UIX"
      }
    },
    {
      "cell_type": "markdown",
      "source": [
        "## Árboles de Decisión"
      ],
      "metadata": {
        "id": "zWV-mrIcSFDx"
      }
    },
    {
      "cell_type": "code",
      "source": [
        "from sklearn.tree import DecisionTreeClassifier \n",
        "from sklearn.tree import plot_tree\n",
        "from sklearn.tree import export_graphviz\n",
        "from sklearn.tree import export_text\n",
        "from sklearn.metrics import accuracy_score"
      ],
      "metadata": {
        "id": "nuNXuu3FSIdD"
      },
      "execution_count": 112,
      "outputs": []
    },
    {
      "cell_type": "code",
      "source": [
        "#Modelar los datos \n",
        "Tree = DecisionTreeClassifier(max_depth=5,\n",
        "                                criterion='gini',\n",
        "                                random_state=123)\n",
        "Tree.fit(x_train,y_train)"
      ],
      "metadata": {
        "id": "5FDJbJCx7WE5",
        "colab": {
          "base_uri": "https://localhost:8080/"
        },
        "outputId": "ce3227a8-fdcb-49bd-a9c9-727743fa3156"
      },
      "execution_count": 113,
      "outputs": [
        {
          "output_type": "execute_result",
          "data": {
            "text/plain": [
              "DecisionTreeClassifier(max_depth=5, random_state=123)"
            ]
          },
          "metadata": {},
          "execution_count": 113
        }
      ]
    },
    {
      "cell_type": "code",
      "source": [
        "y_predtrain=Tree.predict(x_train)"
      ],
      "metadata": {
        "id": "VVFn3ak08qmx"
      },
      "execution_count": 114,
      "outputs": []
    },
    {
      "cell_type": "code",
      "source": [
        "#Matriz de confusión en entrenamiento\n",
        "matriz = confusion_matrix(y_train, y_predtrain)\n",
        "print(matriz)"
      ],
      "metadata": {
        "colab": {
          "base_uri": "https://localhost:8080/"
        },
        "id": "Sr30HyrPCVut",
        "outputId": "547a2b93-d262-4366-cf5d-7d0d466a0dd3"
      },
      "execution_count": 115,
      "outputs": [
        {
          "output_type": "stream",
          "name": "stdout",
          "text": [
            "[[65450   145]\n",
            " [ 6905   168]]\n"
          ]
        }
      ]
    },
    {
      "cell_type": "code",
      "source": [
        "accuracyEnt = accuracy_score(y_true= y_train,\n",
        "                             y_pred=Tree.predict(x_train))\n",
        "print(f\"El desempeño en entrenamiento es:{accuracyEnt}\")"
      ],
      "metadata": {
        "colab": {
          "base_uri": "https://localhost:8080/"
        },
        "id": "BhDOBiRLCaUX",
        "outputId": "b8f9cfe7-eb8c-4e95-d52f-cf9683e4ef80"
      },
      "execution_count": 116,
      "outputs": [
        {
          "output_type": "stream",
          "name": "stdout",
          "text": [
            "El desempeño en entrenamiento es:0.9029834314966698\n"
          ]
        }
      ]
    },
    {
      "cell_type": "code",
      "source": [
        "##Desempeño en prueba \n",
        "predicciones = Tree.predict(x_test)\n",
        "#Matriz de confusión en prueba \n",
        "print('Matriz de confusión')\n",
        "print('----------------------------------------')\n",
        "confusion_matrix(y_true = y_test,\n",
        "                 y_pred=predicciones)"
      ],
      "metadata": {
        "colab": {
          "base_uri": "https://localhost:8080/"
        },
        "id": "TGX2cA0qCdbT",
        "outputId": "20ee8634-8e86-43a0-939c-af5e741cbcba"
      },
      "execution_count": 117,
      "outputs": [
        {
          "output_type": "stream",
          "name": "stdout",
          "text": [
            "Matriz de confusión\n",
            "----------------------------------------\n"
          ]
        },
        {
          "output_type": "execute_result",
          "data": {
            "text/plain": [
              "array([[16364,    37],\n",
              "       [ 1741,    26]])"
            ]
          },
          "metadata": {},
          "execution_count": 117
        }
      ]
    },
    {
      "cell_type": "code",
      "source": [
        "accuracyEntP = accuracy_score(y_true= y_test,\n",
        "                             y_pred=Tree.predict(x_test))\n",
        "print(f\"El desempeño en prueba es:{accuracyEntP}\")"
      ],
      "metadata": {
        "colab": {
          "base_uri": "https://localhost:8080/"
        },
        "id": "hmt1-fZYChQ7",
        "outputId": "376659a9-882d-43ae-e8f1-e2298ddfaade"
      },
      "execution_count": 118,
      "outputs": [
        {
          "output_type": "stream",
          "name": "stdout",
          "text": [
            "El desempeño en prueba es:0.9021356230735359\n"
          ]
        }
      ]
    },
    {
      "cell_type": "code",
      "source": [
        "labels=x.columns\n",
        "fig,ax=plt.subplots(figsize=(16,9))\n",
        "print(f\"Profundidad del arbol: {Tree.get_depth()}\")\n",
        "print(f\"Número de nodos terminales: {Tree.get_n_leaves()}\")\n",
        "\n",
        "plot = plot_tree(decision_tree = Tree,\n",
        "                feature_names = labels.tolist(),\n",
        "                class_names='hazardous',\n",
        "                filled=True,rounded=True, \n",
        "                impurity=False,\n",
        "                fontsize=12,\n",
        "                ax=ax)"
      ],
      "metadata": {
        "id": "oqESqLzu7toA",
        "colab": {
          "base_uri": "https://localhost:8080/",
          "height": 555
        },
        "outputId": "2f36cad9-fe5a-4905-fc33-4f0d14f51985"
      },
      "execution_count": 119,
      "outputs": [
        {
          "output_type": "stream",
          "name": "stdout",
          "text": [
            "Profundidad del arbol: 5\n",
            "Número de nodos terminales: 28\n"
          ]
        },
        {
          "output_type": "display_data",
          "data": {
            "text/plain": [
              "<Figure size 1152x648 with 1 Axes>"
            ],
            "image/png": "[encoded data removed]"
          },
          "metadata": {}
        }
      ]
    },
    {
      "cell_type": "markdown",
      "source": [
        "Son tan cercanos ambos parámetros de precisión, ambos mayores de 90 además. Podemos entonces aseugrar que el modelo no sufre de sub o sobre ajuste, y es óptimo al menos para esta prueba."
      ],
      "metadata": {
        "id": "0YC2D0N_-6Ob"
      }
    },
    {
      "cell_type": "markdown",
      "source": [
        "## KNN"
      ],
      "metadata": {
        "id": "WTuNKaIKSKKB"
      }
    },
    {
      "cell_type": "code",
      "source": [
        "from sklearn.neighbors import KNeighborsClassifier\n",
        "from sklearn.metrics import accuracy_score"
      ],
      "metadata": {
        "id": "ezg4_HXFSUC3"
      },
      "execution_count": 120,
      "outputs": []
    },
    {
      "cell_type": "code",
      "source": [
        "out=[]\n",
        "for i in range(2,20):\n",
        "  w=KNeighborsClassifier(n_neighbors = i, metric = 'minkowski', p=2)\n",
        "  w.fit(x_train, y_train)\n",
        "  y_predejem = w.predict(x_test)\n",
        "  out.append(1-precision_score(y_test, y_predejem,average='micro'))"
      ],
      "metadata": {
        "id": "ijsY7ZcsSMKl"
      },
      "execution_count": 121,
      "outputs": []
    },
    {
      "cell_type": "code",
      "source": [
        "fig, ax = plt.subplots()\n",
        "ax.plot(list(range(2,20)), out, linewidth=2.0)\n",
        "plt.xlabel(\"Número muestra\", size = 16,)\n",
        "plt.ylabel(\"Error\", size = 16)\n",
        "\n",
        "plt.title(\"ERROR\", \n",
        "          fontdict={'family': 'serif', \n",
        "                    'color' : 'darkblue',\n",
        "                    'weight': 'bold',\n",
        "                    'size': 18})\n",
        "plt.show()"
      ],
      "metadata": {
        "id": "z9lTdJBySsIT",
        "colab": {
          "base_uri": "https://localhost:8080/",
          "height": 579
        },
        "outputId": "eb6efc18-0ec3-4ba5-e00b-6c4aa6947602"
      },
      "execution_count": 122,
      "outputs": [
        {
          "output_type": "display_data",
          "data": {
            "text/plain": [
              "<Figure size 1152x648 with 1 Axes>"
            ],
            "image/png": "[encoded data removed]"
          },
          "metadata": {}
        }
      ]
    },
    {
      "cell_type": "markdown",
      "source": [
        "El número de vecinos que minimiza el error es 16; ese entonces será nuestro hiper parámetro."
      ],
      "metadata": {
        "id": "16Aw3yx8WHZt"
      }
    },
    {
      "cell_type": "code",
      "source": [
        "KNN = KNeighborsClassifier(n_neighbors = 16, metric = 'minkowski', p=2)"
      ],
      "metadata": {
        "id": "OYi8Vh3GTD8n"
      },
      "execution_count": 123,
      "outputs": []
    },
    {
      "cell_type": "code",
      "source": [
        "KNN.fit(x_train, y_train)"
      ],
      "metadata": {
        "id": "uvcoavf4TKYS",
        "colab": {
          "base_uri": "https://localhost:8080/"
        },
        "outputId": "063ed6bd-64fa-480d-c65f-d7df4d12bf9f"
      },
      "execution_count": 124,
      "outputs": [
        {
          "output_type": "execute_result",
          "data": {
            "text/plain": [
              "KNeighborsClassifier(n_neighbors=16)"
            ]
          },
          "metadata": {},
          "execution_count": 124
        }
      ]
    },
    {
      "cell_type": "code",
      "source": [
        "y_pred = KNN.predict(x_train)"
      ],
      "metadata": {
        "id": "h3wsYQB2TL-K"
      },
      "execution_count": 125,
      "outputs": []
    },
    {
      "cell_type": "code",
      "source": [
        "print('Matriz de confusión Entrenamiento')\n",
        "print('----------------------------------------')\n",
        "matriz = confusion_matrix(y_train, y_pred)\n",
        "print(matriz)"
      ],
      "metadata": {
        "id": "r-UxthvwTPDe",
        "colab": {
          "base_uri": "https://localhost:8080/"
        },
        "outputId": "1a1b8c61-e8fd-4ec1-9e4f-09dc464933ea"
      },
      "execution_count": 126,
      "outputs": [
        {
          "output_type": "stream",
          "name": "stdout",
          "text": [
            "Matriz de confusión Entrenamiento\n",
            "----------------------------------------\n",
            "[[65026   569]\n",
            " [ 6166   907]]\n"
          ]
        }
      ]
    },
    {
      "cell_type": "code",
      "source": [
        "accuracyEnt = accuracy_score(y_true= y_train,\n",
        "                             y_pred=KNN.predict(x_train))\n",
        "print(f\"El desempeño en entrenamiento es:{accuracyEnt}\")"
      ],
      "metadata": {
        "colab": {
          "base_uri": "https://localhost:8080/"
        },
        "id": "PO6knyUNyAk9",
        "outputId": "4c6786a8-51cf-4034-eeb9-082fa58a7152"
      },
      "execution_count": 127,
      "outputs": [
        {
          "output_type": "stream",
          "name": "stdout",
          "text": [
            "El desempeño en entrenamiento es:0.907318214344691\n"
          ]
        }
      ]
    },
    {
      "cell_type": "code",
      "source": [
        "precision = precision_score(y_train, y_pred,average='micro')\n",
        "print(precision)"
      ],
      "metadata": {
        "colab": {
          "base_uri": "https://localhost:8080/"
        },
        "id": "MuN90Dr2DahB",
        "outputId": "3432914e-ecf6-4ab4-b9a4-5393b86b993c"
      },
      "execution_count": 128,
      "outputs": [
        {
          "output_type": "stream",
          "name": "stdout",
          "text": [
            "0.907318214344691\n"
          ]
        }
      ]
    },
    {
      "cell_type": "code",
      "source": [
        "y_pred = KNN.predict(x_test)"
      ],
      "metadata": {
        "id": "tFDBp9Oqykz7"
      },
      "execution_count": 129,
      "outputs": []
    },
    {
      "cell_type": "code",
      "source": [
        "print('Matriz de confusión Prueba')\n",
        "print('----------------------------------------')\n",
        "##Desempeño en prueba \n",
        "predicciones = KNN.predict(x_test)\n",
        "#Matriz de confusión en prueba \n",
        "print('----------------------------------------')\n",
        "confusion_matrix(y_true = y_test,\n",
        "                 y_pred=predicciones)"
      ],
      "metadata": {
        "colab": {
          "base_uri": "https://localhost:8080/"
        },
        "id": "3Rrus619yrXS",
        "outputId": "20d9c4b4-a80f-4151-a786-3b57908fddea"
      },
      "execution_count": 130,
      "outputs": [
        {
          "output_type": "stream",
          "name": "stdout",
          "text": [
            "Matriz de confusión Prueba\n",
            "----------------------------------------\n",
            "----------------------------------------\n"
          ]
        },
        {
          "output_type": "execute_result",
          "data": {
            "text/plain": [
              "array([[16213,   188],\n",
              "       [ 1609,   158]])"
            ]
          },
          "metadata": {},
          "execution_count": 130
        }
      ]
    },
    {
      "cell_type": "code",
      "source": [
        "accuracyEntP = accuracy_score(y_true= y_test,\n",
        "                             y_pred=KNN.predict(x_test))\n",
        "print(f\"El desempeño en prueba es:{accuracyEntP}\")"
      ],
      "metadata": {
        "colab": {
          "base_uri": "https://localhost:8080/"
        },
        "id": "XD0vXkEeyvEE",
        "outputId": "fcf16aee-89d4-4b64-fb67-5549827acfb4"
      },
      "execution_count": 131,
      "outputs": [
        {
          "output_type": "stream",
          "name": "stdout",
          "text": [
            "El desempeño en prueba es:0.9010898282694848\n"
          ]
        }
      ]
    },
    {
      "cell_type": "code",
      "source": [
        "precisionP = precision_score(y_test, predicciones,average='micro')\n",
        "print(precisionP)"
      ],
      "metadata": {
        "colab": {
          "base_uri": "https://localhost:8080/"
        },
        "id": "LzUOM1mcDnc5",
        "outputId": "2a954a45-6a46-4970-9af6-e6d2b795646a"
      },
      "execution_count": 132,
      "outputs": [
        {
          "output_type": "stream",
          "name": "stdout",
          "text": [
            "0.9010898282694848\n"
          ]
        }
      ]
    },
    {
      "cell_type": "markdown",
      "source": [
        "Por el nivel de precisión tan alto, no podemos descartar la técnica de KNN (ambas precisiones en prueba y entrenamiento son mayores a 85%, por lo que el modelo está bien ajustado); sin embargo, es importante saber que es complicado utilizar este modelo para conjuntos de datos demasiado grandes."
      ],
      "metadata": {
        "id": "N3KCjbzZXEL4"
      }
    },
    {
      "cell_type": "markdown",
      "source": [
        "## Conclusión"
      ],
      "metadata": {
        "id": "TJcJ0vEqPQan"
      }
    },
    {
      "cell_type": "markdown",
      "source": [
        "Para concluír, se puede observar que las 3 técnicas de clasificación realmente tienen unas precisiones muy similares, lo cuál hace que a nivel de rendimiento, cualquiera de los 3 algoritmos pueda dar la talla. Eso, si nos basamos únicamente en este score."
      ],
      "metadata": {
        "id": "N-ffFz5APbmv"
      }
    },
    {
      "cell_type": "markdown",
      "source": [
        "Como estamos en igualdad de condiciones sobre cuál usar, podemos recurrir a un segundo criterio, que es el de las consideraciones con cada uno de los algoritmos.\n",
        "\n",
        "Si tenemos esto en cuenta, deberíamos descartar el método KNN debido a que el mismo realmente no tiene buena operatividad con grandes conjuntos de datos (este por ejemplo tiene más de 90.000 entradas); además, deberíamos descartar también el algoritmo de árbol de decisión pues con el mismo se corre un muy alto riesgo de entrar en sobre ajuste en la medida que se vaya entrenando el modelo, por lo cuál en estas circunstancias y para este problema de clasificación binaria, aunque quizás sea el peor de los 3 en cuanto a % de precisión, es cierto también que es el más seguro para continuar con el trabajo a nivel general."
      ],
      "metadata": {
        "id": "ZTqG6oZ_RTxA"
      }
    }
  ],
  "metadata": {
    "colab": {
      "name": "ML_MidTerm_SJV_SGM.ipynb",
      "provenance": [],
      "collapsed_sections": [],
      "include_colab_link": true
    },
    "kernelspec": {
      "display_name": "Python 3",
      "name": "python3"
    },
    "language_info": {
      "name": "python"
    }
  },
  "nbformat": 4,
  "nbformat_minor": 0
}