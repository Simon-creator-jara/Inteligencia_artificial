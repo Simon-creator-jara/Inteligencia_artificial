{
  "nbformat": 4,
  "nbformat_minor": 0,
  "metadata": {
    "colab": {
      "name": "PruebaPython.ipynb",
      "provenance": [],
      "collapsed_sections": [],
      "include_colab_link": true
    },
    "kernelspec": {
      "name": "python3",
      "display_name": "Python 3"
    },
    "language_info": {
      "name": "python"
    }
  },
  "cells": [
    {
      "cell_type": "markdown",
      "metadata": {
        "id": "view-in-github",
        "colab_type": "text"
      },
      "source": [
        "<a href=\"https://colab.research.google.com/github/Simon-creator-jara/Inteligencia_artificial/blob/main/PruebaPython.ipynb\" target=\"_parent\"><img src=\"https://colab.research.google.com/assets/colab-badge.svg\" alt=\"Open In Colab\"/></a>"
      ]
    },
    {
      "cell_type": "markdown",
      "source": [
        "# Prueba de Python"
      ],
      "metadata": {
        "id": "OgFMyeW1copr"
      }
    },
    {
      "cell_type": "markdown",
      "source": [
        "Realizar un programa que lea una secuencia de números por teclado. La\n",
        "secuencia finaliza al digitar el valor de -1. Para la secuencia leída el algoritmo debe\n",
        "calcular el promedio de los valores mayores al promedio de la secuencia."
      ],
      "metadata": {
        "id": "N9tTfKYrczcr"
      }
    },
    {
      "cell_type": "code",
      "execution_count": null,
      "metadata": {
        "colab": {
          "base_uri": "https://localhost:8080/"
        },
        "id": "bom5bygDclxJ",
        "outputId": "7e0bf2b6-10ee-48b6-ef50-dea7516b67a8"
      },
      "outputs": [
        {
          "output_type": "stream",
          "name": "stdout",
          "text": [
            "Ingrese un número: 1\n",
            "Ingrese un número: 2\n",
            "Ingrese un número: 0\n",
            "Ingrese un número: 3\n",
            "Ingrese un número: 5\n",
            "Ingrese un número: -1\n",
            "**********RESULTADOS**********\n",
            "La lista de números ingresados es [1.0, 2.0, 0.0, 3.0, 5.0]\n",
            "El promedio de los valores de la secuencia es 2.2\n",
            "La lista de números mayores al promedio de la secuencia es [3.0, 5.0]\n",
            "El promedio de los valores de la secuencia es 4.0\n"
          ]
        }
      ],
      "source": [
        "#Lo primero que se debe de hacer es crear dos listas vacías que contendrán la secuencia y los valores mayores que su promedio.\n",
        "lista = []\n",
        "lista_promedio = []\n",
        "x = 0\n",
        "\n",
        "#En segundo lugar, creo un ciclo que permita ingresar tantos números como se deseen, hasta que se ingrese el -1. Los vuelvo flotantes para que el ejercicio pueda usar decimales, y finalmente calculo el promedio.\n",
        "while x != -1:\n",
        "  x = float(input(\"Ingrese un número: \"))\n",
        "  if x != -1:\n",
        "    lista.append(x)\n",
        "  else:\n",
        "    break\n",
        "promedio_secuencia = sum(lista)/len(lista)\n",
        "\n",
        "#Una vez tenga toda la lista, la recorro, buscando y agregando a la segunda lista, aquellos valores mayores al promedio.\n",
        "for i in lista:\n",
        "  if i > promedio_secuencia:\n",
        "    lista_promedio.append(i)\n",
        "promedio_mayores = sum(lista_promedio)/len(lista_promedio)\n",
        "\n",
        "#Imprimo los resultados.\n",
        "print(\"**********RESULTADOS**********\")\n",
        "print(f\"La lista de números ingresados es {lista}.\")\n",
        "print(f\"El promedio de los valores de la secuencia es {round(promedio_secuencia,2)}.\")\n",
        "print(f\"La lista de números mayores al promedio de la secuencia es {lista_promedio}.\")\n",
        "print(f\"El promedio de los valores mayores al promedio de la secuencia es {round(promedio_mayores,2)}.\")"
      ]
    },
    {
      "cell_type": "code",
      "source": [
        "#En primer lugar, pido que se ingresen los números de la lista, los separo, y los convierto en flotantes.\n",
        "entrada = input(\"Ingrese los números de la lista separados por espacio: \")\n",
        "lista = entrada.split()\n",
        "for i in range(len(lista)):\n",
        "  lista[i] = float(lista[i])\n",
        "lista.sort()\n",
        "x = float(input(\"Ingrese el número de referencia: \"))\n",
        "\n",
        "#Ahora recorremos toda la lista y hacemos tupla con cada par posible de números.\n",
        "lista_tuplas = []\n",
        "#Lo que hago en este punto es intentar recorrer toda la lista, desde cada valor, es decir, desde el primero, todos los siguientes, desde el segundo, todos los siguientes, y así.\n",
        "for i in range(len(lista)):\n",
        "  c = i + 1\n",
        "  while c < len(lista):\n",
        "    tupla = (lista[i], lista[c])\n",
        "    lista_tuplas.append(tupla)\n",
        "    c += 1\n",
        "\n",
        "#Ahora recorro toda la lista de tuplas, para sacar los valores cercanos a la posición máxima.\n",
        "valmax = sum(lista_tuplas[0])\n",
        "posmax = 0\n",
        "#Recorro toda la lista, y actualizo sus valores cuando la diferencia numérica sea menor.\n",
        "for i in range(len(lista_tuplas)):\n",
        "  dif = abs(sum(lista_tuplas[i]) - x)\n",
        "  if dif < abs(valmax - x):\n",
        "    posmax = i\n",
        "    valmax = sum(lista_tuplas[i])\n",
        "\n",
        "print(\"**********RESULTADO**********\")\n",
        "print(f\"La dupla de valores cuya suma más se acerca es {lista_tuplas[posmax][0]} y {lista_tuplas[posmax][1]}\")\n",
        "print(f\"El valor sumado que más se acerca al de referencia es {valmax}\")"
      ],
      "metadata": {
        "colab": {
          "base_uri": "https://localhost:8080/"
        },
        "id": "HhOzu5ewka1b",
        "outputId": "b8cd8f2a-8526-47c9-83f9-494902b9a48a"
      },
      "execution_count": null,
      "outputs": [
        {
          "output_type": "stream",
          "name": "stdout",
          "text": [
            "Ingrese los números de la lista separados por espacio: 22 29 10 29 30 40\n",
            "Ingrese el número de referencia: 54\n",
            "La dupla de valores cuya suma más se acerca es 22.0 y 30.0\n",
            "El valor sumado que más se acerca al de referencia es 52.0\n"
          ]
        }
      ]
    }
  ]
}